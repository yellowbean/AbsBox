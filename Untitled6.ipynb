{
 "cells": [
  {
   "cell_type": "code",
   "execution_count": 1,
   "id": "337c4ac0",
   "metadata": {},
   "outputs": [],
   "source": [
    "def mkTest(x):\n",
    "    match x:\n",
    "        case (\"A\",a)|(\"B\",a) if isinstance(a, float):\n",
    "            return \"A\"\n",
    "        case (\"A\",a)|(\"B\",a) :\n",
    "            return \"B\"        "
   ]
  },
  {
   "cell_type": "code",
   "execution_count": 5,
   "id": "494be53c",
   "metadata": {},
   "outputs": [
    {
     "data": {
      "text/plain": [
       "'B'"
      ]
     },
     "execution_count": 5,
     "metadata": {},
     "output_type": "execute_result"
    }
   ],
   "source": [
    "mkTest((\"B\",2))"
   ]
  },
  {
   "cell_type": "code",
   "execution_count": null,
   "id": "1a219352",
   "metadata": {},
   "outputs": [],
   "source": []
  }
 ],
 "metadata": {
  "kernelspec": {
   "display_name": "Python 3 (ipykernel)",
   "language": "python",
   "name": "python3"
  },
  "language_info": {
   "codemirror_mode": {
    "name": "ipython",
    "version": 3
   },
   "file_extension": ".py",
   "mimetype": "text/x-python",
   "name": "python",
   "nbconvert_exporter": "python",
   "pygments_lexer": "ipython3",
   "version": "3.11.3"
  }
 },
 "nbformat": 4,
 "nbformat_minor": 5
}
