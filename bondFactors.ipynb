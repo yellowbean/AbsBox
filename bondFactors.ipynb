{
 "cells": [
  {
   "cell_type": "code",
   "execution_count": 13,
   "id": "d33d8358",
   "metadata": {},
   "outputs": [
    {
     "data": {
      "text/plain": [
       "[1, 2]"
      ]
     },
     "execution_count": 13,
     "metadata": {},
     "output_type": "execute_result"
    }
   ],
   "source": [
    "import toolz as tz\n",
    "\n",
    "\n",
    "list(tz.pluck(\"A\",[{\"A\":1},{\"A\":2}]))"
   ]
  },
  {
   "cell_type": "code",
   "execution_count": 7,
   "id": "c7713b41",
   "metadata": {},
   "outputs": [],
   "source": [
    "%load_ext autoreload\n",
    "%autoreload 2"
   ]
  },
  {
   "cell_type": "code",
   "execution_count": 52,
   "id": "6023b240",
   "metadata": {},
   "outputs": [],
   "source": [
    "from absbox import Generic,API\n",
    "\n",
    "test01 = Generic(\n",
    "    \"TEST01\"\n",
    "    ,{\"cutoff\":\"2021-03-01\",\"closing\":\"2021-06-15\",\"firstPay\":\"2021-07-26\"\n",
    "     ,\"payFreq\":[\"DayOfMonth\",20],\"poolFreq\":\"MonthEnd\",\"stated\":\"2030-01-01\"}\n",
    "    ,{'assets':[[\"Mortgage\"\n",
    "        ,{\"originBalance\":2200,\"originRate\":[\"fix\",0.045],\"originTerm\":30\n",
    "          ,\"freq\":\"Monthly\",\"type\":\"Level\",\"originDate\":\"2021-02-01\"}\n",
    "          ,{\"currentBalance\":2200\n",
    "          ,\"currentRate\":0.08\n",
    "          ,\"remainTerm\":20\n",
    "          ,\"status\":\"current\"}]]}\n",
    "    ,((\"acc01\",{\"balance\":0}),)\n",
    "    ,((\"A1\",{\"balance\":1000\n",
    "             ,\"rate\":0.07\n",
    "             ,\"originBalance\":1000\n",
    "             ,\"originRate\":0.07\n",
    "             ,\"startDate\":\"2020-01-03\"\n",
    "             ,\"rateType\":{\"Fixed\":0.08}\n",
    "             ,\"bondType\":{\"Sequential\":None}})\n",
    "      ,(\"B\",{\"balance\":1000\n",
    "             ,\"rate\":0.0\n",
    "             ,\"originBalance\":1000\n",
    "             ,\"originRate\":0.07\n",
    "             ,\"startDate\":\"2020-01-03\"\n",
    "             ,\"rateType\":{\"Fixed\":0.00}\n",
    "             ,\"bondType\":{\"Equity\":None}\n",
    "             }))\n",
    "    ,((\"trusteeFee\",{\"type\":{\"fixFee\":30}}),)\n",
    "    ,{\"amortizing\":[\n",
    "         [\"payFee\",\"acc01\",['trusteeFee']]\n",
    "         ,[\"accrueAndPayInt\",\"acc01\",[\"A1\"]]\n",
    "         ,[\"payPrin\",\"acc01\",[\"A1\"]]\n",
    "         ,[\"payPrin\",\"acc01\",[\"B\"]]\n",
    "         ,[\"payIntResidual\",\"acc01\",\"B\"]\n",
    "     ]}\n",
    "    ,[[\"CollectedInterest\",\"acc01\"]\n",
    "      ,[\"CollectedPrincipal\",\"acc01\"]\n",
    "      ,[\"CollectedPrepayment\",\"acc01\"]\n",
    "      ,[\"CollectedRecoveries\",\"acc01\"]]\n",
    "    ,None\n",
    "    ,None\n",
    "    ,None\n",
    "    ,None\n",
    "    ,(\"PreClosing\",\"Amortizing\")\n",
    "    )"
   ]
  },
  {
   "cell_type": "code",
   "execution_count": 61,
   "id": "cc3b046a",
   "metadata": {},
   "outputs": [
    {
     "data": {
      "text/html": [
       "<pre style=\"white-space:pre;overflow-x:auto;line-height:normal;font-family:Menlo,'DejaVu Sans Mono',consolas,'Courier New',monospace\"><span style=\"color: #008000; text-decoration-color: #008000\">⠹</span> <span style=\"color: #800080; text-decoration-color: #800080; font-weight: bold\">Connecting engine server -&gt; https://absbox.org/api/latest</span>\n",
       "</pre>\n"
      ],
      "text/plain": [
       "\u001b[32m⠹\u001b[0m \u001b[1;35mConnecting engine server -> https://absbox.org/api/latest\u001b[0m\n"
      ]
     },
     "metadata": {},
     "output_type": "display_data"
    },
    {
     "data": {
      "text/html": [
       "<pre style=\"white-space:pre;overflow-x:auto;line-height:normal;font-family:Menlo,'DejaVu Sans Mono',consolas,'Courier New',monospace\"></pre>\n"
      ],
      "text/plain": []
     },
     "metadata": {},
     "output_type": "display_data"
    },
    {
     "data": {
      "text/html": [
       "<pre style=\"white-space:pre;overflow-x:auto;line-height:normal;font-family:Menlo,'DejaVu Sans Mono',consolas,'Courier New',monospace\">✅<span style=\"color: #008000; text-decoration-color: #008000; font-weight: bold\">Connected, local lib:0.</span><span style=\"color: #008000; text-decoration-color: #008000; font-weight: bold\">26.0</span><span style=\"color: #008000; text-decoration-color: #008000; font-weight: bold\">, server:</span><span style=\"color: #008000; text-decoration-color: #008000; font-weight: bold\">0.24</span><span style=\"color: #008000; text-decoration-color: #008000; font-weight: bold\">.</span><span style=\"color: #008000; text-decoration-color: #008000; font-weight: bold\">3</span>\n",
       "</pre>\n"
      ],
      "text/plain": [
       "✅\u001b[1;32mConnected, local li\u001b[0m\u001b[1;32mb:0\u001b[0m\u001b[1;32m.\u001b[0m\u001b[1;32m26.0\u001b[0m\u001b[1;32m, server:\u001b[0m\u001b[1;32m0.24\u001b[0m\u001b[1;32m.\u001b[0m\u001b[1;32m3\u001b[0m\n"
      ]
     },
     "metadata": {},
     "output_type": "display_data"
    }
   ],
   "source": [
    "# setting default language\n",
    "#localAPI = API(\"http://localhost:8081\",lang='english')\n",
    "localAPI = API(\"https://absbox.org/api/latest\",lang='english',check=False)"
   ]
  },
  {
   "cell_type": "code",
   "execution_count": 62,
   "id": "41e431db",
   "metadata": {
    "scrolled": true
   },
   "outputs": [
    {
     "data": {
      "text/html": [
       "<pre style=\"white-space:pre;overflow-x:auto;line-height:normal;font-family:Menlo,'DejaVu Sans Mono',consolas,'Courier New',monospace\"><span style=\"color: #008000; text-decoration-color: #008000\">⠏</span>\n",
       "</pre>\n"
      ],
      "text/plain": [
       "\u001b[32m⠏\u001b[0m\n"
      ]
     },
     "metadata": {},
     "output_type": "display_data"
    },
    {
     "data": {
      "text/html": [
       "<pre style=\"white-space:pre;overflow-x:auto;line-height:normal;font-family:Menlo,'DejaVu Sans Mono',consolas,'Courier New',monospace\"></pre>\n"
      ],
      "text/plain": []
     },
     "metadata": {},
     "output_type": "display_data"
    },
    {
     "name": "stdout",
     "output_type": "stream",
     "text": [
      "col ['date', 'balance', 'interest', 'principal', 'rate', 'cash', 'memo']\n",
      "col ['date', 'balance', 'interest', 'principal', 'rate', 'cash', 'memo']\n"
     ]
    }
   ],
   "source": [
    "r = localAPI.run(test01\n",
    "               ,poolAssump = None\n",
    "               ,runAssump = []\n",
    "               ,read=True)"
   ]
  },
  {
   "cell_type": "code",
   "execution_count": 60,
   "id": "55d90326",
   "metadata": {},
   "outputs": [
    {
     "data": {
      "text/html": [
       "<div>\n",
       "<style scoped>\n",
       "    .dataframe tbody tr th:only-of-type {\n",
       "        vertical-align: middle;\n",
       "    }\n",
       "\n",
       "    .dataframe tbody tr th {\n",
       "        vertical-align: top;\n",
       "    }\n",
       "\n",
       "    .dataframe thead th {\n",
       "        text-align: right;\n",
       "    }\n",
       "</style>\n",
       "<table border=\"1\" class=\"dataframe\">\n",
       "  <thead>\n",
       "    <tr style=\"text-align: right;\">\n",
       "      <th></th>\n",
       "      <th>balance</th>\n",
       "      <th>interest</th>\n",
       "      <th>principal</th>\n",
       "      <th>rate</th>\n",
       "      <th>cash</th>\n",
       "      <th>factor</th>\n",
       "      <th>memo</th>\n",
       "    </tr>\n",
       "    <tr>\n",
       "      <th>date</th>\n",
       "      <th></th>\n",
       "      <th></th>\n",
       "      <th></th>\n",
       "      <th></th>\n",
       "      <th></th>\n",
       "      <th></th>\n",
       "      <th></th>\n",
       "    </tr>\n",
       "  </thead>\n",
       "  <tbody>\n",
       "    <tr>\n",
       "      <th>2021-07-26</th>\n",
       "      <td>1000.00</td>\n",
       "      <td>0.00</td>\n",
       "      <td>0.00</td>\n",
       "      <td>0.07</td>\n",
       "      <td>0.00</td>\n",
       "      <td>1.00000</td>\n",
       "      <td>[&lt;PayInt:A1&gt;, &lt;PayPrin:A1&gt;]</td>\n",
       "    </tr>\n",
       "    <tr>\n",
       "      <th>2021-08-20</th>\n",
       "      <td>1000.00</td>\n",
       "      <td>0.00</td>\n",
       "      <td>0.00</td>\n",
       "      <td>0.07</td>\n",
       "      <td>0.00</td>\n",
       "      <td>1.00000</td>\n",
       "      <td>[&lt;PayInt:A1&gt;, &lt;PayPrin:A1&gt;]</td>\n",
       "    </tr>\n",
       "    <tr>\n",
       "      <th>2021-09-20</th>\n",
       "      <td>1000.00</td>\n",
       "      <td>0.00</td>\n",
       "      <td>0.00</td>\n",
       "      <td>0.07</td>\n",
       "      <td>0.00</td>\n",
       "      <td>1.00000</td>\n",
       "      <td>[&lt;PayInt:A1&gt;, &lt;PayPrin:A1&gt;]</td>\n",
       "    </tr>\n",
       "    <tr>\n",
       "      <th>2021-10-20</th>\n",
       "      <td>1000.00</td>\n",
       "      <td>0.00</td>\n",
       "      <td>0.00</td>\n",
       "      <td>0.07</td>\n",
       "      <td>0.00</td>\n",
       "      <td>1.00000</td>\n",
       "      <td>[&lt;PayInt:A1&gt;, &lt;PayPrin:A1&gt;]</td>\n",
       "    </tr>\n",
       "    <tr>\n",
       "      <th>2021-11-20</th>\n",
       "      <td>1000.00</td>\n",
       "      <td>0.00</td>\n",
       "      <td>0.00</td>\n",
       "      <td>0.07</td>\n",
       "      <td>0.00</td>\n",
       "      <td>1.00000</td>\n",
       "      <td>[&lt;PayInt:A1&gt;, &lt;PayPrin:A1&gt;]</td>\n",
       "    </tr>\n",
       "    <tr>\n",
       "      <th>2021-12-20</th>\n",
       "      <td>1000.00</td>\n",
       "      <td>0.00</td>\n",
       "      <td>0.00</td>\n",
       "      <td>0.07</td>\n",
       "      <td>0.00</td>\n",
       "      <td>1.00000</td>\n",
       "      <td>[&lt;PayInt:A1&gt;, &lt;PayPrin:A1&gt;]</td>\n",
       "    </tr>\n",
       "    <tr>\n",
       "      <th>2022-01-20</th>\n",
       "      <td>1000.00</td>\n",
       "      <td>0.00</td>\n",
       "      <td>0.00</td>\n",
       "      <td>0.07</td>\n",
       "      <td>0.00</td>\n",
       "      <td>1.00000</td>\n",
       "      <td>[&lt;PayInt:A1&gt;, &lt;PayPrin:A1&gt;]</td>\n",
       "    </tr>\n",
       "    <tr>\n",
       "      <th>2022-02-20</th>\n",
       "      <td>961.07</td>\n",
       "      <td>48.93</td>\n",
       "      <td>38.93</td>\n",
       "      <td>0.07</td>\n",
       "      <td>87.86</td>\n",
       "      <td>0.96107</td>\n",
       "      <td>[&lt;PayInt:A1&gt;, &lt;PayPrin:A1&gt;]</td>\n",
       "    </tr>\n",
       "    <tr>\n",
       "      <th>2022-03-20</th>\n",
       "      <td>848.37</td>\n",
       "      <td>5.16</td>\n",
       "      <td>112.70</td>\n",
       "      <td>0.07</td>\n",
       "      <td>117.86</td>\n",
       "      <td>0.84837</td>\n",
       "      <td>[&lt;PayInt:A1&gt;, &lt;PayPrin:A1&gt;]</td>\n",
       "    </tr>\n",
       "    <tr>\n",
       "      <th>2022-04-20</th>\n",
       "      <td>735.55</td>\n",
       "      <td>5.04</td>\n",
       "      <td>112.82</td>\n",
       "      <td>0.07</td>\n",
       "      <td>117.86</td>\n",
       "      <td>0.73555</td>\n",
       "      <td>[&lt;PayInt:A1&gt;, &lt;PayPrin:A1&gt;]</td>\n",
       "    </tr>\n",
       "    <tr>\n",
       "      <th>2022-05-20</th>\n",
       "      <td>621.92</td>\n",
       "      <td>4.23</td>\n",
       "      <td>113.63</td>\n",
       "      <td>0.07</td>\n",
       "      <td>117.86</td>\n",
       "      <td>0.62192</td>\n",
       "      <td>[&lt;PayInt:A1&gt;, &lt;PayPrin:A1&gt;]</td>\n",
       "    </tr>\n",
       "    <tr>\n",
       "      <th>2022-06-20</th>\n",
       "      <td>507.76</td>\n",
       "      <td>3.69</td>\n",
       "      <td>114.16</td>\n",
       "      <td>0.07</td>\n",
       "      <td>117.85</td>\n",
       "      <td>0.50776</td>\n",
       "      <td>[&lt;PayInt:A1&gt;, &lt;PayPrin:A1&gt;]</td>\n",
       "    </tr>\n",
       "    <tr>\n",
       "      <th>2022-07-20</th>\n",
       "      <td>392.82</td>\n",
       "      <td>2.92</td>\n",
       "      <td>114.94</td>\n",
       "      <td>0.07</td>\n",
       "      <td>117.86</td>\n",
       "      <td>0.39282</td>\n",
       "      <td>[&lt;PayInt:A1&gt;, &lt;PayPrin:A1&gt;]</td>\n",
       "    </tr>\n",
       "    <tr>\n",
       "      <th>2022-08-20</th>\n",
       "      <td>277.30</td>\n",
       "      <td>2.33</td>\n",
       "      <td>115.52</td>\n",
       "      <td>0.07</td>\n",
       "      <td>117.85</td>\n",
       "      <td>0.27730</td>\n",
       "      <td>[&lt;PayInt:A1&gt;, &lt;PayPrin:A1&gt;]</td>\n",
       "    </tr>\n",
       "    <tr>\n",
       "      <th>2022-09-20</th>\n",
       "      <td>161.09</td>\n",
       "      <td>1.64</td>\n",
       "      <td>116.21</td>\n",
       "      <td>0.07</td>\n",
       "      <td>117.85</td>\n",
       "      <td>0.16109</td>\n",
       "      <td>[&lt;PayInt:A1&gt;, &lt;PayPrin:A1&gt;]</td>\n",
       "    </tr>\n",
       "    <tr>\n",
       "      <th>2022-10-20</th>\n",
       "      <td>44.15</td>\n",
       "      <td>0.92</td>\n",
       "      <td>116.94</td>\n",
       "      <td>0.07</td>\n",
       "      <td>117.86</td>\n",
       "      <td>0.04415</td>\n",
       "      <td>[&lt;PayInt:A1&gt;, &lt;PayPrin:A1&gt;]</td>\n",
       "    </tr>\n",
       "    <tr>\n",
       "      <th>2022-11-20</th>\n",
       "      <td>0.00</td>\n",
       "      <td>0.26</td>\n",
       "      <td>44.15</td>\n",
       "      <td>0.07</td>\n",
       "      <td>44.41</td>\n",
       "      <td>0.00000</td>\n",
       "      <td>[&lt;PayInt:A1&gt;, &lt;PayPrin:A1&gt;]</td>\n",
       "    </tr>\n",
       "  </tbody>\n",
       "</table>\n",
       "</div>"
      ],
      "text/plain": [
       "            balance  interest  principal  rate    cash   factor  \\\n",
       "date                                                              \n",
       "2021-07-26  1000.00      0.00       0.00  0.07    0.00  1.00000   \n",
       "2021-08-20  1000.00      0.00       0.00  0.07    0.00  1.00000   \n",
       "2021-09-20  1000.00      0.00       0.00  0.07    0.00  1.00000   \n",
       "2021-10-20  1000.00      0.00       0.00  0.07    0.00  1.00000   \n",
       "2021-11-20  1000.00      0.00       0.00  0.07    0.00  1.00000   \n",
       "2021-12-20  1000.00      0.00       0.00  0.07    0.00  1.00000   \n",
       "2022-01-20  1000.00      0.00       0.00  0.07    0.00  1.00000   \n",
       "2022-02-20   961.07     48.93      38.93  0.07   87.86  0.96107   \n",
       "2022-03-20   848.37      5.16     112.70  0.07  117.86  0.84837   \n",
       "2022-04-20   735.55      5.04     112.82  0.07  117.86  0.73555   \n",
       "2022-05-20   621.92      4.23     113.63  0.07  117.86  0.62192   \n",
       "2022-06-20   507.76      3.69     114.16  0.07  117.85  0.50776   \n",
       "2022-07-20   392.82      2.92     114.94  0.07  117.86  0.39282   \n",
       "2022-08-20   277.30      2.33     115.52  0.07  117.85  0.27730   \n",
       "2022-09-20   161.09      1.64     116.21  0.07  117.85  0.16109   \n",
       "2022-10-20    44.15      0.92     116.94  0.07  117.86  0.04415   \n",
       "2022-11-20     0.00      0.26      44.15  0.07   44.41  0.00000   \n",
       "\n",
       "                                   memo  \n",
       "date                                     \n",
       "2021-07-26  [<PayInt:A1>, <PayPrin:A1>]  \n",
       "2021-08-20  [<PayInt:A1>, <PayPrin:A1>]  \n",
       "2021-09-20  [<PayInt:A1>, <PayPrin:A1>]  \n",
       "2021-10-20  [<PayInt:A1>, <PayPrin:A1>]  \n",
       "2021-11-20  [<PayInt:A1>, <PayPrin:A1>]  \n",
       "2021-12-20  [<PayInt:A1>, <PayPrin:A1>]  \n",
       "2022-01-20  [<PayInt:A1>, <PayPrin:A1>]  \n",
       "2022-02-20  [<PayInt:A1>, <PayPrin:A1>]  \n",
       "2022-03-20  [<PayInt:A1>, <PayPrin:A1>]  \n",
       "2022-04-20  [<PayInt:A1>, <PayPrin:A1>]  \n",
       "2022-05-20  [<PayInt:A1>, <PayPrin:A1>]  \n",
       "2022-06-20  [<PayInt:A1>, <PayPrin:A1>]  \n",
       "2022-07-20  [<PayInt:A1>, <PayPrin:A1>]  \n",
       "2022-08-20  [<PayInt:A1>, <PayPrin:A1>]  \n",
       "2022-09-20  [<PayInt:A1>, <PayPrin:A1>]  \n",
       "2022-10-20  [<PayInt:A1>, <PayPrin:A1>]  \n",
       "2022-11-20  [<PayInt:A1>, <PayPrin:A1>]  "
      ]
     },
     "execution_count": 60,
     "metadata": {},
     "output_type": "execute_result"
    }
   ],
   "source": [
    "r['bonds']['A1']"
   ]
  },
  {
   "cell_type": "code",
   "execution_count": 68,
   "id": "9f990b7d",
   "metadata": {},
   "outputs": [],
   "source": [
    "import finance_calculator as fc\n",
    "import datetime\n",
    "cashflow_data = [\n",
    "    (datetime.date(2020, 3, 1), 10000),\n",
    "    (datetime.date(2021, 3, 1), -10800),\n",
    "]"
   ]
  },
  {
   "cell_type": "code",
   "execution_count": 69,
   "id": "fe26ee7b",
   "metadata": {},
   "outputs": [
    {
     "data": {
      "text/plain": [
       "7.999999999998497"
      ]
     },
     "execution_count": 69,
     "metadata": {},
     "output_type": "execute_result"
    }
   ],
   "source": [
    "fc.get_xirr(cashflow_data)"
   ]
  },
  {
   "cell_type": "code",
   "execution_count": null,
   "id": "50a2d092",
   "metadata": {},
   "outputs": [],
   "source": []
  }
 ],
 "metadata": {
  "kernelspec": {
   "display_name": "Python 3 (ipykernel)",
   "language": "python",
   "name": "python3"
  },
  "language_info": {
   "codemirror_mode": {
    "name": "ipython",
    "version": 3
   },
   "file_extension": ".py",
   "mimetype": "text/x-python",
   "name": "python",
   "nbconvert_exporter": "python",
   "pygments_lexer": "ipython3",
   "version": "3.11.6"
  }
 },
 "nbformat": 4,
 "nbformat_minor": 5
}
