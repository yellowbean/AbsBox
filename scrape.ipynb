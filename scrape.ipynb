{
 "cells": [
  {
   "cell_type": "code",
   "execution_count": 11,
   "id": "e74f84d6",
   "metadata": {},
   "outputs": [],
   "source": [
    "import requests\n",
    "import json\n",
    "import sqlite3"
   ]
  },
  {
   "cell_type": "code",
   "execution_count": 40,
   "id": "8ffacbcd",
   "metadata": {},
   "outputs": [],
   "source": [
    "conn = sqlite3.connect(\"/home/xiaoyu/IdeaProjects/argus/main.db\")\n",
    "cur = conn.cursor()\n",
    "res = cur.execute(\"select distinct(bondCode) from issuance\")\n",
    "p = {\"bondType\":999999,\"pageNo\":1,\"pageSize\":25}\n",
    "u = \"https://www.chinamoney.com.cn/ags/ms/cm-u-bond-md/BondMarketInfoList2\"\n",
    "\n",
    "from datetime import datetime\n",
    "import time\n",
    "\n",
    "def splitRecords(current):\n",
    "    res = cur.execute(\"select distinct(bondCode) from issuance\")\n",
    "    existing_codes = set(res.fetchall())\n",
    "    new = [ x for x in current if (x['bondCode'] not in existing_codes) ]\n",
    "    if len(new)==len(current):\n",
    "        return (new,False) # need to fetch next page\n",
    "    else:\n",
    "        return (new,True)\n",
    "\n",
    "#'bondDefinedCode': 'dhgghhea6y',\n",
    "#'bondName': '22瑞泽2优先',\n",
    "#'bondCode': '2289223',\n",
    "#'issueStartDate': '2022-08-29',\n",
    "#'issueEndDate': '2022-08-29',\n",
    "#'bondTypeCode': '999999',\n",
    "#'bondType': '资产支持证券',\n",
    "#'entyFullName': '安徽国元信托有限责任公司',\n",
    "#'entyDefinedCode': '102793',\n",
    "#'debtRtng': 'AAA',\n",
    "#'isin': None,\n",
    "#'inptTp': '0'    \n",
    "    \n",
    "    \n",
    "def saveToDb(ds):\n",
    "    for d in ds:\n",
    "        print(\"inserting\",d['bondName'])\n",
    "        fs = \"'\"+\"','\".join(d.keys())+\"'\"\n",
    "        vs = \"'\"+\"','\".join(d.values())+\"'\"\n",
    "        cur.execute(f\"INSERT INTO issuance ({fs},'ts') VALUES (,{str(datetime.now())})\")\n",
    "    conn.commit()\n",
    "        \n",
    "\n",
    "def fetch_page(pg,acc=None):\n",
    "    p.update({\"pageNo\":pg})\n",
    "    try:\n",
    "        r = requests.post(u,p)\n",
    "        time.sleep(3)\n",
    "        result = json.loads(r.text)['data']['resultList']\n",
    "        \n",
    "    except Exception as e:\n",
    "        print(r.text)\n",
    "        print(\"Error\",e)\n",
    "    except JSONDecodeError as e:\n",
    "        print(\"Error\",r.text,r)\n",
    "        \n",
    "    left,enough = splitRecords(result)\n",
    "    \n",
    "    if enough:\n",
    "        saveToDb(left+acc)\n",
    "        return True\n",
    "    else:\n",
    "        fetch_page(pg+1,left)"
   ]
  },
  {
   "cell_type": "code",
   "execution_count": 41,
   "id": "ca5f5a4e",
   "metadata": {},
   "outputs": [
    {
     "name": "stdout",
     "output_type": "stream",
     "text": [
      "There are too many connections from your internet address[2409:8a1e:1a73:e520:3539:720:c5e8:e500] to url [/ags/ms/cm-u-bond-md/BondMarketInfoList2]\n",
      "\n",
      "Error Expecting value: line 1 column 1 (char 0)\n"
     ]
    },
    {
     "ename": "UnboundLocalError",
     "evalue": "local variable 'result' referenced before assignment",
     "output_type": "error",
     "traceback": [
      "\u001b[0;31m---------------------------------------------------------------------------\u001b[0m",
      "\u001b[0;31mUnboundLocalError\u001b[0m                         Traceback (most recent call last)",
      "Input \u001b[0;32mIn [41]\u001b[0m, in \u001b[0;36m<cell line: 1>\u001b[0;34m()\u001b[0m\n\u001b[0;32m----> 1\u001b[0m \u001b[43mfetch_page\u001b[49m\u001b[43m(\u001b[49m\u001b[38;5;241;43m1\u001b[39;49m\u001b[43m)\u001b[49m\n",
      "Input \u001b[0;32mIn [40]\u001b[0m, in \u001b[0;36mfetch_page\u001b[0;34m(pg, acc)\u001b[0m\n\u001b[1;32m     48\u001b[0m \u001b[38;5;28;01mexcept\u001b[39;00m JSONDecodeError \u001b[38;5;28;01mas\u001b[39;00m e:\n\u001b[1;32m     49\u001b[0m     \u001b[38;5;28mprint\u001b[39m(\u001b[38;5;124m\"\u001b[39m\u001b[38;5;124mError\u001b[39m\u001b[38;5;124m\"\u001b[39m,r\u001b[38;5;241m.\u001b[39mtext,r)\n\u001b[0;32m---> 51\u001b[0m left,enough \u001b[38;5;241m=\u001b[39m splitRecords(\u001b[43mresult\u001b[49m)\n\u001b[1;32m     53\u001b[0m \u001b[38;5;28;01mif\u001b[39;00m enough:\n\u001b[1;32m     54\u001b[0m     saveToDb(left\u001b[38;5;241m+\u001b[39macc)\n",
      "\u001b[0;31mUnboundLocalError\u001b[0m: local variable 'result' referenced before assignment"
     ]
    }
   ],
   "source": [
    "fetch_page(1)"
   ]
  },
  {
   "cell_type": "code",
   "execution_count": 10,
   "id": "bb849390",
   "metadata": {
    "scrolled": true
   },
   "outputs": [
    {
     "data": {
      "text/plain": [
       "[{'bondDefinedCode': 'dhgghhea6y',\n",
       "  'bondName': '22瑞泽2优先',\n",
       "  'bondCode': '2289223',\n",
       "  'issueStartDate': '2022-08-29',\n",
       "  'issueEndDate': '2022-08-29',\n",
       "  'bondTypeCode': '999999',\n",
       "  'bondType': '资产支持证券',\n",
       "  'entyFullName': '安徽国元信托有限责任公司',\n",
       "  'entyDefinedCode': '102793',\n",
       "  'debtRtng': 'AAA',\n",
       "  'isin': None,\n",
       "  'inptTp': '0'},\n",
       " {'bondDefinedCode': 'dhgggiwyyz',\n",
       "  'bondName': '22瑞泽2C',\n",
       "  'bondCode': '2289224',\n",
       "  'issueStartDate': '2022-08-29',\n",
       "  'issueEndDate': '2022-08-29',\n",
       "  'bondTypeCode': '999999',\n",
       "  'bondType': '资产支持证券',\n",
       "  'entyFullName': '安徽国元信托有限责任公司',\n",
       "  'entyDefinedCode': '102793',\n",
       "  'debtRtng': '---',\n",
       "  'isin': None,\n",
       "  'inptTp': '0'},\n",
       " {'bondDefinedCode': 'dhgfhptwj4',\n",
       "  'bondName': '22常兴业2优先A1',\n",
       "  'bondCode': '2289212',\n",
       "  'issueStartDate': '2022-08-25',\n",
       "  'issueEndDate': '2022-08-25',\n",
       "  'bondTypeCode': '999999',\n",
       "  'bondType': '资产支持证券',\n",
       "  'entyFullName': '中建投信托股份有限公司(原：中建投信托有限责任公司)',\n",
       "  'entyDefinedCode': '103006',\n",
       "  'debtRtng': 'AAA',\n",
       "  'isin': None,\n",
       "  'inptTp': '0'},\n",
       " {'bondDefinedCode': 'dhgfg0drm0',\n",
       "  'bondName': '22常兴业2优先A2',\n",
       "  'bondCode': '2289213',\n",
       "  'issueStartDate': '2022-08-25',\n",
       "  'issueEndDate': '2022-08-25',\n",
       "  'bondTypeCode': '999999',\n",
       "  'bondType': '资产支持证券',\n",
       "  'entyFullName': '中建投信托股份有限公司(原：中建投信托有限责任公司)',\n",
       "  'entyDefinedCode': '103006',\n",
       "  'debtRtng': 'AAA',\n",
       "  'isin': None,\n",
       "  'inptTp': '0'},\n",
       " {'bondDefinedCode': 'dhgffi4i2a',\n",
       "  'bondName': '22常兴业2优先B',\n",
       "  'bondCode': '2289214',\n",
       "  'issueStartDate': '2022-08-25',\n",
       "  'issueEndDate': '2022-08-25',\n",
       "  'bondTypeCode': '999999',\n",
       "  'bondType': '资产支持证券',\n",
       "  'entyFullName': '中建投信托股份有限公司(原：中建投信托有限责任公司)',\n",
       "  'entyDefinedCode': '103006',\n",
       "  'debtRtng': 'AA+',\n",
       "  'isin': None,\n",
       "  'inptTp': '0'},\n",
       " {'bondDefinedCode': 'dhgfedi1hz',\n",
       "  'bondName': '22常兴业2优先C',\n",
       "  'bondCode': '2289215',\n",
       "  'issueStartDate': '2022-08-25',\n",
       "  'issueEndDate': '2022-08-25',\n",
       "  'bondTypeCode': '999999',\n",
       "  'bondType': '资产支持证券',\n",
       "  'entyFullName': '中建投信托股份有限公司(原：中建投信托有限责任公司)',\n",
       "  'entyDefinedCode': '103006',\n",
       "  'debtRtng': 'BBB',\n",
       "  'isin': None,\n",
       "  'inptTp': '0'},\n",
       " {'bondDefinedCode': 'dhgfdmid5r',\n",
       "  'bondName': '22常兴业2次级',\n",
       "  'bondCode': '2289216',\n",
       "  'issueStartDate': '2022-08-25',\n",
       "  'issueEndDate': '2022-08-25',\n",
       "  'bondTypeCode': '999999',\n",
       "  'bondType': '资产支持证券',\n",
       "  'entyFullName': '中建投信托股份有限公司(原：中建投信托有限责任公司)',\n",
       "  'entyDefinedCode': '103006',\n",
       "  'debtRtng': '---',\n",
       "  'isin': None,\n",
       "  'inptTp': '0'},\n",
       " {'bondDefinedCode': 'dhgfc9vi15',\n",
       "  'bondName': '22安顺1优先A',\n",
       "  'bondCode': '2289208',\n",
       "  'issueStartDate': '2022-08-25',\n",
       "  'issueEndDate': '2022-08-25',\n",
       "  'bondTypeCode': '999999',\n",
       "  'bondType': '资产支持证券',\n",
       "  'entyFullName': '平安信托有限责任公司',\n",
       "  'entyDefinedCode': '100368',\n",
       "  'debtRtng': 'AAA',\n",
       "  'isin': None,\n",
       "  'inptTp': '0'},\n",
       " {'bondDefinedCode': 'dhgfbu65vx',\n",
       "  'bondName': '22安顺1优先B',\n",
       "  'bondCode': '2289209',\n",
       "  'issueStartDate': '2022-08-25',\n",
       "  'issueEndDate': '2022-08-25',\n",
       "  'bondTypeCode': '999999',\n",
       "  'bondType': '资产支持证券',\n",
       "  'entyFullName': '平安信托有限责任公司',\n",
       "  'entyDefinedCode': '100368',\n",
       "  'debtRtng': 'AA+',\n",
       "  'isin': None,\n",
       "  'inptTp': '0'},\n",
       " {'bondDefinedCode': 'dhgfa0k3nk',\n",
       "  'bondName': '22安顺1优先C',\n",
       "  'bondCode': '2289210',\n",
       "  'issueStartDate': '2022-08-25',\n",
       "  'issueEndDate': '2022-08-25',\n",
       "  'bondTypeCode': '999999',\n",
       "  'bondType': '资产支持证券',\n",
       "  'entyFullName': '平安信托有限责任公司',\n",
       "  'entyDefinedCode': '100368',\n",
       "  'debtRtng': 'A-',\n",
       "  'isin': None,\n",
       "  'inptTp': '0'},\n",
       " {'bondDefinedCode': 'dhgejqpf2n',\n",
       "  'bondName': '22安顺1次级',\n",
       "  'bondCode': '2289211',\n",
       "  'issueStartDate': '2022-08-25',\n",
       "  'issueEndDate': '2022-08-25',\n",
       "  'bondTypeCode': '999999',\n",
       "  'bondType': '资产支持证券',\n",
       "  'entyFullName': '平安信托有限责任公司',\n",
       "  'entyDefinedCode': '100368',\n",
       "  'debtRtng': '---',\n",
       "  'isin': None,\n",
       "  'inptTp': '0'},\n",
       " {'bondDefinedCode': 'dhdbb6scg3',\n",
       "  'bondName': '22惠元3C',\n",
       "  'bondCode': '2289222',\n",
       "  'issueStartDate': '2022-08-23',\n",
       "  'issueEndDate': '2022-08-23',\n",
       "  'bondTypeCode': '999999',\n",
       "  'bondType': '资产支持证券',\n",
       "  'entyFullName': '中信信托有限责任公司',\n",
       "  'entyDefinedCode': '100020',\n",
       "  'debtRtng': '---',\n",
       "  'isin': None,\n",
       "  'inptTp': '0'},\n",
       " {'bondDefinedCode': 'dhdbaa6ogp',\n",
       "  'bondName': '22惠元3优先',\n",
       "  'bondCode': '2289221',\n",
       "  'issueStartDate': '2022-08-23',\n",
       "  'issueEndDate': '2022-08-23',\n",
       "  'bondTypeCode': '999999',\n",
       "  'bondType': '资产支持证券',\n",
       "  'entyFullName': '中信信托有限责任公司',\n",
       "  'entyDefinedCode': '100020',\n",
       "  'debtRtng': 'AAA',\n",
       "  'isin': None,\n",
       "  'inptTp': '0'},\n",
       " {'bondDefinedCode': 'dhcjfakkwy',\n",
       "  'bondName': '22睿程2优先_bc',\n",
       "  'bondCode': '2289201',\n",
       "  'issueStartDate': '2022-08-23',\n",
       "  'issueEndDate': '2022-08-23',\n",
       "  'bondTypeCode': '999999',\n",
       "  'bondType': '资产支持证券',\n",
       "  'entyFullName': '中国对外经济贸易信托有限公司',\n",
       "  'entyDefinedCode': '100050',\n",
       "  'debtRtng': 'AAA',\n",
       "  'isin': None,\n",
       "  'inptTp': '0'},\n",
       " {'bondDefinedCode': 'dhcjeu7vld',\n",
       "  'bondName': '22睿程2C_bc',\n",
       "  'bondCode': '2289202',\n",
       "  'issueStartDate': '2022-08-23',\n",
       "  'issueEndDate': '2022-08-23',\n",
       "  'bondTypeCode': '999999',\n",
       "  'bondType': '资产支持证券',\n",
       "  'entyFullName': '中国对外经济贸易信托有限公司',\n",
       "  'entyDefinedCode': '100050',\n",
       "  'debtRtng': '---',\n",
       "  'isin': None,\n",
       "  'inptTp': '0'}]"
      ]
     },
     "execution_count": 10,
     "metadata": {},
     "output_type": "execute_result"
    }
   ],
   "source": [
    "json.loads(r.text)['data']['resultList']"
   ]
  },
  {
   "cell_type": "code",
   "execution_count": null,
   "id": "238648ac",
   "metadata": {},
   "outputs": [],
   "source": [
    "https://www.chinamoney.com.cn/chinese/zqjc/?bondDefinedCode=dhgghhea6y"
   ]
  },
  {
   "cell_type": "code",
   "execution_count": 56,
   "id": "06f42cdd",
   "metadata": {},
   "outputs": [],
   "source": [
    "u = \"https://www.chinamoney.com.cn/ags/ms/cm-u-bond-md/BondDetailInfo\"\n",
    "\n",
    "conn = sqlite3.connect(\"/home/xiaoyu/IdeaProjects/argus/main.db\")\n",
    "cur = conn.cursor()"
   ]
  },
  {
   "cell_type": "code",
   "execution_count": 84,
   "id": "725f04d6",
   "metadata": {
    "scrolled": true
   },
   "outputs": [],
   "source": [
    "# https://www.chinamoney.com.cn/ags/ms/cm-u-bond-md/BondDetailInfo\n",
    "# bondDefinedCode: dhcjeu7vld\n",
    "# p = {\"bondDefinedCode\":\"dhcjeu7vld\"}\n",
    "\n",
    "\n",
    "def saveDetailToDb(d):\n",
    "    print(\"inserting\",d['bondFullName'])\n",
    "    fs = \"'\"+\"','\".join(d.keys())+\"'\"\n",
    "    vs = \"'\"+\"','\".join(d.values())+\"'\"\n",
    "    _sql = f\"INSERT INTO bondDetail ({fs},'ts') VALUES ({vs},'{str(datetime.now())}')\"\n",
    "    print(_sql)\n",
    "    cur.execute(_sql)\n",
    "    conn.commit()\n",
    "    \n",
    "def fetchBondDetail(did,st):\n",
    "    p = {\"bondDefinedCode\":did}\n",
    "    r = requests.post(u,p)\n",
    "    time.sleep(st)\n",
    "    _bondDetail = json.loads(r.text)['data']\n",
    "    return _bondDetail\n",
    "\n",
    "def extractBondDetail(did):\n",
    "    #r =fetchBondDetail(did)\n",
    "    fs = ['bondFullName','bondCode','issueDate','mrtyDate','bondPeriod','parValue'\n",
    "          ,'issuePrice','issueAmnt','frstValueDate','startenty']\n",
    "    return {k:v for k,v in did['bondBaseInfo'].items() if k in set(fs)}\n",
    "\n",
    "def listOSBondID():\n",
    "    _r = cur.execute(\"select bondDefinedCode from issuance where bondCode not in (select bondCode from bondDetail)\")\n",
    "    r = [ _[0] for _ in _r.fetchall() ]\n",
    "    return r\n",
    "\n"
   ]
  },
  {
   "cell_type": "code",
   "execution_count": 69,
   "id": "2227aaf9",
   "metadata": {},
   "outputs": [
    {
     "data": {
      "text/plain": [
       "{'bondFullName': '睿程2022年第二期个人汽车抵押贷款次级资产支持证券',\n",
       " 'bondCode': '2289202',\n",
       " 'issueDate': '2022-08-23',\n",
       " 'mrtyDate': '2026-01-26',\n",
       " 'bondPeriod': '1249日',\n",
       " 'parValue': '100.00',\n",
       " 'issuePrice': '100.0000',\n",
       " 'issueAmnt': '3.999999864',\n",
       " 'frstValueDate': '2022-08-26',\n",
       " 'startenty': '北京现代汽车金融有限公司'}"
      ]
     },
     "execution_count": 69,
     "metadata": {},
     "output_type": "execute_result"
    }
   ],
   "source": [
    "extractBondDetail(r)"
   ]
  },
  {
   "cell_type": "code",
   "execution_count": 125,
   "id": "06bb0731",
   "metadata": {},
   "outputs": [
    {
     "data": {
      "text/plain": [
       "('隆和2022年第四期微小企业贷款优先B级资产支持证券',)"
      ]
     },
     "execution_count": 125,
     "metadata": {},
     "output_type": "execute_result"
    }
   ],
   "source": [
    "cur.execute(f\"select distinct(bondFullName) from issuance as I right join bondDetail as B on B.bondCode=I.bondCode where I.bondName like '22隆和4优先B' or I.bondCode like '22隆和4优先B';\").fetchone()"
   ]
  },
  {
   "cell_type": "code",
   "execution_count": 126,
   "id": "3bd43daa",
   "metadata": {},
   "outputs": [],
   "source": [
    "def getFullName(_x):\n",
    "    return cur.execute(f\"select distinct(bondFullName) from issuance as I right join bondDetail as B on B.bondCode=I.bondCode where I.bondName like '{_x}' or I.bondCode like '{_x}';\").fetchone()"
   ]
  },
  {
   "cell_type": "code",
   "execution_count": 127,
   "id": "dbbba220",
   "metadata": {},
   "outputs": [
    {
     "data": {
      "text/plain": [
       "('隆和2022年第四期微小企业贷款优先B级资产支持证券',)"
      ]
     },
     "execution_count": 127,
     "metadata": {},
     "output_type": "execute_result"
    }
   ],
   "source": [
    "getFullName('22隆和4优先B')"
   ]
  },
  {
   "cell_type": "code",
   "execution_count": 133,
   "id": "6982d808",
   "metadata": {},
   "outputs": [
    {
     "data": {
      "text/plain": [
       "('隆和2022年第四期微小企业贷款优先B级资产支持证券',)"
      ]
     },
     "execution_count": 133,
     "metadata": {},
     "output_type": "execute_result"
    }
   ],
   "source": [
    "cur.execute(f\"select distinct(bondFullName) from issuance as I left join bondDetail as B on B.bondCode=I.bondCode where I.bondName like '22隆和4优先B' or I.bondCode like '22隆和4优先B';\").fetchone()"
   ]
  },
  {
   "cell_type": "code",
   "execution_count": null,
   "id": "2edcb1c2",
   "metadata": {},
   "outputs": [],
   "source": []
  }
 ],
 "metadata": {
  "kernelspec": {
   "display_name": "Python 3 (ipykernel)",
   "language": "python",
   "name": "python3"
  },
  "language_info": {
   "codemirror_mode": {
    "name": "ipython",
    "version": 3
   },
   "file_extension": ".py",
   "mimetype": "text/x-python",
   "name": "python",
   "nbconvert_exporter": "python",
   "pygments_lexer": "ipython3",
   "version": "3.11.3"
  }
 },
 "nbformat": 4,
 "nbformat_minor": 5
}
