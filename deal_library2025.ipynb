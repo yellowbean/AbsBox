{
 "cells": [
  {
   "cell_type": "code",
   "execution_count": 113,
   "id": "84b3536c",
   "metadata": {},
   "outputs": [
    {
     "name": "stdout",
     "output_type": "stream",
     "text": [
      "The autoreload extension is already loaded. To reload it, use:\n",
      "  %reload_ext autoreload\n"
     ]
    }
   ],
   "source": [
    "%load_ext autoreload\n",
    "%autoreload 2"
   ]
  },
  {
   "cell_type": "code",
   "execution_count": 119,
   "id": "23548ad2",
   "metadata": {},
   "outputs": [],
   "source": [
    "import pandas as pd\n",
    "pd.set_option(\"styler.format.thousands\", \",\")"
   ]
  },
  {
   "cell_type": "markdown",
   "id": "3a58952b-377f-4f86-8981-aff541ca0dde",
   "metadata": {},
   "source": [
    "### Import LIBRARY"
   ]
  },
  {
   "cell_type": "code",
   "execution_count": 263,
   "id": "cf7b9fa9",
   "metadata": {},
   "outputs": [
    {
     "name": "stdout",
     "output_type": "stream",
     "text": [
      "✅ Connected to library server\n",
      "absbox version:\u001b[1;36m0.42\u001b[0m.\u001b[1;36m5\u001b[0m\n",
      "Hastructure:\u001b[1m{\u001b[0m\u001b[32m'active'\u001b[0m: \u001b[1m{\u001b[0m\u001b[32m'local'\u001b[0m: \u001b[32m'http://localhost:8081 : 0.43.0'\u001b[0m, \u001b[32m'sg-dev'\u001b[0m: \n",
      "\u001b[32m'https://absbox.org/api/dev : 0.43.0'\u001b[0m, \u001b[32m'ldn-dev'\u001b[0m: \u001b[32m'https://ldn.spv.run/api/dev :\u001b[0m\n",
      "\u001b[32m0.43.0'\u001b[0m\u001b[1m}\u001b[0m, \u001b[32m'default'\u001b[0m: \u001b[32m'local'\u001b[0m, \u001b[32m'inactive'\u001b[0m: \u001b[1m{\u001b[0m\u001b[1m}\u001b[0m\u001b[1m}\u001b[0m\n"
     ]
    }
   ],
   "source": [
    "from absbox import API,LIBRARY\n",
    "library = LIBRARY(\"http://localhost:8082/api\")"
   ]
  },
  {
   "cell_type": "markdown",
   "id": "5f66f985-5def-4cbe-8eb7-8595aaf38711",
   "metadata": {},
   "source": [
    "### LIBRARY INFO"
   ]
  },
  {
   "cell_type": "code",
   "execution_count": 264,
   "id": "937b06f1-ca8c-424c-b13c-bd509c1e0773",
   "metadata": {},
   "outputs": [
    {
     "data": {
      "text/plain": [
       "{'msg': 'This is deal library server',\n",
       " 'absbox': '0.42.5',\n",
       " 'Hastructure': {'active': {'local': 'http://localhost:8081 : 0.43.0',\n",
       "   'sg-dev': 'https://absbox.org/api/dev : 0.43.0',\n",
       "   'ldn-dev': 'https://ldn.spv.run/api/dev : 0.43.0'},\n",
       "  'default': 'local',\n",
       "  'inactive': {}}}"
      ]
     },
     "execution_count": 264,
     "metadata": {},
     "output_type": "execute_result"
    }
   ],
   "source": [
    "library.libraryInfo"
   ]
  },
  {
   "cell_type": "markdown",
   "id": "98abfd38-4529-42d2-8b45-644571f0378e",
   "metadata": {},
   "source": [
    "### Login"
   ]
  },
  {
   "cell_type": "code",
   "execution_count": 309,
   "id": "9665d698",
   "metadata": {},
   "outputs": [
    {
     "name": "stdin",
     "output_type": "stream",
     "text": [
      " ········\n"
     ]
    },
    {
     "name": "stdout",
     "output_type": "stream",
     "text": [
      "✅ login successfully, user -> trial_1,group -> trial_group_1\n"
     ]
    }
   ],
   "source": [
    "#library.login(\"trial_1\",\"iamhere\")\n",
    "library.safeLogin(\"trial_1\")"
   ]
  },
  {
   "cell_type": "markdown",
   "id": "32a711bf-1289-4b73-a684-d2d7f554f1e6",
   "metadata": {},
   "source": [
    "### Query Available Deals"
   ]
  },
  {
   "cell_type": "markdown",
   "id": "aa939618-8476-43c3-a863-d8c0a89edd0f",
   "metadata": {},
   "source": [
    "#### By ID"
   ]
  },
  {
   "cell_type": "code",
   "execution_count": 310,
   "id": "6ab71355-84e4-449d-b014-258a7e526257",
   "metadata": {},
   "outputs": [
    {
     "name": "stdout",
     "output_type": "stream",
     "text": [
      "✅ query success\n"
     ]
    },
    {
     "data": {
      "text/html": [
       "<div>\n",
       "<style scoped>\n",
       "    .dataframe tbody tr th:only-of-type {\n",
       "        vertical-align: middle;\n",
       "    }\n",
       "\n",
       "    .dataframe tbody tr th {\n",
       "        vertical-align: top;\n",
       "    }\n",
       "\n",
       "    .dataframe thead th {\n",
       "        text-align: right;\n",
       "    }\n",
       "</style>\n",
       "<table border=\"1\" class=\"dataframe\">\n",
       "  <thead>\n",
       "    <tr style=\"text-align: right;\">\n",
       "      <th></th>\n",
       "      <th>ID</th>\n",
       "      <th>name</th>\n",
       "      <th>period</th>\n",
       "      <th>stage</th>\n",
       "      <th>tags</th>\n",
       "      <th>permission</th>\n",
       "      <th>group</th>\n",
       "    </tr>\n",
       "  </thead>\n",
       "  <tbody>\n",
       "    <tr>\n",
       "      <th>0</th>\n",
       "      <td>1</td>\n",
       "      <td>CHANGYING2501</td>\n",
       "      <td>0</td>\n",
       "      <td>Current</td>\n",
       "      <td>Auto,China</td>\n",
       "      <td>700</td>\n",
       "      <td>1</td>\n",
       "    </tr>\n",
       "  </tbody>\n",
       "</table>\n",
       "</div>"
      ],
      "text/plain": [
       "   ID           name  period    stage        tags permission  group\n",
       "0   1  CHANGYING2501       0  Current  Auto,China        700      1"
      ]
     },
     "execution_count": 310,
     "metadata": {},
     "output_type": "execute_result"
    }
   ],
   "source": [
    "library.query((\"id\",1))"
   ]
  },
  {
   "cell_type": "markdown",
   "id": "8e63a461-e669-4d26-8752-5697916d57f6",
   "metadata": {},
   "source": [
    "#### By Tag"
   ]
  },
  {
   "cell_type": "code",
   "execution_count": 312,
   "id": "0bfc4b9c-478b-4432-9107-0fba95aa201c",
   "metadata": {},
   "outputs": [
    {
     "name": "stdout",
     "output_type": "stream",
     "text": [
      "✅ query success\n"
     ]
    },
    {
     "data": {
      "text/html": [
       "<div>\n",
       "<style scoped>\n",
       "    .dataframe tbody tr th:only-of-type {\n",
       "        vertical-align: middle;\n",
       "    }\n",
       "\n",
       "    .dataframe tbody tr th {\n",
       "        vertical-align: top;\n",
       "    }\n",
       "\n",
       "    .dataframe thead th {\n",
       "        text-align: right;\n",
       "    }\n",
       "</style>\n",
       "<table border=\"1\" class=\"dataframe\">\n",
       "  <thead>\n",
       "    <tr style=\"text-align: right;\">\n",
       "      <th></th>\n",
       "      <th>ID</th>\n",
       "      <th>name</th>\n",
       "      <th>period</th>\n",
       "      <th>stage</th>\n",
       "      <th>tags</th>\n",
       "      <th>permission</th>\n",
       "      <th>group</th>\n",
       "    </tr>\n",
       "  </thead>\n",
       "  <tbody>\n",
       "    <tr>\n",
       "      <th>0</th>\n",
       "      <td>2</td>\n",
       "      <td>DUMMY_01</td>\n",
       "      <td>0</td>\n",
       "      <td>Current</td>\n",
       "      <td>China,test</td>\n",
       "      <td>710</td>\n",
       "      <td>2</td>\n",
       "    </tr>\n",
       "  </tbody>\n",
       "</table>\n",
       "</div>"
      ],
      "text/plain": [
       "   ID      name  period    stage        tags permission  group\n",
       "0   2  DUMMY_01       0  Current  China,test        710      2"
      ]
     },
     "execution_count": 312,
     "metadata": {},
     "output_type": "execute_result"
    }
   ],
   "source": [
    "library.query((\"tag\",\"test\"))"
   ]
  },
  {
   "cell_type": "markdown",
   "id": "eda27d7e-8f57-4be0-8e17-717e26c3532d",
   "metadata": {},
   "source": [
    "#### By Deal Name"
   ]
  },
  {
   "cell_type": "code",
   "execution_count": 313,
   "id": "d6a8ba97-e258-4883-a0b7-b6e7b9f08463",
   "metadata": {},
   "outputs": [
    {
     "name": "stdout",
     "output_type": "stream",
     "text": [
      "✅ query success\n"
     ]
    },
    {
     "data": {
      "text/html": [
       "<div>\n",
       "<style scoped>\n",
       "    .dataframe tbody tr th:only-of-type {\n",
       "        vertical-align: middle;\n",
       "    }\n",
       "\n",
       "    .dataframe tbody tr th {\n",
       "        vertical-align: top;\n",
       "    }\n",
       "\n",
       "    .dataframe thead th {\n",
       "        text-align: right;\n",
       "    }\n",
       "</style>\n",
       "<table border=\"1\" class=\"dataframe\">\n",
       "  <thead>\n",
       "    <tr style=\"text-align: right;\">\n",
       "      <th></th>\n",
       "      <th>ID</th>\n",
       "      <th>name</th>\n",
       "      <th>period</th>\n",
       "      <th>stage</th>\n",
       "      <th>tags</th>\n",
       "      <th>permission</th>\n",
       "      <th>group</th>\n",
       "    </tr>\n",
       "  </thead>\n",
       "  <tbody>\n",
       "    <tr>\n",
       "      <th>0</th>\n",
       "      <td>2</td>\n",
       "      <td>DUMMY_01</td>\n",
       "      <td>0</td>\n",
       "      <td>Current</td>\n",
       "      <td>China,test</td>\n",
       "      <td>710</td>\n",
       "      <td>2</td>\n",
       "    </tr>\n",
       "  </tbody>\n",
       "</table>\n",
       "</div>"
      ],
      "text/plain": [
       "   ID      name  period    stage        tags permission  group\n",
       "0   2  DUMMY_01       0  Current  China,test        710      2"
      ]
     },
     "execution_count": 313,
     "metadata": {},
     "output_type": "execute_result"
    }
   ],
   "source": [
    "library.query((\"name\",r\"MM\"))"
   ]
  },
  {
   "cell_type": "markdown",
   "id": "e13c42f6-202c-43dd-a18b-780fb152dbb7",
   "metadata": {},
   "source": [
    "### Run Deal in Server"
   ]
  },
  {
   "cell_type": "markdown",
   "id": "a9403dbb-bf8d-48b9-86f1-b254cf546562",
   "metadata": {},
   "source": [
    "#### Run with selected engine"
   ]
  },
  {
   "cell_type": "code",
   "execution_count": 306,
   "id": "0f2ec323",
   "metadata": {},
   "outputs": [
    {
     "name": "stdout",
     "output_type": "stream",
     "text": [
      "✅ run success with deal\n"
     ]
    }
   ],
   "source": [
    "(i,r) = library.run(\"CHANGYING2501\"\n",
    "                 ,runAssump = [rAssump]\n",
    "                 ,read=True\n",
    "                 ,engine=\"ldn-dev\"\n",
    "                )"
   ]
  },
  {
   "cell_type": "markdown",
   "id": "0239dd69-327c-4836-9c24-c004f2665d22",
   "metadata": {},
   "source": [
    "#### Run by ID"
   ]
  },
  {
   "cell_type": "code",
   "execution_count": null,
   "id": "2780b795-ffe4-4d97-a8f9-6ba7513d1f8d",
   "metadata": {},
   "outputs": [],
   "source": [
    "(i,r) = library.run((\"id\",1)\n",
    "                 ,runAssump = [rAssump]\n",
    "                 ,read=True\n",
    "                 ,engine=\"local\"\n",
    "                )"
   ]
  },
  {
   "cell_type": "markdown",
   "id": "21504efe-a0a6-4414-a297-baa81bcbdf6c",
   "metadata": {},
   "source": [
    "### Return \n",
    "\n",
    "Easy to for memory\n",
    "\n",
    "* Left -> run info\n",
    "* Right -> the \"right\"/\"correct\" result\n",
    "\n",
    "#### Run Info\n",
    "\n",
    "* time to load the deal from database\n",
    "* running from the engine"
   ]
  },
  {
   "cell_type": "code",
   "execution_count": 307,
   "id": "3fe34b7e-4918-4318-abcf-c8fcd6cd68a5",
   "metadata": {},
   "outputs": [
    {
     "data": {
      "text/plain": [
       "{'time': {'load': '2.432 ms', 'run': '1168.133 ms'},\n",
       " 'engine': 'https://ldn.spv.run/api/dev | 0.43.0',\n",
       " 'deal': {'name': 'CHANGYING2501', 'id': 1}}"
      ]
     },
     "execution_count": 307,
     "metadata": {},
     "output_type": "execute_result"
    }
   ],
   "source": [
    "i"
   ]
  },
  {
   "cell_type": "markdown",
   "id": "47e8a8e8-debf-49e1-9c59-693ac61e1a62",
   "metadata": {},
   "source": [
    "#### Run Result"
   ]
  },
  {
   "cell_type": "code",
   "execution_count": 308,
   "id": "670a76f8",
   "metadata": {},
   "outputs": [
    {
     "data": {
      "text/html": [
       "<div>\n",
       "<style scoped>\n",
       "    .dataframe tbody tr th:only-of-type {\n",
       "        vertical-align: middle;\n",
       "    }\n",
       "\n",
       "    .dataframe tbody tr th {\n",
       "        vertical-align: top;\n",
       "    }\n",
       "\n",
       "    .dataframe thead th {\n",
       "        text-align: right;\n",
       "    }\n",
       "</style>\n",
       "<table border=\"1\" class=\"dataframe\">\n",
       "  <thead>\n",
       "    <tr style=\"text-align: right;\">\n",
       "      <th></th>\n",
       "      <th>Balance</th>\n",
       "      <th>Principal</th>\n",
       "      <th>Interest</th>\n",
       "    </tr>\n",
       "    <tr>\n",
       "      <th>Date</th>\n",
       "      <th></th>\n",
       "      <th></th>\n",
       "      <th></th>\n",
       "    </tr>\n",
       "  </thead>\n",
       "  <tbody>\n",
       "    <tr>\n",
       "      <th>2025-01-09</th>\n",
       "      <td>2.623011e+09</td>\n",
       "      <td>2.793500e+08</td>\n",
       "      <td>38382688.62</td>\n",
       "    </tr>\n",
       "    <tr>\n",
       "      <th>2025-01-31</th>\n",
       "      <td>2.534890e+09</td>\n",
       "      <td>8.812163e+07</td>\n",
       "      <td>12381969.17</td>\n",
       "    </tr>\n",
       "  </tbody>\n",
       "</table>\n",
       "</div>"
      ],
      "text/plain": [
       "                 Balance     Principal     Interest\n",
       "Date                                               \n",
       "2025-01-09  2.623011e+09  2.793500e+08  38382688.62\n",
       "2025-01-31  2.534890e+09  8.812163e+07  12381969.17"
      ]
     },
     "execution_count": 308,
     "metadata": {},
     "output_type": "execute_result"
    }
   ],
   "source": [
    "r['pool']['flow']['PoolConsol'].head(2)[[\"Balance\",\"Principal\",\"Interest\"]]"
   ]
  },
  {
   "cell_type": "markdown",
   "id": "438155fc-ef34-4609-8423-9dcd937516af",
   "metadata": {},
   "source": [
    "### Q & A"
   ]
  },
  {
   "cell_type": "code",
   "execution_count": 206,
   "id": "6212a854",
   "metadata": {
    "jupyter": {
     "source_hidden": true
    }
   },
   "outputs": [],
   "source": [
    "rAssump = (\"revolving\"\n",
    "           ,[\"constant\",[\"Mortgage\"\n",
    "                    ,{\"originBalance\":2200,\"originRate\":[\"fix\",0.055],\"originTerm\":46\n",
    "                      ,\"freq\":\"Monthly\",\"type\":\"Level\",\"originDate\":\"2021-02-01\"}\n",
    "                      ,{\"currentBalance\":2200\n",
    "                      ,\"currentRate\":0.055\n",
    "                      ,\"remainTerm\":40\n",
    "                      ,\"status\":\"current\"}]\n",
    "            ]\n",
    "            ,(\"Pool\",\n",
    "                 (\"Mortgage\",{\"CDR\":0.01},None,None,None)\n",
    "                            ,None\n",
    "                            ,None\n",
    "               )\n",
    ")"
   ]
  }
 ],
 "metadata": {
  "kernelspec": {
   "display_name": "Python 3 (ipykernel)",
   "language": "python",
   "name": "python3"
  },
  "language_info": {
   "codemirror_mode": {
    "name": "ipython",
    "version": 3
   },
   "file_extension": ".py",
   "mimetype": "text/x-python",
   "name": "python",
   "nbconvert_exporter": "python",
   "pygments_lexer": "ipython3",
   "version": "3.12.3"
  }
 },
 "nbformat": 4,
 "nbformat_minor": 5
}
