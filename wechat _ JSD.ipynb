{
 "cells": [
  {
   "cell_type": "code",
   "execution_count": null,
   "id": "261f0f6b",
   "metadata": {},
   "outputs": [],
   "source": [
    "%load_ext autoreload\n",
    "%autoreload 2"
   ]
  },
  {
   "cell_type": "code",
   "execution_count": 19,
   "id": "9ef79c22",
   "metadata": {},
   "outputs": [],
   "source": [
    "from absbox import API"
   ]
  },
  {
   "cell_type": "code",
   "execution_count": 33,
   "id": "120a36bb",
   "metadata": {},
   "outputs": [
    {
     "data": {
      "text/html": [
       "<pre style=\"white-space:pre;overflow-x:auto;line-height:normal;font-family:Menlo,'DejaVu Sans Mono',consolas,'Courier New',monospace\">/opt/homebrew/lib/python3.11/site-packages/rich/live.py:231: UserWarning: install \"ipywidgets\" for Jupyter support\n",
       "  warnings.warn('install \"ipywidgets\" for Jupyter support')\n",
       "</pre>\n"
      ],
      "text/plain": [
       "/opt/homebrew/lib/python3.11/site-packages/rich/live.py:231: UserWarning: install \"ipywidgets\" for Jupyter support\n",
       "  warnings.warn('install \"ipywidgets\" for Jupyter support')\n"
      ]
     },
     "metadata": {},
     "output_type": "display_data"
    },
    {
     "data": {
      "text/html": [
       "<pre style=\"white-space:pre;overflow-x:auto;line-height:normal;font-family:Menlo,'DejaVu Sans Mono',consolas,'Courier New',monospace\"></pre>\n"
      ],
      "text/plain": []
     },
     "metadata": {},
     "output_type": "display_data"
    },
    {
     "data": {
      "text/html": [
       "<pre style=\"white-space:pre;overflow-x:auto;line-height:normal;font-family:Menlo,'DejaVu Sans Mono',consolas,'Courier New',monospace\">✅<span style=\"color: #008000; text-decoration-color: #008000; font-weight: bold\">Connected, local lib:0.</span><span style=\"color: #008000; text-decoration-color: #008000; font-weight: bold\">19.1</span><span style=\"color: #008000; text-decoration-color: #008000; font-weight: bold\">, server:</span><span style=\"color: #008000; text-decoration-color: #008000; font-weight: bold\">0.19</span><span style=\"color: #008000; text-decoration-color: #008000; font-weight: bold\">.</span><span style=\"color: #008000; text-decoration-color: #008000; font-weight: bold\">8</span>\n",
       "</pre>\n"
      ],
      "text/plain": [
       "✅\u001b[1;32mConnected, local li\u001b[0m\u001b[1;32mb:0\u001b[0m\u001b[1;32m.\u001b[0m\u001b[1;32m19.1\u001b[0m\u001b[1;32m, server:\u001b[0m\u001b[1;32m0.19\u001b[0m\u001b[1;32m.\u001b[0m\u001b[1;32m8\u001b[0m\n"
      ]
     },
     "metadata": {},
     "output_type": "display_data"
    },
    {
     "name": "stdout",
     "output_type": "stream",
     "text": [
      "········\n"
     ]
    },
    {
     "data": {
      "text/html": [
       "<pre style=\"white-space:pre;overflow-x:auto;line-height:normal;font-family:Menlo,'DejaVu Sans Mono',consolas,'Courier New',monospace\"></pre>\n"
      ],
      "text/plain": []
     },
     "metadata": {},
     "output_type": "display_data"
    },
    {
     "data": {
      "text/html": [
       "<pre style=\"white-space:pre;overflow-x:auto;line-height:normal;font-family:Menlo,'DejaVu Sans Mono',consolas,'Courier New',monospace\">✅<span style=\"color: #008000; text-decoration-color: #008000; font-weight: bold\"> login successfully,Login successfully with expire at </span><span style=\"color: #008000; text-decoration-color: #008000; font-weight: bold\">2023</span><span style=\"color: #008000; text-decoration-color: #008000; font-weight: bold\">-</span><span style=\"color: #008000; text-decoration-color: #008000; font-weight: bold\">08</span><span style=\"color: #008000; text-decoration-color: #008000; font-weight: bold\">-</span><span style=\"color: #008000; text-decoration-color: #008000; font-weight: bold\">30</span>\n",
       "</pre>\n"
      ],
      "text/plain": [
       "✅\u001b[1;32m login successfully,Login successfully with expire at \u001b[0m\u001b[1;32m2023\u001b[0m\u001b[1;32m-\u001b[0m\u001b[1;32m08\u001b[0m\u001b[1;32m-\u001b[0m\u001b[1;32m30\u001b[0m\n"
      ]
     },
     "metadata": {},
     "output_type": "display_data"
    }
   ],
   "source": [
    "localAPI = API(\"https://absbox.org/api/dev\")\n",
    "#localAPI = API(\"http://localhost:8081\")\n",
    "\n",
    "library_url = \"https://absbox.org/library/latest\"\n",
    "#library_url = \"http://localhost:5008\"\n",
    "\n",
    "localAPI.safeLogin(\"trial\",deal_library=library_url)"
   ]
  },
  {
   "cell_type": "code",
   "execution_count": 21,
   "id": "91cdd924",
   "metadata": {},
   "outputs": [
    {
     "data": {
      "text/html": [
       "<pre style=\"white-space:pre;overflow-x:auto;line-height:normal;font-family:Menlo,'DejaVu Sans Mono',consolas,'Courier New',monospace\">/opt/homebrew/lib/python3.11/site-packages/rich/live.py:231: UserWarning: install \"ipywidgets\" for Jupyter support\n",
       "  warnings.warn('install \"ipywidgets\" for Jupyter support')\n",
       "</pre>\n"
      ],
      "text/plain": [
       "/opt/homebrew/lib/python3.11/site-packages/rich/live.py:231: UserWarning: install \"ipywidgets\" for Jupyter support\n",
       "  warnings.warn('install \"ipywidgets\" for Jupyter support')\n"
      ]
     },
     "metadata": {},
     "output_type": "display_data"
    },
    {
     "data": {
      "text/html": [
       "<pre style=\"white-space:pre;overflow-x:auto;line-height:normal;font-family:Menlo,'DejaVu Sans Mono',consolas,'Courier New',monospace\"></pre>\n"
      ],
      "text/plain": []
     },
     "metadata": {},
     "output_type": "display_data"
    },
    {
     "data": {
      "text/html": [
       "<pre style=\"white-space:pre;overflow-x:auto;line-height:normal;font-family:Menlo,'DejaVu Sans Mono',consolas,'Courier New',monospace\">✅<span style=\"color: #008000; text-decoration-color: #008000; font-weight: bold\">list success</span>\n",
       "</pre>\n"
      ],
      "text/plain": [
       "✅\u001b[1;32mlist success\u001b[0m\n"
      ]
     },
     "metadata": {},
     "output_type": "display_data"
    }
   ],
   "source": [
    "rs = localAPI.listLibrary(deal_library=library_url,read=True,production=False)"
   ]
  },
  {
   "cell_type": "code",
   "execution_count": 22,
   "id": "ba075e74",
   "metadata": {},
   "outputs": [
    {
     "data": {
      "text/html": [
       "<div>\n",
       "<style scoped>\n",
       "    .dataframe tbody tr th:only-of-type {\n",
       "        vertical-align: middle;\n",
       "    }\n",
       "\n",
       "    .dataframe tbody tr th {\n",
       "        vertical-align: top;\n",
       "    }\n",
       "\n",
       "    .dataframe thead th {\n",
       "        text-align: right;\n",
       "    }\n",
       "</style>\n",
       "<table border=\"1\" class=\"dataframe\">\n",
       "  <thead>\n",
       "    <tr style=\"text-align: right;\">\n",
       "      <th></th>\n",
       "      <th>DealID</th>\n",
       "      <th>DealName</th>\n",
       "      <th>Status</th>\n",
       "      <th>Num</th>\n",
       "      <th>Date</th>\n",
       "      <th>Tags</th>\n",
       "      <th>TimeStamp</th>\n",
       "    </tr>\n",
       "  </thead>\n",
       "  <tbody>\n",
       "    <tr>\n",
       "      <th>3</th>\n",
       "      <td>22JSD03</td>\n",
       "      <td>吉时代2022年第三期个人汽车抵押贷款资产支持证券</td>\n",
       "      <td>PRODUCTION</td>\n",
       "      <td>10</td>\n",
       "      <td>20230719</td>\n",
       "      <td>REGRESSION,AUTO,TRIAL</td>\n",
       "      <td>Tue, 25 Jul 2023 03:20:32 GMT</td>\n",
       "    </tr>\n",
       "    <tr>\n",
       "      <th>5</th>\n",
       "      <td>23JSD01</td>\n",
       "      <td>吉时代2023年第一期个人汽车抵押贷款资产支持证券</td>\n",
       "      <td>PRODUCTION</td>\n",
       "      <td>4</td>\n",
       "      <td>20230719</td>\n",
       "      <td>AUTO,TRIAL</td>\n",
       "      <td>Thu, 27 Jul 2023 00:10:19 GMT</td>\n",
       "    </tr>\n",
       "    <tr>\n",
       "      <th>6</th>\n",
       "      <td>23JSD02</td>\n",
       "      <td>吉时代2023年第二期个人汽车抵押贷款资产支持证券</td>\n",
       "      <td>PRODUCTION</td>\n",
       "      <td>1</td>\n",
       "      <td>20230719</td>\n",
       "      <td>AUTO,TRIAL</td>\n",
       "      <td>Thu, 27 Jul 2023 01:00:57 GMT</td>\n",
       "    </tr>\n",
       "    <tr>\n",
       "      <th>9</th>\n",
       "      <td>22JSD05</td>\n",
       "      <td>吉时代2022年第五期个人汽车抵押贷款资产支持证券</td>\n",
       "      <td>PRODUCTION</td>\n",
       "      <td>7</td>\n",
       "      <td>20230719</td>\n",
       "      <td>AUTO,TRIAL</td>\n",
       "      <td>Thu, 27 Jul 2023 12:35:26 GMT</td>\n",
       "    </tr>\n",
       "    <tr>\n",
       "      <th>10</th>\n",
       "      <td>22JSD04</td>\n",
       "      <td>吉时代2022年第四期个人汽车抵押贷款绿色资产支持证券</td>\n",
       "      <td>PRODUCTION</td>\n",
       "      <td>9</td>\n",
       "      <td>20230719</td>\n",
       "      <td>AUTO,TRIAL</td>\n",
       "      <td>Thu, 27 Jul 2023 12:49:44 GMT</td>\n",
       "    </tr>\n",
       "  </tbody>\n",
       "</table>\n",
       "</div>"
      ],
      "text/plain": [
       "     DealID                     DealName      Status  Num      Date  \\\n",
       "3   22JSD03    吉时代2022年第三期个人汽车抵押贷款资产支持证券  PRODUCTION   10  20230719   \n",
       "5   23JSD01    吉时代2023年第一期个人汽车抵押贷款资产支持证券  PRODUCTION    4  20230719   \n",
       "6   23JSD02    吉时代2023年第二期个人汽车抵押贷款资产支持证券  PRODUCTION    1  20230719   \n",
       "9   22JSD05    吉时代2022年第五期个人汽车抵押贷款资产支持证券  PRODUCTION    7  20230719   \n",
       "10  22JSD04  吉时代2022年第四期个人汽车抵押贷款绿色资产支持证券  PRODUCTION    9  20230719   \n",
       "\n",
       "                     Tags                      TimeStamp  \n",
       "3   REGRESSION,AUTO,TRIAL  Tue, 25 Jul 2023 03:20:32 GMT  \n",
       "5              AUTO,TRIAL  Thu, 27 Jul 2023 00:10:19 GMT  \n",
       "6              AUTO,TRIAL  Thu, 27 Jul 2023 01:00:57 GMT  \n",
       "9              AUTO,TRIAL  Thu, 27 Jul 2023 12:35:26 GMT  \n",
       "10             AUTO,TRIAL  Thu, 27 Jul 2023 12:49:44 GMT  "
      ]
     },
     "execution_count": 22,
     "metadata": {},
     "output_type": "execute_result"
    }
   ],
   "source": [
    "rs[rs.Date==20230719]"
   ]
  },
  {
   "cell_type": "code",
   "execution_count": 113,
   "id": "89e25b4e",
   "metadata": {},
   "outputs": [],
   "source": [
    "pricing_curve_base = {\"贴现日\":\"2023-08-05\",\"贴现曲线\":[[\"2023-01-01\",0.01473]\n",
    "                                                    ,[\"2023-08-15\",0.02018]\n",
    "                                                    ,[\"2023-08-30\",0.02066]\n",
    "                                                    ,[\"2023-10-30\",0.020980]\n",
    "                                                    ,[\"2024-01-30\",0.021990]\n",
    "                                                    ,[\"2024-04-30\",0.02280]\n",
    "                                                    ,[\"2024-07-30\",0.023370]\n",
    "                                                    ,[\"2025-07-30\",0.0265]]}"
   ]
  },
  {
   "cell_type": "code",
   "execution_count": 169,
   "id": "8688719b",
   "metadata": {},
   "outputs": [
    {
     "data": {
      "text/plain": [
       "{'贴现日': '2023-08-05',\n",
       " '贴现曲线': [['2023-01-01', 0.01473],\n",
       "  ['2023-08-15', 0.02018],\n",
       "  ['2023-08-30', 0.02066],\n",
       "  ['2023-10-30', 0.02098],\n",
       "  ['2024-01-30', 0.02199],\n",
       "  ['2024-04-30', 0.0228],\n",
       "  ['2024-07-30', 0.02337],\n",
       "  ['2024-07-30', 0.02337],\n",
       "  ['2025-07-30', 0.0265]]}"
      ]
     },
     "execution_count": 169,
     "metadata": {},
     "output_type": "execute_result"
    }
   ],
   "source": [
    "pricing_curve_base"
   ]
  },
  {
   "cell_type": "code",
   "execution_count": 114,
   "id": "2d264b08",
   "metadata": {},
   "outputs": [],
   "source": [
    "up_20 = {\"贴现曲线\": [[d,v*1.2] for d,v in pricing_curve_base['贴现曲线']]}"
   ]
  },
  {
   "cell_type": "code",
   "execution_count": 131,
   "id": "35b4dc67",
   "metadata": {},
   "outputs": [],
   "source": [
    "pricing_curve_up = {\"贴现日\":\"2023-08-05\"} | up_20"
   ]
  },
  {
   "cell_type": "code",
   "execution_count": 134,
   "id": "f937ddfa",
   "metadata": {},
   "outputs": [
    {
     "data": {
      "text/plain": [
       "{'高CPR': ({'贴现日': '2023-08-05',\n",
       "   '贴现曲线': [['2023-01-01', 0.01473],\n",
       "    ['2023-08-15', 0.02018],\n",
       "    ['2023-08-30', 0.02066],\n",
       "    ['2023-10-30', 0.02098],\n",
       "    ['2024-01-30', 0.02199],\n",
       "    ['2024-04-30', 0.0228],\n",
       "    ['2024-07-30', 0.02337],\n",
       "    ['2024-07-30', 0.02337],\n",
       "    ['2025-07-30', 0.0265]]},\n",
       "  [{'CPR': 0.0436}, {'CDR': 0.001}]),\n",
       " '低CPR': ({'贴现日': '2023-08-05',\n",
       "   '贴现曲线': [['2023-01-01', 0.017676],\n",
       "    ['2023-08-15', 0.024215999999999998],\n",
       "    ['2023-08-30', 0.024792],\n",
       "    ['2023-10-30', 0.025175999999999997],\n",
       "    ['2024-01-30', 0.026387999999999998],\n",
       "    ['2024-04-30', 0.02736],\n",
       "    ['2024-07-30', 0.028043999999999996],\n",
       "    ['2024-07-30', 0.028043999999999996],\n",
       "    ['2025-07-30', 0.031799999999999995]]},\n",
       "  [{'CPR': 0.031}, {'CDR': 0.001}])}"
      ]
     },
     "execution_count": 134,
     "metadata": {},
     "output_type": "execute_result"
    }
   ],
   "source": [
    "pricing_curves = [pricing_curve_base ,pricing_curve_up ]\n",
    "cprs = [{\"CPR\":0.0436}, {\"CPR\":0.0310}]\n",
    "cdr = {\"CDR\":0.001}\n",
    "\n",
    "scenarios = {k:(p,[c,cdr]) for k,p,c in  \n",
    "              zip([\"高CPR\",\"低CPR\"],pricing_curves,cprs) }\n",
    "\n",
    "scenarios"
   ]
  },
  {
   "cell_type": "code",
   "execution_count": 179,
   "id": "ec315085",
   "metadata": {},
   "outputs": [
    {
     "data": {
      "text/html": [
       "<pre style=\"white-space:pre;overflow-x:auto;line-height:normal;font-family:Menlo,'DejaVu Sans Mono',consolas,'Courier New',monospace\">/opt/homebrew/lib/python3.11/site-packages/rich/live.py:231: UserWarning: install \"ipywidgets\" for Jupyter support\n",
       "  warnings.warn('install \"ipywidgets\" for Jupyter support')\n",
       "</pre>\n"
      ],
      "text/plain": [
       "/opt/homebrew/lib/python3.11/site-packages/rich/live.py:231: UserWarning: install \"ipywidgets\" for Jupyter support\n",
       "  warnings.warn('install \"ipywidgets\" for Jupyter support')\n"
      ]
     },
     "metadata": {},
     "output_type": "display_data"
    },
    {
     "data": {
      "text/html": [
       "<pre style=\"white-space:pre;overflow-x:auto;line-height:normal;font-family:Menlo,'DejaVu Sans Mono',consolas,'Courier New',monospace\"></pre>\n"
      ],
      "text/plain": []
     },
     "metadata": {},
     "output_type": "display_data"
    },
    {
     "data": {
      "text/html": [
       "<pre style=\"white-space:pre;overflow-x:auto;line-height:normal;font-family:Menlo,'DejaVu Sans Mono',consolas,'Courier New',monospace\">✅<span style=\"color: #008000; text-decoration-color: #008000; font-weight: bold\">run success with deal </span><span style=\"color: #008000; text-decoration-color: #008000; font-weight: bold\">id</span><span style=\"color: #008000; text-decoration-color: #008000; font-weight: bold\">=</span><span style=\"color: #008000; text-decoration-color: #008000; font-weight: bold\">22JSD03</span><span style=\"color: #008000; text-decoration-color: #008000; font-weight: bold\">/report </span><span style=\"color: #008000; text-decoration-color: #008000; font-weight: bold\">num</span><span style=\"color: #008000; text-decoration-color: #008000; font-weight: bold\">=</span><span style=\"color: #008000; text-decoration-color: #008000; font-weight: bold\">10</span><span style=\"color: #008000; text-decoration-color: #008000; font-weight: bold\">,</span><span style=\"color: #008000; text-decoration-color: #008000; font-weight: bold\">doc_id</span><span style=\"color: #008000; text-decoration-color: #008000; font-weight: bold\">=</span><span style=\"color: #008000; text-decoration-color: #008000; font-weight: bold\">64becf00945fe1aa4ff0c073</span>\n",
       "</pre>\n"
      ],
      "text/plain": [
       "✅\u001b[1;32mrun success with deal \u001b[0m\u001b[1;32mid\u001b[0m\u001b[1;32m=\u001b[0m\u001b[1;32m22JSD03\u001b[0m\u001b[1;32m/report \u001b[0m\u001b[1;32mnum\u001b[0m\u001b[1;32m=\u001b[0m\u001b[1;32m10\u001b[0m\u001b[1;32m,\u001b[0m\u001b[1;32mdoc_id\u001b[0m\u001b[1;32m=\u001b[0m\u001b[1;32m64becf00945fe1aa4ff0c073\u001b[0m\n"
      ]
     },
     "metadata": {},
     "output_type": "display_data"
    },
    {
     "data": {
      "text/html": [
       "<pre style=\"white-space:pre;overflow-x:auto;line-height:normal;font-family:Menlo,'DejaVu Sans Mono',consolas,'Courier New',monospace\">/opt/homebrew/lib/python3.11/site-packages/rich/live.py:231: UserWarning: install \"ipywidgets\" for Jupyter support\n",
       "  warnings.warn('install \"ipywidgets\" for Jupyter support')\n",
       "</pre>\n"
      ],
      "text/plain": [
       "/opt/homebrew/lib/python3.11/site-packages/rich/live.py:231: UserWarning: install \"ipywidgets\" for Jupyter support\n",
       "  warnings.warn('install \"ipywidgets\" for Jupyter support')\n"
      ]
     },
     "metadata": {},
     "output_type": "display_data"
    },
    {
     "data": {
      "text/html": [
       "<pre style=\"white-space:pre;overflow-x:auto;line-height:normal;font-family:Menlo,'DejaVu Sans Mono',consolas,'Courier New',monospace\"></pre>\n"
      ],
      "text/plain": []
     },
     "metadata": {},
     "output_type": "display_data"
    },
    {
     "data": {
      "text/html": [
       "<pre style=\"white-space:pre;overflow-x:auto;line-height:normal;font-family:Menlo,'DejaVu Sans Mono',consolas,'Courier New',monospace\">✅<span style=\"color: #008000; text-decoration-color: #008000; font-weight: bold\">run success with deal </span><span style=\"color: #008000; text-decoration-color: #008000; font-weight: bold\">id</span><span style=\"color: #008000; text-decoration-color: #008000; font-weight: bold\">=</span><span style=\"color: #008000; text-decoration-color: #008000; font-weight: bold\">22JSD03</span><span style=\"color: #008000; text-decoration-color: #008000; font-weight: bold\">/report </span><span style=\"color: #008000; text-decoration-color: #008000; font-weight: bold\">num</span><span style=\"color: #008000; text-decoration-color: #008000; font-weight: bold\">=</span><span style=\"color: #008000; text-decoration-color: #008000; font-weight: bold\">10</span><span style=\"color: #008000; text-decoration-color: #008000; font-weight: bold\">,</span><span style=\"color: #008000; text-decoration-color: #008000; font-weight: bold\">doc_id</span><span style=\"color: #008000; text-decoration-color: #008000; font-weight: bold\">=</span><span style=\"color: #008000; text-decoration-color: #008000; font-weight: bold\">64becf00945fe1aa4ff0c073</span>\n",
       "</pre>\n"
      ],
      "text/plain": [
       "✅\u001b[1;32mrun success with deal \u001b[0m\u001b[1;32mid\u001b[0m\u001b[1;32m=\u001b[0m\u001b[1;32m22JSD03\u001b[0m\u001b[1;32m/report \u001b[0m\u001b[1;32mnum\u001b[0m\u001b[1;32m=\u001b[0m\u001b[1;32m10\u001b[0m\u001b[1;32m,\u001b[0m\u001b[1;32mdoc_id\u001b[0m\u001b[1;32m=\u001b[0m\u001b[1;32m64becf00945fe1aa4ff0c073\u001b[0m\n"
      ]
     },
     "metadata": {},
     "output_type": "display_data"
    },
    {
     "data": {
      "text/html": [
       "<pre style=\"white-space:pre;overflow-x:auto;line-height:normal;font-family:Menlo,'DejaVu Sans Mono',consolas,'Courier New',monospace\">/opt/homebrew/lib/python3.11/site-packages/rich/live.py:231: UserWarning: install \"ipywidgets\" for Jupyter support\n",
       "  warnings.warn('install \"ipywidgets\" for Jupyter support')\n",
       "</pre>\n"
      ],
      "text/plain": [
       "/opt/homebrew/lib/python3.11/site-packages/rich/live.py:231: UserWarning: install \"ipywidgets\" for Jupyter support\n",
       "  warnings.warn('install \"ipywidgets\" for Jupyter support')\n"
      ]
     },
     "metadata": {},
     "output_type": "display_data"
    },
    {
     "data": {
      "text/html": [
       "<pre style=\"white-space:pre;overflow-x:auto;line-height:normal;font-family:Menlo,'DejaVu Sans Mono',consolas,'Courier New',monospace\"></pre>\n"
      ],
      "text/plain": []
     },
     "metadata": {},
     "output_type": "display_data"
    },
    {
     "data": {
      "text/html": [
       "<pre style=\"white-space:pre;overflow-x:auto;line-height:normal;font-family:Menlo,'DejaVu Sans Mono',consolas,'Courier New',monospace\">✅<span style=\"color: #008000; text-decoration-color: #008000; font-weight: bold\">run success with deal </span><span style=\"color: #008000; text-decoration-color: #008000; font-weight: bold\">id</span><span style=\"color: #008000; text-decoration-color: #008000; font-weight: bold\">=</span><span style=\"color: #008000; text-decoration-color: #008000; font-weight: bold\">22JSD05</span><span style=\"color: #008000; text-decoration-color: #008000; font-weight: bold\">/report </span><span style=\"color: #008000; text-decoration-color: #008000; font-weight: bold\">num</span><span style=\"color: #008000; text-decoration-color: #008000; font-weight: bold\">=</span><span style=\"color: #008000; text-decoration-color: #008000; font-weight: bold\">7</span><span style=\"color: #008000; text-decoration-color: #008000; font-weight: bold\">,</span><span style=\"color: #008000; text-decoration-color: #008000; font-weight: bold\">doc_id</span><span style=\"color: #008000; text-decoration-color: #008000; font-weight: bold\">=</span><span style=\"color: #008000; text-decoration-color: #008000; font-weight: bold\">64c1f40e945fe1aa4ff0c09f</span>\n",
       "</pre>\n"
      ],
      "text/plain": [
       "✅\u001b[1;32mrun success with deal \u001b[0m\u001b[1;32mid\u001b[0m\u001b[1;32m=\u001b[0m\u001b[1;32m22JSD05\u001b[0m\u001b[1;32m/report \u001b[0m\u001b[1;32mnum\u001b[0m\u001b[1;32m=\u001b[0m\u001b[1;32m7\u001b[0m\u001b[1;32m,\u001b[0m\u001b[1;32mdoc_id\u001b[0m\u001b[1;32m=\u001b[0m\u001b[1;32m64c1f40e945fe1aa4ff0c09f\u001b[0m\n"
      ]
     },
     "metadata": {},
     "output_type": "display_data"
    },
    {
     "data": {
      "text/html": [
       "<pre style=\"white-space:pre;overflow-x:auto;line-height:normal;font-family:Menlo,'DejaVu Sans Mono',consolas,'Courier New',monospace\">/opt/homebrew/lib/python3.11/site-packages/rich/live.py:231: UserWarning: install \"ipywidgets\" for Jupyter support\n",
       "  warnings.warn('install \"ipywidgets\" for Jupyter support')\n",
       "</pre>\n"
      ],
      "text/plain": [
       "/opt/homebrew/lib/python3.11/site-packages/rich/live.py:231: UserWarning: install \"ipywidgets\" for Jupyter support\n",
       "  warnings.warn('install \"ipywidgets\" for Jupyter support')\n"
      ]
     },
     "metadata": {},
     "output_type": "display_data"
    },
    {
     "data": {
      "text/html": [
       "<pre style=\"white-space:pre;overflow-x:auto;line-height:normal;font-family:Menlo,'DejaVu Sans Mono',consolas,'Courier New',monospace\"></pre>\n"
      ],
      "text/plain": []
     },
     "metadata": {},
     "output_type": "display_data"
    },
    {
     "data": {
      "text/html": [
       "<pre style=\"white-space:pre;overflow-x:auto;line-height:normal;font-family:Menlo,'DejaVu Sans Mono',consolas,'Courier New',monospace\">✅<span style=\"color: #008000; text-decoration-color: #008000; font-weight: bold\">run success with deal </span><span style=\"color: #008000; text-decoration-color: #008000; font-weight: bold\">id</span><span style=\"color: #008000; text-decoration-color: #008000; font-weight: bold\">=</span><span style=\"color: #008000; text-decoration-color: #008000; font-weight: bold\">22JSD05</span><span style=\"color: #008000; text-decoration-color: #008000; font-weight: bold\">/report </span><span style=\"color: #008000; text-decoration-color: #008000; font-weight: bold\">num</span><span style=\"color: #008000; text-decoration-color: #008000; font-weight: bold\">=</span><span style=\"color: #008000; text-decoration-color: #008000; font-weight: bold\">7</span><span style=\"color: #008000; text-decoration-color: #008000; font-weight: bold\">,</span><span style=\"color: #008000; text-decoration-color: #008000; font-weight: bold\">doc_id</span><span style=\"color: #008000; text-decoration-color: #008000; font-weight: bold\">=</span><span style=\"color: #008000; text-decoration-color: #008000; font-weight: bold\">64c1f40e945fe1aa4ff0c09f</span>\n",
       "</pre>\n"
      ],
      "text/plain": [
       "✅\u001b[1;32mrun success with deal \u001b[0m\u001b[1;32mid\u001b[0m\u001b[1;32m=\u001b[0m\u001b[1;32m22JSD05\u001b[0m\u001b[1;32m/report \u001b[0m\u001b[1;32mnum\u001b[0m\u001b[1;32m=\u001b[0m\u001b[1;32m7\u001b[0m\u001b[1;32m,\u001b[0m\u001b[1;32mdoc_id\u001b[0m\u001b[1;32m=\u001b[0m\u001b[1;32m64c1f40e945fe1aa4ff0c09f\u001b[0m\n"
      ]
     },
     "metadata": {},
     "output_type": "display_data"
    },
    {
     "data": {
      "text/html": [
       "<pre style=\"white-space:pre;overflow-x:auto;line-height:normal;font-family:Menlo,'DejaVu Sans Mono',consolas,'Courier New',monospace\"></pre>\n"
      ],
      "text/plain": []
     },
     "metadata": {},
     "output_type": "display_data"
    },
    {
     "data": {
      "text/html": [
       "<pre style=\"white-space:pre;overflow-x:auto;line-height:normal;font-family:Menlo,'DejaVu Sans Mono',consolas,'Courier New',monospace\">✅<span style=\"color: #008000; text-decoration-color: #008000; font-weight: bold\">run success with deal </span><span style=\"color: #008000; text-decoration-color: #008000; font-weight: bold\">id</span><span style=\"color: #008000; text-decoration-color: #008000; font-weight: bold\">=</span><span style=\"color: #008000; text-decoration-color: #008000; font-weight: bold\">23JSD01</span><span style=\"color: #008000; text-decoration-color: #008000; font-weight: bold\">/report </span><span style=\"color: #008000; text-decoration-color: #008000; font-weight: bold\">num</span><span style=\"color: #008000; text-decoration-color: #008000; font-weight: bold\">=</span><span style=\"color: #008000; text-decoration-color: #008000; font-weight: bold\">4</span><span style=\"color: #008000; text-decoration-color: #008000; font-weight: bold\">,</span><span style=\"color: #008000; text-decoration-color: #008000; font-weight: bold\">doc_id</span><span style=\"color: #008000; text-decoration-color: #008000; font-weight: bold\">=</span><span style=\"color: #008000; text-decoration-color: #008000; font-weight: bold\">64c1456b945fe1aa4ff0c087</span>\n",
       "</pre>\n"
      ],
      "text/plain": [
       "✅\u001b[1;32mrun success with deal \u001b[0m\u001b[1;32mid\u001b[0m\u001b[1;32m=\u001b[0m\u001b[1;32m23JSD01\u001b[0m\u001b[1;32m/report \u001b[0m\u001b[1;32mnum\u001b[0m\u001b[1;32m=\u001b[0m\u001b[1;32m4\u001b[0m\u001b[1;32m,\u001b[0m\u001b[1;32mdoc_id\u001b[0m\u001b[1;32m=\u001b[0m\u001b[1;32m64c1456b945fe1aa4ff0c087\u001b[0m\n"
      ]
     },
     "metadata": {},
     "output_type": "display_data"
    },
    {
     "data": {
      "text/html": [
       "<pre style=\"white-space:pre;overflow-x:auto;line-height:normal;font-family:Menlo,'DejaVu Sans Mono',consolas,'Courier New',monospace\"></pre>\n"
      ],
      "text/plain": []
     },
     "metadata": {},
     "output_type": "display_data"
    },
    {
     "data": {
      "text/html": [
       "<pre style=\"white-space:pre;overflow-x:auto;line-height:normal;font-family:Menlo,'DejaVu Sans Mono',consolas,'Courier New',monospace\">✅<span style=\"color: #008000; text-decoration-color: #008000; font-weight: bold\">run success with deal </span><span style=\"color: #008000; text-decoration-color: #008000; font-weight: bold\">id</span><span style=\"color: #008000; text-decoration-color: #008000; font-weight: bold\">=</span><span style=\"color: #008000; text-decoration-color: #008000; font-weight: bold\">23JSD01</span><span style=\"color: #008000; text-decoration-color: #008000; font-weight: bold\">/report </span><span style=\"color: #008000; text-decoration-color: #008000; font-weight: bold\">num</span><span style=\"color: #008000; text-decoration-color: #008000; font-weight: bold\">=</span><span style=\"color: #008000; text-decoration-color: #008000; font-weight: bold\">4</span><span style=\"color: #008000; text-decoration-color: #008000; font-weight: bold\">,</span><span style=\"color: #008000; text-decoration-color: #008000; font-weight: bold\">doc_id</span><span style=\"color: #008000; text-decoration-color: #008000; font-weight: bold\">=</span><span style=\"color: #008000; text-decoration-color: #008000; font-weight: bold\">64c1456b945fe1aa4ff0c087</span>\n",
       "</pre>\n"
      ],
      "text/plain": [
       "✅\u001b[1;32mrun success with deal \u001b[0m\u001b[1;32mid\u001b[0m\u001b[1;32m=\u001b[0m\u001b[1;32m23JSD01\u001b[0m\u001b[1;32m/report \u001b[0m\u001b[1;32mnum\u001b[0m\u001b[1;32m=\u001b[0m\u001b[1;32m4\u001b[0m\u001b[1;32m,\u001b[0m\u001b[1;32mdoc_id\u001b[0m\u001b[1;32m=\u001b[0m\u001b[1;32m64c1456b945fe1aa4ff0c087\u001b[0m\n"
      ]
     },
     "metadata": {},
     "output_type": "display_data"
    },
    {
     "data": {
      "text/html": [
       "<pre style=\"white-space:pre;overflow-x:auto;line-height:normal;font-family:Menlo,'DejaVu Sans Mono',consolas,'Courier New',monospace\"></pre>\n"
      ],
      "text/plain": []
     },
     "metadata": {},
     "output_type": "display_data"
    },
    {
     "data": {
      "text/html": [
       "<pre style=\"white-space:pre;overflow-x:auto;line-height:normal;font-family:Menlo,'DejaVu Sans Mono',consolas,'Courier New',monospace\">✅<span style=\"color: #008000; text-decoration-color: #008000; font-weight: bold\">run success with deal </span><span style=\"color: #008000; text-decoration-color: #008000; font-weight: bold\">id</span><span style=\"color: #008000; text-decoration-color: #008000; font-weight: bold\">=</span><span style=\"color: #008000; text-decoration-color: #008000; font-weight: bold\">23JSD02</span><span style=\"color: #008000; text-decoration-color: #008000; font-weight: bold\">/report </span><span style=\"color: #008000; text-decoration-color: #008000; font-weight: bold\">num</span><span style=\"color: #008000; text-decoration-color: #008000; font-weight: bold\">=</span><span style=\"color: #008000; text-decoration-color: #008000; font-weight: bold\">1</span><span style=\"color: #008000; text-decoration-color: #008000; font-weight: bold\">,</span><span style=\"color: #008000; text-decoration-color: #008000; font-weight: bold\">doc_id</span><span style=\"color: #008000; text-decoration-color: #008000; font-weight: bold\">=</span><span style=\"color: #008000; text-decoration-color: #008000; font-weight: bold\">64c15149945fe1aa4ff0c091</span>\n",
       "</pre>\n"
      ],
      "text/plain": [
       "✅\u001b[1;32mrun success with deal \u001b[0m\u001b[1;32mid\u001b[0m\u001b[1;32m=\u001b[0m\u001b[1;32m23JSD02\u001b[0m\u001b[1;32m/report \u001b[0m\u001b[1;32mnum\u001b[0m\u001b[1;32m=\u001b[0m\u001b[1;32m1\u001b[0m\u001b[1;32m,\u001b[0m\u001b[1;32mdoc_id\u001b[0m\u001b[1;32m=\u001b[0m\u001b[1;32m64c15149945fe1aa4ff0c091\u001b[0m\n"
      ]
     },
     "metadata": {},
     "output_type": "display_data"
    },
    {
     "data": {
      "text/html": [
       "<pre style=\"white-space:pre;overflow-x:auto;line-height:normal;font-family:Menlo,'DejaVu Sans Mono',consolas,'Courier New',monospace\"></pre>\n"
      ],
      "text/plain": []
     },
     "metadata": {},
     "output_type": "display_data"
    },
    {
     "data": {
      "text/html": [
       "<pre style=\"white-space:pre;overflow-x:auto;line-height:normal;font-family:Menlo,'DejaVu Sans Mono',consolas,'Courier New',monospace\">✅<span style=\"color: #008000; text-decoration-color: #008000; font-weight: bold\">run success with deal </span><span style=\"color: #008000; text-decoration-color: #008000; font-weight: bold\">id</span><span style=\"color: #008000; text-decoration-color: #008000; font-weight: bold\">=</span><span style=\"color: #008000; text-decoration-color: #008000; font-weight: bold\">23JSD02</span><span style=\"color: #008000; text-decoration-color: #008000; font-weight: bold\">/report </span><span style=\"color: #008000; text-decoration-color: #008000; font-weight: bold\">num</span><span style=\"color: #008000; text-decoration-color: #008000; font-weight: bold\">=</span><span style=\"color: #008000; text-decoration-color: #008000; font-weight: bold\">1</span><span style=\"color: #008000; text-decoration-color: #008000; font-weight: bold\">,</span><span style=\"color: #008000; text-decoration-color: #008000; font-weight: bold\">doc_id</span><span style=\"color: #008000; text-decoration-color: #008000; font-weight: bold\">=</span><span style=\"color: #008000; text-decoration-color: #008000; font-weight: bold\">64c15149945fe1aa4ff0c091</span>\n",
       "</pre>\n"
      ],
      "text/plain": [
       "✅\u001b[1;32mrun success with deal \u001b[0m\u001b[1;32mid\u001b[0m\u001b[1;32m=\u001b[0m\u001b[1;32m23JSD02\u001b[0m\u001b[1;32m/report \u001b[0m\u001b[1;32mnum\u001b[0m\u001b[1;32m=\u001b[0m\u001b[1;32m1\u001b[0m\u001b[1;32m,\u001b[0m\u001b[1;32mdoc_id\u001b[0m\u001b[1;32m=\u001b[0m\u001b[1;32m64c15149945fe1aa4ff0c091\u001b[0m\n"
      ]
     },
     "metadata": {},
     "output_type": "display_data"
    }
   ],
   "source": [
    "run_list = [\"22JSD03\",\"22JSD05\",\"23JSD01\",\"23JSD02\"]\n",
    "r = {deal:\n",
    "     {k:localAPI.runLibrary(deal\n",
    "                    ,deal_library=library_url\n",
    "                    ,pricing = s[0]\n",
    "                    ,assump = s[1]\n",
    "                    ,reader=\"china.SPV\"\n",
    "                    ,production=True\n",
    "                    ,read=True)\n",
    "           for k,s in scenarios.items()}\n",
    "       for deal in run_list}"
   ]
  },
  {
   "cell_type": "code",
   "execution_count": 180,
   "id": "5e08b199",
   "metadata": {},
   "outputs": [
    {
     "data": {
      "text/html": [
       "<div>\n",
       "<style scoped>\n",
       "    .dataframe tbody tr th:only-of-type {\n",
       "        vertical-align: middle;\n",
       "    }\n",
       "\n",
       "    .dataframe tbody tr th {\n",
       "        vertical-align: top;\n",
       "    }\n",
       "\n",
       "    .dataframe thead th {\n",
       "        text-align: right;\n",
       "    }\n",
       "</style>\n",
       "<table border=\"1\" class=\"dataframe\">\n",
       "  <thead>\n",
       "    <tr style=\"text-align: right;\">\n",
       "      <th></th>\n",
       "      <th>余额</th>\n",
       "      <th>利息</th>\n",
       "      <th>本金</th>\n",
       "      <th>执行利率</th>\n",
       "      <th>本息合计</th>\n",
       "      <th>备注</th>\n",
       "    </tr>\n",
       "    <tr>\n",
       "      <th>日期</th>\n",
       "      <th></th>\n",
       "      <th></th>\n",
       "      <th></th>\n",
       "      <th></th>\n",
       "      <th></th>\n",
       "      <th></th>\n",
       "    </tr>\n",
       "  </thead>\n",
       "  <tbody>\n",
       "    <tr>\n",
       "      <th>2023-08-26</th>\n",
       "      <td>2.165739e+09</td>\n",
       "      <td>4890424.21</td>\n",
       "      <td>1.560680e+08</td>\n",
       "      <td>0.0248</td>\n",
       "      <td>1.609584e+08</td>\n",
       "      <td>[&lt;PayInt:[\"\\20248\\20808A2\\32423\"]&gt;, &lt;PayPrin:[...</td>\n",
       "    </tr>\n",
       "    <tr>\n",
       "      <th>2023-09-26</th>\n",
       "      <td>2.056947e+09</td>\n",
       "      <td>4561698.03</td>\n",
       "      <td>1.087916e+08</td>\n",
       "      <td>0.0248</td>\n",
       "      <td>1.133533e+08</td>\n",
       "      <td>[&lt;PayInt:[\"\\20248\\20808A2\\32423\"]&gt;, &lt;PayPrin:[...</td>\n",
       "    </tr>\n",
       "    <tr>\n",
       "      <th>2023-10-26</th>\n",
       "      <td>1.951575e+09</td>\n",
       "      <td>4192790.44</td>\n",
       "      <td>1.053715e+08</td>\n",
       "      <td>0.0248</td>\n",
       "      <td>1.095643e+08</td>\n",
       "      <td>[&lt;PayInt:[\"\\20248\\20808A2\\32423\"]&gt;, &lt;PayPrin:[...</td>\n",
       "    </tr>\n",
       "    <tr>\n",
       "      <th>2023-11-26</th>\n",
       "      <td>1.847826e+09</td>\n",
       "      <td>4110605.96</td>\n",
       "      <td>1.037498e+08</td>\n",
       "      <td>0.0248</td>\n",
       "      <td>1.078604e+08</td>\n",
       "      <td>[&lt;PayInt:[\"\\20248\\20808A2\\32423\"]&gt;, &lt;PayPrin:[...</td>\n",
       "    </tr>\n",
       "    <tr>\n",
       "      <th>2023-12-26</th>\n",
       "      <td>1.745863e+09</td>\n",
       "      <td>3766526.68</td>\n",
       "      <td>1.019622e+08</td>\n",
       "      <td>0.0248</td>\n",
       "      <td>1.057287e+08</td>\n",
       "      <td>[&lt;PayInt:[\"\\20248\\20808A2\\32423\"]&gt;, &lt;PayPrin:[...</td>\n",
       "    </tr>\n",
       "    <tr>\n",
       "      <th>2024-01-26</th>\n",
       "      <td>1.648639e+09</td>\n",
       "      <td>3677314.50</td>\n",
       "      <td>9.722451e+07</td>\n",
       "      <td>0.0248</td>\n",
       "      <td>1.009018e+08</td>\n",
       "      <td>[&lt;PayInt:[\"\\20248\\20808A2\\32423\"]&gt;, &lt;PayPrin:[...</td>\n",
       "    </tr>\n",
       "    <tr>\n",
       "      <th>2024-02-26</th>\n",
       "      <td>1.559312e+09</td>\n",
       "      <td>3472530.38</td>\n",
       "      <td>8.932669e+07</td>\n",
       "      <td>0.0248</td>\n",
       "      <td>9.279922e+07</td>\n",
       "      <td>[&lt;PayInt:[\"\\20248\\20808A2\\32423\"]&gt;, &lt;PayPrin:[...</td>\n",
       "    </tr>\n",
       "    <tr>\n",
       "      <th>2024-03-26</th>\n",
       "      <td>1.473597e+09</td>\n",
       "      <td>3072485.88</td>\n",
       "      <td>8.571515e+07</td>\n",
       "      <td>0.0248</td>\n",
       "      <td>8.878763e+07</td>\n",
       "      <td>[&lt;PayInt:[\"\\20248\\20808A2\\32423\"]&gt;, &lt;PayPrin:[...</td>\n",
       "    </tr>\n",
       "    <tr>\n",
       "      <th>2024-04-26</th>\n",
       "      <td>1.388674e+09</td>\n",
       "      <td>3103839.53</td>\n",
       "      <td>8.492305e+07</td>\n",
       "      <td>0.0248</td>\n",
       "      <td>8.802689e+07</td>\n",
       "      <td>[&lt;PayInt:[\"\\20248\\20808A2\\32423\"]&gt;, &lt;PayPrin:[...</td>\n",
       "    </tr>\n",
       "    <tr>\n",
       "      <th>2024-05-26</th>\n",
       "      <td>1.304881e+09</td>\n",
       "      <td>2830612.25</td>\n",
       "      <td>8.379340e+07</td>\n",
       "      <td>0.0248</td>\n",
       "      <td>8.662401e+07</td>\n",
       "      <td>[&lt;PayInt:[\"\\20248\\20808A2\\32423\"]&gt;, &lt;PayPrin:[...</td>\n",
       "    </tr>\n",
       "    <tr>\n",
       "      <th>2024-06-26</th>\n",
       "      <td>1.222033e+09</td>\n",
       "      <td>2748471.84</td>\n",
       "      <td>8.284723e+07</td>\n",
       "      <td>0.0248</td>\n",
       "      <td>8.559570e+07</td>\n",
       "      <td>[&lt;PayInt:[\"\\20248\\20808A2\\32423\"]&gt;, &lt;PayPrin:[...</td>\n",
       "    </tr>\n",
       "    <tr>\n",
       "      <th>2024-07-26</th>\n",
       "      <td>1.035855e+09</td>\n",
       "      <td>2490939.30</td>\n",
       "      <td>1.861786e+08</td>\n",
       "      <td>0.0248</td>\n",
       "      <td>1.886696e+08</td>\n",
       "      <td>[&lt;PayInt:[\"\\20248\\20808A2\\32423\"]&gt;, &lt;PayPrin:[...</td>\n",
       "    </tr>\n",
       "    <tr>\n",
       "      <th>2024-08-26</th>\n",
       "      <td>8.559309e+08</td>\n",
       "      <td>2181822.28</td>\n",
       "      <td>1.799239e+08</td>\n",
       "      <td>0.0248</td>\n",
       "      <td>1.821057e+08</td>\n",
       "      <td>[&lt;PayInt:[\"\\20248\\20808A2\\32423\"]&gt;, &lt;PayPrin:[...</td>\n",
       "    </tr>\n",
       "    <tr>\n",
       "      <th>2024-09-26</th>\n",
       "      <td>6.789303e+08</td>\n",
       "      <td>1802848.38</td>\n",
       "      <td>1.770006e+08</td>\n",
       "      <td>0.0248</td>\n",
       "      <td>1.788034e+08</td>\n",
       "      <td>[&lt;PayInt:[\"\\20248\\20808A2\\32423\"]&gt;, &lt;PayPrin:[...</td>\n",
       "    </tr>\n",
       "    <tr>\n",
       "      <th>2024-10-26</th>\n",
       "      <td>5.031618e+08</td>\n",
       "      <td>1383901.74</td>\n",
       "      <td>1.757685e+08</td>\n",
       "      <td>0.0248</td>\n",
       "      <td>1.771524e+08</td>\n",
       "      <td>[&lt;PayInt:[\"\\20248\\20808A2\\32423\"]&gt;, &lt;PayPrin:[...</td>\n",
       "    </tr>\n",
       "    <tr>\n",
       "      <th>2024-11-26</th>\n",
       "      <td>3.284073e+08</td>\n",
       "      <td>1059810.44</td>\n",
       "      <td>1.747545e+08</td>\n",
       "      <td>0.0248</td>\n",
       "      <td>1.758144e+08</td>\n",
       "      <td>[&lt;PayInt:[\"\\20248\\20808A2\\32423\"]&gt;, &lt;PayPrin:[...</td>\n",
       "    </tr>\n",
       "    <tr>\n",
       "      <th>2024-12-26</th>\n",
       "      <td>1.548226e+08</td>\n",
       "      <td>669411.00</td>\n",
       "      <td>1.735847e+08</td>\n",
       "      <td>0.0248</td>\n",
       "      <td>1.742541e+08</td>\n",
       "      <td>[&lt;PayInt:[\"\\20248\\20808A2\\32423\"]&gt;, &lt;PayPrin:[...</td>\n",
       "    </tr>\n",
       "    <tr>\n",
       "      <th>2025-01-26</th>\n",
       "      <td>1.104521e+07</td>\n",
       "      <td>326103.10</td>\n",
       "      <td>1.437774e+08</td>\n",
       "      <td>0.0248</td>\n",
       "      <td>1.441035e+08</td>\n",
       "      <td>[&lt;PayInt:[\"\\20248\\20808A2\\32423\"]&gt;, &lt;PayPrin:[...</td>\n",
       "    </tr>\n",
       "    <tr>\n",
       "      <th>2025-02-26</th>\n",
       "      <td>0.000000e+00</td>\n",
       "      <td>23264.53</td>\n",
       "      <td>1.104521e+07</td>\n",
       "      <td>0.0248</td>\n",
       "      <td>1.106847e+07</td>\n",
       "      <td>[&lt;PayInt:[\"\\20248\\20808A2\\32423\"]&gt;, &lt;PayPrin:[...</td>\n",
       "    </tr>\n",
       "  </tbody>\n",
       "</table>\n",
       "</div>"
      ],
      "text/plain": [
       "                      余额          利息            本金    执行利率          本息合计  \\\n",
       "日期                                                                         \n",
       "2023-08-26  2.165739e+09  4890424.21  1.560680e+08  0.0248  1.609584e+08   \n",
       "2023-09-26  2.056947e+09  4561698.03  1.087916e+08  0.0248  1.133533e+08   \n",
       "2023-10-26  1.951575e+09  4192790.44  1.053715e+08  0.0248  1.095643e+08   \n",
       "2023-11-26  1.847826e+09  4110605.96  1.037498e+08  0.0248  1.078604e+08   \n",
       "2023-12-26  1.745863e+09  3766526.68  1.019622e+08  0.0248  1.057287e+08   \n",
       "2024-01-26  1.648639e+09  3677314.50  9.722451e+07  0.0248  1.009018e+08   \n",
       "2024-02-26  1.559312e+09  3472530.38  8.932669e+07  0.0248  9.279922e+07   \n",
       "2024-03-26  1.473597e+09  3072485.88  8.571515e+07  0.0248  8.878763e+07   \n",
       "2024-04-26  1.388674e+09  3103839.53  8.492305e+07  0.0248  8.802689e+07   \n",
       "2024-05-26  1.304881e+09  2830612.25  8.379340e+07  0.0248  8.662401e+07   \n",
       "2024-06-26  1.222033e+09  2748471.84  8.284723e+07  0.0248  8.559570e+07   \n",
       "2024-07-26  1.035855e+09  2490939.30  1.861786e+08  0.0248  1.886696e+08   \n",
       "2024-08-26  8.559309e+08  2181822.28  1.799239e+08  0.0248  1.821057e+08   \n",
       "2024-09-26  6.789303e+08  1802848.38  1.770006e+08  0.0248  1.788034e+08   \n",
       "2024-10-26  5.031618e+08  1383901.74  1.757685e+08  0.0248  1.771524e+08   \n",
       "2024-11-26  3.284073e+08  1059810.44  1.747545e+08  0.0248  1.758144e+08   \n",
       "2024-12-26  1.548226e+08   669411.00  1.735847e+08  0.0248  1.742541e+08   \n",
       "2025-01-26  1.104521e+07   326103.10  1.437774e+08  0.0248  1.441035e+08   \n",
       "2025-02-26  0.000000e+00    23264.53  1.104521e+07  0.0248  1.106847e+07   \n",
       "\n",
       "                                                           备注  \n",
       "日期                                                             \n",
       "2023-08-26  [<PayInt:[\"\\20248\\20808A2\\32423\"]>, <PayPrin:[...  \n",
       "2023-09-26  [<PayInt:[\"\\20248\\20808A2\\32423\"]>, <PayPrin:[...  \n",
       "2023-10-26  [<PayInt:[\"\\20248\\20808A2\\32423\"]>, <PayPrin:[...  \n",
       "2023-11-26  [<PayInt:[\"\\20248\\20808A2\\32423\"]>, <PayPrin:[...  \n",
       "2023-12-26  [<PayInt:[\"\\20248\\20808A2\\32423\"]>, <PayPrin:[...  \n",
       "2024-01-26  [<PayInt:[\"\\20248\\20808A2\\32423\"]>, <PayPrin:[...  \n",
       "2024-02-26  [<PayInt:[\"\\20248\\20808A2\\32423\"]>, <PayPrin:[...  \n",
       "2024-03-26  [<PayInt:[\"\\20248\\20808A2\\32423\"]>, <PayPrin:[...  \n",
       "2024-04-26  [<PayInt:[\"\\20248\\20808A2\\32423\"]>, <PayPrin:[...  \n",
       "2024-05-26  [<PayInt:[\"\\20248\\20808A2\\32423\"]>, <PayPrin:[...  \n",
       "2024-06-26  [<PayInt:[\"\\20248\\20808A2\\32423\"]>, <PayPrin:[...  \n",
       "2024-07-26  [<PayInt:[\"\\20248\\20808A2\\32423\"]>, <PayPrin:[...  \n",
       "2024-08-26  [<PayInt:[\"\\20248\\20808A2\\32423\"]>, <PayPrin:[...  \n",
       "2024-09-26  [<PayInt:[\"\\20248\\20808A2\\32423\"]>, <PayPrin:[...  \n",
       "2024-10-26  [<PayInt:[\"\\20248\\20808A2\\32423\"]>, <PayPrin:[...  \n",
       "2024-11-26  [<PayInt:[\"\\20248\\20808A2\\32423\"]>, <PayPrin:[...  \n",
       "2024-12-26  [<PayInt:[\"\\20248\\20808A2\\32423\"]>, <PayPrin:[...  \n",
       "2025-01-26  [<PayInt:[\"\\20248\\20808A2\\32423\"]>, <PayPrin:[...  \n",
       "2025-02-26  [<PayInt:[\"\\20248\\20808A2\\32423\"]>, <PayPrin:[...  "
      ]
     },
     "execution_count": 180,
     "metadata": {},
     "output_type": "execute_result"
    }
   ],
   "source": [
    "r['23JSD02']['高CPR']['bonds']['优先A2级']"
   ]
  },
  {
   "cell_type": "code",
   "execution_count": 181,
   "id": "62ecfebb",
   "metadata": {},
   "outputs": [],
   "source": [
    "data = []\n",
    "for deal,v in r.items():\n",
    "    for scen,_v in v.items():\n",
    "        data.append({\"产品\":deal,\"场景\":scen}|_v['pricing'].loc['优先A2级'].to_dict())\n",
    "pd.DataFrame(data)"
   ]
  },
  {
   "cell_type": "code",
   "execution_count": 182,
   "id": "45e58f35",
   "metadata": {},
   "outputs": [
    {
     "data": {
      "text/html": [
       "<div>\n",
       "<style scoped>\n",
       "    .dataframe tbody tr th:only-of-type {\n",
       "        vertical-align: middle;\n",
       "    }\n",
       "\n",
       "    .dataframe tbody tr th {\n",
       "        vertical-align: top;\n",
       "    }\n",
       "\n",
       "    .dataframe thead th {\n",
       "        text-align: right;\n",
       "    }\n",
       "</style>\n",
       "<table border=\"1\" class=\"dataframe\">\n",
       "  <thead>\n",
       "    <tr style=\"text-align: right;\">\n",
       "      <th></th>\n",
       "      <th>产品</th>\n",
       "      <th>场景</th>\n",
       "      <th>估值</th>\n",
       "      <th>票面估值</th>\n",
       "      <th>WAL</th>\n",
       "      <th>久期</th>\n",
       "      <th>凸性</th>\n",
       "      <th>应计利息</th>\n",
       "    </tr>\n",
       "  </thead>\n",
       "  <tbody>\n",
       "    <tr>\n",
       "      <th>0</th>\n",
       "      <td>22JSD03</td>\n",
       "      <td>高CPR</td>\n",
       "      <td>1.029567e+09</td>\n",
       "      <td>51.737033</td>\n",
       "      <td>0.52</td>\n",
       "      <td>0.44</td>\n",
       "      <td>0.81</td>\n",
       "      <td>0.0</td>\n",
       "    </tr>\n",
       "    <tr>\n",
       "      <th>1</th>\n",
       "      <td>22JSD03</td>\n",
       "      <td>低CPR</td>\n",
       "      <td>1.027219e+09</td>\n",
       "      <td>51.619044</td>\n",
       "      <td>0.53</td>\n",
       "      <td>0.45</td>\n",
       "      <td>0.82</td>\n",
       "      <td>0.0</td>\n",
       "    </tr>\n",
       "    <tr>\n",
       "      <th>2</th>\n",
       "      <td>22JSD05</td>\n",
       "      <td>高CPR</td>\n",
       "      <td>1.481490e+09</td>\n",
       "      <td>63.311553</td>\n",
       "      <td>0.78</td>\n",
       "      <td>0.67</td>\n",
       "      <td>1.38</td>\n",
       "      <td>0.0</td>\n",
       "    </tr>\n",
       "    <tr>\n",
       "      <th>3</th>\n",
       "      <td>22JSD05</td>\n",
       "      <td>低CPR</td>\n",
       "      <td>1.476412e+09</td>\n",
       "      <td>63.094538</td>\n",
       "      <td>0.79</td>\n",
       "      <td>0.67</td>\n",
       "      <td>1.39</td>\n",
       "      <td>0.0</td>\n",
       "    </tr>\n",
       "    <tr>\n",
       "      <th>4</th>\n",
       "      <td>23JSD01</td>\n",
       "      <td>高CPR</td>\n",
       "      <td>1.765918e+09</td>\n",
       "      <td>77.114330</td>\n",
       "      <td>0.77</td>\n",
       "      <td>0.63</td>\n",
       "      <td>1.40</td>\n",
       "      <td>0.0</td>\n",
       "    </tr>\n",
       "    <tr>\n",
       "      <th>5</th>\n",
       "      <td>23JSD01</td>\n",
       "      <td>低CPR</td>\n",
       "      <td>1.759931e+09</td>\n",
       "      <td>76.852895</td>\n",
       "      <td>0.78</td>\n",
       "      <td>0.64</td>\n",
       "      <td>1.40</td>\n",
       "      <td>0.0</td>\n",
       "    </tr>\n",
       "    <tr>\n",
       "      <th>6</th>\n",
       "      <td>23JSD02</td>\n",
       "      <td>高CPR</td>\n",
       "      <td>2.327469e+09</td>\n",
       "      <td>91.813358</td>\n",
       "      <td>0.84</td>\n",
       "      <td>0.65</td>\n",
       "      <td>1.67</td>\n",
       "      <td>0.0</td>\n",
       "    </tr>\n",
       "    <tr>\n",
       "      <th>7</th>\n",
       "      <td>23JSD02</td>\n",
       "      <td>低CPR</td>\n",
       "      <td>2.318688e+09</td>\n",
       "      <td>91.466963</td>\n",
       "      <td>0.85</td>\n",
       "      <td>0.67</td>\n",
       "      <td>1.68</td>\n",
       "      <td>0.0</td>\n",
       "    </tr>\n",
       "  </tbody>\n",
       "</table>\n",
       "</div>"
      ],
      "text/plain": [
       "        产品    场景            估值       票面估值   WAL    久期    凸性  应计利息\n",
       "0  22JSD03  高CPR  1.029567e+09  51.737033  0.52  0.44  0.81   0.0\n",
       "1  22JSD03  低CPR  1.027219e+09  51.619044  0.53  0.45  0.82   0.0\n",
       "2  22JSD05  高CPR  1.481490e+09  63.311553  0.78  0.67  1.38   0.0\n",
       "3  22JSD05  低CPR  1.476412e+09  63.094538  0.79  0.67  1.39   0.0\n",
       "4  23JSD01  高CPR  1.765918e+09  77.114330  0.77  0.63  1.40   0.0\n",
       "5  23JSD01  低CPR  1.759931e+09  76.852895  0.78  0.64  1.40   0.0\n",
       "6  23JSD02  高CPR  2.327469e+09  91.813358  0.84  0.65  1.67   0.0\n",
       "7  23JSD02  低CPR  2.318688e+09  91.466963  0.85  0.67  1.68   0.0"
      ]
     },
     "execution_count": 182,
     "metadata": {},
     "output_type": "execute_result"
    }
   ],
   "source": []
  },
  {
   "cell_type": "code",
   "execution_count": 158,
   "id": "a9dad328",
   "metadata": {},
   "outputs": [
    {
     "data": {
      "text/html": [
       "<div>\n",
       "<style scoped>\n",
       "    .dataframe tbody tr th:only-of-type {\n",
       "        vertical-align: middle;\n",
       "    }\n",
       "\n",
       "    .dataframe tbody tr th {\n",
       "        vertical-align: top;\n",
       "    }\n",
       "\n",
       "    .dataframe thead th {\n",
       "        text-align: right;\n",
       "    }\n",
       "</style>\n",
       "<table border=\"1\" class=\"dataframe\">\n",
       "  <thead>\n",
       "    <tr style=\"text-align: right;\">\n",
       "      <th></th>\n",
       "      <th>产品</th>\n",
       "      <th>场景</th>\n",
       "      <th>DN</th>\n",
       "      <th>估值</th>\n",
       "      <th>票面估值</th>\n",
       "      <th>WAL</th>\n",
       "      <th>久期</th>\n",
       "      <th>凸性</th>\n",
       "      <th>应计利息</th>\n",
       "    </tr>\n",
       "  </thead>\n",
       "  <tbody>\n",
       "    <tr>\n",
       "      <th>0</th>\n",
       "      <td>22JSD03</td>\n",
       "      <td>高CPR</td>\n",
       "      <td>吉时代2023年第二期个人汽车抵押贷款资产支持证券</td>\n",
       "      <td>2.327469e+09</td>\n",
       "      <td>116.958222</td>\n",
       "      <td>0.84</td>\n",
       "      <td>0.65</td>\n",
       "      <td>1.67</td>\n",
       "      <td>0.0</td>\n",
       "    </tr>\n",
       "    <tr>\n",
       "      <th>1</th>\n",
       "      <td>22JSD05</td>\n",
       "      <td>高CPR</td>\n",
       "      <td>吉时代2023年第二期个人汽车抵押贷款资产支持证券</td>\n",
       "      <td>2.327469e+09</td>\n",
       "      <td>116.958222</td>\n",
       "      <td>0.84</td>\n",
       "      <td>0.65</td>\n",
       "      <td>1.67</td>\n",
       "      <td>0.0</td>\n",
       "    </tr>\n",
       "    <tr>\n",
       "      <th>2</th>\n",
       "      <td>23JSD01</td>\n",
       "      <td>高CPR</td>\n",
       "      <td>吉时代2023年第二期个人汽车抵押贷款资产支持证券</td>\n",
       "      <td>2.327469e+09</td>\n",
       "      <td>116.958222</td>\n",
       "      <td>0.84</td>\n",
       "      <td>0.65</td>\n",
       "      <td>1.67</td>\n",
       "      <td>0.0</td>\n",
       "    </tr>\n",
       "    <tr>\n",
       "      <th>3</th>\n",
       "      <td>23JSD02</td>\n",
       "      <td>高CPR</td>\n",
       "      <td>吉时代2023年第二期个人汽车抵押贷款资产支持证券</td>\n",
       "      <td>2.327469e+09</td>\n",
       "      <td>116.958222</td>\n",
       "      <td>0.84</td>\n",
       "      <td>0.65</td>\n",
       "      <td>1.67</td>\n",
       "      <td>0.0</td>\n",
       "    </tr>\n",
       "    <tr>\n",
       "      <th>4</th>\n",
       "      <td>22JSD03</td>\n",
       "      <td>低CPR</td>\n",
       "      <td>吉时代2023年第二期个人汽车抵押贷款资产支持证券</td>\n",
       "      <td>2.318688e+09</td>\n",
       "      <td>116.516960</td>\n",
       "      <td>0.85</td>\n",
       "      <td>0.67</td>\n",
       "      <td>1.68</td>\n",
       "      <td>0.0</td>\n",
       "    </tr>\n",
       "    <tr>\n",
       "      <th>5</th>\n",
       "      <td>22JSD05</td>\n",
       "      <td>低CPR</td>\n",
       "      <td>吉时代2023年第二期个人汽车抵押贷款资产支持证券</td>\n",
       "      <td>2.318688e+09</td>\n",
       "      <td>116.516960</td>\n",
       "      <td>0.85</td>\n",
       "      <td>0.67</td>\n",
       "      <td>1.68</td>\n",
       "      <td>0.0</td>\n",
       "    </tr>\n",
       "    <tr>\n",
       "      <th>6</th>\n",
       "      <td>23JSD01</td>\n",
       "      <td>低CPR</td>\n",
       "      <td>吉时代2023年第二期个人汽车抵押贷款资产支持证券</td>\n",
       "      <td>2.318688e+09</td>\n",
       "      <td>116.516960</td>\n",
       "      <td>0.85</td>\n",
       "      <td>0.67</td>\n",
       "      <td>1.68</td>\n",
       "      <td>0.0</td>\n",
       "    </tr>\n",
       "    <tr>\n",
       "      <th>7</th>\n",
       "      <td>23JSD02</td>\n",
       "      <td>低CPR</td>\n",
       "      <td>吉时代2023年第二期个人汽车抵押贷款资产支持证券</td>\n",
       "      <td>2.318688e+09</td>\n",
       "      <td>116.516960</td>\n",
       "      <td>0.85</td>\n",
       "      <td>0.67</td>\n",
       "      <td>1.68</td>\n",
       "      <td>0.0</td>\n",
       "    </tr>\n",
       "  </tbody>\n",
       "</table>\n",
       "</div>"
      ],
      "text/plain": [
       "        产品    场景                         DN            估值        票面估值   WAL  \\\n",
       "0  22JSD03  高CPR  吉时代2023年第二期个人汽车抵押贷款资产支持证券  2.327469e+09  116.958222  0.84   \n",
       "1  22JSD05  高CPR  吉时代2023年第二期个人汽车抵押贷款资产支持证券  2.327469e+09  116.958222  0.84   \n",
       "2  23JSD01  高CPR  吉时代2023年第二期个人汽车抵押贷款资产支持证券  2.327469e+09  116.958222  0.84   \n",
       "3  23JSD02  高CPR  吉时代2023年第二期个人汽车抵押贷款资产支持证券  2.327469e+09  116.958222  0.84   \n",
       "4  22JSD03  低CPR  吉时代2023年第二期个人汽车抵押贷款资产支持证券  2.318688e+09  116.516960  0.85   \n",
       "5  22JSD05  低CPR  吉时代2023年第二期个人汽车抵押贷款资产支持证券  2.318688e+09  116.516960  0.85   \n",
       "6  23JSD01  低CPR  吉时代2023年第二期个人汽车抵押贷款资产支持证券  2.318688e+09  116.516960  0.85   \n",
       "7  23JSD02  低CPR  吉时代2023年第二期个人汽车抵押贷款资产支持证券  2.318688e+09  116.516960  0.85   \n",
       "\n",
       "     久期    凸性  应计利息  \n",
       "0  0.65  1.67   0.0  \n",
       "1  0.65  1.67   0.0  \n",
       "2  0.65  1.67   0.0  \n",
       "3  0.65  1.67   0.0  \n",
       "4  0.67  1.68   0.0  \n",
       "5  0.67  1.68   0.0  \n",
       "6  0.67  1.68   0.0  \n",
       "7  0.67  1.68   0.0  "
      ]
     },
     "execution_count": 158,
     "metadata": {},
     "output_type": "execute_result"
    }
   ],
   "source": [
    "pd.DataFrame([{\"产品\":deal,\"场景\":scen,\"DN\":_v['_deal']['contents']['name']}| _v['pricing'].loc['优先A2级'].to_dict()\n",
    "                for scen,_v in v.items()\n",
    "                for deal,v in r.items()]\n",
    "            )"
   ]
  },
  {
   "cell_type": "code",
   "execution_count": 188,
   "id": "1dd12f61",
   "metadata": {},
   "outputs": [],
   "source": [
    "def flow_by_scenario(rs, flowpath, node=\"col\", rtn_df=True, rnd=2):\n",
    "    \"pull flows from multiple scenario\"\n",
    "    r = None\n",
    "    ax = None\n",
    "    if node==\"col\":\n",
    "        r = {k:query(v,flowpath[:-1])[flowpath[-1]] for k,v  in rs.items()}    \n",
    "        ax = 1\n",
    "    elif node==\"idx\":\n",
    "        r = {k:query(v,flowpath[:-1]).loc[flowpath[-1]] for k,v  in rs.items()}    \n",
    "        ax = 0\n",
    "    else:\n",
    "        r = {k:query(v,flowpath) for k,v in rs.items()}\n",
    "    if rtn_df:\n",
    "        _vs = list(r.values())\n",
    "        _ks = list(r.keys())\n",
    "        r = pd.concat(_vs,keys=_ks,axis=ax) \n",
    "    return r"
   ]
  },
  {
   "cell_type": "code",
   "execution_count": 190,
   "id": "9ca4a519",
   "metadata": {},
   "outputs": [
    {
     "data": {
      "text/plain": [
       "dict_keys(['22JSD03', '22JSD05', '23JSD01', '23JSD02'])"
      ]
     },
     "execution_count": 190,
     "metadata": {},
     "output_type": "execute_result"
    }
   ],
   "source": []
  },
  {
   "cell_type": "code",
   "execution_count": 196,
   "id": "e9c5357a",
   "metadata": {},
   "outputs": [
    {
     "data": {
      "text/plain": [
       "<AxesSubplot:xlabel='Date', ylabel='Principal & Interest'>"
      ]
     },
     "execution_count": 196,
     "metadata": {},
     "output_type": "execute_result"
    },
    {
     "data": {
      "image/png": "[encoded data removed]",
      "text/plain": [
       "<Figure size 640x480 with 1 Axes>"
      ]
     },
     "metadata": {},
     "output_type": "display_data"
    }
   ],
   "source": [
    "flow_by_scenario(r['23JSD02'],[\"bonds\",'优先A2级',\"本息合计\"]).plot.bar(xlabel=\"Date\",ylabel=\"Principal & Interest\",rot=45)"
   ]
  },
  {
   "cell_type": "code",
   "execution_count": null,
   "id": "48d5c686",
   "metadata": {},
   "outputs": [],
   "source": [
    "#日期\t       O/N\t   1W\t   2W\t   1M\t   3M\t   6M\t  9M\t1Y\n",
    "#2023-07-28\t1.4730\t1.8260\t2.0180\t2.0660\t2.0980\t2.1990\t2.2800\t2.3370\n",
    "{\"贴现日\":\"2023-08-05\",\"贴现曲线\":[[\"2023-01-01\",0.01473]\n",
    "                                ,[\"2023-08-15\",0.02018]\n",
    "                                ,[\"2023-08-30\",0.02066]\n",
    "                                ,[\"2023-10-30\",0.020980]\n",
    "                                ,[\"2024-01-30\",0.021990]\n",
    "                                ,[\"2024-04-30\",0.02280]\n",
    "                                ,[\"2024-07-30\",0.023370]\n",
    "                                ,[\"2024-07-30\",0.023370]\n",
    "                                ,[\"2025-07-30\",0.0265]]"
   ]
  },
  {
   "cell_type": "code",
   "execution_count": 183,
   "id": "4635eca7",
   "metadata": {},
   "outputs": [],
   "source": [
    "from absbox.local.component import flow_by_scenario\n",
    "from pyspecter import query"
   ]
  },
  {
   "cell_type": "code",
   "execution_count": 168,
   "id": "7a60e043",
   "metadata": {},
   "outputs": [
    {
     "data": {
      "text/html": [
       "<pre style=\"white-space:pre;overflow-x:auto;line-height:normal;font-family:Menlo,'DejaVu Sans Mono',consolas,'Courier New',monospace\"></pre>\n"
      ],
      "text/plain": []
     },
     "metadata": {},
     "output_type": "display_data"
    },
    {
     "data": {
      "text/html": [
       "<pre style=\"white-space:pre;overflow-x:auto;line-height:normal;font-family:Menlo,'DejaVu Sans Mono',consolas,'Courier New',monospace\">✅<span style=\"color: #008000; text-decoration-color: #008000; font-weight: bold\">Connected, local lib:0.</span><span style=\"color: #008000; text-decoration-color: #008000; font-weight: bold\">19.1</span><span style=\"color: #008000; text-decoration-color: #008000; font-weight: bold\">, server:</span><span style=\"color: #008000; text-decoration-color: #008000; font-weight: bold\">0.19</span><span style=\"color: #008000; text-decoration-color: #008000; font-weight: bold\">.</span><span style=\"color: #008000; text-decoration-color: #008000; font-weight: bold\">8</span>\n",
       "</pre>\n"
      ],
      "text/plain": [
       "✅\u001b[1;32mConnected, local li\u001b[0m\u001b[1;32mb:0\u001b[0m\u001b[1;32m.\u001b[0m\u001b[1;32m19.1\u001b[0m\u001b[1;32m, server:\u001b[0m\u001b[1;32m0.19\u001b[0m\u001b[1;32m.\u001b[0m\u001b[1;32m8\u001b[0m\n"
      ]
     },
     "metadata": {},
     "output_type": "display_data"
    },
    {
     "name": "stdout",
     "output_type": "stream",
     "text": [
      "········\n"
     ]
    },
    {
     "data": {
      "text/html": [
       "<pre style=\"white-space:pre;overflow-x:auto;line-height:normal;font-family:Menlo,'DejaVu Sans Mono',consolas,'Courier New',monospace\"></pre>\n"
      ],
      "text/plain": []
     },
     "metadata": {},
     "output_type": "display_data"
    },
    {
     "data": {
      "text/html": [
       "<pre style=\"white-space:pre;overflow-x:auto;line-height:normal;font-family:Menlo,'DejaVu Sans Mono',consolas,'Courier New',monospace\">✅<span style=\"color: #008000; text-decoration-color: #008000; font-weight: bold\"> login successfully,Login successfully with expire at </span><span style=\"color: #008000; text-decoration-color: #008000; font-weight: bold\">2023</span><span style=\"color: #008000; text-decoration-color: #008000; font-weight: bold\">-</span><span style=\"color: #008000; text-decoration-color: #008000; font-weight: bold\">08</span><span style=\"color: #008000; text-decoration-color: #008000; font-weight: bold\">-</span><span style=\"color: #008000; text-decoration-color: #008000; font-weight: bold\">30</span>\n",
       "</pre>\n"
      ],
      "text/plain": [
       "✅\u001b[1;32m login successfully,Login successfully with expire at \u001b[0m\u001b[1;32m2023\u001b[0m\u001b[1;32m-\u001b[0m\u001b[1;32m08\u001b[0m\u001b[1;32m-\u001b[0m\u001b[1;32m30\u001b[0m\n"
      ]
     },
     "metadata": {},
     "output_type": "display_data"
    }
   ],
   "source": [
    "#localAPI = API(\"https://absbox.org/api/dev\")\n",
    "localAPI = API(\"http://localhost:8081\")\n",
    "\n",
    "#library_url = \"https://absbox.org/library/latest\"\n",
    "library_url = \"http://localhost:5008\"\n",
    "\n",
    "localAPI.safeLogin(\"trial\",deal_library=library_url)"
   ]
  },
  {
   "cell_type": "code",
   "execution_count": 178,
   "id": "34717079",
   "metadata": {},
   "outputs": [
    {
     "data": {
      "text/html": [
       "<pre style=\"white-space:pre;overflow-x:auto;line-height:normal;font-family:Menlo,'DejaVu Sans Mono',consolas,'Courier New',monospace\">/opt/homebrew/lib/python3.11/site-packages/rich/live.py:231: UserWarning: install \"ipywidgets\" for Jupyter support\n",
       "  warnings.warn('install \"ipywidgets\" for Jupyter support')\n",
       "</pre>\n"
      ],
      "text/plain": [
       "/opt/homebrew/lib/python3.11/site-packages/rich/live.py:231: UserWarning: install \"ipywidgets\" for Jupyter support\n",
       "  warnings.warn('install \"ipywidgets\" for Jupyter support')\n"
      ]
     },
     "metadata": {},
     "output_type": "display_data"
    },
    {
     "data": {
      "text/html": [
       "<pre style=\"white-space:pre;overflow-x:auto;line-height:normal;font-family:Menlo,'DejaVu Sans Mono',consolas,'Courier New',monospace\"></pre>\n"
      ],
      "text/plain": []
     },
     "metadata": {},
     "output_type": "display_data"
    },
    {
     "data": {
      "text/html": [
       "<pre style=\"white-space:pre;overflow-x:auto;line-height:normal;font-family:Menlo,'DejaVu Sans Mono',consolas,'Courier New',monospace\">✅<span style=\"color: #008000; text-decoration-color: #008000; font-weight: bold\">run success with deal </span><span style=\"color: #008000; text-decoration-color: #008000; font-weight: bold\">id</span><span style=\"color: #008000; text-decoration-color: #008000; font-weight: bold\">=</span><span style=\"color: #008000; text-decoration-color: #008000; font-weight: bold\">23JSD02</span><span style=\"color: #008000; text-decoration-color: #008000; font-weight: bold\">/report </span><span style=\"color: #008000; text-decoration-color: #008000; font-weight: bold\">num</span><span style=\"color: #008000; text-decoration-color: #008000; font-weight: bold\">=</span><span style=\"color: #008000; text-decoration-color: #008000; font-weight: bold\">1</span><span style=\"color: #008000; text-decoration-color: #008000; font-weight: bold\">,</span><span style=\"color: #008000; text-decoration-color: #008000; font-weight: bold\">doc_id</span><span style=\"color: #008000; text-decoration-color: #008000; font-weight: bold\">=</span><span style=\"color: #008000; text-decoration-color: #008000; font-weight: bold\">64c15149945fe1aa4ff0c091</span>\n",
       "</pre>\n"
      ],
      "text/plain": [
       "✅\u001b[1;32mrun success with deal \u001b[0m\u001b[1;32mid\u001b[0m\u001b[1;32m=\u001b[0m\u001b[1;32m23JSD02\u001b[0m\u001b[1;32m/report \u001b[0m\u001b[1;32mnum\u001b[0m\u001b[1;32m=\u001b[0m\u001b[1;32m1\u001b[0m\u001b[1;32m,\u001b[0m\u001b[1;32mdoc_id\u001b[0m\u001b[1;32m=\u001b[0m\u001b[1;32m64c15149945fe1aa4ff0c091\u001b[0m\n"
      ]
     },
     "metadata": {},
     "output_type": "display_data"
    }
   ],
   "source": [
    "#cprs = [{\"CPR\":0.0436}, {\"CPR\":0.0310}]\n",
    "#cdr = {\"CDR\":0.001}\n",
    "\n",
    "tt = localAPI.runLibrary(\"23JSD02\"\n",
    "                 ,deal_library=library_url\n",
    "                 ,pricing = pricing_curve_base\n",
    "                 ,assump = [{\"CDR\":0.001},{\"CPR\":0.0436}]\n",
    "                 ,reader=\"china.SPV\"\n",
    "                 ,production=True\n",
    "                 ,read=True)"
   ]
  },
  {
   "cell_type": "code",
   "execution_count": 176,
   "id": "1bf1bdf9",
   "metadata": {},
   "outputs": [
    {
     "data": {
      "text/html": [
       "<div>\n",
       "<style scoped>\n",
       "    .dataframe tbody tr th:only-of-type {\n",
       "        vertical-align: middle;\n",
       "    }\n",
       "\n",
       "    .dataframe tbody tr th {\n",
       "        vertical-align: top;\n",
       "    }\n",
       "\n",
       "    .dataframe thead th {\n",
       "        text-align: right;\n",
       "    }\n",
       "</style>\n",
       "<table border=\"1\" class=\"dataframe\">\n",
       "  <thead>\n",
       "    <tr style=\"text-align: right;\">\n",
       "      <th></th>\n",
       "      <th>估值</th>\n",
       "      <th>票面估值</th>\n",
       "      <th>WAL</th>\n",
       "      <th>久期</th>\n",
       "      <th>凸性</th>\n",
       "      <th>应计利息</th>\n",
       "    </tr>\n",
       "  </thead>\n",
       "  <tbody>\n",
       "    <tr>\n",
       "      <th>优先A1级</th>\n",
       "      <td>1.180260e+09</td>\n",
       "      <td>73.766278</td>\n",
       "      <td>0.47</td>\n",
       "      <td>0.40</td>\n",
       "      <td>0.73</td>\n",
       "      <td>0</td>\n",
       "    </tr>\n",
       "    <tr>\n",
       "      <th>优先A2级</th>\n",
       "      <td>2.327469e+09</td>\n",
       "      <td>116.958222</td>\n",
       "      <td>0.84</td>\n",
       "      <td>0.65</td>\n",
       "      <td>1.67</td>\n",
       "      <td>0</td>\n",
       "    </tr>\n",
       "    <tr>\n",
       "      <th>次级</th>\n",
       "      <td>7.359770e+08</td>\n",
       "      <td>110.672313</td>\n",
       "      <td>1.99</td>\n",
       "      <td>1.90</td>\n",
       "      <td>6.24</td>\n",
       "      <td>0</td>\n",
       "    </tr>\n",
       "  </tbody>\n",
       "</table>\n",
       "</div>"
      ],
      "text/plain": [
       "                 估值        票面估值   WAL    久期    凸性  应计利息\n",
       "优先A1级  1.180260e+09   73.766278  0.47  0.40  0.73     0\n",
       "优先A2级  2.327469e+09  116.958222  0.84  0.65  1.67     0\n",
       "次级     7.359770e+08  110.672313  1.99  1.90  6.24     0"
      ]
     },
     "execution_count": 176,
     "metadata": {},
     "output_type": "execute_result"
    }
   ],
   "source": [
    "tt['pricing']"
   ]
  },
  {
   "cell_type": "code",
   "execution_count": null,
   "id": "54fb86b0",
   "metadata": {},
   "outputs": [],
   "source": []
  }
 ],
 "metadata": {
  "kernelspec": {
   "display_name": "Python 3 (ipykernel)",
   "language": "python",
   "name": "python3"
  },
  "language_info": {
   "codemirror_mode": {
    "name": "ipython",
    "version": 3
   },
   "file_extension": ".py",
   "mimetype": "text/x-python",
   "name": "python",
   "nbconvert_exporter": "python",
   "pygments_lexer": "ipython3",
   "version": "3.12.3"
  }
 },
 "nbformat": 4,
 "nbformat_minor": 5
}
