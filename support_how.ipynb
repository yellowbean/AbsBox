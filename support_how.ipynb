{
 "cells": [
  {
   "cell_type": "code",
   "execution_count": 2,
   "id": "18b0d815",
   "metadata": {},
   "outputs": [],
   "source": [
    "from absbox import API,Generic"
   ]
  },
  {
   "cell_type": "code",
   "execution_count": 4,
   "id": "09cafe56",
   "metadata": {},
   "outputs": [
    {
     "data": {
      "text/html": [
       "<pre style=\"white-space:pre;overflow-x:auto;line-height:normal;font-family:Menlo,'DejaVu Sans Mono',consolas,'Courier New',monospace\"><span style=\"color: #008000; text-decoration-color: #008000\">⠇</span> <span style=\"color: #800080; text-decoration-color: #800080\">Connecting engine server -&gt; https://absbox.org/api/latest</span>\n",
       "</pre>\n"
      ],
      "text/plain": [
       "\u001b[32m⠇\u001b[0m \u001b[35mConnecting engine server -> https://absbox.org/api/latest\u001b[0m\n"
      ]
     },
     "metadata": {},
     "output_type": "display_data"
    },
    {
     "data": {
      "text/html": [
       "<pre style=\"white-space:pre;overflow-x:auto;line-height:normal;font-family:Menlo,'DejaVu Sans Mono',consolas,'Courier New',monospace\"></pre>\n"
      ],
      "text/plain": []
     },
     "metadata": {},
     "output_type": "display_data"
    },
    {
     "data": {
      "text/html": [
       "<pre style=\"white-space:pre;overflow-x:auto;line-height:normal;font-family:Menlo,'DejaVu Sans Mono',consolas,'Courier New',monospace\">✅<span style=\"color: #008000; text-decoration-color: #008000; font-weight: bold\">Connected, local lib:0.</span><span style=\"color: #008000; text-decoration-color: #008000; font-weight: bold\">20.2</span><span style=\"color: #008000; text-decoration-color: #008000; font-weight: bold\">, server:</span><span style=\"color: #008000; text-decoration-color: #008000; font-weight: bold\">0.22</span><span style=\"color: #008000; text-decoration-color: #008000; font-weight: bold\">.</span><span style=\"color: #008000; text-decoration-color: #008000; font-weight: bold\">2</span>\n",
       "</pre>\n"
      ],
      "text/plain": [
       "✅\u001b[1;32mConnected, local li\u001b[0m\u001b[1;32mb:0\u001b[0m\u001b[1;32m.\u001b[0m\u001b[1;32m20.2\u001b[0m\u001b[1;32m, server:\u001b[0m\u001b[1;32m0.22\u001b[0m\u001b[1;32m.\u001b[0m\u001b[1;32m2\u001b[0m\n"
      ]
     },
     "metadata": {},
     "output_type": "display_data"
    }
   ],
   "source": [
    "localAPI = API(\"https://absbox.org/api/latest\",lang='english',check=False)"
   ]
  },
  {
   "cell_type": "code",
   "execution_count": 7,
   "id": "3d331de0",
   "metadata": {},
   "outputs": [
    {
     "data": {
      "text/html": [
       "<pre style=\"white-space:pre;overflow-x:auto;line-height:normal;font-family:Menlo,'DejaVu Sans Mono',consolas,'Courier New',monospace\"><span style=\"color: #008000; text-decoration-color: #008000\">⠴</span>\n",
       "</pre>\n"
      ],
      "text/plain": [
       "\u001b[32m⠴\u001b[0m\n"
      ]
     },
     "metadata": {},
     "output_type": "display_data"
    },
    {
     "data": {
      "text/html": [
       "<pre style=\"white-space:pre;overflow-x:auto;line-height:normal;font-family:Menlo,'DejaVu Sans Mono',consolas,'Courier New',monospace\"></pre>\n"
      ],
      "text/plain": []
     },
     "metadata": {},
     "output_type": "display_data"
    },
    {
     "ename": "KeyError",
     "evalue": "'rateCap'",
     "output_type": "error",
     "traceback": [
      "\u001b[0;31m---------------------------------------------------------------------------\u001b[0m",
      "\u001b[0;31mKeyError\u001b[0m                                  Traceback (most recent call last)",
      "Cell \u001b[0;32mIn[7], line 64\u001b[0m\n\u001b[1;32m      1\u001b[0m asset \u001b[38;5;241m=\u001b[39m [\u001b[38;5;124m\"\u001b[39m\u001b[38;5;124mAdjustRateMortgage\u001b[39m\u001b[38;5;124m\"\u001b[39m\n\u001b[1;32m      2\u001b[0m         ,{\u001b[38;5;124m\"\u001b[39m\u001b[38;5;124moriginBalance\u001b[39m\u001b[38;5;124m\"\u001b[39m:\u001b[38;5;241m73_875.00\u001b[39m\n\u001b[1;32m      3\u001b[0m           ,\u001b[38;5;124m\"\u001b[39m\u001b[38;5;124moriginRate\u001b[39m\u001b[38;5;124m\"\u001b[39m:[\u001b[38;5;124m\"\u001b[39m\u001b[38;5;124mfloater\u001b[39m\u001b[38;5;124m\"\u001b[39m,\u001b[38;5;241m0.04\u001b[39m,{\u001b[38;5;124m\"\u001b[39m\u001b[38;5;124mindex\u001b[39m\u001b[38;5;124m\"\u001b[39m:\u001b[38;5;124m\"\u001b[39m\u001b[38;5;124mUSCMT1Y\u001b[39m\u001b[38;5;124m\"\u001b[39m\n\u001b[0;32m   (...)\u001b[0m\n\u001b[1;32m     11\u001b[0m           ,\u001b[38;5;124m\"\u001b[39m\u001b[38;5;124mremainTerm\u001b[39m\u001b[38;5;124m\"\u001b[39m:\u001b[38;5;241m77\u001b[39m\n\u001b[1;32m     12\u001b[0m           ,\u001b[38;5;124m\"\u001b[39m\u001b[38;5;124mstatus\u001b[39m\u001b[38;5;124m\"\u001b[39m:\u001b[38;5;124m\"\u001b[39m\u001b[38;5;124mcurrent\u001b[39m\u001b[38;5;124m\"\u001b[39m}]\n\u001b[1;32m     14\u001b[0m GNMA_36208ALG4 \u001b[38;5;241m=\u001b[39m Generic(\n\u001b[1;32m     15\u001b[0m     \u001b[38;5;124m\"\u001b[39m\u001b[38;5;124m820146/36208ALG4/G2-Custom AR\u001b[39m\u001b[38;5;124m\"\u001b[39m\n\u001b[1;32m     16\u001b[0m     ,{\u001b[38;5;124m\"\u001b[39m\u001b[38;5;124mcollect\u001b[39m\u001b[38;5;124m\"\u001b[39m:[\u001b[38;5;124m\"\u001b[39m\u001b[38;5;124m2023-05-01\u001b[39m\u001b[38;5;124m\"\u001b[39m,\u001b[38;5;124m\"\u001b[39m\u001b[38;5;124m2023-05-31\u001b[39m\u001b[38;5;124m\"\u001b[39m]\n\u001b[0;32m   (...)\u001b[0m\n\u001b[1;32m     60\u001b[0m     ,{\u001b[38;5;124m\"\u001b[39m\u001b[38;5;124mGinnie_Mae\u001b[39m\u001b[38;5;124m\"\u001b[39m:{\u001b[38;5;124m\"\u001b[39m\u001b[38;5;124mtype\u001b[39m\u001b[38;5;124m\"\u001b[39m:\u001b[38;5;124m\"\u001b[39m\u001b[38;5;124mUnlimited\u001b[39m\u001b[38;5;124m\"\u001b[39m,\u001b[38;5;124m\"\u001b[39m\u001b[38;5;124mstart\u001b[39m\u001b[38;5;124m\"\u001b[39m:\u001b[38;5;124m\"\u001b[39m\u001b[38;5;124m2023-05-26\u001b[39m\u001b[38;5;124m\"\u001b[39m}}\n\u001b[1;32m     61\u001b[0m     ,\u001b[38;5;28;01mNone\u001b[39;00m)\n\u001b[0;32m---> 64\u001b[0m r \u001b[38;5;241m=\u001b[39m \u001b[43mlocalAPI\u001b[49m\u001b[38;5;241;43m.\u001b[39;49m\u001b[43mrun\u001b[49m\u001b[43m(\u001b[49m\u001b[43mGNMA_36208ALG4\u001b[49m\n\u001b[1;32m     65\u001b[0m \u001b[43m                \u001b[49m\u001b[43m,\u001b[49m\u001b[43mrunAssump\u001b[49m\u001b[43m \u001b[49m\u001b[38;5;241;43m=\u001b[39;49m\u001b[43m \u001b[49m\u001b[43m[\u001b[49m\u001b[43m(\u001b[49m\u001b[38;5;124;43m\"\u001b[39;49m\u001b[38;5;124;43minspect\u001b[39;49m\u001b[38;5;124;43m\"\u001b[39;49m\u001b[43m,\u001b[49m\u001b[43m(\u001b[49m\u001b[38;5;124;43m\"\u001b[39;49m\u001b[38;5;124;43mMonthEnd\u001b[39;49m\u001b[38;5;124;43m\"\u001b[39;49m\u001b[43m,\u001b[49m\u001b[43m(\u001b[49m\u001b[38;5;124;43m\"\u001b[39;49m\u001b[38;5;124;43mcumPoolDefaultedBalance\u001b[39;49m\u001b[38;5;124;43m\"\u001b[39;49m\u001b[43m,\u001b[49m\u001b[43m)\u001b[49m\u001b[43m)\u001b[49m\n\u001b[1;32m     66\u001b[0m \u001b[43m                                         \u001b[49m\u001b[43m,\u001b[49m\u001b[43m(\u001b[49m\u001b[38;5;124;43m\"\u001b[39;49m\u001b[38;5;124;43mMonthEnd\u001b[39;49m\u001b[38;5;124;43m\"\u001b[39;49m\u001b[43m,\u001b[49m\u001b[43m(\u001b[49m\u001b[38;5;124;43m\"\u001b[39;49m\u001b[38;5;124;43mliqBalance\u001b[39;49m\u001b[38;5;124;43m\"\u001b[39;49m\u001b[43m,\u001b[49m\u001b[38;5;124;43m\"\u001b[39;49m\u001b[38;5;124;43mGinnie_Mae\u001b[39;49m\u001b[38;5;124;43m\"\u001b[39;49m\u001b[43m)\u001b[49m\u001b[43m)\u001b[49m\u001b[43m)\u001b[49m\n\u001b[1;32m     67\u001b[0m \u001b[43m                              \u001b[49m\u001b[43m,\u001b[49m\u001b[43m(\u001b[49m\u001b[38;5;124;43m\"\u001b[39;49m\u001b[38;5;124;43minterest\u001b[39;49m\u001b[38;5;124;43m\"\u001b[39;49m\u001b[43m,\u001b[49m\u001b[43m(\u001b[49m\u001b[38;5;124;43m\"\u001b[39;49m\u001b[38;5;124;43mUSCMT1Y\u001b[39;49m\u001b[38;5;124;43m\"\u001b[39;49m\u001b[43m,\u001b[49m\u001b[38;5;241;43m0.0468\u001b[39;49m\u001b[43m)\u001b[49m\u001b[43m)\u001b[49m\u001b[43m]\u001b[49m\n\u001b[1;32m     68\u001b[0m \u001b[43m                \u001b[49m\u001b[43m,\u001b[49m\u001b[43mpoolAssump\u001b[49m\u001b[43m \u001b[49m\u001b[38;5;241;43m=\u001b[39;49m\u001b[43m \u001b[49m\u001b[43m(\u001b[49m\u001b[38;5;124;43m\"\u001b[39;49m\u001b[38;5;124;43mPool\u001b[39;49m\u001b[38;5;124;43m\"\u001b[39;49m\n\u001b[1;32m     69\u001b[0m \u001b[43m                              \u001b[49m\u001b[43m,\u001b[49m\u001b[43m(\u001b[49m\u001b[38;5;124;43m\"\u001b[39;49m\u001b[38;5;124;43mMortgage\u001b[39;49m\u001b[38;5;124;43m\"\u001b[39;49m\u001b[43m,\u001b[49m\u001b[43m{\u001b[49m\u001b[38;5;124;43m\"\u001b[39;49m\u001b[38;5;124;43mCDR\u001b[39;49m\u001b[38;5;124;43m\"\u001b[39;49m\u001b[43m:\u001b[49m\u001b[38;5;241;43m0.005\u001b[39;49m\u001b[43m}\u001b[49m\u001b[43m,\u001b[49m\u001b[38;5;28;43;01mNone\u001b[39;49;00m\u001b[43m,\u001b[49m\u001b[43m{\u001b[49m\u001b[38;5;124;43m\"\u001b[39;49m\u001b[38;5;124;43mRate\u001b[39;49m\u001b[38;5;124;43m\"\u001b[39;49m\u001b[43m:\u001b[49m\u001b[38;5;241;43m0.3\u001b[39;49m\u001b[43m,\u001b[49m\u001b[38;5;124;43m\"\u001b[39;49m\u001b[38;5;124;43mLag\u001b[39;49m\u001b[38;5;124;43m\"\u001b[39;49m\u001b[43m:\u001b[49m\u001b[38;5;241;43m4\u001b[39;49m\u001b[43m}\u001b[49m\u001b[43m,\u001b[49m\u001b[38;5;28;43;01mNone\u001b[39;49;00m\u001b[43m)\u001b[49m\n\u001b[1;32m     70\u001b[0m \u001b[43m                              \u001b[49m\u001b[43m,\u001b[49m\u001b[38;5;28;43;01mNone\u001b[39;49;00m\n\u001b[1;32m     71\u001b[0m \u001b[43m                              \u001b[49m\u001b[43m,\u001b[49m\u001b[38;5;28;43;01mNone\u001b[39;49;00m\u001b[43m)\u001b[49m\n\u001b[1;32m     72\u001b[0m \u001b[43m                \u001b[49m\u001b[43m,\u001b[49m\u001b[43mread\u001b[49m\u001b[38;5;241;43m=\u001b[39;49m\u001b[38;5;28;43;01mTrue\u001b[39;49;00m\u001b[43m)\u001b[49m\n\u001b[1;32m     74\u001b[0m \u001b[38;5;66;03m# Inspect cumulative defaulted balance\u001b[39;00m\n\u001b[1;32m     75\u001b[0m r[\u001b[38;5;124m'\u001b[39m\u001b[38;5;124mresult\u001b[39m\u001b[38;5;124m'\u001b[39m][\u001b[38;5;124m'\u001b[39m\u001b[38;5;124minspect\u001b[39m\u001b[38;5;124m'\u001b[39m][\u001b[38;5;124m'\u001b[39m\u001b[38;5;124m<CumulativePoolDefaultedBalance>\u001b[39m\u001b[38;5;124m'\u001b[39m]\n",
      "File \u001b[0;32m~/Projects/PyABS/absbox/client.py:154\u001b[0m, in \u001b[0;36mAPI.run\u001b[0;34m(self, deal, poolAssump, runAssump, read, preCheck)\u001b[0m\n\u001b[1;32m    152\u001b[0m     \u001b[38;5;28;01mreturn\u001b[39;00m mapValsBy(result, deal\u001b[38;5;241m.\u001b[39mread)\n\u001b[1;32m    153\u001b[0m \u001b[38;5;28;01melif\u001b[39;00m read:\n\u001b[0;32m--> 154\u001b[0m     \u001b[38;5;28;01mreturn\u001b[39;00m \u001b[43mdeal\u001b[49m\u001b[38;5;241;43m.\u001b[39;49m\u001b[43mread\u001b[49m\u001b[43m(\u001b[49m\u001b[43mresult\u001b[49m\u001b[43m)\u001b[49m\n\u001b[1;32m    155\u001b[0m \u001b[38;5;28;01melse\u001b[39;00m:\n\u001b[1;32m    156\u001b[0m     \u001b[38;5;28;01mreturn\u001b[39;00m result\n",
      "File \u001b[0;32m~/Projects/PyABS/absbox/local/generic.py:94\u001b[0m, in \u001b[0;36mGeneric.read\u001b[0;34m(resp)\u001b[0m\n\u001b[1;32m     92\u001b[0m output \u001b[38;5;241m=\u001b[39m {}\n\u001b[1;32m     93\u001b[0m \u001b[38;5;28;01mfor\u001b[39;00m comp_name, comp_v \u001b[38;5;129;01min\u001b[39;00m read_paths\u001b[38;5;241m.\u001b[39mitems():\n\u001b[0;32m---> 94\u001b[0m     \u001b[38;5;28;01mif\u001b[39;00m \u001b[43mdeal_content\u001b[49m\u001b[43m[\u001b[49m\u001b[43mcomp_name\u001b[49m\u001b[43m]\u001b[49m \u001b[38;5;129;01mis\u001b[39;00m \u001b[38;5;28;01mNone\u001b[39;00m:\n\u001b[1;32m     95\u001b[0m         \u001b[38;5;28;01mcontinue\u001b[39;00m\n\u001b[1;32m     96\u001b[0m     output[comp_name] \u001b[38;5;241m=\u001b[39m {}\n",
      "\u001b[0;31mKeyError\u001b[0m: 'rateCap'"
     ]
    }
   ],
   "source": [
    "\n",
    "\n",
    "asset = [\"AdjustRateMortgage\"\n",
    "        ,{\"originBalance\":73_875.00\n",
    "          ,\"originRate\":[\"floater\",0.04,{\"index\":\"USCMT1Y\"\n",
    "                                        ,\"spread\":0.01\n",
    "                                        ,\"reset\":\"YearFirst\"}]\n",
    "          ,\"originTerm\":360\n",
    "          ,\"freq\":\"Monthly\",\"type\":\"Level\",\"originDate\":\"1999-05-01\"\n",
    "          ,\"arm\":{\"initPeriod\":2,\"firstCap\":0.01,\"periodicCap\":0.01,\"lifeCap\":0.09}}\n",
    "          ,{\"currentBalance\":20_788.41\n",
    "          ,\"currentRate\":0.0215\n",
    "          ,\"remainTerm\":77\n",
    "          ,\"status\":\"current\"}]\n",
    "\n",
    "GNMA_36208ALG4 = Generic(\n",
    "    \"820146/36208ALG4/G2-Custom AR\"\n",
    "    ,{\"collect\":[\"2023-05-01\",\"2023-05-31\"]\n",
    "        ,\"pay\":[\"2023-05-26\",\"2023-06-28\"]\n",
    "        ,\"stated\":\"2070-01-01\"\n",
    "        ,\"poolFreq\":\"MonthEnd\"\n",
    "        ,\"payFreq\":[\"DayOfMonth\",20]}\n",
    "    ,{'assets':[asset]\n",
    "      ,\"issuanceStat\":{\"IssuanceBalance\":100000}\n",
    "     }\n",
    "    ,((\"acc01\",{\"balance\":0}),)\n",
    "    ,((\"A1\",{\"balance\":20_899.37\n",
    "             ,\"rate\":0.025\n",
    "             ,\"originBalance\":1_553_836.00\n",
    "             ,\"originRate\":0.07\n",
    "             ,\"startDate\":\"2020-01-03\"\n",
    "             ,\"rateType\":{\"floater\": [0.07,\"USCMT1Y\",0.01,\"YearFirst\"],\"dayCount\":\"DC_30_360_US\"}\n",
    "             ,\"bondType\":{\"Sequential\":None}\n",
    "             ,\"lastAccrueDate\":\"2023-04-30\"})\n",
    "      ,)\n",
    "    ,((\"Ginnie_Mae_guaranty\",\n",
    "       {\"type\":{\"annualPctFee\":[(\"poolBalance\",),0.0006]}\n",
    "       ,\"feeDueDate\":\"2023-04-26\"}),\n",
    "      (\"service_fee\",\n",
    "       {\"type\":{\"annualPctFee\":[(\"poolBalance\",)\n",
    "                                ,(\"Max\"\n",
    "                                  ,(\"substract\",(\"poolWaRate\",),(\"bondRate\",\"A1\"))\n",
    "                                  ,(\"constant\",0))]}\n",
    "       ,\"feeDueDate\":\"2023-04-26\"}))\n",
    "    ,{\"amortizing\":[\n",
    "         [\"calcFee\",\"Ginnie_Mae_guaranty\",\"service_fee\"]\n",
    "         ,[\"payFee\",\"acc01\",['Ginnie_Mae_guaranty',\"service_fee\"]]\n",
    "         ,[\"payInt\",\"acc01\",[\"A1\"]]\n",
    "         ,[\"payPrin\",\"acc01\",[\"A1\"]]]\n",
    "      ,\"endOfCollection\":[\n",
    "          [\"liqSupport\",\"Ginnie_Mae\",\"account\",\"acc01\"\n",
    "              ,{\"formula\": \n",
    "                (\"floorWithZero\"\n",
    "                ,(\"substract\",(\"cumPoolDefaultedBalance\",)\n",
    "                            ,(\"liqBalance\",\"Ginnie_Mae\")))}\n",
    "              ]\n",
    "          ,[\"calcInt\",\"A1\"]]}\n",
    "    ,[[\"CollectedInterest\",\"acc01\"]\n",
    "      ,[\"CollectedPrincipal\",\"acc01\"]\n",
    "      ,[\"CollectedPrepayment\",\"acc01\"]\n",
    "      ,[\"CollectedRecoveries\",\"acc01\"]]\n",
    "    ,{\"Ginnie_Mae\":{\"type\":\"Unlimited\",\"start\":\"2023-05-26\"}}\n",
    "    ,None)\n",
    "\n",
    "\n",
    "r = localAPI.run(GNMA_36208ALG4\n",
    "                ,runAssump = [(\"inspect\",(\"MonthEnd\",(\"cumPoolDefaultedBalance\",))\n",
    "                                         ,(\"MonthEnd\",(\"liqBalance\",\"Ginnie_Mae\")))\n",
    "                              ,(\"interest\",(\"USCMT1Y\",0.0468))]\n",
    "                ,poolAssump = (\"Pool\"\n",
    "                              ,(\"Mortgage\",{\"CDR\":0.005},None,{\"Rate\":0.3,\"Lag\":4},None)\n",
    "                              ,None\n",
    "                              ,None)\n",
    "                ,read=True)\n",
    "\n",
    "# Inspect cumulative defaulted balance\n",
    "r['result']['inspect']['<CumulativePoolDefaultedBalance>']\n",
    "\n",
    "# Inspect credit provided by Ginnie Mae\n",
    "r['result']['inspect']['<LiqBalance:Ginnie_Mae>']\n",
    "\n",
    "# the cash deposited to SPV in account `acc01`\n",
    "r['accounts']['acc01'][r['accounts']['acc01'][\"memo\"]==\"<Support:Ginnie_Mae>\"]"
   ]
  },
  {
   "cell_type": "code",
   "execution_count": null,
   "id": "f998638e",
   "metadata": {},
   "outputs": [],
   "source": []
  }
 ],
 "metadata": {
  "kernelspec": {
   "display_name": "Python 3 (ipykernel)",
   "language": "python",
   "name": "python3"
  },
  "language_info": {
   "codemirror_mode": {
    "name": "ipython",
    "version": 3
   },
   "file_extension": ".py",
   "mimetype": "text/x-python",
   "name": "python",
   "nbconvert_exporter": "python",
   "pygments_lexer": "ipython3",
   "version": "3.11.3"
  }
 },
 "nbformat": 4,
 "nbformat_minor": 5
}
