{
 "cells": [
  {
   "cell_type": "code",
   "execution_count": 83,
   "id": "b632b433",
   "metadata": {},
   "outputs": [],
   "source": [
    "from absbox import Generic\n",
    "\n",
    "seniorBalance = 1000\n",
    "srtTrancheBal = 200\n",
    "srtRate = 0.08\n",
    "closingDate = \"2021-06-15\"\n",
    "periodPrincipal = (\"curPoolCollection\", None, \"Principal\",\"Prepayment\",\"Recovery\")\n",
    "reinvestRate = 0.00\n",
    "\n",
    "\n",
    "srt01 = Generic(\n",
    "    \"SRT Example\"\n",
    "    ,{\"cutoff\":\"2021-06-01\",\"closing\":closingDate,\"firstPay\":\"2021-07-20\"\n",
    "     ,\"payFreq\":[\"DayOfMonth\",20],\"poolFreq\":\"MonthEnd\",\"stated\":\"2030-01-01\"}\n",
    "    ,{'assets':[[\"Mortgage\"\n",
    "        ,{\"originBalance\":2200,\"originRate\":[\"fix\",0.045],\"originTerm\":24\n",
    "          ,\"freq\":\"Monthly\",\"type\":\"Level\",\"originDate\":\"2021-06-01\"}\n",
    "          ,{\"currentBalance\":2200\n",
    "          ,\"currentRate\":0.08\n",
    "          ,\"remainTerm\":24\n",
    "          ,\"status\":\"current\"}]],\n",
    "     }\n",
    "    ,((\"acc01\",{\"balance\":0})\n",
    "      ,(\"srtAcc\",{\"balance\":0.0\n",
    "                  ,\"interest\":{\"period\":\"QuarterEnd\"\n",
    "                               ,\"rate\":reinvestRate\n",
    "                               ,\"lastSettleDate\":closingDate}})\n",
    "      ,(\"dummy\",{\"balance\":0.0})\n",
    "      ,)\n",
    "    ,((\"A1\",{\"balance\":seniorBalance\n",
    "             ,\"rate\":0.00\n",
    "             ,\"originBalance\":seniorBalance\n",
    "             ,\"originRate\":0.00\n",
    "             ,\"startDate\":closingDate\n",
    "             ,\"rateType\":{\"Fixed\":0.00}\n",
    "             ,\"bondType\":{\"Sequential\":None}})\n",
    "      ,(\"B\",{\"balance\":0.0\n",
    "             ,\"rate\":srtRate\n",
    "             ,\"originBalance\":0\n",
    "             ,\"originRate\":srtRate\n",
    "             ,\"startDate\":closingDate\n",
    "             ,\"rateType\":{\"Fixed\":srtRate}\n",
    "             ,\"bondType\":{\"Sequential\":None}\n",
    "             }))\n",
    "    ,tuple()\n",
    "    ,{\"amortizing\":[\n",
    "          # pay prorata to senior and SRT tranch\n",
    "         ['accrueAndPayInt',\"dummy\",[\"A1\"],{\"support\":[\"facility\",\"originator\"]}\n",
    "           ]\n",
    "         #,[\"calcInt\",\"B\"]\n",
    "         #,[\"payInt\",\"dummy\",[\"B\"],{\"support\":[\"facility\",\"originator\"]}]\n",
    "\n",
    "         ,[\"calcBondPrin\",[\"A1\",\"B\"],{\"formula\":periodPrincipal}] \n",
    "\n",
    "         ,[\"payPrinWithDue\",\"acc01\",[\"A1\"]]         \n",
    "         ,[\"payPrinWithDue\",\"srtAcc\",[\"B\"]]\n",
    "\n",
    "     ],\n",
    "      \"closingDay\":[\n",
    "                    [\"fundWith\",\"srtAcc\",\"B\",{\"formula\":(\"const\",srtTrancheBal)}]\n",
    "                   ],\n",
    "      \"endOfCollection\":[\n",
    "          # draw loss amount and pay to originator\n",
    "          [\"liqRepayResidual\",\"srtAcc\", \"originator\", {\"formula\":(\"curPoolCollection\",None,\"Losses\")}]\n",
    "      ],\n",
    "      \"cleanUp\":[\n",
    "          [\"payIntResidual\",\"srtAcc\",\"B\"]\n",
    "      ]\n",
    "     }\n",
    "    ,[[\"CollectedInterest\",\"acc01\"]\n",
    "      ,[\"CollectedPrincipal\",\"acc01\"]\n",
    "      ,[\"CollectedPrepayment\",\"acc01\"]\n",
    "      ,[\"CollectedRecoveries\",\"acc01\"]]\n",
    "    ,{\"originator\":{\"type\" : \"Unlimited\", \"start\": closingDate}}\n",
    "    ,None\n",
    "    ,None\n",
    "    ,None\n",
    "    ,(\"PreClosing\",\"Amortizing\")\n",
    "    )"
   ]
  },
  {
   "cell_type": "code",
   "execution_count": 84,
   "id": "88f11c3d",
   "metadata": {},
   "outputs": [
    {
     "data": {
      "text/html": [
       "<pre style=\"white-space:pre;overflow-x:auto;line-height:normal;font-family:Menlo,'DejaVu Sans Mono',consolas,'Courier New',monospace\"><span style=\"color: #800080; text-decoration-color: #800080; font-weight: bold\">Connecting engine server -&gt; </span><span style=\"color: #800080; text-decoration-color: #800080; font-weight: bold; text-decoration: underline\">http://localhost:8081</span>\n",
       "</pre>\n"
      ],
      "text/plain": [
       "\u001b[1;35mConnecting engine server -> \u001b[0m\u001b[1;4;35mhttp://localhost:8081\u001b[0m\n"
      ]
     },
     "metadata": {},
     "output_type": "display_data"
    },
    {
     "data": {
      "text/html": [
       "<pre style=\"white-space:pre;overflow-x:auto;line-height:normal;font-family:Menlo,'DejaVu Sans Mono',consolas,'Courier New',monospace\">✅<span style=\"color: #008000; text-decoration-color: #008000; font-weight: bold\">Connected, local lib:0.</span><span style=\"color: #008000; text-decoration-color: #008000; font-weight: bold\">28.7</span><span style=\"color: #008000; text-decoration-color: #008000; font-weight: bold\">, server:</span><span style=\"color: #008000; text-decoration-color: #008000; font-weight: bold\">0.29</span><span style=\"color: #008000; text-decoration-color: #008000; font-weight: bold\">.</span><span style=\"color: #008000; text-decoration-color: #008000; font-weight: bold\">15</span>\n",
       "</pre>\n"
      ],
      "text/plain": [
       "✅\u001b[1;32mConnected, local li\u001b[0m\u001b[1;32mb:0\u001b[0m\u001b[1;32m.\u001b[0m\u001b[1;32m28.7\u001b[0m\u001b[1;32m, server:\u001b[0m\u001b[1;32m0.29\u001b[0m\u001b[1;32m.\u001b[0m\u001b[1;32m15\u001b[0m\n"
      ]
     },
     "metadata": {},
     "output_type": "display_data"
    }
   ],
   "source": [
    "from absbox import API,EnginePath\n",
    "\n",
    "localAPI = API(EnginePath.LOCAL, lang='english', check=False)"
   ]
  },
  {
   "cell_type": "code",
   "execution_count": 85,
   "id": "ef2a4155",
   "metadata": {},
   "outputs": [
    {
     "data": {
      "text/html": [
       "<pre style=\"white-space:pre;overflow-x:auto;line-height:normal;font-family:Menlo,'DejaVu Sans Mono',consolas,'Courier New',monospace\">Warning Message from server:\n",
       "<span style=\"color: #808000; text-decoration-color: #808000; font-weight: bold\">Bond A1 is not paid off</span>\n",
       "<span style=\"color: #808000; text-decoration-color: #808000; font-weight: bold\">Bond B is not paid off</span>\n",
       "<span style=\"color: #808000; text-decoration-color: #808000; font-weight: bold\">Account acc01 has cash to be distributed</span>\n",
       "<span style=\"color: #808000; text-decoration-color: #808000; font-weight: bold\">LiquidityProvider originator is not paid off</span>\n",
       "</pre>\n"
      ],
      "text/plain": [
       "Warning Message from server:\n",
       "\u001b[1;33mBond A1 is not paid off\u001b[0m\n",
       "\u001b[1;33mBond B is not paid off\u001b[0m\n",
       "\u001b[1;33mAccount acc01 has cash to be distributed\u001b[0m\n",
       "\u001b[1;33mLiquidityProvider originator is not paid off\u001b[0m\n"
      ]
     },
     "metadata": {},
     "output_type": "display_data"
    }
   ],
   "source": [
    "r = localAPI.run(srt01\n",
    "                ,poolAssump=(\"Pool\",(\"Mortgage\", {\"CDR\":0.01}, None, None, None)\n",
    "                                   ,None\n",
    "                                   ,None)\n",
    "                ,runAssump=[(\"call\",(\"poolFactor\",0.10))]\n",
    "                ,read=True)"
   ]
  },
  {
   "cell_type": "code",
   "execution_count": null,
   "id": "265945c2",
   "metadata": {},
   "outputs": [],
   "source": []
  }
 ],
 "metadata": {
  "kernelspec": {
   "display_name": "Python 3 (ipykernel)",
   "language": "python",
   "name": "python3"
  },
  "language_info": {
   "codemirror_mode": {
    "name": "ipython",
    "version": 3
   },
   "file_extension": ".py",
   "mimetype": "text/x-python",
   "name": "python",
   "nbconvert_exporter": "python",
   "pygments_lexer": "ipython3",
   "version": "3.11.9"
  }
 },
 "nbformat": 4,
 "nbformat_minor": 5
}
