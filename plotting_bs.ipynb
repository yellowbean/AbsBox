{
 "cells": [
  {
   "cell_type": "code",
   "execution_count": 1,
   "id": "39a16922",
   "metadata": {},
   "outputs": [],
   "source": [
    "%load_ext autoreload\n",
    "%autoreload 2\n",
    "\n",
    "import pandas as pd\n",
    "pd.set_option(\"display.max_rows\",None)"
   ]
  },
  {
   "cell_type": "code",
   "execution_count": 2,
   "id": "816e881b",
   "metadata": {},
   "outputs": [],
   "source": [
    "from absbox.local.china import SPV\n",
    "\n",
    "test01 = SPV(\n",
    "    \"一汽租赁有限公司 2023 年度第五期资产支持票据募集说明书\"\n",
    "    ,{\"封包日\":\"2023-08-21\"\n",
    "      ,\"起息日\":\"2023-11-21\"\n",
    "      ,\"首次兑付日\":\"2023-12-26\"\n",
    "      ,\"法定到期日\":\"2033-01-26\"\n",
    "      ,\"收款频率\":\"MonthEnd\"\n",
    "      ,\"付款频率\":[\"DayOfMonth\",26]}\n",
    "    ,{'assets':[]\n",
    "      ,'归集表':[[\"2023-08-31\",1428335239.76,6323960.24,77606.17]\n",
    "                ,[\"2023-09-30\",1388766562.78,39568676.98,4332461.07]\n",
    "                ,[\"2023-10-31\",1349092157.40,39674405.38,5289305.68]\n",
    "                ,[\"2023-11-30\",1309435966.01,39656191.39,5189769.33]\n",
    "                ,[\"2023-12-31\",1270133846.35,39302119.66,5089822.62]\n",
    "                ,[\"2024-01-31\",1230896399.09,39237447.26,4989995.12]\n",
    "                ,[\"2024-02-29\",1191682950.35,39213448.74,4889846.52]\n",
    "                ,[\"2024-03-31\",1152452522.37,39230427.98,4789505.91]\n",
    "                ,[\"2024-04-30\",1113402991.67,39049530.7,4688828.11]\n",
    "                ,[\"2024-05-31\",1074649439.14,38753552.53,4587819.04]\n",
    "                ,[\"2024-06-30\",1036498963.34,38150475.8,4486364.71]\n",
    "                ,[\"2024-07-31\",999562737.82,36936225.52,4384576.82]\n",
    "                ,[\"2024-08-31\",963382941.22,36179796.6,4282578.76]\n",
    "                ,[\"2024-09-30\",927936072.95,35446868.27,4180301.63]\n",
    "                ,[\"2024-10-31\",893172185.44,34763887.51,4077873.83]\n",
    "                ,[\"2024-11-30\",859127225.36,34044960.08,3975269.42]\n",
    "                ,[\"2024-12-31\",825425873.51,33701351.85,3872356.78]\n",
    "                ,[\"2025-01-31\",792832176.39,32593697.12,3769196.54]\n",
    "                ,[\"2025-02-28\",761258948.88,31573227.51,3665799.69]\n",
    "                ,[\"2025-03-31\",730509811.96,30749136.92,3562465.53]\n",
    "                ,[\"2025-04-30\",701047419.11,29462392.85,3458861.67]\n",
    "                ,[\"2025-05-31\",672926400.91,28121018.2,3355030.84]\n",
    "                ,[\"2025-06-30\",646215711.38,26710689.53,3251118.4]\n",
    "                ,[\"2025-07-31\",621972442.13,24243269.25,3147183.53]\n",
    "                ,[\"2025-08-31\",598008531.63,23963910.5,3043748.71]\n",
    "                ,[\"2025-09-30\",574398609.46,23609922.17,2940714.53]\n",
    "                ,[\"2025-10-31\",551149770.78,23248838.68,2838502.6]\n",
    "                ,[\"2025-11-30\",528319478.69,22830292.09,2737142.18]\n",
    "                ,[\"2025-12-31\",505749770.65,22569708.04,2636913.5]\n",
    "                ,[\"2026-01-31\",483877762.01,21872008.64,2537478.93]\n",
    "                ,[\"2026-02-28\",462912082.08,20965679.93,2439964.65]\n",
    "                ,[\"2026-03-31\",442574265.81,20337816.27,2344878.67]\n",
    "                ,[\"2026-04-30\",422794583.40,19779682.41,2251424.93]\n",
    "                ,[\"2026-05-31\",403736619.26,19057964.14,2158990.62]\n",
    "                ,[\"2026-06-30\",385202967.50,18533651.76,2068587.2]\n",
    "                ,[\"2026-07-31\",368853949.52,16349017.98,1979568.64]\n",
    "                ,[\"2026-08-31\",352503657.51,16350292.01,1896092.25]\n",
    "                ,[\"2026-09-30\",336088778.02,16414879.49,1812405.12]\n",
    "                ,[\"2026-10-31\",319611917.63,16476860.39,1728386.95]\n",
    "                ,[\"2026-11-30\",303050537.40,16561380.23,1644055.9]\n",
    "                ,[\"2026-12-31\",286406271.18,16644266.22,1559282.71]\n",
    "                ,[\"2027-01-31\",269671033.24,16735237.94,1474078.26]\n",
    "                ,[\"2027-02-28\",252848442.59,16822590.65,1388397.1]\n",
    "                ,[\"2027-03-31\",235947289.13,16901153.46,1302257.23]\n",
    "                ,[\"2027-04-30\",219147444.00,16799845.13,1215697.03]\n",
    "                ,[\"2027-05-31\",202406794.69,16740649.31,1129567.77]\n",
    "                ,[\"2027-06-30\",185763381.02,16643413.67,1043651.98]\n",
    "                ,[\"2027-07-31\",169235093.19,16528287.83,958135.31]\n",
    "                ,[\"2027-08-31\",152623120.80,16611972.39,873112.43]\n",
    "                ,[\"2027-09-30\",135919892.64,16703228.16,787641.93]\n",
    "                ,[\"2027-10-31\",119129771.25,16790121.39,701692.2]\n",
    "                ,[\"2027-11-30\",102251410.13,16878361.12,615287.48]\n",
    "                ,[\"2027-12-31\",85282965.85,16968444.28,528420.36]\n",
    "                ,[\"2028-01-31\",68232119.13,17050846.72,441081.59]\n",
    "                ,[\"2028-02-29\",51101242.82,17130876.31,353306.62]\n",
    "                ,[\"2028-03-31\",33902265.87,17198976.95,265089.36]\n",
    "                ,[\"2028-04-30\",19200267.23,14701998.64,176499.74]\n",
    "                ,[\"2028-05-31\",8271228.67,10929038.56,100265.08]\n",
    "                ,[\"2028-06-30\",2191280.09,6079948.58,43411.09]\n",
    "                ,[\"2028-07-31\",1699745.90,491534.19,11842.14]\n",
    "                ,[\"2028-08-31\",1306522.65,393223.25,9188.9]\n",
    "                ,[\"2028-09-30\",911030.04,395492.61,7063.4]\n",
    "                ,[\"2028-10-31\",513253.14,397776.9,4923.93]\n",
    "                ,[\"2028-11-30\",172111.15,341141.99,2775.72]\n",
    "                ,[\"2028-12-31\",14.93,172096.22,934.26]]\n",
    "      ,'issuanceStat':{\"IssuanceBalance\":143_465.92*10000}\n",
    "     }\n",
    "    ,((\"保证金账\",{\"balance\":0})\n",
    "      ,(\"收益账\",{\"balance\":0})\n",
    "      ,(\"本金账\",{\"balance\":0})\n",
    "       )\n",
    "    ,((\"A1\",{\"balance\":127800*10000\n",
    "             ,\"rate\":0.031\n",
    "             ,\"originBalance\":127800*10000\n",
    "             ,\"originRate\":0.031\n",
    "             ,\"startDate\":\"2023-11-21\"\n",
    "             ,\"rateType\":{\"Fixed\":0.08}\n",
    "             ,\"bondType\":{\"Sequential\":None}})\n",
    "      ,(\"B\",{\"balance\":13400*10000\n",
    "             ,\"rate\":0.0\n",
    "             ,\"originBalance\":13400*10000\n",
    "             ,\"originRate\":0.00\n",
    "             ,\"startDate\":\"2023-11-21\"\n",
    "             ,\"rateType\":{\"期间收益\":0.05}\n",
    "             ,\"bondType\":{\"Equity\":None}\n",
    "             }))\n",
    "    ,((\"服务商费用\",{\"类型\":{\"年化费率\":[(\"资产池余额\",),0.0005]}}),\n",
    "      #,(\"增值税\",{\"类型\":{\"差额费用\":[(\"factor\",(\"资产池累计\",\"利息\"),0.0326),(\"费用支付总额\",None,\"增值税\")]}})\n",
    "     )\n",
    "    ,{\"amortizing\":[\n",
    "         [\"payFeeBySeq\",\"收益账\",['服务商费用'],{\"support\":[\"account\"\n",
    "                                                                 ,\"本金账\"\n",
    "                                                                 ,[\"accountDraw\",\"abcd\"]]}]\n",
    "         ,[\"accrueAndPayIntBySeq\",\"收益账\",[\"A1\"],{\"support\":[\"account\"\n",
    "                                                                 ,\"本金账\"\n",
    "                                                                 ,[\"accountDraw\",\"abcd\"]]}]\n",
    "         ,[\"transfer\",\"收益账\",\"本金账\",{\"冲销\":\"abcd\"}]\n",
    "         ,[\"accrueAndPayInt\",\"收益账\",[\"B\"]]\n",
    "         ,[\"transfer\",\"收益账\",\"本金账\"]\n",
    "         ,[\"payPrinBySeq\",\"本金账\",[\"A1\",\"B\"]]\n",
    "         ,[\"payIntResidual\",\"本金账\",\"B\"]\n",
    "     ]\n",
    "     ,\"endOfCollection\":[\n",
    "         ['bookBy',[\"ByFormula\",\"abcd\",\"Debit\",(\"资产池当期\",\"新增违约\")]]]\n",
    "     ,\"cleanUp\":[\n",
    "         [\"sellAsset\", [\"Current|Defaulted\", 1.0, 0.0], \"本金账\"]\n",
    "         ,[\"transfer\",\"收益账\",\"本金账\"]\n",
    "         ,[\"accrueAndPayIntBySeq\",\"本金账\",[\"A1\",\"B\"]]\n",
    "         ,[\"payPrinBySeq\",\"本金账\",[\"A1\",\"B\"]]\n",
    "         ,[\"payIntResidual\",\"本金账\",\"B\"]]\n",
    "     }\n",
    "    ,[[\"利息回款\",\"收益账\"]\n",
    "      ,[\"本金回款\",\"本金账\"]\n",
    "      ,[\"早偿回款\",\"本金账\"]\n",
    "      ,[\"回收回款\",\"收益账\"]]\n",
    "    ,None\n",
    "    ,None\n",
    "    ,None\n",
    "    ,None\n",
    "    ,(\"PreClosing\",\"Amortizing\")\n",
    "    ,None\n",
    "    ,{\"abcd\": {\"balance\":0}}\n",
    "    )"
   ]
  },
  {
   "cell_type": "code",
   "execution_count": 3,
   "id": "98488b88",
   "metadata": {},
   "outputs": [
    {
     "data": {
      "text/html": [
       "<pre style=\"white-space:pre;overflow-x:auto;line-height:normal;font-family:Menlo,'DejaVu Sans Mono',consolas,'Courier New',monospace\"></pre>\n"
      ],
      "text/plain": []
     },
     "metadata": {},
     "output_type": "display_data"
    },
    {
     "data": {
      "text/html": [
       "<pre style=\"white-space:pre;overflow-x:auto;line-height:normal;font-family:Menlo,'DejaVu Sans Mono',consolas,'Courier New',monospace\">✅<span style=\"color: #008000; text-decoration-color: #008000; font-weight: bold\">Connected, local lib:0.</span><span style=\"color: #008000; text-decoration-color: #008000; font-weight: bold\">20.2</span><span style=\"color: #008000; text-decoration-color: #008000; font-weight: bold\">, server:</span><span style=\"color: #008000; text-decoration-color: #008000; font-weight: bold\">0.23</span><span style=\"color: #008000; text-decoration-color: #008000; font-weight: bold\">.</span><span style=\"color: #008000; text-decoration-color: #008000; font-weight: bold\">4</span>\n",
       "</pre>\n"
      ],
      "text/plain": [
       "✅\u001b[1;32mConnected, local li\u001b[0m\u001b[1;32mb:0\u001b[0m\u001b[1;32m.\u001b[0m\u001b[1;32m20.2\u001b[0m\u001b[1;32m, server:\u001b[0m\u001b[1;32m0.23\u001b[0m\u001b[1;32m.\u001b[0m\u001b[1;32m4\u001b[0m\n"
      ]
     },
     "metadata": {},
     "output_type": "display_data"
    }
   ],
   "source": [
    "from absbox import API\n",
    "localAPI = API(\"http://localhost:8081\",lang='english',check=False)\n",
    "#localAPI = API(\"https://absbox.org/api/dev\",lang='english',check=False)"
   ]
  },
  {
   "cell_type": "code",
   "execution_count": 4,
   "id": "8e4760cc",
   "metadata": {},
   "outputs": [
    {
     "data": {
      "text/html": [
       "<pre style=\"white-space:pre;overflow-x:auto;line-height:normal;font-family:Menlo,'DejaVu Sans Mono',consolas,'Courier New',monospace\"><span style=\"color: #008000; text-decoration-color: #008000\">⠋</span>\n",
       "</pre>\n"
      ],
      "text/plain": [
       "\u001b[32m⠋\u001b[0m\n"
      ]
     },
     "metadata": {},
     "output_type": "display_data"
    },
    {
     "data": {
      "text/html": [
       "<pre style=\"white-space:pre;overflow-x:auto;line-height:normal;font-family:Menlo,'DejaVu Sans Mono',consolas,'Courier New',monospace\"></pre>\n"
      ],
      "text/plain": []
     },
     "metadata": {},
     "output_type": "display_data"
    }
   ],
   "source": [
    "r = localAPI.run(test01\n",
    "               ,poolAssump = (\"Pool\",(\"Mortgage\",{\"CDR\":0.03},None,None,None)\n",
    "                                       ,None\n",
    "                                       ,None)\n",
    "               ,runAssump = [(\"report\",{\"dates\":\"MonthEnd\"})\n",
    "                            ,(\"call\",{\"poolFactor\":0.10})]\n",
    "               ,read=True)"
   ]
  },
  {
   "cell_type": "code",
   "execution_count": 5,
   "id": "0b014f17",
   "metadata": {},
   "outputs": [
    {
     "data": {
      "text/html": [
       "<div>\n",
       "<style scoped>\n",
       "    .dataframe tbody tr th:only-of-type {\n",
       "        vertical-align: middle;\n",
       "    }\n",
       "\n",
       "    .dataframe tbody tr th {\n",
       "        vertical-align: top;\n",
       "    }\n",
       "\n",
       "    .dataframe thead th {\n",
       "        text-align: right;\n",
       "    }\n",
       "</style>\n",
       "<table border=\"1\" class=\"dataframe\">\n",
       "  <thead>\n",
       "    <tr style=\"text-align: right;\">\n",
       "      <th></th>\n",
       "      <th>日期</th>\n",
       "      <th>旧状态</th>\n",
       "      <th>新状态</th>\n",
       "    </tr>\n",
       "  </thead>\n",
       "  <tbody>\n",
       "    <tr>\n",
       "      <th>0</th>\n",
       "      <td>2023-11-21</td>\n",
       "      <td>设计</td>\n",
       "      <td>摊销</td>\n",
       "    </tr>\n",
       "    <tr>\n",
       "      <th>1</th>\n",
       "      <td>2027-09-26</td>\n",
       "      <td>摊销</td>\n",
       "      <td>清仓回购</td>\n",
       "    </tr>\n",
       "  </tbody>\n",
       "</table>\n",
       "</div>"
      ],
      "text/plain": [
       "           日期 旧状态   新状态\n",
       "0  2023-11-21  设计    摊销\n",
       "1  2027-09-26  摊销  清仓回购"
      ]
     },
     "execution_count": 5,
     "metadata": {},
     "output_type": "execute_result"
    }
   ],
   "source": [
    "r['result']['status']"
   ]
  },
  {
   "cell_type": "code",
   "execution_count": 6,
   "id": "99ecc0be",
   "metadata": {},
   "outputs": [
    {
     "data": {
      "text/plain": [
       "['2023-11-21', '2027-09-26']"
      ]
     },
     "execution_count": 6,
     "metadata": {},
     "output_type": "execute_result"
    }
   ],
   "source": [
    "r['result']['status'].iloc[:,[0,2]].iloc[:,0].to_list()"
   ]
  },
  {
   "cell_type": "code",
   "execution_count": 7,
   "id": "f61ead5c",
   "metadata": {},
   "outputs": [
    {
     "data": {
      "text/plain": [
       "[('2023-11-21', '摊销'), ('2027-09-26', '清仓回购')]"
      ]
     },
     "execution_count": 7,
     "metadata": {},
     "output_type": "execute_result"
    }
   ],
   "source": [
    "sd = \"2000-01-01\"\n",
    "ds = []\n",
    "for row in r['result']['status'].iterrows():\n",
    "    #print(row[1].to_list())\n",
    "    idx,[date,oldSt,newSt] = row[0],row[1].to_list()\n",
    "    ds.append((date,newSt))\n",
    "    \n",
    "ds\n",
    "    "
   ]
  },
  {
   "cell_type": "code",
   "execution_count": 8,
   "id": "824f44bc",
   "metadata": {},
   "outputs": [
    {
     "data": {
      "text/plain": [
       "'2023-08-21'"
      ]
     },
     "execution_count": 8,
     "metadata": {},
     "output_type": "execute_result"
    }
   ],
   "source": [
    "r['pool']['flow'].index[0]"
   ]
  },
  {
   "cell_type": "code",
   "execution_count": 9,
   "id": "e1ed7dd0",
   "metadata": {},
   "outputs": [],
   "source": [
    "def buildStatus(x):\n",
    "    \n",
    "    startingDate = x['pool']['flow'].index[0]\n",
    "    startingSt = r['result']['status'].iloc[:,1].to_list()[0]\n",
    "    \n",
    "    projDs = r['result']['status'].iloc[:,0].to_list()\n",
    "    projSt = r['result']['status'].iloc[:,2].to_list()\n",
    "    \n",
    "    return [(startingDate,startingSt)]+ list(zip(projDs,projSt))\n",
    "    \n",
    "    "
   ]
  },
  {
   "cell_type": "code",
   "execution_count": 10,
   "id": "4b10a1af",
   "metadata": {},
   "outputs": [
    {
     "data": {
      "text/plain": [
       "[('2023-08-21', '设计'), ('2023-11-21', '摊销'), ('2027-09-26', '清仓回购')]"
      ]
     },
     "execution_count": 10,
     "metadata": {},
     "output_type": "execute_result"
    }
   ],
   "source": [
    "xx = buildStatus(r)\n",
    "xx"
   ]
  },
  {
   "cell_type": "code",
   "execution_count": 15,
   "id": "2dd2b32b",
   "metadata": {},
   "outputs": [],
   "source": [
    "import matplotlib.pyplot as plt"
   ]
  },
  {
   "cell_type": "code",
   "execution_count": 16,
   "id": "be3da22b",
   "metadata": {},
   "outputs": [],
   "source": [
    "colors = plt.colormaps.get_cmap('viridis').resampled(20).colors"
   ]
  },
  {
   "cell_type": "code",
   "execution_count": 17,
   "id": "e90d68f9",
   "metadata": {},
   "outputs": [
    {
     "data": {
      "text/plain": [
       "array([[0.267004, 0.004874, 0.329415, 1.      ],\n",
       "       [0.280894, 0.078907, 0.402329, 1.      ],\n",
       "       [0.28229 , 0.145912, 0.46151 , 1.      ],\n",
       "       [0.270595, 0.214069, 0.507052, 1.      ],\n",
       "       [0.250425, 0.27429 , 0.533103, 1.      ],\n",
       "       [0.223925, 0.334994, 0.548053, 1.      ],\n",
       "       [0.19943 , 0.387607, 0.554642, 1.      ],\n",
       "       [0.175841, 0.44129 , 0.557685, 1.      ],\n",
       "       [0.15627 , 0.489624, 0.557936, 1.      ],\n",
       "       [0.136408, 0.541173, 0.554483, 1.      ],\n",
       "       [0.121831, 0.589055, 0.545623, 1.      ],\n",
       "       [0.12478 , 0.640461, 0.527068, 1.      ],\n",
       "       [0.162016, 0.687316, 0.499129, 1.      ],\n",
       "       [0.239374, 0.735588, 0.455688, 1.      ],\n",
       "       [0.335885, 0.777018, 0.402049, 1.      ],\n",
       "       [0.458674, 0.816363, 0.329727, 1.      ],\n",
       "       [0.585678, 0.846661, 0.249897, 1.      ],\n",
       "       [0.730889, 0.871916, 0.156029, 1.      ],\n",
       "       [0.866013, 0.889868, 0.095953, 1.      ],\n",
       "       [0.993248, 0.906157, 0.143936, 1.      ]])"
      ]
     },
     "execution_count": 17,
     "metadata": {},
     "output_type": "execute_result"
    }
   ],
   "source": [
    "colors"
   ]
  },
  {
   "cell_type": "code",
   "execution_count": null,
   "id": "9d980f7d",
   "metadata": {},
   "outputs": [],
   "source": []
  },
  {
   "cell_type": "code",
   "execution_count": 90,
   "id": "a8449494",
   "metadata": {},
   "outputs": [
    {
     "ename": "ConversionError",
     "evalue": "Failed to convert value(s) to axis units: array(['2023-08-21T00:00:00.000000000', '2023-11-21T00:00:00.000000000',\n       '2023-11-30T00:00:00.000000000', '2023-12-31T00:00:00.000000000',\n       '2024-01-31T00:00:00.000000000', '2024-02-29T00:00:00.000000000',\n       '2024-03-31T00:00:00.000000000', '2024-04-30T00:00:00.000000000',\n       '2024-05-31T00:00:00.000000000', '2024-06-30T00:00:00.000000000',\n       '2024-07-31T00:00:00.000000000', '2024-08-31T00:00:00.000000000',\n       '2024-09-30T00:00:00.000000000', '2024-10-31T00:00:00.000000000',\n       '2024-11-30T00:00:00.000000000', '2024-12-31T00:00:00.000000000',\n       '2025-01-31T00:00:00.000000000', '2025-02-28T00:00:00.000000000',\n       '2025-03-31T00:00:00.000000000', '2025-04-30T00:00:00.000000000',\n       '2025-05-31T00:00:00.000000000', '2025-06-30T00:00:00.000000000',\n       '2025-07-31T00:00:00.000000000', '2025-08-31T00:00:00.000000000',\n       '2025-09-30T00:00:00.000000000', '2025-10-31T00:00:00.000000000',\n       '2025-11-30T00:00:00.000000000', '2025-12-31T00:00:00.000000000',\n       '2026-01-31T00:00:00.000000000', '2026-02-28T00:00:00.000000000',\n       '2026-03-31T00:00:00.000000000', '2026-04-30T00:00:00.000000000',\n       '2026-05-31T00:00:00.000000000', '2026-06-30T00:00:00.000000000',\n       '2026-07-31T00:00:00.000000000', '2026-08-31T00:00:00.000000000',\n       '2026-09-30T00:00:00.000000000', '2026-10-31T00:00:00.000000000',\n       '2026-11-30T00:00:00.000000000', '2026-12-31T00:00:00.000000000',\n       '2027-01-31T00:00:00.000000000', '2027-02-28T00:00:00.000000000',\n       '2027-03-31T00:00:00.000000000', '2027-04-30T00:00:00.000000000',\n       '2027-05-31T00:00:00.000000000', '2027-06-30T00:00:00.000000000',\n       '2027-07-31T00:00:00.000000000', '2027-08-31T00:00:00.000000000'],\n      dtype='datetime64[ns]')",
     "output_type": "error",
     "traceback": [
      "\u001b[0;31m---------------------------------------------------------------------------\u001b[0m",
      "\u001b[0;31mTypeError\u001b[0m                                 Traceback (most recent call last)",
      "File \u001b[0;32m/opt/homebrew/lib/python3.11/site-packages/matplotlib/axis.py:1769\u001b[0m, in \u001b[0;36mAxis.convert_units\u001b[0;34m(self, x)\u001b[0m\n\u001b[1;32m   1768\u001b[0m \u001b[38;5;28;01mtry\u001b[39;00m:\n\u001b[0;32m-> 1769\u001b[0m     ret \u001b[38;5;241m=\u001b[39m \u001b[38;5;28;43mself\u001b[39;49m\u001b[38;5;241;43m.\u001b[39;49m\u001b[43mconverter\u001b[49m\u001b[38;5;241;43m.\u001b[39;49m\u001b[43mconvert\u001b[49m\u001b[43m(\u001b[49m\u001b[43mx\u001b[49m\u001b[43m,\u001b[49m\u001b[43m \u001b[49m\u001b[38;5;28;43mself\u001b[39;49m\u001b[38;5;241;43m.\u001b[39;49m\u001b[43munits\u001b[49m\u001b[43m,\u001b[49m\u001b[43m \u001b[49m\u001b[38;5;28;43mself\u001b[39;49m\u001b[43m)\u001b[49m\n\u001b[1;32m   1770\u001b[0m \u001b[38;5;28;01mexcept\u001b[39;00m \u001b[38;5;167;01mException\u001b[39;00m \u001b[38;5;28;01mas\u001b[39;00m e:\n",
      "File \u001b[0;32m/opt/homebrew/lib/python3.11/site-packages/matplotlib/category.py:57\u001b[0m, in \u001b[0;36mStrCategoryConverter.convert\u001b[0;34m(value, unit, axis)\u001b[0m\n\u001b[1;32m     56\u001b[0m \u001b[38;5;66;03m# force an update so it also does type checking\u001b[39;00m\n\u001b[0;32m---> 57\u001b[0m \u001b[43munit\u001b[49m\u001b[38;5;241;43m.\u001b[39;49m\u001b[43mupdate\u001b[49m\u001b[43m(\u001b[49m\u001b[43mvalues\u001b[49m\u001b[43m)\u001b[49m\n\u001b[1;32m     58\u001b[0m \u001b[38;5;28;01mreturn\u001b[39;00m np\u001b[38;5;241m.\u001b[39mvectorize(unit\u001b[38;5;241m.\u001b[39m_mapping\u001b[38;5;241m.\u001b[39m\u001b[38;5;21m__getitem__\u001b[39m, otypes\u001b[38;5;241m=\u001b[39m[\u001b[38;5;28mfloat\u001b[39m])(values)\n",
      "File \u001b[0;32m/opt/homebrew/lib/python3.11/site-packages/matplotlib/category.py:216\u001b[0m, in \u001b[0;36mUnitData.update\u001b[0;34m(self, data)\u001b[0m\n\u001b[1;32m    214\u001b[0m \u001b[38;5;28;01mfor\u001b[39;00m val \u001b[38;5;129;01min\u001b[39;00m OrderedDict\u001b[38;5;241m.\u001b[39mfromkeys(data):\n\u001b[1;32m    215\u001b[0m     \u001b[38;5;66;03m# OrderedDict just iterates over unique values in data.\u001b[39;00m\n\u001b[0;32m--> 216\u001b[0m     \u001b[43m_api\u001b[49m\u001b[38;5;241;43m.\u001b[39;49m\u001b[43mcheck_isinstance\u001b[49m\u001b[43m(\u001b[49m\u001b[43m(\u001b[49m\u001b[38;5;28;43mstr\u001b[39;49m\u001b[43m,\u001b[49m\u001b[43m \u001b[49m\u001b[38;5;28;43mbytes\u001b[39;49m\u001b[43m)\u001b[49m\u001b[43m,\u001b[49m\u001b[43m \u001b[49m\u001b[43mvalue\u001b[49m\u001b[38;5;241;43m=\u001b[39;49m\u001b[43mval\u001b[49m\u001b[43m)\u001b[49m\n\u001b[1;32m    217\u001b[0m     \u001b[38;5;28;01mif\u001b[39;00m convertible:\n\u001b[1;32m    218\u001b[0m         \u001b[38;5;66;03m# this will only be called so long as convertible is True.\u001b[39;00m\n",
      "File \u001b[0;32m/opt/homebrew/lib/python3.11/site-packages/matplotlib/_api/__init__.py:91\u001b[0m, in \u001b[0;36mcheck_isinstance\u001b[0;34m(types, **kwargs)\u001b[0m\n\u001b[1;32m     90\u001b[0m     names\u001b[38;5;241m.\u001b[39mappend(\u001b[38;5;124m\"\u001b[39m\u001b[38;5;124mNone\u001b[39m\u001b[38;5;124m\"\u001b[39m)\n\u001b[0;32m---> 91\u001b[0m \u001b[38;5;28;01mraise\u001b[39;00m \u001b[38;5;167;01mTypeError\u001b[39;00m(\n\u001b[1;32m     92\u001b[0m     \u001b[38;5;124m\"\u001b[39m\u001b[38;5;132;01m{!r}\u001b[39;00m\u001b[38;5;124m must be an instance of \u001b[39m\u001b[38;5;132;01m{}\u001b[39;00m\u001b[38;5;124m, not a \u001b[39m\u001b[38;5;132;01m{}\u001b[39;00m\u001b[38;5;124m\"\u001b[39m\u001b[38;5;241m.\u001b[39mformat(\n\u001b[1;32m     93\u001b[0m         k,\n\u001b[1;32m     94\u001b[0m         \u001b[38;5;124m\"\u001b[39m\u001b[38;5;124m, \u001b[39m\u001b[38;5;124m\"\u001b[39m\u001b[38;5;241m.\u001b[39mjoin(names[:\u001b[38;5;241m-\u001b[39m\u001b[38;5;241m1\u001b[39m]) \u001b[38;5;241m+\u001b[39m \u001b[38;5;124m\"\u001b[39m\u001b[38;5;124m or \u001b[39m\u001b[38;5;124m\"\u001b[39m \u001b[38;5;241m+\u001b[39m names[\u001b[38;5;241m-\u001b[39m\u001b[38;5;241m1\u001b[39m]\n\u001b[1;32m     95\u001b[0m         \u001b[38;5;28;01mif\u001b[39;00m \u001b[38;5;28mlen\u001b[39m(names) \u001b[38;5;241m>\u001b[39m \u001b[38;5;241m1\u001b[39m \u001b[38;5;28;01melse\u001b[39;00m names[\u001b[38;5;241m0\u001b[39m],\n\u001b[1;32m     96\u001b[0m         type_name(\u001b[38;5;28mtype\u001b[39m(v))))\n",
      "\u001b[0;31mTypeError\u001b[0m: 'value' must be an instance of str or bytes, not a int",
      "\nThe above exception was the direct cause of the following exception:\n",
      "\u001b[0;31mConversionError\u001b[0m                           Traceback (most recent call last)",
      "Cell \u001b[0;32mIn[90], line 62\u001b[0m\n\u001b[1;32m     60\u001b[0m plt\u001b[38;5;241m.\u001b[39mxticks(rotation\u001b[38;5;241m=\u001b[39m\u001b[38;5;241m45\u001b[39m, ha\u001b[38;5;241m=\u001b[39m\u001b[38;5;124m'\u001b[39m\u001b[38;5;124mright\u001b[39m\u001b[38;5;124m'\u001b[39m)\n\u001b[1;32m     61\u001b[0m plt\u001b[38;5;241m.\u001b[39mplot(r[\u001b[38;5;124m'\u001b[39m\u001b[38;5;124mpool\u001b[39m\u001b[38;5;124m'\u001b[39m][\u001b[38;5;124m'\u001b[39m\u001b[38;5;124mflow\u001b[39m\u001b[38;5;124m'\u001b[39m][\u001b[38;5;124m'\u001b[39m\u001b[38;5;124m余额\u001b[39m\u001b[38;5;124m'\u001b[39m])\n\u001b[0;32m---> 62\u001b[0m \u001b[43mplt\u001b[49m\u001b[38;5;241;43m.\u001b[39;49m\u001b[43mplot\u001b[49m\u001b[43m(\u001b[49m\u001b[43mr\u001b[49m\u001b[43m[\u001b[49m\u001b[38;5;124;43m'\u001b[39;49m\u001b[38;5;124;43mbonds\u001b[39;49m\u001b[38;5;124;43m'\u001b[39;49m\u001b[43m]\u001b[49m\u001b[43m[\u001b[49m\u001b[38;5;124;43m'\u001b[39;49m\u001b[38;5;124;43mB\u001b[39;49m\u001b[38;5;124;43m'\u001b[39;49m\u001b[43m]\u001b[49m\u001b[43m[\u001b[49m\u001b[38;5;124;43m'\u001b[39;49m\u001b[38;5;124;43m余额\u001b[39;49m\u001b[38;5;124;43m'\u001b[39;49m\u001b[43m]\u001b[49m\u001b[43m)\u001b[49m\n\u001b[1;32m     65\u001b[0m ymin, ymax \u001b[38;5;241m=\u001b[39m plt\u001b[38;5;241m.\u001b[39mylim()\n\u001b[1;32m     66\u001b[0m xmin, xmax \u001b[38;5;241m=\u001b[39m plt\u001b[38;5;241m.\u001b[39mxlim()\n",
      "File \u001b[0;32m/opt/homebrew/lib/python3.11/site-packages/matplotlib/pyplot.py:3575\u001b[0m, in \u001b[0;36mplot\u001b[0;34m(scalex, scaley, data, *args, **kwargs)\u001b[0m\n\u001b[1;32m   3567\u001b[0m \u001b[38;5;129m@_copy_docstring_and_deprecators\u001b[39m(Axes\u001b[38;5;241m.\u001b[39mplot)\n\u001b[1;32m   3568\u001b[0m \u001b[38;5;28;01mdef\u001b[39;00m \u001b[38;5;21mplot\u001b[39m(\n\u001b[1;32m   3569\u001b[0m     \u001b[38;5;241m*\u001b[39margs: \u001b[38;5;28mfloat\u001b[39m \u001b[38;5;241m|\u001b[39m ArrayLike \u001b[38;5;241m|\u001b[39m \u001b[38;5;28mstr\u001b[39m,\n\u001b[0;32m   (...)\u001b[0m\n\u001b[1;32m   3573\u001b[0m     \u001b[38;5;241m*\u001b[39m\u001b[38;5;241m*\u001b[39mkwargs,\n\u001b[1;32m   3574\u001b[0m ) \u001b[38;5;241m-\u001b[39m\u001b[38;5;241m>\u001b[39m \u001b[38;5;28mlist\u001b[39m[Line2D]:\n\u001b[0;32m-> 3575\u001b[0m     \u001b[38;5;28;01mreturn\u001b[39;00m \u001b[43mgca\u001b[49m\u001b[43m(\u001b[49m\u001b[43m)\u001b[49m\u001b[38;5;241;43m.\u001b[39;49m\u001b[43mplot\u001b[49m\u001b[43m(\u001b[49m\n\u001b[1;32m   3576\u001b[0m \u001b[43m        \u001b[49m\u001b[38;5;241;43m*\u001b[39;49m\u001b[43margs\u001b[49m\u001b[43m,\u001b[49m\n\u001b[1;32m   3577\u001b[0m \u001b[43m        \u001b[49m\u001b[43mscalex\u001b[49m\u001b[38;5;241;43m=\u001b[39;49m\u001b[43mscalex\u001b[49m\u001b[43m,\u001b[49m\n\u001b[1;32m   3578\u001b[0m \u001b[43m        \u001b[49m\u001b[43mscaley\u001b[49m\u001b[38;5;241;43m=\u001b[39;49m\u001b[43mscaley\u001b[49m\u001b[43m,\u001b[49m\n\u001b[1;32m   3579\u001b[0m \u001b[43m        \u001b[49m\u001b[38;5;241;43m*\u001b[39;49m\u001b[38;5;241;43m*\u001b[39;49m\u001b[43m(\u001b[49m\u001b[43m{\u001b[49m\u001b[38;5;124;43m\"\u001b[39;49m\u001b[38;5;124;43mdata\u001b[39;49m\u001b[38;5;124;43m\"\u001b[39;49m\u001b[43m:\u001b[49m\u001b[43m \u001b[49m\u001b[43mdata\u001b[49m\u001b[43m}\u001b[49m\u001b[43m \u001b[49m\u001b[38;5;28;43;01mif\u001b[39;49;00m\u001b[43m \u001b[49m\u001b[43mdata\u001b[49m\u001b[43m \u001b[49m\u001b[38;5;129;43;01mis\u001b[39;49;00m\u001b[43m \u001b[49m\u001b[38;5;129;43;01mnot\u001b[39;49;00m\u001b[43m \u001b[49m\u001b[38;5;28;43;01mNone\u001b[39;49;00m\u001b[43m \u001b[49m\u001b[38;5;28;43;01melse\u001b[39;49;00m\u001b[43m \u001b[49m\u001b[43m{\u001b[49m\u001b[43m}\u001b[49m\u001b[43m)\u001b[49m\u001b[43m,\u001b[49m\n\u001b[1;32m   3580\u001b[0m \u001b[43m        \u001b[49m\u001b[38;5;241;43m*\u001b[39;49m\u001b[38;5;241;43m*\u001b[39;49m\u001b[43mkwargs\u001b[49m\u001b[43m,\u001b[49m\n\u001b[1;32m   3581\u001b[0m \u001b[43m    \u001b[49m\u001b[43m)\u001b[49m\n",
      "File \u001b[0;32m/opt/homebrew/lib/python3.11/site-packages/matplotlib/axes/_axes.py:1721\u001b[0m, in \u001b[0;36mAxes.plot\u001b[0;34m(self, scalex, scaley, data, *args, **kwargs)\u001b[0m\n\u001b[1;32m   1478\u001b[0m \u001b[38;5;250m\u001b[39m\u001b[38;5;124;03m\"\"\"\u001b[39;00m\n\u001b[1;32m   1479\u001b[0m \u001b[38;5;124;03mPlot y versus x as lines and/or markers.\u001b[39;00m\n\u001b[1;32m   1480\u001b[0m \n\u001b[0;32m   (...)\u001b[0m\n\u001b[1;32m   1718\u001b[0m \u001b[38;5;124;03m(``'green'``) or hex strings (``'#008000'``).\u001b[39;00m\n\u001b[1;32m   1719\u001b[0m \u001b[38;5;124;03m\"\"\"\u001b[39;00m\n\u001b[1;32m   1720\u001b[0m kwargs \u001b[38;5;241m=\u001b[39m cbook\u001b[38;5;241m.\u001b[39mnormalize_kwargs(kwargs, mlines\u001b[38;5;241m.\u001b[39mLine2D)\n\u001b[0;32m-> 1721\u001b[0m lines \u001b[38;5;241m=\u001b[39m [\u001b[38;5;241m*\u001b[39m\u001b[38;5;28mself\u001b[39m\u001b[38;5;241m.\u001b[39m_get_lines(\u001b[38;5;28mself\u001b[39m, \u001b[38;5;241m*\u001b[39margs, data\u001b[38;5;241m=\u001b[39mdata, \u001b[38;5;241m*\u001b[39m\u001b[38;5;241m*\u001b[39mkwargs)]\n\u001b[1;32m   1722\u001b[0m \u001b[38;5;28;01mfor\u001b[39;00m line \u001b[38;5;129;01min\u001b[39;00m lines:\n\u001b[1;32m   1723\u001b[0m     \u001b[38;5;28mself\u001b[39m\u001b[38;5;241m.\u001b[39madd_line(line)\n",
      "File \u001b[0;32m/opt/homebrew/lib/python3.11/site-packages/matplotlib/axes/_base.py:303\u001b[0m, in \u001b[0;36m_process_plot_var_args.__call__\u001b[0;34m(self, axes, data, *args, **kwargs)\u001b[0m\n\u001b[1;32m    301\u001b[0m     this \u001b[38;5;241m+\u001b[39m\u001b[38;5;241m=\u001b[39m args[\u001b[38;5;241m0\u001b[39m],\n\u001b[1;32m    302\u001b[0m     args \u001b[38;5;241m=\u001b[39m args[\u001b[38;5;241m1\u001b[39m:]\n\u001b[0;32m--> 303\u001b[0m \u001b[38;5;28;01myield from\u001b[39;00m \u001b[38;5;28;43mself\u001b[39;49m\u001b[38;5;241;43m.\u001b[39;49m\u001b[43m_plot_args\u001b[49m\u001b[43m(\u001b[49m\n\u001b[1;32m    304\u001b[0m \u001b[43m    \u001b[49m\u001b[43maxes\u001b[49m\u001b[43m,\u001b[49m\u001b[43m \u001b[49m\u001b[43mthis\u001b[49m\u001b[43m,\u001b[49m\u001b[43m \u001b[49m\u001b[43mkwargs\u001b[49m\u001b[43m,\u001b[49m\u001b[43m \u001b[49m\u001b[43mambiguous_fmt_datakey\u001b[49m\u001b[38;5;241;43m=\u001b[39;49m\u001b[43mambiguous_fmt_datakey\u001b[49m\u001b[43m)\u001b[49m\n",
      "File \u001b[0;32m/opt/homebrew/lib/python3.11/site-packages/matplotlib/axes/_base.py:494\u001b[0m, in \u001b[0;36m_process_plot_var_args._plot_args\u001b[0;34m(self, axes, tup, kwargs, return_kwargs, ambiguous_fmt_datakey)\u001b[0m\n\u001b[1;32m    491\u001b[0m     x, y \u001b[38;5;241m=\u001b[39m index_of(xy[\u001b[38;5;241m-\u001b[39m\u001b[38;5;241m1\u001b[39m])\n\u001b[1;32m    493\u001b[0m \u001b[38;5;28;01mif\u001b[39;00m axes\u001b[38;5;241m.\u001b[39mxaxis \u001b[38;5;129;01mis\u001b[39;00m \u001b[38;5;129;01mnot\u001b[39;00m \u001b[38;5;28;01mNone\u001b[39;00m:\n\u001b[0;32m--> 494\u001b[0m     \u001b[43maxes\u001b[49m\u001b[38;5;241;43m.\u001b[39;49m\u001b[43mxaxis\u001b[49m\u001b[38;5;241;43m.\u001b[39;49m\u001b[43mupdate_units\u001b[49m\u001b[43m(\u001b[49m\u001b[43mx\u001b[49m\u001b[43m)\u001b[49m\n\u001b[1;32m    495\u001b[0m \u001b[38;5;28;01mif\u001b[39;00m axes\u001b[38;5;241m.\u001b[39myaxis \u001b[38;5;129;01mis\u001b[39;00m \u001b[38;5;129;01mnot\u001b[39;00m \u001b[38;5;28;01mNone\u001b[39;00m:\n\u001b[1;32m    496\u001b[0m     axes\u001b[38;5;241m.\u001b[39myaxis\u001b[38;5;241m.\u001b[39mupdate_units(y)\n",
      "File \u001b[0;32m/opt/homebrew/lib/python3.11/site-packages/matplotlib/axis.py:1712\u001b[0m, in \u001b[0;36mAxis.update_units\u001b[0;34m(self, data)\u001b[0m\n\u001b[1;32m   1710\u001b[0m neednew \u001b[38;5;241m=\u001b[39m \u001b[38;5;28mself\u001b[39m\u001b[38;5;241m.\u001b[39mconverter \u001b[38;5;241m!=\u001b[39m converter\n\u001b[1;32m   1711\u001b[0m \u001b[38;5;28mself\u001b[39m\u001b[38;5;241m.\u001b[39mconverter \u001b[38;5;241m=\u001b[39m converter\n\u001b[0;32m-> 1712\u001b[0m default \u001b[38;5;241m=\u001b[39m \u001b[38;5;28;43mself\u001b[39;49m\u001b[38;5;241;43m.\u001b[39;49m\u001b[43mconverter\u001b[49m\u001b[38;5;241;43m.\u001b[39;49m\u001b[43mdefault_units\u001b[49m\u001b[43m(\u001b[49m\u001b[43mdata\u001b[49m\u001b[43m,\u001b[49m\u001b[43m \u001b[49m\u001b[38;5;28;43mself\u001b[39;49m\u001b[43m)\u001b[49m\n\u001b[1;32m   1713\u001b[0m \u001b[38;5;28;01mif\u001b[39;00m default \u001b[38;5;129;01mis\u001b[39;00m \u001b[38;5;129;01mnot\u001b[39;00m \u001b[38;5;28;01mNone\u001b[39;00m \u001b[38;5;129;01mand\u001b[39;00m \u001b[38;5;28mself\u001b[39m\u001b[38;5;241m.\u001b[39munits \u001b[38;5;129;01mis\u001b[39;00m \u001b[38;5;28;01mNone\u001b[39;00m:\n\u001b[1;32m   1714\u001b[0m     \u001b[38;5;28mself\u001b[39m\u001b[38;5;241m.\u001b[39mset_units(default)\n",
      "File \u001b[0;32m/opt/homebrew/lib/python3.11/site-packages/matplotlib/category.py:105\u001b[0m, in \u001b[0;36mStrCategoryConverter.default_units\u001b[0;34m(data, axis)\u001b[0m\n\u001b[1;32m    103\u001b[0m \u001b[38;5;66;03m# the conversion call stack is default_units -> axis_info -> convert\u001b[39;00m\n\u001b[1;32m    104\u001b[0m \u001b[38;5;28;01mif\u001b[39;00m axis\u001b[38;5;241m.\u001b[39munits \u001b[38;5;129;01mis\u001b[39;00m \u001b[38;5;28;01mNone\u001b[39;00m:\n\u001b[0;32m--> 105\u001b[0m     \u001b[43maxis\u001b[49m\u001b[38;5;241;43m.\u001b[39;49m\u001b[43mset_units\u001b[49m\u001b[43m(\u001b[49m\u001b[43mUnitData\u001b[49m\u001b[43m(\u001b[49m\u001b[43mdata\u001b[49m\u001b[43m)\u001b[49m\u001b[43m)\u001b[49m\n\u001b[1;32m    106\u001b[0m \u001b[38;5;28;01melse\u001b[39;00m:\n\u001b[1;32m    107\u001b[0m     axis\u001b[38;5;241m.\u001b[39munits\u001b[38;5;241m.\u001b[39mupdate(data)\n",
      "File \u001b[0;32m/opt/homebrew/lib/python3.11/site-packages/matplotlib/axis.py:1792\u001b[0m, in \u001b[0;36mAxis.set_units\u001b[0;34m(self, u)\u001b[0m\n\u001b[1;32m   1790\u001b[0m axis\u001b[38;5;241m.\u001b[39munits \u001b[38;5;241m=\u001b[39m u\n\u001b[1;32m   1791\u001b[0m axis\u001b[38;5;241m.\u001b[39m_update_axisinfo()\n\u001b[0;32m-> 1792\u001b[0m \u001b[43maxis\u001b[49m\u001b[38;5;241;43m.\u001b[39;49m\u001b[43mcallbacks\u001b[49m\u001b[38;5;241;43m.\u001b[39;49m\u001b[43mprocess\u001b[49m\u001b[43m(\u001b[49m\u001b[38;5;124;43m'\u001b[39;49m\u001b[38;5;124;43munits\u001b[39;49m\u001b[38;5;124;43m'\u001b[39;49m\u001b[43m)\u001b[49m\n\u001b[1;32m   1793\u001b[0m axis\u001b[38;5;241m.\u001b[39mstale \u001b[38;5;241m=\u001b[39m \u001b[38;5;28;01mTrue\u001b[39;00m\n",
      "File \u001b[0;32m/opt/homebrew/lib/python3.11/site-packages/matplotlib/cbook.py:303\u001b[0m, in \u001b[0;36mCallbackRegistry.process\u001b[0;34m(self, s, *args, **kwargs)\u001b[0m\n\u001b[1;32m    301\u001b[0m \u001b[38;5;28;01mexcept\u001b[39;00m \u001b[38;5;167;01mException\u001b[39;00m \u001b[38;5;28;01mas\u001b[39;00m exc:\n\u001b[1;32m    302\u001b[0m     \u001b[38;5;28;01mif\u001b[39;00m \u001b[38;5;28mself\u001b[39m\u001b[38;5;241m.\u001b[39mexception_handler \u001b[38;5;129;01mis\u001b[39;00m \u001b[38;5;129;01mnot\u001b[39;00m \u001b[38;5;28;01mNone\u001b[39;00m:\n\u001b[0;32m--> 303\u001b[0m         \u001b[38;5;28;43mself\u001b[39;49m\u001b[38;5;241;43m.\u001b[39;49m\u001b[43mexception_handler\u001b[49m\u001b[43m(\u001b[49m\u001b[43mexc\u001b[49m\u001b[43m)\u001b[49m\n\u001b[1;32m    304\u001b[0m     \u001b[38;5;28;01melse\u001b[39;00m:\n\u001b[1;32m    305\u001b[0m         \u001b[38;5;28;01mraise\u001b[39;00m\n",
      "File \u001b[0;32m/opt/homebrew/lib/python3.11/site-packages/matplotlib/cbook.py:87\u001b[0m, in \u001b[0;36m_exception_printer\u001b[0;34m(exc)\u001b[0m\n\u001b[1;32m     85\u001b[0m \u001b[38;5;28;01mdef\u001b[39;00m \u001b[38;5;21m_exception_printer\u001b[39m(exc):\n\u001b[1;32m     86\u001b[0m     \u001b[38;5;28;01mif\u001b[39;00m _get_running_interactive_framework() \u001b[38;5;129;01min\u001b[39;00m [\u001b[38;5;124m\"\u001b[39m\u001b[38;5;124mheadless\u001b[39m\u001b[38;5;124m\"\u001b[39m, \u001b[38;5;28;01mNone\u001b[39;00m]:\n\u001b[0;32m---> 87\u001b[0m         \u001b[38;5;28;01mraise\u001b[39;00m exc\n\u001b[1;32m     88\u001b[0m     \u001b[38;5;28;01melse\u001b[39;00m:\n\u001b[1;32m     89\u001b[0m         traceback\u001b[38;5;241m.\u001b[39mprint_exc()\n",
      "File \u001b[0;32m/opt/homebrew/lib/python3.11/site-packages/matplotlib/cbook.py:298\u001b[0m, in \u001b[0;36mCallbackRegistry.process\u001b[0;34m(self, s, *args, **kwargs)\u001b[0m\n\u001b[1;32m    296\u001b[0m \u001b[38;5;28;01mif\u001b[39;00m func \u001b[38;5;129;01mis\u001b[39;00m \u001b[38;5;129;01mnot\u001b[39;00m \u001b[38;5;28;01mNone\u001b[39;00m:\n\u001b[1;32m    297\u001b[0m     \u001b[38;5;28;01mtry\u001b[39;00m:\n\u001b[0;32m--> 298\u001b[0m         \u001b[43mfunc\u001b[49m\u001b[43m(\u001b[49m\u001b[38;5;241;43m*\u001b[39;49m\u001b[43margs\u001b[49m\u001b[43m,\u001b[49m\u001b[43m \u001b[49m\u001b[38;5;241;43m*\u001b[39;49m\u001b[38;5;241;43m*\u001b[39;49m\u001b[43mkwargs\u001b[49m\u001b[43m)\u001b[49m\n\u001b[1;32m    299\u001b[0m     \u001b[38;5;66;03m# this does not capture KeyboardInterrupt, SystemExit,\u001b[39;00m\n\u001b[1;32m    300\u001b[0m     \u001b[38;5;66;03m# and GeneratorExit\u001b[39;00m\n\u001b[1;32m    301\u001b[0m     \u001b[38;5;28;01mexcept\u001b[39;00m \u001b[38;5;167;01mException\u001b[39;00m \u001b[38;5;28;01mas\u001b[39;00m exc:\n",
      "File \u001b[0;32m/opt/homebrew/lib/python3.11/site-packages/matplotlib/axes/_base.py:2461\u001b[0m, in \u001b[0;36m_AxesBase._unit_change_handler\u001b[0;34m(self, axis_name, event)\u001b[0m\n\u001b[1;32m   2459\u001b[0m _api\u001b[38;5;241m.\u001b[39mcheck_in_list(\u001b[38;5;28mself\u001b[39m\u001b[38;5;241m.\u001b[39m_axis_map, axis_name\u001b[38;5;241m=\u001b[39maxis_name)\n\u001b[1;32m   2460\u001b[0m \u001b[38;5;28;01mfor\u001b[39;00m line \u001b[38;5;129;01min\u001b[39;00m \u001b[38;5;28mself\u001b[39m\u001b[38;5;241m.\u001b[39mlines:\n\u001b[0;32m-> 2461\u001b[0m     \u001b[43mline\u001b[49m\u001b[38;5;241;43m.\u001b[39;49m\u001b[43mrecache_always\u001b[49m\u001b[43m(\u001b[49m\u001b[43m)\u001b[49m\n\u001b[1;32m   2462\u001b[0m \u001b[38;5;28mself\u001b[39m\u001b[38;5;241m.\u001b[39mrelim()\n\u001b[1;32m   2463\u001b[0m \u001b[38;5;28mself\u001b[39m\u001b[38;5;241m.\u001b[39m_request_autoscale_view(axis_name)\n",
      "File \u001b[0;32m/opt/homebrew/lib/python3.11/site-packages/matplotlib/lines.py:664\u001b[0m, in \u001b[0;36mLine2D.recache_always\u001b[0;34m(self)\u001b[0m\n\u001b[1;32m    663\u001b[0m \u001b[38;5;28;01mdef\u001b[39;00m \u001b[38;5;21mrecache_always\u001b[39m(\u001b[38;5;28mself\u001b[39m):\n\u001b[0;32m--> 664\u001b[0m     \u001b[38;5;28;43mself\u001b[39;49m\u001b[38;5;241;43m.\u001b[39;49m\u001b[43mrecache\u001b[49m\u001b[43m(\u001b[49m\u001b[43malways\u001b[49m\u001b[38;5;241;43m=\u001b[39;49m\u001b[38;5;28;43;01mTrue\u001b[39;49;00m\u001b[43m)\u001b[49m\n",
      "File \u001b[0;32m/opt/homebrew/lib/python3.11/site-packages/matplotlib/lines.py:668\u001b[0m, in \u001b[0;36mLine2D.recache\u001b[0;34m(self, always)\u001b[0m\n\u001b[1;32m    666\u001b[0m \u001b[38;5;28;01mdef\u001b[39;00m \u001b[38;5;21mrecache\u001b[39m(\u001b[38;5;28mself\u001b[39m, always\u001b[38;5;241m=\u001b[39m\u001b[38;5;28;01mFalse\u001b[39;00m):\n\u001b[1;32m    667\u001b[0m     \u001b[38;5;28;01mif\u001b[39;00m always \u001b[38;5;129;01mor\u001b[39;00m \u001b[38;5;28mself\u001b[39m\u001b[38;5;241m.\u001b[39m_invalidx:\n\u001b[0;32m--> 668\u001b[0m         xconv \u001b[38;5;241m=\u001b[39m \u001b[38;5;28;43mself\u001b[39;49m\u001b[38;5;241;43m.\u001b[39;49m\u001b[43mconvert_xunits\u001b[49m\u001b[43m(\u001b[49m\u001b[38;5;28;43mself\u001b[39;49m\u001b[38;5;241;43m.\u001b[39;49m\u001b[43m_xorig\u001b[49m\u001b[43m)\u001b[49m\n\u001b[1;32m    669\u001b[0m         x \u001b[38;5;241m=\u001b[39m _to_unmasked_float_array(xconv)\u001b[38;5;241m.\u001b[39mravel()\n\u001b[1;32m    670\u001b[0m     \u001b[38;5;28;01melse\u001b[39;00m:\n",
      "File \u001b[0;32m/opt/homebrew/lib/python3.11/site-packages/matplotlib/artist.py:279\u001b[0m, in \u001b[0;36mArtist.convert_xunits\u001b[0;34m(self, x)\u001b[0m\n\u001b[1;32m    277\u001b[0m \u001b[38;5;28;01mif\u001b[39;00m ax \u001b[38;5;129;01mis\u001b[39;00m \u001b[38;5;28;01mNone\u001b[39;00m \u001b[38;5;129;01mor\u001b[39;00m ax\u001b[38;5;241m.\u001b[39mxaxis \u001b[38;5;129;01mis\u001b[39;00m \u001b[38;5;28;01mNone\u001b[39;00m:\n\u001b[1;32m    278\u001b[0m     \u001b[38;5;28;01mreturn\u001b[39;00m x\n\u001b[0;32m--> 279\u001b[0m \u001b[38;5;28;01mreturn\u001b[39;00m \u001b[43max\u001b[49m\u001b[38;5;241;43m.\u001b[39;49m\u001b[43mxaxis\u001b[49m\u001b[38;5;241;43m.\u001b[39;49m\u001b[43mconvert_units\u001b[49m\u001b[43m(\u001b[49m\u001b[43mx\u001b[49m\u001b[43m)\u001b[49m\n",
      "File \u001b[0;32m/opt/homebrew/lib/python3.11/site-packages/matplotlib/axis.py:1771\u001b[0m, in \u001b[0;36mAxis.convert_units\u001b[0;34m(self, x)\u001b[0m\n\u001b[1;32m   1769\u001b[0m     ret \u001b[38;5;241m=\u001b[39m \u001b[38;5;28mself\u001b[39m\u001b[38;5;241m.\u001b[39mconverter\u001b[38;5;241m.\u001b[39mconvert(x, \u001b[38;5;28mself\u001b[39m\u001b[38;5;241m.\u001b[39munits, \u001b[38;5;28mself\u001b[39m)\n\u001b[1;32m   1770\u001b[0m \u001b[38;5;28;01mexcept\u001b[39;00m \u001b[38;5;167;01mException\u001b[39;00m \u001b[38;5;28;01mas\u001b[39;00m e:\n\u001b[0;32m-> 1771\u001b[0m     \u001b[38;5;28;01mraise\u001b[39;00m munits\u001b[38;5;241m.\u001b[39mConversionError(\u001b[38;5;124m'\u001b[39m\u001b[38;5;124mFailed to convert value(s) to axis \u001b[39m\u001b[38;5;124m'\u001b[39m\n\u001b[1;32m   1772\u001b[0m                                  \u001b[38;5;124mf\u001b[39m\u001b[38;5;124m'\u001b[39m\u001b[38;5;124munits: \u001b[39m\u001b[38;5;132;01m{\u001b[39;00mx\u001b[38;5;132;01m!r}\u001b[39;00m\u001b[38;5;124m'\u001b[39m) \u001b[38;5;28;01mfrom\u001b[39;00m \u001b[38;5;21;01me\u001b[39;00m\n\u001b[1;32m   1773\u001b[0m \u001b[38;5;28;01mreturn\u001b[39;00m ret\n",
      "\u001b[0;31mConversionError\u001b[0m: Failed to convert value(s) to axis units: array(['2023-08-21T00:00:00.000000000', '2023-11-21T00:00:00.000000000',\n       '2023-11-30T00:00:00.000000000', '2023-12-31T00:00:00.000000000',\n       '2024-01-31T00:00:00.000000000', '2024-02-29T00:00:00.000000000',\n       '2024-03-31T00:00:00.000000000', '2024-04-30T00:00:00.000000000',\n       '2024-05-31T00:00:00.000000000', '2024-06-30T00:00:00.000000000',\n       '2024-07-31T00:00:00.000000000', '2024-08-31T00:00:00.000000000',\n       '2024-09-30T00:00:00.000000000', '2024-10-31T00:00:00.000000000',\n       '2024-11-30T00:00:00.000000000', '2024-12-31T00:00:00.000000000',\n       '2025-01-31T00:00:00.000000000', '2025-02-28T00:00:00.000000000',\n       '2025-03-31T00:00:00.000000000', '2025-04-30T00:00:00.000000000',\n       '2025-05-31T00:00:00.000000000', '2025-06-30T00:00:00.000000000',\n       '2025-07-31T00:00:00.000000000', '2025-08-31T00:00:00.000000000',\n       '2025-09-30T00:00:00.000000000', '2025-10-31T00:00:00.000000000',\n       '2025-11-30T00:00:00.000000000', '2025-12-31T00:00:00.000000000',\n       '2026-01-31T00:00:00.000000000', '2026-02-28T00:00:00.000000000',\n       '2026-03-31T00:00:00.000000000', '2026-04-30T00:00:00.000000000',\n       '2026-05-31T00:00:00.000000000', '2026-06-30T00:00:00.000000000',\n       '2026-07-31T00:00:00.000000000', '2026-08-31T00:00:00.000000000',\n       '2026-09-30T00:00:00.000000000', '2026-10-31T00:00:00.000000000',\n       '2026-11-30T00:00:00.000000000', '2026-12-31T00:00:00.000000000',\n       '2027-01-31T00:00:00.000000000', '2027-02-28T00:00:00.000000000',\n       '2027-03-31T00:00:00.000000000', '2027-04-30T00:00:00.000000000',\n       '2027-05-31T00:00:00.000000000', '2027-06-30T00:00:00.000000000',\n       '2027-07-31T00:00:00.000000000', '2027-08-31T00:00:00.000000000'],\n      dtype='datetime64[ns]')"
     ]
    },
    {
     "data": {
      "image/png": "[encoded data removed]",
      "text/plain": [
       "<Figure size 640x480 with 1 Axes>"
      ]
     },
     "metadata": {},
     "output_type": "display_data"
    }
   ],
   "source": [
    "def buildStatus(x):\n",
    "    \n",
    "    startingDate = x['pool']['flow'].index[0]\n",
    "    startingSt = r['result']['status'].iloc[:,1].to_list()[0]\n",
    "    \n",
    "    projDs = r['result']['status'].iloc[:,0].to_list()\n",
    "    projSt = r['result']['status'].iloc[:,2].to_list()\n",
    "    \n",
    "    return [(startingDate,startingSt)]+ list(zip(projDs,projSt))\n",
    "    \n",
    "\n",
    "import numpy as np\n",
    "import matplotlib.pyplot as plt\n",
    "from sys import platform\n",
    "\n",
    "if platform == 'darwin':\n",
    "    plt.rcParams['font.family']= 'Heiti TC' #Show Chinese label\n",
    "    plt.rcParams['axes.unicode_minus']=False   #These two lines need to be set manually\n",
    "elif platform == 'win32':\n",
    "    pass\n",
    "elif platform == 'linux' or platform == 'linux2':\n",
    "    pass \n",
    "else:\n",
    "    raise runtimeError(f\"Failed to match platform {platform}\")\n",
    "#t = np.arange(-1, 2, .01)\n",
    "#s = np.sin(2 * np.pi * t)\n",
    "\n",
    "poolFlow = r['pool']['flow']\n",
    "bondFlows = r['bonds']\n",
    "\n",
    "poolFlow.index = pd.to_datetime(poolFlow.index)\n",
    "\n",
    "\n",
    "\n",
    "startingDate = r['pool']['flow'].index[0]\n",
    "s = len(poolFlow.index) * [0]\n",
    "plt.plot(poolFlow.index, s)\n",
    "\n",
    "\n",
    "\n",
    "dealStatusChange = buildStatus(r)\n",
    "# Draw a thick red hline at y=0 that spans the xrange\n",
    "#plt.axhline(linewidth=8, color='#d62728')\n",
    "\n",
    "# Draw a default hline at y=1 that spans the xrange\n",
    "#plt.axhline(y=1)\n",
    "\n",
    "# Draw a default vline at x=1 that spans the yrange\n",
    "#plt.axvline(x=1)\n",
    "\n",
    "# Draw a thick blue vline at x=0 that spans the upper quadrant of the yrange\n",
    "#plt.axvline(x=0, ymin=0.75, linewidth=8, color='#1f77b4')\n",
    "\n",
    "# Draw a default hline at y=.5 that spans the middle half of the axes\n",
    "#plt.axhline(y=.5, xmin=0.25, xmax=0.75)\n",
    "\n",
    "#plt.axhspan(0.25, 0.75, facecolor='0.5', alpha=0.5)\n",
    "startDate = startingDate\n",
    "stChangeTimes = len(dealStatusChange) - 1\n",
    "colors = plt.colormaps.get_cmap('viridis').resampled(stChangeTimes).colors\n",
    "stChangeDates = [(pd.to_datetime(b[0]),e[0],c,e[1]) for (b,e,c) in zip(dealStatusChange[:-1],dealStatusChange[1:],colors)]\n",
    "\n",
    "plt.xticks(rotation=45, ha='right')\n",
    "plt.plot(poolFlow['余额'])\n",
    "plt.plot(bondFlows['B']['余额'])\n",
    "\n",
    "\n",
    "ymin, ymax = plt.ylim()\n",
    "xmin, xmax = plt.xlim()\n",
    "\n",
    "for (sd,ed,color,newSt) in stChangeDates:\n",
    "    plt.axvspan(sd, ed, facecolor=color, alpha=0.15)\n",
    "    stStr = sd.strftime(\"%Y-%m-%d\")\n",
    "    plt.annotate(f\"{newSt}/{stStr}\",\n",
    "            xy=(pd.to_datetime(ed), ymax), xycoords='data',\n",
    "            xytext=(pd.to_datetime(ed), ymax*1.10), textcoords='data',\n",
    "            arrowprops=dict(arrowstyle=\"->\", connectionstyle=\"angle,angleA=0,angleB=90,rad=10\"),\n",
    "            horizontalalignment='right', verticalalignment='top')\n",
    "\n",
    "\n",
    "plt.show()"
   ]
  },
  {
   "cell_type": "code",
   "execution_count": 72,
   "id": "b2f9b4be",
   "metadata": {},
   "outputs": [],
   "source": [
    "#from absbox.local.plot import init_plot_fonts\n",
    "plt.rcParams['font.family']= 'Heiti TC' #Show Chinese label\n",
    "plt.rcParams['axes.unicode_minus']=False   #These two lines need to be set manually"
   ]
  },
  {
   "cell_type": "code",
   "execution_count": 93,
   "id": "fbb93dcc",
   "metadata": {},
   "outputs": [],
   "source": [
    "r['pool']['flow'].index = pd.to_datetime(r['pool']['flow'].index)"
   ]
  },
  {
   "cell_type": "code",
   "execution_count": 55,
   "id": "c8060929",
   "metadata": {},
   "outputs": [
    {
     "data": {
      "text/plain": [
       "'2023-08-01'"
      ]
     },
     "execution_count": 55,
     "metadata": {},
     "output_type": "execute_result"
    }
   ],
   "source": [
    "pd.to_datetime(\"2023-08-01\").strftime(\"%Y-%m-%d\")"
   ]
  },
  {
   "cell_type": "code",
   "execution_count": 92,
   "id": "e22c6ce1",
   "metadata": {},
   "outputs": [
    {
     "data": {
      "text/plain": [
       "DatetimeIndex(['2023-08-21', '2023-11-21', '2023-11-30', '2023-12-31',\n",
       "               '2024-01-31', '2024-02-29', '2024-03-31', '2024-04-30',\n",
       "               '2024-05-31', '2024-06-30', '2024-07-31', '2024-08-31',\n",
       "               '2024-09-30', '2024-10-31', '2024-11-30', '2024-12-31',\n",
       "               '2025-01-31', '2025-02-28', '2025-03-31', '2025-04-30',\n",
       "               '2025-05-31', '2025-06-30', '2025-07-31', '2025-08-31',\n",
       "               '2025-09-30', '2025-10-31', '2025-11-30', '2025-12-31',\n",
       "               '2026-01-31', '2026-02-28', '2026-03-31', '2026-04-30',\n",
       "               '2026-05-31', '2026-06-30', '2026-07-31', '2026-08-31',\n",
       "               '2026-09-30', '2026-10-31', '2026-11-30', '2026-12-31',\n",
       "               '2027-01-31', '2027-02-28', '2027-03-31', '2027-04-30',\n",
       "               '2027-05-31', '2027-06-30', '2027-07-31', '2027-08-31'],\n",
       "              dtype='datetime64[ns]', name='日期', freq=None)"
      ]
     },
     "execution_count": 92,
     "metadata": {},
     "output_type": "execute_result"
    }
   ],
   "source": [
    "pd.to_datetime(r['pool']['flow'].index)"
   ]
  },
  {
   "cell_type": "code",
   "execution_count": null,
   "id": "7b66c951",
   "metadata": {},
   "outputs": [],
   "source": []
  }
 ],
 "metadata": {
  "kernelspec": {
   "display_name": "Python 3 (ipykernel)",
   "language": "python",
   "name": "python3"
  },
  "language_info": {
   "codemirror_mode": {
    "name": "ipython",
    "version": 3
   },
   "file_extension": ".py",
   "mimetype": "text/x-python",
   "name": "python",
   "nbconvert_exporter": "python",
   "pygments_lexer": "ipython3",
   "version": "3.11.3"
  }
 },
 "nbformat": 4,
 "nbformat_minor": 5
}
