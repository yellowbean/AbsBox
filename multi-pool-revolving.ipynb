{
 "cells": [
  {
   "cell_type": "code",
   "execution_count": 1,
   "id": "36dedc7a",
   "metadata": {},
   "outputs": [
    {
     "data": {
      "text/html": [
       "<pre style=\"white-space:pre;overflow-x:auto;line-height:normal;font-family:Menlo,'DejaVu Sans Mono',consolas,'Courier New',monospace\"><span style=\"color: #800080; text-decoration-color: #800080; font-weight: bold\">Connecting engine server -&gt; </span><span style=\"color: #800080; text-decoration-color: #800080; font-weight: bold; text-decoration: underline\">http://localhost:8081</span>\n",
       "</pre>\n"
      ],
      "text/plain": [
       "\u001b[1;35mConnecting engine server -> \u001b[0m\u001b[1;4;35mhttp://localhost:8081\u001b[0m\n"
      ]
     },
     "metadata": {},
     "output_type": "display_data"
    },
    {
     "data": {
      "text/html": [
       "<pre style=\"white-space:pre;overflow-x:auto;line-height:normal;font-family:Menlo,'DejaVu Sans Mono',consolas,'Courier New',monospace\">✅<span style=\"color: #008000; text-decoration-color: #008000; font-weight: bold\">Connected, local lib:0.</span><span style=\"color: #008000; text-decoration-color: #008000; font-weight: bold\">26.4</span><span style=\"color: #008000; text-decoration-color: #008000; font-weight: bold\">, server:</span><span style=\"color: #008000; text-decoration-color: #008000; font-weight: bold\">0.26</span><span style=\"color: #008000; text-decoration-color: #008000; font-weight: bold\">.</span><span style=\"color: #008000; text-decoration-color: #008000; font-weight: bold\">5</span>\n",
       "</pre>\n"
      ],
      "text/plain": [
       "✅\u001b[1;32mConnected, local li\u001b[0m\u001b[1;32mb:0\u001b[0m\u001b[1;32m.\u001b[0m\u001b[1;32m26.4\u001b[0m\u001b[1;32m, server:\u001b[0m\u001b[1;32m0.26\u001b[0m\u001b[1;32m.\u001b[0m\u001b[1;32m5\u001b[0m\n"
      ]
     },
     "metadata": {},
     "output_type": "display_data"
    },
    {
     "data": {
      "text/html": [
       "<pre style=\"white-space:pre;overflow-x:auto;line-height:normal;font-family:Menlo,'DejaVu Sans Mono',consolas,'Courier New',monospace\">Warning Message from server:\n",
       "<span style=\"color: #808000; text-decoration-color: #808000; font-weight: bold\">Bond B is not paid off</span>\n",
       "<span style=\"color: #808000; text-decoration-color: #808000; font-weight: bold\">Fee serviceFee is not paid off</span>\n",
       "<span style=\"color: #808000; text-decoration-color: #808000; font-weight: bold\">Fee serviceFee2 is not paid off</span>\n",
       "<span style=\"color: #808000; text-decoration-color: #808000; font-weight: bold\">Account acc02 has cash to be distributed</span>\n",
       "</pre>\n"
      ],
      "text/plain": [
       "Warning Message from server:\n",
       "\u001b[1;33mBond B is not paid off\u001b[0m\n",
       "\u001b[1;33mFee serviceFee is not paid off\u001b[0m\n",
       "\u001b[1;33mFee serviceFee2 is not paid off\u001b[0m\n",
       "\u001b[1;33mAccount acc02 has cash to be distributed\u001b[0m\n"
      ]
     },
     "metadata": {},
     "output_type": "display_data"
    }
   ],
   "source": [
    "from absbox import API,mkDeal\n",
    "localAPI = API(\"http://localhost:8081\",check=False)\n",
    "\n",
    "\n",
    "deal_data = {\n",
    "    \"name\":\"Multiple Pools with Mixed Asset\"\n",
    "    ,\"dates\":{\"cutoff\":\"2021-06-01\"\n",
    "              ,\"closing\":\"2021-07-15\"\n",
    "              ,\"firstPay\":\"2021-08-26\"\n",
    "              ,\"payFreq\":[\"DayOfMonth\",20]\n",
    "              ,\"poolFreq\":\"MonthEnd\"\n",
    "              ,\"stated\":\"2030-01-01\"}\n",
    "    ,\"pool\":{\"PoolA\":{'assets':[[\"Mortgage\"\n",
    "                        ,{\"originBalance\":2200,\"originRate\":[\"fix\",0.045],\"originTerm\":30\n",
    "                          ,\"freq\":\"Monthly\",\"type\":\"Level\",\"originDate\":\"2021-02-01\"}\n",
    "                          ,{\"currentBalance\":2200\n",
    "                          ,\"currentRate\":0.08\n",
    "                          ,\"remainTerm\":30\n",
    "                          ,\"status\":\"current\"}]]},\n",
    "             \"PoolB\":{'assets':[[\"Loan\"\n",
    "                              ,{\"originBalance\": 80000\n",
    "                                ,\"originRate\": [\"floater\",0.045,{\"index\":\"SOFR3M\"\n",
    "                                                                ,\"spread\":0.01\n",
    "                                                                ,\"reset\":\"QuarterEnd\"}]\n",
    "                                ,\"originTerm\": 60\n",
    "                                ,\"freq\": \"Monthly\"\n",
    "                                ,\"type\": \"i_p\"\n",
    "                                ,\"originDate\": \"2021-02-01\"}\n",
    "                              ,{\"currentBalance\": 65000\n",
    "                                ,\"currentRate\": 0.06\n",
    "                                ,\"remainTerm\": 60\n",
    "                                ,\"status\": \"Current\"}]]}\n",
    "            }\n",
    "    ,\"accounts\":{\"acc01\":{\"balance\":0}\n",
    "                ,\"acc02\":{\"balance\":0}}\n",
    "    ,\"bonds\":{\"A1\":{\"balance\":1000\n",
    "                 ,\"rate\":0.07\n",
    "                 ,\"originBalance\":1000\n",
    "                 ,\"originRate\":0.07\n",
    "                 ,\"startDate\":\"2020-01-03\"\n",
    "                 ,\"rateType\":{\"Fixed\":0.08}\n",
    "                 ,\"bondType\":{\"Sequential\":None}}\n",
    "             ,\"B\":{\"balance\":1000\n",
    "                     ,\"rate\":0.0\n",
    "                     ,\"originBalance\":1000\n",
    "                     ,\"originRate\":0.07\n",
    "                     ,\"startDate\":\"2020-01-03\"\n",
    "                     ,\"rateType\":{\"Fixed\":0.00}\n",
    "                     ,\"bondType\":{\"Equity\":None}}}\n",
    "    ,\"fees\":{\"trusteeFee\":{\"type\":{\"fixFee\":30}}\n",
    "            ,\"serviceFee\":{\"type\":{\"annualPctFee\":[(\"poolBalance\",\"PoolB\"),0.02]}}\n",
    "            ,\"serviceFee2\":{\"type\":{\"byTable\":[\"MonthEnd\"\n",
    "                                               ,(\"const\",1)\n",
    "                                               ,[(0,5),(2,10),(10,15)]]\n",
    "                                   }}}\n",
    "    ,\"collect\":[[[\"PoolA\"],\"CollectedCash\",\"acc01\"]\n",
    "               ,[[\"PoolB\"],\"CollectedCash\",\"acc02\"]]\n",
    "    ,\"waterfall\":{\"Amortizing\":[\n",
    "         [\"payFee\",\"acc01\",['trusteeFee']]\n",
    "         ,[\"calcAndPayFee\",\"acc01\",['serviceFee']]\n",
    "         ,[\"accrueAndPayInt\",\"acc01\",[\"A1\"]]\n",
    "         ,[\"payPrin\",\"acc01\",[\"A1\"]]\n",
    "         ,[\"payPrin\",\"acc01\",[\"B\"]]\n",
    "         ,[\"payPrinResidual\",\"acc01\",[\"B\"]]\n",
    "     ]}\n",
    "    ,\"status\":(\"PreClosing\",\"Amortizing\")\n",
    "}\n",
    "\n",
    "\n",
    "deal = mkDeal(deal_data)\n",
    "\n",
    "r = localAPI.run(deal\n",
    "                 ,poolAssump = (\"ByName\"\n",
    "                                ,{\"PoolA\":\n",
    "                                      ((\"Mortgage\",{\"CDR\":0.02} ,None, None, None)\n",
    "                                       ,None\n",
    "                                       ,None)\n",
    "                                ,\"PoolB\":\n",
    "                                  ((\"Loan\",{\"CDR\":0.01} ,None, None, None)\n",
    "                                   ,None\n",
    "                                   ,None)}\n",
    "                                )\n",
    "                 ,runAssump = [(\"interest\",(\"LIBOR6M\",0.04)\n",
    "                                           ,(\"SOFR3M\",0.04))\n",
    "                               ,(\"inspect\",(\"MonthEnd\",(\"poolBalance\",\"PoolB\"))\n",
    "                                          ,(\"MonthEnd\",(\"poolBalance\",\"PoolA\"))\n",
    "                                )]\n",
    "                 ,read=True)"
   ]
  },
  {
   "cell_type": "code",
   "execution_count": 4,
   "id": "4e1e7eee",
   "metadata": {},
   "outputs": [
    {
     "data": {
      "text/plain": [
       "dict_items([('A', 1), ('B', 3)])"
      ]
     },
     "execution_count": 4,
     "metadata": {},
     "output_type": "execute_result"
    }
   ],
   "source": [
    "{\"A\":1,\"B\":3}.items()"
   ]
  },
  {
   "cell_type": "code",
   "execution_count": null,
   "id": "9db78cc0",
   "metadata": {},
   "outputs": [],
   "source": []
  }
 ],
 "metadata": {
  "kernelspec": {
   "display_name": "Python 3 (ipykernel)",
   "language": "python",
   "name": "python3"
  },
  "language_info": {
   "codemirror_mode": {
    "name": "ipython",
    "version": 3
   },
   "file_extension": ".py",
   "mimetype": "text/x-python",
   "name": "python",
   "nbconvert_exporter": "python",
   "pygments_lexer": "ipython3",
   "version": "3.11.6"
  }
 },
 "nbformat": 4,
 "nbformat_minor": 5
}
