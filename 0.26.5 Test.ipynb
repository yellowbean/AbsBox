{
 "cells": [
  {
   "cell_type": "code",
   "execution_count": 21,
   "id": "fbcbaff4",
   "metadata": {},
   "outputs": [],
   "source": [
    "from absbox import SPV\n",
    "\n",
    "test01 = SPV(\n",
    "     \"未满足摊还目标的加速清偿事件\"\n",
    "     ,{\"封包日\":\"2021-03-01\",\"起息日\":\"2021-05-01\",\"首次兑付日\":\"2021-06-26\"\n",
    "      ,\"法定到期日\":\"2060-12-01\",\"收款频率\":\"月末\",\"付款频率\":[\"每月\",26]}     \n",
    "     ,{'清单':[[\"按揭贷款\"\n",
    "         ,{\"放款金额\":120,\"放款利率\":[\"固定\",0.0485],\"初始期限\":30\n",
    "           ,\"频率\":\"每月\",\"类型\":\"等额本金\",\"放款日\":\"2020-06-01\"}\n",
    "           ,{\"当前余额\":120\n",
    "           ,\"当前利率\":0.08\n",
    "           ,\"剩余期限\":10\n",
    "           ,\"状态\":\"正常\"}]],\n",
    "      }\n",
    "     ,((\"账户01\",{\"余额\":0}),)\n",
    "     ,((\"A1\",{\"当前余额\":100\n",
    "              ,\"当前利率\":0.07\n",
    "              ,\"初始余额\":100\n",
    "              ,\"初始利率\":0.07\n",
    "              ,\"起息日\":\"2020-01-03\"\n",
    "              ,\"利率\":{\"固定\":0.08}\n",
    "              ,\"债券类型\":{\"固定摊还\":[[\"2021-06-26\",80]\n",
    "                                     ,[\"2021-07-26\",70]\n",
    "                                     ,[\"2021-09-26\",50]\n",
    "                                     ,[\"2021-11-26\",0]]}\n",
    "              })\n",
    "       ,(\"B\",{\"当前余额\":40\n",
    "              ,\"当前利率\":0.08\n",
    "              ,\"初始余额\":100\n",
    "              ,\"初始利率\":0.07\n",
    "              ,\"起息日\":\"2020-01-03\"\n",
    "              ,\"利率\":{\"固定\":0.08}\n",
    "              ,\"债券类型\":{\"过手摊还\":None}\n",
    "              }))\n",
    "     ,tuple()\n",
    "     ,{(\"兑付日\",\"摊销\"):[\n",
    "          [\"计提支付利息\",\"账户01\",[\"A1\"]]\n",
    "          ,[\"计提支付利息\",\"账户01\",[\"B\"]]\n",
    "          ,[\"支付本金\",\"账户01\",[\"A1\"]]\n",
    "          ,[\"支付本金\",\"账户01\",[\"B\"]]\n",
    "       ]\n",
    "       ,(\"兑付日\",\"加速清偿\"):[\n",
    "          [\"计提支付利息\",\"账户01\",[\"A1\"]]\n",
    "          ,[\"支付剩余本金\",\"账户01\",[\"A1\"]]\n",
    "         ]      \n",
    "      ,\"回款后\":[]\n",
    "      ,\"清仓回购\":[]}\n",
    "     ,([\"利息回款\",\"账户01\"]\n",
    "       ,[\"本金回款\",\"账户01\"]\n",
    "       ,[\"早偿回款\",\"账户01\"]\n",
    "       ,[\"回收回款\",\"账户01\"])\n",
    "     ,None\n",
    "     ,None\n",
    "     ,None\n",
    "     ,{\"分配后\":{\"目标余额测试\":\n",
    "                  {\"条件\":[(\"债券低于目标余额\",\"A1\") ,\">\",0]\n",
    "                  ,\"效果\":(\"新状态\",\"加速清偿\")\n",
    "                  ,\"状态\":False\n",
    "                  ,\"重置\":False}\n",
    "                  }\n",
    "               }\n",
    "    ,(\"设计\",\"摊销\")\n",
    " )"
   ]
  },
  {
   "cell_type": "code",
   "execution_count": 22,
   "id": "315c39f9",
   "metadata": {},
   "outputs": [
    {
     "data": {
      "text/html": [
       "<pre style=\"white-space:pre;overflow-x:auto;line-height:normal;font-family:Menlo,'DejaVu Sans Mono',consolas,'Courier New',monospace\"><span style=\"color: #800080; text-decoration-color: #800080; font-weight: bold\">Connecting engine server -&gt; </span><span style=\"color: #800080; text-decoration-color: #800080; font-weight: bold; text-decoration: underline\">http://localhost:8081</span>\n",
       "</pre>\n"
      ],
      "text/plain": [
       "\u001b[1;35mConnecting engine server -> \u001b[0m\u001b[1;4;35mhttp://localhost:8081\u001b[0m\n"
      ]
     },
     "metadata": {},
     "output_type": "display_data"
    },
    {
     "data": {
      "text/html": [
       "<pre style=\"white-space:pre;overflow-x:auto;line-height:normal;font-family:Menlo,'DejaVu Sans Mono',consolas,'Courier New',monospace\">✅<span style=\"color: #008000; text-decoration-color: #008000; font-weight: bold\">Connected, local lib:0.</span><span style=\"color: #008000; text-decoration-color: #008000; font-weight: bold\">26.4</span><span style=\"color: #008000; text-decoration-color: #008000; font-weight: bold\">, server:</span><span style=\"color: #008000; text-decoration-color: #008000; font-weight: bold\">0.26</span><span style=\"color: #008000; text-decoration-color: #008000; font-weight: bold\">.</span><span style=\"color: #008000; text-decoration-color: #008000; font-weight: bold\">5</span>\n",
       "</pre>\n"
      ],
      "text/plain": [
       "✅\u001b[1;32mConnected, local li\u001b[0m\u001b[1;32mb:0\u001b[0m\u001b[1;32m.\u001b[0m\u001b[1;32m26.4\u001b[0m\u001b[1;32m, server:\u001b[0m\u001b[1;32m0.26\u001b[0m\u001b[1;32m.\u001b[0m\u001b[1;32m5\u001b[0m\n"
      ]
     },
     "metadata": {},
     "output_type": "display_data"
    }
   ],
   "source": [
    "from absbox import API\n",
    "localAPI = API(\"http://localhost:8081\",lang='english',check=False)"
   ]
  },
  {
   "cell_type": "code",
   "execution_count": 23,
   "id": "4ed364f7",
   "metadata": {},
   "outputs": [
    {
     "data": {
      "text/html": [
       "<pre style=\"white-space:pre;overflow-x:auto;line-height:normal;font-family:Menlo,'DejaVu Sans Mono',consolas,'Courier New',monospace\">Warning Message from server:\n",
       "<span style=\"color: #808000; text-decoration-color: #808000; font-weight: bold\">Failed to find index fromList [LPR5Y]in assumption ratesfromList []</span>\n",
       "</pre>\n"
      ],
      "text/plain": [
       "Warning Message from server:\n",
       "\u001b[1;33mFailed to find index fromList \u001b[0m\u001b[1;33m[\u001b[0m\u001b[1;33mLPR5Y\u001b[0m\u001b[1;33m]\u001b[0m\u001b[1;33min assumption ratesfromList \u001b[0m\u001b[1;33m[\u001b[0m\u001b[1;33m]\u001b[0m\n"
      ]
     },
     "metadata": {},
     "output_type": "display_data"
    }
   ],
   "source": [
    "r = localAPI.run(JY_RMBS_01\n",
    "             ,runAssump=[]\n",
    "             ,poolAssump = None\n",
    "             ,read=True)"
   ]
  },
  {
   "cell_type": "code",
   "execution_count": null,
   "id": "f53ef81e",
   "metadata": {},
   "outputs": [],
   "source": []
  }
 ],
 "metadata": {
  "kernelspec": {
   "display_name": "Python 3 (ipykernel)",
   "language": "python",
   "name": "python3"
  },
  "language_info": {
   "codemirror_mode": {
    "name": "ipython",
    "version": 3
   },
   "file_extension": ".py",
   "mimetype": "text/x-python",
   "name": "python",
   "nbconvert_exporter": "python",
   "pygments_lexer": "ipython3",
   "version": "3.11.6"
  }
 },
 "nbformat": 4,
 "nbformat_minor": 5
}
