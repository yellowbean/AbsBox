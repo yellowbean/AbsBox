{
 "cells": [
  {
   "cell_type": "code",
   "execution_count": 68,
   "id": "28bbdcd2",
   "metadata": {},
   "outputs": [],
   "source": [
    "from absbox import SPV\n",
    "\n",
    "test01 = SPV(\n",
    "    \"Split the residual\"\n",
    "    ,{\"封包日\":\"2021-03-01\",\"起息日\":\"2021-10-15\",\"首次兑付日\":\"2021-11-26\"\n",
    "      ,\"法定到期日\":\"2060-12-01\",\"收款频率\":\"月末\",\"付款频率\":[\"每月\",26]}       \n",
    "    ,{'清单':[[\"按揭贷款\"\n",
    "        ,{\"放款金额\":120\n",
    "          ,\"放款利率\":[\"浮动\",0.085,{\"基准\":\"LPR5Y\",\"利差\":0.01,\"重置频率\":\"月末\"}]\n",
    "          #,\"放款利率\":[\"固定\",0.085]\n",
    "          ,\"初始期限\":30,\"频率\":\"每月\",\"类型\":\"等额本金\",\"放款日\":\"2020-06-01\"}\n",
    "          ,{\"当前余额\":180\n",
    "          ,\"当前利率\":0.08\n",
    "          ,\"剩余期限\":10\n",
    "          ,\"状态\":\"正常\"}]]\n",
    "     }\n",
    "    ,((\"账户01\",{\"余额\":0}),)\n",
    "    ,((\"A1\",{\"当前余额\":100\n",
    "             ,\"当前利率\":0.07\n",
    "             ,\"初始余额\":100\n",
    "             ,\"初始利率\":0.07\n",
    "             ,\"起息日\":\"2020-01-03\"\n",
    "             ,\"利率\":{\"固定\":0.08}\n",
    "             ,\"债券类型\":{\"过手摊还\":None}\n",
    "             })\n",
    "      ,(\"B\",{\"当前余额\":20\n",
    "             ,\"当前利率\":0.0\n",
    "             ,\"初始余额\":100\n",
    "             ,\"初始利率\":0.07\n",
    "             ,\"起息日\":\"2020-01-03\"\n",
    "             ,\"利率\":{\"固定\":0.00}\n",
    "             ,\"债券类型\":{\"权益\":None}\n",
    "             }))\n",
    "    ,((\"服务商费用\",{\"类型\":{\"固定费用\":25}}),)\n",
    "    ,{\"未违约\":[\n",
    "         [\"计提支付利息\",\"账户01\",[\"A1\"]]\n",
    "         ,[\"支付本金\",\"账户01\",[\"A1\"]]\n",
    "         ,[\"支付本金\",\"账户01\",[\"B\"]]\n",
    "         ,[\"支付收益\",\"账户01\",\"B\"]\n",
    "      ]\n",
    "     ,\"回款后\":[]\n",
    "     ,\"清仓回购\":[\n",
    "                 [\"出售资产\",[\"正常|违约\",1.0,0.0],\"账户01\"]\n",
    "                ,[\"支付费用收益\",\"账户01\",\"服务商费用\",{\"余额百分比\":0.7}]\n",
    "                ,[\"支付收益\",\"账户01\",\"B\"]]}\n",
    "    ,([\"利息回款\",\"账户01\"]\n",
    "      ,[\"本金回款\",\"账户01\"]\n",
    "      ,[\"早偿回款\",\"账户01\"]\n",
    "      ,[\"回收回款\",\"账户01\"])\n",
    "    ,None\n",
    "    ,None\n",
    "    ,None\n",
    "    ,None\n",
    "    ,(\"设计\",\"摊销\")\n",
    ")\n",
    "\n",
    "# 需要配合 清仓回购 假设触发清仓，才能执行分润动作。\n",
    "\n",
    "# r = localAPI.run(test01,runAssump=[(\"interest\",(\"LPR5Y\",0.03))\n",
    "#                                   ,(\"call\",(\"afterDate\",\"2021-11-28\"))])"
   ]
  },
  {
   "cell_type": "code",
   "execution_count": 69,
   "id": "7137a479",
   "metadata": {},
   "outputs": [
    {
     "data": {
      "text/plain": [
       "{'CleanUp': [{'tag': 'LiquidatePool',\n",
       "   'contents': [{'tag': 'BalanceFactor', 'contents': [1.0, 0.0]},\n",
       "    '账户01',\n",
       "    None]},\n",
       "  {'tag': 'PayFeeResidual',\n",
       "   'contents': [{'tag': 'DuePct', 'contents': 0.7}, '账户01', '服务商费用']},\n",
       "  {'tag': 'PayIntResidual', 'contents': [None, '账户01', 'B']}],\n",
       " 'EndOfPoolCollection': [],\n",
       " 'DistributionDay Amortizing': [{'tag': 'AccrueAndPayInt',\n",
       "   'contents': [None, '账户01', ['A1'], None]},\n",
       "  {'tag': 'PayPrin', 'contents': [None, '账户01', ['A1'], None]},\n",
       "  {'tag': 'PayPrin', 'contents': [None, '账户01', ['B'], None]},\n",
       "  {'tag': 'PayIntResidual', 'contents': [None, '账户01', 'B']}]}"
      ]
     },
     "execution_count": 69,
     "metadata": {},
     "output_type": "execute_result"
    }
   ],
   "source": [
    "test01.json['contents']['waterfall']"
   ]
  },
  {
   "cell_type": "code",
   "execution_count": 70,
   "id": "8ac8863d",
   "metadata": {},
   "outputs": [
    {
     "data": {
      "text/html": [
       "<pre style=\"white-space:pre;overflow-x:auto;line-height:normal;font-family:Menlo,'DejaVu Sans Mono',consolas,'Courier New',monospace\"><span style=\"color: #800080; text-decoration-color: #800080; font-weight: bold\">Connecting engine server -&gt; </span><span style=\"color: #800080; text-decoration-color: #800080; font-weight: bold; text-decoration: underline\">http://localhost:8081</span>\n",
       "</pre>\n"
      ],
      "text/plain": [
       "\u001b[1;35mConnecting engine server -> \u001b[0m\u001b[1;4;35mhttp://localhost:8081\u001b[0m\n"
      ]
     },
     "metadata": {},
     "output_type": "display_data"
    },
    {
     "data": {
      "text/html": [
       "<pre style=\"white-space:pre;overflow-x:auto;line-height:normal;font-family:Menlo,'DejaVu Sans Mono',consolas,'Courier New',monospace\">✅<span style=\"color: #008000; text-decoration-color: #008000; font-weight: bold\">Connected, local lib:0.</span><span style=\"color: #008000; text-decoration-color: #008000; font-weight: bold\">28.7</span><span style=\"color: #008000; text-decoration-color: #008000; font-weight: bold\">, server:</span><span style=\"color: #008000; text-decoration-color: #008000; font-weight: bold\">0.29</span><span style=\"color: #008000; text-decoration-color: #008000; font-weight: bold\">.</span><span style=\"color: #008000; text-decoration-color: #008000; font-weight: bold\">11</span>\n",
       "</pre>\n"
      ],
      "text/plain": [
       "✅\u001b[1;32mConnected, local li\u001b[0m\u001b[1;32mb:0\u001b[0m\u001b[1;32m.\u001b[0m\u001b[1;32m28.7\u001b[0m\u001b[1;32m, server:\u001b[0m\u001b[1;32m0.29\u001b[0m\u001b[1;32m.\u001b[0m\u001b[1;32m11\u001b[0m\n"
      ]
     },
     "metadata": {},
     "output_type": "display_data"
    }
   ],
   "source": [
    "from absbox import API,mkDeal,EnginePath\n",
    "\n",
    "localAPI = API(EnginePath.LOCAL,check=False)"
   ]
  },
  {
   "cell_type": "code",
   "execution_count": 71,
   "id": "8a2769ba",
   "metadata": {},
   "outputs": [
    {
     "data": {
      "text/html": [
       "<pre style=\"white-space:pre;overflow-x:auto;line-height:normal;font-family:Menlo,'DejaVu Sans Mono',consolas,'Courier New',monospace\">Warning Message from server:\n",
       "<span style=\"color: #808000; text-decoration-color: #808000; font-weight: bold\">Fee 服务商费用 is not paid off</span>\n",
       "</pre>\n"
      ],
      "text/plain": [
       "Warning Message from server:\n",
       "\u001b[1;33mFee 服务商费用 is not paid off\u001b[0m\n"
      ]
     },
     "metadata": {},
     "output_type": "display_data"
    }
   ],
   "source": [
    "r = localAPI.run(test01,runAssump=[(\"interest\",(\"LPR5Y\",0.03))\n",
    "                                   #,(\"call\",(\"afterDate\",\"2021-11-28\"))\n",
    "                                  ])"
   ]
  },
  {
   "cell_type": "code",
   "execution_count": 72,
   "id": "6089477a",
   "metadata": {},
   "outputs": [
    {
     "data": {
      "text/html": [
       "<div>\n",
       "<style scoped>\n",
       "    .dataframe tbody tr th:only-of-type {\n",
       "        vertical-align: middle;\n",
       "    }\n",
       "\n",
       "    .dataframe tbody tr th {\n",
       "        vertical-align: top;\n",
       "    }\n",
       "\n",
       "    .dataframe thead th {\n",
       "        text-align: right;\n",
       "    }\n",
       "</style>\n",
       "<table border=\"1\" class=\"dataframe\">\n",
       "  <thead>\n",
       "    <tr style=\"text-align: right;\">\n",
       "      <th></th>\n",
       "      <th>Type</th>\n",
       "      <th>Comment</th>\n",
       "    </tr>\n",
       "  </thead>\n",
       "  <tbody>\n",
       "    <tr>\n",
       "      <th>0</th>\n",
       "      <td>Warning</td>\n",
       "      <td>Fee 服务商费用 is not paid off</td>\n",
       "    </tr>\n",
       "  </tbody>\n",
       "</table>\n",
       "</div>"
      ],
      "text/plain": [
       "      Type                    Comment\n",
       "0  Warning  Fee 服务商费用 is not paid off"
      ]
     },
     "execution_count": 72,
     "metadata": {},
     "output_type": "execute_result"
    }
   ],
   "source": [
    "r['result']['logs']"
   ]
  },
  {
   "cell_type": "code",
   "execution_count": null,
   "id": "a20cc3e6",
   "metadata": {},
   "outputs": [],
   "source": []
  }
 ],
 "metadata": {
  "kernelspec": {
   "display_name": "Python 3 (ipykernel)",
   "language": "python",
   "name": "python3"
  },
  "language_info": {
   "codemirror_mode": {
    "name": "ipython",
    "version": 3
   },
   "file_extension": ".py",
   "mimetype": "text/x-python",
   "name": "python",
   "nbconvert_exporter": "python",
   "pygments_lexer": "ipython3",
   "version": "3.11.9"
  }
 },
 "nbformat": 4,
 "nbformat_minor": 5
}
