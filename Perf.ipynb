{
 "cells": [
  {
   "cell_type": "code",
   "execution_count": 96,
   "id": "00964a6e-c274-42bb-8f3c-7ef1dab676a8",
   "metadata": {},
   "outputs": [
    {
     "name": "stdout",
     "output_type": "stream",
     "text": [
      "The autoreload extension is already loaded. To reload it, use:\n",
      "  %reload_ext autoreload\n"
     ]
    }
   ],
   "source": [
    "%load_ext autoreload\n",
    "%autoreload 2"
   ]
  },
  {
   "cell_type": "code",
   "execution_count": 2,
   "id": "a684f2b0",
   "metadata": {},
   "outputs": [],
   "source": [
    "# loan level data\n",
    "loanlevel_file = r\"/Users/xiaoyu/Downloads/fsq-21-1gr-boe-aug-21.csv\""
   ]
  },
  {
   "cell_type": "code",
   "execution_count": 3,
   "id": "c671ab14",
   "metadata": {},
   "outputs": [],
   "source": [
    "import pandas as pd\n",
    "import toolz as tz\n",
    "from lenses import lens"
   ]
  },
  {
   "cell_type": "code",
   "execution_count": 4,
   "id": "40eaaacb",
   "metadata": {},
   "outputs": [
    {
     "name": "stderr",
     "output_type": "stream",
     "text": [
      "/var/folders/pb/0lsr_g9s0x340sd74jhjdhj40000gn/T/ipykernel_63319/531353068.py:1: DtypeWarning: Columns (20,27,72,106,107,117,119,136) have mixed types. Specify dtype option on import or set low_memory=False.\n",
      "  loanAssetDF = pd.read_csv(loanlevel_file)\n"
     ]
    }
   ],
   "source": [
    "loanAssetDF = pd.read_csv(loanlevel_file)"
   ]
  },
  {
   "cell_type": "code",
   "execution_count": 5,
   "id": "1b39336c",
   "metadata": {},
   "outputs": [],
   "source": [
    "from dateparser import *\n",
    "from dateutil import relativedelta"
   ]
  },
  {
   "cell_type": "code",
   "execution_count": 6,
   "id": "e07098e1",
   "metadata": {},
   "outputs": [],
   "source": [
    "def converQtoDate(y):\n",
    "    d = y.replace(\"Q1\",\"03-30\").replace(\"Q2\",\"06-30\").replace(\"Q3\",\"09-30\").replace(\"Q4\",\"12-31\")\n",
    "    return parse(d)"
   ]
  },
  {
   "cell_type": "code",
   "execution_count": 7,
   "id": "51460681",
   "metadata": {},
   "outputs": [],
   "source": [
    "def mapping(x:dict):\n",
    "    freqMapping = {\n",
    "        1:\"Monthly\"\n",
    "    }\n",
    "    repayMapping = {\n",
    "        1:\"Level\"\n",
    "        ,2:\"Level\"\n",
    "        ,6:\"I_P\"\n",
    "    }\n",
    "    statusMapping = {\n",
    "        1:\"Current\",\n",
    "        2:\"Defaulted\",\n",
    "        4:\"Defaulted\"\n",
    "    }\n",
    "    \n",
    "    def converQtoDate(y):\n",
    "        d = y.replace(\"Q1\",\"03-30\").replace(\"Q2\",\"06-30\").replace(\"Q3\",\"09-30\").replace(\"Q4\",\"12-31\")\n",
    "        return parse(d)\n",
    "    \n",
    "    def calDateAndTerm(s,oTerm,cutoffDate):\n",
    "        sd = converQtoDate(s)\n",
    "        cutoffDate = parse(cutoffDate)\n",
    "        age = relativedelta.relativedelta(cutoffDate,sd)\n",
    "        monthsPast = age.years*12+age.months\n",
    "        \n",
    "        return (sd.strftime(\"%Y-%m-%d\")\n",
    "                , oTerm - monthsPast)\n",
    "    \n",
    "    originDate,remainTerm = calDateAndTerm(x[\"AR55\"],x['AR61'],x['AR1'])\n",
    "    \n",
    "    \n",
    "    return [\"Mortgage\"\n",
    "              ,{\"originBalance\": x['AR66']\n",
    "                ,\"originRate\": [\"fix\",x['AR109']]\n",
    "                ,\"originTerm\": x['AR61']\n",
    "                ,\"freq\": freqMapping[x['AR70']]\n",
    "                ,\"type\": repayMapping[x['AR72']]\n",
    "                ,\"originDate\": originDate}\n",
    "              ,{\"currentBalance\": x['AR67']\n",
    "                ,\"currentRate\": x['AR109']\n",
    "                ,\"remainTerm\": remainTerm\n",
    "                ,\"status\": statusMapping[x['AR166']]\n",
    "               }\n",
    "           ]"
   ]
  },
  {
   "cell_type": "code",
   "execution_count": 40,
   "id": "6e42edfd",
   "metadata": {},
   "outputs": [
    {
     "data": {
      "text/html": [
       "<pre style=\"white-space:pre;overflow-x:auto;line-height:normal;font-family:Menlo,'DejaVu Sans Mono',consolas,'Courier New',monospace\"><span style=\"color: #800080; text-decoration-color: #800080; font-weight: bold\">Connecting engine server -&gt; </span><span style=\"color: #800080; text-decoration-color: #800080; font-weight: bold; text-decoration: underline\">http://localhost:8081</span>\n",
       "</pre>\n"
      ],
      "text/plain": [
       "\u001b[1;35mConnecting engine server -> \u001b[0m\u001b[1;4;35mhttp://localhost:8081\u001b[0m\n"
      ]
     },
     "metadata": {},
     "output_type": "display_data"
    },
    {
     "data": {
      "text/html": [
       "<pre style=\"white-space:pre;overflow-x:auto;line-height:normal;font-family:Menlo,'DejaVu Sans Mono',consolas,'Courier New',monospace\">✅<span style=\"color: #008000; text-decoration-color: #008000; font-weight: bold\">Connected, local lib:0.</span><span style=\"color: #008000; text-decoration-color: #008000; font-weight: bold\">28.7</span><span style=\"color: #008000; text-decoration-color: #008000; font-weight: bold\">, server:</span><span style=\"color: #008000; text-decoration-color: #008000; font-weight: bold\">0.42</span><span style=\"color: #008000; text-decoration-color: #008000; font-weight: bold\">.</span><span style=\"color: #008000; text-decoration-color: #008000; font-weight: bold\">1</span>\n",
       "</pre>\n"
      ],
      "text/plain": [
       "✅\u001b[1;32mConnected, local li\u001b[0m\u001b[1;32mb:0\u001b[0m\u001b[1;32m.\u001b[0m\u001b[1;32m28.7\u001b[0m\u001b[1;32m, server:\u001b[0m\u001b[1;32m0.42\u001b[0m\u001b[1;32m.\u001b[0m\u001b[1;32m1\u001b[0m\n"
      ]
     },
     "metadata": {},
     "output_type": "display_data"
    }
   ],
   "source": [
    "from absbox import API,EnginePath\n",
    "\n",
    "localAPI = API(EnginePath.LOCAL,check=False)"
   ]
  },
  {
   "cell_type": "code",
   "execution_count": 41,
   "id": "abc6b023-0e64-4f04-9292-5fb62358d046",
   "metadata": {},
   "outputs": [],
   "source": [
    "def mergeAssets(xs):\n",
    "    cbals = lens.Each()[2]['currentBalance'].collect()(xs)\n",
    "    crates = lens.Each()[2]['currentRate'].collect()(xs)\n",
    "    obals = lens.Each()[1]['originBalance'].collect()(xs)\n",
    "    orates = lens.Each()[1]['originRate'][1].collect()(xs)\n",
    "\n",
    "    ot = xs[0][1]['originTerm']\n",
    "    rt = xs[0][2]['remainTerm']\n",
    "    sd = xs[0][1]['originDate']\n",
    "    st = xs[0][2]['status']\n",
    "    freq = xs[0][1]['freq']\n",
    "    t = xs[0][1]['type']\n",
    "    totalCurBal = sum(cbals)\n",
    "    totalOriBal = sum(obals)\n",
    "    \n",
    "    if totalCurBal == 0:\n",
    "        return None\n",
    "    avgRate = sum([ x*y for x,y in zip(cbals,crates)])/totalCurBal\n",
    "    avgOriRate = sum([ x*y for x,y in zip(obals,orates)])/totalOriBal\n",
    "\n",
    "    return ['Mortgage',\n",
    "               {'originBalance': totalOriBal,\n",
    "                'originRate': ['fix', 0.01],\n",
    "                'originTerm': ot,\n",
    "                'freq': freq,\n",
    "                'type': t,\n",
    "                'originDate': sd},\n",
    "               {'currentBalance': totalCurBal,\n",
    "                'currentRate': avgRate,\n",
    "                'remainTerm': rt,\n",
    "                'status': st}]\n",
    "\n",
    "def consolAsset(ast_list):\n",
    "    return tz.pipe(tz.groupby(lambda x:(x[1]['originTerm'],x[1]['freq'],x[1]['type'],x[1]['originDate'],x[2]['remainTerm'],x[2]['status']), ast_list)\n",
    "                   ,lambda m: tz.valmap(lambda x: mergeAssets(x), m)\n",
    "                   ,lambda m: [ _ for _ in m.values() if _ and _[2]['status']!=\"Defaulted\"]\n",
    "                   )\n",
    "\n",
    "loanAssetInMap = loanAssetDF.to_dict('records')"
   ]
  },
  {
   "cell_type": "code",
   "execution_count": 53,
   "id": "d6237977",
   "metadata": {},
   "outputs": [],
   "source": [
    "myPool = {\"assets\": [ mapping(_) for _ in loanAssetInMap  ][:1500], \"cutoffDate\":\"2021-08-31\" }"
   ]
  },
  {
   "cell_type": "code",
   "execution_count": 54,
   "id": "f2c919e4-f1b5-4f3f-8a00-9cb23574fdd8",
   "metadata": {},
   "outputs": [
    {
     "data": {
      "text/plain": [
       "1500"
      ]
     },
     "execution_count": 54,
     "metadata": {},
     "output_type": "execute_result"
    }
   ],
   "source": [
    "len(myPool['assets'])"
   ]
  },
  {
   "cell_type": "code",
   "execution_count": null,
   "id": "9947a738-3997-4841-aac7-308729cec6c9",
   "metadata": {},
   "outputs": [],
   "source": []
  },
  {
   "cell_type": "code",
   "execution_count": 66,
   "id": "56a6c9af-5e5e-4977-bb4b-a019539b89f4",
   "metadata": {},
   "outputs": [
    {
     "name": "stdout",
     "output_type": "stream",
     "text": [
      "3.52 s ± 39.9 ms per loop (mean ± std. dev. of 7 runs, 1 loop each)\n"
     ]
    }
   ],
   "source": [
    "%%timeit\n",
    "\n",
    "rp = localAPI.runPool(myPool,read=True)"
   ]
  },
  {
   "cell_type": "code",
   "execution_count": 65,
   "id": "36ff73df-9849-463d-a236-372ed036f4d5",
   "metadata": {},
   "outputs": [
    {
     "name": "stdout",
     "output_type": "stream",
     "text": [
      "2.23 s ± 30.1 ms per loop (mean ± std. dev. of 7 runs, 1 loop each)\n"
     ]
    }
   ],
   "source": [
    "%%timeit\n",
    "\n",
    "rp = localAPI.runPool(myPool,read=True)"
   ]
  },
  {
   "cell_type": "code",
   "execution_count": 64,
   "id": "30520048-7f75-48a5-ae4f-05f526b64362",
   "metadata": {},
   "outputs": [
    {
     "data": {
      "text/plain": [
       "0.3428571428571429"
      ]
     },
     "execution_count": 64,
     "metadata": {},
     "output_type": "execute_result"
    }
   ],
   "source": [
    "(3.5 - 2.3)/3.5"
   ]
  },
  {
   "cell_type": "code",
   "execution_count": null,
   "id": "d559d2bf-c66a-4187-b2ba-531749fd22a5",
   "metadata": {},
   "outputs": [],
   "source": []
  }
 ],
 "metadata": {
  "kernelspec": {
   "display_name": "Python 3 (ipykernel)",
   "language": "python",
   "name": "python3"
  },
  "language_info": {
   "codemirror_mode": {
    "name": "ipython",
    "version": 3
   },
   "file_extension": ".py",
   "mimetype": "text/x-python",
   "name": "python",
   "nbconvert_exporter": "python",
   "pygments_lexer": "ipython3",
   "version": "3.12.3"
  }
 },
 "nbformat": 4,
 "nbformat_minor": 5
}
