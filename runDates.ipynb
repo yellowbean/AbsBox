{
 "cells": [
  {
   "cell_type": "code",
   "execution_count": 1,
   "id": "b4384db3",
   "metadata": {},
   "outputs": [
    {
     "data": {
      "text/html": [
       "<pre style=\"white-space:pre;overflow-x:auto;line-height:normal;font-family:Menlo,'DejaVu Sans Mono',consolas,'Courier New',monospace\"><span style=\"color: #800080; text-decoration-color: #800080; font-weight: bold\">Connecting engine server -&gt; </span><span style=\"color: #800080; text-decoration-color: #800080; font-weight: bold; text-decoration: underline\">http://localhost:8081</span>\n",
       "</pre>\n"
      ],
      "text/plain": [
       "\u001b[1;35mConnecting engine server -> \u001b[0m\u001b[1;4;35mhttp://localhost:8081\u001b[0m\n"
      ]
     },
     "metadata": {},
     "output_type": "display_data"
    },
    {
     "data": {
      "text/html": [
       "<pre style=\"white-space:pre;overflow-x:auto;line-height:normal;font-family:Menlo,'DejaVu Sans Mono',consolas,'Courier New',monospace\">✅<span style=\"color: #008000; text-decoration-color: #008000; font-weight: bold\">Connected, local lib:0.</span><span style=\"color: #008000; text-decoration-color: #008000; font-weight: bold\">26.4</span><span style=\"color: #008000; text-decoration-color: #008000; font-weight: bold\">, server:</span><span style=\"color: #008000; text-decoration-color: #008000; font-weight: bold\">0.27</span><span style=\"color: #008000; text-decoration-color: #008000; font-weight: bold\">.</span><span style=\"color: #008000; text-decoration-color: #008000; font-weight: bold\">17</span>\n",
       "</pre>\n"
      ],
      "text/plain": [
       "✅\u001b[1;32mConnected, local li\u001b[0m\u001b[1;32mb:0\u001b[0m\u001b[1;32m.\u001b[0m\u001b[1;32m26.4\u001b[0m\u001b[1;32m, server:\u001b[0m\u001b[1;32m0.27\u001b[0m\u001b[1;32m.\u001b[0m\u001b[1;32m17\u001b[0m\n"
      ]
     },
     "metadata": {},
     "output_type": "display_data"
    }
   ],
   "source": [
    "from absbox import API,EnginePath\n",
    "\n",
    "localAPI = API(EnginePath.LOCAL, lang='english',check=False)"
   ]
  },
  {
   "cell_type": "code",
   "execution_count": 4,
   "id": "057e042d",
   "metadata": {},
   "outputs": [
    {
     "data": {
      "text/plain": [
       "['2098-04-01',\n",
       " '2098-04-07',\n",
       " '2098-04-14',\n",
       " '2098-04-21',\n",
       " '2098-04-28',\n",
       " '2098-05-05',\n",
       " '2098-05-12',\n",
       " '2098-05-19',\n",
       " '2098-05-26',\n",
       " '2098-06-02',\n",
       " '2098-06-09',\n",
       " '2098-06-16',\n",
       " '2098-06-23',\n",
       " '2098-06-30',\n",
       " '2098-07-07',\n",
       " '2098-07-14',\n",
       " '2098-07-21',\n",
       " '2098-07-28',\n",
       " '2098-08-04',\n",
       " '2098-08-11',\n",
       " '2098-08-18',\n",
       " '2098-08-25',\n",
       " '2098-09-01',\n",
       " '2098-09-08',\n",
       " '2098-09-15',\n",
       " '2098-09-22',\n",
       " '2098-09-29',\n",
       " '2098-10-06',\n",
       " '2098-10-13',\n",
       " '2098-10-20',\n",
       " '2098-10-27',\n",
       " '2098-11-03',\n",
       " '2098-11-10',\n",
       " '2098-11-17',\n",
       " '2098-11-24',\n",
       " '2098-12-01',\n",
       " '2098-12-08',\n",
       " '2098-12-15']"
      ]
     },
     "execution_count": 4,
     "metadata": {},
     "output_type": "execute_result"
    }
   ],
   "source": [
    "localAPI.runDates(\"2098-04-01\",[\"Weekday\",1])"
   ]
  },
  {
   "cell_type": "code",
   "execution_count": null,
   "id": "67b2415b",
   "metadata": {},
   "outputs": [],
   "source": []
  }
 ],
 "metadata": {
  "kernelspec": {
   "display_name": "Python 3 (ipykernel)",
   "language": "python",
   "name": "python3"
  },
  "language_info": {
   "codemirror_mode": {
    "name": "ipython",
    "version": 3
   },
   "file_extension": ".py",
   "mimetype": "text/x-python",
   "name": "python",
   "nbconvert_exporter": "python",
   "pygments_lexer": "ipython3",
   "version": "3.11.9"
  }
 },
 "nbformat": 4,
 "nbformat_minor": 5
}
