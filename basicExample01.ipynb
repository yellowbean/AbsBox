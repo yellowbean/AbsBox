{
 "cells": [
  {
   "cell_type": "code",
   "execution_count": 1,
   "id": "426fe99a",
   "metadata": {},
   "outputs": [],
   "source": [
    "from absbox import API,Generic"
   ]
  },
  {
   "cell_type": "code",
   "execution_count": 2,
   "id": "bccf1e85",
   "metadata": {},
   "outputs": [],
   "source": [
    "test01 = Generic(\n",
    "    \"TEST01\"\n",
    "    ,{\"cutoff\":\"2021-03-01\",\"closing\":\"2021-06-15\",\"firstPay\":\"2021-07-26\"\n",
    "     ,\"payFreq\":[\"DayOfMonth\",20],\"poolFreq\":\"MonthEnd\",\"stated\":\"2030-01-01\"}\n",
    "    ,{'assets':[[\"Mortgage\"\n",
    "        ,{\"originBalance\":1800,\"originRate\":[\"fix\",0.045],\"originTerm\":30\n",
    "          ,\"freq\":\"Monthly\",\"type\":\"Level\",\"originDate\":\"2021-02-01\"}\n",
    "          ,{\"currentBalance\":1100\n",
    "          ,\"currentRate\":0.08\n",
    "          ,\"remainTerm\":20\n",
    "          ,\"status\":\"current\"}]]}\n",
    "    ,((\"acc01\",{\"balance\":0}),)\n",
    "    ,((\"A1\",{\"balance\":1000\n",
    "             ,\"rate\":0.07\n",
    "             ,\"originBalance\":1000\n",
    "             ,\"originRate\":0.07\n",
    "             ,\"startDate\":\"2020-01-03\"\n",
    "             ,\"rateType\":{\"Fixed\":0.08}\n",
    "             ,\"bondType\":{\"Sequential\":None}})\n",
    "      ,(\"B\",{\"balance\":1000\n",
    "             ,\"rate\":0.0\n",
    "             ,\"originBalance\":1000\n",
    "             ,\"originRate\":0.07\n",
    "             ,\"startDate\":\"2020-01-03\"\n",
    "             ,\"rateType\":{\"Fixed\":0.00}\n",
    "             ,\"bondType\":{\"Equity\":None}\n",
    "             }))\n",
    "    ,((\"trusteeFee\",{\"type\":{\"fixFee\":30}}),)\n",
    "    ,{\"amortizing\":[\n",
    "         [\"payFee\",\"acc01\",['trusteeFee']]\n",
    "         ,[\"payInt\",\"acc01\",[\"A1\"]]\n",
    "         ,[\"payPrin\",\"acc01\",[\"A1\"]]\n",
    "         ,[\"payPrin\",\"acc01\",[\"B\"]]\n",
    "         ,[\"payIntResidual\",\"acc01\",\"B\"]\n",
    "     ]}\n",
    "    ,[[\"CollectedInterest\",\"acc01\"]\n",
    "      ,[\"CollectedPrincipal\",\"acc01\"]\n",
    "      ,[\"CollectedPrepayment\",\"acc01\"]\n",
    "      ,[\"CollectedRecoveries\",\"acc01\"]]\n",
    "    ,None\n",
    "    ,None)"
   ]
  },
  {
   "cell_type": "code",
   "execution_count": 3,
   "id": "33ca4042",
   "metadata": {},
   "outputs": [
    {
     "data": {
      "text/html": [
       "<pre style=\"white-space:pre;overflow-x:auto;line-height:normal;font-family:Menlo,'DejaVu Sans Mono',consolas,'Courier New',monospace\"><span style=\"color: #800080; text-decoration-color: #800080; font-weight: bold\">Connecting engine server -&gt; </span><span style=\"color: #800080; text-decoration-color: #800080; font-weight: bold; text-decoration: underline\">http://localhost:8081</span>\n",
       "</pre>\n"
      ],
      "text/plain": [
       "\u001b[1;35mConnecting engine server -> \u001b[0m\u001b[1;4;35mhttp://localhost:8081\u001b[0m\n"
      ]
     },
     "metadata": {},
     "output_type": "display_data"
    },
    {
     "data": {
      "text/html": [
       "<pre style=\"white-space:pre;overflow-x:auto;line-height:normal;font-family:Menlo,'DejaVu Sans Mono',consolas,'Courier New',monospace\">✅<span style=\"color: #008000; text-decoration-color: #008000; font-weight: bold\">Connected, local lib:0.</span><span style=\"color: #008000; text-decoration-color: #008000; font-weight: bold\">26.4</span><span style=\"color: #008000; text-decoration-color: #008000; font-weight: bold\">, server:</span><span style=\"color: #008000; text-decoration-color: #008000; font-weight: bold\">0.28</span><span style=\"color: #008000; text-decoration-color: #008000; font-weight: bold\">.</span><span style=\"color: #008000; text-decoration-color: #008000; font-weight: bold\">8</span>\n",
       "</pre>\n"
      ],
      "text/plain": [
       "✅\u001b[1;32mConnected, local li\u001b[0m\u001b[1;32mb:0\u001b[0m\u001b[1;32m.\u001b[0m\u001b[1;32m26.4\u001b[0m\u001b[1;32m, server:\u001b[0m\u001b[1;32m0.28\u001b[0m\u001b[1;32m.\u001b[0m\u001b[1;32m8\u001b[0m\n"
      ]
     },
     "metadata": {},
     "output_type": "display_data"
    }
   ],
   "source": [
    "localAPI = API(\"http://localhost:8081/\",check=False)"
   ]
  },
  {
   "cell_type": "code",
   "execution_count": 4,
   "id": "83f7a2f5",
   "metadata": {},
   "outputs": [
    {
     "data": {
      "text/html": [
       "<pre style=\"white-space:pre;overflow-x:auto;line-height:normal;font-family:Menlo,'DejaVu Sans Mono',consolas,'Courier New',monospace\">Warning Message from server:\n",
       "<span style=\"color: #808000; text-decoration-color: #808000; font-weight: bold\">Deal is using PreClosing Dates but its status is not PreClosing</span>\n",
       "</pre>\n"
      ],
      "text/plain": [
       "Warning Message from server:\n",
       "\u001b[1;33mDeal is using PreClosing Dates but its status is not PreClosing\u001b[0m\n"
      ]
     },
     "metadata": {},
     "output_type": "display_data"
    }
   ],
   "source": [
    "r = localAPI.run(test01,\n",
    "                 read=True)"
   ]
  },
  {
   "cell_type": "code",
   "execution_count": 5,
   "id": "12e41604",
   "metadata": {},
   "outputs": [
    {
     "data": {
      "text/html": [
       "<div>\n",
       "<style scoped>\n",
       "    .dataframe tbody tr th:only-of-type {\n",
       "        vertical-align: middle;\n",
       "    }\n",
       "\n",
       "    .dataframe tbody tr th {\n",
       "        vertical-align: top;\n",
       "    }\n",
       "\n",
       "    .dataframe thead th {\n",
       "        text-align: right;\n",
       "    }\n",
       "</style>\n",
       "<table border=\"1\" class=\"dataframe\">\n",
       "  <thead>\n",
       "    <tr style=\"text-align: right;\">\n",
       "      <th></th>\n",
       "      <th>Balance Defaults</th>\n",
       "      <th>Interest Defaults</th>\n",
       "      <th>Original Balance</th>\n",
       "      <th>Total</th>\n",
       "    </tr>\n",
       "  </thead>\n",
       "  <tbody>\n",
       "  </tbody>\n",
       "</table>\n",
       "</div>"
      ],
      "text/plain": [
       "Empty DataFrame\n",
       "Columns: [Balance Defaults, Interest Defaults, Original Balance, Total]\n",
       "Index: []"
      ]
     },
     "execution_count": 5,
     "metadata": {},
     "output_type": "execute_result"
    }
   ],
   "source": [
    "r['result']['bonds']"
   ]
  },
  {
   "cell_type": "code",
   "execution_count": 6,
   "id": "315c009c",
   "metadata": {},
   "outputs": [
    {
     "data": {
      "text/html": [
       "<div>\n",
       "<style scoped>\n",
       "    .dataframe tbody tr th:only-of-type {\n",
       "        vertical-align: middle;\n",
       "    }\n",
       "\n",
       "    .dataframe tbody tr th {\n",
       "        vertical-align: top;\n",
       "    }\n",
       "\n",
       "    .dataframe thead th {\n",
       "        text-align: right;\n",
       "    }\n",
       "</style>\n",
       "<table border=\"1\" class=\"dataframe\">\n",
       "  <thead>\n",
       "    <tr style=\"text-align: right;\">\n",
       "      <th></th>\n",
       "      <th>balance</th>\n",
       "      <th>interest</th>\n",
       "      <th>principal</th>\n",
       "      <th>rate</th>\n",
       "      <th>cash</th>\n",
       "      <th>intDue</th>\n",
       "      <th>intOverInt</th>\n",
       "      <th>factor</th>\n",
       "      <th>memo</th>\n",
       "    </tr>\n",
       "    <tr>\n",
       "      <th>date</th>\n",
       "      <th></th>\n",
       "      <th></th>\n",
       "      <th></th>\n",
       "      <th></th>\n",
       "      <th></th>\n",
       "      <th></th>\n",
       "      <th></th>\n",
       "      <th></th>\n",
       "      <th></th>\n",
       "    </tr>\n",
       "  </thead>\n",
       "  <tbody>\n",
       "  </tbody>\n",
       "</table>\n",
       "</div>"
      ],
      "text/plain": [
       "Empty DataFrame\n",
       "Columns: [balance, interest, principal, rate, cash, intDue, intOverInt, factor, memo]\n",
       "Index: []"
      ]
     },
     "execution_count": 6,
     "metadata": {},
     "output_type": "execute_result"
    }
   ],
   "source": [
    "r['bonds']['A1']"
   ]
  },
  {
   "cell_type": "code",
   "execution_count": null,
   "id": "a6779913",
   "metadata": {},
   "outputs": [],
   "source": []
  }
 ],
 "metadata": {
  "kernelspec": {
   "display_name": "Python 3 (ipykernel)",
   "language": "python",
   "name": "python3"
  },
  "language_info": {
   "codemirror_mode": {
    "name": "ipython",
    "version": 3
   },
   "file_extension": ".py",
   "mimetype": "text/x-python",
   "name": "python",
   "nbconvert_exporter": "python",
   "pygments_lexer": "ipython3",
   "version": "3.11.9"
  }
 },
 "nbformat": 4,
 "nbformat_minor": 5
}
