{
 "cells": [
  {
   "cell_type": "markdown",
   "id": "f90bbd9e",
   "metadata": {},
   "source": [
    "### Sample Waterfall\n",
    "\n"
   ]
  },
  {
   "cell_type": "markdown",
   "id": "5e882a2d",
   "metadata": {},
   "source": [
    "A simple waterfall with actions in different places"
   ]
  },
  {
   "cell_type": "code",
   "execution_count": 2,
   "id": "f04592ed",
   "metadata": {},
   "outputs": [],
   "source": [
    "sampleWaterfall = {\n",
    "    \"amortizing\":[\n",
    "         [\"calcAndPayFee\",\"acc01\",['trusteeFee']]\n",
    "         ,[\"accrueAndPayInt\",\"acc01\",[\"A1\"]]\n",
    "         ,[\"payPrin\",\"acc01\",[\"A1\"]]\n",
    "         ,[\"payPrin\",\"acc01\",[\"B\"]]\n",
    "         ,[\"payIntResidual\",\"acc01\",\"B\"]\n",
    "     ],\n",
    "    \"endOfCollection\":[[\"calcAndPayFee\",\"acc01\",['serviceFee']],\n",
    "                      ],\n",
    "    \n",
    "    \"cleanUp\":[[\"sellAsset\", [\"Current|Defaulted\", 1.0, 0.2],\"acc01\"]\n",
    "              ,[\"payIntResidual\",\"acc01\",\"B\"]\n",
    "              ],\n",
    "    \n",
    "    \"closingDay\":[[\"calcAndPayFee\",\"acc01\",['issuanceFee']],\n",
    "                 ]\n",
    "    }"
   ]
  },
  {
   "cell_type": "markdown",
   "id": "1c9f68eb",
   "metadata": {},
   "source": [
    "Plug in the waterfall into the deal object"
   ]
  },
  {
   "cell_type": "code",
   "execution_count": 3,
   "id": "0e922f1a",
   "metadata": {},
   "outputs": [],
   "source": [
    "from absbox import Generic\n",
    "\n",
    "test01 = Generic(\n",
    "    \"TEST01\"\n",
    "    ,{\"cutoff\":\"2021-03-01\",\"closing\":\"2021-06-15\",\"firstPay\":\"2021-07-26\"\n",
    "     ,\"payFreq\":[\"DayOfMonth\",20],\"poolFreq\":\"MonthEnd\",\"stated\":\"2030-01-01\"}\n",
    "    ,{'assets':[[\"Mortgage\"\n",
    "        ,{\"originBalance\":2200,\"originRate\":[\"fix\",0.045],\"originTerm\":30\n",
    "          ,\"freq\":\"Monthly\",\"type\":\"Level\",\"originDate\":\"2021-02-01\"}\n",
    "          ,{\"currentBalance\":2200\n",
    "          ,\"currentRate\":0.08\n",
    "          ,\"remainTerm\":30\n",
    "          ,\"status\":\"current\"}]]}\n",
    "    ,((\"acc01\",{\"balance\":0}),)\n",
    "    ,((\"A1\",{\"balance\":1000\n",
    "             ,\"rate\":0.07\n",
    "             ,\"originBalance\":1000\n",
    "             ,\"originRate\":0.07\n",
    "             ,\"startDate\":\"2020-01-03\"\n",
    "             ,\"rateType\":{\"Fixed\":0.08}\n",
    "             ,\"bondType\":{\"Sequential\":None}})\n",
    "      ,(\"B\",{\"balance\":1000\n",
    "             ,\"rate\":0.0\n",
    "             ,\"originBalance\":1000\n",
    "             ,\"originRate\":0.07\n",
    "             ,\"startDate\":\"2020-01-03\"\n",
    "             ,\"rateType\":{\"Fixed\":0.00}\n",
    "             ,\"bondType\":{\"Equity\":None}\n",
    "             }))\n",
    "    ,((\"issuanceFee\",{\"type\":{\"fixFee\":30}})\n",
    "      ,(\"serviceFee\",{\"type\":{\"annualPctFee\":[(\"poolBalance\",),0.02]}})\n",
    "      ,(\"trusteeFee\",{\"type\":{\"annualPctFee\":[(\"poolBalance\",),0.01]}})\n",
    "      )\n",
    "    ,sampleWaterfall\n",
    "    ,[[\"CollectedInterest\",\"acc01\"]\n",
    "      ,[\"CollectedPrincipal\",\"acc01\"]\n",
    "      ,[\"CollectedPrepayment\",\"acc01\"]\n",
    "      ,[\"CollectedRecoveries\",\"acc01\"]]\n",
    "    ,None\n",
    "    ,None\n",
    "    ,None\n",
    "    ,None\n",
    "    ,(\"PreClosing\",\"Amortizing\")\n",
    "    )"
   ]
  },
  {
   "cell_type": "markdown",
   "id": "a4939032",
   "metadata": {},
   "source": [
    "Adding a `call` assumption to trigger the `clean up` action in the waterfall"
   ]
  },
  {
   "cell_type": "code",
   "execution_count": 21,
   "id": "d30e0a2b",
   "metadata": {},
   "outputs": [
    {
     "data": {
      "text/html": [
       "<pre style=\"white-space:pre;overflow-x:auto;line-height:normal;font-family:Menlo,'DejaVu Sans Mono',consolas,'Courier New',monospace\">Warning Message from server:\n",
       "\n",
       "</pre>\n"
      ],
      "text/plain": [
       "Warning Message from server:\n",
       "\n"
      ]
     },
     "metadata": {},
     "output_type": "display_data"
    }
   ],
   "source": [
    "from absbox import API,EnginePath\n",
    "localAPI = API(EnginePath.DEV,check=False)\n",
    "\n",
    "r = localAPI.run(test01\n",
    "               ,poolAssump = None\n",
    "               ,runAssump = [(\"call\",(\"poolBalance\",300))]\n",
    "               ,read=True)"
   ]
  },
  {
   "cell_type": "markdown",
   "id": "6ca315c0",
   "metadata": {},
   "source": [
    "### On Closing Day\n",
    "\n",
    "The action only performs on `Closing Day` for deal with `PreClosing` status"
   ]
  },
  {
   "cell_type": "code",
   "execution_count": 6,
   "id": "c094dd30",
   "metadata": {},
   "outputs": [
    {
     "data": {
      "text/plain": [
       "{'cutoff': '2021-03-01',\n",
       " 'closing': '2021-06-15',\n",
       " 'firstPay': '2021-07-26',\n",
       " 'payFreq': ['DayOfMonth', 20],\n",
       " 'poolFreq': 'MonthEnd',\n",
       " 'stated': '2030-01-01'}"
      ]
     },
     "execution_count": 6,
     "metadata": {},
     "output_type": "execute_result"
    }
   ],
   "source": [
    "test01.dates"
   ]
  },
  {
   "cell_type": "markdown",
   "id": "b83c924c",
   "metadata": {},
   "source": [
    "Action to be performed on `Closing Day`"
   ]
  },
  {
   "cell_type": "code",
   "execution_count": 8,
   "id": "176075dd",
   "metadata": {},
   "outputs": [
    {
     "data": {
      "text/plain": [
       "[['calcAndPayFee', 'acc01', ['issuanceFee']]]"
      ]
     },
     "execution_count": 8,
     "metadata": {},
     "output_type": "execute_result"
    }
   ],
   "source": [
    "sampleWaterfall['closingDay']"
   ]
  },
  {
   "cell_type": "markdown",
   "id": "7f185e02",
   "metadata": {},
   "source": [
    "Transaction log from the account "
   ]
  },
  {
   "cell_type": "code",
   "execution_count": 35,
   "id": "e457ea53",
   "metadata": {},
   "outputs": [
    {
     "data": {
      "text/html": [
       "<div>\n",
       "<style scoped>\n",
       "    .dataframe tbody tr th:only-of-type {\n",
       "        vertical-align: middle;\n",
       "    }\n",
       "\n",
       "    .dataframe tbody tr th {\n",
       "        vertical-align: top;\n",
       "    }\n",
       "\n",
       "    .dataframe thead th {\n",
       "        text-align: right;\n",
       "    }\n",
       "</style>\n",
       "<table border=\"1\" class=\"dataframe\">\n",
       "  <thead>\n",
       "    <tr style=\"text-align: right;\">\n",
       "      <th></th>\n",
       "      <th>balance</th>\n",
       "      <th>change</th>\n",
       "      <th>memo</th>\n",
       "    </tr>\n",
       "    <tr>\n",
       "      <th>date</th>\n",
       "      <th></th>\n",
       "      <th></th>\n",
       "      <th></th>\n",
       "    </tr>\n",
       "  </thead>\n",
       "  <tbody>\n",
       "    <tr>\n",
       "      <th>2021-06-15</th>\n",
       "      <td>0.00</td>\n",
       "      <td>0.00</td>\n",
       "      <td>&lt;Pool:CollectedRecoveries&gt;</td>\n",
       "    </tr>\n",
       "    <tr>\n",
       "      <th>2021-06-15</th>\n",
       "      <td>0.00</td>\n",
       "      <td>0.00</td>\n",
       "      <td>&lt;Pool:CollectedPrepayment&gt;</td>\n",
       "    </tr>\n",
       "    <tr>\n",
       "      <th>2021-06-15</th>\n",
       "      <td>268.63</td>\n",
       "      <td>268.63</td>\n",
       "      <td>&lt;Pool:CollectedPrincipal&gt;</td>\n",
       "    </tr>\n",
       "    <tr>\n",
       "      <th>2021-06-15</th>\n",
       "      <td>324.60</td>\n",
       "      <td>55.97</td>\n",
       "      <td>&lt;Pool:CollectedInterest&gt;</td>\n",
       "    </tr>\n",
       "    <tr>\n",
       "      <th>2021-06-15</th>\n",
       "      <td>324.60</td>\n",
       "      <td>0.00</td>\n",
       "      <td>&lt;SeqPayFee:serviceFee&gt;</td>\n",
       "    </tr>\n",
       "    <tr>\n",
       "      <th>2021-06-15</th>\n",
       "      <td>294.60</td>\n",
       "      <td>-30.00</td>\n",
       "      <td>&lt;SeqPayFee:issuanceFee&gt;</td>\n",
       "    </tr>\n",
       "  </tbody>\n",
       "</table>\n",
       "</div>"
      ],
      "text/plain": [
       "            balance  change                        memo\n",
       "date                                                   \n",
       "2021-06-15     0.00    0.00  <Pool:CollectedRecoveries>\n",
       "2021-06-15     0.00    0.00  <Pool:CollectedPrepayment>\n",
       "2021-06-15   268.63  268.63   <Pool:CollectedPrincipal>\n",
       "2021-06-15   324.60   55.97    <Pool:CollectedInterest>\n",
       "2021-06-15   324.60    0.00      <SeqPayFee:serviceFee>\n",
       "2021-06-15   294.60  -30.00     <SeqPayFee:issuanceFee>"
      ]
     },
     "execution_count": 35,
     "metadata": {},
     "output_type": "execute_result"
    }
   ],
   "source": [
    "r['accounts']['acc01'].loc['2021-06-15']"
   ]
  },
  {
   "cell_type": "markdown",
   "id": "b20e6a6b",
   "metadata": {},
   "source": [
    "### Pool Collection Days"
   ]
  },
  {
   "cell_type": "code",
   "execution_count": 10,
   "id": "16b978e3",
   "metadata": {},
   "outputs": [
    {
     "data": {
      "text/plain": [
       "{'cutoff': '2021-03-01',\n",
       " 'closing': '2021-06-15',\n",
       " 'firstPay': '2021-07-26',\n",
       " 'payFreq': ['DayOfMonth', 20],\n",
       " 'poolFreq': 'MonthEnd',\n",
       " 'stated': '2030-01-01'}"
      ]
     },
     "execution_count": 10,
     "metadata": {},
     "output_type": "execute_result"
    }
   ],
   "source": [
    "test01.dates"
   ]
  },
  {
   "cell_type": "markdown",
   "id": "841b5257",
   "metadata": {},
   "source": [
    "The action in the `endOfCollection` will be performed each time when collecting proceeds from the pool\n",
    "\n",
    "The dates were described by `poolFreq`"
   ]
  },
  {
   "cell_type": "code",
   "execution_count": 11,
   "id": "a332671a",
   "metadata": {},
   "outputs": [
    {
     "data": {
      "text/plain": [
       "[['calcAndPayFee', 'acc01', ['serviceFee']]]"
      ]
     },
     "execution_count": 11,
     "metadata": {},
     "output_type": "execute_result"
    }
   ],
   "source": [
    "sampleWaterfall['endOfCollection']"
   ]
  },
  {
   "cell_type": "code",
   "execution_count": 34,
   "id": "1864db4b",
   "metadata": {},
   "outputs": [
    {
     "data": {
      "text/html": [
       "<div>\n",
       "<style scoped>\n",
       "    .dataframe tbody tr th:only-of-type {\n",
       "        vertical-align: middle;\n",
       "    }\n",
       "\n",
       "    .dataframe tbody tr th {\n",
       "        vertical-align: top;\n",
       "    }\n",
       "\n",
       "    .dataframe thead th {\n",
       "        text-align: right;\n",
       "    }\n",
       "</style>\n",
       "<table border=\"1\" class=\"dataframe\">\n",
       "  <thead>\n",
       "    <tr style=\"text-align: right;\">\n",
       "      <th></th>\n",
       "      <th>balance</th>\n",
       "      <th>change</th>\n",
       "      <th>memo</th>\n",
       "    </tr>\n",
       "    <tr>\n",
       "      <th>date</th>\n",
       "      <th></th>\n",
       "      <th></th>\n",
       "      <th></th>\n",
       "    </tr>\n",
       "  </thead>\n",
       "  <tbody>\n",
       "    <tr>\n",
       "      <th>2021-07-31</th>\n",
       "      <td>0.00</td>\n",
       "      <td>0.00</td>\n",
       "      <td>&lt;Pool:CollectedRecoveries&gt;</td>\n",
       "    </tr>\n",
       "    <tr>\n",
       "      <th>2021-07-31</th>\n",
       "      <td>0.00</td>\n",
       "      <td>0.00</td>\n",
       "      <td>&lt;Pool:CollectedPrepayment&gt;</td>\n",
       "    </tr>\n",
       "    <tr>\n",
       "      <th>2021-07-31</th>\n",
       "      <td>68.28</td>\n",
       "      <td>68.28</td>\n",
       "      <td>&lt;Pool:CollectedPrincipal&gt;</td>\n",
       "    </tr>\n",
       "    <tr>\n",
       "      <th>2021-07-31</th>\n",
       "      <td>81.15</td>\n",
       "      <td>12.87</td>\n",
       "      <td>&lt;Pool:CollectedInterest&gt;</td>\n",
       "    </tr>\n",
       "    <tr>\n",
       "      <th>2021-07-31</th>\n",
       "      <td>77.87</td>\n",
       "      <td>-3.28</td>\n",
       "      <td>&lt;SeqPayFee:serviceFee&gt;</td>\n",
       "    </tr>\n",
       "  </tbody>\n",
       "</table>\n",
       "</div>"
      ],
      "text/plain": [
       "            balance  change                        memo\n",
       "date                                                   \n",
       "2021-07-31     0.00    0.00  <Pool:CollectedRecoveries>\n",
       "2021-07-31     0.00    0.00  <Pool:CollectedPrepayment>\n",
       "2021-07-31    68.28   68.28   <Pool:CollectedPrincipal>\n",
       "2021-07-31    81.15   12.87    <Pool:CollectedInterest>\n",
       "2021-07-31    77.87   -3.28      <SeqPayFee:serviceFee>"
      ]
     },
     "execution_count": 34,
     "metadata": {},
     "output_type": "execute_result"
    }
   ],
   "source": [
    "r['accounts']['acc01'].loc['2021-07-31']"
   ]
  },
  {
   "cell_type": "markdown",
   "id": "683a27a4",
   "metadata": {},
   "source": [
    "### Distribution Day"
   ]
  },
  {
   "cell_type": "code",
   "execution_count": 12,
   "id": "d3e6a6fe",
   "metadata": {},
   "outputs": [
    {
     "data": {
      "text/plain": [
       "{'cutoff': '2021-03-01',\n",
       " 'closing': '2021-06-15',\n",
       " 'firstPay': '2021-07-26',\n",
       " 'payFreq': ['DayOfMonth', 20],\n",
       " 'poolFreq': 'MonthEnd',\n",
       " 'stated': '2030-01-01'}"
      ]
     },
     "execution_count": 12,
     "metadata": {},
     "output_type": "execute_result"
    }
   ],
   "source": [
    "test01.dates"
   ]
  },
  {
   "cell_type": "markdown",
   "id": "80459ae8",
   "metadata": {},
   "source": [
    "The action in the `amortizing` will be performed each time on the dates were described by `payFreq`"
   ]
  },
  {
   "cell_type": "code",
   "execution_count": 13,
   "id": "ca9e922a",
   "metadata": {},
   "outputs": [
    {
     "data": {
      "text/plain": [
       "[['calcAndPayFee', 'acc01', ['trusteeFee']],\n",
       " ['accrueAndPayInt', 'acc01', ['A1']],\n",
       " ['payPrin', 'acc01', ['A1']],\n",
       " ['payPrin', 'acc01', ['B']],\n",
       " ['payIntResidual', 'acc01', 'B']]"
      ]
     },
     "execution_count": 13,
     "metadata": {},
     "output_type": "execute_result"
    }
   ],
   "source": [
    "sampleWaterfall['amortizing']"
   ]
  },
  {
   "cell_type": "code",
   "execution_count": 15,
   "id": "abf4bde0",
   "metadata": {},
   "outputs": [
    {
     "data": {
      "text/html": [
       "<div>\n",
       "<style scoped>\n",
       "    .dataframe tbody tr th:only-of-type {\n",
       "        vertical-align: middle;\n",
       "    }\n",
       "\n",
       "    .dataframe tbody tr th {\n",
       "        vertical-align: top;\n",
       "    }\n",
       "\n",
       "    .dataframe thead th {\n",
       "        text-align: right;\n",
       "    }\n",
       "</style>\n",
       "<table border=\"1\" class=\"dataframe\">\n",
       "  <thead>\n",
       "    <tr style=\"text-align: right;\">\n",
       "      <th></th>\n",
       "      <th>balance</th>\n",
       "      <th>change</th>\n",
       "      <th>memo</th>\n",
       "    </tr>\n",
       "    <tr>\n",
       "      <th>date</th>\n",
       "      <th></th>\n",
       "      <th></th>\n",
       "      <th></th>\n",
       "    </tr>\n",
       "  </thead>\n",
       "  <tbody>\n",
       "    <tr>\n",
       "      <th>2021-08-20</th>\n",
       "      <td>77.61</td>\n",
       "      <td>-0.26</td>\n",
       "      <td>&lt;SeqPayFee:trusteeFee&gt;</td>\n",
       "    </tr>\n",
       "    <tr>\n",
       "      <th>2021-08-20</th>\n",
       "      <td>74.18</td>\n",
       "      <td>-3.43</td>\n",
       "      <td>&lt;PayInt:A1&gt;</td>\n",
       "    </tr>\n",
       "    <tr>\n",
       "      <th>2021-08-20</th>\n",
       "      <td>0.00</td>\n",
       "      <td>-74.18</td>\n",
       "      <td>&lt;PayPrin:A1&gt;</td>\n",
       "    </tr>\n",
       "    <tr>\n",
       "      <th>2021-08-20</th>\n",
       "      <td>0.00</td>\n",
       "      <td>0.00</td>\n",
       "      <td>&lt;PayPrin:B&gt;</td>\n",
       "    </tr>\n",
       "    <tr>\n",
       "      <th>2021-08-20</th>\n",
       "      <td>0.00</td>\n",
       "      <td>0.00</td>\n",
       "      <td>&lt;PayYield:B&gt;</td>\n",
       "    </tr>\n",
       "  </tbody>\n",
       "</table>\n",
       "</div>"
      ],
      "text/plain": [
       "            balance  change                    memo\n",
       "date                                               \n",
       "2021-08-20    77.61   -0.26  <SeqPayFee:trusteeFee>\n",
       "2021-08-20    74.18   -3.43             <PayInt:A1>\n",
       "2021-08-20     0.00  -74.18            <PayPrin:A1>\n",
       "2021-08-20     0.00    0.00             <PayPrin:B>\n",
       "2021-08-20     0.00    0.00            <PayYield:B>"
      ]
     },
     "execution_count": 15,
     "metadata": {},
     "output_type": "execute_result"
    }
   ],
   "source": [
    "r['accounts']['acc01'].loc['2021-08-20']"
   ]
  },
  {
   "cell_type": "markdown",
   "id": "754cc678",
   "metadata": {},
   "source": [
    "### Clean Up\n",
    "\n",
    "The `clean up` waterfall only perform when the deal met the conditin from `runAssump` assumption\n",
    "\n",
    "In this case, the `clean up` happens at date `2023-06-20`,we can inspect that via `result``status`"
   ]
  },
  {
   "cell_type": "code",
   "execution_count": 25,
   "id": "6e6a080a",
   "metadata": {},
   "outputs": [
    {
     "data": {
      "text/html": [
       "<div>\n",
       "<style scoped>\n",
       "    .dataframe tbody tr th:only-of-type {\n",
       "        vertical-align: middle;\n",
       "    }\n",
       "\n",
       "    .dataframe tbody tr th {\n",
       "        vertical-align: top;\n",
       "    }\n",
       "\n",
       "    .dataframe thead th {\n",
       "        text-align: right;\n",
       "    }\n",
       "</style>\n",
       "<table border=\"1\" class=\"dataframe\">\n",
       "  <thead>\n",
       "    <tr style=\"text-align: right;\">\n",
       "      <th></th>\n",
       "      <th>Date</th>\n",
       "      <th>From</th>\n",
       "      <th>To</th>\n",
       "    </tr>\n",
       "  </thead>\n",
       "  <tbody>\n",
       "    <tr>\n",
       "      <th>0</th>\n",
       "      <td>2021-06-15</td>\n",
       "      <td>PreClosing</td>\n",
       "      <td>Amortizing</td>\n",
       "    </tr>\n",
       "    <tr>\n",
       "      <th>1</th>\n",
       "      <td>2023-06-20</td>\n",
       "      <td>Amortizing</td>\n",
       "      <td>Called</td>\n",
       "    </tr>\n",
       "    <tr>\n",
       "      <th>2</th>\n",
       "      <td>2023-06-20</td>\n",
       "      <td>DealEnd</td>\n",
       "      <td>Clean Up</td>\n",
       "    </tr>\n",
       "  </tbody>\n",
       "</table>\n",
       "</div>"
      ],
      "text/plain": [
       "         Date        From          To\n",
       "0  2021-06-15  PreClosing  Amortizing\n",
       "1  2023-06-20  Amortizing      Called\n",
       "2  2023-06-20     DealEnd    Clean Up"
      ]
     },
     "execution_count": 25,
     "metadata": {},
     "output_type": "execute_result"
    }
   ],
   "source": [
    "r['result']['status']"
   ]
  },
  {
   "cell_type": "markdown",
   "id": "08c07600",
   "metadata": {},
   "source": [
    "We are able to identify the actions via account transaction"
   ]
  },
  {
   "cell_type": "code",
   "execution_count": 29,
   "id": "71a6fc84",
   "metadata": {},
   "outputs": [
    {
     "data": {
      "text/plain": [
       "[['sellAsset', ['Current|Defaulted', 1.0, 0.2], 'acc01'],\n",
       " ['payIntResidual', 'acc01', 'B']]"
      ]
     },
     "execution_count": 29,
     "metadata": {},
     "output_type": "execute_result"
    }
   ],
   "source": [
    "sampleWaterfall['cleanUp']"
   ]
  },
  {
   "cell_type": "code",
   "execution_count": 24,
   "id": "be0d08eb",
   "metadata": {},
   "outputs": [
    {
     "data": {
      "text/html": [
       "<div>\n",
       "<style scoped>\n",
       "    .dataframe tbody tr th:only-of-type {\n",
       "        vertical-align: middle;\n",
       "    }\n",
       "\n",
       "    .dataframe tbody tr th {\n",
       "        vertical-align: top;\n",
       "    }\n",
       "\n",
       "    .dataframe thead th {\n",
       "        text-align: right;\n",
       "    }\n",
       "</style>\n",
       "<table border=\"1\" class=\"dataframe\">\n",
       "  <thead>\n",
       "    <tr style=\"text-align: right;\">\n",
       "      <th></th>\n",
       "      <th>balance</th>\n",
       "      <th>change</th>\n",
       "      <th>memo</th>\n",
       "    </tr>\n",
       "    <tr>\n",
       "      <th>date</th>\n",
       "      <th></th>\n",
       "      <th></th>\n",
       "      <th></th>\n",
       "    </tr>\n",
       "  </thead>\n",
       "  <tbody>\n",
       "    <tr>\n",
       "      <th>2023-06-20</th>\n",
       "      <td>80.52</td>\n",
       "      <td>-0.09</td>\n",
       "      <td>&lt;SeqPayFee:trusteeFee&gt;</td>\n",
       "    </tr>\n",
       "    <tr>\n",
       "      <th>2023-06-20</th>\n",
       "      <td>80.52</td>\n",
       "      <td>0.00</td>\n",
       "      <td>&lt;PayInt:A1&gt;</td>\n",
       "    </tr>\n",
       "    <tr>\n",
       "      <th>2023-06-20</th>\n",
       "      <td>80.52</td>\n",
       "      <td>0.00</td>\n",
       "      <td>&lt;PayPrin:A1&gt;</td>\n",
       "    </tr>\n",
       "    <tr>\n",
       "      <th>2023-06-20</th>\n",
       "      <td>78.51</td>\n",
       "      <td>-2.01</td>\n",
       "      <td>&lt;PayPrin:B&gt;</td>\n",
       "    </tr>\n",
       "    <tr>\n",
       "      <th>2023-06-20</th>\n",
       "      <td>0.00</td>\n",
       "      <td>-78.51</td>\n",
       "      <td>&lt;PayYield:B&gt;</td>\n",
       "    </tr>\n",
       "    <tr>\n",
       "      <th>2023-06-20</th>\n",
       "      <td>240.24</td>\n",
       "      <td>240.24</td>\n",
       "      <td>&lt;Liquidation&gt;</td>\n",
       "    </tr>\n",
       "    <tr>\n",
       "      <th>2023-06-20</th>\n",
       "      <td>0.00</td>\n",
       "      <td>-240.24</td>\n",
       "      <td>&lt;PayYield:B&gt;</td>\n",
       "    </tr>\n",
       "  </tbody>\n",
       "</table>\n",
       "</div>"
      ],
      "text/plain": [
       "            balance  change                    memo\n",
       "date                                               \n",
       "2023-06-20    80.52   -0.09  <SeqPayFee:trusteeFee>\n",
       "2023-06-20    80.52    0.00             <PayInt:A1>\n",
       "2023-06-20    80.52    0.00            <PayPrin:A1>\n",
       "2023-06-20    78.51   -2.01             <PayPrin:B>\n",
       "2023-06-20     0.00  -78.51            <PayYield:B>\n",
       "2023-06-20   240.24  240.24           <Liquidation>\n",
       "2023-06-20     0.00 -240.24            <PayYield:B>"
      ]
     },
     "execution_count": 24,
     "metadata": {},
     "output_type": "execute_result"
    }
   ],
   "source": [
    "r['accounts']['acc01'].loc['2023-06-20']"
   ]
  },
  {
   "cell_type": "markdown",
   "id": "70602b3b",
   "metadata": {},
   "source": [
    "### Summary Via `[result][waterfall]`\n",
    "\n",
    "There is a function that would summaries which waterfall actions are being executed by dates"
   ]
  },
  {
   "cell_type": "code",
   "execution_count": 31,
   "id": "de26588b",
   "metadata": {},
   "outputs": [
    {
     "data": {
      "text/html": [
       "<div>\n",
       "<style scoped>\n",
       "    .dataframe tbody tr th:only-of-type {\n",
       "        vertical-align: middle;\n",
       "    }\n",
       "\n",
       "    .dataframe tbody tr th {\n",
       "        vertical-align: top;\n",
       "    }\n",
       "\n",
       "    .dataframe thead th {\n",
       "        text-align: right;\n",
       "    }\n",
       "</style>\n",
       "<table border=\"1\" class=\"dataframe\">\n",
       "  <thead>\n",
       "    <tr style=\"text-align: right;\">\n",
       "      <th></th>\n",
       "      <th>Date</th>\n",
       "      <th>Waterfall Location</th>\n",
       "    </tr>\n",
       "  </thead>\n",
       "  <tbody>\n",
       "    <tr>\n",
       "      <th>0</th>\n",
       "      <td>2021-06-15</td>\n",
       "      <td>&lt;EndOfPoolCollection&gt;</td>\n",
       "    </tr>\n",
       "    <tr>\n",
       "      <th>1</th>\n",
       "      <td>2021-06-15</td>\n",
       "      <td>&lt;OnClosingDay&gt;</td>\n",
       "    </tr>\n",
       "    <tr>\n",
       "      <th>2</th>\n",
       "      <td>2021-06-30</td>\n",
       "      <td>&lt;EndOfPoolCollection&gt;</td>\n",
       "    </tr>\n",
       "    <tr>\n",
       "      <th>3</th>\n",
       "      <td>2021-07-26</td>\n",
       "      <td>&lt;DistributionDay:&lt;Amortizing&gt;&gt;</td>\n",
       "    </tr>\n",
       "    <tr>\n",
       "      <th>4</th>\n",
       "      <td>2021-07-31</td>\n",
       "      <td>&lt;EndOfPoolCollection&gt;</td>\n",
       "    </tr>\n",
       "    <tr>\n",
       "      <th>5</th>\n",
       "      <td>2021-08-20</td>\n",
       "      <td>&lt;DistributionDay:&lt;Amortizing&gt;&gt;</td>\n",
       "    </tr>\n",
       "    <tr>\n",
       "      <th>6</th>\n",
       "      <td>2021-08-31</td>\n",
       "      <td>&lt;EndOfPoolCollection&gt;</td>\n",
       "    </tr>\n",
       "    <tr>\n",
       "      <th>7</th>\n",
       "      <td>2021-09-20</td>\n",
       "      <td>&lt;DistributionDay:&lt;Amortizing&gt;&gt;</td>\n",
       "    </tr>\n",
       "    <tr>\n",
       "      <th>8</th>\n",
       "      <td>2021-09-30</td>\n",
       "      <td>&lt;EndOfPoolCollection&gt;</td>\n",
       "    </tr>\n",
       "    <tr>\n",
       "      <th>9</th>\n",
       "      <td>2021-10-20</td>\n",
       "      <td>&lt;DistributionDay:&lt;Amortizing&gt;&gt;</td>\n",
       "    </tr>\n",
       "    <tr>\n",
       "      <th>10</th>\n",
       "      <td>2021-10-31</td>\n",
       "      <td>&lt;EndOfPoolCollection&gt;</td>\n",
       "    </tr>\n",
       "    <tr>\n",
       "      <th>11</th>\n",
       "      <td>2021-11-20</td>\n",
       "      <td>&lt;DistributionDay:&lt;Amortizing&gt;&gt;</td>\n",
       "    </tr>\n",
       "    <tr>\n",
       "      <th>12</th>\n",
       "      <td>2021-11-30</td>\n",
       "      <td>&lt;EndOfPoolCollection&gt;</td>\n",
       "    </tr>\n",
       "    <tr>\n",
       "      <th>13</th>\n",
       "      <td>2021-12-20</td>\n",
       "      <td>&lt;DistributionDay:&lt;Amortizing&gt;&gt;</td>\n",
       "    </tr>\n",
       "    <tr>\n",
       "      <th>14</th>\n",
       "      <td>2021-12-31</td>\n",
       "      <td>&lt;EndOfPoolCollection&gt;</td>\n",
       "    </tr>\n",
       "    <tr>\n",
       "      <th>15</th>\n",
       "      <td>2022-01-20</td>\n",
       "      <td>&lt;DistributionDay:&lt;Amortizing&gt;&gt;</td>\n",
       "    </tr>\n",
       "    <tr>\n",
       "      <th>16</th>\n",
       "      <td>2022-01-31</td>\n",
       "      <td>&lt;EndOfPoolCollection&gt;</td>\n",
       "    </tr>\n",
       "    <tr>\n",
       "      <th>17</th>\n",
       "      <td>2022-02-20</td>\n",
       "      <td>&lt;DistributionDay:&lt;Amortizing&gt;&gt;</td>\n",
       "    </tr>\n",
       "    <tr>\n",
       "      <th>18</th>\n",
       "      <td>2022-02-28</td>\n",
       "      <td>&lt;EndOfPoolCollection&gt;</td>\n",
       "    </tr>\n",
       "    <tr>\n",
       "      <th>19</th>\n",
       "      <td>2022-03-20</td>\n",
       "      <td>&lt;DistributionDay:&lt;Amortizing&gt;&gt;</td>\n",
       "    </tr>\n",
       "    <tr>\n",
       "      <th>20</th>\n",
       "      <td>2022-03-31</td>\n",
       "      <td>&lt;EndOfPoolCollection&gt;</td>\n",
       "    </tr>\n",
       "    <tr>\n",
       "      <th>21</th>\n",
       "      <td>2022-04-20</td>\n",
       "      <td>&lt;DistributionDay:&lt;Amortizing&gt;&gt;</td>\n",
       "    </tr>\n",
       "    <tr>\n",
       "      <th>22</th>\n",
       "      <td>2022-04-30</td>\n",
       "      <td>&lt;EndOfPoolCollection&gt;</td>\n",
       "    </tr>\n",
       "    <tr>\n",
       "      <th>23</th>\n",
       "      <td>2022-05-20</td>\n",
       "      <td>&lt;DistributionDay:&lt;Amortizing&gt;&gt;</td>\n",
       "    </tr>\n",
       "    <tr>\n",
       "      <th>24</th>\n",
       "      <td>2022-05-31</td>\n",
       "      <td>&lt;EndOfPoolCollection&gt;</td>\n",
       "    </tr>\n",
       "    <tr>\n",
       "      <th>25</th>\n",
       "      <td>2022-06-20</td>\n",
       "      <td>&lt;DistributionDay:&lt;Amortizing&gt;&gt;</td>\n",
       "    </tr>\n",
       "    <tr>\n",
       "      <th>26</th>\n",
       "      <td>2022-06-30</td>\n",
       "      <td>&lt;EndOfPoolCollection&gt;</td>\n",
       "    </tr>\n",
       "    <tr>\n",
       "      <th>27</th>\n",
       "      <td>2022-07-20</td>\n",
       "      <td>&lt;DistributionDay:&lt;Amortizing&gt;&gt;</td>\n",
       "    </tr>\n",
       "    <tr>\n",
       "      <th>28</th>\n",
       "      <td>2022-07-31</td>\n",
       "      <td>&lt;EndOfPoolCollection&gt;</td>\n",
       "    </tr>\n",
       "    <tr>\n",
       "      <th>29</th>\n",
       "      <td>2022-08-20</td>\n",
       "      <td>&lt;DistributionDay:&lt;Amortizing&gt;&gt;</td>\n",
       "    </tr>\n",
       "    <tr>\n",
       "      <th>30</th>\n",
       "      <td>2022-08-31</td>\n",
       "      <td>&lt;EndOfPoolCollection&gt;</td>\n",
       "    </tr>\n",
       "    <tr>\n",
       "      <th>31</th>\n",
       "      <td>2022-09-20</td>\n",
       "      <td>&lt;DistributionDay:&lt;Amortizing&gt;&gt;</td>\n",
       "    </tr>\n",
       "    <tr>\n",
       "      <th>32</th>\n",
       "      <td>2022-09-30</td>\n",
       "      <td>&lt;EndOfPoolCollection&gt;</td>\n",
       "    </tr>\n",
       "    <tr>\n",
       "      <th>33</th>\n",
       "      <td>2022-10-20</td>\n",
       "      <td>&lt;DistributionDay:&lt;Amortizing&gt;&gt;</td>\n",
       "    </tr>\n",
       "    <tr>\n",
       "      <th>34</th>\n",
       "      <td>2022-10-31</td>\n",
       "      <td>&lt;EndOfPoolCollection&gt;</td>\n",
       "    </tr>\n",
       "    <tr>\n",
       "      <th>35</th>\n",
       "      <td>2022-11-20</td>\n",
       "      <td>&lt;DistributionDay:&lt;Amortizing&gt;&gt;</td>\n",
       "    </tr>\n",
       "    <tr>\n",
       "      <th>36</th>\n",
       "      <td>2022-11-30</td>\n",
       "      <td>&lt;EndOfPoolCollection&gt;</td>\n",
       "    </tr>\n",
       "    <tr>\n",
       "      <th>37</th>\n",
       "      <td>2022-12-20</td>\n",
       "      <td>&lt;DistributionDay:&lt;Amortizing&gt;&gt;</td>\n",
       "    </tr>\n",
       "    <tr>\n",
       "      <th>38</th>\n",
       "      <td>2022-12-31</td>\n",
       "      <td>&lt;EndOfPoolCollection&gt;</td>\n",
       "    </tr>\n",
       "    <tr>\n",
       "      <th>39</th>\n",
       "      <td>2023-01-20</td>\n",
       "      <td>&lt;DistributionDay:&lt;Amortizing&gt;&gt;</td>\n",
       "    </tr>\n",
       "    <tr>\n",
       "      <th>40</th>\n",
       "      <td>2023-01-31</td>\n",
       "      <td>&lt;EndOfPoolCollection&gt;</td>\n",
       "    </tr>\n",
       "    <tr>\n",
       "      <th>41</th>\n",
       "      <td>2023-02-20</td>\n",
       "      <td>&lt;DistributionDay:&lt;Amortizing&gt;&gt;</td>\n",
       "    </tr>\n",
       "    <tr>\n",
       "      <th>42</th>\n",
       "      <td>2023-02-28</td>\n",
       "      <td>&lt;EndOfPoolCollection&gt;</td>\n",
       "    </tr>\n",
       "    <tr>\n",
       "      <th>43</th>\n",
       "      <td>2023-03-20</td>\n",
       "      <td>&lt;DistributionDay:&lt;Amortizing&gt;&gt;</td>\n",
       "    </tr>\n",
       "    <tr>\n",
       "      <th>44</th>\n",
       "      <td>2023-03-31</td>\n",
       "      <td>&lt;EndOfPoolCollection&gt;</td>\n",
       "    </tr>\n",
       "    <tr>\n",
       "      <th>45</th>\n",
       "      <td>2023-04-20</td>\n",
       "      <td>&lt;DistributionDay:&lt;Amortizing&gt;&gt;</td>\n",
       "    </tr>\n",
       "    <tr>\n",
       "      <th>46</th>\n",
       "      <td>2023-04-30</td>\n",
       "      <td>&lt;EndOfPoolCollection&gt;</td>\n",
       "    </tr>\n",
       "    <tr>\n",
       "      <th>47</th>\n",
       "      <td>2023-05-20</td>\n",
       "      <td>&lt;DistributionDay:&lt;Amortizing&gt;&gt;</td>\n",
       "    </tr>\n",
       "    <tr>\n",
       "      <th>48</th>\n",
       "      <td>2023-05-31</td>\n",
       "      <td>&lt;EndOfPoolCollection&gt;</td>\n",
       "    </tr>\n",
       "    <tr>\n",
       "      <th>49</th>\n",
       "      <td>2023-06-20</td>\n",
       "      <td>&lt;DistributionDay:&lt;Amortizing&gt;&gt;</td>\n",
       "    </tr>\n",
       "    <tr>\n",
       "      <th>50</th>\n",
       "      <td>2023-06-20</td>\n",
       "      <td>&lt;CleanUp&gt;</td>\n",
       "    </tr>\n",
       "  </tbody>\n",
       "</table>\n",
       "</div>"
      ],
      "text/plain": [
       "          Date              Waterfall Location\n",
       "0   2021-06-15           <EndOfPoolCollection>\n",
       "1   2021-06-15                  <OnClosingDay>\n",
       "2   2021-06-30           <EndOfPoolCollection>\n",
       "3   2021-07-26  <DistributionDay:<Amortizing>>\n",
       "4   2021-07-31           <EndOfPoolCollection>\n",
       "5   2021-08-20  <DistributionDay:<Amortizing>>\n",
       "6   2021-08-31           <EndOfPoolCollection>\n",
       "7   2021-09-20  <DistributionDay:<Amortizing>>\n",
       "8   2021-09-30           <EndOfPoolCollection>\n",
       "9   2021-10-20  <DistributionDay:<Amortizing>>\n",
       "10  2021-10-31           <EndOfPoolCollection>\n",
       "11  2021-11-20  <DistributionDay:<Amortizing>>\n",
       "12  2021-11-30           <EndOfPoolCollection>\n",
       "13  2021-12-20  <DistributionDay:<Amortizing>>\n",
       "14  2021-12-31           <EndOfPoolCollection>\n",
       "15  2022-01-20  <DistributionDay:<Amortizing>>\n",
       "16  2022-01-31           <EndOfPoolCollection>\n",
       "17  2022-02-20  <DistributionDay:<Amortizing>>\n",
       "18  2022-02-28           <EndOfPoolCollection>\n",
       "19  2022-03-20  <DistributionDay:<Amortizing>>\n",
       "20  2022-03-31           <EndOfPoolCollection>\n",
       "21  2022-04-20  <DistributionDay:<Amortizing>>\n",
       "22  2022-04-30           <EndOfPoolCollection>\n",
       "23  2022-05-20  <DistributionDay:<Amortizing>>\n",
       "24  2022-05-31           <EndOfPoolCollection>\n",
       "25  2022-06-20  <DistributionDay:<Amortizing>>\n",
       "26  2022-06-30           <EndOfPoolCollection>\n",
       "27  2022-07-20  <DistributionDay:<Amortizing>>\n",
       "28  2022-07-31           <EndOfPoolCollection>\n",
       "29  2022-08-20  <DistributionDay:<Amortizing>>\n",
       "30  2022-08-31           <EndOfPoolCollection>\n",
       "31  2022-09-20  <DistributionDay:<Amortizing>>\n",
       "32  2022-09-30           <EndOfPoolCollection>\n",
       "33  2022-10-20  <DistributionDay:<Amortizing>>\n",
       "34  2022-10-31           <EndOfPoolCollection>\n",
       "35  2022-11-20  <DistributionDay:<Amortizing>>\n",
       "36  2022-11-30           <EndOfPoolCollection>\n",
       "37  2022-12-20  <DistributionDay:<Amortizing>>\n",
       "38  2022-12-31           <EndOfPoolCollection>\n",
       "39  2023-01-20  <DistributionDay:<Amortizing>>\n",
       "40  2023-01-31           <EndOfPoolCollection>\n",
       "41  2023-02-20  <DistributionDay:<Amortizing>>\n",
       "42  2023-02-28           <EndOfPoolCollection>\n",
       "43  2023-03-20  <DistributionDay:<Amortizing>>\n",
       "44  2023-03-31           <EndOfPoolCollection>\n",
       "45  2023-04-20  <DistributionDay:<Amortizing>>\n",
       "46  2023-04-30           <EndOfPoolCollection>\n",
       "47  2023-05-20  <DistributionDay:<Amortizing>>\n",
       "48  2023-05-31           <EndOfPoolCollection>\n",
       "49  2023-06-20  <DistributionDay:<Amortizing>>\n",
       "50  2023-06-20                       <CleanUp>"
      ]
     },
     "execution_count": 31,
     "metadata": {},
     "output_type": "execute_result"
    }
   ],
   "source": [
    "r['result']['waterfall']"
   ]
  },
  {
   "cell_type": "code",
   "execution_count": null,
   "id": "d17a9671",
   "metadata": {},
   "outputs": [],
   "source": []
  }
 ],
 "metadata": {
  "kernelspec": {
   "display_name": "Python 3 (ipykernel)",
   "language": "python",
   "name": "python3"
  },
  "language_info": {
   "codemirror_mode": {
    "name": "ipython",
    "version": 3
   },
   "file_extension": ".py",
   "mimetype": "text/x-python",
   "name": "python",
   "nbconvert_exporter": "python",
   "pygments_lexer": "ipython3",
   "version": "3.11.9"
  }
 },
 "nbformat": 4,
 "nbformat_minor": 5
}
