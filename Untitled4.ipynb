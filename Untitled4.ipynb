{
 "cells": [
  {
   "cell_type": "code",
   "execution_count": 6,
   "id": "0c8bca0a-8030-4cc8-ba21-b1563614df7f",
   "metadata": {},
   "outputs": [],
   "source": [
    "from dataclasses import dataclass\n",
    "\n",
    "@dataclass\n",
    "class Point():\n",
    "    x : float = 0\n",
    "    y : dict = None\n",
    "    name : str = 'Nameless'"
   ]
  },
  {
   "cell_type": "code",
   "execution_count": 8,
   "id": "45300dc5-ae70-4984-b79f-28d45b96dfe3",
   "metadata": {},
   "outputs": [
    {
     "data": {
      "text/plain": [
       "Point(x=1, y={'1': 2}, name='Nameless')"
      ]
     },
     "execution_count": 8,
     "metadata": {},
     "output_type": "execute_result"
    }
   ],
   "source": [
    "Point(**{\"x\":1,\"y\":{\"1\":2}})"
   ]
  },
  {
   "cell_type": "code",
   "execution_count": null,
   "id": "d5334c94-bf37-4e1d-a94c-166b2eeec344",
   "metadata": {},
   "outputs": [],
   "source": []
  }
 ],
 "metadata": {
  "kernelspec": {
   "display_name": "Python 3 (ipykernel)",
   "language": "python",
   "name": "python3"
  },
  "language_info": {
   "codemirror_mode": {
    "name": "ipython",
    "version": 3
   },
   "file_extension": ".py",
   "mimetype": "text/x-python",
   "name": "python",
   "nbconvert_exporter": "python",
   "pygments_lexer": "ipython3",
   "version": "3.10.7"
  }
 },
 "nbformat": 4,
 "nbformat_minor": 5
}
