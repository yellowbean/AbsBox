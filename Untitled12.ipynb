{
 "cells": [
  {
   "cell_type": "code",
   "execution_count": 5,
   "id": "ad86b407",
   "metadata": {},
   "outputs": [],
   "source": [
    "from toolz import *"
   ]
  },
  {
   "cell_type": "code",
   "execution_count": 7,
   "id": "8d611fbf",
   "metadata": {},
   "outputs": [],
   "source": [
    "se = [[], [1], [2, 3]]"
   ]
  },
  {
   "cell_type": "code",
   "execution_count": 15,
   "id": "157296f0",
   "metadata": {},
   "outputs": [
    {
     "name": "stdout",
     "output_type": "stream",
     "text": [
      "123 ns ± 0.884 ns per loop (mean ± std. dev. of 7 runs, 10,000,000 loops each)\n"
     ]
    }
   ],
   "source": [
    "%%timeit \n",
    "\n",
    "concat([[], [1], [2, 3]])"
   ]
  },
  {
   "cell_type": "code",
   "execution_count": 14,
   "id": "8243bf95",
   "metadata": {},
   "outputs": [
    {
     "name": "stdout",
     "output_type": "stream",
     "text": [
      "163 ns ± 0.161 ns per loop (mean ± std. dev. of 7 runs, 10,000,000 loops each)\n"
     ]
    }
   ],
   "source": [
    "%%timeit\n",
    "\n",
    "flat(se)"
   ]
  },
  {
   "cell_type": "code",
   "execution_count": 10,
   "id": "572bafe1",
   "metadata": {},
   "outputs": [],
   "source": [
    "def flat(xss) -> list:\n",
    "    return reduce(lambda xs, ys: xs + ys, xss)"
   ]
  },
  {
   "cell_type": "code",
   "execution_count": 16,
   "id": "ea39be56",
   "metadata": {},
   "outputs": [
    {
     "data": {
      "text/plain": [
       "31928.346"
      ]
     },
     "execution_count": 16,
     "metadata": {},
     "output_type": "execute_result"
    }
   ],
   "source": [
    "319283.46 /10"
   ]
  },
  {
   "cell_type": "code",
   "execution_count": 11,
   "id": "18009eca",
   "metadata": {},
   "outputs": [],
   "source": [
    "from schema import Schema,Regex"
   ]
  },
  {
   "cell_type": "code",
   "execution_count": 56,
   "id": "0f8075b9",
   "metadata": {},
   "outputs": [
    {
     "data": {
      "text/plain": [
       "'A'"
      ]
     },
     "execution_count": 56,
     "metadata": {},
     "output_type": "execute_result"
    }
   ],
   "source": [
    "Schema(str,error=\"not a string\").validate(\"A\")"
   ]
  },
  {
   "cell_type": "code",
   "execution_count": 67,
   "id": "389c5cd9",
   "metadata": {},
   "outputs": [],
   "source": [
    "def vDate(x, msg:str = None) -> str:\n",
    "    return Schema(Regex(r\"^\\d{4}-\\d{2}-\\d{2}$\")).validate(x)"
   ]
  },
  {
   "cell_type": "code",
   "execution_count": 68,
   "id": "dd58205c",
   "metadata": {},
   "outputs": [
    {
     "data": {
      "text/plain": [
       "'2021-01-01'"
      ]
     },
     "execution_count": 68,
     "metadata": {},
     "output_type": "execute_result"
    }
   ],
   "source": [
    "vDate(\"2021-01-01\")"
   ]
  },
  {
   "cell_type": "code",
   "execution_count": 80,
   "id": "10fb6635",
   "metadata": {},
   "outputs": [],
   "source": [
    "t1 = [[\"2022-01-01\",15.0],[\"2022-02-01\",200]]"
   ]
  },
  {
   "cell_type": "code",
   "execution_count": 84,
   "id": "190e7ff2",
   "metadata": {},
   "outputs": [
    {
     "data": {
      "text/plain": [
       "[['2022-01-01', 15.0], ['2022-02-01', 200]]"
      ]
     },
     "execution_count": 84,
     "metadata": {},
     "output_type": "execute_result"
    }
   ],
   "source": [
    "Schema([[Schema(Regex(r\"^\\d{4}-\\d{2}-\\d{2}$\")),Or(int,float)]]).validate(t1)"
   ]
  },
  {
   "cell_type": "code",
   "execution_count": 63,
   "id": "f157a11d",
   "metadata": {},
   "outputs": [],
   "source": [
    "def vNum(x, msg:str = None) -> float:\n",
    "    return Schema(Or(float,int)).validate(x)"
   ]
  },
  {
   "cell_type": "code",
   "execution_count": 65,
   "id": "31415024",
   "metadata": {},
   "outputs": [
    {
     "data": {
      "text/plain": [
       "(1.0, 1)"
      ]
     },
     "execution_count": 65,
     "metadata": {},
     "output_type": "execute_result"
    }
   ],
   "source": [
    "vNum(1.0),vNum(1)"
   ]
  },
  {
   "cell_type": "code",
   "execution_count": 66,
   "id": "67acc020",
   "metadata": {},
   "outputs": [
    {
     "ename": "SchemaError",
     "evalue": "Or(<class 'float'>, <class 'int'>) did not validate 'A'\n'A' should be instance of 'float'\n'A' should be instance of 'int'",
     "output_type": "error",
     "traceback": [
      "\u001b[0;31m---------------------------------------------------------------------------\u001b[0m",
      "\u001b[0;31mSchemaError\u001b[0m                               Traceback (most recent call last)",
      "File \u001b[0;32m/opt/homebrew/lib/python3.11/site-packages/schema.py:443\u001b[0m, in \u001b[0;36mSchema.validate\u001b[0;34m(self, data, **kwargs)\u001b[0m\n\u001b[1;32m    442\u001b[0m \u001b[38;5;28;01mtry\u001b[39;00m:\n\u001b[0;32m--> 443\u001b[0m     \u001b[38;5;28;01mreturn\u001b[39;00m \u001b[43ms\u001b[49m\u001b[38;5;241;43m.\u001b[39;49m\u001b[43mvalidate\u001b[49m\u001b[43m(\u001b[49m\u001b[43mdata\u001b[49m\u001b[43m,\u001b[49m\u001b[43m \u001b[49m\u001b[38;5;241;43m*\u001b[39;49m\u001b[38;5;241;43m*\u001b[39;49m\u001b[43mkwargs\u001b[49m\u001b[43m)\u001b[49m\n\u001b[1;32m    444\u001b[0m \u001b[38;5;28;01mexcept\u001b[39;00m SchemaError \u001b[38;5;28;01mas\u001b[39;00m x:\n",
      "File \u001b[0;32m/opt/homebrew/lib/python3.11/site-packages/schema.py:167\u001b[0m, in \u001b[0;36mOr.validate\u001b[0;34m(self, data, **kwargs)\u001b[0m\n\u001b[1;32m    166\u001b[0m         errors \u001b[38;5;241m+\u001b[39m\u001b[38;5;241m=\u001b[39m _x\u001b[38;5;241m.\u001b[39merrors\n\u001b[0;32m--> 167\u001b[0m \u001b[38;5;28;01mraise\u001b[39;00m SchemaError(\n\u001b[1;32m    168\u001b[0m     [\u001b[38;5;124m\"\u001b[39m\u001b[38;5;132;01m%r\u001b[39;00m\u001b[38;5;124m did not validate \u001b[39m\u001b[38;5;132;01m%r\u001b[39;00m\u001b[38;5;124m\"\u001b[39m \u001b[38;5;241m%\u001b[39m (\u001b[38;5;28mself\u001b[39m, data)] \u001b[38;5;241m+\u001b[39m autos,\n\u001b[1;32m    169\u001b[0m     [\u001b[38;5;28mself\u001b[39m\u001b[38;5;241m.\u001b[39m_error\u001b[38;5;241m.\u001b[39mformat(data) \u001b[38;5;28;01mif\u001b[39;00m \u001b[38;5;28mself\u001b[39m\u001b[38;5;241m.\u001b[39m_error \u001b[38;5;28;01melse\u001b[39;00m \u001b[38;5;28;01mNone\u001b[39;00m] \u001b[38;5;241m+\u001b[39m errors,\n\u001b[1;32m    170\u001b[0m )\n",
      "\u001b[0;31mSchemaError\u001b[0m: Or(<class 'float'>, <class 'int'>) did not validate 'A'\n'A' should be instance of 'float'\n'A' should be instance of 'int'",
      "\nDuring handling of the above exception, another exception occurred:\n",
      "\u001b[0;31mSchemaError\u001b[0m                               Traceback (most recent call last)",
      "Cell \u001b[0;32mIn[66], line 1\u001b[0m\n\u001b[0;32m----> 1\u001b[0m \u001b[43mvNum\u001b[49m\u001b[43m(\u001b[49m\u001b[38;5;124;43m\"\u001b[39;49m\u001b[38;5;124;43mA\u001b[39;49m\u001b[38;5;124;43m\"\u001b[39;49m\u001b[43m)\u001b[49m\n",
      "Cell \u001b[0;32mIn[63], line 2\u001b[0m, in \u001b[0;36mvNum\u001b[0;34m(x, msg)\u001b[0m\n\u001b[1;32m      1\u001b[0m \u001b[38;5;28;01mdef\u001b[39;00m \u001b[38;5;21mvNum\u001b[39m(x, msg:\u001b[38;5;28mstr\u001b[39m \u001b[38;5;241m=\u001b[39m \u001b[38;5;28;01mNone\u001b[39;00m) \u001b[38;5;241m-\u001b[39m\u001b[38;5;241m>\u001b[39m \u001b[38;5;28mfloat\u001b[39m:\n\u001b[0;32m----> 2\u001b[0m     \u001b[38;5;28;01mreturn\u001b[39;00m \u001b[43mSchema\u001b[49m\u001b[43m(\u001b[49m\u001b[43mOr\u001b[49m\u001b[43m(\u001b[49m\u001b[38;5;28;43mfloat\u001b[39;49m\u001b[43m,\u001b[49m\u001b[38;5;28;43mint\u001b[39;49m\u001b[43m)\u001b[49m\u001b[43m)\u001b[49m\u001b[38;5;241;43m.\u001b[39;49m\u001b[43mvalidate\u001b[49m\u001b[43m(\u001b[49m\u001b[43mx\u001b[49m\u001b[43m)\u001b[49m\n",
      "File \u001b[0;32m/opt/homebrew/lib/python3.11/site-packages/schema.py:445\u001b[0m, in \u001b[0;36mSchema.validate\u001b[0;34m(self, data, **kwargs)\u001b[0m\n\u001b[1;32m    443\u001b[0m     \u001b[38;5;28;01mreturn\u001b[39;00m s\u001b[38;5;241m.\u001b[39mvalidate(data, \u001b[38;5;241m*\u001b[39m\u001b[38;5;241m*\u001b[39mkwargs)\n\u001b[1;32m    444\u001b[0m \u001b[38;5;28;01mexcept\u001b[39;00m SchemaError \u001b[38;5;28;01mas\u001b[39;00m x:\n\u001b[0;32m--> 445\u001b[0m     \u001b[38;5;28;01mraise\u001b[39;00m SchemaError([\u001b[38;5;28;01mNone\u001b[39;00m] \u001b[38;5;241m+\u001b[39m x\u001b[38;5;241m.\u001b[39mautos, [e\u001b[38;5;241m.\u001b[39mformat(data) \u001b[38;5;28;01mif\u001b[39;00m e \u001b[38;5;28;01melse\u001b[39;00m \u001b[38;5;28;01mNone\u001b[39;00m] \u001b[38;5;241m+\u001b[39m x\u001b[38;5;241m.\u001b[39merrors)\n\u001b[1;32m    446\u001b[0m \u001b[38;5;28;01mexcept\u001b[39;00m \u001b[38;5;167;01mBaseException\u001b[39;00m \u001b[38;5;28;01mas\u001b[39;00m x:\n\u001b[1;32m    447\u001b[0m     message \u001b[38;5;241m=\u001b[39m \u001b[38;5;124m\"\u001b[39m\u001b[38;5;132;01m%r\u001b[39;00m\u001b[38;5;124m.validate(\u001b[39m\u001b[38;5;132;01m%r\u001b[39;00m\u001b[38;5;124m) raised \u001b[39m\u001b[38;5;132;01m%r\u001b[39;00m\u001b[38;5;124m\"\u001b[39m \u001b[38;5;241m%\u001b[39m (s, data, x)\n",
      "\u001b[0;31mSchemaError\u001b[0m: Or(<class 'float'>, <class 'int'>) did not validate 'A'\n'A' should be instance of 'float'\n'A' should be instance of 'int'"
     ]
    }
   ],
   "source": [
    "vNum(\"A\")"
   ]
  },
  {
   "cell_type": "code",
   "execution_count": 58,
   "id": "22deccf7",
   "metadata": {},
   "outputs": [],
   "source": [
    "def vList(x, t, msg:str = None) -> list:\n",
    "    return Schema([t]).validate(x)"
   ]
  },
  {
   "cell_type": "code",
   "execution_count": 60,
   "id": "d41ff723",
   "metadata": {},
   "outputs": [
    {
     "ename": "SchemaError",
     "evalue": "Or(<class 'int'>) did not validate 'A'\n'A' should be instance of 'int'",
     "output_type": "error",
     "traceback": [
      "\u001b[0;31m---------------------------------------------------------------------------\u001b[0m",
      "\u001b[0;31mSchemaError\u001b[0m                               Traceback (most recent call last)",
      "Cell \u001b[0;32mIn[60], line 1\u001b[0m\n\u001b[0;32m----> 1\u001b[0m \u001b[43mvList\u001b[49m\u001b[43m(\u001b[49m\u001b[43m[\u001b[49m\u001b[38;5;241;43m1\u001b[39;49m\u001b[43m,\u001b[49m\u001b[38;5;241;43m2\u001b[39;49m\u001b[43m,\u001b[49m\u001b[38;5;124;43m\"\u001b[39;49m\u001b[38;5;124;43mA\u001b[39;49m\u001b[38;5;124;43m\"\u001b[39;49m\u001b[43m]\u001b[49m\u001b[43m,\u001b[49m\u001b[38;5;28;43mint\u001b[39;49m\u001b[43m)\u001b[49m\n",
      "Cell \u001b[0;32mIn[58], line 2\u001b[0m, in \u001b[0;36mvList\u001b[0;34m(x, t, msg)\u001b[0m\n\u001b[1;32m      1\u001b[0m \u001b[38;5;28;01mdef\u001b[39;00m \u001b[38;5;21mvList\u001b[39m(x, t, msg:\u001b[38;5;28mstr\u001b[39m \u001b[38;5;241m=\u001b[39m \u001b[38;5;28;01mNone\u001b[39;00m) \u001b[38;5;241m-\u001b[39m\u001b[38;5;241m>\u001b[39m \u001b[38;5;28mlist\u001b[39m:\n\u001b[0;32m----> 2\u001b[0m     \u001b[38;5;28;01mreturn\u001b[39;00m \u001b[43mSchema\u001b[49m\u001b[43m(\u001b[49m\u001b[43m[\u001b[49m\u001b[43mt\u001b[49m\u001b[43m]\u001b[49m\u001b[43m)\u001b[49m\u001b[38;5;241;43m.\u001b[39;49m\u001b[43mvalidate\u001b[49m\u001b[43m(\u001b[49m\u001b[43mx\u001b[49m\u001b[43m)\u001b[49m\n",
      "File \u001b[0;32m/opt/homebrew/lib/python3.11/site-packages/schema.py:366\u001b[0m, in \u001b[0;36mSchema.validate\u001b[0;34m(self, data, **kwargs)\u001b[0m\n\u001b[1;32m    364\u001b[0m     data \u001b[38;5;241m=\u001b[39m Schema(\u001b[38;5;28mtype\u001b[39m(s), error\u001b[38;5;241m=\u001b[39me)\u001b[38;5;241m.\u001b[39mvalidate(data, \u001b[38;5;241m*\u001b[39m\u001b[38;5;241m*\u001b[39mkwargs)\n\u001b[1;32m    365\u001b[0m     o \u001b[38;5;241m=\u001b[39m Or(\u001b[38;5;241m*\u001b[39ms, error\u001b[38;5;241m=\u001b[39me, schema\u001b[38;5;241m=\u001b[39mSchema, ignore_extra_keys\u001b[38;5;241m=\u001b[39mi)\n\u001b[0;32m--> 366\u001b[0m     \u001b[38;5;28;01mreturn\u001b[39;00m \u001b[38;5;28mtype\u001b[39m(data)(o\u001b[38;5;241m.\u001b[39mvalidate(d, \u001b[38;5;241m*\u001b[39m\u001b[38;5;241m*\u001b[39mkwargs) \u001b[38;5;28;01mfor\u001b[39;00m d \u001b[38;5;129;01min\u001b[39;00m data)\n\u001b[1;32m    367\u001b[0m \u001b[38;5;28;01mif\u001b[39;00m flavor \u001b[38;5;241m==\u001b[39m DICT:\n\u001b[1;32m    368\u001b[0m     exitstack \u001b[38;5;241m=\u001b[39m ExitStack()\n",
      "File \u001b[0;32m/opt/homebrew/lib/python3.11/site-packages/schema.py:366\u001b[0m, in \u001b[0;36m<genexpr>\u001b[0;34m(.0)\u001b[0m\n\u001b[1;32m    364\u001b[0m     data \u001b[38;5;241m=\u001b[39m Schema(\u001b[38;5;28mtype\u001b[39m(s), error\u001b[38;5;241m=\u001b[39me)\u001b[38;5;241m.\u001b[39mvalidate(data, \u001b[38;5;241m*\u001b[39m\u001b[38;5;241m*\u001b[39mkwargs)\n\u001b[1;32m    365\u001b[0m     o \u001b[38;5;241m=\u001b[39m Or(\u001b[38;5;241m*\u001b[39ms, error\u001b[38;5;241m=\u001b[39me, schema\u001b[38;5;241m=\u001b[39mSchema, ignore_extra_keys\u001b[38;5;241m=\u001b[39mi)\n\u001b[0;32m--> 366\u001b[0m     \u001b[38;5;28;01mreturn\u001b[39;00m \u001b[38;5;28mtype\u001b[39m(data)(\u001b[43mo\u001b[49m\u001b[38;5;241;43m.\u001b[39;49m\u001b[43mvalidate\u001b[49m\u001b[43m(\u001b[49m\u001b[43md\u001b[49m\u001b[43m,\u001b[49m\u001b[43m \u001b[49m\u001b[38;5;241;43m*\u001b[39;49m\u001b[38;5;241;43m*\u001b[39;49m\u001b[43mkwargs\u001b[49m\u001b[43m)\u001b[49m \u001b[38;5;28;01mfor\u001b[39;00m d \u001b[38;5;129;01min\u001b[39;00m data)\n\u001b[1;32m    367\u001b[0m \u001b[38;5;28;01mif\u001b[39;00m flavor \u001b[38;5;241m==\u001b[39m DICT:\n\u001b[1;32m    368\u001b[0m     exitstack \u001b[38;5;241m=\u001b[39m ExitStack()\n",
      "File \u001b[0;32m/opt/homebrew/lib/python3.11/site-packages/schema.py:167\u001b[0m, in \u001b[0;36mOr.validate\u001b[0;34m(self, data, **kwargs)\u001b[0m\n\u001b[1;32m    165\u001b[0m         autos \u001b[38;5;241m+\u001b[39m\u001b[38;5;241m=\u001b[39m _x\u001b[38;5;241m.\u001b[39mautos\n\u001b[1;32m    166\u001b[0m         errors \u001b[38;5;241m+\u001b[39m\u001b[38;5;241m=\u001b[39m _x\u001b[38;5;241m.\u001b[39merrors\n\u001b[0;32m--> 167\u001b[0m \u001b[38;5;28;01mraise\u001b[39;00m SchemaError(\n\u001b[1;32m    168\u001b[0m     [\u001b[38;5;124m\"\u001b[39m\u001b[38;5;132;01m%r\u001b[39;00m\u001b[38;5;124m did not validate \u001b[39m\u001b[38;5;132;01m%r\u001b[39;00m\u001b[38;5;124m\"\u001b[39m \u001b[38;5;241m%\u001b[39m (\u001b[38;5;28mself\u001b[39m, data)] \u001b[38;5;241m+\u001b[39m autos,\n\u001b[1;32m    169\u001b[0m     [\u001b[38;5;28mself\u001b[39m\u001b[38;5;241m.\u001b[39m_error\u001b[38;5;241m.\u001b[39mformat(data) \u001b[38;5;28;01mif\u001b[39;00m \u001b[38;5;28mself\u001b[39m\u001b[38;5;241m.\u001b[39m_error \u001b[38;5;28;01melse\u001b[39;00m \u001b[38;5;28;01mNone\u001b[39;00m] \u001b[38;5;241m+\u001b[39m errors,\n\u001b[1;32m    170\u001b[0m )\n",
      "\u001b[0;31mSchemaError\u001b[0m: Or(<class 'int'>) did not validate 'A'\n'A' should be instance of 'int'"
     ]
    }
   ],
   "source": [
    "vList([1,2,\"A\"],int)"
   ]
  },
  {
   "cell_type": "code",
   "execution_count": 55,
   "id": "5d7b1426",
   "metadata": {},
   "outputs": [
    {
     "data": {
      "text/plain": [
       "'https://a.absadfbox.com/'"
      ]
     },
     "execution_count": 55,
     "metadata": {},
     "output_type": "execute_result"
    }
   ],
   "source": [
    "from urllib.parse import urlparse\n",
    "\n",
    "def is_valid_url(url):\n",
    "    try:\n",
    "        result = urlparse(url)\n",
    "        if all([result.scheme, result.netloc]):\n",
    "            return url\n",
    "    except ValueError:\n",
    "        print(f\"Invalid URL {url}\")\n",
    "        return None\n",
    "\n",
    "url = 'https://a.absadfbox.com/'\n",
    "\n",
    "is_valid_url(url)"
   ]
  },
  {
   "cell_type": "code",
   "execution_count": 9,
   "id": "cd7a455a",
   "metadata": {},
   "outputs": [],
   "source": [
    "from typing import "
   ]
  },
  {
   "cell_type": "code",
   "execution_count": 14,
   "id": "e8e98e41",
   "metadata": {},
   "outputs": [
    {
     "ename": "SchemaError",
     "evalue": "Or(int | None) did not validate 1\nint | None does not match 1",
     "output_type": "error",
     "traceback": [
      "\u001b[0;31m---------------------------------------------------------------------------\u001b[0m",
      "\u001b[0;31mSchemaError\u001b[0m                               Traceback (most recent call last)",
      "Cell \u001b[0;32mIn[14], line 1\u001b[0m\n\u001b[0;32m----> 1\u001b[0m \u001b[43mSchema\u001b[49m\u001b[43m(\u001b[49m\u001b[43m[\u001b[49m\u001b[43m(\u001b[49m\u001b[38;5;28;43mint\u001b[39;49m\u001b[38;5;241;43m|\u001b[39;49m\u001b[38;5;28;43;01mNone\u001b[39;49;00m\u001b[43m)\u001b[49m\u001b[43m]\u001b[49m\u001b[43m)\u001b[49m\u001b[38;5;241;43m.\u001b[39;49m\u001b[43mvalidate\u001b[49m\u001b[43m(\u001b[49m\u001b[43m[\u001b[49m\u001b[38;5;241;43m1\u001b[39;49m\u001b[43m,\u001b[49m\u001b[38;5;241;43m2\u001b[39;49m\u001b[43m,\u001b[49m\u001b[38;5;241;43m3\u001b[39;49m\u001b[43m,\u001b[49m\u001b[38;5;241;43m4\u001b[39;49m\u001b[43m]\u001b[49m\u001b[43m)\u001b[49m\n",
      "File \u001b[0;32m/opt/homebrew/lib/python3.11/site-packages/schema.py:366\u001b[0m, in \u001b[0;36mSchema.validate\u001b[0;34m(self, data, **kwargs)\u001b[0m\n\u001b[1;32m    364\u001b[0m     data \u001b[38;5;241m=\u001b[39m Schema(\u001b[38;5;28mtype\u001b[39m(s), error\u001b[38;5;241m=\u001b[39me)\u001b[38;5;241m.\u001b[39mvalidate(data, \u001b[38;5;241m*\u001b[39m\u001b[38;5;241m*\u001b[39mkwargs)\n\u001b[1;32m    365\u001b[0m     o \u001b[38;5;241m=\u001b[39m Or(\u001b[38;5;241m*\u001b[39ms, error\u001b[38;5;241m=\u001b[39me, schema\u001b[38;5;241m=\u001b[39mSchema, ignore_extra_keys\u001b[38;5;241m=\u001b[39mi)\n\u001b[0;32m--> 366\u001b[0m     \u001b[38;5;28;01mreturn\u001b[39;00m \u001b[38;5;28mtype\u001b[39m(data)(o\u001b[38;5;241m.\u001b[39mvalidate(d, \u001b[38;5;241m*\u001b[39m\u001b[38;5;241m*\u001b[39mkwargs) \u001b[38;5;28;01mfor\u001b[39;00m d \u001b[38;5;129;01min\u001b[39;00m data)\n\u001b[1;32m    367\u001b[0m \u001b[38;5;28;01mif\u001b[39;00m flavor \u001b[38;5;241m==\u001b[39m DICT:\n\u001b[1;32m    368\u001b[0m     exitstack \u001b[38;5;241m=\u001b[39m ExitStack()\n",
      "File \u001b[0;32m/opt/homebrew/lib/python3.11/site-packages/schema.py:366\u001b[0m, in \u001b[0;36m<genexpr>\u001b[0;34m(.0)\u001b[0m\n\u001b[1;32m    364\u001b[0m     data \u001b[38;5;241m=\u001b[39m Schema(\u001b[38;5;28mtype\u001b[39m(s), error\u001b[38;5;241m=\u001b[39me)\u001b[38;5;241m.\u001b[39mvalidate(data, \u001b[38;5;241m*\u001b[39m\u001b[38;5;241m*\u001b[39mkwargs)\n\u001b[1;32m    365\u001b[0m     o \u001b[38;5;241m=\u001b[39m Or(\u001b[38;5;241m*\u001b[39ms, error\u001b[38;5;241m=\u001b[39me, schema\u001b[38;5;241m=\u001b[39mSchema, ignore_extra_keys\u001b[38;5;241m=\u001b[39mi)\n\u001b[0;32m--> 366\u001b[0m     \u001b[38;5;28;01mreturn\u001b[39;00m \u001b[38;5;28mtype\u001b[39m(data)(\u001b[43mo\u001b[49m\u001b[38;5;241;43m.\u001b[39;49m\u001b[43mvalidate\u001b[49m\u001b[43m(\u001b[49m\u001b[43md\u001b[49m\u001b[43m,\u001b[49m\u001b[43m \u001b[49m\u001b[38;5;241;43m*\u001b[39;49m\u001b[38;5;241;43m*\u001b[39;49m\u001b[43mkwargs\u001b[49m\u001b[43m)\u001b[49m \u001b[38;5;28;01mfor\u001b[39;00m d \u001b[38;5;129;01min\u001b[39;00m data)\n\u001b[1;32m    367\u001b[0m \u001b[38;5;28;01mif\u001b[39;00m flavor \u001b[38;5;241m==\u001b[39m DICT:\n\u001b[1;32m    368\u001b[0m     exitstack \u001b[38;5;241m=\u001b[39m ExitStack()\n",
      "File \u001b[0;32m/opt/homebrew/lib/python3.11/site-packages/schema.py:167\u001b[0m, in \u001b[0;36mOr.validate\u001b[0;34m(self, data, **kwargs)\u001b[0m\n\u001b[1;32m    165\u001b[0m         autos \u001b[38;5;241m+\u001b[39m\u001b[38;5;241m=\u001b[39m _x\u001b[38;5;241m.\u001b[39mautos\n\u001b[1;32m    166\u001b[0m         errors \u001b[38;5;241m+\u001b[39m\u001b[38;5;241m=\u001b[39m _x\u001b[38;5;241m.\u001b[39merrors\n\u001b[0;32m--> 167\u001b[0m \u001b[38;5;28;01mraise\u001b[39;00m SchemaError(\n\u001b[1;32m    168\u001b[0m     [\u001b[38;5;124m\"\u001b[39m\u001b[38;5;132;01m%r\u001b[39;00m\u001b[38;5;124m did not validate \u001b[39m\u001b[38;5;132;01m%r\u001b[39;00m\u001b[38;5;124m\"\u001b[39m \u001b[38;5;241m%\u001b[39m (\u001b[38;5;28mself\u001b[39m, data)] \u001b[38;5;241m+\u001b[39m autos,\n\u001b[1;32m    169\u001b[0m     [\u001b[38;5;28mself\u001b[39m\u001b[38;5;241m.\u001b[39m_error\u001b[38;5;241m.\u001b[39mformat(data) \u001b[38;5;28;01mif\u001b[39;00m \u001b[38;5;28mself\u001b[39m\u001b[38;5;241m.\u001b[39m_error \u001b[38;5;28;01melse\u001b[39;00m \u001b[38;5;28;01mNone\u001b[39;00m] \u001b[38;5;241m+\u001b[39m errors,\n\u001b[1;32m    170\u001b[0m )\n",
      "\u001b[0;31mSchemaError\u001b[0m: Or(int | None) did not validate 1\nint | None does not match 1"
     ]
    }
   ],
   "source": [
    "Schema([(int|None)]).validate([1,2,3,4])"
   ]
  },
  {
   "cell_type": "code",
   "execution_count": null,
   "id": "0bf3e7c3",
   "metadata": {},
   "outputs": [],
   "source": []
  }
 ],
 "metadata": {
  "kernelspec": {
   "display_name": "Python 3 (ipykernel)",
   "language": "python",
   "name": "python3"
  },
  "language_info": {
   "codemirror_mode": {
    "name": "ipython",
    "version": 3
   },
   "file_extension": ".py",
   "mimetype": "text/x-python",
   "name": "python",
   "nbconvert_exporter": "python",
   "pygments_lexer": "ipython3",
   "version": "3.11.6"
  }
 },
 "nbformat": 4,
 "nbformat_minor": 5
}
