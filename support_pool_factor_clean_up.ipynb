{
 "cells": [
  {
   "cell_type": "code",
   "execution_count": 2,
   "id": "f9db1c80",
   "metadata": {},
   "outputs": [
    {
     "data": {
      "text/html": [
       "<pre style=\"white-space:pre;overflow-x:auto;line-height:normal;font-family:Menlo,'DejaVu Sans Mono',consolas,'Courier New',monospace\"><span style=\"color: #008000; text-decoration-color: #008000\">⠧</span> <span style=\"color: #800080; text-decoration-color: #800080\">Connecting engine server -&gt; https://absbox.org/api/latest</span>\n",
       "</pre>\n"
      ],
      "text/plain": [
       "\u001b[32m⠧\u001b[0m \u001b[35mConnecting engine server -> https://absbox.org/api/latest\u001b[0m\n"
      ]
     },
     "metadata": {},
     "output_type": "display_data"
    },
    {
     "data": {
      "text/html": [
       "<pre style=\"white-space:pre;overflow-x:auto;line-height:normal;font-family:Menlo,'DejaVu Sans Mono',consolas,'Courier New',monospace\">❌<span style=\"color: #800000; text-decoration-color: #800000; font-weight: bold\">Failed to init the api instance, lib </span><span style=\"color: #800000; text-decoration-color: #800000; font-weight: bold\">support</span><span style=\"color: #800000; text-decoration-color: #800000; font-weight: bold\">=[</span><span style=\"color: #800000; text-decoration-color: #800000; font-weight: bold\">'0'</span><span style=\"color: #800000; text-decoration-color: #800000; font-weight: bold\">, </span><span style=\"color: #800000; text-decoration-color: #800000; font-weight: bold\">'20'</span><span style=\"color: #800000; text-decoration-color: #800000; font-weight: bold\">, </span><span style=\"color: #800000; text-decoration-color: #800000; font-weight: bold\">'2'</span><span style=\"color: #800000; text-decoration-color: #800000; font-weight: bold\">] but server </span><span style=\"color: #800000; text-decoration-color: #800000; font-weight: bold\">version</span><span style=\"color: #800000; text-decoration-color: #800000; font-weight: bold\">=</span><span style=\"color: #800000; text-decoration-color: #800000; font-weight: bold\">0</span><span style=\"color: #800000; text-decoration-color: #800000; font-weight: bold\">.19.8.4 , pls upgrade your api </span>\n",
       "<span style=\"color: #800000; text-decoration-color: #800000; font-weight: bold\">package by: pip -U absbox</span>\n",
       "</pre>\n"
      ],
      "text/plain": [
       "❌\u001b[1;31mFailed to init the api instance, lib \u001b[0m\u001b[1;31msupport\u001b[0m\u001b[1;31m=\u001b[0m\u001b[1;31m[\u001b[0m\u001b[1;31m'0'\u001b[0m\u001b[1;31m, \u001b[0m\u001b[1;31m'20'\u001b[0m\u001b[1;31m, \u001b[0m\u001b[1;31m'2'\u001b[0m\u001b[1;31m]\u001b[0m\u001b[1;31m but server \u001b[0m\u001b[1;31mversion\u001b[0m\u001b[1;31m=\u001b[0m\u001b[1;31m0\u001b[0m\u001b[1;31m.19.8.4\u001b[0m\u001b[1;31m , pls upgrade your api \u001b[0m\n",
       "\u001b[1;31mpackage by: pip -U absbox\u001b[0m\n"
      ]
     },
     "metadata": {},
     "output_type": "display_data"
    },
    {
     "data": {
      "text/html": [
       "<pre style=\"white-space:pre;overflow-x:auto;line-height:normal;font-family:Menlo,'DejaVu Sans Mono',consolas,'Courier New',monospace\"></pre>\n"
      ],
      "text/plain": []
     },
     "metadata": {},
     "output_type": "display_data"
    }
   ],
   "source": [
    "from absbox.local.generic import Generic\n",
    "from absbox import API\n",
    "localAPI = API(\"https://absbox.org/api/latest\")\n",
    "#localAPI = API(\"http://localhost:8081\")"
   ]
  },
  {
   "cell_type": "code",
   "execution_count": null,
   "id": "111ae31a",
   "metadata": {},
   "outputs": [],
   "source": [
    "import pandas as pd\n",
    "pd.set_option('display.max_rows', None)"
   ]
  }
 ],
 "metadata": {
  "kernelspec": {
   "display_name": "Python 3 (ipykernel)",
   "language": "python",
   "name": "python3"
  },
  "language_info": {
   "codemirror_mode": {
    "name": "ipython",
    "version": 3
   },
   "file_extension": ".py",
   "mimetype": "text/x-python",
   "name": "python",
   "nbconvert_exporter": "python",
   "pygments_lexer": "ipython3",
   "version": "3.11.3"
  }
 },
 "nbformat": 4,
 "nbformat_minor": 5
}
