{
 "cells": [
  {
   "cell_type": "code",
   "execution_count": 1,
   "id": "2ebf99a9",
   "metadata": {},
   "outputs": [],
   "source": [
    "import pandas as pd\n",
    "pd.set_option(\"display.max_row\", None)"
   ]
  },
  {
   "cell_type": "code",
   "execution_count": 2,
   "id": "c757df38",
   "metadata": {},
   "outputs": [],
   "source": [
    "%load_ext autoreload\n",
    "%autoreload 2"
   ]
  },
  {
   "cell_type": "code",
   "execution_count": 34,
   "id": "6a2c69de",
   "metadata": {},
   "outputs": [],
   "source": [
    "deal_data = {\n",
    "    \"name\":\"Sample with Interest Swap\"\n",
    "    ,\"dates\":{\"cutoff\":\"2021-06-01\"\n",
    "              ,\"closing\":\"2021-07-15\"\n",
    "              ,\"firstPay\":\"2021-08-26\"\n",
    "              ,\"payFreq\":[\"DayOfMonth\",20]\n",
    "              ,\"poolFreq\":\"MonthEnd\"\n",
    "              ,\"stated\":\"2030-01-01\"}\n",
    "    ,\"pool\":{'assets':[[\"Mortgage\"\n",
    "                        ,{\"originBalance\":2200,\"originRate\":[\"fix\",0.045],\"originTerm\":30\n",
    "                          ,\"freq\":\"Monthly\",\"type\":\"Level\",\"originDate\":\"2021-02-01\"}\n",
    "                          ,{\"currentBalance\":2200\n",
    "                          ,\"currentRate\":0.08\n",
    "                          ,\"remainTerm\":30\n",
    "                          ,\"status\":\"current\"}]]\n",
    "            }\n",
    "    ,\"accounts\":{\"acc01\":{\"balance\":0}}\n",
    "    ,\"bonds\":{\"A1\":{\"balance\":1000\n",
    "                 ,\"rate\":0.07\n",
    "                 ,\"originBalance\":1000\n",
    "                 ,\"originRate\":0.07\n",
    "                 ,\"startDate\":\"2020-01-03\"\n",
    "                 ,\"rateType\":{\"Fixed\":0.08}\n",
    "                 ,\"bondType\":{\"Sequential\":None}}\n",
    "             ,\"B\":{\"balance\":1000\n",
    "                     ,\"rate\":0.0\n",
    "                     ,\"originBalance\":1000\n",
    "                     ,\"originRate\":0.07\n",
    "                     ,\"startDate\":\"2020-01-03\"\n",
    "                     ,\"rateType\":{\"Fixed\":0.00}\n",
    "                     ,\"bondType\":{\"Equity\":None}}}\n",
    "    ,\"fees\":{\"trusteeFee\":{\"type\":{\"fixFee\":30}}}\n",
    "    ,\"collect\":[[\"CollectedInterest\",\"acc01\"]\n",
    "              ,[\"CollectedPrincipal\",\"acc01\"]\n",
    "              ,[\"CollectedPrepayment\",\"acc01\"]\n",
    "              ,[\"CollectedRecoveries\",\"acc01\"]]\n",
    "    ,\"waterfall\":{\"Amortizing\":[\n",
    "         [\"payFee\",\"acc01\",['trusteeFee']]         \n",
    "         ,[\"accrueAndPayInt\",\"acc01\",[\"A1\"]]\n",
    "         ,[\"payPrin\",\"acc01\",[\"A1\"]]\n",
    "         ,[\"payPrin\",\"acc01\",[\"B\"]]\n",
    "         ,[\"payPrinResidual\",\"acc01\",[\"B\"]]\n",
    "     ]}\n",
    "    ,\"status\":(\"PreClosing\",\"Amortizing\")\n",
    "}"
   ]
  },
  {
   "cell_type": "code",
   "execution_count": 4,
   "id": "051269ed",
   "metadata": {},
   "outputs": [
    {
     "data": {
      "text/html": [
       "<pre style=\"white-space:pre;overflow-x:auto;line-height:normal;font-family:Menlo,'DejaVu Sans Mono',consolas,'Courier New',monospace\"><span style=\"color: #800080; text-decoration-color: #800080; font-weight: bold\">Connecting engine server -&gt; </span><span style=\"color: #800080; text-decoration-color: #800080; font-weight: bold; text-decoration: underline\">https://absbox.org/api/dev</span>\n",
       "</pre>\n"
      ],
      "text/plain": [
       "\u001b[1;35mConnecting engine server -> \u001b[0m\u001b[1;4;35mhttps://absbox.org/api/dev\u001b[0m\n"
      ]
     },
     "metadata": {},
     "output_type": "display_data"
    },
    {
     "data": {
      "text/html": [
       "<pre style=\"white-space:pre;overflow-x:auto;line-height:normal;font-family:Menlo,'DejaVu Sans Mono',consolas,'Courier New',monospace\">✅<span style=\"color: #008000; text-decoration-color: #008000; font-weight: bold\">Connected, local lib:0.</span><span style=\"color: #008000; text-decoration-color: #008000; font-weight: bold\">26.4</span><span style=\"color: #008000; text-decoration-color: #008000; font-weight: bold\">, server:</span><span style=\"color: #008000; text-decoration-color: #008000; font-weight: bold\">0.28</span><span style=\"color: #008000; text-decoration-color: #008000; font-weight: bold\">.</span><span style=\"color: #008000; text-decoration-color: #008000; font-weight: bold\">8</span>\n",
       "</pre>\n"
      ],
      "text/plain": [
       "✅\u001b[1;32mConnected, local li\u001b[0m\u001b[1;32mb:0\u001b[0m\u001b[1;32m.\u001b[0m\u001b[1;32m26.4\u001b[0m\u001b[1;32m, server:\u001b[0m\u001b[1;32m0.28\u001b[0m\u001b[1;32m.\u001b[0m\u001b[1;32m8\u001b[0m\n"
      ]
     },
     "metadata": {},
     "output_type": "display_data"
    },
    {
     "ename": "NameError",
     "evalue": "name 'deal_data' is not defined",
     "output_type": "error",
     "traceback": [
      "\u001b[0;31m---------------------------------------------------------------------------\u001b[0m",
      "\u001b[0;31mNameError\u001b[0m                                 Traceback (most recent call last)",
      "Cell \u001b[0;32mIn[4], line 14\u001b[0m\n\u001b[1;32m      2\u001b[0m localAPI \u001b[38;5;241m=\u001b[39m API(EnginePath\u001b[38;5;241m.\u001b[39mDEV,check\u001b[38;5;241m=\u001b[39m\u001b[38;5;28;01mFalse\u001b[39;00m)\n\u001b[1;32m      4\u001b[0m trigger \u001b[38;5;241m=\u001b[39m {\n\u001b[1;32m      5\u001b[0m     \u001b[38;5;124m\"\u001b[39m\u001b[38;5;124mAfterCollect\u001b[39m\u001b[38;5;124m\"\u001b[39m:\n\u001b[1;32m      6\u001b[0m       {\u001b[38;5;124m\"\u001b[39m\u001b[38;5;124mpoolDef\u001b[39m\u001b[38;5;124m\"\u001b[39m:\n\u001b[0;32m   (...)\u001b[0m\n\u001b[1;32m     11\u001b[0m       }\n\u001b[1;32m     12\u001b[0m }\n\u001b[0;32m---> 14\u001b[0m deal \u001b[38;5;241m=\u001b[39m mkDeal(\u001b[43mdeal_data\u001b[49m\u001b[38;5;241m|\u001b[39m{\u001b[38;5;124m\"\u001b[39m\u001b[38;5;124mtriggers\u001b[39m\u001b[38;5;124m\"\u001b[39m:trigger})\n\u001b[1;32m     16\u001b[0m r \u001b[38;5;241m=\u001b[39m localAPI\u001b[38;5;241m.\u001b[39mrun(deal\n\u001b[1;32m     17\u001b[0m                  ,poolAssump \u001b[38;5;241m=\u001b[39m (\u001b[38;5;124m\"\u001b[39m\u001b[38;5;124mPool\u001b[39m\u001b[38;5;124m\"\u001b[39m\n\u001b[1;32m     18\u001b[0m                                 ,(\u001b[38;5;124m\"\u001b[39m\u001b[38;5;124mMortgage\u001b[39m\u001b[38;5;124m\"\u001b[39m\n\u001b[0;32m   (...)\u001b[0m\n\u001b[1;32m     26\u001b[0m                               ]\n\u001b[1;32m     27\u001b[0m                  ,read\u001b[38;5;241m=\u001b[39m\u001b[38;5;28;01mTrue\u001b[39;00m)\n\u001b[1;32m     29\u001b[0m \u001b[38;5;66;03m#r['pool']['flow']\u001b[39;00m\n",
      "\u001b[0;31mNameError\u001b[0m: name 'deal_data' is not defined"
     ]
    }
   ],
   "source": [
    "from absbox import API,mkDeal,EnginePath,SPV\n",
    "localAPI = API(EnginePath.DEV,check=False)\n",
    "\n",
    "trigger = {\n",
    "    \"AfterCollect\":\n",
    "      {\"poolDef\":\n",
    "        {\"condition\":[(\"cumPoolDefaultedBalance\",),\">\",20]\n",
    "        ,\"effects\":(\"newStatus\",\"Defaulted\")\n",
    "        ,\"status\":False\n",
    "        ,\"curable\":False}\n",
    "      }\n",
    "}\n",
    "\n",
    "deal = mkDeal(deal_data|{\"triggers\":trigger})\n",
    "\n",
    "r = localAPI.run(deal\n",
    "                 ,poolAssump = (\"Pool\"\n",
    "                                ,(\"Mortgage\"\n",
    "                                 ,{\"CDR\":0.05} ,None, None, None)\n",
    "                                 ,None\n",
    "                                 ,None)\n",
    "                 ,runAssump = [(\"inspect\"\n",
    "                                ,(\"MonthEnd\",(\"cumPoolDefaultedBalance\",)))\n",
    "                              ,(\"call\",{\"afterDate\":\"2022-09-01\"})\n",
    "                              #,(\"fireTrigger\",[(\"2021-10-01\",\"AfterCollect\",\"poolDef\")])\n",
    "                              ]\n",
    "                 ,read=True)\n",
    "\n",
    "#r['pool']['flow']"
   ]
  },
  {
   "cell_type": "code",
   "execution_count": 5,
   "id": "ec294d1d",
   "metadata": {},
   "outputs": [],
   "source": [
    "test01 = SPV(\n",
    "     \"未满足摊还目标的加速清偿事件\"\n",
    "     ,{\"封包日\":\"2021-03-01\",\"起息日\":\"2021-05-01\",\"首次兑付日\":\"2021-06-26\"\n",
    "      ,\"法定到期日\":\"2060-12-01\",\"收款频率\":\"月末\",\"付款频率\":[\"每月\",26]}     \n",
    "     ,{'清单':[[\"按揭贷款\"\n",
    "         ,{\"放款金额\":120,\"放款利率\":[\"固定\",0.0485],\"初始期限\":30\n",
    "           ,\"频率\":\"每月\",\"类型\":\"等额本金\",\"放款日\":\"2020-06-01\"}\n",
    "           ,{\"当前余额\":120\n",
    "           ,\"当前利率\":0.08\n",
    "           ,\"剩余期限\":10\n",
    "           ,\"状态\":\"正常\"}]],\n",
    "      }\n",
    "     ,((\"账户01\",{\"余额\":0}),)\n",
    "     ,((\"A1\",{\"当前余额\":100\n",
    "              ,\"当前利率\":0.07\n",
    "              ,\"初始余额\":100\n",
    "              ,\"初始利率\":0.07\n",
    "              ,\"起息日\":\"2020-01-03\"\n",
    "              ,\"利率\":{\"固定\":0.08}\n",
    "              ,\"债券类型\":{\"固定摊还\":[[\"2021-06-26\",80]\n",
    "                                     ,[\"2021-07-26\",70]\n",
    "                                     ,[\"2021-09-26\",50]\n",
    "                                     ,[\"2021-11-26\",0]]}\n",
    "              })\n",
    "       ,(\"B\",{\"当前余额\":40\n",
    "              ,\"当前利率\":0.08\n",
    "              ,\"初始余额\":100\n",
    "              ,\"初始利率\":0.07\n",
    "              ,\"起息日\":\"2020-01-03\"\n",
    "              ,\"利率\":{\"固定\":0.08}\n",
    "              ,\"债券类型\":{\"过手摊还\":None}\n",
    "              }))\n",
    "     ,tuple()\n",
    "     ,{(\"兑付日\",\"摊销\"):[\n",
    "          [\"计提支付利息\",\"账户01\",[\"A1\"]]\n",
    "          ,[\"计提支付利息\",\"账户01\",[\"B\"]]\n",
    "          ,[\"支付本金\",\"账户01\",[\"A1\"]]\n",
    "          ,[\"支付本金\",\"账户01\",[\"B\"]]\n",
    "       ]\n",
    "       ,(\"兑付日\",\"加速清偿\"):[\n",
    "          [\"计提支付利息\",\"账户01\",[\"A1\"]]\n",
    "          ,[\"支付剩余本金\",\"账户01\",[\"A1\"]]\n",
    "         ]      \n",
    "      ,\"回款后\":[]\n",
    "      ,\"清仓回购\":[]}\n",
    "     ,([\"利息回款\",\"账户01\"]\n",
    "       ,[\"本金回款\",\"账户01\"]\n",
    "       ,[\"早偿回款\",\"账户01\"]\n",
    "       ,[\"回收回款\",\"账户01\"])\n",
    "     ,None\n",
    "     ,None\n",
    "     ,None\n",
    "     ,{\"分配后\":{\"目标余额测试\":\n",
    "                  {\"条件\":[(\"债券低于目标余额\",\"A1\") ,\">\",0]\n",
    "                  ,\"效果\":(\"新状态\",\"加速清偿\")\n",
    "                  ,\"状态\":False\n",
    "                  ,\"重置\":False}\n",
    "                  }\n",
    "               }\n",
    "    ,(\"设计\",\"摊销\")\n",
    " )\n"
   ]
  },
  {
   "cell_type": "code",
   "execution_count": 6,
   "id": "489ee445",
   "metadata": {},
   "outputs": [
    {
     "data": {
      "text/html": [
       "<pre style=\"white-space:pre;overflow-x:auto;line-height:normal;font-family:Menlo,'DejaVu Sans Mono',consolas,'Courier New',monospace\">Warning Message from server:\n",
       "<span style=\"color: #808000; text-decoration-color: #808000; font-weight: bold\">Bond B is not paid off</span>\n",
       "<span style=\"color: #808000; text-decoration-color: #808000; font-weight: bold\">Account 账户01 has cash to be distributed</span>\n",
       "</pre>\n"
      ],
      "text/plain": [
       "Warning Message from server:\n",
       "\u001b[1;33mBond B is not paid off\u001b[0m\n",
       "\u001b[1;33mAccount 账户01 has cash to be distributed\u001b[0m\n"
      ]
     },
     "metadata": {},
     "output_type": "display_data"
    }
   ],
   "source": [
    "r = localAPI.run(test01\n",
    "                 ,poolAssump = None\n",
    "                 ,runAssump = []\n",
    "                 ,read=True)"
   ]
  },
  {
   "cell_type": "code",
   "execution_count": null,
   "id": "aad4bafd",
   "metadata": {},
   "outputs": [],
   "source": []
  }
 ],
 "metadata": {
  "kernelspec": {
   "display_name": "Python 3 (ipykernel)",
   "language": "python",
   "name": "python3"
  },
  "language_info": {
   "codemirror_mode": {
    "name": "ipython",
    "version": 3
   },
   "file_extension": ".py",
   "mimetype": "text/x-python",
   "name": "python",
   "nbconvert_exporter": "python",
   "pygments_lexer": "ipython3",
   "version": "3.11.9"
  }
 },
 "nbformat": 4,
 "nbformat_minor": 5
}
