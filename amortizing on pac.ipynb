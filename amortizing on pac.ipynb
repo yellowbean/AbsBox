{
 "cells": [
  {
   "cell_type": "code",
   "execution_count": 5,
   "id": "0b846dd1",
   "metadata": {},
   "outputs": [],
   "source": [
    "%load_ext autoreload\n",
    "%autoreload 2"
   ]
  },
  {
   "cell_type": "code",
   "execution_count": 55,
   "id": "b61e821a",
   "metadata": {},
   "outputs": [
    {
     "data": {
      "text/plain": [
       "{'tag': 'MDeal',\n",
       " 'contents': {'dates': {'tag': 'PreClosingDates',\n",
       "   'contents': ['2021-03-01',\n",
       "    '2021-05-01',\n",
       "    None,\n",
       "    '2060-12-01',\n",
       "    ['2021-05-01', {'tag': 'MonthEnd'}],\n",
       "    ['2021-06-26', {'tag': 'DayOfMonth', 'contents': 26}]]},\n",
       "  'name': '固定摊还',\n",
       "  'status': {'tag': 'Amortizing'},\n",
       "  'pool': {'assets': [{'tag': 'Mortgage',\n",
       "     'contents': [{'originBalance': 120,\n",
       "       'originRate': {'tag': 'Fix', 'contents': 0.0485},\n",
       "       'originTerm': 30,\n",
       "       'period': 'Monthly',\n",
       "       'startDate': '2020-06-01',\n",
       "       'prinType': {'tag': 'Even'},\n",
       "       'tag': 'MortgageOriginalInfo'},\n",
       "      120,\n",
       "      0.08,\n",
       "      10,\n",
       "      None,\n",
       "      {'tag': 'Current'}]}],\n",
       "   'asOfDate': '2021-03-01',\n",
       "   'issuanceStat': None,\n",
       "   'futureCf': None},\n",
       "  'bonds': {'A1': {'bndName': 'A1',\n",
       "    'bndBalance': 100,\n",
       "    'bndRate': 0.07,\n",
       "    'bndOriginInfo': {'originBalance': 100,\n",
       "     'originDate': '2020-01-03',\n",
       "     'originRate': 0.07,\n",
       "     'maturityDate': None},\n",
       "    'bndInterestInfo': {'tag': 'Fix', 'contents': [0.08, 'DC_ACT_365F']},\n",
       "    'bndType': {'tag': 'PAC',\n",
       "     'contents': {'tag': 'BalanceCurve',\n",
       "      'contents': [['2021-06-26', 80],\n",
       "       ['2021-07-26', 70],\n",
       "       ['2021-09-26', 0]]}},\n",
       "    'bndDuePrin': 0,\n",
       "    'bndDueInt': 0,\n",
       "    'bndDueIntDate': None,\n",
       "    'bndLastIntPayDate': None},\n",
       "   'B': {'bndName': 'B',\n",
       "    'bndBalance': 20,\n",
       "    'bndRate': 0.0,\n",
       "    'bndOriginInfo': {'originBalance': 100,\n",
       "     'originDate': '2020-01-03',\n",
       "     'originRate': 0.07,\n",
       "     'maturityDate': None},\n",
       "    'bndInterestInfo': {'tag': 'Fix', 'contents': [0.0, 'DC_ACT_365F']},\n",
       "    'bndType': {'tag': 'Equity'},\n",
       "    'bndDuePrin': 0,\n",
       "    'bndDueInt': 0,\n",
       "    'bndDueIntDate': None,\n",
       "    'bndLastIntPayDate': None}},\n",
       "  'waterfall': {'EndOfPoolCollection': [],\n",
       "   'DistributionDay Amortizing': [{'tag': 'AccrueAndPayInt',\n",
       "     'contents': ['账户01', ['A1']]},\n",
       "    {'tag': 'PayPrin', 'contents': ['账户01', ['A1']]},\n",
       "    {'tag': 'PayPrin', 'contents': ['账户01', ['B']]},\n",
       "    {'tag': 'PayResidual', 'contents': [None, '账户01', 'B']}]},\n",
       "  'fees': {},\n",
       "  'accounts': {'账户01': {'accBalance': 0,\n",
       "    'accName': '账户01',\n",
       "    'accType': None,\n",
       "    'accInterest': None,\n",
       "    'accStmt': None}},\n",
       "  'collects': [{'tag': 'Collect', 'contents': ['CollectedInterest', '账户01']},\n",
       "   {'tag': 'Collect', 'contents': ['CollectedPrincipal', '账户01']},\n",
       "   {'tag': 'Collect', 'contents': ['CollectedPrepayment', '账户01']},\n",
       "   {'tag': 'Collect', 'contents': ['CollectedRecoveries', '账户01']}],\n",
       "  'rateSwap': None,\n",
       "  'currencySwap': None,\n",
       "  'custom': None,\n",
       "  'triggers': None,\n",
       "  'liqProvider': None,\n",
       "  'ledgers': None}}"
      ]
     },
     "execution_count": 55,
     "metadata": {},
     "output_type": "execute_result"
    }
   ],
   "source": [
    "test02.json"
   ]
  },
  {
   "cell_type": "code",
   "execution_count": 124,
   "id": "bae96b37",
   "metadata": {},
   "outputs": [
    {
     "name": "stdout",
     "output_type": "stream",
     "text": [
      "\u001b[?25l\u001b[32m⠋\u001b[0m \u001b[35mConnecting engine server -> http://localhost:8081\u001b[0m\n",
      "\u001b[1A\u001b[2K✅\u001b[1;32mConnected, local li\u001b[0m\u001b[1;32mb:0\u001b[0m\u001b[1;32m.\u001b[0m\u001b[1;32m18.5\u001b[0m\u001b[1;32m, server:\u001b[0m\u001b[1;32m0.18\u001b[0m\u001b[1;32m.\u001b[0m\u001b[1;32m9\u001b[0m\n"
     ]
    }
   ],
   "source": [
    "from absbox.local.china import SPV\n",
    "from absbox import API\n",
    "\n",
    "test02 = SPV(\n",
    "     \"固定摊还\"\n",
    "     ,{\"封包日\":\"2021-03-01\",\"起息日\":\"2021-05-01\",\"首次兑付日\":\"2021-06-26\"\n",
    "      ,\"法定到期日\":\"2060-12-01\",\"收款频率\":\"月末\",\"付款频率\":[\"每月\",26]}     \n",
    "     ,{'清单':[[\"按揭贷款\"\n",
    "         ,{\"放款金额\":120,\"放款利率\":[\"固定\",0.0485],\"初始期限\":30\n",
    "           ,\"频率\":\"每月\",\"类型\":\"等额本金\",\"放款日\":\"2020-06-01\"}\n",
    "           ,{\"当前余额\":120\n",
    "           ,\"当前利率\":0.08\n",
    "           ,\"剩余期限\":10\n",
    "           ,\"状态\":\"正常\"}]],\n",
    "      }\n",
    "     ,((\"账户01\",{\"余额\":0}),)\n",
    "     ,((\"A1\",{\"当前余额\":100\n",
    "              ,\"当前利率\":0.07\n",
    "              ,\"初始余额\":100\n",
    "              ,\"初始利率\":0.07\n",
    "              ,\"起息日\":\"2020-01-03\"\n",
    "              ,\"利率\":{\"固定\":0.08}\n",
    "              ,\"债券类型\":{\"固定摊还\":[[\"2021-06-26\",80]\n",
    "                                     ,[\"2021-07-26\",70]\n",
    "                                     ,[\"2021-09-26\",0]]}\n",
    "              ,\"isin\":\"1234\"})\n",
    "       ,(\"B\",{\"当前余额\":20\n",
    "              ,\"当前利率\":0.0\n",
    "              ,\"初始余额\":100\n",
    "              ,\"初始利率\":0.07\n",
    "              ,\"起息日\":\"2020-01-03\"\n",
    "              ,\"利率\":{\"固定\":0.00}\n",
    "              ,\"债券类型\":{\"权益\":None}\n",
    "              }))\n",
    "     ,tuple()\n",
    "     ,{\"未违约\":[\n",
    "          [\"计提支付利息\",\"账户01\",[\"A1\"]]\n",
    "          ,[\"支付本金\",\"账户01\",[\"A1\"]]\n",
    "          ,[\"支付本金\",\"账户01\",[\"B\"]]\n",
    "          ,[\"支付收益\",\"账户01\",\"B\"]\n",
    "     ]\n",
    "      ,\"回款后\":[]}\n",
    "     ,([\"利息回款\",\"账户01\"]\n",
    "       ,[\"本金回款\",\"账户01\"]\n",
    "       ,[\"早偿回款\",\"账户01\"]\n",
    "       ,[\"回收回款\",\"账户01\"])\n",
    "     ,None\n",
    "     ,None\n",
    "     ,None\n",
    " )\n",
    "\n",
    "myAssump = []\n",
    "\n",
    "localAPI = API(\"http://localhost:8081\")\n",
    "#remoteAPI = API(\"https://absbox.org/api/dev\")\n",
    "#remoteAPI = API(\"https://deal-bench.xyz/api\")\n"
   ]
  },
  {
   "cell_type": "code",
   "execution_count": 86,
   "id": "8e515e79",
   "metadata": {},
   "outputs": [],
   "source": [
    "from absbox.client import _upload_deal,_build_doc"
   ]
  },
  {
   "cell_type": "code",
   "execution_count": 126,
   "id": "1fed3c76",
   "metadata": {},
   "outputs": [
    {
     "data": {
      "text/plain": [
       "[3, 1, 2, 3]"
      ]
     },
     "execution_count": 126,
     "metadata": {},
     "output_type": "execute_result"
    }
   ],
   "source": [
    "[3]+[1,2,3]"
   ]
  },
  {
   "cell_type": "code",
   "execution_count": 101,
   "id": "17fb192e",
   "metadata": {},
   "outputs": [
    {
     "data": {
      "text/plain": [
       "{'originBalance': 100,\n",
       " 'originDate': '2020-01-03',\n",
       " 'originRate': 0.07,\n",
       " 'maturityDate': None}"
      ]
     },
     "execution_count": 101,
     "metadata": {},
     "output_type": "execute_result"
    }
   ],
   "source": [
    "test02.json['contents']['bonds']['A1']['bndOriginInfo']"
   ]
  },
  {
   "cell_type": "code",
   "execution_count": 116,
   "id": "35fb784c",
   "metadata": {},
   "outputs": [],
   "source": [
    "from absbox.local.util import subMap"
   ]
  },
  {
   "cell_type": "code",
   "execution_count": 118,
   "id": "86bde168",
   "metadata": {},
   "outputs": [
    {
     "data": {
      "text/plain": [
       "{'C': 4, 'B': 2}"
      ]
     },
     "execution_count": 118,
     "metadata": {},
     "output_type": "execute_result"
    }
   ],
   "source": [
    "subMap({\"A\":1,\"B\":2},[(\"C\",4),(\"B\",5)])"
   ]
  },
  {
   "cell_type": "code",
   "execution_count": null,
   "id": "f6e830ef",
   "metadata": {},
   "outputs": [],
   "source": []
  }
 ],
 "metadata": {
  "kernelspec": {
   "display_name": "Python 3 (ipykernel)",
   "language": "python",
   "name": "python3"
  },
  "language_info": {
   "codemirror_mode": {
    "name": "ipython",
    "version": 3
   },
   "file_extension": ".py",
   "mimetype": "text/x-python",
   "name": "python",
   "nbconvert_exporter": "python",
   "pygments_lexer": "ipython3",
   "version": "3.11.3"
  }
 },
 "nbformat": 4,
 "nbformat_minor": 5
}
