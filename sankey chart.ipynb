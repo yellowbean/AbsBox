{
 "cells": [
  {
   "cell_type": "code",
   "execution_count": 1,
   "id": "94022261",
   "metadata": {},
   "outputs": [],
   "source": [
    "from absbox import Generic\n",
    "\n",
    "test01 = Generic(\n",
    "    \"TEST01\"\n",
    "    ,{\"cutoff\":\"2021-03-01\",\"closing\":\"2021-06-15\",\"firstPay\":\"2021-07-26\"\n",
    "     ,\"payFreq\":[\"DayOfMonth\",20],\"poolFreq\":\"MonthEnd\",\"stated\":\"2030-01-01\"}\n",
    "    ,{'assets':[[\"Mortgage\"\n",
    "        ,{\"originBalance\":2200,\"originRate\":[\"fix\",0.045],\"originTerm\":30\n",
    "          ,\"freq\":\"Monthly\",\"type\":\"Level\",\"originDate\":\"2021-02-01\"}\n",
    "          ,{\"currentBalance\":2200\n",
    "          ,\"currentRate\":0.08\n",
    "          ,\"remainTerm\":20\n",
    "          ,\"status\":\"current\"}]]}\n",
    "    ,((\"acc01\",{\"balance\":0}),)\n",
    "    ,((\"A1\",{\"balance\":1000\n",
    "             ,\"rate\":0.07\n",
    "             ,\"originBalance\":1000\n",
    "             ,\"originRate\":0.07\n",
    "             ,\"startDate\":\"2020-01-03\"\n",
    "             ,\"rateType\":{\"Fixed\":0.08}\n",
    "             ,\"bondType\":{\"Sequential\":None}})\n",
    "      ,(\"B\",{\"balance\":1000\n",
    "             ,\"rate\":0.0\n",
    "             ,\"originBalance\":1000\n",
    "             ,\"originRate\":0.07\n",
    "             ,\"startDate\":\"2020-01-03\"\n",
    "             ,\"rateType\":{\"Fixed\":0.00}\n",
    "             ,\"bondType\":{\"Equity\":None}\n",
    "             }))\n",
    "    ,((\"trusteeFee\",{\"type\":{\"fixFee\":30}}),)\n",
    "    ,{\"amortizing\":[\n",
    "         [\"payFee\",\"acc01\",['trusteeFee']]\n",
    "         ,[\"accrueAndPayInt\",\"acc01\",[\"A1\"]]\n",
    "         ,[\"payPrin\",\"acc01\",[\"A1\"]]\n",
    "         ,[\"payPrin\",\"acc01\",[\"B\"]]\n",
    "         ,[\"payIntResidual\",\"acc01\",\"B\"]\n",
    "     ]}\n",
    "    ,[[\"CollectedInterest\",\"acc01\"]\n",
    "      ,[\"CollectedPrincipal\",\"acc01\"]\n",
    "      ,[\"CollectedPrepayment\",\"acc01\"]\n",
    "      ,[\"CollectedRecoveries\",\"acc01\"]]\n",
    "    ,None\n",
    "    ,None\n",
    "    ,None\n",
    "    ,None\n",
    "    ,(\"PreClosing\",\"Amortizing\")\n",
    "    )"
   ]
  },
  {
   "cell_type": "code",
   "execution_count": 2,
   "id": "cf947845",
   "metadata": {},
   "outputs": [
    {
     "data": {
      "text/html": [
       "<pre style=\"white-space:pre;overflow-x:auto;line-height:normal;font-family:Menlo,'DejaVu Sans Mono',consolas,'Courier New',monospace\"><span style=\"color: #800080; text-decoration-color: #800080; font-weight: bold\">Connecting engine server -&gt; </span><span style=\"color: #800080; text-decoration-color: #800080; font-weight: bold; text-decoration: underline\">https://absbox.org/api/latest</span>\n",
       "</pre>\n"
      ],
      "text/plain": [
       "\u001b[1;35mConnecting engine server -> \u001b[0m\u001b[1;4;35mhttps://absbox.org/api/latest\u001b[0m\n"
      ]
     },
     "metadata": {},
     "output_type": "display_data"
    },
    {
     "data": {
      "text/html": [
       "<pre style=\"white-space:pre;overflow-x:auto;line-height:normal;font-family:Menlo,'DejaVu Sans Mono',consolas,'Courier New',monospace\">✅<span style=\"color: #008000; text-decoration-color: #008000; font-weight: bold\">Connected, local lib:0.</span><span style=\"color: #008000; text-decoration-color: #008000; font-weight: bold\">28.7</span><span style=\"color: #008000; text-decoration-color: #008000; font-weight: bold\">, server:</span><span style=\"color: #008000; text-decoration-color: #008000; font-weight: bold\">0.28</span><span style=\"color: #008000; text-decoration-color: #008000; font-weight: bold\">.</span><span style=\"color: #008000; text-decoration-color: #008000; font-weight: bold\">8</span>\n",
       "</pre>\n"
      ],
      "text/plain": [
       "✅\u001b[1;32mConnected, local li\u001b[0m\u001b[1;32mb:0\u001b[0m\u001b[1;32m.\u001b[0m\u001b[1;32m28.7\u001b[0m\u001b[1;32m, server:\u001b[0m\u001b[1;32m0.28\u001b[0m\u001b[1;32m.\u001b[0m\u001b[1;32m8\u001b[0m\n"
      ]
     },
     "metadata": {},
     "output_type": "display_data"
    }
   ],
   "source": [
    "from absbox import API,EnginePath\n",
    "\n",
    "localAPI = API(\"https://absbox.org/api/latest\")"
   ]
  },
  {
   "cell_type": "code",
   "execution_count": 3,
   "id": "3d8fc73a",
   "metadata": {},
   "outputs": [
    {
     "data": {
      "text/html": [
       "<pre style=\"white-space:pre;overflow-x:auto;line-height:normal;font-family:Menlo,'DejaVu Sans Mono',consolas,'Courier New',monospace\">Warning Message from server:\n",
       "\n",
       "</pre>\n"
      ],
      "text/plain": [
       "Warning Message from server:\n",
       "\n"
      ]
     },
     "metadata": {},
     "output_type": "display_data"
    }
   ],
   "source": [
    "r = localAPI.run(test01\n",
    "               ,poolAssump = None\n",
    "               ,runAssump = None\n",
    "               ,read=True)"
   ]
  },
  {
   "cell_type": "code",
   "execution_count": 16,
   "id": "0ee78d16",
   "metadata": {},
   "outputs": [],
   "source": [
    "import pandas as pd"
   ]
  },
  {
   "cell_type": "code",
   "execution_count": 14,
   "id": "a3a17e7c",
   "metadata": {
    "scrolled": true
   },
   "outputs": [
    {
     "data": {
      "text/html": [
       "<div>\n",
       "<style scoped>\n",
       "    .dataframe tbody tr th:only-of-type {\n",
       "        vertical-align: middle;\n",
       "    }\n",
       "\n",
       "    .dataframe tbody tr th {\n",
       "        vertical-align: top;\n",
       "    }\n",
       "\n",
       "    .dataframe thead th {\n",
       "        text-align: right;\n",
       "    }\n",
       "</style>\n",
       "<table border=\"1\" class=\"dataframe\">\n",
       "  <thead>\n",
       "    <tr style=\"text-align: right;\">\n",
       "      <th></th>\n",
       "      <th>balance</th>\n",
       "      <th>change</th>\n",
       "      <th>memo</th>\n",
       "    </tr>\n",
       "    <tr>\n",
       "      <th>date</th>\n",
       "      <th></th>\n",
       "      <th></th>\n",
       "      <th></th>\n",
       "    </tr>\n",
       "  </thead>\n",
       "  <tbody>\n",
       "    <tr>\n",
       "      <th>2022-09-20</th>\n",
       "      <td>117.85</td>\n",
       "      <td>0.00</td>\n",
       "      <td>&lt;SeqPayFee:trusteeFee&gt;</td>\n",
       "    </tr>\n",
       "    <tr>\n",
       "      <th>2022-09-20</th>\n",
       "      <td>116.21</td>\n",
       "      <td>-1.64</td>\n",
       "      <td>&lt;PayInt:A1&gt;</td>\n",
       "    </tr>\n",
       "    <tr>\n",
       "      <th>2022-09-20</th>\n",
       "      <td>0.00</td>\n",
       "      <td>-116.21</td>\n",
       "      <td>&lt;PayPrin:A1&gt;</td>\n",
       "    </tr>\n",
       "    <tr>\n",
       "      <th>2022-09-20</th>\n",
       "      <td>0.00</td>\n",
       "      <td>0.00</td>\n",
       "      <td>&lt;PayPrin:B&gt;</td>\n",
       "    </tr>\n",
       "    <tr>\n",
       "      <th>2022-09-20</th>\n",
       "      <td>0.00</td>\n",
       "      <td>0.00</td>\n",
       "      <td>&lt;PayYield:B&gt;</td>\n",
       "    </tr>\n",
       "    <tr>\n",
       "      <th>2022-09-30</th>\n",
       "      <td>0.00</td>\n",
       "      <td>0.00</td>\n",
       "      <td>&lt;Pool:CollectedRecoveries&gt;</td>\n",
       "    </tr>\n",
       "    <tr>\n",
       "      <th>2022-09-30</th>\n",
       "      <td>0.00</td>\n",
       "      <td>0.00</td>\n",
       "      <td>&lt;Pool:CollectedPrepayment&gt;</td>\n",
       "    </tr>\n",
       "    <tr>\n",
       "      <th>2022-09-30</th>\n",
       "      <td>108.83</td>\n",
       "      <td>108.83</td>\n",
       "      <td>&lt;Pool:CollectedPrincipal&gt;</td>\n",
       "    </tr>\n",
       "    <tr>\n",
       "      <th>2022-09-30</th>\n",
       "      <td>117.86</td>\n",
       "      <td>9.03</td>\n",
       "      <td>&lt;Pool:CollectedInterest&gt;</td>\n",
       "    </tr>\n",
       "    <tr>\n",
       "      <th>2022-10-20</th>\n",
       "      <td>117.86</td>\n",
       "      <td>0.00</td>\n",
       "      <td>&lt;SeqPayFee:trusteeFee&gt;</td>\n",
       "    </tr>\n",
       "    <tr>\n",
       "      <th>2022-10-20</th>\n",
       "      <td>116.94</td>\n",
       "      <td>-0.92</td>\n",
       "      <td>&lt;PayInt:A1&gt;</td>\n",
       "    </tr>\n",
       "    <tr>\n",
       "      <th>2022-10-20</th>\n",
       "      <td>0.00</td>\n",
       "      <td>-116.94</td>\n",
       "      <td>&lt;PayPrin:A1&gt;</td>\n",
       "    </tr>\n",
       "    <tr>\n",
       "      <th>2022-10-20</th>\n",
       "      <td>0.00</td>\n",
       "      <td>0.00</td>\n",
       "      <td>&lt;PayPrin:B&gt;</td>\n",
       "    </tr>\n",
       "    <tr>\n",
       "      <th>2022-10-20</th>\n",
       "      <td>0.00</td>\n",
       "      <td>0.00</td>\n",
       "      <td>&lt;PayYield:B&gt;</td>\n",
       "    </tr>\n",
       "    <tr>\n",
       "      <th>2022-10-31</th>\n",
       "      <td>0.00</td>\n",
       "      <td>0.00</td>\n",
       "      <td>&lt;Pool:CollectedRecoveries&gt;</td>\n",
       "    </tr>\n",
       "    <tr>\n",
       "      <th>2022-10-31</th>\n",
       "      <td>0.00</td>\n",
       "      <td>0.00</td>\n",
       "      <td>&lt;Pool:CollectedPrepayment&gt;</td>\n",
       "    </tr>\n",
       "    <tr>\n",
       "      <th>2022-10-31</th>\n",
       "      <td>109.55</td>\n",
       "      <td>109.55</td>\n",
       "      <td>&lt;Pool:CollectedPrincipal&gt;</td>\n",
       "    </tr>\n",
       "    <tr>\n",
       "      <th>2022-10-31</th>\n",
       "      <td>117.85</td>\n",
       "      <td>8.30</td>\n",
       "      <td>&lt;Pool:CollectedInterest&gt;</td>\n",
       "    </tr>\n",
       "    <tr>\n",
       "      <th>2022-11-20</th>\n",
       "      <td>117.85</td>\n",
       "      <td>0.00</td>\n",
       "      <td>&lt;SeqPayFee:trusteeFee&gt;</td>\n",
       "    </tr>\n",
       "    <tr>\n",
       "      <th>2022-11-20</th>\n",
       "      <td>117.60</td>\n",
       "      <td>-0.25</td>\n",
       "      <td>&lt;PayInt:A1&gt;</td>\n",
       "    </tr>\n",
       "    <tr>\n",
       "      <th>2022-11-20</th>\n",
       "      <td>74.52</td>\n",
       "      <td>-43.08</td>\n",
       "      <td>&lt;PayPrin:A1&gt;</td>\n",
       "    </tr>\n",
       "    <tr>\n",
       "      <th>2022-11-20</th>\n",
       "      <td>0.00</td>\n",
       "      <td>-74.52</td>\n",
       "      <td>&lt;PayPrin:B&gt;</td>\n",
       "    </tr>\n",
       "    <tr>\n",
       "      <th>2022-11-20</th>\n",
       "      <td>0.00</td>\n",
       "      <td>0.00</td>\n",
       "      <td>&lt;PayYield:B&gt;</td>\n",
       "    </tr>\n",
       "    <tr>\n",
       "      <th>2022-11-30</th>\n",
       "      <td>0.00</td>\n",
       "      <td>0.00</td>\n",
       "      <td>&lt;Pool:CollectedRecoveries&gt;</td>\n",
       "    </tr>\n",
       "    <tr>\n",
       "      <th>2022-11-30</th>\n",
       "      <td>0.00</td>\n",
       "      <td>0.00</td>\n",
       "      <td>&lt;Pool:CollectedPrepayment&gt;</td>\n",
       "    </tr>\n",
       "    <tr>\n",
       "      <th>2022-11-30</th>\n",
       "      <td>110.29</td>\n",
       "      <td>110.29</td>\n",
       "      <td>&lt;Pool:CollectedPrincipal&gt;</td>\n",
       "    </tr>\n",
       "    <tr>\n",
       "      <th>2022-11-30</th>\n",
       "      <td>117.86</td>\n",
       "      <td>7.57</td>\n",
       "      <td>&lt;Pool:CollectedInterest&gt;</td>\n",
       "    </tr>\n",
       "    <tr>\n",
       "      <th>2022-12-20</th>\n",
       "      <td>117.86</td>\n",
       "      <td>0.00</td>\n",
       "      <td>&lt;SeqPayFee:trusteeFee&gt;</td>\n",
       "    </tr>\n",
       "    <tr>\n",
       "      <th>2022-12-20</th>\n",
       "      <td>117.86</td>\n",
       "      <td>0.00</td>\n",
       "      <td>&lt;PayInt:A1&gt;</td>\n",
       "    </tr>\n",
       "    <tr>\n",
       "      <th>2022-12-20</th>\n",
       "      <td>117.86</td>\n",
       "      <td>0.00</td>\n",
       "      <td>&lt;PayPrin:A1&gt;</td>\n",
       "    </tr>\n",
       "    <tr>\n",
       "      <th>2022-12-20</th>\n",
       "      <td>0.00</td>\n",
       "      <td>-117.86</td>\n",
       "      <td>&lt;PayPrin:B&gt;</td>\n",
       "    </tr>\n",
       "    <tr>\n",
       "      <th>2022-12-20</th>\n",
       "      <td>0.00</td>\n",
       "      <td>0.00</td>\n",
       "      <td>&lt;PayYield:B&gt;</td>\n",
       "    </tr>\n",
       "  </tbody>\n",
       "</table>\n",
       "</div>"
      ],
      "text/plain": [
       "            balance  change                        memo\n",
       "date                                                   \n",
       "2022-09-20   117.85    0.00      <SeqPayFee:trusteeFee>\n",
       "2022-09-20   116.21   -1.64                 <PayInt:A1>\n",
       "2022-09-20     0.00 -116.21                <PayPrin:A1>\n",
       "2022-09-20     0.00    0.00                 <PayPrin:B>\n",
       "2022-09-20     0.00    0.00                <PayYield:B>\n",
       "2022-09-30     0.00    0.00  <Pool:CollectedRecoveries>\n",
       "2022-09-30     0.00    0.00  <Pool:CollectedPrepayment>\n",
       "2022-09-30   108.83  108.83   <Pool:CollectedPrincipal>\n",
       "2022-09-30   117.86    9.03    <Pool:CollectedInterest>\n",
       "2022-10-20   117.86    0.00      <SeqPayFee:trusteeFee>\n",
       "2022-10-20   116.94   -0.92                 <PayInt:A1>\n",
       "2022-10-20     0.00 -116.94                <PayPrin:A1>\n",
       "2022-10-20     0.00    0.00                 <PayPrin:B>\n",
       "2022-10-20     0.00    0.00                <PayYield:B>\n",
       "2022-10-31     0.00    0.00  <Pool:CollectedRecoveries>\n",
       "2022-10-31     0.00    0.00  <Pool:CollectedPrepayment>\n",
       "2022-10-31   109.55  109.55   <Pool:CollectedPrincipal>\n",
       "2022-10-31   117.85    8.30    <Pool:CollectedInterest>\n",
       "2022-11-20   117.85    0.00      <SeqPayFee:trusteeFee>\n",
       "2022-11-20   117.60   -0.25                 <PayInt:A1>\n",
       "2022-11-20    74.52  -43.08                <PayPrin:A1>\n",
       "2022-11-20     0.00  -74.52                 <PayPrin:B>\n",
       "2022-11-20     0.00    0.00                <PayYield:B>\n",
       "2022-11-30     0.00    0.00  <Pool:CollectedRecoveries>\n",
       "2022-11-30     0.00    0.00  <Pool:CollectedPrepayment>\n",
       "2022-11-30   110.29  110.29   <Pool:CollectedPrincipal>\n",
       "2022-11-30   117.86    7.57    <Pool:CollectedInterest>\n",
       "2022-12-20   117.86    0.00      <SeqPayFee:trusteeFee>\n",
       "2022-12-20   117.86    0.00                 <PayInt:A1>\n",
       "2022-12-20   117.86    0.00                <PayPrin:A1>\n",
       "2022-12-20     0.00 -117.86                 <PayPrin:B>\n",
       "2022-12-20     0.00    0.00                <PayYield:B>"
      ]
     },
     "execution_count": 14,
     "metadata": {},
     "output_type": "execute_result"
    }
   ],
   "source": [
    "r['accounts']['acc01'].loc[\"2022-09-20\":\"2022-12-20\"]"
   ]
  },
  {
   "cell_type": "code",
   "execution_count": 27,
   "id": "80013d58",
   "metadata": {},
   "outputs": [
    {
     "data": {
      "text/plain": [
       "True"
      ]
     },
     "execution_count": 27,
     "metadata": {},
     "output_type": "execute_result"
    }
   ],
   "source": [
    "'2022-10-20' in r['accounts']['acc01'].index"
   ]
  },
  {
   "cell_type": "code",
   "execution_count": 31,
   "id": "f77e6173",
   "metadata": {},
   "outputs": [
    {
     "data": {
      "text/plain": [
       "0.0"
      ]
     },
     "execution_count": 31,
     "metadata": {},
     "output_type": "execute_result"
    }
   ],
   "source": [
    "r['accounts']['acc01'].loc[:'2022-10-25'].iloc[-1]['balance']"
   ]
  },
  {
   "cell_type": "code",
   "execution_count": 28,
   "id": "58b3f28a",
   "metadata": {},
   "outputs": [
    {
     "data": {
      "text/plain": [
       "117.85"
      ]
     },
     "execution_count": 28,
     "metadata": {},
     "output_type": "execute_result"
    }
   ],
   "source": [
    "r['accounts']['acc01'].loc['2022-11-19'].iloc[-1]['balance']"
   ]
  },
  {
   "cell_type": "code",
   "execution_count": 9,
   "id": "dd33aa12",
   "metadata": {},
   "outputs": [],
   "source": [
    "import toolz as tz\n",
    "from lenses import lens \n",
    "\n",
    "def balAtDate(accStmt, dateInStr) -> float:\n",
    "    if dateInStr in accStmt.index:\n",
    "        return accStmt.loc[dateInStr].iloc[-1]['balance']\n",
    "    else:\n",
    "        return accStmt.loc[:dateInStr].iloc[-1]['balance']\n",
    "\n",
    "def viewBalanceAccount(accStmt, date=None) -> float :\n",
    "    if date is None:\n",
    "        return 1\n",
    "    \n",
    "    return 0\n",
    "\n",
    "\n",
    "def FlowSummary(r:dict, start_date=None, end_date=None):\n",
    "    \"\"\"Sum up cash flow from result\n",
    "    \"\"\"\n",
    "    accsMap = r['accounts']\n",
    "\n",
    "\n",
    "\n",
    "\n",
    "\n",
    "    return {}"
   ]
  },
  {
   "cell_type": "code",
   "execution_count": null,
   "id": "9138b790",
   "metadata": {},
   "outputs": [],
   "source": []
  }
 ],
 "metadata": {
  "kernelspec": {
   "display_name": "Python 3 (ipykernel)",
   "language": "python",
   "name": "python3"
  },
  "language_info": {
   "codemirror_mode": {
    "name": "ipython",
    "version": 3
   },
   "file_extension": ".py",
   "mimetype": "text/x-python",
   "name": "python",
   "nbconvert_exporter": "python",
   "pygments_lexer": "ipython3",
   "version": "3.11.9"
  }
 },
 "nbformat": 4,
 "nbformat_minor": 5
}
