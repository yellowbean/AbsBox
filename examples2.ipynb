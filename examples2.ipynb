{
 "cells": [
  {
   "cell_type": "code",
   "execution_count": 1,
   "id": "cf85fbeb",
   "metadata": {},
   "outputs": [
    {
     "name": "stderr",
     "output_type": "stream",
     "text": [
      "ERROR:root:中文字体载入失败\n",
      "/tmp/ipykernel_59613/1395454784.py:9: FutureWarning: Passing a negative integer is deprecated in version 1.0 and will not be supported in future version. Instead, use None to not limit the column width.\n",
      "  pd.set_option('display.max_colwidth', -1)\n"
     ]
    }
   ],
   "source": [
    "import pandas as pd \n",
    "from absbox import API,save\n",
    "from absbox.local.china import 信贷ABS,show,plot_bond,plot_bonds\n",
    "import os,requests,re\n",
    "import numpy as np\n",
    "pd.set_option('display.max_rows', None)\n",
    "pd.set_option('display.max_columns', None)\n",
    "pd.set_option('display.width', None)\n",
    "pd.set_option('display.max_colwidth', -1)\n",
    "pd.options.display.float_format = '{:,}'.format"
   ]
  },
  {
   "cell_type": "code",
   "execution_count": 2,
   "id": "8380852e",
   "metadata": {},
   "outputs": [],
   "source": [
    "def cf_validation(m):\n",
    "    match m:\n",
    "        case _:\n",
    "            return \"\""
   ]
  },
  {
   "cell_type": "code",
   "execution_count": 3,
   "id": "298a2374",
   "metadata": {},
   "outputs": [],
   "source": [
    "def regression_on(server_address, case_folder):\n",
    "    testAPI = API(server_address)\n",
    "    local_deals = [ os.path.join(case_folder,x) for x in os.listdir(case_folder) if x.endswith(\".py\")]\n",
    "    \n",
    "    case_names = []\n",
    "    for f in local_deals:\n",
    "        with open(f,'r') as input_file:\n",
    "            fc = input_file.read()\n",
    "            dname = re.search(\"(\\S+)\\s*=\\s*信贷ABS\",fc).groups(0)[0]\n",
    "            case_names.append(dname)\n",
    "            exec(fc)\n",
    "    \n",
    "    r_list = []\n",
    "    for n in case_names:\n",
    "        print(\"Running\",n)\n",
    "        r = testAPI.run(eval(n)\n",
    "                 ,assumptions=[]             \n",
    "                 ,read=True)\n",
    "        if isinstance(r,dict):\n",
    "            r_list.append((True,r))\n",
    "        else:\n",
    "            r_list.append((False,n))\n",
    "    return [ flag for flag,resp in r_list]"
   ]
  },
  {
   "cell_type": "code",
   "execution_count": 5,
   "id": "08b28f29",
   "metadata": {},
   "outputs": [
    {
     "name": "stdout",
     "output_type": "stream",
     "text": [
      "Running JY_RMBS_01\n",
      "[['支付费用限额', ['收入分账户'], ['服务商费用'], {'应计费用百分比': 0.5}], ['支付利息', '收入分账户', ['A1', 'A2', 'A3']], ['支付费用', ['收入分账户'], ['服务商费用']], ['账户转移', '收入分账户', '本金分账户'], ['支付本金', '本金分账户', ['A1']], ['支付本金', '本金分账户', ['A2']], ['支付本金', '本金分账户', ['A3']], ['支付本金', '本金分账户', ['次级']], ['支付收益', '本金分账户', '次级']]\n",
      "Running test01\n",
      "[['支付费用', ['账户01'], ['信托费用']], ['支付利息', '账户01', ['A1']], ['支付本金', '账户01', ['A1']], ['支付本金', '账户01', ['B']], ['支付收益', '账户01', 'B']]\n",
      "Running JSD_AUTO_2022_3\n",
      "[['账户转移', '流动性储备', '信托收付账户'], ['支付费用', ['信托收付账户'], ['服务商费用']], ['支付利息', '信托收付账户', ['优先A1', '优先A2']], ['储备账户转移', '信托收付账户', '流动性储备', '目标储备'], ['支付本金', '信托收付账户', ['优先A1']], ['支付本金', '信托收付账户', ['优先A2']], ['支付剩余本金', '信托收付账户', ['优先A1']], ['支付本金', '信托收付账户', ['次级']], ['支付收益', '信托收付账户', '次级']]\n",
      "Running JY_RMBS_2017_5\n",
      "[['支付费用限额', ['收入分账户'], ['服务商费用'], {'应计费用百分比': 0.5}], ['支付费用限额', ['收入分账户'], ['报销'], {'应计费用上限': 50000}], ['支付利息', '收入分账户', ['A1', 'A2', 'A3']], ['支付费用', ['收入分账户'], ['服务商费用']], ['按公式账户转移', '收入分账户', '本金分账户', 'A+B+C-D'], ['支付费用', ['收入分账户'], ['报销']], ['账户转移', '收入分账户', '本金分账户'], ['支付本金', '本金分账户', ['A1']], ['支付本金', '本金分账户', ['A2']], ['支付本金', '本金分账户', ['A3']], ['支付本金', '本金分账户', ['次级']], ['支付收益', '本金分账户', '次级']]\n",
      "Running test09\n",
      "[['支付费用', ['账户01'], ['信托费用']], ['支付利息', '账户01', ['A1']], ['支付本金', '账户01', ['A1']], [[('债券余额', 'A1'), '=', 0], ['支付本金', '账户01', ['B']], ['支付收益', '账户01', 'B']]]\n",
      "Running gy\n",
      "[['支付费用', ['收入分账户'], ['执行费用']], ['支付费用限额', ['收入分账户'], ['服务商费用'], {'应计费用百分比': 0.1}], ['支付利息', '收入分账户', ['A1', 'A2']], ['支付费用', ['收入分账户'], ['服务商费用']], ['支付期间收益', '收入分账户', ['次级']], ['账户转移', '收入分账户', '本金分账户'], ['支付本金', '本金分账户', ['A1']], ['支付本金', '本金分账户', ['A2']], ['支付本金', '本金分账户', ['次级']], ['支付收益', '本金分账户', '次级']]\n",
      "Running BYD_AUTO_2021_2\n",
      "[['账户转移', '流动性储备', '收入分账户'], ['支付费用', ['收入分账户'], ['服务商费用']], ['支付利息', '收入分账户', ['优先']], ['储备账户转移', '收入分账户', '流动性储备', '目标储备'], ['按公式账户转移', '收入分账户', '本金分账户', 'A+B+C-D'], ['账户转移', '收入分账户', '本金分账户'], ['支付本金', '本金分账户', ['优先']], ['支付本金', '本金分账户', ['次级']], ['支付收益', '本金分账户', '次级']]\n",
      "Running test03\n",
      "[['支付利息', '账户01', ['A1']], ['支付本金', '账户01', ['A1']], ['支付本金', '账户01', ['B']], ['支付收益', '账户01', 'B']]\n",
      "Running test02\n",
      "[['支付利息', '账户01', ['A1']], ['支付本金', '账户01', ['A1']], ['支付本金', '账户01', ['B']], ['支付收益', '账户01', 'B']]\n"
     ]
    },
    {
     "data": {
      "text/plain": [
       "[True, True, True, True, True, True, True, True, True]"
      ]
     },
     "execution_count": 5,
     "metadata": {},
     "output_type": "execute_result"
    }
   ],
   "source": [
    "# (\"https://deal-bench.xyz/api\")\n",
    "regression_on(\"https://deal-bench.xyz/api\",r'/home/xiaoyu/IdeaProjects/pyabs-doc/docs/source/deal_sample')"
   ]
  },
  {
   "cell_type": "code",
   "execution_count": null,
   "id": "4ee4af82",
   "metadata": {},
   "outputs": [],
   "source": []
  }
 ],
 "metadata": {
  "kernelspec": {
   "display_name": "Python 3 (ipykernel)",
   "language": "python",
   "name": "python3"
  },
  "language_info": {
   "codemirror_mode": {
    "name": "ipython",
    "version": 3
   },
   "file_extension": ".py",
   "mimetype": "text/x-python",
   "name": "python",
   "nbconvert_exporter": "python",
   "pygments_lexer": "ipython3",
   "version": "3.10.7"
  }
 },
 "nbformat": 4,
 "nbformat_minor": 5
}
