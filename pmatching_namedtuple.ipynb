{
 "cells": [
  {
   "cell_type": "code",
   "execution_count": 1,
   "id": "c0ac08f2-ac2b-4d3d-b455-7ff2089f5491",
   "metadata": {},
   "outputs": [],
   "source": [
    "from collections import namedtuple"
   ]
  },
  {
   "cell_type": "code",
   "execution_count": 2,
   "id": "425adeb5-0495-4dc0-8d00-07896a7d53d6",
   "metadata": {},
   "outputs": [],
   "source": [
    "Point = namedtuple('Point', ['x', 'y'])\n",
    "p = Point(1, 2)"
   ]
  },
  {
   "cell_type": "code",
   "execution_count": 4,
   "id": "03e421bc-2f4e-45ae-b4db-2f8d011bfb83",
   "metadata": {},
   "outputs": [],
   "source": [
    "Point3D = namedtuple('Point3D', ['x', 'y','z'])"
   ]
  },
  {
   "cell_type": "code",
   "execution_count": 13,
   "id": "d1b61aae-be0f-4981-aadd-a97dd04066fa",
   "metadata": {},
   "outputs": [],
   "source": [
    "PointN = namedtuple('PointN', ['x', 'y','z'])"
   ]
  },
  {
   "cell_type": "code",
   "execution_count": 38,
   "id": "e7e3d9b6-0880-4c5c-8844-c480e696e1dc",
   "metadata": {},
   "outputs": [
    {
     "data": {
      "text/plain": [
       "{'x': 1, 'y': 2, 'z': 'c'}"
      ]
     },
     "execution_count": 38,
     "metadata": {},
     "output_type": "execute_result"
    }
   ],
   "source": [
    "p2._asdict()"
   ]
  },
  {
   "cell_type": "code",
   "execution_count": 27,
   "id": "285e36ae-4fb6-491c-888d-d278eb3d55d9",
   "metadata": {},
   "outputs": [],
   "source": [
    "p2 = Point3D(1, 2, 'c')\n",
    "p1 = Point(1, 2)\n",
    "n = PointN(1,2,p2)"
   ]
  },
  {
   "cell_type": "code",
   "execution_count": 28,
   "id": "2004a95e-d948-4f6e-b7e3-8e3dea900b96",
   "metadata": {},
   "outputs": [
    {
     "name": "stdout",
     "output_type": "stream",
     "text": [
      "c\n"
     ]
    }
   ],
   "source": [
    "match n:\n",
    "    case Point(x,y):\n",
    "        print (y,x)\n",
    "    case Point3D(x,y,z):\n",
    "        print(\"3D\")\n",
    "        print (z,x,y)\n",
    "    case PointN(x,y, Point3D(a,b,c)):\n",
    "        print(c)\n",
    "    case _:\n",
    "        print(\"Not matched\")"
   ]
  },
  {
   "cell_type": "code",
   "execution_count": 39,
   "id": "76f2b802-f67b-4f46-b450-60a3224edde0",
   "metadata": {},
   "outputs": [],
   "source": [
    "import typing\n",
    "Point3 = typing.NamedTuple(\"Point3\", [('x', int), ('y', int)])"
   ]
  },
  {
   "cell_type": "code",
   "execution_count": 40,
   "id": "3b34f2bc-c78d-4981-b4a7-60435acb6eb9",
   "metadata": {},
   "outputs": [
    {
     "data": {
      "text/plain": [
       "['__add__',\n",
       " '__annotations__',\n",
       " '__class__',\n",
       " '__class_getitem__',\n",
       " '__contains__',\n",
       " '__delattr__',\n",
       " '__dir__',\n",
       " '__doc__',\n",
       " '__eq__',\n",
       " '__format__',\n",
       " '__ge__',\n",
       " '__getattribute__',\n",
       " '__getitem__',\n",
       " '__getnewargs__',\n",
       " '__getstate__',\n",
       " '__gt__',\n",
       " '__hash__',\n",
       " '__init__',\n",
       " '__init_subclass__',\n",
       " '__iter__',\n",
       " '__le__',\n",
       " '__len__',\n",
       " '__lt__',\n",
       " '__match_args__',\n",
       " '__module__',\n",
       " '__mul__',\n",
       " '__ne__',\n",
       " '__new__',\n",
       " '__orig_bases__',\n",
       " '__reduce__',\n",
       " '__reduce_ex__',\n",
       " '__repr__',\n",
       " '__rmul__',\n",
       " '__setattr__',\n",
       " '__sizeof__',\n",
       " '__slots__',\n",
       " '__str__',\n",
       " '__subclasshook__',\n",
       " '_asdict',\n",
       " '_field_defaults',\n",
       " '_fields',\n",
       " '_make',\n",
       " '_replace',\n",
       " 'count',\n",
       " 'index',\n",
       " 'x',\n",
       " 'y']"
      ]
     },
     "execution_count": 40,
     "metadata": {},
     "output_type": "execute_result"
    }
   ],
   "source": [
    "dir(Point3)"
   ]
  },
  {
   "cell_type": "code",
   "execution_count": 50,
   "id": "36384265-0989-4435-ba76-1dfc6397180c",
   "metadata": {},
   "outputs": [
    {
     "ename": "TypeError",
     "evalue": "descriptor 'index' for 'tuple' objects doesn't apply to a 'int' object",
     "output_type": "error",
     "traceback": [
      "\u001b[0;31m---------------------------------------------------------------------------\u001b[0m",
      "\u001b[0;31mTypeError\u001b[0m                                 Traceback (most recent call last)",
      "Cell \u001b[0;32mIn[50], line 1\u001b[0m\n\u001b[0;32m----> 1\u001b[0m \u001b[43mPoint3\u001b[49m\u001b[38;5;241;43m.\u001b[39;49m\u001b[43mindex\u001b[49m\u001b[43m(\u001b[49m\u001b[38;5;241;43m1\u001b[39;49m\u001b[43m)\u001b[49m\n",
      "\u001b[0;31mTypeError\u001b[0m: descriptor 'index' for 'tuple' objects doesn't apply to a 'int' object"
     ]
    }
   ],
   "source": [
    "Point3.index(1)"
   ]
  },
  {
   "cell_type": "code",
   "execution_count": null,
   "id": "3b0eda9d-8952-4a6e-987b-83d91bcde997",
   "metadata": {},
   "outputs": [],
   "source": []
  }
 ],
 "metadata": {
  "kernelspec": {
   "display_name": "Python 3 (ipykernel)",
   "language": "python",
   "name": "python3"
  },
  "language_info": {
   "codemirror_mode": {
    "name": "ipython",
    "version": 3
   },
   "file_extension": ".py",
   "mimetype": "text/x-python",
   "name": "python",
   "nbconvert_exporter": "python",
   "pygments_lexer": "ipython3",
   "version": "3.12.3"
  }
 },
 "nbformat": 4,
 "nbformat_minor": 5
}
