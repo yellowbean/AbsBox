{
 "cells": [
  {
   "cell_type": "code",
   "execution_count": 148,
   "id": "19c77610",
   "metadata": {},
   "outputs": [
    {
     "name": "stdout",
     "output_type": "stream",
     "text": [
      "The autoreload extension is already loaded. To reload it, use:\n",
      "  %reload_ext autoreload\n"
     ]
    }
   ],
   "source": [
    "import pandas as pd\n",
    "pd.set_option(\"display.max_row\", None)\n",
    "%load_ext autoreload\n",
    "%autoreload 2"
   ]
  },
  {
   "cell_type": "code",
   "execution_count": 149,
   "id": "13a99e6e",
   "metadata": {},
   "outputs": [
    {
     "data": {
      "text/html": [
       "<pre style=\"white-space:pre;overflow-x:auto;line-height:normal;font-family:Menlo,'DejaVu Sans Mono',consolas,'Courier New',monospace\"><span style=\"color: #008000; text-decoration-color: #008000\">⠸</span> <span style=\"color: #800080; text-decoration-color: #800080\">Connecting engine server -&gt; http://spv.run/api/dev</span>\n",
       "</pre>\n"
      ],
      "text/plain": [
       "\u001b[32m⠸\u001b[0m \u001b[35mConnecting engine server -> http://spv.run/api/dev\u001b[0m\n"
      ]
     },
     "metadata": {},
     "output_type": "display_data"
    },
    {
     "data": {
      "text/html": [
       "<pre style=\"white-space:pre;overflow-x:auto;line-height:normal;font-family:Menlo,'DejaVu Sans Mono',consolas,'Courier New',monospace\"></pre>\n"
      ],
      "text/plain": []
     },
     "metadata": {},
     "output_type": "display_data"
    },
    {
     "data": {
      "text/html": [
       "<pre style=\"white-space:pre;overflow-x:auto;line-height:normal;font-family:Menlo,'DejaVu Sans Mono',consolas,'Courier New',monospace\">✅<span style=\"color: #008000; text-decoration-color: #008000; font-weight: bold\">Connected, local lib:0.</span><span style=\"color: #008000; text-decoration-color: #008000; font-weight: bold\">20.2</span><span style=\"color: #008000; text-decoration-color: #008000; font-weight: bold\">, server:</span><span style=\"color: #008000; text-decoration-color: #008000; font-weight: bold\">0.24</span><span style=\"color: #008000; text-decoration-color: #008000; font-weight: bold\">.</span><span style=\"color: #008000; text-decoration-color: #008000; font-weight: bold\">2</span>\n",
       "</pre>\n"
      ],
      "text/plain": [
       "✅\u001b[1;32mConnected, local li\u001b[0m\u001b[1;32mb:0\u001b[0m\u001b[1;32m.\u001b[0m\u001b[1;32m20.2\u001b[0m\u001b[1;32m, server:\u001b[0m\u001b[1;32m0.24\u001b[0m\u001b[1;32m.\u001b[0m\u001b[1;32m2\u001b[0m\n"
      ]
     },
     "metadata": {},
     "output_type": "display_data"
    }
   ],
   "source": [
    "from absbox import API,mkDeal,setDealsBy,prodDealsBy,Generic,SPV\n",
    "from lenses import lens,ui,optics\n",
    "from absbox.local.util import strFromPath\n",
    "localAPI = API(\"http://spv.run/api/dev\",check=False)"
   ]
  },
  {
   "cell_type": "code",
   "execution_count": 5,
   "id": "1980b026",
   "metadata": {},
   "outputs": [],
   "source": [
    "from absbox.local.china import SPV\n",
    "\n",
    "BYD_AUTO_2021_2 = SPV(\n",
    "    \"盛世融迪2021年第二期个人汽车抵押贷款\"\n",
    "    ,{\"封包日\":\"2022-07-01\",\"起息日\":\"2022-07-26\",\"首次兑付日\":\"2022-08-26\"\n",
    "     ,\"法定到期日\":\"2060-12-01\",\"收款频率\":\"月初\",\"付款频率\":[\"每月\",26]}     \n",
    "    ,{'发行':{'资产池规模':2_353_348_391.45},\n",
    "      '归集表':[\n",
    "         [\"2022-07-01\",1234640402,78501963.04,954043.04]\n",
    "        ,[\"2022-08-01\",1157265240,77375162.14,891648.43]\n",
    "        ,[\"2022-09-01\",1080039426,77225814.18,852731.81]\n",
    "        ,[\"2022-10-01\",1003282127,76757298.83,813484.98]\n",
    "        ,[\"2022-11-01\",927427822.3,75854304.71,774101.65]\n",
    "        ,[\"2022-12-01\",852342434.9,75085387.41,734796.34]\n",
    "        ,[\"2023-01-01\",780421405.7,71921029.21,695343.12]\n",
    "        ,[\"2023-02-01\",712379940.6,68041465.05,655964.23]\n",
    "        ,[\"2023-03-01\",646490512.9,65889427.7,616857.95]\n",
    "        ,[\"2023-04-01\",584776933.2,61713579.7,577837.7]\n",
    "        ,[\"2023-05-01\",527867450.6,56909482.63,539331.19]\n",
    "        ,[\"2023-06-01\",470936840,56930610.58,503085.91]\n",
    "        ,[\"2023-07-01\",414031471.4,56905368.58,466755.77]\n",
    "        ,[\"2023-08-01\",357238793.3,56792678.1,430516.11]\n",
    "        ,[\"2023-09-01\",300569969.4,56668823.93,394715.61]\n",
    "        ,[\"2023-10-01\",244168401.8,56401567.55,359341.72]\n",
    "        ,[\"2023-11-01\",188261231.6,55907170.23,324663.69]\n",
    "        ,[\"2023-12-01\",135214312.8,53046918.78,290675.76]\n",
    "        ,[\"2024-01-01\",95533450.08,39680862.74,257752.51]\n",
    "        ,[\"2024-02-01\",68181138.8,27352311.28,226897.8]\n",
    "        ,[\"2024-03-01\",47481932.22,20699206.58,198247.82]\n",
    "        ,[\"2024-04-01\",36412499.53,11069432.69,170618.51]\n",
    "        ,[\"2024-05-01\",31649692,4762807.53,145060.5]\n",
    "        ,[\"2024-06-01\",26867972.61,4781719.39,126148.64]\n",
    "        ,[\"2024-07-01\",22080740.39,4787232.22,107159.95]\n",
    "        ,[\"2024-08-01\",17274503.87,4806236.52,88155.65]\n",
    "        ,[\"2024-09-01\",12570553.22,4703950.65,69099.78]\n",
    "        ,[\"2024-10-01\",8474147.69,4096405.53,50432.44]\n",
    "        ,[\"2024-11-01\",5267663.01,3206484.68,34157.1]\n",
    "        ,[\"2024-12-01\",3048007.94,2219655.07,21390.56]\n",
    "        ,[\"2025-01-01\",1782441.89,1265566.05,12491.46]\n",
    "        ,[\"2025-02-01\",972018.42,810423.47,7372.76]\n",
    "        ,[\"2025-03-01\",353663.75,618354.67,4075.94]\n",
    "        ,[\"2025-04-01\",0,353663.75,1537.85]\n",
    "      ]\n",
    "     }\n",
    "    ,((\"本金分账户\",{\"余额\":0 })\n",
    "      ,(\"收入分账户\",{\"余额\":0})\n",
    "      ,(\"流动性储备\",{\"余额\":15_757_708.38\n",
    "                    ,\"类型\":{\"较高\":[{\"目标储备金额\":[(\"资产池余额\",),0.012]}\n",
    "                                   ,{\"目标储备金额\":[(\"初始资产池余额\",),0.005]}]}})\n",
    "      ,(\"收款账户\",{\"余额\":0 })\n",
    "     )\n",
    "    ,((\"优先\",{\"当前余额\":716_739_000.00\n",
    "             ,\"当前利率\":0.026\n",
    "             ,\"初始余额\":1_730_000_000.00\n",
    "             ,\"初始利率\":0.026\n",
    "             ,\"起息日\":\"2022-07-26\"\n",
    "             ,\"利率\":{\"固定\":0.026}\n",
    "             ,\"债券类型\":{\"过手摊还\":None}\n",
    "             })\n",
    "      ,(\"次级\",{\"当前余额\":270_000_000.00\n",
    "             ,\"当前利率\":0.0\n",
    "             ,\"初始余额\":270_000_000.00\n",
    "             ,\"初始利率\":0.0\n",
    "             ,\"起息日\":\"2022-07-26\"\n",
    "             ,\"利率\":{\"固定\":0.00}\n",
    "             ,\"债券类型\":{\"权益\":None}\n",
    "             }))\n",
    "    ,((\"增值税\",{\"类型\":{\"差额费用\":[(\"*\"\n",
    "                                   ,(\"资产池累计\",None,\"利息\"),0.0326)\n",
    "                                   ,(\"费用支付总额\",None,\"增值税\")]}})\n",
    "      ,(\"服务商费用\",{\"类型\":{\"年化费率\":[(\"资产池余额\",),0.0012]}})\n",
    "     )\n",
    "    ,{\"未违约\":[\n",
    "         [\"账户转移\",\"流动性储备\",\"收入分账户\"]\n",
    "         ,[\"支付费用\",\"收入分账户\",[\"服务商费用\"]]\n",
    "         ,[\"计提支付利息\",\"收入分账户\",[\"优先\"]]\n",
    "         ,[\"账户转移\",\"收入分账户\",\"流动性储备\",{\"储备\":\"缺口\"}]\n",
    "         #,[\"按公式账户转移\",\"收入分账户\",\"本金分账户\",\"A+B+C-D\"]\n",
    "         ,[\"账户转移\",\"收入分账户\",\"本金分账户\"]\n",
    "         ,[\"支付本金\",\"本金分账户\",[\"优先\"]]\n",
    "         ,[\"支付本金\",\"本金分账户\",[\"次级\"]]\n",
    "         ,[\"支付收益\",\"本金分账户\",\"次级\"]\n",
    "      ]\n",
    "     ,\"回款后\":[[\"计提费用\",\"增值税\"]]\n",
    "     ,\"清仓回购\":[\n",
    "                 [\"出售资产\",[\"正常|违约\",1.0,0.0],\"本金分账户\"]\n",
    "                 ,[\"账户转移\",\"收入分账户\",\"收款账户\"]\n",
    "                 ,[\"账户转移\",\"本金分账户\",\"收款账户\"]\n",
    "                 ,[\"账户转移\",\"流动性储备\",\"收款账户\"]\n",
    "                 ,[\"支付费用\",\"收款账户\",[\"服务商费用\"]]\n",
    "                ,[\"计提支付利息\",\"收款账户\",[\"优先\"]]\n",
    "                ,[\"支付本金\",\"收款账户\",[\"优先\"]]\n",
    "                ,[\"支付本金\",\"收款账户\",[\"次级\"]]\n",
    "                ,[\"支付收益\",\"收款账户\",\"次级\"]\n",
    "             ]\n",
    "     }\n",
    "    ,([\"利息回款\",\"收入分账户\"]\n",
    "      ,[\"本金回款\",\"本金分账户\"]\n",
    "      ,[\"早偿回款\",\"本金分账户\"]\n",
    "      ,[\"回收回款\",\"本金分账户\"])\n",
    "    ,None\n",
    "    ,None\n",
    "    ,None\n",
    "    ,None\n",
    "    ,(\"设计\",\"摊销\")\n",
    ")\n"
   ]
  },
  {
   "cell_type": "code",
   "execution_count": 18,
   "id": "e232426e",
   "metadata": {},
   "outputs": [
    {
     "ename": "NameError",
     "evalue": "name 'Generic' is not defined",
     "output_type": "error",
     "traceback": [
      "\u001b[0;31m---------------------------------------------------------------------------\u001b[0m",
      "\u001b[0;31mNameError\u001b[0m                                 Traceback (most recent call last)",
      "Cell \u001b[0;32mIn[18], line 1\u001b[0m\n\u001b[0;32m----> 1\u001b[0m test01 \u001b[38;5;241m=\u001b[39m \u001b[43mGeneric\u001b[49m(\n\u001b[1;32m      2\u001b[0m     \u001b[38;5;124m\"\u001b[39m\u001b[38;5;124mTEST01\u001b[39m\u001b[38;5;124m\"\u001b[39m\n\u001b[1;32m      3\u001b[0m     ,{\u001b[38;5;124m\"\u001b[39m\u001b[38;5;124mcutoff\u001b[39m\u001b[38;5;124m\"\u001b[39m:\u001b[38;5;124m\"\u001b[39m\u001b[38;5;124m2021-03-01\u001b[39m\u001b[38;5;124m\"\u001b[39m,\u001b[38;5;124m\"\u001b[39m\u001b[38;5;124mclosing\u001b[39m\u001b[38;5;124m\"\u001b[39m:\u001b[38;5;124m\"\u001b[39m\u001b[38;5;124m2021-06-15\u001b[39m\u001b[38;5;124m\"\u001b[39m,\u001b[38;5;124m\"\u001b[39m\u001b[38;5;124mfirstPay\u001b[39m\u001b[38;5;124m\"\u001b[39m:\u001b[38;5;124m\"\u001b[39m\u001b[38;5;124m2021-07-26\u001b[39m\u001b[38;5;124m\"\u001b[39m\n\u001b[1;32m      4\u001b[0m      ,\u001b[38;5;124m\"\u001b[39m\u001b[38;5;124mpayFreq\u001b[39m\u001b[38;5;124m\"\u001b[39m:[\u001b[38;5;124m\"\u001b[39m\u001b[38;5;124mDayOfMonth\u001b[39m\u001b[38;5;124m\"\u001b[39m,\u001b[38;5;241m20\u001b[39m],\u001b[38;5;124m\"\u001b[39m\u001b[38;5;124mpoolFreq\u001b[39m\u001b[38;5;124m\"\u001b[39m:\u001b[38;5;124m\"\u001b[39m\u001b[38;5;124mMonthEnd\u001b[39m\u001b[38;5;124m\"\u001b[39m,\u001b[38;5;124m\"\u001b[39m\u001b[38;5;124mstated\u001b[39m\u001b[38;5;124m\"\u001b[39m:\u001b[38;5;124m\"\u001b[39m\u001b[38;5;124m2030-01-01\u001b[39m\u001b[38;5;124m\"\u001b[39m}\n\u001b[1;32m      5\u001b[0m     ,{\u001b[38;5;124m'\u001b[39m\u001b[38;5;124massets\u001b[39m\u001b[38;5;124m'\u001b[39m:[[\u001b[38;5;124m\"\u001b[39m\u001b[38;5;124mMortgage\u001b[39m\u001b[38;5;124m\"\u001b[39m\n\u001b[1;32m      6\u001b[0m         ,{\u001b[38;5;124m\"\u001b[39m\u001b[38;5;124moriginBalance\u001b[39m\u001b[38;5;124m\"\u001b[39m:\u001b[38;5;241m2200\u001b[39m,\u001b[38;5;124m\"\u001b[39m\u001b[38;5;124moriginRate\u001b[39m\u001b[38;5;124m\"\u001b[39m:[\u001b[38;5;124m\"\u001b[39m\u001b[38;5;124mfix\u001b[39m\u001b[38;5;124m\"\u001b[39m,\u001b[38;5;241m0.045\u001b[39m],\u001b[38;5;124m\"\u001b[39m\u001b[38;5;124moriginTerm\u001b[39m\u001b[38;5;124m\"\u001b[39m:\u001b[38;5;241m30\u001b[39m\n\u001b[1;32m      7\u001b[0m           ,\u001b[38;5;124m\"\u001b[39m\u001b[38;5;124mfreq\u001b[39m\u001b[38;5;124m\"\u001b[39m:\u001b[38;5;124m\"\u001b[39m\u001b[38;5;124mMonthly\u001b[39m\u001b[38;5;124m\"\u001b[39m,\u001b[38;5;124m\"\u001b[39m\u001b[38;5;124mtype\u001b[39m\u001b[38;5;124m\"\u001b[39m:\u001b[38;5;124m\"\u001b[39m\u001b[38;5;124mLevel\u001b[39m\u001b[38;5;124m\"\u001b[39m,\u001b[38;5;124m\"\u001b[39m\u001b[38;5;124moriginDate\u001b[39m\u001b[38;5;124m\"\u001b[39m:\u001b[38;5;124m\"\u001b[39m\u001b[38;5;124m2021-02-01\u001b[39m\u001b[38;5;124m\"\u001b[39m}\n\u001b[1;32m      8\u001b[0m           ,{\u001b[38;5;124m\"\u001b[39m\u001b[38;5;124mcurrentBalance\u001b[39m\u001b[38;5;124m\"\u001b[39m:\u001b[38;5;241m2200\u001b[39m\n\u001b[1;32m      9\u001b[0m           ,\u001b[38;5;124m\"\u001b[39m\u001b[38;5;124mcurrentRate\u001b[39m\u001b[38;5;124m\"\u001b[39m:\u001b[38;5;241m0.08\u001b[39m\n\u001b[1;32m     10\u001b[0m           ,\u001b[38;5;124m\"\u001b[39m\u001b[38;5;124mremainTerm\u001b[39m\u001b[38;5;124m\"\u001b[39m:\u001b[38;5;241m20\u001b[39m\n\u001b[1;32m     11\u001b[0m           ,\u001b[38;5;124m\"\u001b[39m\u001b[38;5;124mstatus\u001b[39m\u001b[38;5;124m\"\u001b[39m:\u001b[38;5;124m\"\u001b[39m\u001b[38;5;124mcurrent\u001b[39m\u001b[38;5;124m\"\u001b[39m}]]}\n\u001b[1;32m     12\u001b[0m     ,((\u001b[38;5;124m\"\u001b[39m\u001b[38;5;124macc01\u001b[39m\u001b[38;5;124m\"\u001b[39m,{\u001b[38;5;124m\"\u001b[39m\u001b[38;5;124mbalance\u001b[39m\u001b[38;5;124m\"\u001b[39m:\u001b[38;5;241m0\u001b[39m}),)\n\u001b[1;32m     13\u001b[0m     ,((\u001b[38;5;124m\"\u001b[39m\u001b[38;5;124mA1\u001b[39m\u001b[38;5;124m\"\u001b[39m,{\u001b[38;5;124m\"\u001b[39m\u001b[38;5;124mbalance\u001b[39m\u001b[38;5;124m\"\u001b[39m:\u001b[38;5;241m1000\u001b[39m\n\u001b[1;32m     14\u001b[0m              ,\u001b[38;5;124m\"\u001b[39m\u001b[38;5;124mrate\u001b[39m\u001b[38;5;124m\"\u001b[39m:\u001b[38;5;241m0.07\u001b[39m\n\u001b[1;32m     15\u001b[0m              ,\u001b[38;5;124m\"\u001b[39m\u001b[38;5;124moriginBalance\u001b[39m\u001b[38;5;124m\"\u001b[39m:\u001b[38;5;241m1000\u001b[39m\n\u001b[1;32m     16\u001b[0m              ,\u001b[38;5;124m\"\u001b[39m\u001b[38;5;124moriginRate\u001b[39m\u001b[38;5;124m\"\u001b[39m:\u001b[38;5;241m0.07\u001b[39m\n\u001b[1;32m     17\u001b[0m              ,\u001b[38;5;124m\"\u001b[39m\u001b[38;5;124mstartDate\u001b[39m\u001b[38;5;124m\"\u001b[39m:\u001b[38;5;124m\"\u001b[39m\u001b[38;5;124m2020-01-03\u001b[39m\u001b[38;5;124m\"\u001b[39m\n\u001b[1;32m     18\u001b[0m              ,\u001b[38;5;124m\"\u001b[39m\u001b[38;5;124mrateType\u001b[39m\u001b[38;5;124m\"\u001b[39m:{\u001b[38;5;124m\"\u001b[39m\u001b[38;5;124mFixed\u001b[39m\u001b[38;5;124m\"\u001b[39m:\u001b[38;5;241m0.08\u001b[39m}\n\u001b[1;32m     19\u001b[0m              ,\u001b[38;5;124m\"\u001b[39m\u001b[38;5;124mbondType\u001b[39m\u001b[38;5;124m\"\u001b[39m:{\u001b[38;5;124m\"\u001b[39m\u001b[38;5;124mSequential\u001b[39m\u001b[38;5;124m\"\u001b[39m:\u001b[38;5;28;01mNone\u001b[39;00m}})\n\u001b[1;32m     20\u001b[0m       ,(\u001b[38;5;124m\"\u001b[39m\u001b[38;5;124mB\u001b[39m\u001b[38;5;124m\"\u001b[39m,{\u001b[38;5;124m\"\u001b[39m\u001b[38;5;124mbalance\u001b[39m\u001b[38;5;124m\"\u001b[39m:\u001b[38;5;241m1000\u001b[39m\n\u001b[1;32m     21\u001b[0m              ,\u001b[38;5;124m\"\u001b[39m\u001b[38;5;124mrate\u001b[39m\u001b[38;5;124m\"\u001b[39m:\u001b[38;5;241m0.0\u001b[39m\n\u001b[1;32m     22\u001b[0m              ,\u001b[38;5;124m\"\u001b[39m\u001b[38;5;124moriginBalance\u001b[39m\u001b[38;5;124m\"\u001b[39m:\u001b[38;5;241m1000\u001b[39m\n\u001b[1;32m     23\u001b[0m              ,\u001b[38;5;124m\"\u001b[39m\u001b[38;5;124moriginRate\u001b[39m\u001b[38;5;124m\"\u001b[39m:\u001b[38;5;241m0.07\u001b[39m\n\u001b[1;32m     24\u001b[0m              ,\u001b[38;5;124m\"\u001b[39m\u001b[38;5;124mstartDate\u001b[39m\u001b[38;5;124m\"\u001b[39m:\u001b[38;5;124m\"\u001b[39m\u001b[38;5;124m2020-01-03\u001b[39m\u001b[38;5;124m\"\u001b[39m\n\u001b[1;32m     25\u001b[0m              ,\u001b[38;5;124m\"\u001b[39m\u001b[38;5;124mrateType\u001b[39m\u001b[38;5;124m\"\u001b[39m:{\u001b[38;5;124m\"\u001b[39m\u001b[38;5;124mFixed\u001b[39m\u001b[38;5;124m\"\u001b[39m:\u001b[38;5;241m0.00\u001b[39m}\n\u001b[1;32m     26\u001b[0m              ,\u001b[38;5;124m\"\u001b[39m\u001b[38;5;124mbondType\u001b[39m\u001b[38;5;124m\"\u001b[39m:{\u001b[38;5;124m\"\u001b[39m\u001b[38;5;124mEquity\u001b[39m\u001b[38;5;124m\"\u001b[39m:\u001b[38;5;28;01mNone\u001b[39;00m}\n\u001b[1;32m     27\u001b[0m              }))\n\u001b[1;32m     28\u001b[0m     ,((\u001b[38;5;124m\"\u001b[39m\u001b[38;5;124mtrusteeFee\u001b[39m\u001b[38;5;124m\"\u001b[39m,{\u001b[38;5;124m\"\u001b[39m\u001b[38;5;124mtype\u001b[39m\u001b[38;5;124m\"\u001b[39m:{\u001b[38;5;124m\"\u001b[39m\u001b[38;5;124mfixFee\u001b[39m\u001b[38;5;124m\"\u001b[39m:\u001b[38;5;241m30\u001b[39m}}),)\n\u001b[1;32m     29\u001b[0m     ,{\u001b[38;5;124m\"\u001b[39m\u001b[38;5;124mamortizing\u001b[39m\u001b[38;5;124m\"\u001b[39m:[\n\u001b[1;32m     30\u001b[0m          [\u001b[38;5;124m\"\u001b[39m\u001b[38;5;124mpayFee\u001b[39m\u001b[38;5;124m\"\u001b[39m,\u001b[38;5;124m\"\u001b[39m\u001b[38;5;124macc01\u001b[39m\u001b[38;5;124m\"\u001b[39m,[\u001b[38;5;124m'\u001b[39m\u001b[38;5;124mtrusteeFee\u001b[39m\u001b[38;5;124m'\u001b[39m]]\n\u001b[1;32m     31\u001b[0m          ,[\u001b[38;5;124m\"\u001b[39m\u001b[38;5;124maccrueAndPayInt\u001b[39m\u001b[38;5;124m\"\u001b[39m,\u001b[38;5;124m\"\u001b[39m\u001b[38;5;124macc01\u001b[39m\u001b[38;5;124m\"\u001b[39m,[\u001b[38;5;124m\"\u001b[39m\u001b[38;5;124mA1\u001b[39m\u001b[38;5;124m\"\u001b[39m]]\n\u001b[1;32m     32\u001b[0m          ,[\u001b[38;5;124m\"\u001b[39m\u001b[38;5;124mpayPrin\u001b[39m\u001b[38;5;124m\"\u001b[39m,\u001b[38;5;124m\"\u001b[39m\u001b[38;5;124macc01\u001b[39m\u001b[38;5;124m\"\u001b[39m,[\u001b[38;5;124m\"\u001b[39m\u001b[38;5;124mA1\u001b[39m\u001b[38;5;124m\"\u001b[39m]]\n\u001b[1;32m     33\u001b[0m          ,[\u001b[38;5;124m\"\u001b[39m\u001b[38;5;124mpayPrin\u001b[39m\u001b[38;5;124m\"\u001b[39m,\u001b[38;5;124m\"\u001b[39m\u001b[38;5;124macc01\u001b[39m\u001b[38;5;124m\"\u001b[39m,[\u001b[38;5;124m\"\u001b[39m\u001b[38;5;124mB\u001b[39m\u001b[38;5;124m\"\u001b[39m]]\n\u001b[1;32m     34\u001b[0m          ,[\u001b[38;5;124m\"\u001b[39m\u001b[38;5;124mpayIntResidual\u001b[39m\u001b[38;5;124m\"\u001b[39m,\u001b[38;5;124m\"\u001b[39m\u001b[38;5;124macc01\u001b[39m\u001b[38;5;124m\"\u001b[39m,\u001b[38;5;124m\"\u001b[39m\u001b[38;5;124mB\u001b[39m\u001b[38;5;124m\"\u001b[39m]\n\u001b[1;32m     35\u001b[0m      ]}\n\u001b[1;32m     36\u001b[0m     ,[[\u001b[38;5;124m\"\u001b[39m\u001b[38;5;124mCollectedInterest\u001b[39m\u001b[38;5;124m\"\u001b[39m,\u001b[38;5;124m\"\u001b[39m\u001b[38;5;124macc01\u001b[39m\u001b[38;5;124m\"\u001b[39m]\n\u001b[1;32m     37\u001b[0m       ,[\u001b[38;5;124m\"\u001b[39m\u001b[38;5;124mCollectedPrincipal\u001b[39m\u001b[38;5;124m\"\u001b[39m,\u001b[38;5;124m\"\u001b[39m\u001b[38;5;124macc01\u001b[39m\u001b[38;5;124m\"\u001b[39m]\n\u001b[1;32m     38\u001b[0m       ,[\u001b[38;5;124m\"\u001b[39m\u001b[38;5;124mCollectedPrepayment\u001b[39m\u001b[38;5;124m\"\u001b[39m,\u001b[38;5;124m\"\u001b[39m\u001b[38;5;124macc01\u001b[39m\u001b[38;5;124m\"\u001b[39m]\n\u001b[1;32m     39\u001b[0m       ,[\u001b[38;5;124m\"\u001b[39m\u001b[38;5;124mCollectedRecoveries\u001b[39m\u001b[38;5;124m\"\u001b[39m,\u001b[38;5;124m\"\u001b[39m\u001b[38;5;124macc01\u001b[39m\u001b[38;5;124m\"\u001b[39m]]\n\u001b[1;32m     40\u001b[0m     ,\u001b[38;5;28;01mNone\u001b[39;00m\n\u001b[1;32m     41\u001b[0m     ,\u001b[38;5;28;01mNone\u001b[39;00m\n\u001b[1;32m     42\u001b[0m     ,\u001b[38;5;28;01mNone\u001b[39;00m\n\u001b[1;32m     43\u001b[0m     ,\u001b[38;5;28;01mNone\u001b[39;00m\n\u001b[1;32m     44\u001b[0m     ,(\u001b[38;5;124m\"\u001b[39m\u001b[38;5;124mPreClosing\u001b[39m\u001b[38;5;124m\"\u001b[39m,\u001b[38;5;124m\"\u001b[39m\u001b[38;5;124mAmortizing\u001b[39m\u001b[38;5;124m\"\u001b[39m)\n\u001b[1;32m     45\u001b[0m     )\n",
      "\u001b[0;31mNameError\u001b[0m: name 'Generic' is not defined"
     ]
    }
   ],
   "source": [
    "test01 = Generic(\n",
    "    \"TEST01\"\n",
    "    ,{\"cutoff\":\"2021-03-01\",\"closing\":\"2021-06-15\",\"firstPay\":\"2021-07-26\"\n",
    "     ,\"payFreq\":[\"DayOfMonth\",20],\"poolFreq\":\"MonthEnd\",\"stated\":\"2030-01-01\"}\n",
    "    ,{'assets':[[\"Mortgage\"\n",
    "        ,{\"originBalance\":2200,\"originRate\":[\"fix\",0.045],\"originTerm\":30\n",
    "          ,\"freq\":\"Monthly\",\"type\":\"Level\",\"originDate\":\"2021-02-01\"}\n",
    "          ,{\"currentBalance\":2200\n",
    "          ,\"currentRate\":0.08\n",
    "          ,\"remainTerm\":20\n",
    "          ,\"status\":\"current\"}]]}\n",
    "    ,((\"acc01\",{\"balance\":0}),)\n",
    "    ,((\"A1\",{\"balance\":1000\n",
    "             ,\"rate\":0.07\n",
    "             ,\"originBalance\":1000\n",
    "             ,\"originRate\":0.07\n",
    "             ,\"startDate\":\"2020-01-03\"\n",
    "             ,\"rateType\":{\"Fixed\":0.08}\n",
    "             ,\"bondType\":{\"Sequential\":None}})\n",
    "      ,(\"B\",{\"balance\":1000\n",
    "             ,\"rate\":0.0\n",
    "             ,\"originBalance\":1000\n",
    "             ,\"originRate\":0.07\n",
    "             ,\"startDate\":\"2020-01-03\"\n",
    "             ,\"rateType\":{\"Fixed\":0.00}\n",
    "             ,\"bondType\":{\"Equity\":None}\n",
    "             }))\n",
    "    ,((\"trusteeFee\",{\"type\":{\"fixFee\":30}}),)\n",
    "    ,{\"amortizing\":[\n",
    "         [\"payFee\",\"acc01\",['trusteeFee']]\n",
    "         ,[\"accrueAndPayInt\",\"acc01\",[\"A1\"]]\n",
    "         ,[\"payPrin\",\"acc01\",[\"A1\"]]\n",
    "         ,[\"payPrin\",\"acc01\",[\"B\"]]\n",
    "         ,[\"payIntResidual\",\"acc01\",\"B\"]\n",
    "     ]}\n",
    "    ,[[\"CollectedInterest\",\"acc01\"]\n",
    "      ,[\"CollectedPrincipal\",\"acc01\"]\n",
    "      ,[\"CollectedPrepayment\",\"acc01\"]\n",
    "      ,[\"CollectedRecoveries\",\"acc01\"]]\n",
    "    ,None\n",
    "    ,None\n",
    "    ,None\n",
    "    ,None\n",
    "    ,(\"PreClosing\",\"Amortizing\")\n",
    "    )"
   ]
  },
  {
   "cell_type": "code",
   "execution_count": 6,
   "id": "872f979c",
   "metadata": {},
   "outputs": [],
   "source": [
    "#lens.资产池['发行']['资产池规模'].set(135515) & lens.名称.set(\"ABCDE\")"
   ]
  },
  {
   "cell_type": "code",
   "execution_count": 14,
   "id": "e7c6fdf0",
   "metadata": {},
   "outputs": [],
   "source": [
    "from absbox import mkDealsBy"
   ]
  },
  {
   "cell_type": "code",
   "execution_count": 16,
   "id": "4c60692a",
   "metadata": {},
   "outputs": [
    {
     "data": {
      "text/plain": [
       "SPV(名称='ABCDE', 日期={'封包日': '2022-07-01', '起息日': '2022-07-26', '首次兑付日': '2022-08-26', '法定到期日': '2060-12-01', '收款频率': '月初', '付款频率': ['每月', 26]}, 资产池={'发行': {'资产池规模': 135515}, '归集表': [['2022-07-01', 1234640402, 78501963.04, 954043.04], ['2022-08-01', 1157265240, 77375162.14, 891648.43], ['2022-09-01', 1080039426, 77225814.18, 852731.81], ['2022-10-01', 1003282127, 76757298.83, 813484.98], ['2022-11-01', 927427822.3, 75854304.71, 774101.65], ['2022-12-01', 852342434.9, 75085387.41, 734796.34], ['2023-01-01', 780421405.7, 71921029.21, 695343.12], ['2023-02-01', 712379940.6, 68041465.05, 655964.23], ['2023-03-01', 646490512.9, 65889427.7, 616857.95], ['2023-04-01', 584776933.2, 61713579.7, 577837.7], ['2023-05-01', 527867450.6, 56909482.63, 539331.19], ['2023-06-01', 470936840, 56930610.58, 503085.91], ['2023-07-01', 414031471.4, 56905368.58, 466755.77], ['2023-08-01', 357238793.3, 56792678.1, 430516.11], ['2023-09-01', 300569969.4, 56668823.93, 394715.61], ['2023-10-01', 244168401.8, 56401567.55, 359341.72], ['2023-11-01', 188261231.6, 55907170.23, 324663.69], ['2023-12-01', 135214312.8, 53046918.78, 290675.76], ['2024-01-01', 95533450.08, 39680862.74, 257752.51], ['2024-02-01', 68181138.8, 27352311.28, 226897.8], ['2024-03-01', 47481932.22, 20699206.58, 198247.82], ['2024-04-01', 36412499.53, 11069432.69, 170618.51], ['2024-05-01', 31649692, 4762807.53, 145060.5], ['2024-06-01', 26867972.61, 4781719.39, 126148.64], ['2024-07-01', 22080740.39, 4787232.22, 107159.95], ['2024-08-01', 17274503.87, 4806236.52, 88155.65], ['2024-09-01', 12570553.22, 4703950.65, 69099.78], ['2024-10-01', 8474147.69, 4096405.53, 50432.44], ['2024-11-01', 5267663.01, 3206484.68, 34157.1], ['2024-12-01', 3048007.94, 2219655.07, 21390.56], ['2025-01-01', 1782441.89, 1265566.05, 12491.46], ['2025-02-01', 972018.42, 810423.47, 7372.76], ['2025-03-01', 353663.75, 618354.67, 4075.94], ['2025-04-01', 0, 353663.75, 1537.85]]}, 账户=(('本金分账户', {'余额': 0}), ('收入分账户', {'余额': 0}), ('流动性储备', {'余额': 15757708.38, '类型': {'较高': [{'目标储备金额': [('资产池余额',), 0.012]}, {'目标储备金额': [('初始资产池余额',), 0.005]}]}}), ('收款账户', {'余额': 0})), 债券=(('优先', {'当前余额': 716739000.0, '当前利率': 0.026, '初始余额': 1730000000.0, '初始利率': 0.026, '起息日': '2022-07-26', '利率': {'固定': 0.026}, '债券类型': {'过手摊还': None}}), ('次级', {'当前余额': 270000000.0, '当前利率': 0.0, '初始余额': 270000000.0, '初始利率': 0.0, '起息日': '2022-07-26', '利率': {'固定': 0.0}, '债券类型': {'权益': None}})), 费用=(('增值税', {'类型': {'差额费用': [('*', ('资产池累计', None, '利息'), 0.0326), ('费用支付总额', None, '增值税')]}}), ('服务商费用', {'类型': {'年化费率': [('资产池余额',), 0.0012]}})), 分配规则={'未违约': [['账户转移', '流动性储备', '收入分账户'], ['支付费用', '收入分账户', ['服务商费用']], ['计提支付利息', '收入分账户', ['优先']], ['账户转移', '收入分账户', '流动性储备', {'储备': '缺口'}], ['账户转移', '收入分账户', '本金分账户'], ['支付本金', '本金分账户', ['优先']], ['支付本金', '本金分账户', ['次级']], ['支付收益', '本金分账户', '次级']], '回款后': [['计提费用', '增值税']], '清仓回购': [['出售资产', ['正常|违约', 1.0, 0.0], '本金分账户'], ['账户转移', '收入分账户', '收款账户'], ['账户转移', '本金分账户', '收款账户'], ['账户转移', '流动性储备', '收款账户'], ['支付费用', '收款账户', ['服务商费用']], ['计提支付利息', '收款账户', ['优先']], ['支付本金', '收款账户', ['优先']], ['支付本金', '收款账户', ['次级']], ['支付收益', '收款账户', '次级']]}, 归集规则=(['利息回款', '收入分账户'], ['本金回款', '本金分账户'], ['早偿回款', '本金分账户'], ['回收回款', '本金分账户']), 流动性支持=None, 利率对冲=None, 汇率对冲=None, 触发事件=None, 状态=('设计', '摊销'), 自定义=None, 科目=None)"
      ]
     },
     "execution_count": 16,
     "metadata": {},
     "output_type": "execute_result"
    }
   ],
   "source": [
    "setDealsBy(BYD_AUTO_2021_2, (lens.资产池['发行']['资产池规模'], 135515),(lens.名称,\"ABCDE\") )"
   ]
  },
  {
   "cell_type": "code",
   "execution_count": 130,
   "id": "93ac9b2a",
   "metadata": {},
   "outputs": [],
   "source": [
    "xx = prodDealsBy(BYD_AUTO_2021_2\n",
    "                 , (lens.资产池['发行']['资产池规模'], [200]),(lens.名称,[\"A\"])\n",
    "                 )"
   ]
  },
  {
   "cell_type": "code",
   "execution_count": 138,
   "id": "1f549ba6",
   "metadata": {},
   "outputs": [
    {
     "data": {
      "text/plain": [
       "((UnboundLens(GetZoomAttrTraversal('资产池') & GetitemLens('发行') & GetitemLens('资产池规模')),\n",
       "  200),\n",
       " (UnboundLens(GetZoomAttrTraversal('名称')), 'A'))"
      ]
     },
     "execution_count": 138,
     "metadata": {},
     "output_type": "execute_result"
    }
   ],
   "source": [
    "list(xx.keys())[0]"
   ]
  },
  {
   "cell_type": "code",
   "execution_count": 150,
   "id": "cbe39779",
   "metadata": {},
   "outputs": [
    {
     "name": "stdout",
     "output_type": "stream",
     "text": [
      "x (UnboundLens(GetZoomAttrTraversal('资产池') & GetitemLens('发行') & GetitemLens('资产池规模')), 200)\n",
      "x type <class 'tuple'>\n",
      "x (UnboundLens(GetZoomAttrTraversal('资产池') & GetitemLens('发行') & GetitemLens('资产池规模')), 200)\n",
      "x type <class 'tuple'>\n",
      "x (UnboundLens(GetZoomAttrTraversal('资产池') & GetitemLens('发行') & GetitemLens('资产池规模')), 100)\n",
      "x type <class 'tuple'>\n",
      "x (UnboundLens(GetZoomAttrTraversal('资产池') & GetitemLens('发行') & GetitemLens('资产池规模')), 100)\n",
      "x type <class 'tuple'>\n"
     ]
    },
    {
     "data": {
      "text/plain": [
       "\"(UnboundLens(GetZoomAttrTraversal('资产池') & GetitemLens('发行') & GetitemLens('资产池规模')), 200):(UnboundLens(GetZoomAttrTraversal('名称')), 'A')-(UnboundLens(GetZoomAttrTraversal('资产池') & GetitemLens('发行') & GetitemLens('资产池规模')), 200):(UnboundLens(GetZoomAttrTraversal('名称')), 'E')-(UnboundLens(GetZoomAttrTraversal('资产池') & GetitemLens('发行') & GetitemLens('资产池规模')), 100):(UnboundLens(GetZoomAttrTraversal('名称')), 'A')-(UnboundLens(GetZoomAttrTraversal('资产池') & GetitemLens('发行') & GetitemLens('资产池规模')), 100):(UnboundLens(GetZoomAttrTraversal('名称')), 'E')\""
      ]
     },
     "execution_count": 150,
     "metadata": {},
     "output_type": "execute_result"
    }
   ],
   "source": [
    "strFromPath(list(xx.keys()))"
   ]
  },
  {
   "cell_type": "code",
   "execution_count": 128,
   "id": "ae1441bd",
   "metadata": {},
   "outputs": [
    {
     "data": {
      "text/plain": [
       "['']"
      ]
     },
     "execution_count": 128,
     "metadata": {},
     "output_type": "execute_result"
    }
   ],
   "source": [
    "[ strFromLens(k) for k in list(xx.keys()) ]"
   ]
  },
  {
   "cell_type": "code",
   "execution_count": 159,
   "id": "7cbe6ee5",
   "metadata": {},
   "outputs": [
    {
     "data": {
      "text/plain": [
       "['资产池-发行-资产池规模:200/名称:A',\n",
       " '资产池-发行-资产池规模:200/名称:E',\n",
       " '资产池-发行-资产池规模:100/名称:A',\n",
       " '资产池-发行-资产池规模:100/名称:E']"
      ]
     },
     "execution_count": 159,
     "metadata": {},
     "output_type": "execute_result"
    }
   ],
   "source": [
    "xx = prodDealsBy(BYD_AUTO_2021_2\n",
    "                 , (lens.资产池['发行']['资产池规模'], [200,100]),(lens.名称,[\"A\",\"E\"])\n",
    "                 , guessKey=True)\n",
    "list(xx.keys())"
   ]
  },
  {
   "cell_type": "code",
   "execution_count": 152,
   "id": "fb08bf91",
   "metadata": {},
   "outputs": [
    {
     "name": "stdout",
     "output_type": "stream",
     "text": [
      "x UnboundLens(GetZoomAttrTraversal('资产池') & GetitemLens('发行') & GetitemLens('资产池规模'))\n",
      "x type <class 'lenses.ui.UnboundLens'>\n",
      "x GetZoomAttrTraversal('资产池')\n",
      "x type <class 'lenses.optics.traversals.GetZoomAttrTraversal'>\n",
      "x GetitemLens('发行')\n",
      "x type <class 'lenses.optics.true_lenses.GetitemLens'>\n",
      "x GetitemLens('资产池规模')\n",
      "x type <class 'lenses.optics.true_lenses.GetitemLens'>\n",
      "x UnboundLens(GetZoomAttrTraversal('名称'))\n",
      "x type <class 'lenses.ui.UnboundLens'>\n"
     ]
    },
    {
     "data": {
      "text/plain": [
       "'资产池-发行-资产池规模:200/名称:A'"
      ]
     },
     "execution_count": 152,
     "metadata": {},
     "output_type": "execute_result"
    }
   ],
   "source": [
    "strFromPath(list(xx.keys())[0])"
   ]
  },
  {
   "cell_type": "code",
   "execution_count": 143,
   "id": "37723340",
   "metadata": {},
   "outputs": [
    {
     "data": {
      "text/plain": [
       "(UnboundLens(GetZoomAttrTraversal('资产池') & GetitemLens('发行') & GetitemLens('资产池规模')),\n",
       " 200)"
      ]
     },
     "execution_count": 143,
     "metadata": {},
     "output_type": "execute_result"
    }
   ],
   "source": [
    "list(xx.keys())[0][0]"
   ]
  },
  {
   "cell_type": "code",
   "execution_count": 144,
   "id": "8f5e1bf4",
   "metadata": {},
   "outputs": [
    {
     "data": {
      "text/plain": [
       "(UnboundLens(GetZoomAttrTraversal('名称')), 'A')"
      ]
     },
     "execution_count": 144,
     "metadata": {},
     "output_type": "execute_result"
    }
   ],
   "source": [
    "list(xx.keys())[0][1]"
   ]
  },
  {
   "cell_type": "code",
   "execution_count": 44,
   "id": "f8fa6927",
   "metadata": {},
   "outputs": [
    {
     "data": {
      "text/plain": [
       "GetZoomAttrTraversal('资产池') & GetitemLens('发行')"
      ]
     },
     "execution_count": 44,
     "metadata": {},
     "output_type": "execute_result"
    }
   ],
   "source": [
    "lens.资产池['发行']._optic"
   ]
  },
  {
   "cell_type": "code",
   "execution_count": 49,
   "id": "5c62971a",
   "metadata": {},
   "outputs": [
    {
     "data": {
      "text/plain": [
       "lenses.optics.base.ComposedLens"
      ]
     },
     "execution_count": 49,
     "metadata": {},
     "output_type": "execute_result"
    }
   ],
   "source": [
    "type(lens.资产池['发行']._optic)"
   ]
  },
  {
   "cell_type": "code",
   "execution_count": 56,
   "id": "e27891a2",
   "metadata": {},
   "outputs": [
    {
     "ename": "AttributeError",
     "evalue": "'GetitemLens' object has no attribute 'name'",
     "output_type": "error",
     "traceback": [
      "\u001b[0;31m---------------------------------------------------------------------------\u001b[0m",
      "\u001b[0;31mAttributeError\u001b[0m                            Traceback (most recent call last)",
      "Cell \u001b[0;32mIn[56], line 1\u001b[0m\n\u001b[0;32m----> 1\u001b[0m \u001b[43mlens\u001b[49m\u001b[38;5;241;43m.\u001b[39;49m\u001b[43m资产池\u001b[49m\u001b[43m[\u001b[49m\u001b[38;5;124;43m'\u001b[39;49m\u001b[38;5;124;43m发行\u001b[39;49m\u001b[38;5;124;43m'\u001b[39;49m\u001b[43m]\u001b[49m\u001b[38;5;241;43m.\u001b[39;49m\u001b[43m_optic\u001b[49m\u001b[38;5;241;43m.\u001b[39;49m\u001b[43mlenses\u001b[49m\u001b[43m[\u001b[49m\u001b[38;5;241;43m1\u001b[39;49m\u001b[43m]\u001b[49m\u001b[38;5;241;43m.\u001b[39;49m\u001b[43mname\u001b[49m\n",
      "\u001b[0;31mAttributeError\u001b[0m: 'GetitemLens' object has no attribute 'name'"
     ]
    }
   ],
   "source": [
    "lens.资产池['发行']._optic.lenses[1].name"
   ]
  },
  {
   "cell_type": "code",
   "execution_count": 61,
   "id": "aa3a18cb",
   "metadata": {},
   "outputs": [
    {
     "data": {
      "text/plain": [
       "lenses.optics.true_lenses.GetitemLens"
      ]
     },
     "execution_count": 61,
     "metadata": {},
     "output_type": "execute_result"
    }
   ],
   "source": [
    "type(lens.资产池['发行']._optic.lenses[1])"
   ]
  },
  {
   "cell_type": "code",
   "execution_count": 57,
   "id": "ee4dacfa",
   "metadata": {},
   "outputs": [
    {
     "data": {
      "text/plain": [
       "['__abstractmethods__',\n",
       " '__and__',\n",
       " '__annotations__',\n",
       " '__class__',\n",
       " '__class_getitem__',\n",
       " '__delattr__',\n",
       " '__dict__',\n",
       " '__dir__',\n",
       " '__doc__',\n",
       " '__eq__',\n",
       " '__format__',\n",
       " '__ge__',\n",
       " '__getattribute__',\n",
       " '__getstate__',\n",
       " '__gt__',\n",
       " '__hash__',\n",
       " '__init__',\n",
       " '__init_subclass__',\n",
       " '__le__',\n",
       " '__lt__',\n",
       " '__module__',\n",
       " '__ne__',\n",
       " '__new__',\n",
       " '__orig_bases__',\n",
       " '__parameters__',\n",
       " '__reduce__',\n",
       " '__reduce_ex__',\n",
       " '__repr__',\n",
       " '__setattr__',\n",
       " '__sizeof__',\n",
       " '__slots__',\n",
       " '__str__',\n",
       " '__subclasshook__',\n",
       " '__weakref__',\n",
       " '_abc_impl',\n",
       " '_is_kind',\n",
       " '_is_protocol',\n",
       " 'apply',\n",
       " 'compose',\n",
       " 'folder',\n",
       " 'func',\n",
       " 'getter',\n",
       " 'iterate',\n",
       " 'key',\n",
       " 'kind',\n",
       " 'over',\n",
       " 'preview',\n",
       " 're',\n",
       " 'set',\n",
       " 'setter',\n",
       " 'to_list_of',\n",
       " 'view']"
      ]
     },
     "execution_count": 57,
     "metadata": {},
     "output_type": "execute_result"
    }
   ],
   "source": [
    "dir(lens.资产池['发行']._optic.lenses[1])"
   ]
  },
  {
   "cell_type": "code",
   "execution_count": 45,
   "id": "4b82a7b7",
   "metadata": {},
   "outputs": [
    {
     "data": {
      "text/plain": [
       "['__abstractmethods__',\n",
       " '__and__',\n",
       " '__annotations__',\n",
       " '__class__',\n",
       " '__class_getitem__',\n",
       " '__delattr__',\n",
       " '__dir__',\n",
       " '__doc__',\n",
       " '__eq__',\n",
       " '__format__',\n",
       " '__ge__',\n",
       " '__getattribute__',\n",
       " '__getstate__',\n",
       " '__gt__',\n",
       " '__hash__',\n",
       " '__init__',\n",
       " '__init_subclass__',\n",
       " '__le__',\n",
       " '__lt__',\n",
       " '__module__',\n",
       " '__ne__',\n",
       " '__new__',\n",
       " '__orig_bases__',\n",
       " '__parameters__',\n",
       " '__reduce__',\n",
       " '__reduce_ex__',\n",
       " '__repr__',\n",
       " '__setattr__',\n",
       " '__sizeof__',\n",
       " '__slots__',\n",
       " '__str__',\n",
       " '__subclasshook__',\n",
       " '_abc_impl',\n",
       " '_filter_lenses',\n",
       " '_is_kind',\n",
       " '_is_protocol',\n",
       " 'apply',\n",
       " 'compose',\n",
       " 'func',\n",
       " 'iterate',\n",
       " 'kind',\n",
       " 'lenses',\n",
       " 'over',\n",
       " 'preview',\n",
       " 're',\n",
       " 'set',\n",
       " 'to_list_of',\n",
       " 'view']"
      ]
     },
     "execution_count": 45,
     "metadata": {},
     "output_type": "execute_result"
    }
   ],
   "source": [
    "dir(lens.资产池['发行']._optic)"
   ]
  },
  {
   "cell_type": "code",
   "execution_count": 39,
   "id": "40a8f8cd",
   "metadata": {},
   "outputs": [
    {
     "data": {
      "text/plain": [
       "'资产池'"
      ]
     },
     "execution_count": 39,
     "metadata": {},
     "output_type": "execute_result"
    }
   ],
   "source": [
    "strFromLens(lens.资产池)"
   ]
  },
  {
   "cell_type": "code",
   "execution_count": 34,
   "id": "0ab8b62b",
   "metadata": {},
   "outputs": [
    {
     "data": {
      "text/plain": [
       "lenses.ui.UnboundLens"
      ]
     },
     "execution_count": 34,
     "metadata": {},
     "output_type": "execute_result"
    }
   ],
   "source": [
    "type(lens.资产池)"
   ]
  },
  {
   "cell_type": "code",
   "execution_count": 32,
   "id": "04491067",
   "metadata": {},
   "outputs": [
    {
     "data": {
      "text/plain": [
       "['__abstractmethods__',\n",
       " '__and__',\n",
       " '__annotations__',\n",
       " '__class__',\n",
       " '__class_getitem__',\n",
       " '__delattr__',\n",
       " '__dict__',\n",
       " '__dir__',\n",
       " '__doc__',\n",
       " '__eq__',\n",
       " '__format__',\n",
       " '__ge__',\n",
       " '__getattribute__',\n",
       " '__getstate__',\n",
       " '__gt__',\n",
       " '__hash__',\n",
       " '__init__',\n",
       " '__init_subclass__',\n",
       " '__le__',\n",
       " '__lt__',\n",
       " '__module__',\n",
       " '__ne__',\n",
       " '__new__',\n",
       " '__orig_bases__',\n",
       " '__parameters__',\n",
       " '__reduce__',\n",
       " '__reduce_ex__',\n",
       " '__repr__',\n",
       " '__setattr__',\n",
       " '__sizeof__',\n",
       " '__slots__',\n",
       " '__str__',\n",
       " '__subclasshook__',\n",
       " '__weakref__',\n",
       " '_abc_impl',\n",
       " '_getattr_cache',\n",
       " '_is_kind',\n",
       " '_is_protocol',\n",
       " 'apply',\n",
       " 'compose',\n",
       " 'func',\n",
       " 'iterate',\n",
       " 'kind',\n",
       " 'name',\n",
       " 'over',\n",
       " 'preview',\n",
       " 're',\n",
       " 'set',\n",
       " 'to_list_of',\n",
       " 'view']"
      ]
     },
     "execution_count": 32,
     "metadata": {},
     "output_type": "execute_result"
    }
   ],
   "source": [
    "dir(lens.资产池._optic)"
   ]
  },
  {
   "cell_type": "code",
   "execution_count": 29,
   "id": "c541655c",
   "metadata": {},
   "outputs": [
    {
     "data": {
      "text/plain": [
       "'资产池'"
      ]
     },
     "execution_count": 29,
     "metadata": {},
     "output_type": "execute_result"
    }
   ],
   "source": [
    "lens.资产池._optic.name"
   ]
  },
  {
   "cell_type": "code",
   "execution_count": 41,
   "id": "2a85c452",
   "metadata": {},
   "outputs": [
    {
     "data": {
      "text/plain": [
       "\"((UnboundLens(GetZoomAttrTraversal('资产池') & GetitemLens('发行') & GetitemLens('资产池规模')), 200), (UnboundLens(GetZoomAttrTraversal('名称')), 'A'))\""
      ]
     },
     "execution_count": 41,
     "metadata": {},
     "output_type": "execute_result"
    }
   ],
   "source": [
    "list(xx.keys())[0]"
   ]
  },
  {
   "cell_type": "code",
   "execution_count": 25,
   "id": "d651e95e",
   "metadata": {},
   "outputs": [
    {
     "data": {
      "text/plain": [
       "SPV(名称='ABCDE', 日期={'封包日': '2022-07-01', '起息日': '2022-07-26', '首次兑付日': '2022-08-26', '法定到期日': '2060-12-01', '收款频率': '月初', '付款频率': ['每月', 26]}, 资产池={'发行': {'资产池规模': 135515}, '归集表': [['2022-07-01', 1234640402, 78501963.04, 954043.04], ['2022-08-01', 1157265240, 77375162.14, 891648.43], ['2022-09-01', 1080039426, 77225814.18, 852731.81], ['2022-10-01', 1003282127, 76757298.83, 813484.98], ['2022-11-01', 927427822.3, 75854304.71, 774101.65], ['2022-12-01', 852342434.9, 75085387.41, 734796.34], ['2023-01-01', 780421405.7, 71921029.21, 695343.12], ['2023-02-01', 712379940.6, 68041465.05, 655964.23], ['2023-03-01', 646490512.9, 65889427.7, 616857.95], ['2023-04-01', 584776933.2, 61713579.7, 577837.7], ['2023-05-01', 527867450.6, 56909482.63, 539331.19], ['2023-06-01', 470936840, 56930610.58, 503085.91], ['2023-07-01', 414031471.4, 56905368.58, 466755.77], ['2023-08-01', 357238793.3, 56792678.1, 430516.11], ['2023-09-01', 300569969.4, 56668823.93, 394715.61], ['2023-10-01', 244168401.8, 56401567.55, 359341.72], ['2023-11-01', 188261231.6, 55907170.23, 324663.69], ['2023-12-01', 135214312.8, 53046918.78, 290675.76], ['2024-01-01', 95533450.08, 39680862.74, 257752.51], ['2024-02-01', 68181138.8, 27352311.28, 226897.8], ['2024-03-01', 47481932.22, 20699206.58, 198247.82], ['2024-04-01', 36412499.53, 11069432.69, 170618.51], ['2024-05-01', 31649692, 4762807.53, 145060.5], ['2024-06-01', 26867972.61, 4781719.39, 126148.64], ['2024-07-01', 22080740.39, 4787232.22, 107159.95], ['2024-08-01', 17274503.87, 4806236.52, 88155.65], ['2024-09-01', 12570553.22, 4703950.65, 69099.78], ['2024-10-01', 8474147.69, 4096405.53, 50432.44], ['2024-11-01', 5267663.01, 3206484.68, 34157.1], ['2024-12-01', 3048007.94, 2219655.07, 21390.56], ['2025-01-01', 1782441.89, 1265566.05, 12491.46], ['2025-02-01', 972018.42, 810423.47, 7372.76], ['2025-03-01', 353663.75, 618354.67, 4075.94], ['2025-04-01', 0, 353663.75, 1537.85]]}, 账户=(('本金分账户', {'余额': 0}), ('收入分账户', {'余额': 0}), ('流动性储备', {'余额': 15757708.38, '类型': {'较高': [{'目标储备金额': [('资产池余额',), 0.012]}, {'目标储备金额': [('初始资产池余额',), 0.005]}]}}), ('收款账户', {'余额': 0})), 债券=(('优先', {'当前余额': 716739000.0, '当前利率': 0.026, '初始余额': 1730000000.0, '初始利率': 0.026, '起息日': '2022-07-26', '利率': {'固定': 0.026}, '债券类型': {'过手摊还': None}}), ('次级', {'当前余额': 270000000.0, '当前利率': 0.0, '初始余额': 270000000.0, '初始利率': 0.0, '起息日': '2022-07-26', '利率': {'固定': 0.0}, '债券类型': {'权益': None}})), 费用=(('增值税', {'类型': {'差额费用': [('*', ('资产池累计', None, '利息'), 0.0326), ('费用支付总额', None, '增值税')]}}), ('服务商费用', {'类型': {'年化费率': [('资产池余额',), 0.0012]}})), 分配规则={'未违约': [['账户转移', '流动性储备', '收入分账户'], ['支付费用', '收入分账户', ['服务商费用']], ['计提支付利息', '收入分账户', ['优先']], ['账户转移', '收入分账户', '流动性储备', {'储备': '缺口'}], ['账户转移', '收入分账户', '本金分账户'], ['支付本金', '本金分账户', ['优先']], ['支付本金', '本金分账户', ['次级']], ['支付收益', '本金分账户', '次级']], '回款后': [['计提费用', '增值税']], '清仓回购': [['出售资产', ['正常|违约', 1.0, 0.0], '本金分账户'], ['账户转移', '收入分账户', '收款账户'], ['账户转移', '本金分账户', '收款账户'], ['账户转移', '流动性储备', '收款账户'], ['支付费用', '收款账户', ['服务商费用']], ['计提支付利息', '收款账户', ['优先']], ['支付本金', '收款账户', ['优先']], ['支付本金', '收款账户', ['次级']], ['支付收益', '收款账户', '次级']]}, 归集规则=(['利息回款', '收入分账户'], ['本金回款', '本金分账户'], ['早偿回款', '本金分账户'], ['回收回款', '本金分账户']), 流动性支持=None, 利率对冲=None, 汇率对冲=None, 触发事件=None, 状态=('设计', '摊销'), 自定义=None, 科目=None)"
      ]
     },
     "execution_count": 25,
     "metadata": {},
     "output_type": "execute_result"
    }
   ],
   "source": [
    "BYD_AUTO_2021_2 & lens.资产池['发行']['资产池规模'].set(135515) & lens.名称.set(\"ABCDE\")"
   ]
  },
  {
   "cell_type": "code",
   "execution_count": 5,
   "id": "1d0b16ec",
   "metadata": {
    "scrolled": true
   },
   "outputs": [
    {
     "data": {
      "text/plain": [
       "SPV(名称='盛世融迪2021年第二期个人汽车抵押贷款', 日期={'封包日': '2022-07-01', '起息日': '2022-07-26', '首次兑付日': '2022-08-26', '法定到期日': '2060-12-01', '收款频率': '月初', '付款频率': ['每月', 26]}, 资产池={'发行': {'资产池规模': 2353348391.45}, '归集表': [['2022-07-01', 1234640402, 78501963.04, 954043.04], ['2022-08-01', 1157265240, 77375162.14, 891648.43], ['2022-09-01', 1080039426, 77225814.18, 852731.81], ['2022-10-01', 1003282127, 76757298.83, 813484.98], ['2022-11-01', 927427822.3, 75854304.71, 774101.65], ['2022-12-01', 852342434.9, 75085387.41, 734796.34], ['2023-01-01', 780421405.7, 71921029.21, 695343.12], ['2023-02-01', 712379940.6, 68041465.05, 655964.23], ['2023-03-01', 646490512.9, 65889427.7, 616857.95], ['2023-04-01', 584776933.2, 61713579.7, 577837.7], ['2023-05-01', 527867450.6, 56909482.63, 539331.19], ['2023-06-01', 470936840, 56930610.58, 503085.91], ['2023-07-01', 414031471.4, 56905368.58, 466755.77], ['2023-08-01', 357238793.3, 56792678.1, 430516.11], ['2023-09-01', 300569969.4, 56668823.93, 394715.61], ['2023-10-01', 244168401.8, 56401567.55, 359341.72], ['2023-11-01', 188261231.6, 55907170.23, 324663.69], ['2023-12-01', 135214312.8, 53046918.78, 290675.76], ['2024-01-01', 95533450.08, 39680862.74, 257752.51], ['2024-02-01', 68181138.8, 27352311.28, 226897.8], ['2024-03-01', 47481932.22, 20699206.58, 198247.82], ['2024-04-01', 36412499.53, 11069432.69, 170618.51], ['2024-05-01', 31649692, 4762807.53, 145060.5], ['2024-06-01', 26867972.61, 4781719.39, 126148.64], ['2024-07-01', 22080740.39, 4787232.22, 107159.95], ['2024-08-01', 17274503.87, 4806236.52, 88155.65], ['2024-09-01', 12570553.22, 4703950.65, 69099.78], ['2024-10-01', 8474147.69, 4096405.53, 50432.44], ['2024-11-01', 5267663.01, 3206484.68, 34157.1], ['2024-12-01', 3048007.94, 2219655.07, 21390.56], ['2025-01-01', 1782441.89, 1265566.05, 12491.46], ['2025-02-01', 972018.42, 810423.47, 7372.76], ['2025-03-01', 353663.75, 618354.67, 4075.94], ['2025-04-01', 0, 353663.75, 1537.85]]}, 账户=(('本金分账户', {'余额': 0}), ('收入分账户', {'余额': 0}), ('流动性储备', {'余额': 15757708.38, '类型': {'较高': [{'目标储备金额': [('资产池余额',), 0.012]}, {'目标储备金额': [('初始资产池余额',), 0.005]}]}}), ('收款账户', {'余额': 0})), 债券=(('优先', {'当前余额': 716739000.0, '当前利率': 0.026, '初始余额': 1730000000.0, '初始利率': 0.026, '起息日': '2022-07-26', '利率': {'固定': 0.026}, '债券类型': {'过手摊还': None}}), ('次级', {'当前余额': 270000000.0, '当前利率': 0.0, '初始余额': 270000000.0, '初始利率': 0.0, '起息日': '2022-07-26', '利率': {'固定': 0.0}, '债券类型': {'权益': None}})), 费用=(('增值税', {'类型': {'差额费用': [('*', ('资产池累计', None, '利息'), 0.0326), ('费用支付总额', None, '增值税')]}}), ('服务商费用', {'类型': {'年化费率': [('资产池余额',), 0.0012]}})), 分配规则={'未违约': [['账户转移', '流动性储备', '收入分账户'], ['支付费用', '收入分账户', ['服务商费用']], ['计提支付利息', '收入分账户', ['优先']], ['账户转移', '收入分账户', '流动性储备', {'储备': '缺口'}], ['账户转移', '收入分账户', '本金分账户'], ['支付本金', '本金分账户', ['优先']], ['支付本金', '本金分账户', ['次级']], ['支付收益', '本金分账户', '次级']], '回款后': [['计提费用', '增值税']], '清仓回购': [['出售资产', ['正常|违约', 1.0, 0.0], '本金分账户'], ['账户转移', '收入分账户', '收款账户'], ['账户转移', '本金分账户', '收款账户'], ['账户转移', '流动性储备', '收款账户'], ['支付费用', '收款账户', ['服务商费用']], ['计提支付利息', '收款账户', ['优先']], ['支付本金', '收款账户', ['优先']], ['支付本金', '收款账户', ['次级']], ['支付收益', '收款账户', '次级']]}, 归集规则=(['利息回款', '收入分账户'], ['本金回款', '本金分账户'], ['早偿回款', '本金分账户'], ['回收回款', '本金分账户']), 流动性支持=None, 利率对冲=None, 汇率对冲=None, 触发事件=None, 状态=('设计', '摊销'), 自定义=None, 科目=None)"
      ]
     },
     "execution_count": 5,
     "metadata": {},
     "output_type": "execute_result"
    }
   ],
   "source": [
    "BYD_AUTO_2021_2"
   ]
  },
  {
   "cell_type": "code",
   "execution_count": null,
   "id": "f48056a6",
   "metadata": {},
   "outputs": [],
   "source": []
  },
  {
   "cell_type": "code",
   "execution_count": null,
   "id": "1edb4d5a",
   "metadata": {},
   "outputs": [],
   "source": []
  },
  {
   "cell_type": "code",
   "execution_count": null,
   "id": "bc3869b0",
   "metadata": {},
   "outputs": [],
   "source": []
  },
  {
   "cell_type": "code",
   "execution_count": null,
   "id": "3a40c7db",
   "metadata": {},
   "outputs": [],
   "source": []
  }
 ],
 "metadata": {
  "kernelspec": {
   "display_name": "Python 3 (ipykernel)",
   "language": "python",
   "name": "python3"
  },
  "language_info": {
   "codemirror_mode": {
    "name": "ipython",
    "version": 3
   },
   "file_extension": ".py",
   "mimetype": "text/x-python",
   "name": "python",
   "nbconvert_exporter": "python",
   "pygments_lexer": "ipython3",
   "version": "3.11.6"
  }
 },
 "nbformat": 4,
 "nbformat_minor": 5
}
