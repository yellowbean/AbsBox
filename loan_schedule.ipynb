{
 "cells": [
  {
   "cell_type": "code",
   "execution_count": null,
   "id": "afdc2097",
   "metadata": {},
   "outputs": [],
   "source": [
    "%load_ext autoreload\n",
    "%autoreload 2"
   ]
  },
  {
   "cell_type": "code",
   "execution_count": null,
   "id": "504dab87",
   "metadata": {},
   "outputs": [],
   "source": [
    "from absbox.local.china import SPV\n",
    "from absbox import API\n",
    "localAPI = API(\"http://localhost:8081\",lang='english',check=False)\n",
    "\n",
    "\n",
    "assets = [\n",
    "    [\"Loan\"\n",
    "      ,{\"originBalance\": 80000:l\n",
    "        ,\"originRate\": [\"floater\",0.045,{\"index\":\"SOFR3M\"\n",
    "                                        ,\"spread\":0.01\n",
    "                                        ,\"reset\":\"QuarterEnd\"}]\n",
    "        ,\"originTerm\": 3\n",
    "        ,\"freq\": \"SemiAnnually\"\n",
    "        ,\"type\": (\"Schedule\",[[\"2021-10-10\",20000]\n",
    "                              ,[\"2022-01-10\",20000]\n",
    "                              ,[\"2022-10-10\",40000]\n",
    "                             ])\n",
    "        ,\"originDate\": \"2021-03-01\"}\n",
    "      ,{\"currentBalance\": 80000\n",
    "        ,\"currentRate\": 0.06\n",
    "        ,\"remainTerm\": 1\n",
    "        ,\"status\": \"Current\"}]\n",
    "] \n",
    "\n",
    "(flow,st,p) = localAPI.runAsset(\"2021-04-01\"\n",
    "                                  ,assets\n",
    "                                  ,poolAssump=(\"Pool\"\n",
    "                                                ,(\"Loan\"\n",
    "                                                 ,{\"CDR\":0.01} ,{\"CPR\":0.01}, None, None)\n",
    "                                                 ,None\n",
    "                                                 ,None)\n",
    "                                  ,rateAssump=[(\"SOFR3M\",0.045)]\n",
    "                                  ,read=True)\n",
    "flow"
   ]
  },
  {
   "cell_type": "code",
   "execution_count": 38,
   "id": "0859cebe",
   "metadata": {},
   "outputs": [
    {
     "data": {
      "text/html": [
       "<pre style=\"white-space:pre;overflow-x:auto;line-height:normal;font-family:Menlo,'DejaVu Sans Mono',consolas,'Courier New',monospace\"></pre>\n"
      ],
      "text/plain": []
     },
     "metadata": {},
     "output_type": "display_data"
    },
    {
     "data": {
      "text/html": [
       "<div>\n",
       "<style scoped>\n",
       "    .dataframe tbody tr th:only-of-type {\n",
       "        vertical-align: middle;\n",
       "    }\n",
       "\n",
       "    .dataframe tbody tr th {\n",
       "        vertical-align: top;\n",
       "    }\n",
       "\n",
       "    .dataframe thead th {\n",
       "        text-align: right;\n",
       "    }\n",
       "</style>\n",
       "<table border=\"1\" class=\"dataframe\">\n",
       "  <thead>\n",
       "    <tr style=\"text-align: right;\">\n",
       "      <th></th>\n",
       "      <th>Balance</th>\n",
       "      <th>Principal</th>\n",
       "      <th>Interest</th>\n",
       "      <th>Prepayment</th>\n",
       "      <th>Default</th>\n",
       "      <th>Recovery</th>\n",
       "      <th>Loss</th>\n",
       "      <th>WAC</th>\n",
       "    </tr>\n",
       "    <tr>\n",
       "      <th>Date</th>\n",
       "      <th></th>\n",
       "      <th></th>\n",
       "      <th></th>\n",
       "      <th></th>\n",
       "      <th></th>\n",
       "      <th></th>\n",
       "      <th></th>\n",
       "      <th></th>\n",
       "    </tr>\n",
       "  </thead>\n",
       "  <tbody>\n",
       "    <tr>\n",
       "      <th>2021-10-10</th>\n",
       "      <td>59632.72</td>\n",
       "      <td>19877.56</td>\n",
       "      <td>2955.07</td>\n",
       "      <td>489.72</td>\n",
       "      <td>0</td>\n",
       "      <td>0</td>\n",
       "      <td>0</td>\n",
       "      <td>0.060</td>\n",
       "    </tr>\n",
       "    <tr>\n",
       "      <th>2022-01-10</th>\n",
       "      <td>39654.58</td>\n",
       "      <td>19827.27</td>\n",
       "      <td>836.01</td>\n",
       "      <td>150.87</td>\n",
       "      <td>0</td>\n",
       "      <td>0</td>\n",
       "      <td>0</td>\n",
       "      <td>0.055</td>\n",
       "    </tr>\n",
       "    <tr>\n",
       "      <th>2022-10-10</th>\n",
       "      <td>0.04</td>\n",
       "      <td>39357.58</td>\n",
       "      <td>1641.52</td>\n",
       "      <td>296.96</td>\n",
       "      <td>0</td>\n",
       "      <td>0</td>\n",
       "      <td>0</td>\n",
       "      <td>0.055</td>\n",
       "    </tr>\n",
       "  </tbody>\n",
       "</table>\n",
       "</div>"
      ],
      "text/plain": [
       "             Balance  Principal  Interest  Prepayment  Default  Recovery  \\\n",
       "Date                                                                       \n",
       "2021-10-10  59632.72   19877.56   2955.07      489.72        0         0   \n",
       "2022-01-10  39654.58   19827.27    836.01      150.87        0         0   \n",
       "2022-10-10      0.04   39357.58   1641.52      296.96        0         0   \n",
       "\n",
       "            Loss    WAC  \n",
       "Date                     \n",
       "2021-10-10     0  0.060  \n",
       "2022-01-10     0  0.055  \n",
       "2022-10-10     0  0.055  "
      ]
     },
     "execution_count": 38,
     "metadata": {},
     "output_type": "execute_result"
    }
   ],
   "source": [
    "(flow,st,p) = localAPI.runAsset(\"2021-04-01\"\n",
    "                                  ,assets\n",
    "                                  ,poolAssump=(\"Pool\"\n",
    "                                                ,(\"Loan\"\n",
    "                                                 ,None ,{\"CPR\":0.01}, None, None)\n",
    "                                                 ,None\n",
    "                                                 ,None)\n",
    "                                  ,rateAssump=[(\"SOFR3M\",0.045)]\n",
    "                                  ,read=True)\n",
    "flow"
   ]
  },
  {
   "cell_type": "code",
   "execution_count": null,
   "id": "5827a128",
   "metadata": {},
   "outputs": [],
   "source": []
  }
 ],
 "metadata": {
  "kernelspec": {
   "display_name": "Python 3 (ipykernel)",
   "language": "python",
   "name": "python3"
  },
  "language_info": {
   "codemirror_mode": {
    "name": "ipython",
    "version": 3
   },
   "file_extension": ".py",
   "mimetype": "text/x-python",
   "name": "python",
   "nbconvert_exporter": "python",
   "pygments_lexer": "ipython3",
   "version": "3.11.3"
  }
 },
 "nbformat": 4,
 "nbformat_minor": 5
}
