{
 "cells": [
  {
   "cell_type": "code",
   "execution_count": 7,
   "id": "50995913-29db-4bbf-ac1a-06b6afc2901e",
   "metadata": {},
   "outputs": [],
   "source": [
    "m = [\"Mortgage\"\n",
    "        ,{\"originBalance\": 12000.0\n",
    "            ,\"originRate\": [\"fix\",0.045]\n",
    "            ,\"originTerm\": 80\n",
    "            ,\"freq\": \"Monthly\"\n",
    "            ,\"type\": \"Level\"\n",
    "            ,\"originDate\": \"2021-02-01\"}\n",
    "        ,{\"currentBalance\": 10000.0\n",
    "            ,\"currentRate\": 0.075\n",
    "            ,\"remainTerm\": 80\n",
    "            ,\"status\": \"Current\"}]"
   ]
  },
  {
   "cell_type": "code",
   "execution_count": 8,
   "id": "e43e2879-9574-4753-9221-499d1aae9d6c",
   "metadata": {},
   "outputs": [
    {
     "data": {
      "text/html": [
       "<pre style=\"white-space:pre;overflow-x:auto;line-height:normal;font-family:Menlo,'DejaVu Sans Mono',consolas,'Courier New',monospace\"><span style=\"color: #800080; text-decoration-color: #800080; font-weight: bold\">Connecting engine server -&gt; </span><span style=\"color: #800080; text-decoration-color: #800080; font-weight: bold; text-decoration: underline\">http://localhost:8081</span>\n",
       "</pre>\n"
      ],
      "text/plain": [
       "\u001b[1;35mConnecting engine server -> \u001b[0m\u001b[1;4;35mhttp://localhost:8081\u001b[0m\n"
      ]
     },
     "metadata": {},
     "output_type": "display_data"
    },
    {
     "data": {
      "text/html": [
       "<pre style=\"white-space:pre;overflow-x:auto;line-height:normal;font-family:Menlo,'DejaVu Sans Mono',consolas,'Courier New',monospace\">✅<span style=\"color: #008000; text-decoration-color: #008000; font-weight: bold\">Connected, local lib:0.</span><span style=\"color: #008000; text-decoration-color: #008000; font-weight: bold\">28.7</span><span style=\"color: #008000; text-decoration-color: #008000; font-weight: bold\">, server:</span><span style=\"color: #008000; text-decoration-color: #008000; font-weight: bold\">0.42</span><span style=\"color: #008000; text-decoration-color: #008000; font-weight: bold\">.</span><span style=\"color: #008000; text-decoration-color: #008000; font-weight: bold\">2</span>\n",
       "</pre>\n"
      ],
      "text/plain": [
       "✅\u001b[1;32mConnected, local li\u001b[0m\u001b[1;32mb:0\u001b[0m\u001b[1;32m.\u001b[0m\u001b[1;32m28.7\u001b[0m\u001b[1;32m, server:\u001b[0m\u001b[1;32m0.42\u001b[0m\u001b[1;32m.\u001b[0m\u001b[1;32m2\u001b[0m\n"
      ]
     },
     "metadata": {},
     "output_type": "display_data"
    }
   ],
   "source": [
    "from absbox import API,EnginePath\n",
    "\n",
    "localAPI = API(EnginePath.LOCAL, lang='english', check=False)"
   ]
  },
  {
   "cell_type": "code",
   "execution_count": 48,
   "id": "ec61bf1a-52d9-4145-9c37-c521a566cae3",
   "metadata": {},
   "outputs": [],
   "source": [
    "r = localAPI.runAsset(\"2020-01-02\"\n",
    "                     ,[m]\n",
    "                     ,poolAssump=(\"Pool\"\n",
    "                                    ,(\"Mortgage\", None, {\"PSA\":1.0}, None, None)\n",
    "                                    ,None\n",
    "                                    ,None)\n",
    "                     ,read=True)"
   ]
  },
  {
   "cell_type": "code",
   "execution_count": 49,
   "id": "c04d2279-93a1-4cae-8528-e64df57961e6",
   "metadata": {},
   "outputs": [],
   "source": [
    "def toCprRates(mflow):\n",
    "    return [ round(_, 3) for _ in  (1 - (1 - mflow.Prepayment.shift(-1) / mflow.Balance)**12).to_list() ]"
   ]
  },
  {
   "cell_type": "code",
   "execution_count": 75,
   "id": "eece7120-e2de-4778-ab39-e5ce9971bb00",
   "metadata": {},
   "outputs": [
    {
     "data": {
      "text/plain": [
       "True"
      ]
     },
     "execution_count": 75,
     "metadata": {},
     "output_type": "execute_result"
    }
   ],
   "source": [
    "toCprRates(r[0])[:80] == ([ _/1000 for _ in  range(2,62,2)] + [0.06]*50)"
   ]
  },
  {
   "cell_type": "code",
   "execution_count": 76,
   "id": "d979ac6f-7fd4-4e8f-a3e2-1c90e455e265",
   "metadata": {},
   "outputs": [],
   "source": [
    "m[2]['remainTerm'] = 60"
   ]
  },
  {
   "cell_type": "code",
   "execution_count": 77,
   "id": "462b9b1f-4795-43da-8a5f-de1a335dfb01",
   "metadata": {},
   "outputs": [],
   "source": [
    "r = localAPI.runAsset(\"2020-01-02\"\n",
    "                     ,[m]\n",
    "                     ,poolAssump=(\"Pool\"\n",
    "                                    ,(\"Mortgage\", None, {\"PSA\":1.0}, None, None)\n",
    "                                    ,None\n",
    "                                    ,None)\n",
    "                     ,read=True)"
   ]
  },
  {
   "cell_type": "code",
   "execution_count": 86,
   "id": "dbe4bf62-2867-442d-a511-0395c309c341",
   "metadata": {},
   "outputs": [
    {
     "data": {
      "text/plain": [
       "True"
      ]
     },
     "execution_count": 86,
     "metadata": {},
     "output_type": "execute_result"
    }
   ],
   "source": [
    "toCprRates(r[0])[:60] == ([ _/1000 for _ in  range(2,62,2)][20:] + [0.06]*50)"
   ]
  },
  {
   "cell_type": "code",
   "execution_count": 89,
   "id": "5f73c0a7-1b9b-4fb1-900d-601e5f2254ec",
   "metadata": {},
   "outputs": [],
   "source": [
    "m[2]['remainTerm'] = 10"
   ]
  },
  {
   "cell_type": "code",
   "execution_count": 88,
   "id": "253b28d2-1a14-4211-a178-48e7dacb962d",
   "metadata": {},
   "outputs": [],
   "source": [
    "r = localAPI.runAsset(\"2020-01-02\"\n",
    "                     ,[m]\n",
    "                     ,poolAssump=(\"Pool\"\n",
    "                                    ,(\"Mortgage\", None, {\"PSA\":1.0}, None, None)\n",
    "                                    ,None\n",
    "                                    ,None)\n",
    "                     ,read=True)"
   ]
  },
  {
   "cell_type": "code",
   "execution_count": 90,
   "id": "6ba732d1-a621-41a3-ae06-60a1431970ec",
   "metadata": {},
   "outputs": [
    {
     "data": {
      "text/plain": [
       "True"
      ]
     },
     "execution_count": 90,
     "metadata": {},
     "output_type": "execute_result"
    }
   ],
   "source": [
    "toCprRates(r[0])[:10] == ([0.06]*10)"
   ]
  },
  {
   "cell_type": "code",
   "execution_count": null,
   "id": "f2285b18-d88a-4c53-a787-3d85d18f45a6",
   "metadata": {},
   "outputs": [],
   "source": []
  }
 ],
 "metadata": {
  "kernelspec": {
   "display_name": "Python 3 (ipykernel)",
   "language": "python",
   "name": "python3"
  },
  "language_info": {
   "codemirror_mode": {
    "name": "ipython",
    "version": 3
   },
   "file_extension": ".py",
   "mimetype": "text/x-python",
   "name": "python",
   "nbconvert_exporter": "python",
   "pygments_lexer": "ipython3",
   "version": "3.12.3"
  }
 },
 "nbformat": 4,
 "nbformat_minor": 5
}
