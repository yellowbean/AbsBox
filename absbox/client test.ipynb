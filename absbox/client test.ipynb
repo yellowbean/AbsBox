{
 "cells": [
  {
   "cell_type": "code",
   "execution_count": 1,
   "id": "7943fb33",
   "metadata": {},
   "outputs": [],
   "source": [
    "from client import client"
   ]
  },
  {
   "cell_type": "code",
   "execution_count": 2,
   "id": "a796bf19",
   "metadata": {},
   "outputs": [],
   "source": [
    "c = client(\"http://localhost:8081\")"
   ]
  },
  {
   "cell_type": "code",
   "execution_count": 3,
   "id": "f28d8105",
   "metadata": {},
   "outputs": [
    {
     "name": "stdout",
     "output_type": "stream",
     "text": [
      "{\"version\":\"0.0.1\"}\n",
      "Connect Successful with http://localhost:8081,engine version 0.0.1\n"
     ]
    }
   ],
   "source": [
    "c.connect()"
   ]
  },
  {
   "cell_type": "code",
   "execution_count": null,
   "id": "c92978df",
   "metadata": {},
   "outputs": [],
   "source": []
  }
 ],
 "metadata": {
  "kernelspec": {
   "display_name": "Python 3 (ipykernel)",
   "language": "python",
   "name": "python3"
  },
  "language_info": {
   "codemirror_mode": {
    "name": "ipython",
    "version": 3
   },
   "file_extension": ".py",
   "mimetype": "text/x-python",
   "name": "python",
   "nbconvert_exporter": "python",
   "pygments_lexer": "ipython3",
   "version": "3.10.4"
  }
 },
 "nbformat": 4,
 "nbformat_minor": 5
}
