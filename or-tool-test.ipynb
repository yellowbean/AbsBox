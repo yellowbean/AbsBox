{
 "cells": [
  {
   "cell_type": "code",
   "execution_count": 1,
   "id": "18cb0699",
   "metadata": {},
   "outputs": [],
   "source": [
    "from ortools.sat.python import cp_model"
   ]
  },
  {
   "cell_type": "code",
   "execution_count": 2,
   "id": "5d1b8bdf",
   "metadata": {},
   "outputs": [],
   "source": [
    "model = cp_model.CpModel()"
   ]
  },
  {
   "cell_type": "code",
   "execution_count": 10,
   "id": "b28a3bd8",
   "metadata": {},
   "outputs": [],
   "source": [
    "var_upper_bound = max(50, 45, 37)\n",
    "a = model.NewIntVar(0, var_upper_bound, \"a\")\n",
    "b = model.NewIntVar(0, var_upper_bound, \"b\")\n",
    "c = model.NewIntVar(0, var_upper_bound, \"c\")\n",
    "d = model.NewIntVar(0, var_upper_bound, \"d\")"
   ]
  },
  {
   "cell_type": "code",
   "execution_count": 4,
   "id": "b9b10c8f",
   "metadata": {},
   "outputs": [
    {
     "data": {
      "text/plain": [
       "<ortools.sat.python.cp_model.Constraint at 0x12871f850>"
      ]
     },
     "execution_count": 4,
     "metadata": {},
     "output_type": "execute_result"
    }
   ],
   "source": [
    "model.Add(19_530.44*a+ 16_678.57*b + 4_786.13*c +109_004.86*d <= 19660.3)\n",
    "model.Add(16_678.57*b + 4_786.13*c +109_004.86*d <= 19660.3)\n",
    "model.Add(5 * x + 2 * y - 6 * z <= 37)"
   ]
  },
  {
   "cell_type": "code",
   "execution_count": 5,
   "id": "f3cb7763",
   "metadata": {},
   "outputs": [],
   "source": [
    "model.Maximize(2 * x + 2 * y + 3 * z)"
   ]
  },
  {
   "cell_type": "code",
   "execution_count": 6,
   "id": "68308476",
   "metadata": {},
   "outputs": [],
   "source": [
    "solver = cp_model.CpSolver()\n",
    "status = solver.Solve(model)"
   ]
  },
  {
   "cell_type": "code",
   "execution_count": 7,
   "id": "08856641",
   "metadata": {},
   "outputs": [
    {
     "name": "stdout",
     "output_type": "stream",
     "text": [
      "Maximum of objective function: 35.0\n",
      "\n",
      "x = 7\n",
      "y = 3\n",
      "z = 5\n"
     ]
    }
   ],
   "source": [
    "if status == cp_model.OPTIMAL or status == cp_model.FEASIBLE:\n",
    "    print(f\"Maximum of objective function: {solver.ObjectiveValue()}\\n\")\n",
    "    print(f\"x = {solver.Value(x)}\")\n",
    "    print(f\"y = {solver.Value(y)}\")\n",
    "    print(f\"z = {solver.Value(z)}\")\n",
    "else:\n",
    "    print(\"No solution found.\")"
   ]
  },
  {
   "cell_type": "code",
   "execution_count": 8,
   "id": "ef289ca6",
   "metadata": {},
   "outputs": [
    {
     "data": {
      "text/plain": [
       "50"
      ]
     },
     "execution_count": 8,
     "metadata": {},
     "output_type": "execute_result"
    }
   ],
   "source": [
    "max(50, 45, 37)"
   ]
  },
  {
   "cell_type": "code",
   "execution_count": null,
   "id": "3e17efc3",
   "metadata": {},
   "outputs": [],
   "source": []
  }
 ],
 "metadata": {
  "kernelspec": {
   "display_name": "Python 3 (ipykernel)",
   "language": "python",
   "name": "python3"
  },
  "language_info": {
   "codemirror_mode": {
    "name": "ipython",
    "version": 3
   },
   "file_extension": ".py",
   "mimetype": "text/x-python",
   "name": "python",
   "nbconvert_exporter": "python",
   "pygments_lexer": "ipython3",
   "version": "3.11.6"
  }
 },
 "nbformat": 4,
 "nbformat_minor": 5
}
