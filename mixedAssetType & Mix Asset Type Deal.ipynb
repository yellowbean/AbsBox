{
 "cells": [
  {
   "cell_type": "code",
   "execution_count": 1,
   "id": "996ef011",
   "metadata": {},
   "outputs": [
    {
     "data": {
      "text/html": [
       "<pre style=\"white-space:pre;overflow-x:auto;line-height:normal;font-family:Menlo,'DejaVu Sans Mono',consolas,'Courier New',monospace\"><span style=\"color: #800080; text-decoration-color: #800080; font-weight: bold\">Connecting engine server -&gt; </span><span style=\"color: #800080; text-decoration-color: #800080; font-weight: bold; text-decoration: underline\">https://absbox.org/api/dev</span>\n",
       "</pre>\n"
      ],
      "text/plain": [
       "\u001b[1;35mConnecting engine server -> \u001b[0m\u001b[1;4;35mhttps://absbox.org/api/dev\u001b[0m\n"
      ]
     },
     "metadata": {},
     "output_type": "display_data"
    },
    {
     "data": {
      "text/html": [
       "<pre style=\"white-space:pre;overflow-x:auto;line-height:normal;font-family:Menlo,'DejaVu Sans Mono',consolas,'Courier New',monospace\">✅<span style=\"color: #008000; text-decoration-color: #008000; font-weight: bold\">Connected, local lib:0.</span><span style=\"color: #008000; text-decoration-color: #008000; font-weight: bold\">28.7</span><span style=\"color: #008000; text-decoration-color: #008000; font-weight: bold\">, server:</span><span style=\"color: #008000; text-decoration-color: #008000; font-weight: bold\">0.28</span><span style=\"color: #008000; text-decoration-color: #008000; font-weight: bold\">.</span><span style=\"color: #008000; text-decoration-color: #008000; font-weight: bold\">21</span>\n",
       "</pre>\n"
      ],
      "text/plain": [
       "✅\u001b[1;32mConnected, local li\u001b[0m\u001b[1;32mb:0\u001b[0m\u001b[1;32m.\u001b[0m\u001b[1;32m28.7\u001b[0m\u001b[1;32m, server:\u001b[0m\u001b[1;32m0.28\u001b[0m\u001b[1;32m.\u001b[0m\u001b[1;32m21\u001b[0m\n"
      ]
     },
     "metadata": {},
     "output_type": "display_data"
    }
   ],
   "source": [
    "from absbox import API,EnginePath\n",
    "\n",
    "localAPI = API(EnginePath.DEV, lang='english', check=False)"
   ]
  },
  {
   "cell_type": "code",
   "execution_count": 2,
   "id": "32609242",
   "metadata": {},
   "outputs": [],
   "source": [
    "from absbox.examples import mixedAsset_test01"
   ]
  },
  {
   "cell_type": "markdown",
   "id": "a86feba1",
   "metadata": {},
   "source": [
    "#### import a mix-asset-type deal\n",
    "\n",
    "Lets import test case , which has two pools ,`PoolA` , `PoolB`, which holds `Morgage` and `Loan` respectively"
   ]
  },
  {
   "cell_type": "code",
   "execution_count": 3,
   "id": "27bf0b5d",
   "metadata": {},
   "outputs": [
    {
     "data": {
      "text/plain": [
       "{'PoolA': {'assets': [['Mortgage',\n",
       "    {'originBalance': 2200,\n",
       "     'originRate': ['fix', 0.045],\n",
       "     'originTerm': 30,\n",
       "     'freq': 'Monthly',\n",
       "     'type': 'Level',\n",
       "     'originDate': '2021-02-01'},\n",
       "    {'currentBalance': 2200,\n",
       "     'currentRate': 0.08,\n",
       "     'remainTerm': 30,\n",
       "     'status': 'current'}]]},\n",
       " 'PoolB': {'assets': [['Loan',\n",
       "    {'originBalance': 80000,\n",
       "     'originRate': ['floater',\n",
       "      0.045,\n",
       "      {'index': 'SOFR3M', 'spread': 0.01, 'reset': 'QuarterEnd'}],\n",
       "     'originTerm': 60,\n",
       "     'freq': 'Monthly',\n",
       "     'type': 'i_p',\n",
       "     'originDate': '2021-02-01'},\n",
       "    {'currentBalance': 65000,\n",
       "     'currentRate': 0.06,\n",
       "     'remainTerm': 60,\n",
       "     'status': 'Current'}]]}}"
      ]
     },
     "execution_count": 3,
     "metadata": {},
     "output_type": "execute_result"
    }
   ],
   "source": [
    "mixedAsset_test01.pool"
   ]
  },
  {
   "cell_type": "markdown",
   "id": "9d247a90",
   "metadata": {},
   "source": [
    "#### Set assumption by Pool Name"
   ]
  },
  {
   "cell_type": "code",
   "execution_count": 4,
   "id": "8709eeb5",
   "metadata": {},
   "outputs": [
    {
     "ename": "TypeError",
     "evalue": "tuple indices must be integers or slices, not str",
     "output_type": "error",
     "traceback": [
      "\u001b[0;31m---------------------------------------------------------------------------\u001b[0m",
      "\u001b[0;31mTypeError\u001b[0m                                 Traceback (most recent call last)",
      "Cell \u001b[0;32mIn[4], line 1\u001b[0m\n\u001b[0;32m----> 1\u001b[0m r \u001b[38;5;241m=\u001b[39m \u001b[43mlocalAPI\u001b[49m\u001b[38;5;241;43m.\u001b[39;49m\u001b[43mrun\u001b[49m\u001b[43m(\u001b[49m\u001b[43mmixedAsset_test01\u001b[49m\n\u001b[1;32m      2\u001b[0m \u001b[43m                 \u001b[49m\u001b[43m,\u001b[49m\u001b[43mpoolAssump\u001b[49m\u001b[43m \u001b[49m\u001b[38;5;241;43m=\u001b[39;49m\u001b[43m \u001b[49m\u001b[43m(\u001b[49m\u001b[38;5;124;43m\"\u001b[39;49m\u001b[38;5;124;43mByName\u001b[39;49m\u001b[38;5;124;43m\"\u001b[39;49m\n\u001b[1;32m      3\u001b[0m \u001b[43m                                \u001b[49m\u001b[43m,\u001b[49m\u001b[43m{\u001b[49m\u001b[38;5;124;43m\"\u001b[39;49m\u001b[38;5;124;43mPoolA\u001b[39;49m\u001b[38;5;124;43m\"\u001b[39;49m\u001b[43m:\u001b[49m\n\u001b[1;32m      4\u001b[0m \u001b[43m                                      \u001b[49m\u001b[43m(\u001b[49m\u001b[43m(\u001b[49m\u001b[38;5;124;43m\"\u001b[39;49m\u001b[38;5;124;43mMortgage\u001b[39;49m\u001b[38;5;124;43m\"\u001b[39;49m\u001b[43m,\u001b[49m\u001b[43m{\u001b[49m\u001b[38;5;124;43m\"\u001b[39;49m\u001b[38;5;124;43mCDR\u001b[39;49m\u001b[38;5;124;43m\"\u001b[39;49m\u001b[43m:\u001b[49m\u001b[38;5;241;43m0.02\u001b[39;49m\u001b[43m}\u001b[49m\u001b[43m \u001b[49m\u001b[43m,\u001b[49m\u001b[38;5;28;43;01mNone\u001b[39;49;00m\u001b[43m,\u001b[49m\u001b[43m \u001b[49m\u001b[38;5;28;43;01mNone\u001b[39;49;00m\u001b[43m,\u001b[49m\u001b[43m \u001b[49m\u001b[38;5;28;43;01mNone\u001b[39;49;00m\u001b[43m)\u001b[49m\n\u001b[1;32m      5\u001b[0m \u001b[43m                                       \u001b[49m\u001b[43m,\u001b[49m\u001b[38;5;28;43;01mNone\u001b[39;49;00m\n\u001b[1;32m      6\u001b[0m \u001b[43m                                       \u001b[49m\u001b[43m,\u001b[49m\u001b[38;5;28;43;01mNone\u001b[39;49;00m\u001b[43m)\u001b[49m\n\u001b[1;32m      7\u001b[0m \u001b[43m                                \u001b[49m\u001b[43m,\u001b[49m\u001b[38;5;124;43m\"\u001b[39;49m\u001b[38;5;124;43mPoolB\u001b[39;49m\u001b[38;5;124;43m\"\u001b[39;49m\u001b[43m:\u001b[49m\n\u001b[1;32m      8\u001b[0m \u001b[43m                                  \u001b[49m\u001b[43m(\u001b[49m\u001b[43m(\u001b[49m\u001b[38;5;124;43m\"\u001b[39;49m\u001b[38;5;124;43mLoan\u001b[39;49m\u001b[38;5;124;43m\"\u001b[39;49m\u001b[43m,\u001b[49m\u001b[43m{\u001b[49m\u001b[38;5;124;43m\"\u001b[39;49m\u001b[38;5;124;43mCDR\u001b[39;49m\u001b[38;5;124;43m\"\u001b[39;49m\u001b[43m:\u001b[49m\u001b[38;5;241;43m0.01\u001b[39;49m\u001b[43m}\u001b[49m\u001b[43m \u001b[49m\u001b[43m,\u001b[49m\u001b[38;5;28;43;01mNone\u001b[39;49;00m\u001b[43m,\u001b[49m\u001b[43m \u001b[49m\u001b[38;5;28;43;01mNone\u001b[39;49;00m\u001b[43m,\u001b[49m\u001b[43m \u001b[49m\u001b[38;5;28;43;01mNone\u001b[39;49;00m\u001b[43m)\u001b[49m\n\u001b[1;32m      9\u001b[0m \u001b[43m                                   \u001b[49m\u001b[43m,\u001b[49m\u001b[38;5;28;43;01mNone\u001b[39;49;00m\n\u001b[1;32m     10\u001b[0m \u001b[43m                                   \u001b[49m\u001b[43m,\u001b[49m\u001b[38;5;28;43;01mNone\u001b[39;49;00m\u001b[43m)\u001b[49m\u001b[43m}\u001b[49m\n\u001b[1;32m     11\u001b[0m \u001b[43m                                \u001b[49m\u001b[43m)\u001b[49m\n\u001b[1;32m     12\u001b[0m \u001b[43m                 \u001b[49m\u001b[43m,\u001b[49m\u001b[43mrunAssump\u001b[49m\u001b[43m \u001b[49m\u001b[38;5;241;43m=\u001b[39;49m\u001b[43m \u001b[49m\u001b[43m[\u001b[49m\u001b[43m(\u001b[49m\u001b[38;5;124;43m\"\u001b[39;49m\u001b[38;5;124;43minterest\u001b[39;49m\u001b[38;5;124;43m\"\u001b[39;49m\u001b[43m,\u001b[49m\u001b[43m(\u001b[49m\u001b[38;5;124;43m\"\u001b[39;49m\u001b[38;5;124;43mLIBOR6M\u001b[39;49m\u001b[38;5;124;43m\"\u001b[39;49m\u001b[43m,\u001b[49m\u001b[38;5;241;43m0.04\u001b[39;49m\u001b[43m)\u001b[49m\n\u001b[1;32m     13\u001b[0m \u001b[43m                                           \u001b[49m\u001b[43m,\u001b[49m\u001b[43m(\u001b[49m\u001b[38;5;124;43m\"\u001b[39;49m\u001b[38;5;124;43mSOFR3M\u001b[39;49m\u001b[38;5;124;43m\"\u001b[39;49m\u001b[43m,\u001b[49m\u001b[38;5;241;43m0.04\u001b[39;49m\u001b[43m)\u001b[49m\u001b[43m)\u001b[49m\n\u001b[1;32m     14\u001b[0m \u001b[43m                               \u001b[49m\u001b[43m,\u001b[49m\u001b[43m(\u001b[49m\u001b[38;5;124;43m\"\u001b[39;49m\u001b[38;5;124;43minspect\u001b[39;49m\u001b[38;5;124;43m\"\u001b[39;49m\u001b[43m,\u001b[49m\u001b[43m(\u001b[49m\u001b[38;5;124;43m\"\u001b[39;49m\u001b[38;5;124;43mMonthEnd\u001b[39;49m\u001b[38;5;124;43m\"\u001b[39;49m\u001b[43m,\u001b[49m\u001b[43m(\u001b[49m\u001b[38;5;124;43m\"\u001b[39;49m\u001b[38;5;124;43mpoolBalance\u001b[39;49m\u001b[38;5;124;43m\"\u001b[39;49m\u001b[43m,\u001b[49m\u001b[38;5;124;43m\"\u001b[39;49m\u001b[38;5;124;43mPoolB\u001b[39;49m\u001b[38;5;124;43m\"\u001b[39;49m\u001b[43m)\u001b[49m\u001b[43m)\u001b[49m\n\u001b[1;32m     15\u001b[0m \u001b[43m                                          \u001b[49m\u001b[43m,\u001b[49m\u001b[43m(\u001b[49m\u001b[38;5;124;43m\"\u001b[39;49m\u001b[38;5;124;43mMonthEnd\u001b[39;49m\u001b[38;5;124;43m\"\u001b[39;49m\u001b[43m,\u001b[49m\u001b[43m(\u001b[49m\u001b[38;5;124;43m\"\u001b[39;49m\u001b[38;5;124;43mpoolBalance\u001b[39;49m\u001b[38;5;124;43m\"\u001b[39;49m\u001b[43m,\u001b[49m\u001b[38;5;124;43m\"\u001b[39;49m\u001b[38;5;124;43mPoolA\u001b[39;49m\u001b[38;5;124;43m\"\u001b[39;49m\u001b[43m)\u001b[49m\u001b[43m)\u001b[49m\n\u001b[1;32m     16\u001b[0m \u001b[43m                                \u001b[49m\u001b[43m)\u001b[49m\u001b[43m]\u001b[49m\n\u001b[1;32m     17\u001b[0m \u001b[43m                 \u001b[49m\u001b[43m,\u001b[49m\u001b[43mread\u001b[49m\u001b[38;5;241;43m=\u001b[39;49m\u001b[38;5;28;43;01mTrue\u001b[39;49;00m\u001b[43m)\u001b[49m\n",
      "File \u001b[0;32m~/Projects/PyABS/absbox/client.py:343\u001b[0m, in \u001b[0;36mAPI.run\u001b[0;34m(self, deal, poolAssump, runAssump, read, showWarning, debug)\u001b[0m\n\u001b[1;32m    341\u001b[0m \u001b[38;5;66;03m# construct request\u001b[39;00m\n\u001b[1;32m    342\u001b[0m runType \u001b[38;5;241m=\u001b[39m \u001b[38;5;124m\"\u001b[39m\u001b[38;5;124mSingle\u001b[39m\u001b[38;5;124m\"\u001b[39m\n\u001b[0;32m--> 343\u001b[0m req \u001b[38;5;241m=\u001b[39m \u001b[38;5;28;43mself\u001b[39;49m\u001b[38;5;241;43m.\u001b[39;49m\u001b[43mbuild_run_deal_req\u001b[49m\u001b[43m(\u001b[49m\u001b[43mrunType\u001b[49m\u001b[43m,\u001b[49m\u001b[43m \u001b[49m\u001b[43mdeal\u001b[49m\u001b[43m,\u001b[49m\u001b[43m \u001b[49m\u001b[43mpoolAssump\u001b[49m\u001b[43m,\u001b[49m\u001b[43m \u001b[49m\u001b[43mrunAssump\u001b[49m\u001b[43m)\u001b[49m\n\u001b[1;32m    344\u001b[0m \u001b[38;5;28;01mif\u001b[39;00m debug:\n\u001b[1;32m    345\u001b[0m     \u001b[38;5;28;01mreturn\u001b[39;00m req\n",
      "File \u001b[0;32m~/Projects/PyABS/absbox/client.py:256\u001b[0m, in \u001b[0;36mAPI.build_run_deal_req\u001b[0;34m(self, run_type, deal, perfAssump, nonPerfAssump)\u001b[0m\n\u001b[1;32m    254\u001b[0m \u001b[38;5;28;01mmatch\u001b[39;00m Schema(\u001b[38;5;28mstr\u001b[39m)\u001b[38;5;241m.\u001b[39mvalidate(run_type):\n\u001b[1;32m    255\u001b[0m     \u001b[38;5;28;01mcase\u001b[39;00m \u001b[38;5;124m\"\u001b[39m\u001b[38;5;124mSingle\u001b[39m\u001b[38;5;124m\"\u001b[39m \u001b[38;5;241m|\u001b[39m \u001b[38;5;124m\"\u001b[39m\u001b[38;5;124mS\u001b[39m\u001b[38;5;124m\"\u001b[39m:\n\u001b[0;32m--> 256\u001b[0m         _deal \u001b[38;5;241m=\u001b[39m deal\u001b[38;5;241m.\u001b[39mjson \u001b[38;5;28;01mif\u001b[39;00m \u001b[38;5;28;43mhasattr\u001b[39;49m\u001b[43m(\u001b[49m\u001b[43mdeal\u001b[49m\u001b[43m,\u001b[49m\u001b[43m \u001b[49m\u001b[38;5;124;43m\"\u001b[39;49m\u001b[38;5;124;43mjson\u001b[39;49m\u001b[38;5;124;43m\"\u001b[39;49m\u001b[43m)\u001b[49m \u001b[38;5;28;01melse\u001b[39;00m deal\n\u001b[1;32m    257\u001b[0m         _perfAssump \u001b[38;5;241m=\u001b[39m earlyReturnNone(mkAssumpType, perfAssump)\n\u001b[1;32m    258\u001b[0m         r \u001b[38;5;241m=\u001b[39m mkTag((RunReqType\u001b[38;5;241m.\u001b[39mSingle\u001b[38;5;241m.\u001b[39mvalue, [_deal, _perfAssump, _nonPerfAssump]))\n",
      "File \u001b[0;32m~/Projects/PyABS/absbox/local/generic.py:53\u001b[0m, in \u001b[0;36mGeneric.json\u001b[0;34m(self)\u001b[0m\n\u001b[1;32m     51\u001b[0m parsedDates \u001b[38;5;241m=\u001b[39m mkDate(\u001b[38;5;28mself\u001b[39m\u001b[38;5;241m.\u001b[39mdates)\n\u001b[1;32m     52\u001b[0m (lastAssetDate, lastCloseDate) \u001b[38;5;241m=\u001b[39m getStartDate(\u001b[38;5;28mself\u001b[39m\u001b[38;5;241m.\u001b[39mdates)\n\u001b[0;32m---> 53\u001b[0m mixedAssetFlag \u001b[38;5;241m=\u001b[39m \u001b[43misMixedDeal\u001b[49m\u001b[43m(\u001b[49m\u001b[38;5;28;43mself\u001b[39;49m\u001b[38;5;241;43m.\u001b[39;49m\u001b[43mpool\u001b[49m\u001b[43m)\u001b[49m\n\u001b[1;32m     54\u001b[0m \u001b[38;5;250m\u001b[39m\u001b[38;5;124;03m\"\"\"\u001b[39;00m\n\u001b[1;32m     55\u001b[0m \u001b[38;5;124;03mget the json formatted string\u001b[39;00m\n\u001b[1;32m     56\u001b[0m \u001b[38;5;124;03m\"\"\"\u001b[39;00m\n\u001b[1;32m     57\u001b[0m _r \u001b[38;5;241m=\u001b[39m {\n\u001b[1;32m     58\u001b[0m     \u001b[38;5;124m\"\u001b[39m\u001b[38;5;124mdates\u001b[39m\u001b[38;5;124m\"\u001b[39m: parsedDates,\n\u001b[1;32m     59\u001b[0m     \u001b[38;5;124m\"\u001b[39m\u001b[38;5;124mname\u001b[39m\u001b[38;5;124m\"\u001b[39m: vStr(\u001b[38;5;28mself\u001b[39m\u001b[38;5;241m.\u001b[39mname),\n\u001b[0;32m   (...)\u001b[0m\n\u001b[1;32m     74\u001b[0m     \u001b[38;5;124m\"\u001b[39m\u001b[38;5;124mledgers\u001b[39m\u001b[38;5;124m\"\u001b[39m: {ln: mkLedger(ln, v) \u001b[38;5;28;01mfor\u001b[39;00m ln,v \u001b[38;5;129;01min\u001b[39;00m \u001b[38;5;28mself\u001b[39m\u001b[38;5;241m.\u001b[39mledgers\u001b[38;5;241m.\u001b[39mitems()} \u001b[38;5;28;01mif\u001b[39;00m \u001b[38;5;28mself\u001b[39m\u001b[38;5;241m.\u001b[39mledgers \u001b[38;5;28;01melse\u001b[39;00m \u001b[38;5;28;01mNone\u001b[39;00m\n\u001b[1;32m     75\u001b[0m }\n",
      "File \u001b[0;32m~/Projects/PyABS/absbox/local/util.py:431\u001b[0m, in \u001b[0;36misMixedDeal\u001b[0;34m(x)\u001b[0m\n\u001b[1;32m    429\u001b[0m     \u001b[38;5;28;01mreturn\u001b[39;00m \u001b[38;5;28;01mFalse\u001b[39;00m\n\u001b[1;32m    430\u001b[0m \u001b[38;5;66;03m# assetTags = query(x, [S.MVALS, S.ALL, 'assets', S.FIRST, S.FIRST])\u001b[39;00m\n\u001b[0;32m--> 431\u001b[0m assetTags \u001b[38;5;241m=\u001b[39m \u001b[43mx\u001b[49m\u001b[43m \u001b[49m\u001b[38;5;241;43m&\u001b[39;49m\u001b[43m \u001b[49m\u001b[43mlens\u001b[49m\u001b[38;5;241;43m.\u001b[39;49m\u001b[43mValues\u001b[49m\u001b[43m(\u001b[49m\u001b[43m)\u001b[49m\u001b[38;5;241;43m.\u001b[39;49m\u001b[43mEach\u001b[49m\u001b[43m(\u001b[49m\u001b[43m)\u001b[49m\u001b[43m[\u001b[49m\u001b[38;5;124;43m'\u001b[39;49m\u001b[38;5;124;43massets\u001b[39;49m\u001b[38;5;124;43m'\u001b[39;49m\u001b[43m]\u001b[49m\u001b[43m[\u001b[49m\u001b[38;5;241;43m0\u001b[39;49m\u001b[43m]\u001b[49m\u001b[43m[\u001b[49m\u001b[38;5;241;43m0\u001b[39;49m\u001b[43m]\u001b[49m\u001b[38;5;241;43m.\u001b[39;49m\u001b[43mcollect\u001b[49m\u001b[43m(\u001b[49m\u001b[43m)\u001b[49m\n\u001b[1;32m    432\u001b[0m \u001b[38;5;28;01mif\u001b[39;00m \u001b[38;5;28mlen\u001b[39m(\u001b[38;5;28mset\u001b[39m(assetTags)) \u001b[38;5;241m>\u001b[39m \u001b[38;5;241m1\u001b[39m:\n\u001b[1;32m    433\u001b[0m     \u001b[38;5;28;01mreturn\u001b[39;00m \u001b[38;5;28;01mTrue\u001b[39;00m\n",
      "File \u001b[0;32m/opt/homebrew/lib/python3.11/site-packages/lenses/ui/state_func.py:22\u001b[0m, in \u001b[0;36mStateFunction.__rand__\u001b[0;34m(self, other)\u001b[0m\n\u001b[1;32m     21\u001b[0m \u001b[38;5;28;01mdef\u001b[39;00m \u001b[38;5;21m__rand__\u001b[39m(\u001b[38;5;28mself\u001b[39m, other: Argument) \u001b[38;5;241m-\u001b[39m\u001b[38;5;241m>\u001b[39m Result:\n\u001b[0;32m---> 22\u001b[0m     \u001b[38;5;28;01mreturn\u001b[39;00m \u001b[38;5;28;43mself\u001b[39;49m\u001b[38;5;241;43m.\u001b[39;49m\u001b[43mfunc\u001b[49m\u001b[43m(\u001b[49m\u001b[43mother\u001b[49m\u001b[43m)\u001b[49m\n",
      "File \u001b[0;32m/opt/homebrew/lib/python3.11/site-packages/lenses/ui/__init__.py:54\u001b[0m, in \u001b[0;36mUnboundLens.collect.<locals>.getter\u001b[0;34m(state)\u001b[0m\n\u001b[1;32m     53\u001b[0m \u001b[38;5;28;01mdef\u001b[39;00m \u001b[38;5;21mgetter\u001b[39m(state):\n\u001b[0;32m---> 54\u001b[0m     \u001b[38;5;28;01mreturn\u001b[39;00m \u001b[38;5;28;43mself\u001b[39;49m\u001b[38;5;241;43m.\u001b[39;49m\u001b[43m_optic\u001b[49m\u001b[38;5;241;43m.\u001b[39;49m\u001b[43mto_list_of\u001b[49m\u001b[43m(\u001b[49m\u001b[43mstate\u001b[49m\u001b[43m)\u001b[49m\n",
      "File \u001b[0;32m/opt/homebrew/lib/python3.11/site-packages/lenses/optics/base.py:200\u001b[0m, in \u001b[0;36mLensLike.to_list_of\u001b[0;34m(self, state)\u001b[0m\n\u001b[1;32m    197\u001b[0m \u001b[38;5;28;01mdef\u001b[39;00m \u001b[38;5;21mfunc\u001b[39m(a: X) \u001b[38;5;241m-\u001b[39m\u001b[38;5;241m>\u001b[39m Const[List[X], Y]:\n\u001b[1;32m    198\u001b[0m     \u001b[38;5;28;01mreturn\u001b[39;00m Const([a])\n\u001b[0;32m--> 200\u001b[0m \u001b[38;5;28;01mreturn\u001b[39;00m \u001b[38;5;28;43mself\u001b[39;49m\u001b[38;5;241;43m.\u001b[39;49m\u001b[43mapply\u001b[49m\u001b[43m(\u001b[49m\u001b[43mfunc\u001b[49m\u001b[43m,\u001b[49m\u001b[43m \u001b[49m\u001b[43mpure\u001b[49m\u001b[43m,\u001b[49m\u001b[43m \u001b[49m\u001b[43mstate\u001b[49m\u001b[43m)\u001b[49m\u001b[38;5;241m.\u001b[39munwrap()\n",
      "File \u001b[0;32m/opt/homebrew/lib/python3.11/site-packages/lenses/optics/base.py:145\u001b[0m, in \u001b[0;36mLensLike.apply\u001b[0;34m(self, f, pure, state)\u001b[0m\n\u001b[1;32m    137\u001b[0m \u001b[38;5;28;01mdef\u001b[39;00m \u001b[38;5;21mapply\u001b[39m(\u001b[38;5;28mself\u001b[39m, f, pure, state):\n\u001b[1;32m    138\u001b[0m \u001b[38;5;250m    \u001b[39m\u001b[38;5;124;03m\"\"\"Runs the lens over the `state` applying `f` to all the foci\u001b[39;00m\n\u001b[1;32m    139\u001b[0m \u001b[38;5;124;03m    collecting the results together using the applicative functor\u001b[39;00m\n\u001b[1;32m    140\u001b[0m \u001b[38;5;124;03m    functions defined in `lenses.typeclass`. `f` must return an\u001b[39;00m\n\u001b[0;32m   (...)\u001b[0m\n\u001b[1;32m    143\u001b[0m \u001b[38;5;124;03m    pure form of the functor returned by `f`.\u001b[39;00m\n\u001b[1;32m    144\u001b[0m \u001b[38;5;124;03m    \"\"\"\u001b[39;00m\n\u001b[0;32m--> 145\u001b[0m     \u001b[38;5;28;01mreturn\u001b[39;00m \u001b[38;5;28;43mself\u001b[39;49m\u001b[38;5;241;43m.\u001b[39;49m\u001b[43mfunc\u001b[49m\u001b[43m(\u001b[49m\u001b[43mFunctorisor\u001b[49m\u001b[43m(\u001b[49m\u001b[43mpure\u001b[49m\u001b[43m,\u001b[49m\u001b[43m \u001b[49m\u001b[43mf\u001b[49m\u001b[43m)\u001b[49m\u001b[43m,\u001b[49m\u001b[43m \u001b[49m\u001b[43mstate\u001b[49m\u001b[43m)\u001b[49m\n",
      "File \u001b[0;32m/opt/homebrew/lib/python3.11/site-packages/lenses/optics/base.py:633\u001b[0m, in \u001b[0;36mComposedLens.func\u001b[0;34m(self, f, state)\u001b[0m\n\u001b[1;32m    630\u001b[0m \u001b[38;5;28;01mfor\u001b[39;00m lens \u001b[38;5;129;01min\u001b[39;00m \u001b[38;5;28mreversed\u001b[39m(\u001b[38;5;28mself\u001b[39m\u001b[38;5;241m.\u001b[39mlenses):\n\u001b[1;32m    631\u001b[0m     res \u001b[38;5;241m=\u001b[39m res\u001b[38;5;241m.\u001b[39mupdate(lens\u001b[38;5;241m.\u001b[39mfunc)\n\u001b[0;32m--> 633\u001b[0m \u001b[38;5;28;01mreturn\u001b[39;00m \u001b[43mres\u001b[49m\u001b[43m(\u001b[49m\u001b[43mstate\u001b[49m\u001b[43m)\u001b[49m\n",
      "File \u001b[0;32m/opt/homebrew/lib/python3.11/site-packages/lenses/functorisor.py:27\u001b[0m, in \u001b[0;36mFunctorisor.__call__\u001b[0;34m(self, arg)\u001b[0m\n\u001b[1;32m     26\u001b[0m \u001b[38;5;28;01mdef\u001b[39;00m \u001b[38;5;21m__call__\u001b[39m(\u001b[38;5;28mself\u001b[39m, arg):\n\u001b[0;32m---> 27\u001b[0m     \u001b[38;5;28;01mreturn\u001b[39;00m \u001b[38;5;28;43mself\u001b[39;49m\u001b[38;5;241;43m.\u001b[39;49m\u001b[43mfunc\u001b[49m\u001b[43m(\u001b[49m\u001b[43marg\u001b[49m\u001b[43m)\u001b[49m\n",
      "File \u001b[0;32m/opt/homebrew/lib/python3.11/site-packages/lenses/functorisor.py:36\u001b[0m, in \u001b[0;36mFunctorisor.update.<locals>.<lambda>\u001b[0;34m(state)\u001b[0m\n\u001b[1;32m     35\u001b[0m \u001b[38;5;28;01mdef\u001b[39;00m \u001b[38;5;21mupdate\u001b[39m(\u001b[38;5;28mself\u001b[39m, fn):\n\u001b[0;32m---> 36\u001b[0m     \u001b[38;5;28;01mreturn\u001b[39;00m Functorisor(\u001b[38;5;28mself\u001b[39m\u001b[38;5;241m.\u001b[39mpure, \u001b[38;5;28;01mlambda\u001b[39;00m state: \u001b[43mfn\u001b[49m\u001b[43m(\u001b[49m\u001b[38;5;28;43mself\u001b[39;49m\u001b[43m,\u001b[49m\u001b[43m \u001b[49m\u001b[43mstate\u001b[49m\u001b[43m)\u001b[49m)\n",
      "File \u001b[0;32m/opt/homebrew/lib/python3.11/site-packages/lenses/optics/base.py:390\u001b[0m, in \u001b[0;36mTraversal.func\u001b[0;34m(self, f, state)\u001b[0m\n\u001b[1;32m    388\u001b[0m     \u001b[38;5;28;01mreturn\u001b[39;00m f\u001b[38;5;241m.\u001b[39mpure(state)\n\u001b[1;32m    389\u001b[0m collector \u001b[38;5;241m=\u001b[39m collect_args(\u001b[38;5;28mlen\u001b[39m(foci))\n\u001b[0;32m--> 390\u001b[0m applied \u001b[38;5;241m=\u001b[39m multiap(collector, \u001b[38;5;241m*\u001b[39m\u001b[38;5;28mmap\u001b[39m(f, foci))\n\u001b[1;32m    391\u001b[0m apbuilder \u001b[38;5;241m=\u001b[39m functools\u001b[38;5;241m.\u001b[39mpartial(\u001b[38;5;28mself\u001b[39m\u001b[38;5;241m.\u001b[39mbuilder, state)\n\u001b[1;32m    392\u001b[0m \u001b[38;5;28;01mreturn\u001b[39;00m typeclass\u001b[38;5;241m.\u001b[39mfmap(applied, apbuilder)\n",
      "File \u001b[0;32m/opt/homebrew/lib/python3.11/site-packages/lenses/functorisor.py:27\u001b[0m, in \u001b[0;36mFunctorisor.__call__\u001b[0;34m(self, arg)\u001b[0m\n\u001b[1;32m     26\u001b[0m \u001b[38;5;28;01mdef\u001b[39;00m \u001b[38;5;21m__call__\u001b[39m(\u001b[38;5;28mself\u001b[39m, arg):\n\u001b[0;32m---> 27\u001b[0m     \u001b[38;5;28;01mreturn\u001b[39;00m \u001b[38;5;28;43mself\u001b[39;49m\u001b[38;5;241;43m.\u001b[39;49m\u001b[43mfunc\u001b[49m\u001b[43m(\u001b[49m\u001b[43marg\u001b[49m\u001b[43m)\u001b[49m\n",
      "File \u001b[0;32m/opt/homebrew/lib/python3.11/site-packages/lenses/functorisor.py:36\u001b[0m, in \u001b[0;36mFunctorisor.update.<locals>.<lambda>\u001b[0;34m(state)\u001b[0m\n\u001b[1;32m     35\u001b[0m \u001b[38;5;28;01mdef\u001b[39;00m \u001b[38;5;21mupdate\u001b[39m(\u001b[38;5;28mself\u001b[39m, fn):\n\u001b[0;32m---> 36\u001b[0m     \u001b[38;5;28;01mreturn\u001b[39;00m Functorisor(\u001b[38;5;28mself\u001b[39m\u001b[38;5;241m.\u001b[39mpure, \u001b[38;5;28;01mlambda\u001b[39;00m state: \u001b[43mfn\u001b[49m\u001b[43m(\u001b[49m\u001b[38;5;28;43mself\u001b[39;49m\u001b[43m,\u001b[49m\u001b[43m \u001b[49m\u001b[43mstate\u001b[49m\u001b[43m)\u001b[49m)\n",
      "File \u001b[0;32m/opt/homebrew/lib/python3.11/site-packages/lenses/optics/base.py:429\u001b[0m, in \u001b[0;36mLens.func\u001b[0;34m(self, f, state)\u001b[0m\n\u001b[1;32m    427\u001b[0m \u001b[38;5;28;01mdef\u001b[39;00m \u001b[38;5;21mfunc\u001b[39m(\u001b[38;5;28mself\u001b[39m, f, state):\n\u001b[1;32m    428\u001b[0m     old_value \u001b[38;5;241m=\u001b[39m \u001b[38;5;28mself\u001b[39m\u001b[38;5;241m.\u001b[39mgetter(state)\n\u001b[0;32m--> 429\u001b[0m     fa \u001b[38;5;241m=\u001b[39m \u001b[43mf\u001b[49m\u001b[43m(\u001b[49m\u001b[43mold_value\u001b[49m\u001b[43m)\u001b[49m\n\u001b[1;32m    430\u001b[0m     \u001b[38;5;28;01mreturn\u001b[39;00m typeclass\u001b[38;5;241m.\u001b[39mfmap(fa, \u001b[38;5;28;01mlambda\u001b[39;00m a: \u001b[38;5;28mself\u001b[39m\u001b[38;5;241m.\u001b[39msetter(state, a))\n",
      "File \u001b[0;32m/opt/homebrew/lib/python3.11/site-packages/lenses/functorisor.py:27\u001b[0m, in \u001b[0;36mFunctorisor.__call__\u001b[0;34m(self, arg)\u001b[0m\n\u001b[1;32m     26\u001b[0m \u001b[38;5;28;01mdef\u001b[39;00m \u001b[38;5;21m__call__\u001b[39m(\u001b[38;5;28mself\u001b[39m, arg):\n\u001b[0;32m---> 27\u001b[0m     \u001b[38;5;28;01mreturn\u001b[39;00m \u001b[38;5;28;43mself\u001b[39;49m\u001b[38;5;241;43m.\u001b[39;49m\u001b[43mfunc\u001b[49m\u001b[43m(\u001b[49m\u001b[43marg\u001b[49m\u001b[43m)\u001b[49m\n",
      "File \u001b[0;32m/opt/homebrew/lib/python3.11/site-packages/lenses/functorisor.py:36\u001b[0m, in \u001b[0;36mFunctorisor.update.<locals>.<lambda>\u001b[0;34m(state)\u001b[0m\n\u001b[1;32m     35\u001b[0m \u001b[38;5;28;01mdef\u001b[39;00m \u001b[38;5;21mupdate\u001b[39m(\u001b[38;5;28mself\u001b[39m, fn):\n\u001b[0;32m---> 36\u001b[0m     \u001b[38;5;28;01mreturn\u001b[39;00m Functorisor(\u001b[38;5;28mself\u001b[39m\u001b[38;5;241m.\u001b[39mpure, \u001b[38;5;28;01mlambda\u001b[39;00m state: \u001b[43mfn\u001b[49m\u001b[43m(\u001b[49m\u001b[38;5;28;43mself\u001b[39;49m\u001b[43m,\u001b[49m\u001b[43m \u001b[49m\u001b[43mstate\u001b[49m\u001b[43m)\u001b[49m)\n",
      "File \u001b[0;32m/opt/homebrew/lib/python3.11/site-packages/lenses/optics/base.py:390\u001b[0m, in \u001b[0;36mTraversal.func\u001b[0;34m(self, f, state)\u001b[0m\n\u001b[1;32m    388\u001b[0m     \u001b[38;5;28;01mreturn\u001b[39;00m f\u001b[38;5;241m.\u001b[39mpure(state)\n\u001b[1;32m    389\u001b[0m collector \u001b[38;5;241m=\u001b[39m collect_args(\u001b[38;5;28mlen\u001b[39m(foci))\n\u001b[0;32m--> 390\u001b[0m applied \u001b[38;5;241m=\u001b[39m multiap(collector, \u001b[38;5;241m*\u001b[39m\u001b[38;5;28mmap\u001b[39m(f, foci))\n\u001b[1;32m    391\u001b[0m apbuilder \u001b[38;5;241m=\u001b[39m functools\u001b[38;5;241m.\u001b[39mpartial(\u001b[38;5;28mself\u001b[39m\u001b[38;5;241m.\u001b[39mbuilder, state)\n\u001b[1;32m    392\u001b[0m \u001b[38;5;28;01mreturn\u001b[39;00m typeclass\u001b[38;5;241m.\u001b[39mfmap(applied, apbuilder)\n",
      "File \u001b[0;32m/opt/homebrew/lib/python3.11/site-packages/lenses/functorisor.py:27\u001b[0m, in \u001b[0;36mFunctorisor.__call__\u001b[0;34m(self, arg)\u001b[0m\n\u001b[1;32m     26\u001b[0m \u001b[38;5;28;01mdef\u001b[39;00m \u001b[38;5;21m__call__\u001b[39m(\u001b[38;5;28mself\u001b[39m, arg):\n\u001b[0;32m---> 27\u001b[0m     \u001b[38;5;28;01mreturn\u001b[39;00m \u001b[38;5;28;43mself\u001b[39;49m\u001b[38;5;241;43m.\u001b[39;49m\u001b[43mfunc\u001b[49m\u001b[43m(\u001b[49m\u001b[43marg\u001b[49m\u001b[43m)\u001b[49m\n",
      "File \u001b[0;32m/opt/homebrew/lib/python3.11/site-packages/lenses/functorisor.py:36\u001b[0m, in \u001b[0;36mFunctorisor.update.<locals>.<lambda>\u001b[0;34m(state)\u001b[0m\n\u001b[1;32m     35\u001b[0m \u001b[38;5;28;01mdef\u001b[39;00m \u001b[38;5;21mupdate\u001b[39m(\u001b[38;5;28mself\u001b[39m, fn):\n\u001b[0;32m---> 36\u001b[0m     \u001b[38;5;28;01mreturn\u001b[39;00m Functorisor(\u001b[38;5;28mself\u001b[39m\u001b[38;5;241m.\u001b[39mpure, \u001b[38;5;28;01mlambda\u001b[39;00m state: \u001b[43mfn\u001b[49m\u001b[43m(\u001b[49m\u001b[38;5;28;43mself\u001b[39;49m\u001b[43m,\u001b[49m\u001b[43m \u001b[49m\u001b[43mstate\u001b[49m\u001b[43m)\u001b[49m)\n",
      "File \u001b[0;32m/opt/homebrew/lib/python3.11/site-packages/lenses/optics/base.py:428\u001b[0m, in \u001b[0;36mLens.func\u001b[0;34m(self, f, state)\u001b[0m\n\u001b[1;32m    427\u001b[0m \u001b[38;5;28;01mdef\u001b[39;00m \u001b[38;5;21mfunc\u001b[39m(\u001b[38;5;28mself\u001b[39m, f, state):\n\u001b[0;32m--> 428\u001b[0m     old_value \u001b[38;5;241m=\u001b[39m \u001b[38;5;28;43mself\u001b[39;49m\u001b[38;5;241;43m.\u001b[39;49m\u001b[43mgetter\u001b[49m\u001b[43m(\u001b[49m\u001b[43mstate\u001b[49m\u001b[43m)\u001b[49m\n\u001b[1;32m    429\u001b[0m     fa \u001b[38;5;241m=\u001b[39m f(old_value)\n\u001b[1;32m    430\u001b[0m     \u001b[38;5;28;01mreturn\u001b[39;00m typeclass\u001b[38;5;241m.\u001b[39mfmap(fa, \u001b[38;5;28;01mlambda\u001b[39;00m a: \u001b[38;5;28mself\u001b[39m\u001b[38;5;241m.\u001b[39msetter(state, a))\n",
      "File \u001b[0;32m/opt/homebrew/lib/python3.11/site-packages/lenses/optics/true_lenses.py:92\u001b[0m, in \u001b[0;36mGetitemLens.getter\u001b[0;34m(self, state)\u001b[0m\n\u001b[1;32m     91\u001b[0m \u001b[38;5;28;01mdef\u001b[39;00m \u001b[38;5;21mgetter\u001b[39m(\u001b[38;5;28mself\u001b[39m, state):\n\u001b[0;32m---> 92\u001b[0m     \u001b[38;5;28;01mreturn\u001b[39;00m \u001b[43mstate\u001b[49m\u001b[43m[\u001b[49m\u001b[38;5;28;43mself\u001b[39;49m\u001b[38;5;241;43m.\u001b[39;49m\u001b[43mkey\u001b[49m\u001b[43m]\u001b[49m\n",
      "\u001b[0;31mTypeError\u001b[0m: tuple indices must be integers or slices, not str"
     ]
    }
   ],
   "source": [
    "r = localAPI.run(mixedAsset_test01\n",
    "                 ,poolAssump = (\"ByName\"\n",
    "                                ,{\"PoolA\":\n",
    "                                      ((\"Mortgage\",{\"CDR\":0.02} ,None, None, None)\n",
    "                                       ,None\n",
    "                                       ,None)\n",
    "                                ,\"PoolB\":\n",
    "                                  ((\"Loan\",{\"CDR\":0.01} ,None, None, None)\n",
    "                                   ,None\n",
    "                                   ,None)}\n",
    "                                )\n",
    "                 ,runAssump = [(\"interest\",(\"LIBOR6M\",0.04)\n",
    "                                           ,(\"SOFR3M\",0.04))\n",
    "                               ,(\"inspect\",(\"MonthEnd\",(\"poolBalance\",\"PoolB\"))\n",
    "                                          ,(\"MonthEnd\",(\"poolBalance\",\"PoolA\"))\n",
    "                                )]\n",
    "                 ,read=True)"
   ]
  },
  {
   "cell_type": "code",
   "execution_count": 8,
   "id": "bb952f97",
   "metadata": {},
   "outputs": [],
   "source": [
    "from lenses import lens"
   ]
  },
  {
   "cell_type": "code",
   "execution_count": 22,
   "id": "5f638214",
   "metadata": {},
   "outputs": [],
   "source": [
    "def isMixedDeal(x: dict) -> bool:\n",
    "    ''' check if pool of deals has mixed asset types'''    \n",
    "    if 'assets' in x or 'cashflow' in x:\n",
    "        return False\n",
    "    if '清单' in x or '归集表' in x:\n",
    "        return False\n",
    "    if 'deals' in x:\n",
    "        return False\n",
    "    assetTags = x & lens.Values().Each()[1][0][0].collect()\n",
    "    if len(set(assetTags)) > 1:\n",
    "        return True\n",
    "    return False"
   ]
  },
  {
   "cell_type": "code",
   "execution_count": 23,
   "id": "14d6891e",
   "metadata": {},
   "outputs": [
    {
     "data": {
      "text/plain": [
       "['Mortgage', 'Loan']"
      ]
     },
     "execution_count": 23,
     "metadata": {},
     "output_type": "execute_result"
    }
   ],
   "source": [
    "mixedAsset_test01.pool & lens.Values().Each()[1][0][0].collect()"
   ]
  },
  {
   "cell_type": "code",
   "execution_count": 24,
   "id": "52951c4d",
   "metadata": {},
   "outputs": [
    {
     "data": {
      "text/plain": [
       "True"
      ]
     },
     "execution_count": 24,
     "metadata": {},
     "output_type": "execute_result"
    }
   ],
   "source": [
    "isMixedDeal(mixedAsset_test01.pool)"
   ]
  },
  {
   "cell_type": "code",
   "execution_count": 5,
   "id": "90f4b7cd",
   "metadata": {},
   "outputs": [
    {
     "ename": "NameError",
     "evalue": "name 'r' is not defined",
     "output_type": "error",
     "traceback": [
      "\u001b[0;31m---------------------------------------------------------------------------\u001b[0m",
      "\u001b[0;31mNameError\u001b[0m                                 Traceback (most recent call last)",
      "Cell \u001b[0;32mIn[5], line 1\u001b[0m\n\u001b[0;32m----> 1\u001b[0m \u001b[43mr\u001b[49m[\u001b[38;5;124m'\u001b[39m\u001b[38;5;124mpool\u001b[39m\u001b[38;5;124m'\u001b[39m][\u001b[38;5;124m'\u001b[39m\u001b[38;5;124mflow\u001b[39m\u001b[38;5;124m'\u001b[39m][\u001b[38;5;124m'\u001b[39m\u001b[38;5;124mPoolA\u001b[39m\u001b[38;5;124m'\u001b[39m]\u001b[38;5;241m.\u001b[39mhead()\n",
      "\u001b[0;31mNameError\u001b[0m: name 'r' is not defined"
     ]
    }
   ],
   "source": [
    "r['pool']['flow']['PoolA'].head()"
   ]
  },
  {
   "cell_type": "code",
   "execution_count": 6,
   "id": "33343574",
   "metadata": {},
   "outputs": [
    {
     "ename": "NameError",
     "evalue": "name 'r' is not defined",
     "output_type": "error",
     "traceback": [
      "\u001b[0;31m---------------------------------------------------------------------------\u001b[0m",
      "\u001b[0;31mNameError\u001b[0m                                 Traceback (most recent call last)",
      "Cell \u001b[0;32mIn[6], line 1\u001b[0m\n\u001b[0;32m----> 1\u001b[0m \u001b[43mr\u001b[49m[\u001b[38;5;124m'\u001b[39m\u001b[38;5;124mpool\u001b[39m\u001b[38;5;124m'\u001b[39m][\u001b[38;5;124m'\u001b[39m\u001b[38;5;124mflow\u001b[39m\u001b[38;5;124m'\u001b[39m][\u001b[38;5;124m'\u001b[39m\u001b[38;5;124mPoolB\u001b[39m\u001b[38;5;124m'\u001b[39m]\u001b[38;5;241m.\u001b[39mhead()\n",
      "\u001b[0;31mNameError\u001b[0m: name 'r' is not defined"
     ]
    }
   ],
   "source": [
    "r['pool']['flow']['PoolB'].head()"
   ]
  },
  {
   "cell_type": "markdown",
   "id": "d8fec29f",
   "metadata": {},
   "source": [
    "### Deal with Mixed Asset Type"
   ]
  },
  {
   "cell_type": "code",
   "execution_count": null,
   "id": "3c1fb9f0",
   "metadata": {},
   "outputs": [],
   "source": []
  }
 ],
 "metadata": {
  "kernelspec": {
   "display_name": "Python 3 (ipykernel)",
   "language": "python",
   "name": "python3"
  },
  "language_info": {
   "codemirror_mode": {
    "name": "ipython",
    "version": 3
   },
   "file_extension": ".py",
   "mimetype": "text/x-python",
   "name": "python",
   "nbconvert_exporter": "python",
   "pygments_lexer": "ipython3",
   "version": "3.11.9"
  }
 },
 "nbformat": 4,
 "nbformat_minor": 5
}
