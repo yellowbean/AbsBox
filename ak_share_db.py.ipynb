{
 "cells": [
  {
   "cell_type": "code",
   "execution_count": 4,
   "id": "db2340e9",
   "metadata": {},
   "outputs": [],
   "source": [
    "import sqlite3\n",
    "#import akshare as ak\n",
    "from datetime import datetime\n",
    "\n",
    "def extract_ids(df):\n",
    "    data1 = [(x,\"\",\"\") for x in df['债券简称'].to_list()]\n",
    "    data2 = [(x,\"\",\"\") for x in df['债券代码'].to_list()]\n",
    "    data3 = [(x,\"\",\"\") for x in df['查询代码'].to_list()]\n",
    "    return data1+data2+data3\n",
    "    \n",
    "def get_existing_ids(_cur):\n",
    "    res = _cur.execute(\"SELECT DISTINCT(BOND_ID) FROM ID_MAP\")\n",
    "    return set([_[0] for _ in res.fetchall()])\n",
    "    \n",
    "def update_id_to_db(DB_PATH,df):\n",
    "    #DB_PATH = r\"C:\\Users\\xzhang\\DB.db\"\n",
    "    con = sqlite3.connect(DB_PATH)\n",
    "    cur = con.cursor()\n",
    "    \n",
    "    existing_ids = get_existing_ids(cur)\n",
    "    new_ids = [ _ for _ in extract_ids(df) if _[0] not in existing_ids ]\n",
    "    if len(new_ids)==0:\n",
    "        print(\"No new ids\")\n",
    "    else:\n",
    "        print(f\"New id to insert = {new_ids}\")\n",
    "    cur.executemany(\"INSERT INTO ID_MAP('BOND_ID','DEAL_ID','BOND_NAME') VALUES(?, ?, ?)\", new_ids)\n",
    "    con.commit()  # Remember to commit the transaction after executing INSERT.    \n",
    "    \n",
    "#current_df = ak.bond_info_cm(bond_name=\"\", bond_code=\"\", bond_issue=\"\", bond_type=\"资产支持证券\", coupon_type=\"\", issue_year=\"2023\", grade=\"\", underwriter=\"\")    \n",
    "\n"
   ]
  },
  {
   "cell_type": "code",
   "execution_count": 5,
   "id": "4eb846bc",
   "metadata": {},
   "outputs": [
    {
     "data": {
      "text/plain": [
       "{'A', 'B'}"
      ]
     },
     "execution_count": 5,
     "metadata": {},
     "output_type": "execute_result"
    }
   ],
   "source": [
    "{x for x in [\"A\",\"B\",\"A\"]}"
   ]
  },
  {
   "cell_type": "code",
   "execution_count": null,
   "id": "fd015846",
   "metadata": {},
   "outputs": [],
   "source": [
    "bond detail info from AK share\n",
    "\n",
    "bond_info_detail_cm_df = ak.bond_info_detail_cm(symbol=\"23中誉至诚2优先\")\n",
    "bond_info_detail_cm_df"
   ]
  },
  {
   "cell_type": "code",
   "execution_count": null,
   "id": "1e14b484",
   "metadata": {},
   "outputs": [],
   "source": [
    "current_df = ak.bond_info_cm(bond_name=\"\", bond_code=\"\", bond_issue=\"\", bond_type=\"资产支持证券\", coupon_type=\"\", issue_year=str(datetime.now().year), grade=\"\", underwriter=\"\")\n",
    "update_id_to_db(r\"/Users/xiaoyu/Projects/absbox.work/data/chinabond/DB.db\", current_df)"
   ]
  }
 ],
 "metadata": {
  "kernelspec": {
   "display_name": "Python 3 (ipykernel)",
   "language": "python",
   "name": "python3"
  },
  "language_info": {
   "codemirror_mode": {
    "name": "ipython",
    "version": 3
   },
   "file_extension": ".py",
   "mimetype": "text/x-python",
   "name": "python",
   "nbconvert_exporter": "python",
   "pygments_lexer": "ipython3",
   "version": "3.11.3"
  }
 },
 "nbformat": 4,
 "nbformat_minor": 5
}
