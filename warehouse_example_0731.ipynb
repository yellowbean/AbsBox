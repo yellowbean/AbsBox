{
 "cells": [
  {
   "cell_type": "markdown",
   "id": "a4b8fcc1",
   "metadata": {},
   "source": [
    "### Master Trust/Warehousing Funding Example"
   ]
  },
  {
   "cell_type": "code",
   "execution_count": 553,
   "id": "7f27fa54",
   "metadata": {},
   "outputs": [
    {
     "data": {
      "text/html": [
       "<pre style=\"white-space:pre;overflow-x:auto;line-height:normal;font-family:Menlo,'DejaVu Sans Mono',consolas,'Courier New',monospace\"><span style=\"color: #800080; text-decoration-color: #800080; font-weight: bold\">Connecting engine server -&gt; </span><span style=\"color: #800080; text-decoration-color: #800080; font-weight: bold; text-decoration: underline\">https://absbox.org/api/dev</span>\n",
       "</pre>\n"
      ],
      "text/plain": [
       "\u001b[1;35mConnecting engine server -> \u001b[0m\u001b[1;4;35mhttps://absbox.org/api/dev\u001b[0m\n"
      ]
     },
     "metadata": {},
     "output_type": "display_data"
    },
    {
     "data": {
      "text/html": [
       "<pre style=\"white-space:pre;overflow-x:auto;line-height:normal;font-family:Menlo,'DejaVu Sans Mono',consolas,'Courier New',monospace\">✅<span style=\"color: #008000; text-decoration-color: #008000; font-weight: bold\">Connected, local lib:0.</span><span style=\"color: #008000; text-decoration-color: #008000; font-weight: bold\">28.7</span><span style=\"color: #008000; text-decoration-color: #008000; font-weight: bold\">, server:</span><span style=\"color: #008000; text-decoration-color: #008000; font-weight: bold\">0.28</span><span style=\"color: #008000; text-decoration-color: #008000; font-weight: bold\">.</span><span style=\"color: #008000; text-decoration-color: #008000; font-weight: bold\">15</span>\n",
       "</pre>\n"
      ],
      "text/plain": [
       "✅\u001b[1;32mConnected, local li\u001b[0m\u001b[1;32mb:0\u001b[0m\u001b[1;32m.\u001b[0m\u001b[1;32m28.7\u001b[0m\u001b[1;32m, server:\u001b[0m\u001b[1;32m0.28\u001b[0m\u001b[1;32m.\u001b[0m\u001b[1;32m15\u001b[0m\n"
      ]
     },
     "metadata": {},
     "output_type": "display_data"
    },
    {
     "data": {
      "text/html": [
       "<pre style=\"white-space:pre;overflow-x:auto;line-height:normal;font-family:Menlo,'DejaVu Sans Mono',consolas,'Courier New',monospace\">Warning Message from server:\n",
       "<span style=\"color: #808000; text-decoration-color: #808000; font-weight: bold\">Bond A1 is not paid off</span>\n",
       "<span style=\"color: #808000; text-decoration-color: #808000; font-weight: bold\">Bond A2 is not paid off</span>\n",
       "<span style=\"color: #808000; text-decoration-color: #808000; font-weight: bold\">Bond B is not paid off</span>\n",
       "<span style=\"color: #808000; text-decoration-color: #808000; font-weight: bold\">Fee servicing_fee is not paid off</span>\n",
       "<span style=\"color: #808000; text-decoration-color: #808000; font-weight: bold\">Fee structuring_fee is not paid off</span>\n",
       "<span style=\"color: #808000; text-decoration-color: #808000; font-weight: bold\">Fee technology_fee is not paid off</span>\n",
       "<span style=\"color: #808000; text-decoration-color: #808000; font-weight: bold\">No waterfall distribution found on date2024-</span><span style=\"color: #808000; text-decoration-color: #808000; font-weight: bold\">05</span><span style=\"color: #808000; text-decoration-color: #808000; font-weight: bold\">-03with statusAmortizing</span>\n",
       "<span style=\"color: #808000; text-decoration-color: #808000; font-weight: bold\">No waterfall distribution found on date2024-</span><span style=\"color: #808000; text-decoration-color: #808000; font-weight: bold\">05</span><span style=\"color: #808000; text-decoration-color: #808000; font-weight: bold\">-20with statusAmortizing</span>\n",
       "<span style=\"color: #808000; text-decoration-color: #808000; font-weight: bold\">No waterfall distribution found on date2024-</span><span style=\"color: #808000; text-decoration-color: #808000; font-weight: bold\">06</span><span style=\"color: #808000; text-decoration-color: #808000; font-weight: bold\">-20with statusAmortizing</span>\n",
       "<span style=\"color: #808000; text-decoration-color: #808000; font-weight: bold\">No waterfall distribution found on date2024-</span><span style=\"color: #808000; text-decoration-color: #808000; font-weight: bold\">07</span><span style=\"color: #808000; text-decoration-color: #808000; font-weight: bold\">-20with statusAmortizing</span>\n",
       "<span style=\"color: #808000; text-decoration-color: #808000; font-weight: bold\">No waterfall distribution found on date2024-</span><span style=\"color: #808000; text-decoration-color: #808000; font-weight: bold\">08</span><span style=\"color: #808000; text-decoration-color: #808000; font-weight: bold\">-20with statusAmortizing</span>\n",
       "<span style=\"color: #808000; text-decoration-color: #808000; font-weight: bold\">No waterfall distribution found on date2024-</span><span style=\"color: #808000; text-decoration-color: #808000; font-weight: bold\">09</span><span style=\"color: #808000; text-decoration-color: #808000; font-weight: bold\">-20with statusAmortizing</span>\n",
       "<span style=\"color: #808000; text-decoration-color: #808000; font-weight: bold\">No waterfall distribution found on date2024-</span><span style=\"color: #808000; text-decoration-color: #808000; font-weight: bold\">10</span><span style=\"color: #808000; text-decoration-color: #808000; font-weight: bold\">-20with statusAmortizing</span>\n",
       "<span style=\"color: #808000; text-decoration-color: #808000; font-weight: bold\">No waterfall distribution found on date2024-</span><span style=\"color: #808000; text-decoration-color: #808000; font-weight: bold\">11</span><span style=\"color: #808000; text-decoration-color: #808000; font-weight: bold\">-20with statusAmortizing</span>\n",
       "</pre>\n"
      ],
      "text/plain": [
       "Warning Message from server:\n",
       "\u001b[1;33mBond A1 is not paid off\u001b[0m\n",
       "\u001b[1;33mBond A2 is not paid off\u001b[0m\n",
       "\u001b[1;33mBond B is not paid off\u001b[0m\n",
       "\u001b[1;33mFee servicing_fee is not paid off\u001b[0m\n",
       "\u001b[1;33mFee structuring_fee is not paid off\u001b[0m\n",
       "\u001b[1;33mFee technology_fee is not paid off\u001b[0m\n",
       "\u001b[1;33mNo waterfall distribution found on date2024-\u001b[0m\u001b[1;33m05\u001b[0m\u001b[1;33m-03with statusAmortizing\u001b[0m\n",
       "\u001b[1;33mNo waterfall distribution found on date2024-\u001b[0m\u001b[1;33m05\u001b[0m\u001b[1;33m-20with statusAmortizing\u001b[0m\n",
       "\u001b[1;33mNo waterfall distribution found on date2024-\u001b[0m\u001b[1;33m06\u001b[0m\u001b[1;33m-20with statusAmortizing\u001b[0m\n",
       "\u001b[1;33mNo waterfall distribution found on date2024-\u001b[0m\u001b[1;33m07\u001b[0m\u001b[1;33m-20with statusAmortizing\u001b[0m\n",
       "\u001b[1;33mNo waterfall distribution found on date2024-\u001b[0m\u001b[1;33m08\u001b[0m\u001b[1;33m-20with statusAmortizing\u001b[0m\n",
       "\u001b[1;33mNo waterfall distribution found on date2024-\u001b[0m\u001b[1;33m09\u001b[0m\u001b[1;33m-20with statusAmortizing\u001b[0m\n",
       "\u001b[1;33mNo waterfall distribution found on date2024-\u001b[0m\u001b[1;33m10\u001b[0m\u001b[1;33m-20with statusAmortizing\u001b[0m\n",
       "\u001b[1;33mNo waterfall distribution found on date2024-\u001b[0m\u001b[1;33m11\u001b[0m\u001b[1;33m-20with statusAmortizing\u001b[0m\n"
      ]
     },
     "metadata": {},
     "output_type": "display_data"
    }
   ],
   "source": [
    "from absbox import Generic,API,EnginePath,readBondsCf,readFeesCf\n",
    "\n",
    "test01 = Generic(\n",
    "    \"TEST01\"\n",
    "    ,{\"collect\": [\"2024-04-18\",\"2024-05-01\"] #collection_dates: next pool colle\n",
    "    ,\"pay\": [\"2024-04-19\"   #payment_dates last distribution payment date, next \n",
    "            ,\"2024-05-03\"]  \n",
    "    ,\"stated\":\"2025-11-16\"\n",
    "    ,\"poolFreq\":\"MonthEnd\"\n",
    "    ,\"payFreq\":[\"DayOfMonth\",20]\n",
    "    }\n",
    "    ,{'assets':[[\"Mortgage\"\n",
    "        ,{\"originBalance\":100000,\"originRate\":[\"fix\",0.045],\"originTerm\":30\n",
    "          ,\"freq\":\"Monthly\",\"type\":\"Level\",\"originDate\":\"2024-01-01\"}\n",
    "          ,{\"currentBalance\":100000\n",
    "          ,\"currentRate\":0.08\n",
    "          ,\"remainTerm\":26\n",
    "          ,\"status\":\"current\"}]],'issuanceStat': {'IssuanceBalance': 2000.86}}\n",
    "    ,(('collections_interest', {'balance': 0}), ('collections_principal', {'balance': 100000}), ('revolBuyAcc', {'balance': 0}), ('reserveAccount', {'balance': 1000000, 'type': {'targetReserve': [('poolBalance',), 0.0125]}}))\n",
    "    ,((\"A\",{\"A1\":{\"balance\": 10_000_000.84 \n",
    "                    ,\"rate\":0.1023\n",
    "                    ,\"originBalance\":10_000_000\n",
    "                    ,\"originRate\":0.1023  \n",
    "                    ,\"startDate\":\"2023-07-03\"\n",
    "                    ,\"rateType\":{\"fix\": 0.1023, \"dayCount\":\"DC_ACT_365A\"}\n",
    "                    ,\"maturityDate\":\"2025-11-16\"\n",
    "                    ,\"bondType\":{\"Lockout\":\"2023-11-04\"}\n",
    "                    }\n",
    "                    }\n",
    "      )\n",
    "      ,(\"B\",{\"balance\":1\n",
    "                    ,\"rate\":0.0\n",
    "                    ,\"originBalance\":1\n",
    "                    ,\"originRate\":0.0\n",
    "                    ,\"startDate\":\"2023-07-03\"\n",
    "                    ,\"maturityDate\":\"2025-11-16\"\n",
    "                    ,\"rateType\":{\"Fixed\":0.00}\n",
    "                    ,\"bondType\":{\"Equity\":None}\n",
    "                    }\n",
    "                    ))\n",
    "    ,((\"technology_fee\",{\"type\":{\"annualPctFee\":[(\"bondBalance\",),0.0005]}}),\n",
    "      (\"structuring_fee\",{\"type\":{\"annualPctFee\":[(\"originalBondBalance\",),0.0075]}}),\n",
    "      (\"servicing_fee\",{\"type\":{\"annualPctFee\":[(\"bondBalance\",\"A\"),0.01]}}),\n",
    "      (\"security_fee\",{\"type\": {\"recurFee\":[[\"MonthDayOfYear\",5,16],30000]}})\n",
    "     )\n",
    "    ,{\n",
    "        \"default\":[       \n",
    "              [\"IfElse\" ,[\"status\",\"Revolving\"] # actions in the revolving period\n",
    "                ,[[\"calcIntByGroup\",[\"A\"]],\n",
    "              [\"calcAndPayFee\",\"collections_interest\",[\"technology_fee\",\"structuring_fee\",\"security_fee\"]]\n",
    "                ,[\"accrueAndPayIntByGroup\",\"collections_interest\",\"A\",\"byStartDate\"]\n",
    "                ,[\"payIntByGroup\",\"collections_principal\",\"A\",\"byStartDate\"] # If interest account has no money then use collections to pay the remaining\n",
    "                \n",
    "                ,[\"transfer\",\"collections_interest\",'reserveAccount',{\"reserve\":\"gap\"}]\n",
    "                ,[\"transfer\",\"collections_principal\",'reserveAccount',{\"reserve\":\"gap\"}]\n",
    "                \n",
    "                \n",
    "                #fourth cure LTV breach.\n",
    "                \n",
    "                ,[\"calcAndPayFee\",\"collections_interest\",[\"servicing_fee\"]] \n",
    "                ,[\"payIntResidual\",\"collections_interest\",\"B\"]\n",
    "                \n",
    "                ,[\"transfer\" ,\"collections_principal\",\"revolBuyAcc\"]\n",
    "                ,[\"buyAsset\",[\"Current|Defaulted\",1.0,0],\"revolBuyAcc\",None]                  \n",
    "\n",
    "                  ]\n",
    "                ,[[\"transfer\" ,\"collections_interest\",'collections_principal'],\n",
    "                   [\"transfer\" ,\"reserveAccount\",'collections_principal'],\n",
    "                  [\"calcIntByGroup\",[\"A\"]], # actions if deal is in Amortizing status \n",
    "              [\"calcAndPayFee\",\"collections_principal\",[\"technology_fee\",\"structuring_fee\",\"security_fee\",\"servicing_fee\"]]\n",
    "              ,[\"accrueAndPayIntByGroup\",\"collections_principal\",\"A\",\"byStartDate\"]\n",
    "                  ,[\"payPrinByGroup\",\"collections_principal\",\"A\",\"byStartDate\"]\n",
    "                  ,[\"payIntResidual\",\"collections_principal\",\"B\"]\n",
    "              ,[\"calcAndPayFee\",\"collections_principal\",[\"servicing_fee\"]]\n",
    "                   ,[\"payPrin\",\"collections_principal\",[\"B\"]]\n",
    "\n",
    "                  ]]\n",
    "              ]\n",
    "        #,\"endOfCollection\":[[\"payFee\",\"collections\",[\"technology_fee\",\"structuring_fee\",\"security_fee\"]]  # accure fee by end of collection period\n",
    "         #                     ,[\"calcInt\",\"A1\"]]\n",
    "        ,\"cleanUp\":[[\"sellAsset\", [\"Current|Defaulted\",1.0,0], \"collections_principal\"]\n",
    "                    ,[\"transfer\" ,\"reserveAccount\",'collections_principal']\n",
    "                    ,[\"transfer\" ,\"revolBuyAcc\",'collections_principal']\n",
    "                    ,[\"accrueAndPayIntByGroup\",\"collections_interest\",\"A\",\"byStartDate\"]\n",
    "                    ,[\"payIntResidual\",\"collections_interest\",\"B\"]\n",
    "                    ,[\"transfer\" ,\"collections_interest\",'collections_principal']\n",
    "                    ,[\"payPrinByGroup\",\"collections_principal\",\"A\",\"byStartDate\"]\n",
    "                    ,[\"payPrin\",\"collections_principal\",[\"B\"]]\n",
    "                    ]\n",
    "        }\n",
    "    ,[[\"CollectedPrincipal\",\"collections_principal\"]\n",
    "      ,[\"CollectedRecoveries\",\"collections_principal\"]\n",
    "      ,[\"CollectedPrepayment\",\"collections_principal\"]\n",
    "      ,[\"CollectedInterest\",\"collections_interest\"]\n",
    "     ]\n",
    "    ,None\n",
    "    ,None\n",
    "    ,None\n",
    "    ,None\n",
    "    ,(\"Amortizing\")\n",
    "    )\n",
    "\n",
    "\n",
    "fundingPlan = [(\"2024-10-01\",\"A\",\"collections_principal\"\n",
    "                    ,{\"balance\":1500000\n",
    "                       ,\"rate\":0.1023\n",
    "                       ,\"name\":\"A2\"\n",
    "                       ,\"originBalance\":1500000\n",
    "                       ,\"originRate\":0.1023\n",
    "                       ,\"rateType\":{\"Fixed\":0.1023}\n",
    "                       ,\"bondType\":{\"Lockout\":\"2024-10-04\"}\n",
    "                      ,\"maturityDate\":\"2025-11-16\"}\n",
    "                    )]\n",
    "\n",
    "localAPI = API(EnginePath.DEV,lang='english')\n",
    "r = localAPI.run(test01\n",
    "                 ,runAssump = [\n",
    "                     (\"issueBond\",*fundingPlan)\n",
    "                     ,(\"stop\",\"2024-11-21\")\n",
    "                 ]\n",
    "                 ,read=True)"
   ]
  },
  {
   "cell_type": "code",
   "execution_count": 554,
   "id": "670acbe2",
   "metadata": {},
   "outputs": [
    {
     "data": {
      "text/html": [
       "<div>\n",
       "<style scoped>\n",
       "    .dataframe tbody tr th:only-of-type {\n",
       "        vertical-align: middle;\n",
       "    }\n",
       "\n",
       "    .dataframe tbody tr th {\n",
       "        vertical-align: top;\n",
       "    }\n",
       "\n",
       "    .dataframe thead tr th {\n",
       "        text-align: left;\n",
       "    }\n",
       "\n",
       "    .dataframe thead tr:last-of-type th {\n",
       "        text-align: right;\n",
       "    }\n",
       "</style>\n",
       "<table border=\"1\" class=\"dataframe\">\n",
       "  <thead>\n",
       "    <tr>\n",
       "      <th>BondGroup</th>\n",
       "      <th colspan=\"10\" halign=\"left\">A</th>\n",
       "      <th colspan=\"5\" halign=\"left\">B</th>\n",
       "    </tr>\n",
       "    <tr>\n",
       "      <th>Bond</th>\n",
       "      <th colspan=\"5\" halign=\"left\">A1</th>\n",
       "      <th colspan=\"5\" halign=\"left\">A2</th>\n",
       "      <th colspan=\"5\" halign=\"left\">-</th>\n",
       "    </tr>\n",
       "    <tr>\n",
       "      <th>Field</th>\n",
       "      <th>balance</th>\n",
       "      <th>interest</th>\n",
       "      <th>principal</th>\n",
       "      <th>rate</th>\n",
       "      <th>cash</th>\n",
       "      <th>balance</th>\n",
       "      <th>interest</th>\n",
       "      <th>principal</th>\n",
       "      <th>rate</th>\n",
       "      <th>cash</th>\n",
       "      <th>balance</th>\n",
       "      <th>interest</th>\n",
       "      <th>principal</th>\n",
       "      <th>rate</th>\n",
       "      <th>cash</th>\n",
       "    </tr>\n",
       "    <tr>\n",
       "      <th>date</th>\n",
       "      <th></th>\n",
       "      <th></th>\n",
       "      <th></th>\n",
       "      <th></th>\n",
       "      <th></th>\n",
       "      <th></th>\n",
       "      <th></th>\n",
       "      <th></th>\n",
       "      <th></th>\n",
       "      <th></th>\n",
       "      <th></th>\n",
       "      <th></th>\n",
       "      <th></th>\n",
       "      <th></th>\n",
       "      <th></th>\n",
       "    </tr>\n",
       "  </thead>\n",
       "  <tbody>\n",
       "    <tr>\n",
       "      <th>2024-05-03</th>\n",
       "      <td>8946143.29</td>\n",
       "      <td>39238.35</td>\n",
       "      <td>1053857.55</td>\n",
       "      <td>0.1023</td>\n",
       "      <td>1093095.90</td>\n",
       "      <td>NaN</td>\n",
       "      <td>NaN</td>\n",
       "      <td>NaN</td>\n",
       "      <td>NaN</td>\n",
       "      <td>NaN</td>\n",
       "      <td>1</td>\n",
       "      <td>0</td>\n",
       "      <td>0</td>\n",
       "      <td>0</td>\n",
       "      <td>0</td>\n",
       "    </tr>\n",
       "    <tr>\n",
       "      <th>2024-05-20</th>\n",
       "      <td>8946143.29</td>\n",
       "      <td>0.00</td>\n",
       "      <td>0.00</td>\n",
       "      <td>0.1023</td>\n",
       "      <td>0.00</td>\n",
       "      <td>NaN</td>\n",
       "      <td>NaN</td>\n",
       "      <td>NaN</td>\n",
       "      <td>NaN</td>\n",
       "      <td>NaN</td>\n",
       "      <td>1</td>\n",
       "      <td>0</td>\n",
       "      <td>0</td>\n",
       "      <td>0</td>\n",
       "      <td>0</td>\n",
       "    </tr>\n",
       "    <tr>\n",
       "      <th>2024-06-20</th>\n",
       "      <td>8946143.29</td>\n",
       "      <td>0.00</td>\n",
       "      <td>0.00</td>\n",
       "      <td>0.1023</td>\n",
       "      <td>0.00</td>\n",
       "      <td>NaN</td>\n",
       "      <td>NaN</td>\n",
       "      <td>NaN</td>\n",
       "      <td>NaN</td>\n",
       "      <td>NaN</td>\n",
       "      <td>1</td>\n",
       "      <td>0</td>\n",
       "      <td>0</td>\n",
       "      <td>0</td>\n",
       "      <td>0</td>\n",
       "    </tr>\n",
       "    <tr>\n",
       "      <th>2024-07-20</th>\n",
       "      <td>8946143.29</td>\n",
       "      <td>0.00</td>\n",
       "      <td>0.00</td>\n",
       "      <td>0.1023</td>\n",
       "      <td>0.00</td>\n",
       "      <td>NaN</td>\n",
       "      <td>NaN</td>\n",
       "      <td>NaN</td>\n",
       "      <td>NaN</td>\n",
       "      <td>NaN</td>\n",
       "      <td>1</td>\n",
       "      <td>0</td>\n",
       "      <td>0</td>\n",
       "      <td>0</td>\n",
       "      <td>0</td>\n",
       "    </tr>\n",
       "    <tr>\n",
       "      <th>2024-08-20</th>\n",
       "      <td>8946143.29</td>\n",
       "      <td>0.00</td>\n",
       "      <td>0.00</td>\n",
       "      <td>0.1023</td>\n",
       "      <td>0.00</td>\n",
       "      <td>NaN</td>\n",
       "      <td>NaN</td>\n",
       "      <td>NaN</td>\n",
       "      <td>NaN</td>\n",
       "      <td>NaN</td>\n",
       "      <td>1</td>\n",
       "      <td>0</td>\n",
       "      <td>0</td>\n",
       "      <td>0</td>\n",
       "      <td>0</td>\n",
       "    </tr>\n",
       "    <tr>\n",
       "      <th>2024-09-20</th>\n",
       "      <td>8946143.29</td>\n",
       "      <td>0.00</td>\n",
       "      <td>0.00</td>\n",
       "      <td>0.1023</td>\n",
       "      <td>0.00</td>\n",
       "      <td>NaN</td>\n",
       "      <td>NaN</td>\n",
       "      <td>NaN</td>\n",
       "      <td>NaN</td>\n",
       "      <td>NaN</td>\n",
       "      <td>1</td>\n",
       "      <td>0</td>\n",
       "      <td>0</td>\n",
       "      <td>0</td>\n",
       "      <td>0</td>\n",
       "    </tr>\n",
       "    <tr>\n",
       "      <th>2024-10-20</th>\n",
       "      <td>7973663.99</td>\n",
       "      <td>426253.06</td>\n",
       "      <td>972479.30</td>\n",
       "      <td>0.1023</td>\n",
       "      <td>1398732.36</td>\n",
       "      <td>1500000.0</td>\n",
       "      <td>7987.8</td>\n",
       "      <td>0.0</td>\n",
       "      <td>0.1023</td>\n",
       "      <td>7987.8</td>\n",
       "      <td>1</td>\n",
       "      <td>0</td>\n",
       "      <td>0</td>\n",
       "      <td>0</td>\n",
       "      <td>0</td>\n",
       "    </tr>\n",
       "    <tr>\n",
       "      <th>2024-11-20</th>\n",
       "      <td>7973663.99</td>\n",
       "      <td>0.00</td>\n",
       "      <td>0.00</td>\n",
       "      <td>0.1023</td>\n",
       "      <td>0.00</td>\n",
       "      <td>1500000.0</td>\n",
       "      <td>0.0</td>\n",
       "      <td>0.0</td>\n",
       "      <td>0.1023</td>\n",
       "      <td>0.0</td>\n",
       "      <td>1</td>\n",
       "      <td>0</td>\n",
       "      <td>0</td>\n",
       "      <td>0</td>\n",
       "      <td>0</td>\n",
       "    </tr>\n",
       "  </tbody>\n",
       "</table>\n",
       "</div>"
      ],
      "text/plain": [
       "BondGroup            A                                                        \\\n",
       "Bond                A1                                                    A2   \n",
       "Field          balance   interest   principal    rate        cash    balance   \n",
       "date                                                                           \n",
       "2024-05-03  8946143.29   39238.35  1053857.55  0.1023  1093095.90        NaN   \n",
       "2024-05-20  8946143.29       0.00        0.00  0.1023        0.00        NaN   \n",
       "2024-06-20  8946143.29       0.00        0.00  0.1023        0.00        NaN   \n",
       "2024-07-20  8946143.29       0.00        0.00  0.1023        0.00        NaN   \n",
       "2024-08-20  8946143.29       0.00        0.00  0.1023        0.00        NaN   \n",
       "2024-09-20  8946143.29       0.00        0.00  0.1023        0.00        NaN   \n",
       "2024-10-20  7973663.99  426253.06   972479.30  0.1023  1398732.36  1500000.0   \n",
       "2024-11-20  7973663.99       0.00        0.00  0.1023        0.00  1500000.0   \n",
       "\n",
       "BondGroup                                           B                          \\\n",
       "Bond                                                -                           \n",
       "Field      interest principal    rate    cash balance interest principal rate   \n",
       "date                                                                            \n",
       "2024-05-03      NaN       NaN     NaN     NaN       1        0         0    0   \n",
       "2024-05-20      NaN       NaN     NaN     NaN       1        0         0    0   \n",
       "2024-06-20      NaN       NaN     NaN     NaN       1        0         0    0   \n",
       "2024-07-20      NaN       NaN     NaN     NaN       1        0         0    0   \n",
       "2024-08-20      NaN       NaN     NaN     NaN       1        0         0    0   \n",
       "2024-09-20      NaN       NaN     NaN     NaN       1        0         0    0   \n",
       "2024-10-20   7987.8       0.0  0.1023  7987.8       1        0         0    0   \n",
       "2024-11-20      0.0       0.0  0.1023     0.0       1        0         0    0   \n",
       "\n",
       "BondGroup        \n",
       "Bond             \n",
       "Field      cash  \n",
       "date             \n",
       "2024-05-03    0  \n",
       "2024-05-20    0  \n",
       "2024-06-20    0  \n",
       "2024-07-20    0  \n",
       "2024-08-20    0  \n",
       "2024-09-20    0  \n",
       "2024-10-20    0  \n",
       "2024-11-20    0  "
      ]
     },
     "execution_count": 554,
     "metadata": {},
     "output_type": "execute_result"
    }
   ],
   "source": [
    "readBondsCf(r['bonds'])"
   ]
  },
  {
   "cell_type": "code",
   "execution_count": 516,
   "id": "45ebd714",
   "metadata": {},
   "outputs": [
    {
     "data": {
      "text/plain": [
       "191.7808380273973"
      ]
     },
     "execution_count": 516,
     "metadata": {},
     "output_type": "execute_result"
    }
   ],
   "source": [
    "# technology fee\n",
    "## 2024-5-3\n",
    "1/2000 * (8946143.29+1053857.55) * (14/365)  # 191.7808380273973"
   ]
  },
  {
   "cell_type": "code",
   "execution_count": 517,
   "id": "92d23f20",
   "metadata": {},
   "outputs": [
    {
     "data": {
      "text/plain": [
       "208.33484373972604"
      ]
     },
     "execution_count": 517,
     "metadata": {},
     "output_type": "execute_result"
    }
   ],
   "source": [
    "# technology fee\n",
    "## 2024-5-20\n",
    "1/2000 * (8946143.29) * (17/365)"
   ]
  },
  {
   "cell_type": "code",
   "execution_count": 518,
   "id": "2c09483b",
   "metadata": {},
   "outputs": [
    {
     "data": {
      "text/plain": [
       "(379.9047150547945, 588.2395587945206)"
      ]
     },
     "execution_count": 518,
     "metadata": {},
     "output_type": "execute_result"
    }
   ],
   "source": [
    "# technology fee\n",
    "## 2024-6-20\n",
    "1/2000 * (8946143.29) * (31/365), 208.33484373972604 + 1/2000 * (8946143.29) * (31/365)"
   ]
  },
  {
   "cell_type": "code",
   "execution_count": 519,
   "id": "46285077",
   "metadata": {},
   "outputs": [
    {
     "data": {
      "text/plain": [
       "895.0997242465753"
      ]
     },
     "execution_count": 519,
     "metadata": {},
     "output_type": "execute_result"
    }
   ],
   "source": [
    "# technology fee\n",
    "## 2024-7-20\n",
    "1/2000 * (8946143.29) * (30/365)+ 588.23 - 60.78"
   ]
  },
  {
   "cell_type": "code",
   "execution_count": 520,
   "id": "6ed62e8d",
   "metadata": {},
   "outputs": [
    {
     "data": {
      "text/plain": [
       "3835.6167605479454"
      ]
     },
     "execution_count": 520,
     "metadata": {},
     "output_type": "execute_result"
    }
   ],
   "source": [
    "# servicing_fee \n",
    "## 2024-5-3\n",
    "(8946143.29+1053857.55)*(14/365)*0.01"
   ]
  },
  {
   "cell_type": "code",
   "execution_count": 521,
   "id": "52ec3503",
   "metadata": {},
   "outputs": [
    {
     "data": {
      "text/plain": [
       "4166.69687479452"
      ]
     },
     "execution_count": 521,
     "metadata": {},
     "output_type": "execute_result"
    }
   ],
   "source": [
    "# servicing_fee \n",
    "## 2024-5-20\n",
    "(8946143.29)*(17/365)*0.01"
   ]
  },
  {
   "cell_type": "code",
   "execution_count": 522,
   "id": "7d4ed1fa",
   "metadata": {},
   "outputs": [
    {
     "data": {
      "text/plain": [
       "11764.791171095889"
      ]
     },
     "execution_count": 522,
     "metadata": {},
     "output_type": "execute_result"
    }
   ],
   "source": [
    "# servicing_fee \n",
    "## 2024-6-20\n",
    "(8946143.29)*(31/365)*0.01+4166.69687"
   ]
  },
  {
   "cell_type": "code",
   "execution_count": 523,
   "id": "325d37c5",
   "metadata": {},
   "outputs": [
    {
     "data": {
      "text/plain": [
       "17902.535656027394"
      ]
     },
     "execution_count": 523,
     "metadata": {},
     "output_type": "execute_result"
    }
   ],
   "source": [
    "# servicing_fee\n",
    "## 2024-7-20\n",
    "8946143.29*(30)/365*0.01 + 11764.791171095889 - 1215.25"
   ]
  },
  {
   "cell_type": "code",
   "execution_count": 524,
   "id": "2103b533",
   "metadata": {},
   "outputs": [
    {
     "data": {
      "text/plain": [
       "8133.816402739724"
      ]
     },
     "execution_count": 524,
     "metadata": {},
     "output_type": "execute_result"
    }
   ],
   "source": [
    "# servicing_fee\n",
    "# 2024-10-20\n",
    "(1500000.0) * (19/365) * 0.01 + 8946143.29 * (30/365) * 0.01"
   ]
  },
  {
   "cell_type": "code",
   "execution_count": 525,
   "id": "bc507a5e",
   "metadata": {},
   "outputs": [
    {
     "data": {
      "text/plain": [
       "8133.809999999998"
      ]
     },
     "execution_count": 525,
     "metadata": {},
     "output_type": "execute_result"
    }
   ],
   "source": [
    "38285.77 - 30151.96"
   ]
  },
  {
   "cell_type": "code",
   "execution_count": 543,
   "id": "ad00af0f",
   "metadata": {},
   "outputs": [
    {
     "data": {
      "text/plain": [
       "(6772.1529778082195, 1273.972602739726)"
      ]
     },
     "execution_count": 543,
     "metadata": {},
     "output_type": "execute_result"
    }
   ],
   "source": [
    "# servicing_fee\n",
    "# 2024-11-20\n",
    "7973663.99 * (31/365) * 0.01 ,(1500000.0) * (31/365)* 0.01 "
   ]
  },
  {
   "cell_type": "code",
   "execution_count": 544,
   "id": "2a4a883d",
   "metadata": {},
   "outputs": [
    {
     "data": {
      "text/plain": [
       "8046.125580547945"
      ]
     },
     "execution_count": 544,
     "metadata": {},
     "output_type": "execute_result"
    }
   ],
   "source": [
    "(6772.1529778082195+1273.972602739726)"
   ]
  },
  {
   "cell_type": "code",
   "execution_count": 545,
   "id": "2b5be370",
   "metadata": {},
   "outputs": [
    {
     "data": {
      "text/plain": [
       "8046.12"
      ]
     },
     "execution_count": 545,
     "metadata": {},
     "output_type": "execute_result"
    }
   ],
   "source": [
    "5902.79+2143.33 # total due"
   ]
  },
  {
   "cell_type": "code",
   "execution_count": 546,
   "id": "158b62d6",
   "metadata": {},
   "outputs": [
    {
     "data": {
      "text/plain": [
       "402.3206766164384"
      ]
     },
     "execution_count": 546,
     "metadata": {},
     "output_type": "execute_result"
    }
   ],
   "source": [
    "# Technoloy fee\n",
    "## 2024-11-20\n",
    "(1500000.0+7974003.03) * (31/365)* 0.0005"
   ]
  },
  {
   "cell_type": "code",
   "execution_count": 547,
   "id": "2fcdaf43",
   "metadata": {},
   "outputs": [
    {
     "data": {
      "text/plain": [
       "402.32"
      ]
     },
     "execution_count": 547,
     "metadata": {},
     "output_type": "execute_result"
    }
   ],
   "source": [
    "295.14+107.18"
   ]
  },
  {
   "cell_type": "code",
   "execution_count": 531,
   "id": "7dbe9d80",
   "metadata": {},
   "outputs": [
    {
     "data": {
      "text/html": [
       "<div>\n",
       "<style scoped>\n",
       "    .dataframe tbody tr th:only-of-type {\n",
       "        vertical-align: middle;\n",
       "    }\n",
       "\n",
       "    .dataframe tbody tr th {\n",
       "        vertical-align: top;\n",
       "    }\n",
       "\n",
       "    .dataframe thead tr th {\n",
       "        text-align: left;\n",
       "    }\n",
       "\n",
       "    .dataframe thead tr:last-of-type th {\n",
       "        text-align: right;\n",
       "    }\n",
       "</style>\n",
       "<table border=\"1\" class=\"dataframe\">\n",
       "  <thead>\n",
       "    <tr>\n",
       "      <th>Fee</th>\n",
       "      <th colspan=\"2\" halign=\"left\">security_fee</th>\n",
       "      <th colspan=\"2\" halign=\"left\">servicing_fee</th>\n",
       "      <th colspan=\"2\" halign=\"left\">structuring_fee</th>\n",
       "      <th colspan=\"2\" halign=\"left\">technology_fee</th>\n",
       "    </tr>\n",
       "    <tr>\n",
       "      <th>Field</th>\n",
       "      <th>balance</th>\n",
       "      <th>payment</th>\n",
       "      <th>balance</th>\n",
       "      <th>payment</th>\n",
       "      <th>balance</th>\n",
       "      <th>payment</th>\n",
       "      <th>balance</th>\n",
       "      <th>payment</th>\n",
       "    </tr>\n",
       "    <tr>\n",
       "      <th>date</th>\n",
       "      <th></th>\n",
       "      <th></th>\n",
       "      <th></th>\n",
       "      <th></th>\n",
       "      <th></th>\n",
       "      <th></th>\n",
       "      <th></th>\n",
       "      <th></th>\n",
       "    </tr>\n",
       "  </thead>\n",
       "  <tbody>\n",
       "    <tr>\n",
       "      <th>2024-05-03</th>\n",
       "      <td>0.00</td>\n",
       "      <td>0.00</td>\n",
       "      <td>0.00</td>\n",
       "      <td>3835.61</td>\n",
       "      <td>0.00</td>\n",
       "      <td>2876.71</td>\n",
       "      <td>0.00</td>\n",
       "      <td>191.78</td>\n",
       "    </tr>\n",
       "    <tr>\n",
       "      <th>2024-05-20</th>\n",
       "      <td>30000.00</td>\n",
       "      <td>0.00</td>\n",
       "      <td>4166.69</td>\n",
       "      <td>0.00</td>\n",
       "      <td>3493.15</td>\n",
       "      <td>0.00</td>\n",
       "      <td>208.33</td>\n",
       "      <td>0.00</td>\n",
       "    </tr>\n",
       "    <tr>\n",
       "      <th>2024-06-20</th>\n",
       "      <td>30000.00</td>\n",
       "      <td>0.00</td>\n",
       "      <td>11764.78</td>\n",
       "      <td>0.00</td>\n",
       "      <td>9863.01</td>\n",
       "      <td>0.00</td>\n",
       "      <td>588.23</td>\n",
       "      <td>0.00</td>\n",
       "    </tr>\n",
       "    <tr>\n",
       "      <th>2024-07-20</th>\n",
       "      <td>28093.00</td>\n",
       "      <td>1907.00</td>\n",
       "      <td>17902.52</td>\n",
       "      <td>1215.25</td>\n",
       "      <td>15008.58</td>\n",
       "      <td>1018.81</td>\n",
       "      <td>895.09</td>\n",
       "      <td>60.78</td>\n",
       "    </tr>\n",
       "    <tr>\n",
       "      <th>2024-08-20</th>\n",
       "      <td>26544.85</td>\n",
       "      <td>1548.15</td>\n",
       "      <td>24095.32</td>\n",
       "      <td>1405.29</td>\n",
       "      <td>20200.31</td>\n",
       "      <td>1178.13</td>\n",
       "      <td>1204.71</td>\n",
       "      <td>70.28</td>\n",
       "    </tr>\n",
       "    <tr>\n",
       "      <th>2024-09-20</th>\n",
       "      <td>25253.81</td>\n",
       "      <td>1291.04</td>\n",
       "      <td>30151.96</td>\n",
       "      <td>1541.45</td>\n",
       "      <td>25277.90</td>\n",
       "      <td>1292.27</td>\n",
       "      <td>1507.52</td>\n",
       "      <td>77.09</td>\n",
       "    </tr>\n",
       "    <tr>\n",
       "      <th>2024-10-20</th>\n",
       "      <td>0.00</td>\n",
       "      <td>25253.81</td>\n",
       "      <td>0.00</td>\n",
       "      <td>38285.77</td>\n",
       "      <td>0.00</td>\n",
       "      <td>32027.90</td>\n",
       "      <td>0.00</td>\n",
       "      <td>1914.21</td>\n",
       "    </tr>\n",
       "    <tr>\n",
       "      <th>2024-11-20</th>\n",
       "      <td>0.00</td>\n",
       "      <td>0.00</td>\n",
       "      <td>5902.79</td>\n",
       "      <td>2143.33</td>\n",
       "      <td>5374.01</td>\n",
       "      <td>1951.33</td>\n",
       "      <td>295.12</td>\n",
       "      <td>107.18</td>\n",
       "    </tr>\n",
       "  </tbody>\n",
       "</table>\n",
       "</div>"
      ],
      "text/plain": [
       "Fee        security_fee           servicing_fee           structuring_fee  \\\n",
       "Field           balance   payment       balance   payment         balance   \n",
       "date                                                                        \n",
       "2024-05-03         0.00      0.00          0.00   3835.61            0.00   \n",
       "2024-05-20     30000.00      0.00       4166.69      0.00         3493.15   \n",
       "2024-06-20     30000.00      0.00      11764.78      0.00         9863.01   \n",
       "2024-07-20     28093.00   1907.00      17902.52   1215.25        15008.58   \n",
       "2024-08-20     26544.85   1548.15      24095.32   1405.29        20200.31   \n",
       "2024-09-20     25253.81   1291.04      30151.96   1541.45        25277.90   \n",
       "2024-10-20         0.00  25253.81          0.00  38285.77            0.00   \n",
       "2024-11-20         0.00      0.00       5902.79   2143.33         5374.01   \n",
       "\n",
       "Fee                  technology_fee           \n",
       "Field        payment        balance  payment  \n",
       "date                                          \n",
       "2024-05-03   2876.71           0.00   191.78  \n",
       "2024-05-20      0.00         208.33     0.00  \n",
       "2024-06-20      0.00         588.23     0.00  \n",
       "2024-07-20   1018.81         895.09    60.78  \n",
       "2024-08-20   1178.13        1204.71    70.28  \n",
       "2024-09-20   1292.27        1507.52    77.09  \n",
       "2024-10-20  32027.90           0.00  1914.21  \n",
       "2024-11-20   1951.33         295.12   107.18  "
      ]
     },
     "execution_count": 531,
     "metadata": {},
     "output_type": "execute_result"
    }
   ],
   "source": [
    "readFeesCf(r['fees'])"
   ]
  },
  {
   "cell_type": "markdown",
   "id": "5ffecb55",
   "metadata": {},
   "source": [
    "### New Fee\n",
    "\n"
   ]
  },
  {
   "cell_type": "code",
   "execution_count": 556,
   "id": "9297fb9a",
   "metadata": {},
   "outputs": [],
   "source": [
    "newFee = (\"uncommited_fee\"\n",
    "          ,{\"type\": \n",
    "            {\"annualPctFee\": [(\"excess\",(\"originalBondBalance\", \"A\"),(\"bondBalance\", \"A\"),),0.01],}\n",
    "            ,\"feeStart\": \"2024-02-21\"})"
   ]
  },
  {
   "cell_type": "code",
   "execution_count": 557,
   "id": "33d92240",
   "metadata": {},
   "outputs": [],
   "source": [
    "from lenses import lens\n",
    "\n",
    "newTest01 = test01 & lens.fees.modify(lambda xs: xs + (newFee,))\n",
    "\n",
    "feeNames = [h for h,_ in newTest01.fees]\n",
    "\n",
    "newTest01 &=  lens.waterfall['default'][0][2][1][2].set(feeNames)\n",
    "newTest01 &=  lens.waterfall['default'][0][3][3][2].set(feeNames)"
   ]
  },
  {
   "cell_type": "code",
   "execution_count": 558,
   "id": "c675b072",
   "metadata": {},
   "outputs": [
    {
     "data": {
      "text/plain": [
       "['technology_fee',\n",
       " 'structuring_fee',\n",
       " 'servicing_fee',\n",
       " 'security_fee',\n",
       " 'uncommited_fee']"
      ]
     },
     "execution_count": 558,
     "metadata": {},
     "output_type": "execute_result"
    }
   ],
   "source": [
    "feeNames"
   ]
  },
  {
   "cell_type": "code",
   "execution_count": 559,
   "id": "e889d8fb",
   "metadata": {},
   "outputs": [
    {
     "data": {
      "text/html": [
       "<pre style=\"white-space:pre;overflow-x:auto;line-height:normal;font-family:Menlo,'DejaVu Sans Mono',consolas,'Courier New',monospace\">Warning Message from server:\n",
       "<span style=\"color: #808000; text-decoration-color: #808000; font-weight: bold\">Bond A1 is not paid off</span>\n",
       "<span style=\"color: #808000; text-decoration-color: #808000; font-weight: bold\">Bond A2 is not paid off</span>\n",
       "<span style=\"color: #808000; text-decoration-color: #808000; font-weight: bold\">Bond B is not paid off</span>\n",
       "<span style=\"color: #808000; text-decoration-color: #808000; font-weight: bold\">Fee servicing_fee is not paid off</span>\n",
       "<span style=\"color: #808000; text-decoration-color: #808000; font-weight: bold\">Fee structuring_fee is not paid off</span>\n",
       "<span style=\"color: #808000; text-decoration-color: #808000; font-weight: bold\">Fee technology_fee is not paid off</span>\n",
       "<span style=\"color: #808000; text-decoration-color: #808000; font-weight: bold\">Fee uncommited_fee is not paid off</span>\n",
       "<span style=\"color: #808000; text-decoration-color: #808000; font-weight: bold\">No waterfall distribution found on date2024-</span><span style=\"color: #808000; text-decoration-color: #808000; font-weight: bold\">05</span><span style=\"color: #808000; text-decoration-color: #808000; font-weight: bold\">-03with statusAmortizing</span>\n",
       "<span style=\"color: #808000; text-decoration-color: #808000; font-weight: bold\">No waterfall distribution found on date2024-</span><span style=\"color: #808000; text-decoration-color: #808000; font-weight: bold\">05</span><span style=\"color: #808000; text-decoration-color: #808000; font-weight: bold\">-20with statusAmortizing</span>\n",
       "<span style=\"color: #808000; text-decoration-color: #808000; font-weight: bold\">No waterfall distribution found on date2024-</span><span style=\"color: #808000; text-decoration-color: #808000; font-weight: bold\">06</span><span style=\"color: #808000; text-decoration-color: #808000; font-weight: bold\">-20with statusAmortizing</span>\n",
       "<span style=\"color: #808000; text-decoration-color: #808000; font-weight: bold\">No waterfall distribution found on date2024-</span><span style=\"color: #808000; text-decoration-color: #808000; font-weight: bold\">07</span><span style=\"color: #808000; text-decoration-color: #808000; font-weight: bold\">-20with statusAmortizing</span>\n",
       "<span style=\"color: #808000; text-decoration-color: #808000; font-weight: bold\">No waterfall distribution found on date2024-</span><span style=\"color: #808000; text-decoration-color: #808000; font-weight: bold\">08</span><span style=\"color: #808000; text-decoration-color: #808000; font-weight: bold\">-20with statusAmortizing</span>\n",
       "<span style=\"color: #808000; text-decoration-color: #808000; font-weight: bold\">No waterfall distribution found on date2024-</span><span style=\"color: #808000; text-decoration-color: #808000; font-weight: bold\">09</span><span style=\"color: #808000; text-decoration-color: #808000; font-weight: bold\">-20with statusAmortizing</span>\n",
       "<span style=\"color: #808000; text-decoration-color: #808000; font-weight: bold\">No waterfall distribution found on date2024-</span><span style=\"color: #808000; text-decoration-color: #808000; font-weight: bold\">10</span><span style=\"color: #808000; text-decoration-color: #808000; font-weight: bold\">-20with statusAmortizing</span>\n",
       "<span style=\"color: #808000; text-decoration-color: #808000; font-weight: bold\">No waterfall distribution found on date2024-</span><span style=\"color: #808000; text-decoration-color: #808000; font-weight: bold\">11</span><span style=\"color: #808000; text-decoration-color: #808000; font-weight: bold\">-20with statusAmortizing</span>\n",
       "</pre>\n"
      ],
      "text/plain": [
       "Warning Message from server:\n",
       "\u001b[1;33mBond A1 is not paid off\u001b[0m\n",
       "\u001b[1;33mBond A2 is not paid off\u001b[0m\n",
       "\u001b[1;33mBond B is not paid off\u001b[0m\n",
       "\u001b[1;33mFee servicing_fee is not paid off\u001b[0m\n",
       "\u001b[1;33mFee structuring_fee is not paid off\u001b[0m\n",
       "\u001b[1;33mFee technology_fee is not paid off\u001b[0m\n",
       "\u001b[1;33mFee uncommited_fee is not paid off\u001b[0m\n",
       "\u001b[1;33mNo waterfall distribution found on date2024-\u001b[0m\u001b[1;33m05\u001b[0m\u001b[1;33m-03with statusAmortizing\u001b[0m\n",
       "\u001b[1;33mNo waterfall distribution found on date2024-\u001b[0m\u001b[1;33m05\u001b[0m\u001b[1;33m-20with statusAmortizing\u001b[0m\n",
       "\u001b[1;33mNo waterfall distribution found on date2024-\u001b[0m\u001b[1;33m06\u001b[0m\u001b[1;33m-20with statusAmortizing\u001b[0m\n",
       "\u001b[1;33mNo waterfall distribution found on date2024-\u001b[0m\u001b[1;33m07\u001b[0m\u001b[1;33m-20with statusAmortizing\u001b[0m\n",
       "\u001b[1;33mNo waterfall distribution found on date2024-\u001b[0m\u001b[1;33m08\u001b[0m\u001b[1;33m-20with statusAmortizing\u001b[0m\n",
       "\u001b[1;33mNo waterfall distribution found on date2024-\u001b[0m\u001b[1;33m09\u001b[0m\u001b[1;33m-20with statusAmortizing\u001b[0m\n",
       "\u001b[1;33mNo waterfall distribution found on date2024-\u001b[0m\u001b[1;33m10\u001b[0m\u001b[1;33m-20with statusAmortizing\u001b[0m\n",
       "\u001b[1;33mNo waterfall distribution found on date2024-\u001b[0m\u001b[1;33m11\u001b[0m\u001b[1;33m-20with statusAmortizing\u001b[0m\n"
      ]
     },
     "metadata": {},
     "output_type": "display_data"
    }
   ],
   "source": [
    "r2 = localAPI.run(newTest01\n",
    "                 ,runAssump = [\n",
    "                     (\"issueBond\",*fundingPlan)\n",
    "                     ,(\"stop\",\"2024-11-21\")\n",
    "                 ]\n",
    "                 ,read=True)"
   ]
  },
  {
   "cell_type": "code",
   "execution_count": 476,
   "id": "8682e2a4",
   "metadata": {},
   "outputs": [
    {
     "data": {
      "text/html": [
       "<div>\n",
       "<style scoped>\n",
       "    .dataframe tbody tr th:only-of-type {\n",
       "        vertical-align: middle;\n",
       "    }\n",
       "\n",
       "    .dataframe tbody tr th {\n",
       "        vertical-align: top;\n",
       "    }\n",
       "\n",
       "    .dataframe thead tr th {\n",
       "        text-align: left;\n",
       "    }\n",
       "\n",
       "    .dataframe thead tr:last-of-type th {\n",
       "        text-align: right;\n",
       "    }\n",
       "</style>\n",
       "<table border=\"1\" class=\"dataframe\">\n",
       "  <thead>\n",
       "    <tr>\n",
       "      <th>Fee</th>\n",
       "      <th colspan=\"2\" halign=\"left\">security_fee</th>\n",
       "      <th colspan=\"2\" halign=\"left\">servicing_fee</th>\n",
       "      <th colspan=\"2\" halign=\"left\">structuring_fee</th>\n",
       "      <th colspan=\"2\" halign=\"left\">technology_fee</th>\n",
       "      <th colspan=\"2\" halign=\"left\">uncommited_fee</th>\n",
       "    </tr>\n",
       "    <tr>\n",
       "      <th>Field</th>\n",
       "      <th>balance</th>\n",
       "      <th>payment</th>\n",
       "      <th>balance</th>\n",
       "      <th>payment</th>\n",
       "      <th>balance</th>\n",
       "      <th>payment</th>\n",
       "      <th>balance</th>\n",
       "      <th>payment</th>\n",
       "      <th>balance</th>\n",
       "      <th>payment</th>\n",
       "    </tr>\n",
       "    <tr>\n",
       "      <th>date</th>\n",
       "      <th></th>\n",
       "      <th></th>\n",
       "      <th></th>\n",
       "      <th></th>\n",
       "      <th></th>\n",
       "      <th></th>\n",
       "      <th></th>\n",
       "      <th></th>\n",
       "      <th></th>\n",
       "      <th></th>\n",
       "    </tr>\n",
       "  </thead>\n",
       "  <tbody>\n",
       "    <tr>\n",
       "      <th>2024-05-03</th>\n",
       "      <td>0.00</td>\n",
       "      <td>0.00</td>\n",
       "      <td>0.00</td>\n",
       "      <td>3835.61</td>\n",
       "      <td>0.00</td>\n",
       "      <td>2876.71</td>\n",
       "      <td>0.00</td>\n",
       "      <td>191.78</td>\n",
       "      <td>0.00</td>\n",
       "      <td>0.00</td>\n",
       "    </tr>\n",
       "    <tr>\n",
       "      <th>2024-05-20</th>\n",
       "      <td>30000.00</td>\n",
       "      <td>0.00</td>\n",
       "      <td>4166.69</td>\n",
       "      <td>0.00</td>\n",
       "      <td>3493.15</td>\n",
       "      <td>0.00</td>\n",
       "      <td>208.33</td>\n",
       "      <td>0.00</td>\n",
       "      <td>490.83</td>\n",
       "      <td>0.00</td>\n",
       "    </tr>\n",
       "    <tr>\n",
       "      <th>2024-06-20</th>\n",
       "      <td>30000.00</td>\n",
       "      <td>0.00</td>\n",
       "      <td>11764.78</td>\n",
       "      <td>0.00</td>\n",
       "      <td>9863.01</td>\n",
       "      <td>0.00</td>\n",
       "      <td>588.23</td>\n",
       "      <td>0.00</td>\n",
       "      <td>1385.88</td>\n",
       "      <td>0.00</td>\n",
       "    </tr>\n",
       "    <tr>\n",
       "      <th>2024-07-20</th>\n",
       "      <td>28155.83</td>\n",
       "      <td>1844.17</td>\n",
       "      <td>17942.56</td>\n",
       "      <td>1175.21</td>\n",
       "      <td>15042.15</td>\n",
       "      <td>985.24</td>\n",
       "      <td>897.08</td>\n",
       "      <td>58.79</td>\n",
       "      <td>2113.63</td>\n",
       "      <td>138.43</td>\n",
       "    </tr>\n",
       "    <tr>\n",
       "      <th>2024-08-20</th>\n",
       "      <td>26665.72</td>\n",
       "      <td>1490.11</td>\n",
       "      <td>24188.94</td>\n",
       "      <td>1351.71</td>\n",
       "      <td>20278.81</td>\n",
       "      <td>1133.20</td>\n",
       "      <td>1209.38</td>\n",
       "      <td>67.60</td>\n",
       "      <td>2849.45</td>\n",
       "      <td>159.23</td>\n",
       "    </tr>\n",
       "    <tr>\n",
       "      <th>2024-09-20</th>\n",
       "      <td>25426.77</td>\n",
       "      <td>1238.95</td>\n",
       "      <td>30310.13</td>\n",
       "      <td>1476.90</td>\n",
       "      <td>25410.51</td>\n",
       "      <td>1238.16</td>\n",
       "      <td>1515.41</td>\n",
       "      <td>73.87</td>\n",
       "      <td>3570.53</td>\n",
       "      <td>173.97</td>\n",
       "    </tr>\n",
       "    <tr>\n",
       "      <th>2024-10-20</th>\n",
       "      <td>0.00</td>\n",
       "      <td>25426.77</td>\n",
       "      <td>0.00</td>\n",
       "      <td>38443.94</td>\n",
       "      <td>0.00</td>\n",
       "      <td>32160.51</td>\n",
       "      <td>0.00</td>\n",
       "      <td>1922.10</td>\n",
       "      <td>0.00</td>\n",
       "      <td>4436.71</td>\n",
       "    </tr>\n",
       "    <tr>\n",
       "      <th>2024-11-20</th>\n",
       "      <td>0.00</td>\n",
       "      <td>0.00</td>\n",
       "      <td>6116.82</td>\n",
       "      <td>1933.47</td>\n",
       "      <td>5565.99</td>\n",
       "      <td>1759.35</td>\n",
       "      <td>305.82</td>\n",
       "      <td>96.69</td>\n",
       "      <td>1304.49</td>\n",
       "      <td>412.33</td>\n",
       "    </tr>\n",
       "  </tbody>\n",
       "</table>\n",
       "</div>"
      ],
      "text/plain": [
       "Fee        security_fee           servicing_fee           structuring_fee  \\\n",
       "Field           balance   payment       balance   payment         balance   \n",
       "date                                                                        \n",
       "2024-05-03         0.00      0.00          0.00   3835.61            0.00   \n",
       "2024-05-20     30000.00      0.00       4166.69      0.00         3493.15   \n",
       "2024-06-20     30000.00      0.00      11764.78      0.00         9863.01   \n",
       "2024-07-20     28155.83   1844.17      17942.56   1175.21        15042.15   \n",
       "2024-08-20     26665.72   1490.11      24188.94   1351.71        20278.81   \n",
       "2024-09-20     25426.77   1238.95      30310.13   1476.90        25410.51   \n",
       "2024-10-20         0.00  25426.77          0.00  38443.94            0.00   \n",
       "2024-11-20         0.00      0.00       6116.82   1933.47         5565.99   \n",
       "\n",
       "Fee                  technology_fee          uncommited_fee           \n",
       "Field        payment        balance  payment        balance  payment  \n",
       "date                                                                  \n",
       "2024-05-03   2876.71           0.00   191.78           0.00     0.00  \n",
       "2024-05-20      0.00         208.33     0.00         490.83     0.00  \n",
       "2024-06-20      0.00         588.23     0.00        1385.88     0.00  \n",
       "2024-07-20    985.24         897.08    58.79        2113.63   138.43  \n",
       "2024-08-20   1133.20        1209.38    67.60        2849.45   159.23  \n",
       "2024-09-20   1238.16        1515.41    73.87        3570.53   173.97  \n",
       "2024-10-20  32160.51           0.00  1922.10           0.00  4436.71  \n",
       "2024-11-20   1759.35         305.82    96.69        1304.49   412.33  "
      ]
     },
     "execution_count": 476,
     "metadata": {},
     "output_type": "execute_result"
    }
   ],
   "source": [
    "readFeesCf(r2['fees'])"
   ]
  },
  {
   "cell_type": "code",
   "execution_count": 561,
   "id": "e62f9012",
   "metadata": {},
   "outputs": [
    {
     "data": {
      "text/html": [
       "<div>\n",
       "<style scoped>\n",
       "    .dataframe tbody tr th:only-of-type {\n",
       "        vertical-align: middle;\n",
       "    }\n",
       "\n",
       "    .dataframe tbody tr th {\n",
       "        vertical-align: top;\n",
       "    }\n",
       "\n",
       "    .dataframe thead th {\n",
       "        text-align: right;\n",
       "    }\n",
       "</style>\n",
       "<table border=\"1\" class=\"dataframe\">\n",
       "  <thead>\n",
       "    <tr style=\"text-align: right;\">\n",
       "      <th></th>\n",
       "      <th>balance</th>\n",
       "      <th>payment</th>\n",
       "      <th>due</th>\n",
       "    </tr>\n",
       "    <tr>\n",
       "      <th>date</th>\n",
       "      <th></th>\n",
       "      <th></th>\n",
       "      <th></th>\n",
       "    </tr>\n",
       "  </thead>\n",
       "  <tbody>\n",
       "    <tr>\n",
       "      <th>2024-05-03</th>\n",
       "      <td>0.00</td>\n",
       "      <td>0.00</td>\n",
       "      <td>0</td>\n",
       "    </tr>\n",
       "    <tr>\n",
       "      <th>2024-05-20</th>\n",
       "      <td>490.83</td>\n",
       "      <td>0.00</td>\n",
       "      <td>0</td>\n",
       "    </tr>\n",
       "    <tr>\n",
       "      <th>2024-06-20</th>\n",
       "      <td>1385.88</td>\n",
       "      <td>0.00</td>\n",
       "      <td>0</td>\n",
       "    </tr>\n",
       "    <tr>\n",
       "      <th>2024-07-20</th>\n",
       "      <td>2113.63</td>\n",
       "      <td>138.43</td>\n",
       "      <td>0</td>\n",
       "    </tr>\n",
       "    <tr>\n",
       "      <th>2024-08-20</th>\n",
       "      <td>2849.45</td>\n",
       "      <td>159.23</td>\n",
       "      <td>0</td>\n",
       "    </tr>\n",
       "    <tr>\n",
       "      <th>2024-09-20</th>\n",
       "      <td>3570.53</td>\n",
       "      <td>173.97</td>\n",
       "      <td>0</td>\n",
       "    </tr>\n",
       "    <tr>\n",
       "      <th>2024-10-20</th>\n",
       "      <td>0.00</td>\n",
       "      <td>4436.71</td>\n",
       "      <td>0</td>\n",
       "    </tr>\n",
       "    <tr>\n",
       "      <th>2024-11-20</th>\n",
       "      <td>1304.49</td>\n",
       "      <td>412.33</td>\n",
       "      <td>0</td>\n",
       "    </tr>\n",
       "  </tbody>\n",
       "</table>\n",
       "</div>"
      ],
      "text/plain": [
       "            balance  payment  due\n",
       "date                             \n",
       "2024-05-03     0.00     0.00    0\n",
       "2024-05-20   490.83     0.00    0\n",
       "2024-06-20  1385.88     0.00    0\n",
       "2024-07-20  2113.63   138.43    0\n",
       "2024-08-20  2849.45   159.23    0\n",
       "2024-09-20  3570.53   173.97    0\n",
       "2024-10-20     0.00  4436.71    0\n",
       "2024-11-20  1304.49   412.33    0"
      ]
     },
     "execution_count": 561,
     "metadata": {},
     "output_type": "execute_result"
    }
   ],
   "source": [
    "r2['fees']['uncommited_fee']"
   ]
  },
  {
   "cell_type": "code",
   "execution_count": 562,
   "id": "4d4e0af1",
   "metadata": {
    "scrolled": false
   },
   "outputs": [
    {
     "data": {
      "text/html": [
       "<div>\n",
       "<style scoped>\n",
       "    .dataframe tbody tr th:only-of-type {\n",
       "        vertical-align: middle;\n",
       "    }\n",
       "\n",
       "    .dataframe tbody tr th {\n",
       "        vertical-align: top;\n",
       "    }\n",
       "\n",
       "    .dataframe thead tr th {\n",
       "        text-align: left;\n",
       "    }\n",
       "\n",
       "    .dataframe thead tr:last-of-type th {\n",
       "        text-align: right;\n",
       "    }\n",
       "</style>\n",
       "<table border=\"1\" class=\"dataframe\">\n",
       "  <thead>\n",
       "    <tr>\n",
       "      <th>BondGroup</th>\n",
       "      <th colspan=\"10\" halign=\"left\">A</th>\n",
       "      <th colspan=\"5\" halign=\"left\">B</th>\n",
       "    </tr>\n",
       "    <tr>\n",
       "      <th>Bond</th>\n",
       "      <th colspan=\"5\" halign=\"left\">A1</th>\n",
       "      <th colspan=\"5\" halign=\"left\">A2</th>\n",
       "      <th colspan=\"5\" halign=\"left\">-</th>\n",
       "    </tr>\n",
       "    <tr>\n",
       "      <th>Field</th>\n",
       "      <th>balance</th>\n",
       "      <th>interest</th>\n",
       "      <th>principal</th>\n",
       "      <th>rate</th>\n",
       "      <th>cash</th>\n",
       "      <th>balance</th>\n",
       "      <th>interest</th>\n",
       "      <th>principal</th>\n",
       "      <th>rate</th>\n",
       "      <th>cash</th>\n",
       "      <th>balance</th>\n",
       "      <th>interest</th>\n",
       "      <th>principal</th>\n",
       "      <th>rate</th>\n",
       "      <th>cash</th>\n",
       "    </tr>\n",
       "    <tr>\n",
       "      <th>date</th>\n",
       "      <th></th>\n",
       "      <th></th>\n",
       "      <th></th>\n",
       "      <th></th>\n",
       "      <th></th>\n",
       "      <th></th>\n",
       "      <th></th>\n",
       "      <th></th>\n",
       "      <th></th>\n",
       "      <th></th>\n",
       "      <th></th>\n",
       "      <th></th>\n",
       "      <th></th>\n",
       "      <th></th>\n",
       "      <th></th>\n",
       "    </tr>\n",
       "  </thead>\n",
       "  <tbody>\n",
       "    <tr>\n",
       "      <th>2024-05-03</th>\n",
       "      <td>8946143.29</td>\n",
       "      <td>39238.35</td>\n",
       "      <td>1053857.55</td>\n",
       "      <td>0.1023</td>\n",
       "      <td>1093095.90</td>\n",
       "      <td>NaN</td>\n",
       "      <td>NaN</td>\n",
       "      <td>NaN</td>\n",
       "      <td>NaN</td>\n",
       "      <td>NaN</td>\n",
       "      <td>1</td>\n",
       "      <td>0</td>\n",
       "      <td>0</td>\n",
       "      <td>0</td>\n",
       "      <td>0</td>\n",
       "    </tr>\n",
       "    <tr>\n",
       "      <th>2024-05-20</th>\n",
       "      <td>8946143.29</td>\n",
       "      <td>0.00</td>\n",
       "      <td>0.00</td>\n",
       "      <td>0.1023</td>\n",
       "      <td>0.00</td>\n",
       "      <td>NaN</td>\n",
       "      <td>NaN</td>\n",
       "      <td>NaN</td>\n",
       "      <td>NaN</td>\n",
       "      <td>NaN</td>\n",
       "      <td>1</td>\n",
       "      <td>0</td>\n",
       "      <td>0</td>\n",
       "      <td>0</td>\n",
       "      <td>0</td>\n",
       "    </tr>\n",
       "    <tr>\n",
       "      <th>2024-06-20</th>\n",
       "      <td>8946143.29</td>\n",
       "      <td>0.00</td>\n",
       "      <td>0.00</td>\n",
       "      <td>0.1023</td>\n",
       "      <td>0.00</td>\n",
       "      <td>NaN</td>\n",
       "      <td>NaN</td>\n",
       "      <td>NaN</td>\n",
       "      <td>NaN</td>\n",
       "      <td>NaN</td>\n",
       "      <td>1</td>\n",
       "      <td>0</td>\n",
       "      <td>0</td>\n",
       "      <td>0</td>\n",
       "      <td>0</td>\n",
       "    </tr>\n",
       "    <tr>\n",
       "      <th>2024-07-20</th>\n",
       "      <td>8946143.29</td>\n",
       "      <td>0.00</td>\n",
       "      <td>0.00</td>\n",
       "      <td>0.1023</td>\n",
       "      <td>0.00</td>\n",
       "      <td>NaN</td>\n",
       "      <td>NaN</td>\n",
       "      <td>NaN</td>\n",
       "      <td>NaN</td>\n",
       "      <td>NaN</td>\n",
       "      <td>1</td>\n",
       "      <td>0</td>\n",
       "      <td>0</td>\n",
       "      <td>0</td>\n",
       "      <td>0</td>\n",
       "    </tr>\n",
       "    <tr>\n",
       "      <th>2024-08-20</th>\n",
       "      <td>8946143.29</td>\n",
       "      <td>0.00</td>\n",
       "      <td>0.00</td>\n",
       "      <td>0.1023</td>\n",
       "      <td>0.00</td>\n",
       "      <td>NaN</td>\n",
       "      <td>NaN</td>\n",
       "      <td>NaN</td>\n",
       "      <td>NaN</td>\n",
       "      <td>NaN</td>\n",
       "      <td>1</td>\n",
       "      <td>0</td>\n",
       "      <td>0</td>\n",
       "      <td>0</td>\n",
       "      <td>0</td>\n",
       "    </tr>\n",
       "    <tr>\n",
       "      <th>2024-09-20</th>\n",
       "      <td>8946143.29</td>\n",
       "      <td>0.00</td>\n",
       "      <td>0.00</td>\n",
       "      <td>0.1023</td>\n",
       "      <td>0.00</td>\n",
       "      <td>NaN</td>\n",
       "      <td>NaN</td>\n",
       "      <td>NaN</td>\n",
       "      <td>NaN</td>\n",
       "      <td>NaN</td>\n",
       "      <td>1</td>\n",
       "      <td>0</td>\n",
       "      <td>0</td>\n",
       "      <td>0</td>\n",
       "      <td>0</td>\n",
       "    </tr>\n",
       "    <tr>\n",
       "      <th>2024-10-20</th>\n",
       "      <td>7978572.33</td>\n",
       "      <td>426253.06</td>\n",
       "      <td>967570.96</td>\n",
       "      <td>0.1023</td>\n",
       "      <td>1393824.02</td>\n",
       "      <td>1500000.0</td>\n",
       "      <td>7987.8</td>\n",
       "      <td>0.0</td>\n",
       "      <td>0.1023</td>\n",
       "      <td>7987.8</td>\n",
       "      <td>1</td>\n",
       "      <td>0</td>\n",
       "      <td>0</td>\n",
       "      <td>0</td>\n",
       "      <td>0</td>\n",
       "    </tr>\n",
       "    <tr>\n",
       "      <th>2024-11-20</th>\n",
       "      <td>7978572.33</td>\n",
       "      <td>0.00</td>\n",
       "      <td>0.00</td>\n",
       "      <td>0.1023</td>\n",
       "      <td>0.00</td>\n",
       "      <td>1500000.0</td>\n",
       "      <td>0.0</td>\n",
       "      <td>0.0</td>\n",
       "      <td>0.1023</td>\n",
       "      <td>0.0</td>\n",
       "      <td>1</td>\n",
       "      <td>0</td>\n",
       "      <td>0</td>\n",
       "      <td>0</td>\n",
       "      <td>0</td>\n",
       "    </tr>\n",
       "  </tbody>\n",
       "</table>\n",
       "</div>"
      ],
      "text/plain": [
       "BondGroup            A                                                        \\\n",
       "Bond                A1                                                    A2   \n",
       "Field          balance   interest   principal    rate        cash    balance   \n",
       "date                                                                           \n",
       "2024-05-03  8946143.29   39238.35  1053857.55  0.1023  1093095.90        NaN   \n",
       "2024-05-20  8946143.29       0.00        0.00  0.1023        0.00        NaN   \n",
       "2024-06-20  8946143.29       0.00        0.00  0.1023        0.00        NaN   \n",
       "2024-07-20  8946143.29       0.00        0.00  0.1023        0.00        NaN   \n",
       "2024-08-20  8946143.29       0.00        0.00  0.1023        0.00        NaN   \n",
       "2024-09-20  8946143.29       0.00        0.00  0.1023        0.00        NaN   \n",
       "2024-10-20  7978572.33  426253.06   967570.96  0.1023  1393824.02  1500000.0   \n",
       "2024-11-20  7978572.33       0.00        0.00  0.1023        0.00  1500000.0   \n",
       "\n",
       "BondGroup                                           B                          \\\n",
       "Bond                                                -                           \n",
       "Field      interest principal    rate    cash balance interest principal rate   \n",
       "date                                                                            \n",
       "2024-05-03      NaN       NaN     NaN     NaN       1        0         0    0   \n",
       "2024-05-20      NaN       NaN     NaN     NaN       1        0         0    0   \n",
       "2024-06-20      NaN       NaN     NaN     NaN       1        0         0    0   \n",
       "2024-07-20      NaN       NaN     NaN     NaN       1        0         0    0   \n",
       "2024-08-20      NaN       NaN     NaN     NaN       1        0         0    0   \n",
       "2024-09-20      NaN       NaN     NaN     NaN       1        0         0    0   \n",
       "2024-10-20   7987.8       0.0  0.1023  7987.8       1        0         0    0   \n",
       "2024-11-20      0.0       0.0  0.1023     0.0       1        0         0    0   \n",
       "\n",
       "BondGroup        \n",
       "Bond             \n",
       "Field      cash  \n",
       "date             \n",
       "2024-05-03    0  \n",
       "2024-05-20    0  \n",
       "2024-06-20    0  \n",
       "2024-07-20    0  \n",
       "2024-08-20    0  \n",
       "2024-09-20    0  \n",
       "2024-10-20    0  \n",
       "2024-11-20    0  "
      ]
     },
     "execution_count": 562,
     "metadata": {},
     "output_type": "execute_result"
    }
   ],
   "source": [
    "readBondsCf(r2['bonds'])"
   ]
  },
  {
   "cell_type": "code",
   "execution_count": 563,
   "id": "747d86d3",
   "metadata": {},
   "outputs": [
    {
     "data": {
      "text/html": [
       "<div>\n",
       "<style scoped>\n",
       "    .dataframe tbody tr th:only-of-type {\n",
       "        vertical-align: middle;\n",
       "    }\n",
       "\n",
       "    .dataframe tbody tr th {\n",
       "        vertical-align: top;\n",
       "    }\n",
       "\n",
       "    .dataframe thead th {\n",
       "        text-align: right;\n",
       "    }\n",
       "</style>\n",
       "<table border=\"1\" class=\"dataframe\">\n",
       "  <thead>\n",
       "    <tr style=\"text-align: right;\">\n",
       "      <th></th>\n",
       "      <th>balance</th>\n",
       "      <th>change</th>\n",
       "      <th>memo</th>\n",
       "    </tr>\n",
       "    <tr>\n",
       "      <th>date</th>\n",
       "      <th></th>\n",
       "      <th></th>\n",
       "      <th></th>\n",
       "    </tr>\n",
       "  </thead>\n",
       "  <tbody>\n",
       "    <tr>\n",
       "      <th>2024-10-20</th>\n",
       "      <td>1504201.85</td>\n",
       "      <td>595.42</td>\n",
       "      <td>&lt;Transfer:collections_interest,collections_pri...</td>\n",
       "    </tr>\n",
       "    <tr>\n",
       "      <th>2024-10-20</th>\n",
       "      <td>1504201.85</td>\n",
       "      <td>0.00</td>\n",
       "      <td>&lt;Transfer:reserveAccount,collections_principal&gt;</td>\n",
       "    </tr>\n",
       "    <tr>\n",
       "      <th>2024-10-20</th>\n",
       "      <td>1401811.82</td>\n",
       "      <td>-102390.03</td>\n",
       "      <td>&lt;SeqPayFee:technology_feestructuring_feeservic...</td>\n",
       "    </tr>\n",
       "    <tr>\n",
       "      <th>2024-10-20</th>\n",
       "      <td>967570.96</td>\n",
       "      <td>-434240.86</td>\n",
       "      <td>&lt;PayInt:A&gt;</td>\n",
       "    </tr>\n",
       "    <tr>\n",
       "      <th>2024-10-20</th>\n",
       "      <td>0.00</td>\n",
       "      <td>-967570.96</td>\n",
       "      <td>&lt;PayPrin:A&gt;</td>\n",
       "    </tr>\n",
       "    <tr>\n",
       "      <th>2024-10-20</th>\n",
       "      <td>0.00</td>\n",
       "      <td>0.00</td>\n",
       "      <td>&lt;PayYield:B&gt;</td>\n",
       "    </tr>\n",
       "    <tr>\n",
       "      <th>2024-10-20</th>\n",
       "      <td>0.00</td>\n",
       "      <td>0.00</td>\n",
       "      <td>&lt;SeqPayFee:servicing_fee&gt;</td>\n",
       "    </tr>\n",
       "    <tr>\n",
       "      <th>2024-10-20</th>\n",
       "      <td>0.00</td>\n",
       "      <td>0.00</td>\n",
       "      <td>&lt;PayPrin:B&gt;</td>\n",
       "    </tr>\n",
       "  </tbody>\n",
       "</table>\n",
       "</div>"
      ],
      "text/plain": [
       "               balance     change  \\\n",
       "date                                \n",
       "2024-10-20  1504201.85     595.42   \n",
       "2024-10-20  1504201.85       0.00   \n",
       "2024-10-20  1401811.82 -102390.03   \n",
       "2024-10-20   967570.96 -434240.86   \n",
       "2024-10-20        0.00 -967570.96   \n",
       "2024-10-20        0.00       0.00   \n",
       "2024-10-20        0.00       0.00   \n",
       "2024-10-20        0.00       0.00   \n",
       "\n",
       "                                                         memo  \n",
       "date                                                           \n",
       "2024-10-20  <Transfer:collections_interest,collections_pri...  \n",
       "2024-10-20    <Transfer:reserveAccount,collections_principal>  \n",
       "2024-10-20  <SeqPayFee:technology_feestructuring_feeservic...  \n",
       "2024-10-20                                         <PayInt:A>  \n",
       "2024-10-20                                        <PayPrin:A>  \n",
       "2024-10-20                                       <PayYield:B>  \n",
       "2024-10-20                          <SeqPayFee:servicing_fee>  \n",
       "2024-10-20                                        <PayPrin:B>  "
      ]
     },
     "execution_count": 563,
     "metadata": {},
     "output_type": "execute_result"
    }
   ],
   "source": [
    "r2['accounts']['collections_principal'].loc[\"2024-10-20\"]"
   ]
  },
  {
   "cell_type": "code",
   "execution_count": 423,
   "id": "60e8a0ad",
   "metadata": {},
   "outputs": [
    {
     "data": {
      "text/plain": [
       "490.83737178082174"
      ]
     },
     "execution_count": 423,
     "metadata": {},
     "output_type": "execute_result"
    }
   ],
   "source": [
    "# 2024-5-20\n",
    "10_000_000 * (17)/365 * 0.01 - 8946143.29 * 17/365 * 0.01 "
   ]
  },
  {
   "cell_type": "code",
   "execution_count": 424,
   "id": "a162be0f",
   "metadata": {},
   "outputs": [
    {
     "data": {
      "text/plain": [
       "1385.8863838356172"
      ]
     },
     "execution_count": 424,
     "metadata": {},
     "output_type": "execute_result"
    }
   ],
   "source": [
    "# 2024-6-20\n",
    "(10_000_000 - 8946143.29) * 31/365 * 0.01 + 490.83"
   ]
  },
  {
   "cell_type": "code",
   "execution_count": 425,
   "id": "7438b17f",
   "metadata": {},
   "outputs": [
    {
     "data": {
      "text/plain": [
       "2113.639981095892"
      ]
     },
     "execution_count": 425,
     "metadata": {},
     "output_type": "execute_result"
    }
   ],
   "source": [
    "# 2024-7-20\n",
    "(10_000_000 - 8946143.29) * 30/365 * 0.01 + 1385.8863838356172 - 138.43"
   ]
  },
  {
   "cell_type": "code",
   "execution_count": 510,
   "id": "4c79d3d7",
   "metadata": {},
   "outputs": [
    {
     "data": {
      "text/plain": [
       "4436.7135972602755"
      ]
     },
     "execution_count": 510,
     "metadata": {},
     "output_type": "execute_result"
    }
   ],
   "source": [
    "# 2024-10-20\n",
    "(10_000_000 * 30/365 * 0.01 ) - (8946143.29 * 30/365 * 0.01 )+3570.53"
   ]
  },
  {
   "cell_type": "code",
   "execution_count": 429,
   "id": "9c3e41fd",
   "metadata": {},
   "outputs": [
    {
     "data": {
      "text/plain": [
       "976712.3287671233"
      ]
     },
     "execution_count": 429,
     "metadata": {},
     "output_type": "execute_result"
    }
   ],
   "source": [
    "# 2024-11-20 - Original balance\n",
    "(10_000_000 * 31/365) + (1_500_000* 31/365 )"
   ]
  },
  {
   "cell_type": "code",
   "execution_count": 430,
   "id": "5f209566",
   "metadata": {},
   "outputs": [
    {
     "data": {
      "text/plain": [
       "887206.6903835615"
      ]
     },
     "execution_count": 430,
     "metadata": {},
     "output_type": "execute_result"
    }
   ],
   "source": [
    "# current balance\n",
    "(8946143.29 * 31/365) +(1500000.0 * 31/365)"
   ]
  },
  {
   "cell_type": "code",
   "execution_count": 512,
   "id": "c40adc1c",
   "metadata": {},
   "outputs": [
    {
     "data": {
      "text/plain": [
       "1716.8289799999998"
      ]
     },
     "execution_count": 512,
     "metadata": {},
     "output_type": "execute_result"
    }
   ],
   "source": [
    "0.01 * ((10_000_000) - (7978572.33)) * 31/365"
   ]
  },
  {
   "cell_type": "code",
   "execution_count": 513,
   "id": "c4be82cf",
   "metadata": {},
   "outputs": [
    {
     "data": {
      "text/plain": [
       "1716.82"
      ]
     },
     "execution_count": 513,
     "metadata": {},
     "output_type": "execute_result"
    }
   ],
   "source": [
    "1304.49 + 412.33"
   ]
  }
 ],
 "metadata": {
  "kernelspec": {
   "display_name": "Python 3 (ipykernel)",
   "language": "python",
   "name": "python3"
  },
  "language_info": {
   "codemirror_mode": {
    "name": "ipython",
    "version": 3
   },
   "file_extension": ".py",
   "mimetype": "text/x-python",
   "name": "python",
   "nbconvert_exporter": "python",
   "pygments_lexer": "ipython3",
   "version": "3.11.9"
  }
 },
 "nbformat": 4,
 "nbformat_minor": 5
}
