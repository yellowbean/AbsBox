{
 "cells": [
  {
   "cell_type": "code",
   "execution_count": 1,
   "id": "45a468df",
   "metadata": {},
   "outputs": [
    {
     "data": {
      "text/html": [
       "<pre style=\"white-space:pre;overflow-x:auto;line-height:normal;font-family:Menlo,'DejaVu Sans Mono',consolas,'Courier New',monospace\"><span style=\"color: #800080; text-decoration-color: #800080; font-weight: bold\">Connecting engine server -&gt; </span><span style=\"color: #800080; text-decoration-color: #800080; font-weight: bold; text-decoration: underline\">http://localhost:8081</span>\n",
       "</pre>\n"
      ],
      "text/plain": [
       "\u001b[1;35mConnecting engine server -> \u001b[0m\u001b[1;4;35mhttp://localhost:8081\u001b[0m\n"
      ]
     },
     "metadata": {},
     "output_type": "display_data"
    },
    {
     "data": {
      "text/html": [
       "<pre style=\"white-space:pre;overflow-x:auto;line-height:normal;font-family:Menlo,'DejaVu Sans Mono',consolas,'Courier New',monospace\">✅<span style=\"color: #008000; text-decoration-color: #008000; font-weight: bold\">Connected, local lib:0.</span><span style=\"color: #008000; text-decoration-color: #008000; font-weight: bold\">28.7</span><span style=\"color: #008000; text-decoration-color: #008000; font-weight: bold\">, server:</span><span style=\"color: #008000; text-decoration-color: #008000; font-weight: bold\">0.29</span><span style=\"color: #008000; text-decoration-color: #008000; font-weight: bold\">.</span><span style=\"color: #008000; text-decoration-color: #008000; font-weight: bold\">10</span>\n",
       "</pre>\n"
      ],
      "text/plain": [
       "✅\u001b[1;32mConnected, local li\u001b[0m\u001b[1;32mb:0\u001b[0m\u001b[1;32m.\u001b[0m\u001b[1;32m28.7\u001b[0m\u001b[1;32m, server:\u001b[0m\u001b[1;32m0.29\u001b[0m\u001b[1;32m.\u001b[0m\u001b[1;32m10\u001b[0m\n"
      ]
     },
     "metadata": {},
     "output_type": "display_data"
    }
   ],
   "source": [
    "import datetime as datetime\n",
    "import pandas as pd\n",
    "import numpy as np\n",
    "#import numpy_financial as npf\n",
    "from itertools import accumulate\n",
    "import absbox as abs\n",
    "from absbox import API, SPV, Generic, mkDealsBy, setDealsBy,prodDealsBy, viz, readBondsCf      #, Portfolio, Risk, Performance, Utils, Data, Analytics, Market, Risk, Utils, Data, Analytics, Market\n",
    "from absbox.local.analytics import irr, run_yield_table, flow_by_scenario       #npv, \n",
    "from absbox.local.util import positionFlow\n",
    "from dateutil.relativedelta import relativedelta  \n",
    "from tabulate import tabulate\n",
    "from itertools import accumulate\n",
    "from pyxirr import xirr\n",
    "import matplotlib.pyplot as plt  \n",
    "import matplotlib.dates as mdates  \n",
    "from mpl_toolkits.mplot3d import axes3d\n",
    "import time\n",
    "#from scipy import optimize\n",
    "import matplotlib.ticker as mtick\n",
    "from matplotlib.ticker import FuncFormatter  \n",
    "#import seaborn as sns   \n",
    "import warnings\n",
    "from lenses import lens\n",
    "#import plotly.graph_objects as go\n",
    "#import plotly.express as px\n",
    "import math\n",
    "\n",
    "warnings.filterwarnings('ignore')\n",
    "localAPI = API(\"http://localhost:8081\",check=False)\n",
    "\n",
    "pd.set_option('display.float_format', lambda x: f'{x:,.3f}')\n",
    "pd.set_option('display.max_rows', None)"
   ]
  },
  {
   "cell_type": "markdown",
   "id": "1e4d781e",
   "metadata": {},
   "source": [
    "Old Model"
   ]
  },
  {
   "cell_type": "code",
   "execution_count": 7,
   "id": "cca79830",
   "metadata": {},
   "outputs": [],
   "source": [
    "# Pool assumptions \n",
    "original_pool_balance = 1_000_000\n",
    "original_pool_term = 72\n",
    "seasoning = 0\n",
    "base_rate = 0 # float(prcEnv.ratesCurves['EUR'].instFwd(valDate.addTenor('0D')))\n",
    "pool_rate = 0.03 + base_rate\n",
    "default_rate = 0.0013     #0.002  #[0.03]*36 + [0.01]*36    # [0.0062]*12 + [0.0052]*12 + [0.0072]*12 + [0.0022]*12 + [0.0012]*12 + [0.0092]*12       #this is annualized to month # sensitize this with the worst historical default rates upfront \n",
    "# defaultFactor = [[\"2020-10-01\",1.05],[\"2022-10-01\",1.15]]\n",
    "pool_cpr = 0.15  # amortization rate, 12 / original_pool_term \n",
    "recovery_rate = 0.00  # 1 - (0.3 * 0.7 + 0.15 * 0.3)  \n",
    "recovery_lag = 0   \n",
    "\n",
    "# Deal assumptions\n",
    "start_date = '2024-11-15'\n",
    "original_deal_term = 60\n",
    "repay_month = 3\n",
    "months_to_call = repay_month\n",
    "tranche_size_equity = 0.005\n",
    "tranche_size_mezz = 0.051\n",
    "tranche_size_senior = 1 - tranche_size_equity - tranche_size_mezz\n",
    "tranche_rate_equity = 0.00 + base_rate   \n",
    "tranche_rate_mezz = 0.07 + base_rate\n",
    "tranche_rate_senior = 0\n",
    "issue_price = 1\n",
    "reinvestment_rate = 0.00\n",
    "switch_trigger = \"cumPoolNetLossRate\"   # [(\"cumPoolDefaultedRate\",),\">\",0.05]] \n",
    "switch_level = 0.02 \n",
    "clean_up_call = 0.1\n",
    "\n",
    "# Remaining calcs\n",
    "first_pay_date = datetime.datetime.strptime(start_date, '%Y-%m-%d').date() + relativedelta(months=+3)  \n",
    "first_pay_date = first_pay_date.strftime('%Y-%m-%d')\n",
    "repay_date = datetime.datetime.strptime(start_date, '%Y-%m-%d').date() + relativedelta(months=+repay_month)  \n",
    "repay_date = repay_date.strftime('%Y-%m-%d')  \n",
    "deal_maturity_date = datetime.datetime.strptime(start_date, '%Y-%m-%d').date() + relativedelta(months=+original_deal_term)\n",
    "deal_maturity_date = deal_maturity_date.strftime('%Y-%m-%d')  \n",
    "deal_call_date = datetime.datetime.strptime(start_date, '%Y-%m-%d').date() + relativedelta(months=+months_to_call)\n",
    "deal_call_date = deal_call_date.strftime('%Y-%m-%d')  \n",
    "pool_maturity_date = datetime.datetime.strptime(start_date, '%Y-%m-%d').date() + relativedelta(months=+original_pool_term)\n",
    "pool_maturity_date = pool_maturity_date.strftime('%Y-%m-%d')  "
   ]
  },
  {
   "cell_type": "code",
   "execution_count": 155,
   "id": "75000629",
   "metadata": {},
   "outputs": [
    {
     "data": {
      "text/html": [
       "<pre style=\"white-space:pre;overflow-x:auto;line-height:normal;font-family:Menlo,'DejaVu Sans Mono',consolas,'Courier New',monospace\">Warning Message from server:\n",
       "<span style=\"color: #808000; text-decoration-color: #808000; font-weight: bold\">Bond E is not paid off</span>\n",
       "<span style=\"color: #808000; text-decoration-color: #808000; font-weight: bold\">Bond M is not paid off</span>\n",
       "<span style=\"color: #808000; text-decoration-color: #808000; font-weight: bold\">Bond S is not paid off</span>\n",
       "</pre>\n"
      ],
      "text/plain": [
       "Warning Message from server:\n",
       "\u001b[1;33mBond E is not paid off\u001b[0m\n",
       "\u001b[1;33mBond M is not paid off\u001b[0m\n",
       "\u001b[1;33mBond S is not paid off\u001b[0m\n"
      ]
     },
     "metadata": {},
     "output_type": "display_data"
    }
   ],
   "source": [
    "mortgage1 = [\"Mortgage\"             #this is a factual snapshot at issuance, confirmed unchanged.\n",
    "        ,{\"originBalance\":original_pool_balance,\"originRate\":[\"fix\",pool_rate],\"originTerm\":original_pool_term,\"freq\":\"Monthly\",\"type\":\"Even\",\"originDate\":start_date} \n",
    "        ,{\"currentBalance\":original_pool_balance,\"currentRate\":pool_rate,\"remainTerm\":original_pool_term - seasoning,\"status\":\"current\"}]\n",
    "revolvingPool = ([\"constant\",mortgage1],(\"Pool\",(\"Mortgage\",{\"CDR\":default_rate},{\"CPR\":pool_cpr},{\"Rate\":recovery_rate,\"Lag\":recovery_lag},None),None,None))\n",
    "perf = (\"Pool\",(\"Mortgage\",{\"CDR\":default_rate},{\"CPR\":pool_cpr},{\"Rate\":recovery_rate,\"Lag\":recovery_lag},None),None,None)     # this is for new assets added into the pool\n",
    "\n",
    "Resonance = Generic(\"TEST01\"\n",
    "    ,{\"cutoff\":start_date,\"closing\":start_date,\"firstPay\":first_pay_date,\"payFreq\":\"MonthEnd\",\"poolFreq\":\"MonthEnd\",\"stated\":deal_maturity_date} \n",
    "    ,{'assets':[mortgage1],'issuanceStat':{\"IssuanceBalance\":original_pool_balance}}\n",
    "    ,((\"acc01\",{\"balance\":0}),(\"acc02\",{\"balance\":0}))  \n",
    "    ,((\"S\",{\"balance\":original_pool_balance * tranche_size_senior, \"rate\":tranche_rate_senior,\"originBalance\":original_pool_balance * tranche_size_senior\n",
    "      ,\"originRate\":tranche_rate_senior,\"startDate\":start_date,\"rateType\":{\"Fixed\":tranche_rate_senior},\"bondType\":{\"Sequential\":None}})\n",
    "     ,(\"M\",{\"balance\":original_pool_balance * tranche_size_mezz,\"rate\":tranche_rate_mezz,\"originBalance\":original_pool_balance * tranche_size_mezz\n",
    "      ,\"originRate\":tranche_rate_mezz,\"startDate\":start_date,\"rateType\":{\"Fixed\":tranche_rate_mezz},\"bondType\":{\"Sequential\":None}})                 \n",
    "     ,(\"E\",{\"balance\":original_pool_balance * tranche_size_equity,\"rate\":tranche_rate_equity,\"originBalance\":original_pool_balance * tranche_size_equity\n",
    "      ,\"originRate\":tranche_rate_equity,\"startDate\":start_date,\"rateType\":{\"Fixed\":tranche_rate_equity}, \"bondType\":{\"Sequential\":None}}))\n",
    "    ,list()\n",
    "    ,{\"revolving\":[[\"accrueAndPayIntBySeq\",\"acc02\",[\"S\",\"M\",\"E\"]],['transfer',\"acc02\",\"acc01\"] # ,['WriteOff',[\"E\",\"M\",\"S\"]]                                             # this is the write off of the defaulted assets\n",
    "      # ,[\"buyAsset\",[\"Current|Defaulted\",1.0,0],\"acc01\",{\"formula\":(\"-\",(\"originalPoolBalance\",),(\"poolBalance\",))}]]    # (\"cumPoolCollection\", None, \"CollectedPrincipal\",\"CollectedPrepayment\")     # None can be replaced with small pools \n",
    "      ,[\"buyAsset\",[\"Current|Defaulted\",1.0,0],\"acc01\",{\"formula\":(\"curPoolCollection\",None,\"CollectedPrincipal\",\"CollectedPrepayment\")}]]    # (\"cumPoolCollection\", None, \"CollectedPrincipal\",\"CollectedPrepayment\")     # None can be replaced with small pools \n",
    "      ,\"amortizing\":[[\"accrueAndPayIntBySeq\",\"acc02\",[\"S\",\"M\",\"E\"]], ['transfer',\"acc02\",\"acc01\"]\n",
    "      # ,['payPrinBySeq',\"acc01\",[\"S\",\"M\",\"E\"]], ['WriteOff',[\"E\",\"M\",\"S\"]]\n",
    "      ,['payPrin',\"acc01\",[\"S\",\"M\",\"E\"]], ['payIntResidual',\"acc01\",\"E\"]]}\n",
    "    ,[[\"CollectedPrincipal\",\"acc01\"],[\"CollectedRecoveries\",\"acc01\"],[\"CollectedPrepayment\",\"acc01\"],[\"CollectedInterest\",\"acc02\"]]\n",
    "    ,None,None,None\n",
    "    ,{\"BeforeDistribution\":{\"dealStatusChange\":{\"condition\":[\"any\",[\">=\",repay_date],[(switch_trigger,),\">\",switch_level]]\n",
    "      ,\"effects\":(\"newStatus\",\"Amortizing\"),\"status\":False,\"curable\":False}}}\n",
    "    ,(\"PreClosing\",\"Revolving\"))\n",
    "\n",
    "# Asumption about what happens during the revolving period, we care about what assets we buy, and hows their performance. below is what the new assets look like\n",
    "runDealAssump = [(\"revolving\",[\"constant\",[\"Mortgage\"     \n",
    "                  ,{\"originBalance\":original_pool_balance,\"originRate\":[\"fix\",pool_rate],\"originTerm\":original_pool_term,\"freq\":\"Monthly\",\"type\":\"Level\",\"originDate\":repay_date}\n",
    "                  ,{\"currentBalance\":original_pool_balance,\"currentRate\":pool_rate,\"remainTerm\":original_pool_term,\"status\":\"current\"}]],perf)\n",
    "                ,(\"call\",{\"poolFactor\":clean_up_call})]\n",
    "\n",
    "r = localAPI.run(Resonance,runAssump = runDealAssump,poolAssump = (\"Pool\",(\"Mortgage\",{\"CDR\":default_rate},None,{\"Rate\":recovery_rate,\"Lag\":recovery_lag},None),None,None),read=True)"
   ]
  },
  {
   "cell_type": "code",
   "execution_count": 156,
   "id": "da39895b",
   "metadata": {},
   "outputs": [
    {
     "data": {
      "text/plain": [
       "0.07228914522482051"
      ]
     },
     "execution_count": 156,
     "metadata": {},
     "output_type": "execute_result"
    }
   ],
   "source": [
    "bond_cf = readBondsCf(r['bonds'])\n",
    "bond_cf.iloc[0, bond_cf.columns.get_loc(('M', 'cash'))] = -bond_cf.iloc[0, bond_cf.columns.get_loc(('M', 'balance'))]\n",
    "bond_cf.iloc[-1, bond_cf.columns.get_loc(('M', 'cash'))] = bond_cf.iloc[-1, bond_cf.columns.get_loc(('M', 'balance'))] + bond_cf.iloc[-1, bond_cf.columns.get_loc(('M', 'interest'))] + bond_cf.iloc[-1, bond_cf.columns.get_loc(('M', 'principal'))]\n",
    "bond_cf.tail()\n",
    "irr = xirr(bond_cf.index.to_list(), bond_cf['M', 'cash'].to_list())\n",
    "irr"
   ]
  },
  {
   "cell_type": "markdown",
   "id": "abc6ec8b",
   "metadata": {},
   "source": [
    "Sensitivity Test v1"
   ]
  },
  {
   "cell_type": "code",
   "execution_count": 159,
   "id": "1ac19ba1",
   "metadata": {},
   "outputs": [
    {
     "data": {
      "text/html": [
       "<pre style=\"white-space:pre;overflow-x:auto;line-height:normal;font-family:Menlo,'DejaVu Sans Mono',consolas,'Courier New',monospace\">Warning Message from server:\n",
       "<span style=\"color: #808000; text-decoration-color: #808000; font-weight: bold\">Bond E is not paid off</span>\n",
       "<span style=\"color: #808000; text-decoration-color: #808000; font-weight: bold\">Bond M is not paid off</span>\n",
       "<span style=\"color: #808000; text-decoration-color: #808000; font-weight: bold\">Bond S is not paid off</span>\n",
       "</pre>\n"
      ],
      "text/plain": [
       "Warning Message from server:\n",
       "\u001b[1;33mBond E is not paid off\u001b[0m\n",
       "\u001b[1;33mBond M is not paid off\u001b[0m\n",
       "\u001b[1;33mBond S is not paid off\u001b[0m\n"
      ]
     },
     "metadata": {},
     "output_type": "display_data"
    },
    {
     "name": "stdout",
     "output_type": "stream",
     "text": [
      "Pool CPR: 0.0, Tranche Rate: 4.0, IRR: 4.073999049658834\n"
     ]
    },
    {
     "data": {
      "text/html": [
       "<pre style=\"white-space:pre;overflow-x:auto;line-height:normal;font-family:Menlo,'DejaVu Sans Mono',consolas,'Courier New',monospace\">Warning Message from server:\n",
       "<span style=\"color: #808000; text-decoration-color: #808000; font-weight: bold\">Bond E is not paid off</span>\n",
       "<span style=\"color: #808000; text-decoration-color: #808000; font-weight: bold\">Bond M is not paid off</span>\n",
       "<span style=\"color: #808000; text-decoration-color: #808000; font-weight: bold\">Bond S is not paid off</span>\n",
       "</pre>\n"
      ],
      "text/plain": [
       "Warning Message from server:\n",
       "\u001b[1;33mBond E is not paid off\u001b[0m\n",
       "\u001b[1;33mBond M is not paid off\u001b[0m\n",
       "\u001b[1;33mBond S is not paid off\u001b[0m\n"
      ]
     },
     "metadata": {},
     "output_type": "display_data"
    },
    {
     "name": "stdout",
     "output_type": "stream",
     "text": [
      "Pool CPR: 0.0, Tranche Rate: 4.5, IRR: 4.593824352917886\n"
     ]
    },
    {
     "data": {
      "text/html": [
       "<pre style=\"white-space:pre;overflow-x:auto;line-height:normal;font-family:Menlo,'DejaVu Sans Mono',consolas,'Courier New',monospace\">Warning Message from server:\n",
       "<span style=\"color: #808000; text-decoration-color: #808000; font-weight: bold\">Bond E is not paid off</span>\n",
       "<span style=\"color: #808000; text-decoration-color: #808000; font-weight: bold\">Bond M is not paid off</span>\n",
       "<span style=\"color: #808000; text-decoration-color: #808000; font-weight: bold\">Bond S is not paid off</span>\n",
       "</pre>\n"
      ],
      "text/plain": [
       "Warning Message from server:\n",
       "\u001b[1;33mBond E is not paid off\u001b[0m\n",
       "\u001b[1;33mBond M is not paid off\u001b[0m\n",
       "\u001b[1;33mBond S is not paid off\u001b[0m\n"
      ]
     },
     "metadata": {},
     "output_type": "display_data"
    },
    {
     "name": "stdout",
     "output_type": "stream",
     "text": [
      "Pool CPR: 0.0, Tranche Rate: 5.0, IRR: 5.115934503187076\n"
     ]
    },
    {
     "data": {
      "text/html": [
       "<pre style=\"white-space:pre;overflow-x:auto;line-height:normal;font-family:Menlo,'DejaVu Sans Mono',consolas,'Courier New',monospace\">Warning Message from server:\n",
       "<span style=\"color: #808000; text-decoration-color: #808000; font-weight: bold\">Bond E is not paid off</span>\n",
       "<span style=\"color: #808000; text-decoration-color: #808000; font-weight: bold\">Bond M is not paid off</span>\n",
       "<span style=\"color: #808000; text-decoration-color: #808000; font-weight: bold\">Bond S is not paid off</span>\n",
       "</pre>\n"
      ],
      "text/plain": [
       "Warning Message from server:\n",
       "\u001b[1;33mBond E is not paid off\u001b[0m\n",
       "\u001b[1;33mBond M is not paid off\u001b[0m\n",
       "\u001b[1;33mBond S is not paid off\u001b[0m\n"
      ]
     },
     "metadata": {},
     "output_type": "display_data"
    },
    {
     "name": "stdout",
     "output_type": "stream",
     "text": [
      "Pool CPR: 0.0, Tranche Rate: 5.499999999999999, IRR: 5.640558071079428\n"
     ]
    },
    {
     "data": {
      "text/html": [
       "<pre style=\"white-space:pre;overflow-x:auto;line-height:normal;font-family:Menlo,'DejaVu Sans Mono',consolas,'Courier New',monospace\">Warning Message from server:\n",
       "<span style=\"color: #808000; text-decoration-color: #808000; font-weight: bold\">Bond E is not paid off</span>\n",
       "<span style=\"color: #808000; text-decoration-color: #808000; font-weight: bold\">Bond M is not paid off</span>\n",
       "<span style=\"color: #808000; text-decoration-color: #808000; font-weight: bold\">Bond S is not paid off</span>\n",
       "</pre>\n"
      ],
      "text/plain": [
       "Warning Message from server:\n",
       "\u001b[1;33mBond E is not paid off\u001b[0m\n",
       "\u001b[1;33mBond M is not paid off\u001b[0m\n",
       "\u001b[1;33mBond S is not paid off\u001b[0m\n"
      ]
     },
     "metadata": {},
     "output_type": "display_data"
    },
    {
     "name": "stdout",
     "output_type": "stream",
     "text": [
      "Pool CPR: 0.0, Tranche Rate: 5.999999999999999, IRR: 6.167548607512492\n"
     ]
    },
    {
     "data": {
      "text/html": [
       "<pre style=\"white-space:pre;overflow-x:auto;line-height:normal;font-family:Menlo,'DejaVu Sans Mono',consolas,'Courier New',monospace\">Warning Message from server:\n",
       "<span style=\"color: #808000; text-decoration-color: #808000; font-weight: bold\">Bond E is not paid off</span>\n",
       "<span style=\"color: #808000; text-decoration-color: #808000; font-weight: bold\">Bond M is not paid off</span>\n",
       "<span style=\"color: #808000; text-decoration-color: #808000; font-weight: bold\">Bond S is not paid off</span>\n",
       "</pre>\n"
      ],
      "text/plain": [
       "Warning Message from server:\n",
       "\u001b[1;33mBond E is not paid off\u001b[0m\n",
       "\u001b[1;33mBond M is not paid off\u001b[0m\n",
       "\u001b[1;33mBond S is not paid off\u001b[0m\n"
      ]
     },
     "metadata": {},
     "output_type": "display_data"
    },
    {
     "name": "stdout",
     "output_type": "stream",
     "text": [
      "Pool CPR: 0.0, Tranche Rate: 6.499999999999999, IRR: 6.696986127220721\n"
     ]
    },
    {
     "data": {
      "text/html": [
       "<pre style=\"white-space:pre;overflow-x:auto;line-height:normal;font-family:Menlo,'DejaVu Sans Mono',consolas,'Courier New',monospace\">Warning Message from server:\n",
       "<span style=\"color: #808000; text-decoration-color: #808000; font-weight: bold\">Bond E is not paid off</span>\n",
       "<span style=\"color: #808000; text-decoration-color: #808000; font-weight: bold\">Bond M is not paid off</span>\n",
       "<span style=\"color: #808000; text-decoration-color: #808000; font-weight: bold\">Bond S is not paid off</span>\n",
       "</pre>\n"
      ],
      "text/plain": [
       "Warning Message from server:\n",
       "\u001b[1;33mBond E is not paid off\u001b[0m\n",
       "\u001b[1;33mBond M is not paid off\u001b[0m\n",
       "\u001b[1;33mBond S is not paid off\u001b[0m\n"
      ]
     },
     "metadata": {},
     "output_type": "display_data"
    },
    {
     "name": "stdout",
     "output_type": "stream",
     "text": [
      "Pool CPR: 0.0, Tranche Rate: 6.999999999999998, IRR: 7.2288146806669396\n"
     ]
    },
    {
     "data": {
      "text/html": [
       "<pre style=\"white-space:pre;overflow-x:auto;line-height:normal;font-family:Menlo,'DejaVu Sans Mono',consolas,'Courier New',monospace\">Warning Message from server:\n",
       "<span style=\"color: #808000; text-decoration-color: #808000; font-weight: bold\">Bond E is not paid off</span>\n",
       "<span style=\"color: #808000; text-decoration-color: #808000; font-weight: bold\">Bond M is not paid off</span>\n",
       "<span style=\"color: #808000; text-decoration-color: #808000; font-weight: bold\">Bond S is not paid off</span>\n",
       "</pre>\n"
      ],
      "text/plain": [
       "Warning Message from server:\n",
       "\u001b[1;33mBond E is not paid off\u001b[0m\n",
       "\u001b[1;33mBond M is not paid off\u001b[0m\n",
       "\u001b[1;33mBond S is not paid off\u001b[0m\n"
      ]
     },
     "metadata": {},
     "output_type": "display_data"
    },
    {
     "name": "stdout",
     "output_type": "stream",
     "text": [
      "Pool CPR: 0.0, Tranche Rate: 7.499999999999998, IRR: 7.76310681165961\n"
     ]
    },
    {
     "data": {
      "text/html": [
       "<pre style=\"white-space:pre;overflow-x:auto;line-height:normal;font-family:Menlo,'DejaVu Sans Mono',consolas,'Courier New',monospace\">Warning Message from server:\n",
       "<span style=\"color: #808000; text-decoration-color: #808000; font-weight: bold\">Bond E is not paid off</span>\n",
       "<span style=\"color: #808000; text-decoration-color: #808000; font-weight: bold\">Bond M is not paid off</span>\n",
       "<span style=\"color: #808000; text-decoration-color: #808000; font-weight: bold\">Bond S is not paid off</span>\n",
       "</pre>\n"
      ],
      "text/plain": [
       "Warning Message from server:\n",
       "\u001b[1;33mBond E is not paid off\u001b[0m\n",
       "\u001b[1;33mBond M is not paid off\u001b[0m\n",
       "\u001b[1;33mBond S is not paid off\u001b[0m\n"
      ]
     },
     "metadata": {},
     "output_type": "display_data"
    },
    {
     "name": "stdout",
     "output_type": "stream",
     "text": [
      "Pool CPR: 5.0, Tranche Rate: 4.0, IRR: 4.073946743066094\n"
     ]
    },
    {
     "data": {
      "text/html": [
       "<pre style=\"white-space:pre;overflow-x:auto;line-height:normal;font-family:Menlo,'DejaVu Sans Mono',consolas,'Courier New',monospace\">Warning Message from server:\n",
       "<span style=\"color: #808000; text-decoration-color: #808000; font-weight: bold\">Bond E is not paid off</span>\n",
       "<span style=\"color: #808000; text-decoration-color: #808000; font-weight: bold\">Bond M is not paid off</span>\n",
       "<span style=\"color: #808000; text-decoration-color: #808000; font-weight: bold\">Bond S is not paid off</span>\n",
       "</pre>\n"
      ],
      "text/plain": [
       "Warning Message from server:\n",
       "\u001b[1;33mBond E is not paid off\u001b[0m\n",
       "\u001b[1;33mBond M is not paid off\u001b[0m\n",
       "\u001b[1;33mBond S is not paid off\u001b[0m\n"
      ]
     },
     "metadata": {},
     "output_type": "display_data"
    },
    {
     "name": "stdout",
     "output_type": "stream",
     "text": [
      "Pool CPR: 5.0, Tranche Rate: 4.5, IRR: 4.593797681817138\n"
     ]
    },
    {
     "data": {
      "text/html": [
       "<pre style=\"white-space:pre;overflow-x:auto;line-height:normal;font-family:Menlo,'DejaVu Sans Mono',consolas,'Courier New',monospace\">Warning Message from server:\n",
       "<span style=\"color: #808000; text-decoration-color: #808000; font-weight: bold\">Bond E is not paid off</span>\n",
       "<span style=\"color: #808000; text-decoration-color: #808000; font-weight: bold\">Bond M is not paid off</span>\n",
       "<span style=\"color: #808000; text-decoration-color: #808000; font-weight: bold\">Bond S is not paid off</span>\n",
       "</pre>\n"
      ],
      "text/plain": [
       "Warning Message from server:\n",
       "\u001b[1;33mBond E is not paid off\u001b[0m\n",
       "\u001b[1;33mBond M is not paid off\u001b[0m\n",
       "\u001b[1;33mBond S is not paid off\u001b[0m\n"
      ]
     },
     "metadata": {},
     "output_type": "display_data"
    },
    {
     "name": "stdout",
     "output_type": "stream",
     "text": [
      "Pool CPR: 5.0, Tranche Rate: 5.0, IRR: 5.115945449124064\n"
     ]
    },
    {
     "data": {
      "text/html": [
       "<pre style=\"white-space:pre;overflow-x:auto;line-height:normal;font-family:Menlo,'DejaVu Sans Mono',consolas,'Courier New',monospace\">Warning Message from server:\n",
       "<span style=\"color: #808000; text-decoration-color: #808000; font-weight: bold\">Bond E is not paid off</span>\n",
       "<span style=\"color: #808000; text-decoration-color: #808000; font-weight: bold\">Bond M is not paid off</span>\n",
       "<span style=\"color: #808000; text-decoration-color: #808000; font-weight: bold\">Bond S is not paid off</span>\n",
       "</pre>\n"
      ],
      "text/plain": [
       "Warning Message from server:\n",
       "\u001b[1;33mBond E is not paid off\u001b[0m\n",
       "\u001b[1;33mBond M is not paid off\u001b[0m\n",
       "\u001b[1;33mBond S is not paid off\u001b[0m\n"
      ]
     },
     "metadata": {},
     "output_type": "display_data"
    },
    {
     "name": "stdout",
     "output_type": "stream",
     "text": [
      "Pool CPR: 5.0, Tranche Rate: 5.499999999999999, IRR: 5.640554622016344\n"
     ]
    },
    {
     "data": {
      "text/html": [
       "<pre style=\"white-space:pre;overflow-x:auto;line-height:normal;font-family:Menlo,'DejaVu Sans Mono',consolas,'Courier New',monospace\">Warning Message from server:\n",
       "<span style=\"color: #808000; text-decoration-color: #808000; font-weight: bold\">Bond E is not paid off</span>\n",
       "<span style=\"color: #808000; text-decoration-color: #808000; font-weight: bold\">Bond M is not paid off</span>\n",
       "<span style=\"color: #808000; text-decoration-color: #808000; font-weight: bold\">Bond S is not paid off</span>\n",
       "</pre>\n"
      ],
      "text/plain": [
       "Warning Message from server:\n",
       "\u001b[1;33mBond E is not paid off\u001b[0m\n",
       "\u001b[1;33mBond M is not paid off\u001b[0m\n",
       "\u001b[1;33mBond S is not paid off\u001b[0m\n"
      ]
     },
     "metadata": {},
     "output_type": "display_data"
    },
    {
     "name": "stdout",
     "output_type": "stream",
     "text": [
      "Pool CPR: 5.0, Tranche Rate: 5.999999999999999, IRR: 6.167549990750056\n"
     ]
    },
    {
     "data": {
      "text/html": [
       "<pre style=\"white-space:pre;overflow-x:auto;line-height:normal;font-family:Menlo,'DejaVu Sans Mono',consolas,'Courier New',monospace\">Warning Message from server:\n",
       "<span style=\"color: #808000; text-decoration-color: #808000; font-weight: bold\">Bond E is not paid off</span>\n",
       "<span style=\"color: #808000; text-decoration-color: #808000; font-weight: bold\">Bond M is not paid off</span>\n",
       "<span style=\"color: #808000; text-decoration-color: #808000; font-weight: bold\">Bond S is not paid off</span>\n",
       "</pre>\n"
      ],
      "text/plain": [
       "Warning Message from server:\n",
       "\u001b[1;33mBond E is not paid off\u001b[0m\n",
       "\u001b[1;33mBond M is not paid off\u001b[0m\n",
       "\u001b[1;33mBond S is not paid off\u001b[0m\n"
      ]
     },
     "metadata": {},
     "output_type": "display_data"
    },
    {
     "name": "stdout",
     "output_type": "stream",
     "text": [
      "Pool CPR: 5.0, Tranche Rate: 6.499999999999999, IRR: 6.696998760098754\n"
     ]
    },
    {
     "data": {
      "text/html": [
       "<pre style=\"white-space:pre;overflow-x:auto;line-height:normal;font-family:Menlo,'DejaVu Sans Mono',consolas,'Courier New',monospace\">Warning Message from server:\n",
       "<span style=\"color: #808000; text-decoration-color: #808000; font-weight: bold\">Bond E is not paid off</span>\n",
       "<span style=\"color: #808000; text-decoration-color: #808000; font-weight: bold\">Bond M is not paid off</span>\n",
       "<span style=\"color: #808000; text-decoration-color: #808000; font-weight: bold\">Bond S is not paid off</span>\n",
       "</pre>\n"
      ],
      "text/plain": [
       "Warning Message from server:\n",
       "\u001b[1;33mBond E is not paid off\u001b[0m\n",
       "\u001b[1;33mBond M is not paid off\u001b[0m\n",
       "\u001b[1;33mBond S is not paid off\u001b[0m\n"
      ]
     },
     "metadata": {},
     "output_type": "display_data"
    },
    {
     "name": "stdout",
     "output_type": "stream",
     "text": [
      "Pool CPR: 5.0, Tranche Rate: 6.999999999999998, IRR: 7.228770327635842\n"
     ]
    },
    {
     "data": {
      "text/html": [
       "<pre style=\"white-space:pre;overflow-x:auto;line-height:normal;font-family:Menlo,'DejaVu Sans Mono',consolas,'Courier New',monospace\">Warning Message from server:\n",
       "<span style=\"color: #808000; text-decoration-color: #808000; font-weight: bold\">Bond E is not paid off</span>\n",
       "<span style=\"color: #808000; text-decoration-color: #808000; font-weight: bold\">Bond M is not paid off</span>\n",
       "<span style=\"color: #808000; text-decoration-color: #808000; font-weight: bold\">Bond S is not paid off</span>\n",
       "</pre>\n"
      ],
      "text/plain": [
       "Warning Message from server:\n",
       "\u001b[1;33mBond E is not paid off\u001b[0m\n",
       "\u001b[1;33mBond M is not paid off\u001b[0m\n",
       "\u001b[1;33mBond S is not paid off\u001b[0m\n"
      ]
     },
     "metadata": {},
     "output_type": "display_data"
    },
    {
     "name": "stdout",
     "output_type": "stream",
     "text": [
      "Pool CPR: 5.0, Tranche Rate: 7.499999999999998, IRR: 7.763103247676437\n"
     ]
    },
    {
     "data": {
      "text/html": [
       "<pre style=\"white-space:pre;overflow-x:auto;line-height:normal;font-family:Menlo,'DejaVu Sans Mono',consolas,'Courier New',monospace\">Warning Message from server:\n",
       "<span style=\"color: #808000; text-decoration-color: #808000; font-weight: bold\">Bond E is not paid off</span>\n",
       "<span style=\"color: #808000; text-decoration-color: #808000; font-weight: bold\">Bond M is not paid off</span>\n",
       "<span style=\"color: #808000; text-decoration-color: #808000; font-weight: bold\">Bond S is not paid off</span>\n",
       "</pre>\n"
      ],
      "text/plain": [
       "Warning Message from server:\n",
       "\u001b[1;33mBond E is not paid off\u001b[0m\n",
       "\u001b[1;33mBond M is not paid off\u001b[0m\n",
       "\u001b[1;33mBond S is not paid off\u001b[0m\n"
      ]
     },
     "metadata": {},
     "output_type": "display_data"
    },
    {
     "name": "stdout",
     "output_type": "stream",
     "text": [
      "Pool CPR: 10.0, Tranche Rate: 4.0, IRR: 4.073952191096051\n"
     ]
    },
    {
     "data": {
      "text/html": [
       "<pre style=\"white-space:pre;overflow-x:auto;line-height:normal;font-family:Menlo,'DejaVu Sans Mono',consolas,'Courier New',monospace\">Warning Message from server:\n",
       "<span style=\"color: #808000; text-decoration-color: #808000; font-weight: bold\">Bond E is not paid off</span>\n",
       "<span style=\"color: #808000; text-decoration-color: #808000; font-weight: bold\">Bond M is not paid off</span>\n",
       "<span style=\"color: #808000; text-decoration-color: #808000; font-weight: bold\">Bond S is not paid off</span>\n",
       "</pre>\n"
      ],
      "text/plain": [
       "Warning Message from server:\n",
       "\u001b[1;33mBond E is not paid off\u001b[0m\n",
       "\u001b[1;33mBond M is not paid off\u001b[0m\n",
       "\u001b[1;33mBond S is not paid off\u001b[0m\n"
      ]
     },
     "metadata": {},
     "output_type": "display_data"
    },
    {
     "name": "stdout",
     "output_type": "stream",
     "text": [
      "Pool CPR: 10.0, Tranche Rate: 4.5, IRR: 4.593785921951018\n"
     ]
    },
    {
     "data": {
      "text/html": [
       "<pre style=\"white-space:pre;overflow-x:auto;line-height:normal;font-family:Menlo,'DejaVu Sans Mono',consolas,'Courier New',monospace\">Warning Message from server:\n",
       "<span style=\"color: #808000; text-decoration-color: #808000; font-weight: bold\">Bond E is not paid off</span>\n",
       "<span style=\"color: #808000; text-decoration-color: #808000; font-weight: bold\">Bond M is not paid off</span>\n",
       "<span style=\"color: #808000; text-decoration-color: #808000; font-weight: bold\">Bond S is not paid off</span>\n",
       "</pre>\n"
      ],
      "text/plain": [
       "Warning Message from server:\n",
       "\u001b[1;33mBond E is not paid off\u001b[0m\n",
       "\u001b[1;33mBond M is not paid off\u001b[0m\n",
       "\u001b[1;33mBond S is not paid off\u001b[0m\n"
      ]
     },
     "metadata": {},
     "output_type": "display_data"
    },
    {
     "name": "stdout",
     "output_type": "stream",
     "text": [
      "Pool CPR: 10.0, Tranche Rate: 5.0, IRR: 5.115901572182075\n"
     ]
    },
    {
     "data": {
      "text/html": [
       "<pre style=\"white-space:pre;overflow-x:auto;line-height:normal;font-family:Menlo,'DejaVu Sans Mono',consolas,'Courier New',monospace\">Warning Message from server:\n",
       "<span style=\"color: #808000; text-decoration-color: #808000; font-weight: bold\">Bond E is not paid off</span>\n",
       "<span style=\"color: #808000; text-decoration-color: #808000; font-weight: bold\">Bond M is not paid off</span>\n",
       "<span style=\"color: #808000; text-decoration-color: #808000; font-weight: bold\">Bond S is not paid off</span>\n",
       "</pre>\n"
      ],
      "text/plain": [
       "Warning Message from server:\n",
       "\u001b[1;33mBond E is not paid off\u001b[0m\n",
       "\u001b[1;33mBond M is not paid off\u001b[0m\n",
       "\u001b[1;33mBond S is not paid off\u001b[0m\n"
      ]
     },
     "metadata": {},
     "output_type": "display_data"
    },
    {
     "name": "stdout",
     "output_type": "stream",
     "text": [
      "Pool CPR: 10.0, Tranche Rate: 5.499999999999999, IRR: 5.64051056750687\n"
     ]
    },
    {
     "data": {
      "text/html": [
       "<pre style=\"white-space:pre;overflow-x:auto;line-height:normal;font-family:Menlo,'DejaVu Sans Mono',consolas,'Courier New',monospace\">Warning Message from server:\n",
       "<span style=\"color: #808000; text-decoration-color: #808000; font-weight: bold\">Bond E is not paid off</span>\n",
       "<span style=\"color: #808000; text-decoration-color: #808000; font-weight: bold\">Bond M is not paid off</span>\n",
       "<span style=\"color: #808000; text-decoration-color: #808000; font-weight: bold\">Bond S is not paid off</span>\n",
       "</pre>\n"
      ],
      "text/plain": [
       "Warning Message from server:\n",
       "\u001b[1;33mBond E is not paid off\u001b[0m\n",
       "\u001b[1;33mBond M is not paid off\u001b[0m\n",
       "\u001b[1;33mBond S is not paid off\u001b[0m\n"
      ]
     },
     "metadata": {},
     "output_type": "display_data"
    },
    {
     "name": "stdout",
     "output_type": "stream",
     "text": [
      "Pool CPR: 10.0, Tranche Rate: 5.999999999999999, IRR: 6.167536767709341\n"
     ]
    },
    {
     "data": {
      "text/html": [
       "<pre style=\"white-space:pre;overflow-x:auto;line-height:normal;font-family:Menlo,'DejaVu Sans Mono',consolas,'Courier New',monospace\">Warning Message from server:\n",
       "<span style=\"color: #808000; text-decoration-color: #808000; font-weight: bold\">Bond E is not paid off</span>\n",
       "<span style=\"color: #808000; text-decoration-color: #808000; font-weight: bold\">Bond M is not paid off</span>\n",
       "<span style=\"color: #808000; text-decoration-color: #808000; font-weight: bold\">Bond S is not paid off</span>\n",
       "</pre>\n"
      ],
      "text/plain": [
       "Warning Message from server:\n",
       "\u001b[1;33mBond E is not paid off\u001b[0m\n",
       "\u001b[1;33mBond M is not paid off\u001b[0m\n",
       "\u001b[1;33mBond S is not paid off\u001b[0m\n"
      ]
     },
     "metadata": {},
     "output_type": "display_data"
    },
    {
     "name": "stdout",
     "output_type": "stream",
     "text": [
      "Pool CPR: 10.0, Tranche Rate: 6.499999999999999, IRR: 6.696967910314523\n"
     ]
    },
    {
     "data": {
      "text/html": [
       "<pre style=\"white-space:pre;overflow-x:auto;line-height:normal;font-family:Menlo,'DejaVu Sans Mono',consolas,'Courier New',monospace\">Warning Message from server:\n",
       "<span style=\"color: #808000; text-decoration-color: #808000; font-weight: bold\">Bond E is not paid off</span>\n",
       "<span style=\"color: #808000; text-decoration-color: #808000; font-weight: bold\">Bond M is not paid off</span>\n",
       "<span style=\"color: #808000; text-decoration-color: #808000; font-weight: bold\">Bond S is not paid off</span>\n",
       "</pre>\n"
      ],
      "text/plain": [
       "Warning Message from server:\n",
       "\u001b[1;33mBond E is not paid off\u001b[0m\n",
       "\u001b[1;33mBond M is not paid off\u001b[0m\n",
       "\u001b[1;33mBond S is not paid off\u001b[0m\n"
      ]
     },
     "metadata": {},
     "output_type": "display_data"
    },
    {
     "name": "stdout",
     "output_type": "stream",
     "text": [
      "Pool CPR: 10.0, Tranche Rate: 6.999999999999998, IRR: 7.22879588792567\n"
     ]
    },
    {
     "data": {
      "text/html": [
       "<pre style=\"white-space:pre;overflow-x:auto;line-height:normal;font-family:Menlo,'DejaVu Sans Mono',consolas,'Courier New',monospace\">Warning Message from server:\n",
       "<span style=\"color: #808000; text-decoration-color: #808000; font-weight: bold\">Bond E is not paid off</span>\n",
       "<span style=\"color: #808000; text-decoration-color: #808000; font-weight: bold\">Bond M is not paid off</span>\n",
       "<span style=\"color: #808000; text-decoration-color: #808000; font-weight: bold\">Bond S is not paid off</span>\n",
       "</pre>\n"
      ],
      "text/plain": [
       "Warning Message from server:\n",
       "\u001b[1;33mBond E is not paid off\u001b[0m\n",
       "\u001b[1;33mBond M is not paid off\u001b[0m\n",
       "\u001b[1;33mBond S is not paid off\u001b[0m\n"
      ]
     },
     "metadata": {},
     "output_type": "display_data"
    },
    {
     "name": "stdout",
     "output_type": "stream",
     "text": [
      "Pool CPR: 10.0, Tranche Rate: 7.499999999999998, IRR: 7.76309177284283\n"
     ]
    },
    {
     "data": {
      "text/html": [
       "<pre style=\"white-space:pre;overflow-x:auto;line-height:normal;font-family:Menlo,'DejaVu Sans Mono',consolas,'Courier New',monospace\">Warning Message from server:\n",
       "<span style=\"color: #808000; text-decoration-color: #808000; font-weight: bold\">Bond E is not paid off</span>\n",
       "<span style=\"color: #808000; text-decoration-color: #808000; font-weight: bold\">Bond M is not paid off</span>\n",
       "<span style=\"color: #808000; text-decoration-color: #808000; font-weight: bold\">Bond S is not paid off</span>\n",
       "</pre>\n"
      ],
      "text/plain": [
       "Warning Message from server:\n",
       "\u001b[1;33mBond E is not paid off\u001b[0m\n",
       "\u001b[1;33mBond M is not paid off\u001b[0m\n",
       "\u001b[1;33mBond S is not paid off\u001b[0m\n"
      ]
     },
     "metadata": {},
     "output_type": "display_data"
    },
    {
     "name": "stdout",
     "output_type": "stream",
     "text": [
      "Pool CPR: 15.000000000000002, Tranche Rate: 4.0, IRR: 4.073885172303015\n"
     ]
    },
    {
     "data": {
      "text/html": [
       "<pre style=\"white-space:pre;overflow-x:auto;line-height:normal;font-family:Menlo,'DejaVu Sans Mono',consolas,'Courier New',monospace\">Warning Message from server:\n",
       "<span style=\"color: #808000; text-decoration-color: #808000; font-weight: bold\">Bond E is not paid off</span>\n",
       "<span style=\"color: #808000; text-decoration-color: #808000; font-weight: bold\">Bond M is not paid off</span>\n",
       "<span style=\"color: #808000; text-decoration-color: #808000; font-weight: bold\">Bond S is not paid off</span>\n",
       "</pre>\n"
      ],
      "text/plain": [
       "Warning Message from server:\n",
       "\u001b[1;33mBond E is not paid off\u001b[0m\n",
       "\u001b[1;33mBond M is not paid off\u001b[0m\n",
       "\u001b[1;33mBond S is not paid off\u001b[0m\n"
      ]
     },
     "metadata": {},
     "output_type": "display_data"
    },
    {
     "name": "stdout",
     "output_type": "stream",
     "text": [
      "Pool CPR: 15.000000000000002, Tranche Rate: 4.5, IRR: 4.5937513138842725\n"
     ]
    },
    {
     "data": {
      "text/html": [
       "<pre style=\"white-space:pre;overflow-x:auto;line-height:normal;font-family:Menlo,'DejaVu Sans Mono',consolas,'Courier New',monospace\">Warning Message from server:\n",
       "<span style=\"color: #808000; text-decoration-color: #808000; font-weight: bold\">Bond E is not paid off</span>\n",
       "<span style=\"color: #808000; text-decoration-color: #808000; font-weight: bold\">Bond M is not paid off</span>\n",
       "<span style=\"color: #808000; text-decoration-color: #808000; font-weight: bold\">Bond S is not paid off</span>\n",
       "</pre>\n"
      ],
      "text/plain": [
       "Warning Message from server:\n",
       "\u001b[1;33mBond E is not paid off\u001b[0m\n",
       "\u001b[1;33mBond M is not paid off\u001b[0m\n",
       "\u001b[1;33mBond S is not paid off\u001b[0m\n"
      ]
     },
     "metadata": {},
     "output_type": "display_data"
    },
    {
     "name": "stdout",
     "output_type": "stream",
     "text": [
      "Pool CPR: 15.000000000000002, Tranche Rate: 5.0, IRR: 5.115859359550489\n"
     ]
    },
    {
     "data": {
      "text/html": [
       "<pre style=\"white-space:pre;overflow-x:auto;line-height:normal;font-family:Menlo,'DejaVu Sans Mono',consolas,'Courier New',monospace\">Warning Message from server:\n",
       "<span style=\"color: #808000; text-decoration-color: #808000; font-weight: bold\">Bond E is not paid off</span>\n",
       "<span style=\"color: #808000; text-decoration-color: #808000; font-weight: bold\">Bond M is not paid off</span>\n",
       "<span style=\"color: #808000; text-decoration-color: #808000; font-weight: bold\">Bond S is not paid off</span>\n",
       "</pre>\n"
      ],
      "text/plain": [
       "Warning Message from server:\n",
       "\u001b[1;33mBond E is not paid off\u001b[0m\n",
       "\u001b[1;33mBond M is not paid off\u001b[0m\n",
       "\u001b[1;33mBond S is not paid off\u001b[0m\n"
      ]
     },
     "metadata": {},
     "output_type": "display_data"
    },
    {
     "name": "stdout",
     "output_type": "stream",
     "text": [
      "Pool CPR: 15.000000000000002, Tranche Rate: 5.499999999999999, IRR: 5.640487455012845\n"
     ]
    },
    {
     "data": {
      "text/html": [
       "<pre style=\"white-space:pre;overflow-x:auto;line-height:normal;font-family:Menlo,'DejaVu Sans Mono',consolas,'Courier New',monospace\">Warning Message from server:\n",
       "<span style=\"color: #808000; text-decoration-color: #808000; font-weight: bold\">Bond E is not paid off</span>\n",
       "<span style=\"color: #808000; text-decoration-color: #808000; font-weight: bold\">Bond M is not paid off</span>\n",
       "<span style=\"color: #808000; text-decoration-color: #808000; font-weight: bold\">Bond S is not paid off</span>\n",
       "</pre>\n"
      ],
      "text/plain": [
       "Warning Message from server:\n",
       "\u001b[1;33mBond E is not paid off\u001b[0m\n",
       "\u001b[1;33mBond M is not paid off\u001b[0m\n",
       "\u001b[1;33mBond S is not paid off\u001b[0m\n"
      ]
     },
     "metadata": {},
     "output_type": "display_data"
    },
    {
     "name": "stdout",
     "output_type": "stream",
     "text": [
      "Pool CPR: 15.000000000000002, Tranche Rate: 5.999999999999999, IRR: 6.167541595682781\n"
     ]
    },
    {
     "data": {
      "text/html": [
       "<pre style=\"white-space:pre;overflow-x:auto;line-height:normal;font-family:Menlo,'DejaVu Sans Mono',consolas,'Courier New',monospace\">Warning Message from server:\n",
       "<span style=\"color: #808000; text-decoration-color: #808000; font-weight: bold\">Bond E is not paid off</span>\n",
       "<span style=\"color: #808000; text-decoration-color: #808000; font-weight: bold\">Bond M is not paid off</span>\n",
       "<span style=\"color: #808000; text-decoration-color: #808000; font-weight: bold\">Bond S is not paid off</span>\n",
       "</pre>\n"
      ],
      "text/plain": [
       "Warning Message from server:\n",
       "\u001b[1;33mBond E is not paid off\u001b[0m\n",
       "\u001b[1;33mBond M is not paid off\u001b[0m\n",
       "\u001b[1;33mBond S is not paid off\u001b[0m\n"
      ]
     },
     "metadata": {},
     "output_type": "display_data"
    },
    {
     "name": "stdout",
     "output_type": "stream",
     "text": [
      "Pool CPR: 15.000000000000002, Tranche Rate: 6.499999999999999, IRR: 6.696982720506142\n"
     ]
    },
    {
     "data": {
      "text/html": [
       "<pre style=\"white-space:pre;overflow-x:auto;line-height:normal;font-family:Menlo,'DejaVu Sans Mono',consolas,'Courier New',monospace\">Warning Message from server:\n",
       "<span style=\"color: #808000; text-decoration-color: #808000; font-weight: bold\">Bond E is not paid off</span>\n",
       "<span style=\"color: #808000; text-decoration-color: #808000; font-weight: bold\">Bond M is not paid off</span>\n",
       "<span style=\"color: #808000; text-decoration-color: #808000; font-weight: bold\">Bond S is not paid off</span>\n",
       "</pre>\n"
      ],
      "text/plain": [
       "Warning Message from server:\n",
       "\u001b[1;33mBond E is not paid off\u001b[0m\n",
       "\u001b[1;33mBond M is not paid off\u001b[0m\n",
       "\u001b[1;33mBond S is not paid off\u001b[0m\n"
      ]
     },
     "metadata": {},
     "output_type": "display_data"
    },
    {
     "name": "stdout",
     "output_type": "stream",
     "text": [
      "Pool CPR: 15.000000000000002, Tranche Rate: 6.999999999999998, IRR: 7.228819904717573\n"
     ]
    },
    {
     "data": {
      "text/html": [
       "<pre style=\"white-space:pre;overflow-x:auto;line-height:normal;font-family:Menlo,'DejaVu Sans Mono',consolas,'Courier New',monospace\">Warning Message from server:\n",
       "<span style=\"color: #808000; text-decoration-color: #808000; font-weight: bold\">Bond E is not paid off</span>\n",
       "<span style=\"color: #808000; text-decoration-color: #808000; font-weight: bold\">Bond M is not paid off</span>\n",
       "<span style=\"color: #808000; text-decoration-color: #808000; font-weight: bold\">Bond S is not paid off</span>\n",
       "</pre>\n"
      ],
      "text/plain": [
       "Warning Message from server:\n",
       "\u001b[1;33mBond E is not paid off\u001b[0m\n",
       "\u001b[1;33mBond M is not paid off\u001b[0m\n",
       "\u001b[1;33mBond S is not paid off\u001b[0m\n"
      ]
     },
     "metadata": {},
     "output_type": "display_data"
    },
    {
     "name": "stdout",
     "output_type": "stream",
     "text": [
      "Pool CPR: 15.000000000000002, Tranche Rate: 7.499999999999998, IRR: 7.763102686791577\n"
     ]
    },
    {
     "data": {
      "text/html": [
       "<pre style=\"white-space:pre;overflow-x:auto;line-height:normal;font-family:Menlo,'DejaVu Sans Mono',consolas,'Courier New',monospace\">Warning Message from server:\n",
       "<span style=\"color: #808000; text-decoration-color: #808000; font-weight: bold\">Bond E is not paid off</span>\n",
       "<span style=\"color: #808000; text-decoration-color: #808000; font-weight: bold\">Bond M is not paid off</span>\n",
       "<span style=\"color: #808000; text-decoration-color: #808000; font-weight: bold\">Bond S is not paid off</span>\n",
       "</pre>\n"
      ],
      "text/plain": [
       "Warning Message from server:\n",
       "\u001b[1;33mBond E is not paid off\u001b[0m\n",
       "\u001b[1;33mBond M is not paid off\u001b[0m\n",
       "\u001b[1;33mBond S is not paid off\u001b[0m\n"
      ]
     },
     "metadata": {},
     "output_type": "display_data"
    },
    {
     "name": "stdout",
     "output_type": "stream",
     "text": [
      "Pool CPR: 20.0, Tranche Rate: 4.0, IRR: 4.0739060825590965\n"
     ]
    },
    {
     "data": {
      "text/html": [
       "<pre style=\"white-space:pre;overflow-x:auto;line-height:normal;font-family:Menlo,'DejaVu Sans Mono',consolas,'Courier New',monospace\">Warning Message from server:\n",
       "<span style=\"color: #808000; text-decoration-color: #808000; font-weight: bold\">Bond E is not paid off</span>\n",
       "<span style=\"color: #808000; text-decoration-color: #808000; font-weight: bold\">Bond M is not paid off</span>\n",
       "<span style=\"color: #808000; text-decoration-color: #808000; font-weight: bold\">Bond S is not paid off</span>\n",
       "</pre>\n"
      ],
      "text/plain": [
       "Warning Message from server:\n",
       "\u001b[1;33mBond E is not paid off\u001b[0m\n",
       "\u001b[1;33mBond M is not paid off\u001b[0m\n",
       "\u001b[1;33mBond S is not paid off\u001b[0m\n"
      ]
     },
     "metadata": {},
     "output_type": "display_data"
    },
    {
     "name": "stdout",
     "output_type": "stream",
     "text": [
      "Pool CPR: 20.0, Tranche Rate: 4.5, IRR: 4.593801762537687\n"
     ]
    },
    {
     "data": {
      "text/html": [
       "<pre style=\"white-space:pre;overflow-x:auto;line-height:normal;font-family:Menlo,'DejaVu Sans Mono',consolas,'Courier New',monospace\">Warning Message from server:\n",
       "<span style=\"color: #808000; text-decoration-color: #808000; font-weight: bold\">Bond E is not paid off</span>\n",
       "<span style=\"color: #808000; text-decoration-color: #808000; font-weight: bold\">Bond M is not paid off</span>\n",
       "<span style=\"color: #808000; text-decoration-color: #808000; font-weight: bold\">Bond S is not paid off</span>\n",
       "</pre>\n"
      ],
      "text/plain": [
       "Warning Message from server:\n",
       "\u001b[1;33mBond E is not paid off\u001b[0m\n",
       "\u001b[1;33mBond M is not paid off\u001b[0m\n",
       "\u001b[1;33mBond S is not paid off\u001b[0m\n"
      ]
     },
     "metadata": {},
     "output_type": "display_data"
    },
    {
     "name": "stdout",
     "output_type": "stream",
     "text": [
      "Pool CPR: 20.0, Tranche Rate: 5.0, IRR: 5.1158882968350206\n"
     ]
    },
    {
     "data": {
      "text/html": [
       "<pre style=\"white-space:pre;overflow-x:auto;line-height:normal;font-family:Menlo,'DejaVu Sans Mono',consolas,'Courier New',monospace\">Warning Message from server:\n",
       "<span style=\"color: #808000; text-decoration-color: #808000; font-weight: bold\">Bond E is not paid off</span>\n",
       "<span style=\"color: #808000; text-decoration-color: #808000; font-weight: bold\">Bond M is not paid off</span>\n",
       "<span style=\"color: #808000; text-decoration-color: #808000; font-weight: bold\">Bond S is not paid off</span>\n",
       "</pre>\n"
      ],
      "text/plain": [
       "Warning Message from server:\n",
       "\u001b[1;33mBond E is not paid off\u001b[0m\n",
       "\u001b[1;33mBond M is not paid off\u001b[0m\n",
       "\u001b[1;33mBond S is not paid off\u001b[0m\n"
      ]
     },
     "metadata": {},
     "output_type": "display_data"
    },
    {
     "name": "stdout",
     "output_type": "stream",
     "text": [
      "Pool CPR: 20.0, Tranche Rate: 5.499999999999999, IRR: 5.64053779564292\n"
     ]
    },
    {
     "data": {
      "text/html": [
       "<pre style=\"white-space:pre;overflow-x:auto;line-height:normal;font-family:Menlo,'DejaVu Sans Mono',consolas,'Courier New',monospace\">Warning Message from server:\n",
       "<span style=\"color: #808000; text-decoration-color: #808000; font-weight: bold\">Bond E is not paid off</span>\n",
       "<span style=\"color: #808000; text-decoration-color: #808000; font-weight: bold\">Bond M is not paid off</span>\n",
       "<span style=\"color: #808000; text-decoration-color: #808000; font-weight: bold\">Bond S is not paid off</span>\n",
       "</pre>\n"
      ],
      "text/plain": [
       "Warning Message from server:\n",
       "\u001b[1;33mBond E is not paid off\u001b[0m\n",
       "\u001b[1;33mBond M is not paid off\u001b[0m\n",
       "\u001b[1;33mBond S is not paid off\u001b[0m\n"
      ]
     },
     "metadata": {},
     "output_type": "display_data"
    },
    {
     "name": "stdout",
     "output_type": "stream",
     "text": [
      "Pool CPR: 20.0, Tranche Rate: 5.999999999999999, IRR: 6.167509260688244\n"
     ]
    },
    {
     "data": {
      "text/html": [
       "<pre style=\"white-space:pre;overflow-x:auto;line-height:normal;font-family:Menlo,'DejaVu Sans Mono',consolas,'Courier New',monospace\">Warning Message from server:\n",
       "<span style=\"color: #808000; text-decoration-color: #808000; font-weight: bold\">Bond E is not paid off</span>\n",
       "<span style=\"color: #808000; text-decoration-color: #808000; font-weight: bold\">Bond M is not paid off</span>\n",
       "<span style=\"color: #808000; text-decoration-color: #808000; font-weight: bold\">Bond S is not paid off</span>\n",
       "</pre>\n"
      ],
      "text/plain": [
       "Warning Message from server:\n",
       "\u001b[1;33mBond E is not paid off\u001b[0m\n",
       "\u001b[1;33mBond M is not paid off\u001b[0m\n",
       "\u001b[1;33mBond S is not paid off\u001b[0m\n"
      ]
     },
     "metadata": {},
     "output_type": "display_data"
    },
    {
     "name": "stdout",
     "output_type": "stream",
     "text": [
      "Pool CPR: 20.0, Tranche Rate: 6.499999999999999, IRR: 6.696984925253763\n"
     ]
    },
    {
     "data": {
      "text/html": [
       "<pre style=\"white-space:pre;overflow-x:auto;line-height:normal;font-family:Menlo,'DejaVu Sans Mono',consolas,'Courier New',monospace\">Warning Message from server:\n",
       "<span style=\"color: #808000; text-decoration-color: #808000; font-weight: bold\">Bond E is not paid off</span>\n",
       "<span style=\"color: #808000; text-decoration-color: #808000; font-weight: bold\">Bond M is not paid off</span>\n",
       "<span style=\"color: #808000; text-decoration-color: #808000; font-weight: bold\">Bond S is not paid off</span>\n",
       "</pre>\n"
      ],
      "text/plain": [
       "Warning Message from server:\n",
       "\u001b[1;33mBond E is not paid off\u001b[0m\n",
       "\u001b[1;33mBond M is not paid off\u001b[0m\n",
       "\u001b[1;33mBond S is not paid off\u001b[0m\n"
      ]
     },
     "metadata": {},
     "output_type": "display_data"
    },
    {
     "name": "stdout",
     "output_type": "stream",
     "text": [
      "Pool CPR: 20.0, Tranche Rate: 6.999999999999998, IRR: 7.228843322002164\n"
     ]
    },
    {
     "data": {
      "text/html": [
       "<pre style=\"white-space:pre;overflow-x:auto;line-height:normal;font-family:Menlo,'DejaVu Sans Mono',consolas,'Courier New',monospace\">Warning Message from server:\n",
       "<span style=\"color: #808000; text-decoration-color: #808000; font-weight: bold\">Bond E is not paid off</span>\n",
       "<span style=\"color: #808000; text-decoration-color: #808000; font-weight: bold\">Bond M is not paid off</span>\n",
       "<span style=\"color: #808000; text-decoration-color: #808000; font-weight: bold\">Bond S is not paid off</span>\n",
       "</pre>\n"
      ],
      "text/plain": [
       "Warning Message from server:\n",
       "\u001b[1;33mBond E is not paid off\u001b[0m\n",
       "\u001b[1;33mBond M is not paid off\u001b[0m\n",
       "\u001b[1;33mBond S is not paid off\u001b[0m\n"
      ]
     },
     "metadata": {},
     "output_type": "display_data"
    },
    {
     "name": "stdout",
     "output_type": "stream",
     "text": [
      "Pool CPR: 20.0, Tranche Rate: 7.499999999999998, IRR: 7.763117370175482\n"
     ]
    },
    {
     "data": {
      "text/html": [
       "<pre style=\"white-space:pre;overflow-x:auto;line-height:normal;font-family:Menlo,'DejaVu Sans Mono',consolas,'Courier New',monospace\">Warning Message from server:\n",
       "<span style=\"color: #808000; text-decoration-color: #808000; font-weight: bold\">Bond E is not paid off</span>\n",
       "<span style=\"color: #808000; text-decoration-color: #808000; font-weight: bold\">Bond M is not paid off</span>\n",
       "<span style=\"color: #808000; text-decoration-color: #808000; font-weight: bold\">Bond S is not paid off</span>\n",
       "</pre>\n"
      ],
      "text/plain": [
       "Warning Message from server:\n",
       "\u001b[1;33mBond E is not paid off\u001b[0m\n",
       "\u001b[1;33mBond M is not paid off\u001b[0m\n",
       "\u001b[1;33mBond S is not paid off\u001b[0m\n"
      ]
     },
     "metadata": {},
     "output_type": "display_data"
    },
    {
     "name": "stdout",
     "output_type": "stream",
     "text": [
      "Pool CPR: 25.0, Tranche Rate: 4.0, IRR: 4.073877113372429\n"
     ]
    },
    {
     "data": {
      "text/html": [
       "<pre style=\"white-space:pre;overflow-x:auto;line-height:normal;font-family:Menlo,'DejaVu Sans Mono',consolas,'Courier New',monospace\">Warning Message from server:\n",
       "<span style=\"color: #808000; text-decoration-color: #808000; font-weight: bold\">Bond E is not paid off</span>\n",
       "<span style=\"color: #808000; text-decoration-color: #808000; font-weight: bold\">Bond M is not paid off</span>\n",
       "<span style=\"color: #808000; text-decoration-color: #808000; font-weight: bold\">Bond S is not paid off</span>\n",
       "</pre>\n"
      ],
      "text/plain": [
       "Warning Message from server:\n",
       "\u001b[1;33mBond E is not paid off\u001b[0m\n",
       "\u001b[1;33mBond M is not paid off\u001b[0m\n",
       "\u001b[1;33mBond S is not paid off\u001b[0m\n"
      ]
     },
     "metadata": {},
     "output_type": "display_data"
    },
    {
     "name": "stdout",
     "output_type": "stream",
     "text": [
      "Pool CPR: 25.0, Tranche Rate: 4.5, IRR: 4.593776321030487\n"
     ]
    },
    {
     "data": {
      "text/html": [
       "<pre style=\"white-space:pre;overflow-x:auto;line-height:normal;font-family:Menlo,'DejaVu Sans Mono',consolas,'Courier New',monospace\">Warning Message from server:\n",
       "<span style=\"color: #808000; text-decoration-color: #808000; font-weight: bold\">Bond E is not paid off</span>\n",
       "<span style=\"color: #808000; text-decoration-color: #808000; font-weight: bold\">Bond M is not paid off</span>\n",
       "<span style=\"color: #808000; text-decoration-color: #808000; font-weight: bold\">Bond S is not paid off</span>\n",
       "</pre>\n"
      ],
      "text/plain": [
       "Warning Message from server:\n",
       "\u001b[1;33mBond E is not paid off\u001b[0m\n",
       "\u001b[1;33mBond M is not paid off\u001b[0m\n",
       "\u001b[1;33mBond S is not paid off\u001b[0m\n"
      ]
     },
     "metadata": {},
     "output_type": "display_data"
    },
    {
     "name": "stdout",
     "output_type": "stream",
     "text": [
      "Pool CPR: 25.0, Tranche Rate: 5.0, IRR: 5.115948248579021\n"
     ]
    },
    {
     "data": {
      "text/html": [
       "<pre style=\"white-space:pre;overflow-x:auto;line-height:normal;font-family:Menlo,'DejaVu Sans Mono',consolas,'Courier New',monospace\">Warning Message from server:\n",
       "<span style=\"color: #808000; text-decoration-color: #808000; font-weight: bold\">Bond E is not paid off</span>\n",
       "<span style=\"color: #808000; text-decoration-color: #808000; font-weight: bold\">Bond M is not paid off</span>\n",
       "<span style=\"color: #808000; text-decoration-color: #808000; font-weight: bold\">Bond S is not paid off</span>\n",
       "</pre>\n"
      ],
      "text/plain": [
       "Warning Message from server:\n",
       "\u001b[1;33mBond E is not paid off\u001b[0m\n",
       "\u001b[1;33mBond M is not paid off\u001b[0m\n",
       "\u001b[1;33mBond S is not paid off\u001b[0m\n"
      ]
     },
     "metadata": {},
     "output_type": "display_data"
    },
    {
     "name": "stdout",
     "output_type": "stream",
     "text": [
      "Pool CPR: 25.0, Tranche Rate: 5.499999999999999, IRR: 5.640569369446298\n"
     ]
    },
    {
     "data": {
      "text/html": [
       "<pre style=\"white-space:pre;overflow-x:auto;line-height:normal;font-family:Menlo,'DejaVu Sans Mono',consolas,'Courier New',monospace\">Warning Message from server:\n",
       "<span style=\"color: #808000; text-decoration-color: #808000; font-weight: bold\">Bond E is not paid off</span>\n",
       "<span style=\"color: #808000; text-decoration-color: #808000; font-weight: bold\">Bond M is not paid off</span>\n",
       "<span style=\"color: #808000; text-decoration-color: #808000; font-weight: bold\">Bond S is not paid off</span>\n",
       "</pre>\n"
      ],
      "text/plain": [
       "Warning Message from server:\n",
       "\u001b[1;33mBond E is not paid off\u001b[0m\n",
       "\u001b[1;33mBond M is not paid off\u001b[0m\n",
       "\u001b[1;33mBond S is not paid off\u001b[0m\n"
      ]
     },
     "metadata": {},
     "output_type": "display_data"
    },
    {
     "name": "stdout",
     "output_type": "stream",
     "text": [
      "Pool CPR: 25.0, Tranche Rate: 5.999999999999999, IRR: 6.167548457833467\n"
     ]
    },
    {
     "data": {
      "text/html": [
       "<pre style=\"white-space:pre;overflow-x:auto;line-height:normal;font-family:Menlo,'DejaVu Sans Mono',consolas,'Courier New',monospace\">Warning Message from server:\n",
       "<span style=\"color: #808000; text-decoration-color: #808000; font-weight: bold\">Bond E is not paid off</span>\n",
       "<span style=\"color: #808000; text-decoration-color: #808000; font-weight: bold\">Bond M is not paid off</span>\n",
       "<span style=\"color: #808000; text-decoration-color: #808000; font-weight: bold\">Bond S is not paid off</span>\n",
       "</pre>\n"
      ],
      "text/plain": [
       "Warning Message from server:\n",
       "\u001b[1;33mBond E is not paid off\u001b[0m\n",
       "\u001b[1;33mBond M is not paid off\u001b[0m\n",
       "\u001b[1;33mBond S is not paid off\u001b[0m\n"
      ]
     },
     "metadata": {},
     "output_type": "display_data"
    },
    {
     "name": "stdout",
     "output_type": "stream",
     "text": [
      "Pool CPR: 25.0, Tranche Rate: 6.499999999999999, IRR: 6.69697943792521\n"
     ]
    },
    {
     "data": {
      "text/html": [
       "<pre style=\"white-space:pre;overflow-x:auto;line-height:normal;font-family:Menlo,'DejaVu Sans Mono',consolas,'Courier New',monospace\">Warning Message from server:\n",
       "<span style=\"color: #808000; text-decoration-color: #808000; font-weight: bold\">Bond E is not paid off</span>\n",
       "<span style=\"color: #808000; text-decoration-color: #808000; font-weight: bold\">Bond M is not paid off</span>\n",
       "<span style=\"color: #808000; text-decoration-color: #808000; font-weight: bold\">Bond S is not paid off</span>\n",
       "</pre>\n"
      ],
      "text/plain": [
       "Warning Message from server:\n",
       "\u001b[1;33mBond E is not paid off\u001b[0m\n",
       "\u001b[1;33mBond M is not paid off\u001b[0m\n",
       "\u001b[1;33mBond S is not paid off\u001b[0m\n"
      ]
     },
     "metadata": {},
     "output_type": "display_data"
    },
    {
     "name": "stdout",
     "output_type": "stream",
     "text": [
      "Pool CPR: 25.0, Tranche Rate: 6.999999999999998, IRR: 7.228832049799229\n"
     ]
    },
    {
     "data": {
      "text/html": [
       "<pre style=\"white-space:pre;overflow-x:auto;line-height:normal;font-family:Menlo,'DejaVu Sans Mono',consolas,'Courier New',monospace\">Warning Message from server:\n",
       "<span style=\"color: #808000; text-decoration-color: #808000; font-weight: bold\">Bond E is not paid off</span>\n",
       "<span style=\"color: #808000; text-decoration-color: #808000; font-weight: bold\">Bond M is not paid off</span>\n",
       "<span style=\"color: #808000; text-decoration-color: #808000; font-weight: bold\">Bond S is not paid off</span>\n",
       "</pre>\n"
      ],
      "text/plain": [
       "Warning Message from server:\n",
       "\u001b[1;33mBond E is not paid off\u001b[0m\n",
       "\u001b[1;33mBond M is not paid off\u001b[0m\n",
       "\u001b[1;33mBond S is not paid off\u001b[0m\n"
      ]
     },
     "metadata": {},
     "output_type": "display_data"
    },
    {
     "name": "stdout",
     "output_type": "stream",
     "text": [
      "Pool CPR: 25.0, Tranche Rate: 7.499999999999998, IRR: 7.763167109965358\n"
     ]
    },
    {
     "data": {
      "text/html": [
       "<pre style=\"white-space:pre;overflow-x:auto;line-height:normal;font-family:Menlo,'DejaVu Sans Mono',consolas,'Courier New',monospace\">Warning Message from server:\n",
       "<span style=\"color: #808000; text-decoration-color: #808000; font-weight: bold\">Bond E is not paid off</span>\n",
       "<span style=\"color: #808000; text-decoration-color: #808000; font-weight: bold\">Bond M is not paid off</span>\n",
       "<span style=\"color: #808000; text-decoration-color: #808000; font-weight: bold\">Bond S is not paid off</span>\n",
       "</pre>\n"
      ],
      "text/plain": [
       "Warning Message from server:\n",
       "\u001b[1;33mBond E is not paid off\u001b[0m\n",
       "\u001b[1;33mBond M is not paid off\u001b[0m\n",
       "\u001b[1;33mBond S is not paid off\u001b[0m\n"
      ]
     },
     "metadata": {},
     "output_type": "display_data"
    },
    {
     "name": "stdout",
     "output_type": "stream",
     "text": [
      "Pool CPR: 30.000000000000004, Tranche Rate: 4.0, IRR: 4.073955450664254\n"
     ]
    },
    {
     "data": {
      "text/html": [
       "<pre style=\"white-space:pre;overflow-x:auto;line-height:normal;font-family:Menlo,'DejaVu Sans Mono',consolas,'Courier New',monospace\">Warning Message from server:\n",
       "<span style=\"color: #808000; text-decoration-color: #808000; font-weight: bold\">Bond E is not paid off</span>\n",
       "<span style=\"color: #808000; text-decoration-color: #808000; font-weight: bold\">Bond M is not paid off</span>\n",
       "<span style=\"color: #808000; text-decoration-color: #808000; font-weight: bold\">Bond S is not paid off</span>\n",
       "</pre>\n"
      ],
      "text/plain": [
       "Warning Message from server:\n",
       "\u001b[1;33mBond E is not paid off\u001b[0m\n",
       "\u001b[1;33mBond M is not paid off\u001b[0m\n",
       "\u001b[1;33mBond S is not paid off\u001b[0m\n"
      ]
     },
     "metadata": {},
     "output_type": "display_data"
    },
    {
     "name": "stdout",
     "output_type": "stream",
     "text": [
      "Pool CPR: 30.000000000000004, Tranche Rate: 4.5, IRR: 4.593786642124275\n"
     ]
    },
    {
     "data": {
      "text/html": [
       "<pre style=\"white-space:pre;overflow-x:auto;line-height:normal;font-family:Menlo,'DejaVu Sans Mono',consolas,'Courier New',monospace\">Warning Message from server:\n",
       "<span style=\"color: #808000; text-decoration-color: #808000; font-weight: bold\">Bond E is not paid off</span>\n",
       "<span style=\"color: #808000; text-decoration-color: #808000; font-weight: bold\">Bond M is not paid off</span>\n",
       "<span style=\"color: #808000; text-decoration-color: #808000; font-weight: bold\">Bond S is not paid off</span>\n",
       "</pre>\n"
      ],
      "text/plain": [
       "Warning Message from server:\n",
       "\u001b[1;33mBond E is not paid off\u001b[0m\n",
       "\u001b[1;33mBond M is not paid off\u001b[0m\n",
       "\u001b[1;33mBond S is not paid off\u001b[0m\n"
      ]
     },
     "metadata": {},
     "output_type": "display_data"
    },
    {
     "name": "stdout",
     "output_type": "stream",
     "text": [
      "Pool CPR: 30.000000000000004, Tranche Rate: 5.0, IRR: 5.115908380320338\n"
     ]
    },
    {
     "data": {
      "text/html": [
       "<pre style=\"white-space:pre;overflow-x:auto;line-height:normal;font-family:Menlo,'DejaVu Sans Mono',consolas,'Courier New',monospace\">Warning Message from server:\n",
       "<span style=\"color: #808000; text-decoration-color: #808000; font-weight: bold\">Bond E is not paid off</span>\n",
       "<span style=\"color: #808000; text-decoration-color: #808000; font-weight: bold\">Bond M is not paid off</span>\n",
       "<span style=\"color: #808000; text-decoration-color: #808000; font-weight: bold\">Bond S is not paid off</span>\n",
       "</pre>\n"
      ],
      "text/plain": [
       "Warning Message from server:\n",
       "\u001b[1;33mBond E is not paid off\u001b[0m\n",
       "\u001b[1;33mBond M is not paid off\u001b[0m\n",
       "\u001b[1;33mBond S is not paid off\u001b[0m\n"
      ]
     },
     "metadata": {},
     "output_type": "display_data"
    },
    {
     "name": "stdout",
     "output_type": "stream",
     "text": [
      "Pool CPR: 30.000000000000004, Tranche Rate: 5.499999999999999, IRR: 5.640534301344707\n"
     ]
    },
    {
     "data": {
      "text/html": [
       "<pre style=\"white-space:pre;overflow-x:auto;line-height:normal;font-family:Menlo,'DejaVu Sans Mono',consolas,'Courier New',monospace\">Warning Message from server:\n",
       "<span style=\"color: #808000; text-decoration-color: #808000; font-weight: bold\">Bond E is not paid off</span>\n",
       "<span style=\"color: #808000; text-decoration-color: #808000; font-weight: bold\">Bond M is not paid off</span>\n",
       "<span style=\"color: #808000; text-decoration-color: #808000; font-weight: bold\">Bond S is not paid off</span>\n",
       "</pre>\n"
      ],
      "text/plain": [
       "Warning Message from server:\n",
       "\u001b[1;33mBond E is not paid off\u001b[0m\n",
       "\u001b[1;33mBond M is not paid off\u001b[0m\n",
       "\u001b[1;33mBond S is not paid off\u001b[0m\n"
      ]
     },
     "metadata": {},
     "output_type": "display_data"
    },
    {
     "name": "stdout",
     "output_type": "stream",
     "text": [
      "Pool CPR: 30.000000000000004, Tranche Rate: 5.999999999999999, IRR: 6.1675515093777245\n"
     ]
    },
    {
     "data": {
      "text/html": [
       "<pre style=\"white-space:pre;overflow-x:auto;line-height:normal;font-family:Menlo,'DejaVu Sans Mono',consolas,'Courier New',monospace\">Warning Message from server:\n",
       "<span style=\"color: #808000; text-decoration-color: #808000; font-weight: bold\">Bond E is not paid off</span>\n",
       "<span style=\"color: #808000; text-decoration-color: #808000; font-weight: bold\">Bond M is not paid off</span>\n",
       "<span style=\"color: #808000; text-decoration-color: #808000; font-weight: bold\">Bond S is not paid off</span>\n",
       "</pre>\n"
      ],
      "text/plain": [
       "Warning Message from server:\n",
       "\u001b[1;33mBond E is not paid off\u001b[0m\n",
       "\u001b[1;33mBond M is not paid off\u001b[0m\n",
       "\u001b[1;33mBond S is not paid off\u001b[0m\n"
      ]
     },
     "metadata": {},
     "output_type": "display_data"
    },
    {
     "name": "stdout",
     "output_type": "stream",
     "text": [
      "Pool CPR: 30.000000000000004, Tranche Rate: 6.499999999999999, IRR: 6.6970273722417835\n"
     ]
    },
    {
     "data": {
      "text/html": [
       "<pre style=\"white-space:pre;overflow-x:auto;line-height:normal;font-family:Menlo,'DejaVu Sans Mono',consolas,'Courier New',monospace\">Warning Message from server:\n",
       "<span style=\"color: #808000; text-decoration-color: #808000; font-weight: bold\">Bond E is not paid off</span>\n",
       "<span style=\"color: #808000; text-decoration-color: #808000; font-weight: bold\">Bond M is not paid off</span>\n",
       "<span style=\"color: #808000; text-decoration-color: #808000; font-weight: bold\">Bond S is not paid off</span>\n",
       "</pre>\n"
      ],
      "text/plain": [
       "Warning Message from server:\n",
       "\u001b[1;33mBond E is not paid off\u001b[0m\n",
       "\u001b[1;33mBond M is not paid off\u001b[0m\n",
       "\u001b[1;33mBond S is not paid off\u001b[0m\n"
      ]
     },
     "metadata": {},
     "output_type": "display_data"
    },
    {
     "name": "stdout",
     "output_type": "stream",
     "text": [
      "Pool CPR: 30.000000000000004, Tranche Rate: 6.999999999999998, IRR: 7.228897552743316\n"
     ]
    },
    {
     "data": {
      "text/html": [
       "<pre style=\"white-space:pre;overflow-x:auto;line-height:normal;font-family:Menlo,'DejaVu Sans Mono',consolas,'Courier New',monospace\">Warning Message from server:\n",
       "<span style=\"color: #808000; text-decoration-color: #808000; font-weight: bold\">Bond E is not paid off</span>\n",
       "<span style=\"color: #808000; text-decoration-color: #808000; font-weight: bold\">Bond M is not paid off</span>\n",
       "<span style=\"color: #808000; text-decoration-color: #808000; font-weight: bold\">Bond S is not paid off</span>\n",
       "</pre>\n"
      ],
      "text/plain": [
       "Warning Message from server:\n",
       "\u001b[1;33mBond E is not paid off\u001b[0m\n",
       "\u001b[1;33mBond M is not paid off\u001b[0m\n",
       "\u001b[1;33mBond S is not paid off\u001b[0m\n"
      ]
     },
     "metadata": {},
     "output_type": "display_data"
    },
    {
     "name": "stdout",
     "output_type": "stream",
     "text": [
      "Pool CPR: 30.000000000000004, Tranche Rate: 7.499999999999998, IRR: 7.763197758839323\n"
     ]
    }
   ],
   "source": [
    "# Sensitivity Test Using readBondsCf(r['bonds'])\n",
    "cprs = np.arange(0.00, 0.35, 0.05).tolist()\n",
    "spreads = np.arange(0.04, 0.08, 0.005).tolist()\n",
    "results = []\n",
    "\n",
    "for pool_cpr in cprs:\n",
    "   for tranche_rate_mezz in spreads:\n",
    "        mortgage1 = [\"Mortgage\"             #this is a factual snapshot at issuance, confirmed unchanged.\n",
    "                ,{\"originBalance\":original_pool_balance,\"originRate\":[\"fix\",pool_rate],\"originTerm\":original_pool_term,\"freq\":\"Monthly\",\"type\":\"Even\",\"originDate\":start_date} \n",
    "                ,{\"currentBalance\":original_pool_balance,\"currentRate\":pool_rate,\"remainTerm\":original_pool_term - seasoning,\"status\":\"current\"}]\n",
    "        revolvingPool = ([\"constant\",mortgage1],(\"Pool\",(\"Mortgage\",{\"CDR\":default_rate},{\"CPR\":pool_cpr},{\"Rate\":recovery_rate,\"Lag\":recovery_lag},None),None,None))\n",
    "        perf = (\"Pool\",(\"Mortgage\",{\"CDR\":default_rate},{\"CPR\":pool_cpr},{\"Rate\":recovery_rate,\"Lag\":recovery_lag},None),None,None)     # this is for new assets added into the pool\n",
    "\n",
    "        Resonance = Generic(\"TEST01\"\n",
    "            ,{\"cutoff\":start_date,\"closing\":start_date,\"firstPay\":first_pay_date,\"payFreq\":\"MonthEnd\",\"poolFreq\":\"MonthEnd\",\"stated\":deal_maturity_date} \n",
    "            ,{'assets':[mortgage1],'issuanceStat':{\"IssuanceBalance\":original_pool_balance}}\n",
    "            ,((\"acc01\",{\"balance\":0}),(\"acc02\",{\"balance\":0}))  \n",
    "            ,((\"S\",{\"balance\":original_pool_balance * tranche_size_senior, \"rate\":tranche_rate_senior,\"originBalance\":original_pool_balance * tranche_size_senior\n",
    "            ,\"originRate\":tranche_rate_senior,\"startDate\":start_date,\"rateType\":{\"Fixed\":tranche_rate_senior},\"bondType\":{\"Sequential\":None}})\n",
    "            ,(\"M\",{\"balance\":original_pool_balance * tranche_size_mezz,\"rate\":tranche_rate_mezz,\"originBalance\":original_pool_balance * tranche_size_mezz\n",
    "            ,\"originRate\":tranche_rate_mezz,\"startDate\":start_date,\"rateType\":{\"Fixed\":tranche_rate_mezz},\"bondType\":{\"Sequential\":None}})                 \n",
    "            ,(\"E\",{\"balance\":original_pool_balance * tranche_size_equity,\"rate\":tranche_rate_equity,\"originBalance\":original_pool_balance * tranche_size_equity\n",
    "            ,\"originRate\":tranche_rate_equity,\"startDate\":start_date,\"rateType\":{\"Fixed\":tranche_rate_equity}, \"bondType\":{\"Sequential\":None}}))\n",
    "            ,list()\n",
    "            ,{\"revolving\":[[\"accrueAndpayPrinBySeqPayIntBySeq\",\"acc02\",[\"S\",\"M\",\"E\"]],['transfer',\"acc02\",\"acc01\"] # ,['WriteOff',[\"E\",\"M\",\"S\"]]                                             # this is the write off of the defaulted assets\n",
    "            # ,[\"buyAsset\",[\"Current|Defaulted\",1.0,0],\"acc01\",{\"formula\":(\"-\",(\"originalPoolBalance\",),(\"poolBalance\",))}]]    # (\"cumPoolCollection\", None, \"CollectedPrincipal\",\"CollectedPrepayment\")     # None can be replaced with small pools \n",
    "            ,[\"buyAsset\",[\"Current|Defaulted\",1.0,0],\"acc01\",{\"formula\":(\"curPoolCollection\",None,\"CollectedPrincipal\",\"CollectedPrepayment\")}]]    # (\"cumPoolCollection\", None, \"CollectedPrincipal\",\"CollectedPrepayment\")     # None can be replaced with small pools \n",
    "            ,\"amortizing\":[[\"accrueAndPayIntBySeq\",\"acc02\",[\"S\",\"M\",\"E\"]], ['transfer',\"acc02\",\"acc01\"]\n",
    "            # ,['payPrinBySeq',\"acc01\",[\"S\",\"M\",\"E\"]], ['WriteOff',[\"E\",\"M\",\"S\"]]\n",
    "            ,['payPrin',\"acc01\",[\"S\",\"M\",\"E\"]], ['payIntResidual',\"acc01\",\"E\"]]}\n",
    "            ,[[\"CollectedPrincipal\",\"acc01\"],[\"CollectedRecoveries\",\"acc01\"],[\"CollectedPrepayment\",\"acc01\"],[\"CollectedInterest\",\"acc02\"]]\n",
    "            ,None,None,None\n",
    "            ,{\"BeforeDistribution\":{\"dealStatusChange\":{\"condition\":[\"any\",[\">=\",repay_date],[(switch_trigger,),\">\",switch_level]]\n",
    "            ,\"effects\":(\"newStatus\",\"Amortizing\"),\"status\":False,\"curable\":False}}}\n",
    "            ,(\"PreClosing\",\"Revolving\"))\n",
    "\n",
    "        # Asumption about what happens during the revolving period, we care about what assets we buy, and hows their performance. below is what the new assets look like\n",
    "        runDealAssump = [(\"revolving\",[\"constant\",[\"Mortgage\"     \n",
    "                        ,{\"originBalance\":original_pool_balance,\"originRate\":[\"fix\",pool_rate],\"originTerm\":original_pool_term,\"freq\":\"Monthly\",\"type\":\"Level\",\"originDate\":repay_date}\n",
    "                        ,{\"currentBalance\":original_pool_balance,\"currentRate\":pool_rate,\"remainTerm\":original_pool_term,\"status\":\"current\"}]],perf)\n",
    "                        ,(\"call\",{\"poolFactor\":clean_up_call})]\n",
    "\n",
    "        r = localAPI.run(Resonance,runAssump = runDealAssump,poolAssump = (\"Pool\",(\"Mortgage\",{\"CDR\":default_rate},{\"CPR\":pool_cpr},{\"Rate\":recovery_rate,\"Lag\":recovery_lag},None),None,None),read=True)\n",
    "\n",
    "        bond_cf = readBondsCf(r['bonds'])\n",
    "        bond_cf.iloc[0, bond_cf.columns.get_loc(('M', 'cash'))] = -bond_cf.iloc[0, bond_cf.columns.get_loc(('M', 'balance'))]\n",
    "        bond_cf.iloc[-1, bond_cf.columns.get_loc(('M', 'cash'))] = bond_cf.iloc[-1, bond_cf.columns.get_loc(('M', 'balance'))] + bond_cf.iloc[-1, bond_cf.columns.get_loc(('M', 'interest'))] + bond_cf.iloc[-1, bond_cf.columns.get_loc(('M', 'principal'))]\n",
    "        bond_cf.tail()\n",
    "        result = xirr(bond_cf.index.to_list(), bond_cf['M', 'cash'].to_list())\n",
    "        results.append({'pool_cpr': pool_cpr*100, 'tranche_rate_mezz': tranche_rate_mezz*100, 'IRR': result*100})\n",
    "        print(f\"Pool CPR: {pool_cpr*100}, Tranche Rate: {tranche_rate_mezz*100}, IRR: {result*100}\")\n"
   ]
  },
  {
   "cell_type": "code",
   "execution_count": 160,
   "id": "c73059fd",
   "metadata": {},
   "outputs": [
    {
     "data": {
      "text/html": [
       "<div>\n",
       "<style scoped>\n",
       "    .dataframe tbody tr th:only-of-type {\n",
       "        vertical-align: middle;\n",
       "    }\n",
       "\n",
       "    .dataframe tbody tr th {\n",
       "        vertical-align: top;\n",
       "    }\n",
       "\n",
       "    .dataframe thead th {\n",
       "        text-align: right;\n",
       "    }\n",
       "</style>\n",
       "<table border=\"1\" class=\"dataframe\">\n",
       "  <thead>\n",
       "    <tr style=\"text-align: right;\">\n",
       "      <th>tranche_rate_mezz</th>\n",
       "      <th>4.000</th>\n",
       "      <th>4.500</th>\n",
       "      <th>5.000</th>\n",
       "      <th>5.500</th>\n",
       "      <th>6.000</th>\n",
       "      <th>6.500</th>\n",
       "      <th>7.000</th>\n",
       "      <th>7.500</th>\n",
       "    </tr>\n",
       "    <tr>\n",
       "      <th>pool_cpr</th>\n",
       "      <th></th>\n",
       "      <th></th>\n",
       "      <th></th>\n",
       "      <th></th>\n",
       "      <th></th>\n",
       "      <th></th>\n",
       "      <th></th>\n",
       "      <th></th>\n",
       "    </tr>\n",
       "  </thead>\n",
       "  <tbody>\n",
       "    <tr>\n",
       "      <th>0.000</th>\n",
       "      <td>4.074</td>\n",
       "      <td>4.594</td>\n",
       "      <td>5.116</td>\n",
       "      <td>5.641</td>\n",
       "      <td>6.168</td>\n",
       "      <td>6.697</td>\n",
       "      <td>7.229</td>\n",
       "      <td>7.763</td>\n",
       "    </tr>\n",
       "    <tr>\n",
       "      <th>5.000</th>\n",
       "      <td>4.074</td>\n",
       "      <td>4.594</td>\n",
       "      <td>5.116</td>\n",
       "      <td>5.641</td>\n",
       "      <td>6.168</td>\n",
       "      <td>6.697</td>\n",
       "      <td>7.229</td>\n",
       "      <td>7.763</td>\n",
       "    </tr>\n",
       "    <tr>\n",
       "      <th>10.000</th>\n",
       "      <td>4.074</td>\n",
       "      <td>4.594</td>\n",
       "      <td>5.116</td>\n",
       "      <td>5.641</td>\n",
       "      <td>6.168</td>\n",
       "      <td>6.697</td>\n",
       "      <td>7.229</td>\n",
       "      <td>7.763</td>\n",
       "    </tr>\n",
       "    <tr>\n",
       "      <th>15.000</th>\n",
       "      <td>4.074</td>\n",
       "      <td>4.594</td>\n",
       "      <td>5.116</td>\n",
       "      <td>5.640</td>\n",
       "      <td>6.168</td>\n",
       "      <td>6.697</td>\n",
       "      <td>7.229</td>\n",
       "      <td>7.763</td>\n",
       "    </tr>\n",
       "    <tr>\n",
       "      <th>20.000</th>\n",
       "      <td>4.074</td>\n",
       "      <td>4.594</td>\n",
       "      <td>5.116</td>\n",
       "      <td>5.641</td>\n",
       "      <td>6.168</td>\n",
       "      <td>6.697</td>\n",
       "      <td>7.229</td>\n",
       "      <td>7.763</td>\n",
       "    </tr>\n",
       "    <tr>\n",
       "      <th>25.000</th>\n",
       "      <td>4.074</td>\n",
       "      <td>4.594</td>\n",
       "      <td>5.116</td>\n",
       "      <td>5.641</td>\n",
       "      <td>6.168</td>\n",
       "      <td>6.697</td>\n",
       "      <td>7.229</td>\n",
       "      <td>7.763</td>\n",
       "    </tr>\n",
       "    <tr>\n",
       "      <th>30.000</th>\n",
       "      <td>4.074</td>\n",
       "      <td>4.594</td>\n",
       "      <td>5.116</td>\n",
       "      <td>5.641</td>\n",
       "      <td>6.168</td>\n",
       "      <td>6.697</td>\n",
       "      <td>7.229</td>\n",
       "      <td>7.763</td>\n",
       "    </tr>\n",
       "  </tbody>\n",
       "</table>\n",
       "</div>"
      ],
      "text/plain": [
       "tranche_rate_mezz  4.000  4.500  5.000  5.500  6.000  6.500  7.000  7.500\n",
       "pool_cpr                                                                 \n",
       "0.000              4.074  4.594  5.116  5.641  6.168  6.697  7.229  7.763\n",
       "5.000              4.074  4.594  5.116  5.641  6.168  6.697  7.229  7.763\n",
       "10.000             4.074  4.594  5.116  5.641  6.168  6.697  7.229  7.763\n",
       "15.000             4.074  4.594  5.116  5.640  6.168  6.697  7.229  7.763\n",
       "20.000             4.074  4.594  5.116  5.641  6.168  6.697  7.229  7.763\n",
       "25.000             4.074  4.594  5.116  5.641  6.168  6.697  7.229  7.763\n",
       "30.000             4.074  4.594  5.116  5.641  6.168  6.697  7.229  7.763"
      ]
     },
     "execution_count": 160,
     "metadata": {},
     "output_type": "execute_result"
    }
   ],
   "source": [
    "results_df = pd.DataFrame(results)\n",
    "results_df.to_clipboard(index=False)\n",
    "pivoted_df = results_df.pivot(index='pool_cpr', columns='tranche_rate_mezz', values='IRR')\n",
    "pivoted_df"
   ]
  },
  {
   "cell_type": "markdown",
   "id": "f11734f5",
   "metadata": {},
   "source": [
    "Sensitivity Test v2"
   ]
  },
  {
   "cell_type": "code",
   "execution_count": 161,
   "id": "d8a2e8ff",
   "metadata": {},
   "outputs": [
    {
     "data": {
      "text/plain": [
       "0.0806173652981258"
      ]
     },
     "execution_count": 161,
     "metadata": {},
     "output_type": "execute_result"
    }
   ],
   "source": [
    "def bondIrr(result):\n",
    "    clo_like_equity_tranche = result['bonds']['E']['cash']\n",
    "    initial_investment = original_pool_balance * tranche_size_equity * issue_price\n",
    "    clo_like_equity_tranche = pd.concat([pd.Series(-1*initial_investment, index=[start_date]), clo_like_equity_tranche])\n",
    "    clo_like_equity_tranche.sort_index(inplace=True)\n",
    "    return xirr(clo_like_equity_tranche.index.to_list(),clo_like_equity_tranche.to_list())\n",
    "\n",
    "def tryDraw(txns ,bal , draws):\n",
    "    if len(draws)==0:\n",
    "        return txns\n",
    "    else:\n",
    "        draw = draws[0]\n",
    "        restDraws = draws[1:]\n",
    "        if bal >= draw:\n",
    "            return tryDraw(txns+[draw],bal-draw,restDraws)\n",
    "        else:\n",
    "            return tryDraw(txns+[bal],0,restDraws)\n",
    "\n",
    "def srt(initBals, poolPerformance, trancheOfIntest, feeRates, reinvestRate=reinvestment_rate):\n",
    "    \n",
    "    poolDates = poolPerformance['pool']['flow'].index.to_list()\n",
    "    beginDate = poolDates[0]\n",
    "    lastDate = poolDates[-1]\n",
    "    start = poolPerformance['pool']['flow'][['Balance','Loss','CumLoss']]\n",
    "    start['CumLossDerived'] = start['Loss'].cumsum()\n",
    "\n",
    "    seniorBal, mezzBal, equityBal = initBals\n",
    "    mezzRate,equityRate = feeRates\n",
    "    \n",
    "    issuePrice = mezzBal if trancheOfIntest == \"M\" else equityBal\n",
    "    \n",
    "    # indicator only     #this considers the loss resulted writeoffs\n",
    "    start.loc[:,'equityBal'] = (equityBal - start['CumLossDerived']).clip(lower=0).to_list()\n",
    "    start.loc[:,'mezzBal'] =  mezzBal - (start['CumLossDerived'] - equityBal).clip(lower=0,upper=mezzBal)\n",
    "    start.loc[:,'seniorBal'] = seniorBal - (start['CumLossDerived'] - equityBal - mezzBal).clip(lower=0)\n",
    "    start.loc[:,'mezzLoss'] = np.maximum(start['CumLossDerived'] - equityBal, 0).clip(lower=0).to_list()  \n",
    "    start.loc[:,'seniorLoss'] = np.maximum(start['CumLossDerived'] - equityBal - mezzBal, 0).clip(lower=0).to_list()  \n",
    "\n",
    "    if trancheOfIntest == \"M\" :     #shows which tranche we're investing in\n",
    "        start.loc[:,'mezzBal - feeStream'] = start['mezzBal'] * mezzRate / 12\n",
    "    else:\n",
    "        start.loc[:,'equityBal - feeStream'] = start['equityBal'] * equityRate / 12\n",
    "\n",
    "    #start.loc[:,'reimburseLoss'] = start['Loss']\n",
    "\n",
    "    # invest related cashflow\n",
    "    start.loc[:,'cashAccountChange'] = 0\n",
    "    ## account init bals\n",
    "    start.loc[:,'cashAccountBal'] = issuePrice\n",
    "    ## loss reimbursement\n",
    "    start.loc[:,'reimburseLoss'] = 0\n",
    "\n",
    "    if trancheOfIntest == \"M\" :     #shows which tranche we're investing in\n",
    "        reimburseAmt = tryDraw([], issuePrice ,start.loc[:,'mezzLoss'].to_list())\n",
    "    else:\n",
    "        reimburseAmt = tryDraw([], issuePrice ,start.loc[:,'Loss'].to_list())\n",
    "    \n",
    "    start.loc[:,'reimburseLoss'] = reimburseAmt\n",
    "    start.loc[:,'cashAccountChange'] = start.loc[:,'cashAccountChange'] + -1*start['reimburseLoss']\n",
    "    ## init deposit with price\n",
    "    start.loc[beginDate, 'cashAccountChange'] = start.loc[beginDate, 'cashAccountChange'] + issuePrice\n",
    "    ### calculate account balance with \n",
    "    start.loc[:,'cashAccountBal'] = list(accumulate([issuePrice]+start['cashAccountChange'].to_list()[1:]))\n",
    "    ### withdraw all cash from account at last day\n",
    "    start.loc[lastDate, 'cashAccountChange'] = -1*start.loc[lastDate, 'cashAccountBal']\n",
    "    ## reinvestment int\n",
    "    start.loc[:,'cashAccountInt'] = start['cashAccountBal'].shift(1,fill_value=0) * reinvestRate/12\n",
    "    ## net cashflow\n",
    "    start.loc[:,'netCashflow'] = 0 \n",
    "    # the above takes care of the 2 sources of inflows: guarantee fee income and cash account reinvestment interest\n",
    "    \n",
    "    ## init deposit\n",
    "    start.loc[beginDate,'netCashflow'] = -1 * issuePrice\n",
    "    ## add premiums to net cashflow\n",
    "    if trancheOfIntest == \"M\" :\n",
    "        start.loc[:,'netCashflow'] += start['mezzBal - feeStream'].fillna(0)\n",
    "    else:\n",
    "        start.loc[:,'netCashflow'] += start['equityBal - feeStream'].fillna(0)\n",
    "    ## add reinvestment int to net cashflow\n",
    "    start.loc[:,'netCashflow'] += start['cashAccountInt']\n",
    "    ## draw remain cash from account at last period\n",
    "    start.loc[lastDate,'netCashflow'] += start.loc[lastDate,'cashAccountBal']    \n",
    "    return start\n",
    "\n",
    "stackPortion = (tranche_size_senior,tranche_size_mezz,tranche_size_equity)\n",
    "ganranteeFeeRates = (tranche_rate_mezz,tranche_rate_equity)\n",
    "projectCf = srt( [ original_pool_balance * x for x in stackPortion ]\n",
    "                , r, \"M\", ganranteeFeeRates, reinvestRate=reinvestment_rate)\n",
    "projectCf\n",
    "xirr(projectCf.index.to_list(),projectCf['netCashflow'].to_list())"
   ]
  },
  {
   "cell_type": "code",
   "execution_count": 162,
   "id": "872fd088",
   "metadata": {},
   "outputs": [
    {
     "data": {
      "text/html": [
       "<pre style=\"white-space:pre;overflow-x:auto;line-height:normal;font-family:Menlo,'DejaVu Sans Mono',consolas,'Courier New',monospace\">Warning Message from server:\n",
       "<span style=\"color: #808000; text-decoration-color: #808000; font-weight: bold\">Bond E is not paid off</span>\n",
       "<span style=\"color: #808000; text-decoration-color: #808000; font-weight: bold\">Bond M is not paid off</span>\n",
       "<span style=\"color: #808000; text-decoration-color: #808000; font-weight: bold\">Bond S is not paid off</span>\n",
       "</pre>\n"
      ],
      "text/plain": [
       "Warning Message from server:\n",
       "\u001b[1;33mBond E is not paid off\u001b[0m\n",
       "\u001b[1;33mBond M is not paid off\u001b[0m\n",
       "\u001b[1;33mBond S is not paid off\u001b[0m\n"
      ]
     },
     "metadata": {},
     "output_type": "display_data"
    },
    {
     "name": "stdout",
     "output_type": "stream",
     "text": [
      "Pool CPR: 0.0, Tranche Rate: 0.04, IRR: 0.08003399865914239\n"
     ]
    },
    {
     "data": {
      "text/html": [
       "<pre style=\"white-space:pre;overflow-x:auto;line-height:normal;font-family:Menlo,'DejaVu Sans Mono',consolas,'Courier New',monospace\">Warning Message from server:\n",
       "<span style=\"color: #808000; text-decoration-color: #808000; font-weight: bold\">Bond E is not paid off</span>\n",
       "<span style=\"color: #808000; text-decoration-color: #808000; font-weight: bold\">Bond M is not paid off</span>\n",
       "<span style=\"color: #808000; text-decoration-color: #808000; font-weight: bold\">Bond S is not paid off</span>\n",
       "</pre>\n"
      ],
      "text/plain": [
       "Warning Message from server:\n",
       "\u001b[1;33mBond E is not paid off\u001b[0m\n",
       "\u001b[1;33mBond M is not paid off\u001b[0m\n",
       "\u001b[1;33mBond S is not paid off\u001b[0m\n"
      ]
     },
     "metadata": {},
     "output_type": "display_data"
    },
    {
     "name": "stdout",
     "output_type": "stream",
     "text": [
      "Pool CPR: 0.0, Tranche Rate: 0.045, IRR: 0.08003399865914239\n"
     ]
    },
    {
     "data": {
      "text/html": [
       "<pre style=\"white-space:pre;overflow-x:auto;line-height:normal;font-family:Menlo,'DejaVu Sans Mono',consolas,'Courier New',monospace\">Warning Message from server:\n",
       "<span style=\"color: #808000; text-decoration-color: #808000; font-weight: bold\">Bond E is not paid off</span>\n",
       "<span style=\"color: #808000; text-decoration-color: #808000; font-weight: bold\">Bond M is not paid off</span>\n",
       "<span style=\"color: #808000; text-decoration-color: #808000; font-weight: bold\">Bond S is not paid off</span>\n",
       "</pre>\n"
      ],
      "text/plain": [
       "Warning Message from server:\n",
       "\u001b[1;33mBond E is not paid off\u001b[0m\n",
       "\u001b[1;33mBond M is not paid off\u001b[0m\n",
       "\u001b[1;33mBond S is not paid off\u001b[0m\n"
      ]
     },
     "metadata": {},
     "output_type": "display_data"
    },
    {
     "name": "stdout",
     "output_type": "stream",
     "text": [
      "Pool CPR: 0.0, Tranche Rate: 0.049999999999999996, IRR: 0.08003399865914239\n"
     ]
    },
    {
     "data": {
      "text/html": [
       "<pre style=\"white-space:pre;overflow-x:auto;line-height:normal;font-family:Menlo,'DejaVu Sans Mono',consolas,'Courier New',monospace\">Warning Message from server:\n",
       "<span style=\"color: #808000; text-decoration-color: #808000; font-weight: bold\">Bond E is not paid off</span>\n",
       "<span style=\"color: #808000; text-decoration-color: #808000; font-weight: bold\">Bond M is not paid off</span>\n",
       "<span style=\"color: #808000; text-decoration-color: #808000; font-weight: bold\">Bond S is not paid off</span>\n",
       "</pre>\n"
      ],
      "text/plain": [
       "Warning Message from server:\n",
       "\u001b[1;33mBond E is not paid off\u001b[0m\n",
       "\u001b[1;33mBond M is not paid off\u001b[0m\n",
       "\u001b[1;33mBond S is not paid off\u001b[0m\n"
      ]
     },
     "metadata": {},
     "output_type": "display_data"
    },
    {
     "name": "stdout",
     "output_type": "stream",
     "text": [
      "Pool CPR: 0.0, Tranche Rate: 0.05499999999999999, IRR: 0.08003399865914239\n"
     ]
    },
    {
     "data": {
      "text/html": [
       "<pre style=\"white-space:pre;overflow-x:auto;line-height:normal;font-family:Menlo,'DejaVu Sans Mono',consolas,'Courier New',monospace\">Warning Message from server:\n",
       "<span style=\"color: #808000; text-decoration-color: #808000; font-weight: bold\">Bond E is not paid off</span>\n",
       "<span style=\"color: #808000; text-decoration-color: #808000; font-weight: bold\">Bond M is not paid off</span>\n",
       "<span style=\"color: #808000; text-decoration-color: #808000; font-weight: bold\">Bond S is not paid off</span>\n",
       "</pre>\n"
      ],
      "text/plain": [
       "Warning Message from server:\n",
       "\u001b[1;33mBond E is not paid off\u001b[0m\n",
       "\u001b[1;33mBond M is not paid off\u001b[0m\n",
       "\u001b[1;33mBond S is not paid off\u001b[0m\n"
      ]
     },
     "metadata": {},
     "output_type": "display_data"
    },
    {
     "name": "stdout",
     "output_type": "stream",
     "text": [
      "Pool CPR: 0.0, Tranche Rate: 0.05999999999999999, IRR: 0.08003399865914239\n"
     ]
    },
    {
     "data": {
      "text/html": [
       "<pre style=\"white-space:pre;overflow-x:auto;line-height:normal;font-family:Menlo,'DejaVu Sans Mono',consolas,'Courier New',monospace\">Warning Message from server:\n",
       "<span style=\"color: #808000; text-decoration-color: #808000; font-weight: bold\">Bond E is not paid off</span>\n",
       "<span style=\"color: #808000; text-decoration-color: #808000; font-weight: bold\">Bond M is not paid off</span>\n",
       "<span style=\"color: #808000; text-decoration-color: #808000; font-weight: bold\">Bond S is not paid off</span>\n",
       "</pre>\n"
      ],
      "text/plain": [
       "Warning Message from server:\n",
       "\u001b[1;33mBond E is not paid off\u001b[0m\n",
       "\u001b[1;33mBond M is not paid off\u001b[0m\n",
       "\u001b[1;33mBond S is not paid off\u001b[0m\n"
      ]
     },
     "metadata": {},
     "output_type": "display_data"
    },
    {
     "name": "stdout",
     "output_type": "stream",
     "text": [
      "Pool CPR: 0.0, Tranche Rate: 0.06499999999999999, IRR: 0.08003399865914239\n"
     ]
    },
    {
     "data": {
      "text/html": [
       "<pre style=\"white-space:pre;overflow-x:auto;line-height:normal;font-family:Menlo,'DejaVu Sans Mono',consolas,'Courier New',monospace\">Warning Message from server:\n",
       "<span style=\"color: #808000; text-decoration-color: #808000; font-weight: bold\">Bond E is not paid off</span>\n",
       "<span style=\"color: #808000; text-decoration-color: #808000; font-weight: bold\">Bond M is not paid off</span>\n",
       "<span style=\"color: #808000; text-decoration-color: #808000; font-weight: bold\">Bond S is not paid off</span>\n",
       "</pre>\n"
      ],
      "text/plain": [
       "Warning Message from server:\n",
       "\u001b[1;33mBond E is not paid off\u001b[0m\n",
       "\u001b[1;33mBond M is not paid off\u001b[0m\n",
       "\u001b[1;33mBond S is not paid off\u001b[0m\n"
      ]
     },
     "metadata": {},
     "output_type": "display_data"
    },
    {
     "name": "stdout",
     "output_type": "stream",
     "text": [
      "Pool CPR: 0.0, Tranche Rate: 0.06999999999999998, IRR: 0.08003399865914239\n"
     ]
    },
    {
     "data": {
      "text/html": [
       "<pre style=\"white-space:pre;overflow-x:auto;line-height:normal;font-family:Menlo,'DejaVu Sans Mono',consolas,'Courier New',monospace\">Warning Message from server:\n",
       "<span style=\"color: #808000; text-decoration-color: #808000; font-weight: bold\">Bond E is not paid off</span>\n",
       "<span style=\"color: #808000; text-decoration-color: #808000; font-weight: bold\">Bond M is not paid off</span>\n",
       "<span style=\"color: #808000; text-decoration-color: #808000; font-weight: bold\">Bond S is not paid off</span>\n",
       "</pre>\n"
      ],
      "text/plain": [
       "Warning Message from server:\n",
       "\u001b[1;33mBond E is not paid off\u001b[0m\n",
       "\u001b[1;33mBond M is not paid off\u001b[0m\n",
       "\u001b[1;33mBond S is not paid off\u001b[0m\n"
      ]
     },
     "metadata": {},
     "output_type": "display_data"
    },
    {
     "name": "stdout",
     "output_type": "stream",
     "text": [
      "Pool CPR: 0.0, Tranche Rate: 0.07499999999999998, IRR: 0.08003399865914239\n"
     ]
    },
    {
     "data": {
      "text/html": [
       "<pre style=\"white-space:pre;overflow-x:auto;line-height:normal;font-family:Menlo,'DejaVu Sans Mono',consolas,'Courier New',monospace\">Warning Message from server:\n",
       "<span style=\"color: #808000; text-decoration-color: #808000; font-weight: bold\">Bond E is not paid off</span>\n",
       "<span style=\"color: #808000; text-decoration-color: #808000; font-weight: bold\">Bond M is not paid off</span>\n",
       "<span style=\"color: #808000; text-decoration-color: #808000; font-weight: bold\">Bond S is not paid off</span>\n",
       "</pre>\n"
      ],
      "text/plain": [
       "Warning Message from server:\n",
       "\u001b[1;33mBond E is not paid off\u001b[0m\n",
       "\u001b[1;33mBond M is not paid off\u001b[0m\n",
       "\u001b[1;33mBond S is not paid off\u001b[0m\n"
      ]
     },
     "metadata": {},
     "output_type": "display_data"
    },
    {
     "name": "stdout",
     "output_type": "stream",
     "text": [
      "Pool CPR: 0.05, Tranche Rate: 0.04, IRR: 0.08003399865914239\n"
     ]
    },
    {
     "data": {
      "text/html": [
       "<pre style=\"white-space:pre;overflow-x:auto;line-height:normal;font-family:Menlo,'DejaVu Sans Mono',consolas,'Courier New',monospace\">Warning Message from server:\n",
       "<span style=\"color: #808000; text-decoration-color: #808000; font-weight: bold\">Bond E is not paid off</span>\n",
       "<span style=\"color: #808000; text-decoration-color: #808000; font-weight: bold\">Bond M is not paid off</span>\n",
       "<span style=\"color: #808000; text-decoration-color: #808000; font-weight: bold\">Bond S is not paid off</span>\n",
       "</pre>\n"
      ],
      "text/plain": [
       "Warning Message from server:\n",
       "\u001b[1;33mBond E is not paid off\u001b[0m\n",
       "\u001b[1;33mBond M is not paid off\u001b[0m\n",
       "\u001b[1;33mBond S is not paid off\u001b[0m\n"
      ]
     },
     "metadata": {},
     "output_type": "display_data"
    },
    {
     "name": "stdout",
     "output_type": "stream",
     "text": [
      "Pool CPR: 0.05, Tranche Rate: 0.045, IRR: 0.08003399865914239\n"
     ]
    },
    {
     "data": {
      "text/html": [
       "<pre style=\"white-space:pre;overflow-x:auto;line-height:normal;font-family:Menlo,'DejaVu Sans Mono',consolas,'Courier New',monospace\">Warning Message from server:\n",
       "<span style=\"color: #808000; text-decoration-color: #808000; font-weight: bold\">Bond E is not paid off</span>\n",
       "<span style=\"color: #808000; text-decoration-color: #808000; font-weight: bold\">Bond M is not paid off</span>\n",
       "<span style=\"color: #808000; text-decoration-color: #808000; font-weight: bold\">Bond S is not paid off</span>\n",
       "</pre>\n"
      ],
      "text/plain": [
       "Warning Message from server:\n",
       "\u001b[1;33mBond E is not paid off\u001b[0m\n",
       "\u001b[1;33mBond M is not paid off\u001b[0m\n",
       "\u001b[1;33mBond S is not paid off\u001b[0m\n"
      ]
     },
     "metadata": {},
     "output_type": "display_data"
    },
    {
     "name": "stdout",
     "output_type": "stream",
     "text": [
      "Pool CPR: 0.05, Tranche Rate: 0.049999999999999996, IRR: 0.08003399865914239\n"
     ]
    },
    {
     "data": {
      "text/html": [
       "<pre style=\"white-space:pre;overflow-x:auto;line-height:normal;font-family:Menlo,'DejaVu Sans Mono',consolas,'Courier New',monospace\">Warning Message from server:\n",
       "<span style=\"color: #808000; text-decoration-color: #808000; font-weight: bold\">Bond E is not paid off</span>\n",
       "<span style=\"color: #808000; text-decoration-color: #808000; font-weight: bold\">Bond M is not paid off</span>\n",
       "<span style=\"color: #808000; text-decoration-color: #808000; font-weight: bold\">Bond S is not paid off</span>\n",
       "</pre>\n"
      ],
      "text/plain": [
       "Warning Message from server:\n",
       "\u001b[1;33mBond E is not paid off\u001b[0m\n",
       "\u001b[1;33mBond M is not paid off\u001b[0m\n",
       "\u001b[1;33mBond S is not paid off\u001b[0m\n"
      ]
     },
     "metadata": {},
     "output_type": "display_data"
    },
    {
     "name": "stdout",
     "output_type": "stream",
     "text": [
      "Pool CPR: 0.05, Tranche Rate: 0.05499999999999999, IRR: 0.08003399865914239\n"
     ]
    },
    {
     "data": {
      "text/html": [
       "<pre style=\"white-space:pre;overflow-x:auto;line-height:normal;font-family:Menlo,'DejaVu Sans Mono',consolas,'Courier New',monospace\">Warning Message from server:\n",
       "<span style=\"color: #808000; text-decoration-color: #808000; font-weight: bold\">Bond E is not paid off</span>\n",
       "<span style=\"color: #808000; text-decoration-color: #808000; font-weight: bold\">Bond M is not paid off</span>\n",
       "<span style=\"color: #808000; text-decoration-color: #808000; font-weight: bold\">Bond S is not paid off</span>\n",
       "</pre>\n"
      ],
      "text/plain": [
       "Warning Message from server:\n",
       "\u001b[1;33mBond E is not paid off\u001b[0m\n",
       "\u001b[1;33mBond M is not paid off\u001b[0m\n",
       "\u001b[1;33mBond S is not paid off\u001b[0m\n"
      ]
     },
     "metadata": {},
     "output_type": "display_data"
    },
    {
     "name": "stdout",
     "output_type": "stream",
     "text": [
      "Pool CPR: 0.05, Tranche Rate: 0.05999999999999999, IRR: 0.08003399865914239\n"
     ]
    },
    {
     "data": {
      "text/html": [
       "<pre style=\"white-space:pre;overflow-x:auto;line-height:normal;font-family:Menlo,'DejaVu Sans Mono',consolas,'Courier New',monospace\">Warning Message from server:\n",
       "<span style=\"color: #808000; text-decoration-color: #808000; font-weight: bold\">Bond E is not paid off</span>\n",
       "<span style=\"color: #808000; text-decoration-color: #808000; font-weight: bold\">Bond M is not paid off</span>\n",
       "<span style=\"color: #808000; text-decoration-color: #808000; font-weight: bold\">Bond S is not paid off</span>\n",
       "</pre>\n"
      ],
      "text/plain": [
       "Warning Message from server:\n",
       "\u001b[1;33mBond E is not paid off\u001b[0m\n",
       "\u001b[1;33mBond M is not paid off\u001b[0m\n",
       "\u001b[1;33mBond S is not paid off\u001b[0m\n"
      ]
     },
     "metadata": {},
     "output_type": "display_data"
    },
    {
     "name": "stdout",
     "output_type": "stream",
     "text": [
      "Pool CPR: 0.05, Tranche Rate: 0.06499999999999999, IRR: 0.08003399865914239\n"
     ]
    },
    {
     "data": {
      "text/html": [
       "<pre style=\"white-space:pre;overflow-x:auto;line-height:normal;font-family:Menlo,'DejaVu Sans Mono',consolas,'Courier New',monospace\">Warning Message from server:\n",
       "<span style=\"color: #808000; text-decoration-color: #808000; font-weight: bold\">Bond E is not paid off</span>\n",
       "<span style=\"color: #808000; text-decoration-color: #808000; font-weight: bold\">Bond M is not paid off</span>\n",
       "<span style=\"color: #808000; text-decoration-color: #808000; font-weight: bold\">Bond S is not paid off</span>\n",
       "</pre>\n"
      ],
      "text/plain": [
       "Warning Message from server:\n",
       "\u001b[1;33mBond E is not paid off\u001b[0m\n",
       "\u001b[1;33mBond M is not paid off\u001b[0m\n",
       "\u001b[1;33mBond S is not paid off\u001b[0m\n"
      ]
     },
     "metadata": {},
     "output_type": "display_data"
    },
    {
     "name": "stdout",
     "output_type": "stream",
     "text": [
      "Pool CPR: 0.05, Tranche Rate: 0.06999999999999998, IRR: 0.08003399865914239\n"
     ]
    },
    {
     "data": {
      "text/html": [
       "<pre style=\"white-space:pre;overflow-x:auto;line-height:normal;font-family:Menlo,'DejaVu Sans Mono',consolas,'Courier New',monospace\">Warning Message from server:\n",
       "<span style=\"color: #808000; text-decoration-color: #808000; font-weight: bold\">Bond E is not paid off</span>\n",
       "<span style=\"color: #808000; text-decoration-color: #808000; font-weight: bold\">Bond M is not paid off</span>\n",
       "<span style=\"color: #808000; text-decoration-color: #808000; font-weight: bold\">Bond S is not paid off</span>\n",
       "</pre>\n"
      ],
      "text/plain": [
       "Warning Message from server:\n",
       "\u001b[1;33mBond E is not paid off\u001b[0m\n",
       "\u001b[1;33mBond M is not paid off\u001b[0m\n",
       "\u001b[1;33mBond S is not paid off\u001b[0m\n"
      ]
     },
     "metadata": {},
     "output_type": "display_data"
    },
    {
     "name": "stdout",
     "output_type": "stream",
     "text": [
      "Pool CPR: 0.05, Tranche Rate: 0.07499999999999998, IRR: 0.08003399865914239\n"
     ]
    },
    {
     "data": {
      "text/html": [
       "<pre style=\"white-space:pre;overflow-x:auto;line-height:normal;font-family:Menlo,'DejaVu Sans Mono',consolas,'Courier New',monospace\">Warning Message from server:\n",
       "<span style=\"color: #808000; text-decoration-color: #808000; font-weight: bold\">Bond E is not paid off</span>\n",
       "<span style=\"color: #808000; text-decoration-color: #808000; font-weight: bold\">Bond M is not paid off</span>\n",
       "<span style=\"color: #808000; text-decoration-color: #808000; font-weight: bold\">Bond S is not paid off</span>\n",
       "</pre>\n"
      ],
      "text/plain": [
       "Warning Message from server:\n",
       "\u001b[1;33mBond E is not paid off\u001b[0m\n",
       "\u001b[1;33mBond M is not paid off\u001b[0m\n",
       "\u001b[1;33mBond S is not paid off\u001b[0m\n"
      ]
     },
     "metadata": {},
     "output_type": "display_data"
    },
    {
     "name": "stdout",
     "output_type": "stream",
     "text": [
      "Pool CPR: 0.1, Tranche Rate: 0.04, IRR: 0.08003399865914239\n"
     ]
    },
    {
     "data": {
      "text/html": [
       "<pre style=\"white-space:pre;overflow-x:auto;line-height:normal;font-family:Menlo,'DejaVu Sans Mono',consolas,'Courier New',monospace\">Warning Message from server:\n",
       "<span style=\"color: #808000; text-decoration-color: #808000; font-weight: bold\">Bond E is not paid off</span>\n",
       "<span style=\"color: #808000; text-decoration-color: #808000; font-weight: bold\">Bond M is not paid off</span>\n",
       "<span style=\"color: #808000; text-decoration-color: #808000; font-weight: bold\">Bond S is not paid off</span>\n",
       "</pre>\n"
      ],
      "text/plain": [
       "Warning Message from server:\n",
       "\u001b[1;33mBond E is not paid off\u001b[0m\n",
       "\u001b[1;33mBond M is not paid off\u001b[0m\n",
       "\u001b[1;33mBond S is not paid off\u001b[0m\n"
      ]
     },
     "metadata": {},
     "output_type": "display_data"
    },
    {
     "name": "stdout",
     "output_type": "stream",
     "text": [
      "Pool CPR: 0.1, Tranche Rate: 0.045, IRR: 0.08003399865914239\n"
     ]
    },
    {
     "data": {
      "text/html": [
       "<pre style=\"white-space:pre;overflow-x:auto;line-height:normal;font-family:Menlo,'DejaVu Sans Mono',consolas,'Courier New',monospace\">Warning Message from server:\n",
       "<span style=\"color: #808000; text-decoration-color: #808000; font-weight: bold\">Bond E is not paid off</span>\n",
       "<span style=\"color: #808000; text-decoration-color: #808000; font-weight: bold\">Bond M is not paid off</span>\n",
       "<span style=\"color: #808000; text-decoration-color: #808000; font-weight: bold\">Bond S is not paid off</span>\n",
       "</pre>\n"
      ],
      "text/plain": [
       "Warning Message from server:\n",
       "\u001b[1;33mBond E is not paid off\u001b[0m\n",
       "\u001b[1;33mBond M is not paid off\u001b[0m\n",
       "\u001b[1;33mBond S is not paid off\u001b[0m\n"
      ]
     },
     "metadata": {},
     "output_type": "display_data"
    },
    {
     "name": "stdout",
     "output_type": "stream",
     "text": [
      "Pool CPR: 0.1, Tranche Rate: 0.049999999999999996, IRR: 0.08003399865914239\n"
     ]
    },
    {
     "data": {
      "text/html": [
       "<pre style=\"white-space:pre;overflow-x:auto;line-height:normal;font-family:Menlo,'DejaVu Sans Mono',consolas,'Courier New',monospace\">Warning Message from server:\n",
       "<span style=\"color: #808000; text-decoration-color: #808000; font-weight: bold\">Bond E is not paid off</span>\n",
       "<span style=\"color: #808000; text-decoration-color: #808000; font-weight: bold\">Bond M is not paid off</span>\n",
       "<span style=\"color: #808000; text-decoration-color: #808000; font-weight: bold\">Bond S is not paid off</span>\n",
       "</pre>\n"
      ],
      "text/plain": [
       "Warning Message from server:\n",
       "\u001b[1;33mBond E is not paid off\u001b[0m\n",
       "\u001b[1;33mBond M is not paid off\u001b[0m\n",
       "\u001b[1;33mBond S is not paid off\u001b[0m\n"
      ]
     },
     "metadata": {},
     "output_type": "display_data"
    },
    {
     "name": "stdout",
     "output_type": "stream",
     "text": [
      "Pool CPR: 0.1, Tranche Rate: 0.05499999999999999, IRR: 0.08003399865914239\n"
     ]
    },
    {
     "data": {
      "text/html": [
       "<pre style=\"white-space:pre;overflow-x:auto;line-height:normal;font-family:Menlo,'DejaVu Sans Mono',consolas,'Courier New',monospace\">Warning Message from server:\n",
       "<span style=\"color: #808000; text-decoration-color: #808000; font-weight: bold\">Bond E is not paid off</span>\n",
       "<span style=\"color: #808000; text-decoration-color: #808000; font-weight: bold\">Bond M is not paid off</span>\n",
       "<span style=\"color: #808000; text-decoration-color: #808000; font-weight: bold\">Bond S is not paid off</span>\n",
       "</pre>\n"
      ],
      "text/plain": [
       "Warning Message from server:\n",
       "\u001b[1;33mBond E is not paid off\u001b[0m\n",
       "\u001b[1;33mBond M is not paid off\u001b[0m\n",
       "\u001b[1;33mBond S is not paid off\u001b[0m\n"
      ]
     },
     "metadata": {},
     "output_type": "display_data"
    },
    {
     "name": "stdout",
     "output_type": "stream",
     "text": [
      "Pool CPR: 0.1, Tranche Rate: 0.05999999999999999, IRR: 0.08003399865914239\n"
     ]
    },
    {
     "data": {
      "text/html": [
       "<pre style=\"white-space:pre;overflow-x:auto;line-height:normal;font-family:Menlo,'DejaVu Sans Mono',consolas,'Courier New',monospace\">Warning Message from server:\n",
       "<span style=\"color: #808000; text-decoration-color: #808000; font-weight: bold\">Bond E is not paid off</span>\n",
       "<span style=\"color: #808000; text-decoration-color: #808000; font-weight: bold\">Bond M is not paid off</span>\n",
       "<span style=\"color: #808000; text-decoration-color: #808000; font-weight: bold\">Bond S is not paid off</span>\n",
       "</pre>\n"
      ],
      "text/plain": [
       "Warning Message from server:\n",
       "\u001b[1;33mBond E is not paid off\u001b[0m\n",
       "\u001b[1;33mBond M is not paid off\u001b[0m\n",
       "\u001b[1;33mBond S is not paid off\u001b[0m\n"
      ]
     },
     "metadata": {},
     "output_type": "display_data"
    },
    {
     "name": "stdout",
     "output_type": "stream",
     "text": [
      "Pool CPR: 0.1, Tranche Rate: 0.06499999999999999, IRR: 0.08003399865914239\n"
     ]
    },
    {
     "data": {
      "text/html": [
       "<pre style=\"white-space:pre;overflow-x:auto;line-height:normal;font-family:Menlo,'DejaVu Sans Mono',consolas,'Courier New',monospace\">Warning Message from server:\n",
       "<span style=\"color: #808000; text-decoration-color: #808000; font-weight: bold\">Bond E is not paid off</span>\n",
       "<span style=\"color: #808000; text-decoration-color: #808000; font-weight: bold\">Bond M is not paid off</span>\n",
       "<span style=\"color: #808000; text-decoration-color: #808000; font-weight: bold\">Bond S is not paid off</span>\n",
       "</pre>\n"
      ],
      "text/plain": [
       "Warning Message from server:\n",
       "\u001b[1;33mBond E is not paid off\u001b[0m\n",
       "\u001b[1;33mBond M is not paid off\u001b[0m\n",
       "\u001b[1;33mBond S is not paid off\u001b[0m\n"
      ]
     },
     "metadata": {},
     "output_type": "display_data"
    },
    {
     "name": "stdout",
     "output_type": "stream",
     "text": [
      "Pool CPR: 0.1, Tranche Rate: 0.06999999999999998, IRR: 0.08003399865914239\n"
     ]
    },
    {
     "data": {
      "text/html": [
       "<pre style=\"white-space:pre;overflow-x:auto;line-height:normal;font-family:Menlo,'DejaVu Sans Mono',consolas,'Courier New',monospace\">Warning Message from server:\n",
       "<span style=\"color: #808000; text-decoration-color: #808000; font-weight: bold\">Bond E is not paid off</span>\n",
       "<span style=\"color: #808000; text-decoration-color: #808000; font-weight: bold\">Bond M is not paid off</span>\n",
       "<span style=\"color: #808000; text-decoration-color: #808000; font-weight: bold\">Bond S is not paid off</span>\n",
       "</pre>\n"
      ],
      "text/plain": [
       "Warning Message from server:\n",
       "\u001b[1;33mBond E is not paid off\u001b[0m\n",
       "\u001b[1;33mBond M is not paid off\u001b[0m\n",
       "\u001b[1;33mBond S is not paid off\u001b[0m\n"
      ]
     },
     "metadata": {},
     "output_type": "display_data"
    },
    {
     "name": "stdout",
     "output_type": "stream",
     "text": [
      "Pool CPR: 0.1, Tranche Rate: 0.07499999999999998, IRR: 0.08003399865914239\n"
     ]
    },
    {
     "data": {
      "text/html": [
       "<pre style=\"white-space:pre;overflow-x:auto;line-height:normal;font-family:Menlo,'DejaVu Sans Mono',consolas,'Courier New',monospace\">Warning Message from server:\n",
       "<span style=\"color: #808000; text-decoration-color: #808000; font-weight: bold\">Bond E is not paid off</span>\n",
       "<span style=\"color: #808000; text-decoration-color: #808000; font-weight: bold\">Bond M is not paid off</span>\n",
       "<span style=\"color: #808000; text-decoration-color: #808000; font-weight: bold\">Bond S is not paid off</span>\n",
       "</pre>\n"
      ],
      "text/plain": [
       "Warning Message from server:\n",
       "\u001b[1;33mBond E is not paid off\u001b[0m\n",
       "\u001b[1;33mBond M is not paid off\u001b[0m\n",
       "\u001b[1;33mBond S is not paid off\u001b[0m\n"
      ]
     },
     "metadata": {},
     "output_type": "display_data"
    },
    {
     "name": "stdout",
     "output_type": "stream",
     "text": [
      "Pool CPR: 0.15000000000000002, Tranche Rate: 0.04, IRR: 0.08003399865914239\n"
     ]
    },
    {
     "data": {
      "text/html": [
       "<pre style=\"white-space:pre;overflow-x:auto;line-height:normal;font-family:Menlo,'DejaVu Sans Mono',consolas,'Courier New',monospace\">Warning Message from server:\n",
       "<span style=\"color: #808000; text-decoration-color: #808000; font-weight: bold\">Bond E is not paid off</span>\n",
       "<span style=\"color: #808000; text-decoration-color: #808000; font-weight: bold\">Bond M is not paid off</span>\n",
       "<span style=\"color: #808000; text-decoration-color: #808000; font-weight: bold\">Bond S is not paid off</span>\n",
       "</pre>\n"
      ],
      "text/plain": [
       "Warning Message from server:\n",
       "\u001b[1;33mBond E is not paid off\u001b[0m\n",
       "\u001b[1;33mBond M is not paid off\u001b[0m\n",
       "\u001b[1;33mBond S is not paid off\u001b[0m\n"
      ]
     },
     "metadata": {},
     "output_type": "display_data"
    },
    {
     "name": "stdout",
     "output_type": "stream",
     "text": [
      "Pool CPR: 0.15000000000000002, Tranche Rate: 0.045, IRR: 0.08003399865914239\n"
     ]
    },
    {
     "data": {
      "text/html": [
       "<pre style=\"white-space:pre;overflow-x:auto;line-height:normal;font-family:Menlo,'DejaVu Sans Mono',consolas,'Courier New',monospace\">Warning Message from server:\n",
       "<span style=\"color: #808000; text-decoration-color: #808000; font-weight: bold\">Bond E is not paid off</span>\n",
       "<span style=\"color: #808000; text-decoration-color: #808000; font-weight: bold\">Bond M is not paid off</span>\n",
       "<span style=\"color: #808000; text-decoration-color: #808000; font-weight: bold\">Bond S is not paid off</span>\n",
       "</pre>\n"
      ],
      "text/plain": [
       "Warning Message from server:\n",
       "\u001b[1;33mBond E is not paid off\u001b[0m\n",
       "\u001b[1;33mBond M is not paid off\u001b[0m\n",
       "\u001b[1;33mBond S is not paid off\u001b[0m\n"
      ]
     },
     "metadata": {},
     "output_type": "display_data"
    },
    {
     "name": "stdout",
     "output_type": "stream",
     "text": [
      "Pool CPR: 0.15000000000000002, Tranche Rate: 0.049999999999999996, IRR: 0.08003399865914239\n"
     ]
    },
    {
     "data": {
      "text/html": [
       "<pre style=\"white-space:pre;overflow-x:auto;line-height:normal;font-family:Menlo,'DejaVu Sans Mono',consolas,'Courier New',monospace\">Warning Message from server:\n",
       "<span style=\"color: #808000; text-decoration-color: #808000; font-weight: bold\">Bond E is not paid off</span>\n",
       "<span style=\"color: #808000; text-decoration-color: #808000; font-weight: bold\">Bond M is not paid off</span>\n",
       "<span style=\"color: #808000; text-decoration-color: #808000; font-weight: bold\">Bond S is not paid off</span>\n",
       "</pre>\n"
      ],
      "text/plain": [
       "Warning Message from server:\n",
       "\u001b[1;33mBond E is not paid off\u001b[0m\n",
       "\u001b[1;33mBond M is not paid off\u001b[0m\n",
       "\u001b[1;33mBond S is not paid off\u001b[0m\n"
      ]
     },
     "metadata": {},
     "output_type": "display_data"
    },
    {
     "name": "stdout",
     "output_type": "stream",
     "text": [
      "Pool CPR: 0.15000000000000002, Tranche Rate: 0.05499999999999999, IRR: 0.08003399865914239\n"
     ]
    },
    {
     "data": {
      "text/html": [
       "<pre style=\"white-space:pre;overflow-x:auto;line-height:normal;font-family:Menlo,'DejaVu Sans Mono',consolas,'Courier New',monospace\">Warning Message from server:\n",
       "<span style=\"color: #808000; text-decoration-color: #808000; font-weight: bold\">Bond E is not paid off</span>\n",
       "<span style=\"color: #808000; text-decoration-color: #808000; font-weight: bold\">Bond M is not paid off</span>\n",
       "<span style=\"color: #808000; text-decoration-color: #808000; font-weight: bold\">Bond S is not paid off</span>\n",
       "</pre>\n"
      ],
      "text/plain": [
       "Warning Message from server:\n",
       "\u001b[1;33mBond E is not paid off\u001b[0m\n",
       "\u001b[1;33mBond M is not paid off\u001b[0m\n",
       "\u001b[1;33mBond S is not paid off\u001b[0m\n"
      ]
     },
     "metadata": {},
     "output_type": "display_data"
    },
    {
     "name": "stdout",
     "output_type": "stream",
     "text": [
      "Pool CPR: 0.15000000000000002, Tranche Rate: 0.05999999999999999, IRR: 0.08003399865914239\n"
     ]
    },
    {
     "data": {
      "text/html": [
       "<pre style=\"white-space:pre;overflow-x:auto;line-height:normal;font-family:Menlo,'DejaVu Sans Mono',consolas,'Courier New',monospace\">Warning Message from server:\n",
       "<span style=\"color: #808000; text-decoration-color: #808000; font-weight: bold\">Bond E is not paid off</span>\n",
       "<span style=\"color: #808000; text-decoration-color: #808000; font-weight: bold\">Bond M is not paid off</span>\n",
       "<span style=\"color: #808000; text-decoration-color: #808000; font-weight: bold\">Bond S is not paid off</span>\n",
       "</pre>\n"
      ],
      "text/plain": [
       "Warning Message from server:\n",
       "\u001b[1;33mBond E is not paid off\u001b[0m\n",
       "\u001b[1;33mBond M is not paid off\u001b[0m\n",
       "\u001b[1;33mBond S is not paid off\u001b[0m\n"
      ]
     },
     "metadata": {},
     "output_type": "display_data"
    },
    {
     "name": "stdout",
     "output_type": "stream",
     "text": [
      "Pool CPR: 0.15000000000000002, Tranche Rate: 0.06499999999999999, IRR: 0.08003399865914239\n"
     ]
    },
    {
     "data": {
      "text/html": [
       "<pre style=\"white-space:pre;overflow-x:auto;line-height:normal;font-family:Menlo,'DejaVu Sans Mono',consolas,'Courier New',monospace\">Warning Message from server:\n",
       "<span style=\"color: #808000; text-decoration-color: #808000; font-weight: bold\">Bond E is not paid off</span>\n",
       "<span style=\"color: #808000; text-decoration-color: #808000; font-weight: bold\">Bond M is not paid off</span>\n",
       "<span style=\"color: #808000; text-decoration-color: #808000; font-weight: bold\">Bond S is not paid off</span>\n",
       "</pre>\n"
      ],
      "text/plain": [
       "Warning Message from server:\n",
       "\u001b[1;33mBond E is not paid off\u001b[0m\n",
       "\u001b[1;33mBond M is not paid off\u001b[0m\n",
       "\u001b[1;33mBond S is not paid off\u001b[0m\n"
      ]
     },
     "metadata": {},
     "output_type": "display_data"
    },
    {
     "name": "stdout",
     "output_type": "stream",
     "text": [
      "Pool CPR: 0.15000000000000002, Tranche Rate: 0.06999999999999998, IRR: 0.08003399865914239\n"
     ]
    },
    {
     "data": {
      "text/html": [
       "<pre style=\"white-space:pre;overflow-x:auto;line-height:normal;font-family:Menlo,'DejaVu Sans Mono',consolas,'Courier New',monospace\">Warning Message from server:\n",
       "<span style=\"color: #808000; text-decoration-color: #808000; font-weight: bold\">Bond E is not paid off</span>\n",
       "<span style=\"color: #808000; text-decoration-color: #808000; font-weight: bold\">Bond M is not paid off</span>\n",
       "<span style=\"color: #808000; text-decoration-color: #808000; font-weight: bold\">Bond S is not paid off</span>\n",
       "</pre>\n"
      ],
      "text/plain": [
       "Warning Message from server:\n",
       "\u001b[1;33mBond E is not paid off\u001b[0m\n",
       "\u001b[1;33mBond M is not paid off\u001b[0m\n",
       "\u001b[1;33mBond S is not paid off\u001b[0m\n"
      ]
     },
     "metadata": {},
     "output_type": "display_data"
    },
    {
     "name": "stdout",
     "output_type": "stream",
     "text": [
      "Pool CPR: 0.15000000000000002, Tranche Rate: 0.07499999999999998, IRR: 0.08003399865914239\n"
     ]
    },
    {
     "data": {
      "text/html": [
       "<pre style=\"white-space:pre;overflow-x:auto;line-height:normal;font-family:Menlo,'DejaVu Sans Mono',consolas,'Courier New',monospace\">Warning Message from server:\n",
       "<span style=\"color: #808000; text-decoration-color: #808000; font-weight: bold\">Bond E is not paid off</span>\n",
       "<span style=\"color: #808000; text-decoration-color: #808000; font-weight: bold\">Bond M is not paid off</span>\n",
       "<span style=\"color: #808000; text-decoration-color: #808000; font-weight: bold\">Bond S is not paid off</span>\n",
       "</pre>\n"
      ],
      "text/plain": [
       "Warning Message from server:\n",
       "\u001b[1;33mBond E is not paid off\u001b[0m\n",
       "\u001b[1;33mBond M is not paid off\u001b[0m\n",
       "\u001b[1;33mBond S is not paid off\u001b[0m\n"
      ]
     },
     "metadata": {},
     "output_type": "display_data"
    },
    {
     "name": "stdout",
     "output_type": "stream",
     "text": [
      "Pool CPR: 0.2, Tranche Rate: 0.04, IRR: 0.08003399865914239\n"
     ]
    },
    {
     "data": {
      "text/html": [
       "<pre style=\"white-space:pre;overflow-x:auto;line-height:normal;font-family:Menlo,'DejaVu Sans Mono',consolas,'Courier New',monospace\">Warning Message from server:\n",
       "<span style=\"color: #808000; text-decoration-color: #808000; font-weight: bold\">Bond E is not paid off</span>\n",
       "<span style=\"color: #808000; text-decoration-color: #808000; font-weight: bold\">Bond M is not paid off</span>\n",
       "<span style=\"color: #808000; text-decoration-color: #808000; font-weight: bold\">Bond S is not paid off</span>\n",
       "</pre>\n"
      ],
      "text/plain": [
       "Warning Message from server:\n",
       "\u001b[1;33mBond E is not paid off\u001b[0m\n",
       "\u001b[1;33mBond M is not paid off\u001b[0m\n",
       "\u001b[1;33mBond S is not paid off\u001b[0m\n"
      ]
     },
     "metadata": {},
     "output_type": "display_data"
    },
    {
     "name": "stdout",
     "output_type": "stream",
     "text": [
      "Pool CPR: 0.2, Tranche Rate: 0.045, IRR: 0.08003399865914239\n"
     ]
    },
    {
     "data": {
      "text/html": [
       "<pre style=\"white-space:pre;overflow-x:auto;line-height:normal;font-family:Menlo,'DejaVu Sans Mono',consolas,'Courier New',monospace\">Warning Message from server:\n",
       "<span style=\"color: #808000; text-decoration-color: #808000; font-weight: bold\">Bond E is not paid off</span>\n",
       "<span style=\"color: #808000; text-decoration-color: #808000; font-weight: bold\">Bond M is not paid off</span>\n",
       "<span style=\"color: #808000; text-decoration-color: #808000; font-weight: bold\">Bond S is not paid off</span>\n",
       "</pre>\n"
      ],
      "text/plain": [
       "Warning Message from server:\n",
       "\u001b[1;33mBond E is not paid off\u001b[0m\n",
       "\u001b[1;33mBond M is not paid off\u001b[0m\n",
       "\u001b[1;33mBond S is not paid off\u001b[0m\n"
      ]
     },
     "metadata": {},
     "output_type": "display_data"
    },
    {
     "name": "stdout",
     "output_type": "stream",
     "text": [
      "Pool CPR: 0.2, Tranche Rate: 0.049999999999999996, IRR: 0.08003399865914239\n"
     ]
    },
    {
     "data": {
      "text/html": [
       "<pre style=\"white-space:pre;overflow-x:auto;line-height:normal;font-family:Menlo,'DejaVu Sans Mono',consolas,'Courier New',monospace\">Warning Message from server:\n",
       "<span style=\"color: #808000; text-decoration-color: #808000; font-weight: bold\">Bond E is not paid off</span>\n",
       "<span style=\"color: #808000; text-decoration-color: #808000; font-weight: bold\">Bond M is not paid off</span>\n",
       "<span style=\"color: #808000; text-decoration-color: #808000; font-weight: bold\">Bond S is not paid off</span>\n",
       "</pre>\n"
      ],
      "text/plain": [
       "Warning Message from server:\n",
       "\u001b[1;33mBond E is not paid off\u001b[0m\n",
       "\u001b[1;33mBond M is not paid off\u001b[0m\n",
       "\u001b[1;33mBond S is not paid off\u001b[0m\n"
      ]
     },
     "metadata": {},
     "output_type": "display_data"
    },
    {
     "name": "stdout",
     "output_type": "stream",
     "text": [
      "Pool CPR: 0.2, Tranche Rate: 0.05499999999999999, IRR: 0.08003399865914239\n"
     ]
    },
    {
     "data": {
      "text/html": [
       "<pre style=\"white-space:pre;overflow-x:auto;line-height:normal;font-family:Menlo,'DejaVu Sans Mono',consolas,'Courier New',monospace\">Warning Message from server:\n",
       "<span style=\"color: #808000; text-decoration-color: #808000; font-weight: bold\">Bond E is not paid off</span>\n",
       "<span style=\"color: #808000; text-decoration-color: #808000; font-weight: bold\">Bond M is not paid off</span>\n",
       "<span style=\"color: #808000; text-decoration-color: #808000; font-weight: bold\">Bond S is not paid off</span>\n",
       "</pre>\n"
      ],
      "text/plain": [
       "Warning Message from server:\n",
       "\u001b[1;33mBond E is not paid off\u001b[0m\n",
       "\u001b[1;33mBond M is not paid off\u001b[0m\n",
       "\u001b[1;33mBond S is not paid off\u001b[0m\n"
      ]
     },
     "metadata": {},
     "output_type": "display_data"
    },
    {
     "name": "stdout",
     "output_type": "stream",
     "text": [
      "Pool CPR: 0.2, Tranche Rate: 0.05999999999999999, IRR: 0.08003399865914239\n"
     ]
    },
    {
     "data": {
      "text/html": [
       "<pre style=\"white-space:pre;overflow-x:auto;line-height:normal;font-family:Menlo,'DejaVu Sans Mono',consolas,'Courier New',monospace\">Warning Message from server:\n",
       "<span style=\"color: #808000; text-decoration-color: #808000; font-weight: bold\">Bond E is not paid off</span>\n",
       "<span style=\"color: #808000; text-decoration-color: #808000; font-weight: bold\">Bond M is not paid off</span>\n",
       "<span style=\"color: #808000; text-decoration-color: #808000; font-weight: bold\">Bond S is not paid off</span>\n",
       "</pre>\n"
      ],
      "text/plain": [
       "Warning Message from server:\n",
       "\u001b[1;33mBond E is not paid off\u001b[0m\n",
       "\u001b[1;33mBond M is not paid off\u001b[0m\n",
       "\u001b[1;33mBond S is not paid off\u001b[0m\n"
      ]
     },
     "metadata": {},
     "output_type": "display_data"
    },
    {
     "name": "stdout",
     "output_type": "stream",
     "text": [
      "Pool CPR: 0.2, Tranche Rate: 0.06499999999999999, IRR: 0.08003399865914239\n"
     ]
    },
    {
     "data": {
      "text/html": [
       "<pre style=\"white-space:pre;overflow-x:auto;line-height:normal;font-family:Menlo,'DejaVu Sans Mono',consolas,'Courier New',monospace\">Warning Message from server:\n",
       "<span style=\"color: #808000; text-decoration-color: #808000; font-weight: bold\">Bond E is not paid off</span>\n",
       "<span style=\"color: #808000; text-decoration-color: #808000; font-weight: bold\">Bond M is not paid off</span>\n",
       "<span style=\"color: #808000; text-decoration-color: #808000; font-weight: bold\">Bond S is not paid off</span>\n",
       "</pre>\n"
      ],
      "text/plain": [
       "Warning Message from server:\n",
       "\u001b[1;33mBond E is not paid off\u001b[0m\n",
       "\u001b[1;33mBond M is not paid off\u001b[0m\n",
       "\u001b[1;33mBond S is not paid off\u001b[0m\n"
      ]
     },
     "metadata": {},
     "output_type": "display_data"
    },
    {
     "name": "stdout",
     "output_type": "stream",
     "text": [
      "Pool CPR: 0.2, Tranche Rate: 0.06999999999999998, IRR: 0.08003399865914239\n"
     ]
    },
    {
     "data": {
      "text/html": [
       "<pre style=\"white-space:pre;overflow-x:auto;line-height:normal;font-family:Menlo,'DejaVu Sans Mono',consolas,'Courier New',monospace\">Warning Message from server:\n",
       "<span style=\"color: #808000; text-decoration-color: #808000; font-weight: bold\">Bond E is not paid off</span>\n",
       "<span style=\"color: #808000; text-decoration-color: #808000; font-weight: bold\">Bond M is not paid off</span>\n",
       "<span style=\"color: #808000; text-decoration-color: #808000; font-weight: bold\">Bond S is not paid off</span>\n",
       "</pre>\n"
      ],
      "text/plain": [
       "Warning Message from server:\n",
       "\u001b[1;33mBond E is not paid off\u001b[0m\n",
       "\u001b[1;33mBond M is not paid off\u001b[0m\n",
       "\u001b[1;33mBond S is not paid off\u001b[0m\n"
      ]
     },
     "metadata": {},
     "output_type": "display_data"
    },
    {
     "name": "stdout",
     "output_type": "stream",
     "text": [
      "Pool CPR: 0.2, Tranche Rate: 0.07499999999999998, IRR: 0.08003399865914239\n"
     ]
    },
    {
     "data": {
      "text/html": [
       "<pre style=\"white-space:pre;overflow-x:auto;line-height:normal;font-family:Menlo,'DejaVu Sans Mono',consolas,'Courier New',monospace\">Warning Message from server:\n",
       "<span style=\"color: #808000; text-decoration-color: #808000; font-weight: bold\">Bond E is not paid off</span>\n",
       "<span style=\"color: #808000; text-decoration-color: #808000; font-weight: bold\">Bond M is not paid off</span>\n",
       "<span style=\"color: #808000; text-decoration-color: #808000; font-weight: bold\">Bond S is not paid off</span>\n",
       "</pre>\n"
      ],
      "text/plain": [
       "Warning Message from server:\n",
       "\u001b[1;33mBond E is not paid off\u001b[0m\n",
       "\u001b[1;33mBond M is not paid off\u001b[0m\n",
       "\u001b[1;33mBond S is not paid off\u001b[0m\n"
      ]
     },
     "metadata": {},
     "output_type": "display_data"
    },
    {
     "name": "stdout",
     "output_type": "stream",
     "text": [
      "Pool CPR: 0.25, Tranche Rate: 0.04, IRR: 0.08003399865914239\n"
     ]
    },
    {
     "data": {
      "text/html": [
       "<pre style=\"white-space:pre;overflow-x:auto;line-height:normal;font-family:Menlo,'DejaVu Sans Mono',consolas,'Courier New',monospace\">Warning Message from server:\n",
       "<span style=\"color: #808000; text-decoration-color: #808000; font-weight: bold\">Bond E is not paid off</span>\n",
       "<span style=\"color: #808000; text-decoration-color: #808000; font-weight: bold\">Bond M is not paid off</span>\n",
       "<span style=\"color: #808000; text-decoration-color: #808000; font-weight: bold\">Bond S is not paid off</span>\n",
       "</pre>\n"
      ],
      "text/plain": [
       "Warning Message from server:\n",
       "\u001b[1;33mBond E is not paid off\u001b[0m\n",
       "\u001b[1;33mBond M is not paid off\u001b[0m\n",
       "\u001b[1;33mBond S is not paid off\u001b[0m\n"
      ]
     },
     "metadata": {},
     "output_type": "display_data"
    },
    {
     "name": "stdout",
     "output_type": "stream",
     "text": [
      "Pool CPR: 0.25, Tranche Rate: 0.045, IRR: 0.08003399865914239\n"
     ]
    },
    {
     "data": {
      "text/html": [
       "<pre style=\"white-space:pre;overflow-x:auto;line-height:normal;font-family:Menlo,'DejaVu Sans Mono',consolas,'Courier New',monospace\">Warning Message from server:\n",
       "<span style=\"color: #808000; text-decoration-color: #808000; font-weight: bold\">Bond E is not paid off</span>\n",
       "<span style=\"color: #808000; text-decoration-color: #808000; font-weight: bold\">Bond M is not paid off</span>\n",
       "<span style=\"color: #808000; text-decoration-color: #808000; font-weight: bold\">Bond S is not paid off</span>\n",
       "</pre>\n"
      ],
      "text/plain": [
       "Warning Message from server:\n",
       "\u001b[1;33mBond E is not paid off\u001b[0m\n",
       "\u001b[1;33mBond M is not paid off\u001b[0m\n",
       "\u001b[1;33mBond S is not paid off\u001b[0m\n"
      ]
     },
     "metadata": {},
     "output_type": "display_data"
    },
    {
     "name": "stdout",
     "output_type": "stream",
     "text": [
      "Pool CPR: 0.25, Tranche Rate: 0.049999999999999996, IRR: 0.08003399865914239\n"
     ]
    },
    {
     "data": {
      "text/html": [
       "<pre style=\"white-space:pre;overflow-x:auto;line-height:normal;font-family:Menlo,'DejaVu Sans Mono',consolas,'Courier New',monospace\">Warning Message from server:\n",
       "<span style=\"color: #808000; text-decoration-color: #808000; font-weight: bold\">Bond E is not paid off</span>\n",
       "<span style=\"color: #808000; text-decoration-color: #808000; font-weight: bold\">Bond M is not paid off</span>\n",
       "<span style=\"color: #808000; text-decoration-color: #808000; font-weight: bold\">Bond S is not paid off</span>\n",
       "</pre>\n"
      ],
      "text/plain": [
       "Warning Message from server:\n",
       "\u001b[1;33mBond E is not paid off\u001b[0m\n",
       "\u001b[1;33mBond M is not paid off\u001b[0m\n",
       "\u001b[1;33mBond S is not paid off\u001b[0m\n"
      ]
     },
     "metadata": {},
     "output_type": "display_data"
    },
    {
     "name": "stdout",
     "output_type": "stream",
     "text": [
      "Pool CPR: 0.25, Tranche Rate: 0.05499999999999999, IRR: 0.08003399865914239\n"
     ]
    },
    {
     "data": {
      "text/html": [
       "<pre style=\"white-space:pre;overflow-x:auto;line-height:normal;font-family:Menlo,'DejaVu Sans Mono',consolas,'Courier New',monospace\">Warning Message from server:\n",
       "<span style=\"color: #808000; text-decoration-color: #808000; font-weight: bold\">Bond E is not paid off</span>\n",
       "<span style=\"color: #808000; text-decoration-color: #808000; font-weight: bold\">Bond M is not paid off</span>\n",
       "<span style=\"color: #808000; text-decoration-color: #808000; font-weight: bold\">Bond S is not paid off</span>\n",
       "</pre>\n"
      ],
      "text/plain": [
       "Warning Message from server:\n",
       "\u001b[1;33mBond E is not paid off\u001b[0m\n",
       "\u001b[1;33mBond M is not paid off\u001b[0m\n",
       "\u001b[1;33mBond S is not paid off\u001b[0m\n"
      ]
     },
     "metadata": {},
     "output_type": "display_data"
    },
    {
     "name": "stdout",
     "output_type": "stream",
     "text": [
      "Pool CPR: 0.25, Tranche Rate: 0.05999999999999999, IRR: 0.08003399865914239\n"
     ]
    },
    {
     "data": {
      "text/html": [
       "<pre style=\"white-space:pre;overflow-x:auto;line-height:normal;font-family:Menlo,'DejaVu Sans Mono',consolas,'Courier New',monospace\">Warning Message from server:\n",
       "<span style=\"color: #808000; text-decoration-color: #808000; font-weight: bold\">Bond E is not paid off</span>\n",
       "<span style=\"color: #808000; text-decoration-color: #808000; font-weight: bold\">Bond M is not paid off</span>\n",
       "<span style=\"color: #808000; text-decoration-color: #808000; font-weight: bold\">Bond S is not paid off</span>\n",
       "</pre>\n"
      ],
      "text/plain": [
       "Warning Message from server:\n",
       "\u001b[1;33mBond E is not paid off\u001b[0m\n",
       "\u001b[1;33mBond M is not paid off\u001b[0m\n",
       "\u001b[1;33mBond S is not paid off\u001b[0m\n"
      ]
     },
     "metadata": {},
     "output_type": "display_data"
    },
    {
     "name": "stdout",
     "output_type": "stream",
     "text": [
      "Pool CPR: 0.25, Tranche Rate: 0.06499999999999999, IRR: 0.08003399865914239\n"
     ]
    },
    {
     "data": {
      "text/html": [
       "<pre style=\"white-space:pre;overflow-x:auto;line-height:normal;font-family:Menlo,'DejaVu Sans Mono',consolas,'Courier New',monospace\">Warning Message from server:\n",
       "<span style=\"color: #808000; text-decoration-color: #808000; font-weight: bold\">Bond E is not paid off</span>\n",
       "<span style=\"color: #808000; text-decoration-color: #808000; font-weight: bold\">Bond M is not paid off</span>\n",
       "<span style=\"color: #808000; text-decoration-color: #808000; font-weight: bold\">Bond S is not paid off</span>\n",
       "</pre>\n"
      ],
      "text/plain": [
       "Warning Message from server:\n",
       "\u001b[1;33mBond E is not paid off\u001b[0m\n",
       "\u001b[1;33mBond M is not paid off\u001b[0m\n",
       "\u001b[1;33mBond S is not paid off\u001b[0m\n"
      ]
     },
     "metadata": {},
     "output_type": "display_data"
    },
    {
     "name": "stdout",
     "output_type": "stream",
     "text": [
      "Pool CPR: 0.25, Tranche Rate: 0.06999999999999998, IRR: 0.08003399865914239\n"
     ]
    },
    {
     "data": {
      "text/html": [
       "<pre style=\"white-space:pre;overflow-x:auto;line-height:normal;font-family:Menlo,'DejaVu Sans Mono',consolas,'Courier New',monospace\">Warning Message from server:\n",
       "<span style=\"color: #808000; text-decoration-color: #808000; font-weight: bold\">Bond E is not paid off</span>\n",
       "<span style=\"color: #808000; text-decoration-color: #808000; font-weight: bold\">Bond M is not paid off</span>\n",
       "<span style=\"color: #808000; text-decoration-color: #808000; font-weight: bold\">Bond S is not paid off</span>\n",
       "</pre>\n"
      ],
      "text/plain": [
       "Warning Message from server:\n",
       "\u001b[1;33mBond E is not paid off\u001b[0m\n",
       "\u001b[1;33mBond M is not paid off\u001b[0m\n",
       "\u001b[1;33mBond S is not paid off\u001b[0m\n"
      ]
     },
     "metadata": {},
     "output_type": "display_data"
    },
    {
     "name": "stdout",
     "output_type": "stream",
     "text": [
      "Pool CPR: 0.25, Tranche Rate: 0.07499999999999998, IRR: 0.08003399865914239\n"
     ]
    },
    {
     "data": {
      "text/html": [
       "<pre style=\"white-space:pre;overflow-x:auto;line-height:normal;font-family:Menlo,'DejaVu Sans Mono',consolas,'Courier New',monospace\">Warning Message from server:\n",
       "<span style=\"color: #808000; text-decoration-color: #808000; font-weight: bold\">Bond E is not paid off</span>\n",
       "<span style=\"color: #808000; text-decoration-color: #808000; font-weight: bold\">Bond M is not paid off</span>\n",
       "<span style=\"color: #808000; text-decoration-color: #808000; font-weight: bold\">Bond S is not paid off</span>\n",
       "</pre>\n"
      ],
      "text/plain": [
       "Warning Message from server:\n",
       "\u001b[1;33mBond E is not paid off\u001b[0m\n",
       "\u001b[1;33mBond M is not paid off\u001b[0m\n",
       "\u001b[1;33mBond S is not paid off\u001b[0m\n"
      ]
     },
     "metadata": {},
     "output_type": "display_data"
    },
    {
     "name": "stdout",
     "output_type": "stream",
     "text": [
      "Pool CPR: 0.30000000000000004, Tranche Rate: 0.04, IRR: 0.08003399865914239\n"
     ]
    },
    {
     "data": {
      "text/html": [
       "<pre style=\"white-space:pre;overflow-x:auto;line-height:normal;font-family:Menlo,'DejaVu Sans Mono',consolas,'Courier New',monospace\">Warning Message from server:\n",
       "<span style=\"color: #808000; text-decoration-color: #808000; font-weight: bold\">Bond E is not paid off</span>\n",
       "<span style=\"color: #808000; text-decoration-color: #808000; font-weight: bold\">Bond M is not paid off</span>\n",
       "<span style=\"color: #808000; text-decoration-color: #808000; font-weight: bold\">Bond S is not paid off</span>\n",
       "</pre>\n"
      ],
      "text/plain": [
       "Warning Message from server:\n",
       "\u001b[1;33mBond E is not paid off\u001b[0m\n",
       "\u001b[1;33mBond M is not paid off\u001b[0m\n",
       "\u001b[1;33mBond S is not paid off\u001b[0m\n"
      ]
     },
     "metadata": {},
     "output_type": "display_data"
    },
    {
     "name": "stdout",
     "output_type": "stream",
     "text": [
      "Pool CPR: 0.30000000000000004, Tranche Rate: 0.045, IRR: 0.08003399865914239\n"
     ]
    },
    {
     "data": {
      "text/html": [
       "<pre style=\"white-space:pre;overflow-x:auto;line-height:normal;font-family:Menlo,'DejaVu Sans Mono',consolas,'Courier New',monospace\">Warning Message from server:\n",
       "<span style=\"color: #808000; text-decoration-color: #808000; font-weight: bold\">Bond E is not paid off</span>\n",
       "<span style=\"color: #808000; text-decoration-color: #808000; font-weight: bold\">Bond M is not paid off</span>\n",
       "<span style=\"color: #808000; text-decoration-color: #808000; font-weight: bold\">Bond S is not paid off</span>\n",
       "</pre>\n"
      ],
      "text/plain": [
       "Warning Message from server:\n",
       "\u001b[1;33mBond E is not paid off\u001b[0m\n",
       "\u001b[1;33mBond M is not paid off\u001b[0m\n",
       "\u001b[1;33mBond S is not paid off\u001b[0m\n"
      ]
     },
     "metadata": {},
     "output_type": "display_data"
    },
    {
     "name": "stdout",
     "output_type": "stream",
     "text": [
      "Pool CPR: 0.30000000000000004, Tranche Rate: 0.049999999999999996, IRR: 0.08003399865914239\n"
     ]
    },
    {
     "data": {
      "text/html": [
       "<pre style=\"white-space:pre;overflow-x:auto;line-height:normal;font-family:Menlo,'DejaVu Sans Mono',consolas,'Courier New',monospace\">Warning Message from server:\n",
       "<span style=\"color: #808000; text-decoration-color: #808000; font-weight: bold\">Bond E is not paid off</span>\n",
       "<span style=\"color: #808000; text-decoration-color: #808000; font-weight: bold\">Bond M is not paid off</span>\n",
       "<span style=\"color: #808000; text-decoration-color: #808000; font-weight: bold\">Bond S is not paid off</span>\n",
       "</pre>\n"
      ],
      "text/plain": [
       "Warning Message from server:\n",
       "\u001b[1;33mBond E is not paid off\u001b[0m\n",
       "\u001b[1;33mBond M is not paid off\u001b[0m\n",
       "\u001b[1;33mBond S is not paid off\u001b[0m\n"
      ]
     },
     "metadata": {},
     "output_type": "display_data"
    },
    {
     "name": "stdout",
     "output_type": "stream",
     "text": [
      "Pool CPR: 0.30000000000000004, Tranche Rate: 0.05499999999999999, IRR: 0.08003399865914239\n"
     ]
    },
    {
     "data": {
      "text/html": [
       "<pre style=\"white-space:pre;overflow-x:auto;line-height:normal;font-family:Menlo,'DejaVu Sans Mono',consolas,'Courier New',monospace\">Warning Message from server:\n",
       "<span style=\"color: #808000; text-decoration-color: #808000; font-weight: bold\">Bond E is not paid off</span>\n",
       "<span style=\"color: #808000; text-decoration-color: #808000; font-weight: bold\">Bond M is not paid off</span>\n",
       "<span style=\"color: #808000; text-decoration-color: #808000; font-weight: bold\">Bond S is not paid off</span>\n",
       "</pre>\n"
      ],
      "text/plain": [
       "Warning Message from server:\n",
       "\u001b[1;33mBond E is not paid off\u001b[0m\n",
       "\u001b[1;33mBond M is not paid off\u001b[0m\n",
       "\u001b[1;33mBond S is not paid off\u001b[0m\n"
      ]
     },
     "metadata": {},
     "output_type": "display_data"
    },
    {
     "name": "stdout",
     "output_type": "stream",
     "text": [
      "Pool CPR: 0.30000000000000004, Tranche Rate: 0.05999999999999999, IRR: 0.08003399865914239\n"
     ]
    },
    {
     "data": {
      "text/html": [
       "<pre style=\"white-space:pre;overflow-x:auto;line-height:normal;font-family:Menlo,'DejaVu Sans Mono',consolas,'Courier New',monospace\">Warning Message from server:\n",
       "<span style=\"color: #808000; text-decoration-color: #808000; font-weight: bold\">Bond E is not paid off</span>\n",
       "<span style=\"color: #808000; text-decoration-color: #808000; font-weight: bold\">Bond M is not paid off</span>\n",
       "<span style=\"color: #808000; text-decoration-color: #808000; font-weight: bold\">Bond S is not paid off</span>\n",
       "</pre>\n"
      ],
      "text/plain": [
       "Warning Message from server:\n",
       "\u001b[1;33mBond E is not paid off\u001b[0m\n",
       "\u001b[1;33mBond M is not paid off\u001b[0m\n",
       "\u001b[1;33mBond S is not paid off\u001b[0m\n"
      ]
     },
     "metadata": {},
     "output_type": "display_data"
    },
    {
     "name": "stdout",
     "output_type": "stream",
     "text": [
      "Pool CPR: 0.30000000000000004, Tranche Rate: 0.06499999999999999, IRR: 0.08003399865914239\n"
     ]
    },
    {
     "data": {
      "text/html": [
       "<pre style=\"white-space:pre;overflow-x:auto;line-height:normal;font-family:Menlo,'DejaVu Sans Mono',consolas,'Courier New',monospace\">Warning Message from server:\n",
       "<span style=\"color: #808000; text-decoration-color: #808000; font-weight: bold\">Bond E is not paid off</span>\n",
       "<span style=\"color: #808000; text-decoration-color: #808000; font-weight: bold\">Bond M is not paid off</span>\n",
       "<span style=\"color: #808000; text-decoration-color: #808000; font-weight: bold\">Bond S is not paid off</span>\n",
       "</pre>\n"
      ],
      "text/plain": [
       "Warning Message from server:\n",
       "\u001b[1;33mBond E is not paid off\u001b[0m\n",
       "\u001b[1;33mBond M is not paid off\u001b[0m\n",
       "\u001b[1;33mBond S is not paid off\u001b[0m\n"
      ]
     },
     "metadata": {},
     "output_type": "display_data"
    },
    {
     "name": "stdout",
     "output_type": "stream",
     "text": [
      "Pool CPR: 0.30000000000000004, Tranche Rate: 0.06999999999999998, IRR: 0.08003399865914239\n"
     ]
    },
    {
     "data": {
      "text/html": [
       "<pre style=\"white-space:pre;overflow-x:auto;line-height:normal;font-family:Menlo,'DejaVu Sans Mono',consolas,'Courier New',monospace\">Warning Message from server:\n",
       "<span style=\"color: #808000; text-decoration-color: #808000; font-weight: bold\">Bond E is not paid off</span>\n",
       "<span style=\"color: #808000; text-decoration-color: #808000; font-weight: bold\">Bond M is not paid off</span>\n",
       "<span style=\"color: #808000; text-decoration-color: #808000; font-weight: bold\">Bond S is not paid off</span>\n",
       "</pre>\n"
      ],
      "text/plain": [
       "Warning Message from server:\n",
       "\u001b[1;33mBond E is not paid off\u001b[0m\n",
       "\u001b[1;33mBond M is not paid off\u001b[0m\n",
       "\u001b[1;33mBond S is not paid off\u001b[0m\n"
      ]
     },
     "metadata": {},
     "output_type": "display_data"
    },
    {
     "name": "stdout",
     "output_type": "stream",
     "text": [
      "Pool CPR: 0.30000000000000004, Tranche Rate: 0.07499999999999998, IRR: 0.08003399865914239\n"
     ]
    }
   ],
   "source": [
    "# Sensitivity Analysis\n",
    "default_rates = np.arange(0.00, 0.03, 0.0005).tolist()\n",
    "cprs = np.arange(0.00, 0.35, 0.05).tolist()\n",
    "spreads = np.arange(0.04, 0.08, 0.005).tolist()\n",
    "# default_rate = [0.03]*36 + [0.01]*36    #   [0.0062]*12 + [0.0052]*12 + [0.0072]*12 + [0.0022]*12 + [0.0012]*12 + [0.0092]*12       #this is annualized to month # sensitize this with the worst historical default rates upfront \n",
    "\n",
    "results = []\n",
    "# for default_rate in default_rates:\n",
    "for pool_cpr in cprs:\n",
    "   for tranche_rate_mezz in spreads:\n",
    "        perf = (\"Pool\",(\"Mortgage\",{\"CDR\":default_rate},{\"CPR\":pool_cpr},{\"Rate\":recovery_rate,\"Lag\":recovery_lag},None),None,None) \n",
    "\n",
    "        Resonance = Generic(\"TEST01\"\n",
    "         ,{\"cutoff\":start_date,\"closing\":start_date,\"firstPay\":first_pay_date,\"payFreq\":\"MonthEnd\",\"poolFreq\":\"MonthEnd\",\"stated\":deal_maturity_date} \n",
    "         ,{'assets':[mortgage1],'issuanceStat':{\"IssuanceBalance\":original_pool_balance}}\n",
    "         ,((\"acc01\",{\"balance\":0}),(\"acc02\",{\"balance\":0}))  \n",
    "         ,((\"S\",{\"balance\":original_pool_balance * tranche_size_senior, \"rate\":tranche_rate_senior,\"originBalance\":original_pool_balance * tranche_size_senior\n",
    "            ,\"originRate\":tranche_rate_senior,\"startDate\":start_date,\"rateType\":{\"Fixed\":tranche_rate_senior},\"bondType\":{\"Sequential\":None}})\n",
    "         ,(\"M\",{\"balance\":original_pool_balance * tranche_size_mezz,\"rate\":tranche_rate_mezz,\"originBalance\":original_pool_balance * tranche_size_mezz\n",
    "            ,\"originRate\":tranche_rate_mezz,\"startDate\":start_date,\"rateType\":{\"Fixed\":tranche_rate_mezz},\"bondType\":{\"Sequential\":None}})                                     # change rateType to Floating \n",
    "         ,(\"E\",{\"balance\":original_pool_balance * tranche_size_equity,\"rate\":tranche_rate_equity,\"originBalance\":original_pool_balance * tranche_size_equity\n",
    "            ,\"originRate\":tranche_rate_equity,\"startDate\":start_date,\"rateType\":{\"Fixed\":tranche_rate_equity}, \"bondType\":{\"Sequential\":None}}))\n",
    "         ,list()\n",
    "         ,{\"revolving\":[[\"accrueAndPayIntBySeq\",\"acc02\",[\"S\",\"M\",\"E\"]],['transfer',\"acc02\",\"acc01\"] # ,['WriteOff',[\"E\",\"M\",\"S\"]]                                             # this is the write off of the defaulted assets\n",
    "            # ,[\"buyAsset\",[\"Current|Defaulted\",1.0,0],\"acc01\",{\"formula\":(\"-\",(\"originalPoolBalance\",),(\"poolBalance\",))}]]    # (\"cumPoolCollection\", None, \"CollectedPrincipal\",\"CollectedPrepayment\")     # None can be replaced with small pools \n",
    "            ,[\"buyAsset\",[\"Current|Defaulted\",1.0,0],\"acc01\",{\"formula\":(\"curPoolCollection\",None,\"CollectedPrincipal\",\"CollectedPrepayment\")}]]    # (\"cumPoolCollection\", None, \"CollectedPrincipal\",\"CollectedPrepayment\")     # None can be replaced with small pools \n",
    "            ,\"amortizing\":[[\"accrueAndPayIntBySeq\",\"acc02\",[\"S\",\"M\",\"E\"]], ['transfer',\"acc02\",\"acc01\"]\n",
    "            # ,['payPrinBySeq',\"acc01\",[\"S\",\"M\",\"E\"]], ['WriteOff',[\"E\",\"M\",\"S\"]]\n",
    "            ,['payPrin',\"acc01\",[\"S\",\"M\",\"E\"]], ['payIntResidual',\"acc01\",\"E\"]]}\n",
    "         ,[[\"CollectedPrincipal\",\"acc01\"],[\"CollectedRecoveries\",\"acc01\"],[\"CollectedPrepayment\",\"acc01\"],[\"CollectedInterest\",\"acc02\"]]\n",
    "         ,None,None,None\n",
    "         ,{\"BeforeDistribution\":{\"dealStatusChange\":{\"condition\":[\"any\",[\">=\",repay_date],[(switch_trigger,),\">\",switch_level]]                                                 \n",
    "            ,\"effects\":(\"newStatus\",\"Amortizing\"),\"status\":False,\"curable\":False}}}\n",
    "         ,(\"PreClosing\",\"Revolving\"))\n",
    "\n",
    "        r = localAPI.run(Resonance,runAssump = runDealAssump,poolAssump = (\"Pool\",(\"Mortgage\",{\"CDR\":default_rate},None,{\"Rate\":recovery_rate,\"Lag\":recovery_lag},None),None,None),read=True)\n",
    "        projectCf = srt( [ original_pool_balance * x for x in stackPortion ], r, \"M\", ganranteeFeeRates, reinvestRate=reinvestment_rate)\n",
    "        result = xirr(projectCf.index.to_list(),projectCf['netCashflow'].to_list())\n",
    "        results.append(result)\n",
    "      #   print(f\"Default Rate: {default_rate}, IRR: {result}\")\n",
    "        print(f\"Pool CPR: {pool_cpr}, Tranche Rate: {tranche_rate_mezz}, IRR: {result}\")\n"
   ]
  },
  {
   "cell_type": "code",
   "execution_count": 165,
   "id": "f0232cb3",
   "metadata": {},
   "outputs": [
    {
     "data": {
      "text/plain": [
       "[0.08003399865914239,\n",
       " 0.08003399865914239,\n",
       " 0.08003399865914239,\n",
       " 0.08003399865914239,\n",
       " 0.08003399865914239,\n",
       " 0.08003399865914239,\n",
       " 0.08003399865914239,\n",
       " 0.08003399865914239,\n",
       " 0.08003399865914239,\n",
       " 0.08003399865914239,\n",
       " 0.08003399865914239,\n",
       " 0.08003399865914239,\n",
       " 0.08003399865914239,\n",
       " 0.08003399865914239,\n",
       " 0.08003399865914239,\n",
       " 0.08003399865914239,\n",
       " 0.08003399865914239,\n",
       " 0.08003399865914239,\n",
       " 0.08003399865914239,\n",
       " 0.08003399865914239,\n",
       " 0.08003399865914239,\n",
       " 0.08003399865914239,\n",
       " 0.08003399865914239,\n",
       " 0.08003399865914239,\n",
       " 0.08003399865914239,\n",
       " 0.08003399865914239,\n",
       " 0.08003399865914239,\n",
       " 0.08003399865914239,\n",
       " 0.08003399865914239,\n",
       " 0.08003399865914239,\n",
       " 0.08003399865914239,\n",
       " 0.08003399865914239,\n",
       " 0.08003399865914239,\n",
       " 0.08003399865914239,\n",
       " 0.08003399865914239,\n",
       " 0.08003399865914239,\n",
       " 0.08003399865914239,\n",
       " 0.08003399865914239,\n",
       " 0.08003399865914239,\n",
       " 0.08003399865914239,\n",
       " 0.08003399865914239,\n",
       " 0.08003399865914239,\n",
       " 0.08003399865914239,\n",
       " 0.08003399865914239,\n",
       " 0.08003399865914239,\n",
       " 0.08003399865914239,\n",
       " 0.08003399865914239,\n",
       " 0.08003399865914239,\n",
       " 0.08003399865914239,\n",
       " 0.08003399865914239,\n",
       " 0.08003399865914239,\n",
       " 0.08003399865914239,\n",
       " 0.08003399865914239,\n",
       " 0.08003399865914239,\n",
       " 0.08003399865914239,\n",
       " 0.08003399865914239]"
      ]
     },
     "execution_count": 165,
     "metadata": {},
     "output_type": "execute_result"
    }
   ],
   "source": [
    "results"
   ]
  },
  {
   "cell_type": "code",
   "execution_count": 166,
   "id": "6c2fbaa8",
   "metadata": {},
   "outputs": [
    {
     "data": {
      "text/html": [
       "<div>\n",
       "<style scoped>\n",
       "    .dataframe tbody tr th:only-of-type {\n",
       "        vertical-align: middle;\n",
       "    }\n",
       "\n",
       "    .dataframe tbody tr th {\n",
       "        vertical-align: top;\n",
       "    }\n",
       "\n",
       "    .dataframe thead th {\n",
       "        text-align: right;\n",
       "    }\n",
       "</style>\n",
       "<table border=\"1\" class=\"dataframe\">\n",
       "  <thead>\n",
       "    <tr style=\"text-align: right;\">\n",
       "      <th></th>\n",
       "      <th>IRR_E</th>\n",
       "      <th>IRR_M</th>\n",
       "      <th>IRR_S</th>\n",
       "      <th>CDR</th>\n",
       "    </tr>\n",
       "  </thead>\n",
       "  <tbody>\n",
       "    <tr>\n",
       "      <th>0</th>\n",
       "      <td>-6.61%</td>\n",
       "      <td>7.72%</td>\n",
       "      <td>-0.0%</td>\n",
       "      <td>0.1%</td>\n",
       "    </tr>\n",
       "  </tbody>\n",
       "</table>\n",
       "</div>"
      ],
      "text/plain": [
       "    IRR_E  IRR_M  IRR_S   CDR\n",
       "0  -6.61%  7.72%  -0.0%  0.1%"
      ]
     },
     "execution_count": 166,
     "metadata": {},
     "output_type": "execute_result"
    }
   ],
   "source": [
    "def srt(r):\n",
    "    stackPortion = (tranche_size_senior,tranche_size_mezz,tranche_size_equity)\n",
    "    bal_s = original_pool_balance * tranche_size_senior\n",
    "    bal_m = original_pool_balance * tranche_size_mezz\n",
    "    bal_e = original_pool_balance * tranche_size_equity\n",
    "    pool_dates = r['pool']['flow'].index.to_list()\n",
    "    start_date = pool_dates[0]\n",
    "    end_date = pool_dates[-1]\n",
    "    start = r['pool']['flow'][['Balance','Loss','CumLoss','Principal','Prepayment']]\n",
    "\n",
    "    start.loc[start_date, 'Balance'] = original_pool_balance\n",
    "    start.loc[:,'Principal'] = np.where(start.index < repay_date, 0, start['Principal'])\n",
    "    start.loc[:,'Prepayment'] = np.where(start.index < repay_date, 0, start['Prepayment'])\n",
    "    start.loc[:,'Balance'] = np.where(start.index < repay_date, original_pool_balance - start['CumLoss'], original_pool_balance - start['CumLoss'] - start['Principal'].cumsum() - start['Prepayment'].cumsum())\n",
    "\n",
    "    start.loc[:,'equity_loss'] = np.minimum(np.maximum(start['CumLoss'], 0).clip(lower=0), bal_e).clip(lower=0).to_list() \n",
    "    start.loc[:,'mezz_loss'] = np.minimum(np.maximum(start['CumLoss'] - bal_e, 0).clip(lower=0), bal_m).clip(lower=0).to_list() \n",
    "    start.loc[:,'senior_loss'] = np.minimum(np.maximum(start['CumLoss'] - bal_e - bal_m, 0).clip(lower=0), bal_s).clip(lower=0).to_list() \n",
    "    start.loc[:,'equity_loss_reimbursed'] = start.loc[:,'equity_loss'] - start.loc[:,'equity_loss'].shift(1)\n",
    "    start.loc[:,'mezz_loss_reimbursed'] = start.loc[:,'mezz_loss'] - start.loc[:,'mezz_loss'].shift(1)\n",
    "    start.loc[:,'senior_loss_reimbursed'] = start.loc[:,'senior_loss'] - start.loc[:,'senior_loss'].shift(1)\n",
    "\n",
    "    start.loc[:,'principal_repayment'] = start['Balance'].shift(1) - start['Balance'] - start['Loss']\n",
    "    start.loc[:,'equity_principal'] = start['principal_repayment'] * tranche_size_equity \n",
    "    start.loc[:,'mezz_principal'] = start['principal_repayment'] * tranche_size_mezz \n",
    "    start.loc[:,'senior_principal'] = start['principal_repayment'] * tranche_size_senior \n",
    "\n",
    "    start.loc[:,'equity_bal'] = bal_e\n",
    "    start.loc[:,'mezz_bal'] = bal_m\n",
    "    start.loc[:,'senior_bal'] = bal_s\n",
    "    start.loc[:,'equity_bal'] = np.maximum(0, start['equity_bal'].shift(0) - (start['equity_principal'] + start['equity_loss_reimbursed']).cumsum())\n",
    "    start.loc[:,'mezz_bal'] = np.maximum(0, start['mezz_bal'].shift(0) - (start['mezz_principal'] + start['mezz_loss_reimbursed']).cumsum())\n",
    "    start.loc[:,'senior_bal'] = np.maximum(0, start['senior_bal'].shift(0) - (start['senior_principal'] + start['senior_loss_reimbursed']).cumsum())\n",
    "\n",
    "    start.loc[:,'equity_coupon'] = start['equity_bal'] * tranche_rate_equity / 12 \n",
    "    start.loc[:,'mezz_coupon'] = start['mezz_bal'] * tranche_rate_mezz / 12 \n",
    "    start.loc[:,'senior_coupon'] = start['senior_bal'] * tranche_rate_senior / 12 \n",
    "\n",
    "    start.loc[:,'equity_cash_account_bal'] = bal_e\n",
    "    start.loc[:,'mezz_cash_account_bal'] = bal_m\n",
    "    start.loc[:,'senior_cash_account_bal'] = bal_s\n",
    "    start.loc[:,'equity_cash_account_change'] = 0 \n",
    "    start.loc[:,'mezz_cash_account_change'] = 0   \n",
    "    start.loc[:,'senior_cash_account_change'] = 0 \n",
    "    start['equity_cash_account_change'] = np.where(start['equity_bal'] <= 0, 0, start['equity_cash_account_change'] + (-1 * start['equity_loss_reimbursed']) + (-1 * start['equity_principal']))\n",
    "    start['mezz_cash_account_change'] = np.where(start['mezz_bal'] <= 0, 0, start['mezz_cash_account_change'] + (-1 * start['mezz_loss_reimbursed']) + (-1 * start['mezz_principal']))\n",
    "    start['senior_cash_account_change'] = np.where(start['senior_bal'] <= 0, 0, start['senior_cash_account_change'] + (-1 * start['senior_loss_reimbursed']) + (-1 * start['senior_principal']))\n",
    "    start.loc[start_date, 'equity_cash_account_change'] = -bal_e\n",
    "    start.loc[start_date, 'mezz_cash_account_change'] = -bal_m\n",
    "    start.loc[start_date, 'senior_cash_account_change'] = -bal_s\n",
    "    start.loc[:,'equity_cash_account_bal'] = list(accumulate([bal_e] + (start['equity_cash_account_change']).to_list()[1:]))\n",
    "    start.loc[:,'mezz_cash_account_bal'] = list(accumulate([bal_m] + start['mezz_cash_account_change'].to_list()[1:]))            # + start['mezz_principal'].to_list()[1:]\n",
    "    start.loc[:,'senior_cash_account_bal'] = list(accumulate([bal_s] + start['senior_cash_account_change'].to_list()[1:]))        # + start['senior_principal'].to_list()[1:]\n",
    "    start.loc[end_date, 'equity_cash_account_change'] = 1*start.loc[end_date, 'equity_cash_account_bal']                                   ## withdraw all cash from account at last day\n",
    "    start.loc[end_date, 'mezz_cash_account_change'] = 1*start.loc[end_date, 'mezz_cash_account_bal']                                       ## withdraw all cash from account at last day\n",
    "    start.loc[end_date, 'senior_cash_account_change'] = 1*start.loc[end_date, 'senior_cash_account_bal']                                   ## withdraw all cash from account at last day\n",
    "    start.loc[:,'equity_cash_account_int'] = start['equity_cash_account_bal'].shift(1,fill_value=0) * reinvestment_rate/12\n",
    "    start.loc[:,'mezz_cash_account_int'] = start['mezz_cash_account_bal'].shift(1,fill_value=0) * reinvestment_rate/12\n",
    "    start.loc[:,'senior_cash_account_int'] = start['senior_cash_account_bal'].shift(1,fill_value=0) * reinvestment_rate/12\n",
    "    start.loc[:,'NCF_e'] = 0\n",
    "    start.loc[:,'NCF_m'] = 0\n",
    "    start.loc[:,'NCF_s'] = 0\n",
    "    start.loc[start_date,'NCF_e'] = -1 * bal_e\n",
    "    start.loc[start_date,'NCF_m'] = -1 * bal_m\n",
    "    start.loc[start_date,'NCF_s'] = -1 * bal_s\n",
    "    start.loc[:,'NCF_e'] += start['equity_coupon'].fillna(0) + start['equity_principal'].fillna(0)                       ## add premiums to net cashflow for the tranche\n",
    "    start.loc[:,'NCF_m'] += start['mezz_coupon'].fillna(0) + start['mezz_principal'].fillna(0)                           ## add premiums to net cashflow for the tranche\n",
    "    start.loc[:,'NCF_s'] += start['senior_coupon'].fillna(0) + start['senior_principal'].fillna(0)                       ## add premiums to net cashflow for the tranche\n",
    "    start.loc[:,'NCF_e'] += start['equity_cash_account_int']                        ## add reinvestment intto net cashflow for the tranche\n",
    "    start.loc[:,'NCF_m'] += start['mezz_cash_account_int']                        ## add reinvestment intto net cashflow for the tranche\n",
    "    start.loc[:,'NCF_s'] += start['senior_cash_account_int']                        ## add reinvestment intto net cashflow for the tranche\n",
    "    start.loc[end_date,'NCF_e'] += start.loc[end_date,'equity_cash_account_bal']    ## draw remain cash from account at last period\n",
    "    start.loc[end_date,'NCF_m'] += start.loc[end_date,'mezz_cash_account_bal']    ## draw remain cash from account at last period\n",
    "    start.loc[end_date,'NCF_s'] += start.loc[end_date,'senior_cash_account_bal']    ## draw remain cash from account at last period\n",
    "    return start\n",
    "\n",
    "def run_analysis(r):\n",
    "    start = srt(r)\n",
    "    irr_e = xirr(start.index.to_list(),start['NCF_e'].to_list())\n",
    "    irr_m = xirr(start.index.to_list(),start['NCF_m'].to_list())\n",
    "    irr_s = xirr(start.index.to_list(),start['NCF_s'].to_list())\n",
    "    tranches = ['E', 'M', 'S']\n",
    "    irr_values = [irr_e, irr_m, irr_s]\n",
    "    data = [{'Tranche': tranche, 'IRR': irr_values[i]} for i, tranche in enumerate(tranches)]\n",
    "    results = pd.DataFrame(data)\n",
    "    results['IRR'] = results['IRR'].apply(lambda x: f\"{round(x * 100, 2)}%\")\n",
    "    results_unpivoted = results.pivot_table(index=None, columns='Tranche', values='IRR', aggfunc='first')\n",
    "    results_unpivoted.columns = [f\"IRR_{col}\" for col in results_unpivoted.columns]\n",
    "    results_unpivoted = results_unpivoted.reset_index(drop=True)\n",
    "    results_unpivoted['CDR'] = f\"{default_rate * 100:.1f}%\"\n",
    "    return results_unpivoted\n",
    "\n",
    "start = srt(r)\n",
    "results = run_analysis(r)\n",
    "results"
   ]
  },
  {
   "cell_type": "code",
   "execution_count": 167,
   "id": "40082037",
   "metadata": {},
   "outputs": [
    {
     "data": {
      "text/html": [
       "<div>\n",
       "<style scoped>\n",
       "    .dataframe tbody tr th:only-of-type {\n",
       "        vertical-align: middle;\n",
       "    }\n",
       "\n",
       "    .dataframe tbody tr th {\n",
       "        vertical-align: top;\n",
       "    }\n",
       "\n",
       "    .dataframe thead th {\n",
       "        text-align: right;\n",
       "    }\n",
       "</style>\n",
       "<table border=\"1\" class=\"dataframe\">\n",
       "  <thead>\n",
       "    <tr style=\"text-align: right;\">\n",
       "      <th></th>\n",
       "      <th>Balance</th>\n",
       "      <th>Loss</th>\n",
       "      <th>CumLoss</th>\n",
       "      <th>Principal</th>\n",
       "      <th>Prepayment</th>\n",
       "      <th>equity_loss</th>\n",
       "      <th>mezz_loss</th>\n",
       "      <th>senior_loss</th>\n",
       "      <th>equity_loss_reimbursed</th>\n",
       "      <th>mezz_loss_reimbursed</th>\n",
       "      <th>...</th>\n",
       "      <th>senior_cash_account_bal</th>\n",
       "      <th>equity_cash_account_change</th>\n",
       "      <th>mezz_cash_account_change</th>\n",
       "      <th>senior_cash_account_change</th>\n",
       "      <th>equity_cash_account_int</th>\n",
       "      <th>mezz_cash_account_int</th>\n",
       "      <th>senior_cash_account_int</th>\n",
       "      <th>NCF_e</th>\n",
       "      <th>NCF_m</th>\n",
       "      <th>NCF_s</th>\n",
       "    </tr>\n",
       "    <tr>\n",
       "      <th>Date</th>\n",
       "      <th></th>\n",
       "      <th></th>\n",
       "      <th></th>\n",
       "      <th></th>\n",
       "      <th></th>\n",
       "      <th></th>\n",
       "      <th></th>\n",
       "      <th></th>\n",
       "      <th></th>\n",
       "      <th></th>\n",
       "      <th></th>\n",
       "      <th></th>\n",
       "      <th></th>\n",
       "      <th></th>\n",
       "      <th></th>\n",
       "      <th></th>\n",
       "      <th></th>\n",
       "      <th></th>\n",
       "      <th></th>\n",
       "      <th></th>\n",
       "      <th></th>\n",
       "    </tr>\n",
       "  </thead>\n",
       "  <tbody>\n",
       "    <tr>\n",
       "      <th>2024-11-15</th>\n",
       "      <td>1,000,000.000</td>\n",
       "      <td>0.000</td>\n",
       "      <td>0.000</td>\n",
       "      <td>0.000</td>\n",
       "      <td>0.000</td>\n",
       "      <td>0.000</td>\n",
       "      <td>0.000</td>\n",
       "      <td>0.000</td>\n",
       "      <td>NaN</td>\n",
       "      <td>NaN</td>\n",
       "      <td>...</td>\n",
       "      <td>944,000.000</td>\n",
       "      <td>-5,000.000</td>\n",
       "      <td>-51,000.000</td>\n",
       "      <td>-944,000.000</td>\n",
       "      <td>0.000</td>\n",
       "      <td>0.000</td>\n",
       "      <td>0.000</td>\n",
       "      <td>-5,000.000</td>\n",
       "      <td>-51,000.000</td>\n",
       "      <td>-944,000.000</td>\n",
       "    </tr>\n",
       "    <tr>\n",
       "      <th>2024-11-30</th>\n",
       "      <td>1,000,000.000</td>\n",
       "      <td>0.000</td>\n",
       "      <td>0.000</td>\n",
       "      <td>0.000</td>\n",
       "      <td>0.000</td>\n",
       "      <td>0.000</td>\n",
       "      <td>0.000</td>\n",
       "      <td>0.000</td>\n",
       "      <td>0.000</td>\n",
       "      <td>0.000</td>\n",
       "      <td>...</td>\n",
       "      <td>944,000.000</td>\n",
       "      <td>0.000</td>\n",
       "      <td>0.000</td>\n",
       "      <td>0.000</td>\n",
       "      <td>0.000</td>\n",
       "      <td>0.000</td>\n",
       "      <td>0.000</td>\n",
       "      <td>0.000</td>\n",
       "      <td>318.750</td>\n",
       "      <td>0.000</td>\n",
       "    </tr>\n",
       "    <tr>\n",
       "      <th>2024-12-31</th>\n",
       "      <td>999,893.090</td>\n",
       "      <td>106.910</td>\n",
       "      <td>106.910</td>\n",
       "      <td>0.000</td>\n",
       "      <td>0.000</td>\n",
       "      <td>106.910</td>\n",
       "      <td>0.000</td>\n",
       "      <td>0.000</td>\n",
       "      <td>106.910</td>\n",
       "      <td>0.000</td>\n",
       "      <td>...</td>\n",
       "      <td>944,000.000</td>\n",
       "      <td>-106.910</td>\n",
       "      <td>-0.000</td>\n",
       "      <td>-0.000</td>\n",
       "      <td>0.000</td>\n",
       "      <td>0.000</td>\n",
       "      <td>0.000</td>\n",
       "      <td>0.000</td>\n",
       "      <td>318.750</td>\n",
       "      <td>0.000</td>\n",
       "    </tr>\n",
       "    <tr>\n",
       "      <th>2025-01-31</th>\n",
       "      <td>999,784.160</td>\n",
       "      <td>108.930</td>\n",
       "      <td>215.840</td>\n",
       "      <td>0.000</td>\n",
       "      <td>0.000</td>\n",
       "      <td>215.840</td>\n",
       "      <td>0.000</td>\n",
       "      <td>0.000</td>\n",
       "      <td>108.930</td>\n",
       "      <td>0.000</td>\n",
       "      <td>...</td>\n",
       "      <td>944,000.000</td>\n",
       "      <td>-108.930</td>\n",
       "      <td>0.000</td>\n",
       "      <td>0.000</td>\n",
       "      <td>0.000</td>\n",
       "      <td>0.000</td>\n",
       "      <td>0.000</td>\n",
       "      <td>-0.000</td>\n",
       "      <td>318.750</td>\n",
       "      <td>-0.000</td>\n",
       "    </tr>\n",
       "    <tr>\n",
       "      <th>2025-02-28</th>\n",
       "      <td>985,792.450</td>\n",
       "      <td>107.380</td>\n",
       "      <td>323.220</td>\n",
       "      <td>13,884.330</td>\n",
       "      <td>0.000</td>\n",
       "      <td>323.220</td>\n",
       "      <td>0.000</td>\n",
       "      <td>0.000</td>\n",
       "      <td>107.380</td>\n",
       "      <td>0.000</td>\n",
       "      <td>...</td>\n",
       "      <td>930,893.192</td>\n",
       "      <td>-176.802</td>\n",
       "      <td>-708.101</td>\n",
       "      <td>-13,106.808</td>\n",
       "      <td>0.000</td>\n",
       "      <td>0.000</td>\n",
       "      <td>0.000</td>\n",
       "      <td>69.422</td>\n",
       "      <td>1,022.425</td>\n",
       "      <td>13,106.808</td>\n",
       "    </tr>\n",
       "  </tbody>\n",
       "</table>\n",
       "<p>5 rows × 33 columns</p>\n",
       "</div>"
      ],
      "text/plain": [
       "                 Balance    Loss  CumLoss  Principal  Prepayment  equity_loss  \\\n",
       "Date                                                                            \n",
       "2024-11-15 1,000,000.000   0.000    0.000      0.000       0.000        0.000   \n",
       "2024-11-30 1,000,000.000   0.000    0.000      0.000       0.000        0.000   \n",
       "2024-12-31   999,893.090 106.910  106.910      0.000       0.000      106.910   \n",
       "2025-01-31   999,784.160 108.930  215.840      0.000       0.000      215.840   \n",
       "2025-02-28   985,792.450 107.380  323.220 13,884.330       0.000      323.220   \n",
       "\n",
       "            mezz_loss  senior_loss  equity_loss_reimbursed  \\\n",
       "Date                                                         \n",
       "2024-11-15      0.000        0.000                     NaN   \n",
       "2024-11-30      0.000        0.000                   0.000   \n",
       "2024-12-31      0.000        0.000                 106.910   \n",
       "2025-01-31      0.000        0.000                 108.930   \n",
       "2025-02-28      0.000        0.000                 107.380   \n",
       "\n",
       "            mezz_loss_reimbursed  ...  senior_cash_account_bal  \\\n",
       "Date                              ...                            \n",
       "2024-11-15                   NaN  ...              944,000.000   \n",
       "2024-11-30                 0.000  ...              944,000.000   \n",
       "2024-12-31                 0.000  ...              944,000.000   \n",
       "2025-01-31                 0.000  ...              944,000.000   \n",
       "2025-02-28                 0.000  ...              930,893.192   \n",
       "\n",
       "            equity_cash_account_change  mezz_cash_account_change  \\\n",
       "Date                                                               \n",
       "2024-11-15                  -5,000.000               -51,000.000   \n",
       "2024-11-30                       0.000                     0.000   \n",
       "2024-12-31                    -106.910                    -0.000   \n",
       "2025-01-31                    -108.930                     0.000   \n",
       "2025-02-28                    -176.802                  -708.101   \n",
       "\n",
       "            senior_cash_account_change  equity_cash_account_int  \\\n",
       "Date                                                              \n",
       "2024-11-15                -944,000.000                    0.000   \n",
       "2024-11-30                       0.000                    0.000   \n",
       "2024-12-31                      -0.000                    0.000   \n",
       "2025-01-31                       0.000                    0.000   \n",
       "2025-02-28                 -13,106.808                    0.000   \n",
       "\n",
       "            mezz_cash_account_int  senior_cash_account_int      NCF_e  \\\n",
       "Date                                                                    \n",
       "2024-11-15                  0.000                    0.000 -5,000.000   \n",
       "2024-11-30                  0.000                    0.000      0.000   \n",
       "2024-12-31                  0.000                    0.000      0.000   \n",
       "2025-01-31                  0.000                    0.000     -0.000   \n",
       "2025-02-28                  0.000                    0.000     69.422   \n",
       "\n",
       "                 NCF_m        NCF_s  \n",
       "Date                                 \n",
       "2024-11-15 -51,000.000 -944,000.000  \n",
       "2024-11-30     318.750        0.000  \n",
       "2024-12-31     318.750        0.000  \n",
       "2025-01-31     318.750       -0.000  \n",
       "2025-02-28   1,022.425   13,106.808  \n",
       "\n",
       "[5 rows x 33 columns]"
      ]
     },
     "execution_count": 167,
     "metadata": {},
     "output_type": "execute_result"
    }
   ],
   "source": [
    "r['pool']['flow'].to_clipboard()\n",
    "r['pool']['flow'].head()\n",
    "\n",
    "readBondsCf(r['bonds']).to_clipboard()\n",
    "readBondsCf(r['bonds']).head(5)\n",
    "\n",
    "start.to_clipboard()\n",
    "start.head(5)"
   ]
  },
  {
   "cell_type": "code",
   "execution_count": 168,
   "id": "9b7f6206",
   "metadata": {},
   "outputs": [
    {
     "data": {
      "image/png": "[encoded data removed]",
      "text/plain": [
       "<Figure size 500x800 with 3 Axes>"
      ]
     },
     "metadata": {},
     "output_type": "display_data"
    }
   ],
   "source": [
    "fig, ax = plt.subplots(3, 1, figsize=(5, 8))\n",
    "\n",
    "# First chart: \"Balance\"\n",
    "start['Equity Tranche'] = start['equity_bal'] / original_pool_balance\n",
    "start['Mezz Tranche'] = start['mezz_bal'] / original_pool_balance\n",
    "start['senior_pct'] = start['senior_bal'] / original_pool_balance\n",
    "start[['Equity Tranche', 'Mezz Tranche']].plot(kind='area', stacked=True, ax=ax[0], title='Balance')\n",
    "ax[0].set_ylabel('% of Original Pool Balance')\n",
    "ax[0].yaxis.set_major_formatter(plt.FuncFormatter(lambda y, _: f'{y:.0%}'))  \n",
    "\n",
    "# Second chart: cumulative values of \"mezz_coupon\" and \"senior_coupon\"\n",
    "start['senior_coupon'].cumsum().plot(ax=ax[1], label='Cum Senior Coupon')\n",
    "start['mezz_coupon'].cumsum().plot(ax=ax[1], label='Cum Mezz Coupon')\n",
    "start['senior_coupon'].cumsum().plot(ax=ax[1], label='Cum Senior Coupon')\n",
    "ax[1].set_title('Coupon Income')\n",
    "ax[1].legend()\n",
    "\n",
    "# Third chart: \"CumLoss\"\n",
    "start['CumLoss'].plot(ax=ax[2], title='CumLoss')\n",
    "\n",
    "# Adjust layout to avoid overlap\n",
    "plt.tight_layout()\n",
    "\n",
    "# Show the charts\n",
    "plt.show()"
   ]
  },
  {
   "cell_type": "code",
   "execution_count": 169,
   "id": "5482fe93",
   "metadata": {},
   "outputs": [
    {
     "data": {
      "text/plain": [
       "Date\n",
       "2029-10-31   0.768\n",
       "Name: CumDefault, dtype: float64"
      ]
     },
     "execution_count": 169,
     "metadata": {},
     "output_type": "execute_result"
    }
   ],
   "source": [
    "# moic = start['NCF_m'].cumsum() + original_pool_balance * tranche_size_equity * issue_price\n",
    "# moic = moic.tail(1) / (original_pool_balance * tranche_size_equity * issue_price)\n",
    "# moic\n",
    "\n",
    "defaults = r['pool']['flow']['CumDefault'].tail(1) / (original_pool_balance * tranche_size_equity * issue_price)\n",
    "defaults\n",
    "# recoveries = r['pool']['flow']['CumRecovery'].tail(1) / (original_pool_balance * tranche_size_equity * issue_price)\n",
    "# recoveries\n",
    "# losses = r['pool']['flow']['CumLoss'].tail(1) / (original_pool_balance * tranche_size_equity * issue_price)\n",
    "# losses"
   ]
  },
  {
   "cell_type": "code",
   "execution_count": 170,
   "id": "94d39325",
   "metadata": {},
   "outputs": [
    {
     "data": {
      "text/html": [
       "<pre style=\"white-space:pre;overflow-x:auto;line-height:normal;font-family:Menlo,'DejaVu Sans Mono',consolas,'Courier New',monospace\">Warning Message from server:\n",
       "<span style=\"color: #808000; text-decoration-color: #808000; font-weight: bold\">Bond E is not paid off</span>\n",
       "<span style=\"color: #808000; text-decoration-color: #808000; font-weight: bold\">Bond M is not paid off</span>\n",
       "<span style=\"color: #808000; text-decoration-color: #808000; font-weight: bold\">Bond S is not paid off</span>\n",
       "</pre>\n"
      ],
      "text/plain": [
       "Warning Message from server:\n",
       "\u001b[1;33mBond E is not paid off\u001b[0m\n",
       "\u001b[1;33mBond M is not paid off\u001b[0m\n",
       "\u001b[1;33mBond S is not paid off\u001b[0m\n"
      ]
     },
     "metadata": {},
     "output_type": "display_data"
    },
    {
     "data": {
      "text/html": [
       "<pre style=\"white-space:pre;overflow-x:auto;line-height:normal;font-family:Menlo,'DejaVu Sans Mono',consolas,'Courier New',monospace\">Warning Message from server:\n",
       "<span style=\"color: #808000; text-decoration-color: #808000; font-weight: bold\">Bond E is not paid off</span>\n",
       "<span style=\"color: #808000; text-decoration-color: #808000; font-weight: bold\">Bond M is not paid off</span>\n",
       "<span style=\"color: #808000; text-decoration-color: #808000; font-weight: bold\">Bond S is not paid off</span>\n",
       "</pre>\n"
      ],
      "text/plain": [
       "Warning Message from server:\n",
       "\u001b[1;33mBond E is not paid off\u001b[0m\n",
       "\u001b[1;33mBond M is not paid off\u001b[0m\n",
       "\u001b[1;33mBond S is not paid off\u001b[0m\n"
      ]
     },
     "metadata": {},
     "output_type": "display_data"
    },
    {
     "data": {
      "text/html": [
       "<pre style=\"white-space:pre;overflow-x:auto;line-height:normal;font-family:Menlo,'DejaVu Sans Mono',consolas,'Courier New',monospace\">Warning Message from server:\n",
       "<span style=\"color: #808000; text-decoration-color: #808000; font-weight: bold\">Bond E is not paid off</span>\n",
       "<span style=\"color: #808000; text-decoration-color: #808000; font-weight: bold\">Bond M is not paid off</span>\n",
       "<span style=\"color: #808000; text-decoration-color: #808000; font-weight: bold\">Bond S is not paid off</span>\n",
       "</pre>\n"
      ],
      "text/plain": [
       "Warning Message from server:\n",
       "\u001b[1;33mBond E is not paid off\u001b[0m\n",
       "\u001b[1;33mBond M is not paid off\u001b[0m\n",
       "\u001b[1;33mBond S is not paid off\u001b[0m\n"
      ]
     },
     "metadata": {},
     "output_type": "display_data"
    },
    {
     "data": {
      "text/html": [
       "<pre style=\"white-space:pre;overflow-x:auto;line-height:normal;font-family:Menlo,'DejaVu Sans Mono',consolas,'Courier New',monospace\">Warning Message from server:\n",
       "<span style=\"color: #808000; text-decoration-color: #808000; font-weight: bold\">Bond E is not paid off</span>\n",
       "<span style=\"color: #808000; text-decoration-color: #808000; font-weight: bold\">Bond M is not paid off</span>\n",
       "<span style=\"color: #808000; text-decoration-color: #808000; font-weight: bold\">Bond S is not paid off</span>\n",
       "</pre>\n"
      ],
      "text/plain": [
       "Warning Message from server:\n",
       "\u001b[1;33mBond E is not paid off\u001b[0m\n",
       "\u001b[1;33mBond M is not paid off\u001b[0m\n",
       "\u001b[1;33mBond S is not paid off\u001b[0m\n"
      ]
     },
     "metadata": {},
     "output_type": "display_data"
    },
    {
     "data": {
      "text/html": [
       "<pre style=\"white-space:pre;overflow-x:auto;line-height:normal;font-family:Menlo,'DejaVu Sans Mono',consolas,'Courier New',monospace\">Warning Message from server:\n",
       "<span style=\"color: #808000; text-decoration-color: #808000; font-weight: bold\">Bond E is not paid off</span>\n",
       "<span style=\"color: #808000; text-decoration-color: #808000; font-weight: bold\">Bond M is not paid off</span>\n",
       "<span style=\"color: #808000; text-decoration-color: #808000; font-weight: bold\">Bond S is not paid off</span>\n",
       "</pre>\n"
      ],
      "text/plain": [
       "Warning Message from server:\n",
       "\u001b[1;33mBond E is not paid off\u001b[0m\n",
       "\u001b[1;33mBond M is not paid off\u001b[0m\n",
       "\u001b[1;33mBond S is not paid off\u001b[0m\n"
      ]
     },
     "metadata": {},
     "output_type": "display_data"
    },
    {
     "data": {
      "text/html": [
       "<pre style=\"white-space:pre;overflow-x:auto;line-height:normal;font-family:Menlo,'DejaVu Sans Mono',consolas,'Courier New',monospace\">Warning Message from server:\n",
       "<span style=\"color: #808000; text-decoration-color: #808000; font-weight: bold\">Bond E is not paid off</span>\n",
       "<span style=\"color: #808000; text-decoration-color: #808000; font-weight: bold\">Bond M is not paid off</span>\n",
       "<span style=\"color: #808000; text-decoration-color: #808000; font-weight: bold\">Bond S is not paid off</span>\n",
       "</pre>\n"
      ],
      "text/plain": [
       "Warning Message from server:\n",
       "\u001b[1;33mBond E is not paid off\u001b[0m\n",
       "\u001b[1;33mBond M is not paid off\u001b[0m\n",
       "\u001b[1;33mBond S is not paid off\u001b[0m\n"
      ]
     },
     "metadata": {},
     "output_type": "display_data"
    },
    {
     "data": {
      "text/html": [
       "<pre style=\"white-space:pre;overflow-x:auto;line-height:normal;font-family:Menlo,'DejaVu Sans Mono',consolas,'Courier New',monospace\">Warning Message from server:\n",
       "<span style=\"color: #808000; text-decoration-color: #808000; font-weight: bold\">Bond E is not paid off</span>\n",
       "<span style=\"color: #808000; text-decoration-color: #808000; font-weight: bold\">Bond M is not paid off</span>\n",
       "<span style=\"color: #808000; text-decoration-color: #808000; font-weight: bold\">Bond S is not paid off</span>\n",
       "</pre>\n"
      ],
      "text/plain": [
       "Warning Message from server:\n",
       "\u001b[1;33mBond E is not paid off\u001b[0m\n",
       "\u001b[1;33mBond M is not paid off\u001b[0m\n",
       "\u001b[1;33mBond S is not paid off\u001b[0m\n"
      ]
     },
     "metadata": {},
     "output_type": "display_data"
    },
    {
     "data": {
      "text/html": [
       "<pre style=\"white-space:pre;overflow-x:auto;line-height:normal;font-family:Menlo,'DejaVu Sans Mono',consolas,'Courier New',monospace\">Warning Message from server:\n",
       "<span style=\"color: #808000; text-decoration-color: #808000; font-weight: bold\">Bond E is not paid off</span>\n",
       "<span style=\"color: #808000; text-decoration-color: #808000; font-weight: bold\">Bond M is not paid off</span>\n",
       "<span style=\"color: #808000; text-decoration-color: #808000; font-weight: bold\">Bond S is not paid off</span>\n",
       "</pre>\n"
      ],
      "text/plain": [
       "Warning Message from server:\n",
       "\u001b[1;33mBond E is not paid off\u001b[0m\n",
       "\u001b[1;33mBond M is not paid off\u001b[0m\n",
       "\u001b[1;33mBond S is not paid off\u001b[0m\n"
      ]
     },
     "metadata": {},
     "output_type": "display_data"
    },
    {
     "data": {
      "text/html": [
       "<pre style=\"white-space:pre;overflow-x:auto;line-height:normal;font-family:Menlo,'DejaVu Sans Mono',consolas,'Courier New',monospace\">Warning Message from server:\n",
       "<span style=\"color: #808000; text-decoration-color: #808000; font-weight: bold\">Bond E is not paid off</span>\n",
       "<span style=\"color: #808000; text-decoration-color: #808000; font-weight: bold\">Bond M is not paid off</span>\n",
       "<span style=\"color: #808000; text-decoration-color: #808000; font-weight: bold\">Bond S is not paid off</span>\n",
       "</pre>\n"
      ],
      "text/plain": [
       "Warning Message from server:\n",
       "\u001b[1;33mBond E is not paid off\u001b[0m\n",
       "\u001b[1;33mBond M is not paid off\u001b[0m\n",
       "\u001b[1;33mBond S is not paid off\u001b[0m\n"
      ]
     },
     "metadata": {},
     "output_type": "display_data"
    },
    {
     "data": {
      "text/html": [
       "<pre style=\"white-space:pre;overflow-x:auto;line-height:normal;font-family:Menlo,'DejaVu Sans Mono',consolas,'Courier New',monospace\">Warning Message from server:\n",
       "<span style=\"color: #808000; text-decoration-color: #808000; font-weight: bold\">Bond E is not paid off</span>\n",
       "<span style=\"color: #808000; text-decoration-color: #808000; font-weight: bold\">Bond M is not paid off</span>\n",
       "<span style=\"color: #808000; text-decoration-color: #808000; font-weight: bold\">Bond S is not paid off</span>\n",
       "</pre>\n"
      ],
      "text/plain": [
       "Warning Message from server:\n",
       "\u001b[1;33mBond E is not paid off\u001b[0m\n",
       "\u001b[1;33mBond M is not paid off\u001b[0m\n",
       "\u001b[1;33mBond S is not paid off\u001b[0m\n"
      ]
     },
     "metadata": {},
     "output_type": "display_data"
    },
    {
     "data": {
      "text/html": [
       "<pre style=\"white-space:pre;overflow-x:auto;line-height:normal;font-family:Menlo,'DejaVu Sans Mono',consolas,'Courier New',monospace\">Warning Message from server:\n",
       "<span style=\"color: #808000; text-decoration-color: #808000; font-weight: bold\">Bond E is not paid off</span>\n",
       "<span style=\"color: #808000; text-decoration-color: #808000; font-weight: bold\">Bond M is not paid off</span>\n",
       "<span style=\"color: #808000; text-decoration-color: #808000; font-weight: bold\">Bond S is not paid off</span>\n",
       "</pre>\n"
      ],
      "text/plain": [
       "Warning Message from server:\n",
       "\u001b[1;33mBond E is not paid off\u001b[0m\n",
       "\u001b[1;33mBond M is not paid off\u001b[0m\n",
       "\u001b[1;33mBond S is not paid off\u001b[0m\n"
      ]
     },
     "metadata": {},
     "output_type": "display_data"
    },
    {
     "data": {
      "text/html": [
       "<pre style=\"white-space:pre;overflow-x:auto;line-height:normal;font-family:Menlo,'DejaVu Sans Mono',consolas,'Courier New',monospace\">Warning Message from server:\n",
       "<span style=\"color: #808000; text-decoration-color: #808000; font-weight: bold\">Bond E is not paid off</span>\n",
       "<span style=\"color: #808000; text-decoration-color: #808000; font-weight: bold\">Bond M is not paid off</span>\n",
       "<span style=\"color: #808000; text-decoration-color: #808000; font-weight: bold\">Bond S is not paid off</span>\n",
       "</pre>\n"
      ],
      "text/plain": [
       "Warning Message from server:\n",
       "\u001b[1;33mBond E is not paid off\u001b[0m\n",
       "\u001b[1;33mBond M is not paid off\u001b[0m\n",
       "\u001b[1;33mBond S is not paid off\u001b[0m\n"
      ]
     },
     "metadata": {},
     "output_type": "display_data"
    },
    {
     "data": {
      "text/html": [
       "<pre style=\"white-space:pre;overflow-x:auto;line-height:normal;font-family:Menlo,'DejaVu Sans Mono',consolas,'Courier New',monospace\">Warning Message from server:\n",
       "<span style=\"color: #808000; text-decoration-color: #808000; font-weight: bold\">Bond E is not paid off</span>\n",
       "<span style=\"color: #808000; text-decoration-color: #808000; font-weight: bold\">Bond M is not paid off</span>\n",
       "<span style=\"color: #808000; text-decoration-color: #808000; font-weight: bold\">Bond S is not paid off</span>\n",
       "</pre>\n"
      ],
      "text/plain": [
       "Warning Message from server:\n",
       "\u001b[1;33mBond E is not paid off\u001b[0m\n",
       "\u001b[1;33mBond M is not paid off\u001b[0m\n",
       "\u001b[1;33mBond S is not paid off\u001b[0m\n"
      ]
     },
     "metadata": {},
     "output_type": "display_data"
    },
    {
     "data": {
      "text/html": [
       "<pre style=\"white-space:pre;overflow-x:auto;line-height:normal;font-family:Menlo,'DejaVu Sans Mono',consolas,'Courier New',monospace\">Warning Message from server:\n",
       "<span style=\"color: #808000; text-decoration-color: #808000; font-weight: bold\">Bond E is not paid off</span>\n",
       "<span style=\"color: #808000; text-decoration-color: #808000; font-weight: bold\">Bond M is not paid off</span>\n",
       "<span style=\"color: #808000; text-decoration-color: #808000; font-weight: bold\">Bond S is not paid off</span>\n",
       "</pre>\n"
      ],
      "text/plain": [
       "Warning Message from server:\n",
       "\u001b[1;33mBond E is not paid off\u001b[0m\n",
       "\u001b[1;33mBond M is not paid off\u001b[0m\n",
       "\u001b[1;33mBond S is not paid off\u001b[0m\n"
      ]
     },
     "metadata": {},
     "output_type": "display_data"
    },
    {
     "data": {
      "text/html": [
       "<pre style=\"white-space:pre;overflow-x:auto;line-height:normal;font-family:Menlo,'DejaVu Sans Mono',consolas,'Courier New',monospace\">Warning Message from server:\n",
       "<span style=\"color: #808000; text-decoration-color: #808000; font-weight: bold\">Bond E is not paid off</span>\n",
       "<span style=\"color: #808000; text-decoration-color: #808000; font-weight: bold\">Bond M is not paid off</span>\n",
       "<span style=\"color: #808000; text-decoration-color: #808000; font-weight: bold\">Bond S is not paid off</span>\n",
       "</pre>\n"
      ],
      "text/plain": [
       "Warning Message from server:\n",
       "\u001b[1;33mBond E is not paid off\u001b[0m\n",
       "\u001b[1;33mBond M is not paid off\u001b[0m\n",
       "\u001b[1;33mBond S is not paid off\u001b[0m\n"
      ]
     },
     "metadata": {},
     "output_type": "display_data"
    },
    {
     "data": {
      "text/html": [
       "<pre style=\"white-space:pre;overflow-x:auto;line-height:normal;font-family:Menlo,'DejaVu Sans Mono',consolas,'Courier New',monospace\">Warning Message from server:\n",
       "<span style=\"color: #808000; text-decoration-color: #808000; font-weight: bold\">Bond E is not paid off</span>\n",
       "<span style=\"color: #808000; text-decoration-color: #808000; font-weight: bold\">Bond M is not paid off</span>\n",
       "<span style=\"color: #808000; text-decoration-color: #808000; font-weight: bold\">Bond S is not paid off</span>\n",
       "</pre>\n"
      ],
      "text/plain": [
       "Warning Message from server:\n",
       "\u001b[1;33mBond E is not paid off\u001b[0m\n",
       "\u001b[1;33mBond M is not paid off\u001b[0m\n",
       "\u001b[1;33mBond S is not paid off\u001b[0m\n"
      ]
     },
     "metadata": {},
     "output_type": "display_data"
    },
    {
     "data": {
      "text/html": [
       "<pre style=\"white-space:pre;overflow-x:auto;line-height:normal;font-family:Menlo,'DejaVu Sans Mono',consolas,'Courier New',monospace\">Warning Message from server:\n",
       "<span style=\"color: #808000; text-decoration-color: #808000; font-weight: bold\">Bond E is not paid off</span>\n",
       "<span style=\"color: #808000; text-decoration-color: #808000; font-weight: bold\">Bond M is not paid off</span>\n",
       "<span style=\"color: #808000; text-decoration-color: #808000; font-weight: bold\">Bond S is not paid off</span>\n",
       "</pre>\n"
      ],
      "text/plain": [
       "Warning Message from server:\n",
       "\u001b[1;33mBond E is not paid off\u001b[0m\n",
       "\u001b[1;33mBond M is not paid off\u001b[0m\n",
       "\u001b[1;33mBond S is not paid off\u001b[0m\n"
      ]
     },
     "metadata": {},
     "output_type": "display_data"
    },
    {
     "data": {
      "text/html": [
       "<pre style=\"white-space:pre;overflow-x:auto;line-height:normal;font-family:Menlo,'DejaVu Sans Mono',consolas,'Courier New',monospace\">Warning Message from server:\n",
       "<span style=\"color: #808000; text-decoration-color: #808000; font-weight: bold\">Bond E is not paid off</span>\n",
       "<span style=\"color: #808000; text-decoration-color: #808000; font-weight: bold\">Bond M is not paid off</span>\n",
       "<span style=\"color: #808000; text-decoration-color: #808000; font-weight: bold\">Bond S is not paid off</span>\n",
       "</pre>\n"
      ],
      "text/plain": [
       "Warning Message from server:\n",
       "\u001b[1;33mBond E is not paid off\u001b[0m\n",
       "\u001b[1;33mBond M is not paid off\u001b[0m\n",
       "\u001b[1;33mBond S is not paid off\u001b[0m\n"
      ]
     },
     "metadata": {},
     "output_type": "display_data"
    },
    {
     "data": {
      "text/html": [
       "<pre style=\"white-space:pre;overflow-x:auto;line-height:normal;font-family:Menlo,'DejaVu Sans Mono',consolas,'Courier New',monospace\">Warning Message from server:\n",
       "<span style=\"color: #808000; text-decoration-color: #808000; font-weight: bold\">Bond E is not paid off</span>\n",
       "<span style=\"color: #808000; text-decoration-color: #808000; font-weight: bold\">Bond M is not paid off</span>\n",
       "<span style=\"color: #808000; text-decoration-color: #808000; font-weight: bold\">Bond S is not paid off</span>\n",
       "</pre>\n"
      ],
      "text/plain": [
       "Warning Message from server:\n",
       "\u001b[1;33mBond E is not paid off\u001b[0m\n",
       "\u001b[1;33mBond M is not paid off\u001b[0m\n",
       "\u001b[1;33mBond S is not paid off\u001b[0m\n"
      ]
     },
     "metadata": {},
     "output_type": "display_data"
    },
    {
     "data": {
      "text/html": [
       "<pre style=\"white-space:pre;overflow-x:auto;line-height:normal;font-family:Menlo,'DejaVu Sans Mono',consolas,'Courier New',monospace\">Warning Message from server:\n",
       "<span style=\"color: #808000; text-decoration-color: #808000; font-weight: bold\">Bond E is not paid off</span>\n",
       "<span style=\"color: #808000; text-decoration-color: #808000; font-weight: bold\">Bond M is not paid off</span>\n",
       "<span style=\"color: #808000; text-decoration-color: #808000; font-weight: bold\">Bond S is not paid off</span>\n",
       "</pre>\n"
      ],
      "text/plain": [
       "Warning Message from server:\n",
       "\u001b[1;33mBond E is not paid off\u001b[0m\n",
       "\u001b[1;33mBond M is not paid off\u001b[0m\n",
       "\u001b[1;33mBond S is not paid off\u001b[0m\n"
      ]
     },
     "metadata": {},
     "output_type": "display_data"
    },
    {
     "data": {
      "text/html": [
       "<pre style=\"white-space:pre;overflow-x:auto;line-height:normal;font-family:Menlo,'DejaVu Sans Mono',consolas,'Courier New',monospace\">Warning Message from server:\n",
       "<span style=\"color: #808000; text-decoration-color: #808000; font-weight: bold\">Bond E is not paid off</span>\n",
       "<span style=\"color: #808000; text-decoration-color: #808000; font-weight: bold\">Bond M is not paid off</span>\n",
       "<span style=\"color: #808000; text-decoration-color: #808000; font-weight: bold\">Bond S is not paid off</span>\n",
       "</pre>\n"
      ],
      "text/plain": [
       "Warning Message from server:\n",
       "\u001b[1;33mBond E is not paid off\u001b[0m\n",
       "\u001b[1;33mBond M is not paid off\u001b[0m\n",
       "\u001b[1;33mBond S is not paid off\u001b[0m\n"
      ]
     },
     "metadata": {},
     "output_type": "display_data"
    },
    {
     "data": {
      "text/html": [
       "<pre style=\"white-space:pre;overflow-x:auto;line-height:normal;font-family:Menlo,'DejaVu Sans Mono',consolas,'Courier New',monospace\">Warning Message from server:\n",
       "<span style=\"color: #808000; text-decoration-color: #808000; font-weight: bold\">Bond E is not paid off</span>\n",
       "<span style=\"color: #808000; text-decoration-color: #808000; font-weight: bold\">Bond M is not paid off</span>\n",
       "<span style=\"color: #808000; text-decoration-color: #808000; font-weight: bold\">Bond S is not paid off</span>\n",
       "</pre>\n"
      ],
      "text/plain": [
       "Warning Message from server:\n",
       "\u001b[1;33mBond E is not paid off\u001b[0m\n",
       "\u001b[1;33mBond M is not paid off\u001b[0m\n",
       "\u001b[1;33mBond S is not paid off\u001b[0m\n"
      ]
     },
     "metadata": {},
     "output_type": "display_data"
    },
    {
     "data": {
      "text/html": [
       "<pre style=\"white-space:pre;overflow-x:auto;line-height:normal;font-family:Menlo,'DejaVu Sans Mono',consolas,'Courier New',monospace\">Warning Message from server:\n",
       "<span style=\"color: #808000; text-decoration-color: #808000; font-weight: bold\">Bond E is not paid off</span>\n",
       "<span style=\"color: #808000; text-decoration-color: #808000; font-weight: bold\">Bond M is not paid off</span>\n",
       "<span style=\"color: #808000; text-decoration-color: #808000; font-weight: bold\">Bond S is not paid off</span>\n",
       "</pre>\n"
      ],
      "text/plain": [
       "Warning Message from server:\n",
       "\u001b[1;33mBond E is not paid off\u001b[0m\n",
       "\u001b[1;33mBond M is not paid off\u001b[0m\n",
       "\u001b[1;33mBond S is not paid off\u001b[0m\n"
      ]
     },
     "metadata": {},
     "output_type": "display_data"
    },
    {
     "data": {
      "text/html": [
       "<pre style=\"white-space:pre;overflow-x:auto;line-height:normal;font-family:Menlo,'DejaVu Sans Mono',consolas,'Courier New',monospace\">Warning Message from server:\n",
       "<span style=\"color: #808000; text-decoration-color: #808000; font-weight: bold\">Bond E is not paid off</span>\n",
       "<span style=\"color: #808000; text-decoration-color: #808000; font-weight: bold\">Bond M is not paid off</span>\n",
       "<span style=\"color: #808000; text-decoration-color: #808000; font-weight: bold\">Bond S is not paid off</span>\n",
       "</pre>\n"
      ],
      "text/plain": [
       "Warning Message from server:\n",
       "\u001b[1;33mBond E is not paid off\u001b[0m\n",
       "\u001b[1;33mBond M is not paid off\u001b[0m\n",
       "\u001b[1;33mBond S is not paid off\u001b[0m\n"
      ]
     },
     "metadata": {},
     "output_type": "display_data"
    }
   ],
   "source": [
    "# Sensitivity Analysis\n",
    "default_rates = np.arange(0.00, 0.12, 0.005).tolist()  \n",
    "# default_rate = [0.03]*36 + [0.01]*36    #   [0.0062]*12 + [0.0052]*12 + [0.0072]*12 + [0.0022]*12 + [0.0012]*12 + [0.0092]*12       #this is annualized to month # sensitize this with the worst historical default rates upfront \n",
    "\n",
    "results = []\n",
    "for default_rate in default_rates:\n",
    "        perf = (\"Pool\",(\"Mortgage\",{\"CDR\":default_rate},{\"CPR\":pool_cpr},{\"Rate\":recovery_rate,\"Lag\":recovery_lag},None),None,None) \n",
    "        r = localAPI.run(Resonance,runAssump = runDealAssump,poolAssump = (\"Pool\",(\"Mortgage\",{\"CDR\":default_rate},None,{\"Rate\":recovery_rate,\"Lag\":recovery_lag},None),None,None),read=True)\n",
    "        results.append(run_analysis(r))\n",
    "results = pd.concat(results)\n",
    "results['Deal Name'] = 'Resonance'\n",
    "results = results.reset_index(drop=True)\n",
    "results.to_csv('sensitivity_analysis.csv', index=False)\n"
   ]
  },
  {
   "cell_type": "code",
   "execution_count": 171,
   "id": "5ccc1b5b",
   "metadata": {},
   "outputs": [
    {
     "data": {
      "image/png": "[encoded data removed]",
      "text/plain": [
       "<Figure size 700x400 with 1 Axes>"
      ]
     },
     "metadata": {},
     "output_type": "display_data"
    }
   ],
   "source": [
    "# Chart\n",
    "df = results.copy()\n",
    "df['CDR'] = df['CDR'].str.rstrip('%').astype('float')\n",
    "df['IRR_E'] = df['IRR_E'].str.rstrip('%').astype('float') / 100\n",
    "df['IRR_M'] = df['IRR_M'].str.rstrip('%').astype('float') / 100\n",
    "plt.figure(figsize=(7, 4))\n",
    "plt.plot(df['CDR'], df['IRR_M'], label='Mezz IRR', marker='o')\n",
    "x_ticks = np.arange(0, df['CDR'].max() + 2, 2) \n",
    "plt.xticks(x_ticks) \n",
    "plt.xlabel('CDR (%)')\n",
    "plt.ylabel('IRR (%)')\n",
    "plt.title('IRR vs CDR Results')\n",
    "plt.gca().xaxis.set_major_formatter(plt.FuncFormatter(lambda x, _: f'{x:.0f}%'))  # X-axis as percentage\n",
    "plt.gca().yaxis.set_major_formatter(plt.FuncFormatter(lambda y, _: f'{y*100:.0f}%'))  # Y-axis as percentage\n",
    "plt.legend()\n",
    "plt.grid(True)\n",
    "plt.show()"
   ]
  },
  {
   "cell_type": "markdown",
   "id": "a347b169",
   "metadata": {},
   "source": [
    "New Template"
   ]
  },
  {
   "cell_type": "code",
   "execution_count": 172,
   "id": "f76f92a2",
   "metadata": {
    "scrolled": true
   },
   "outputs": [
    {
     "ename": "KeyError",
     "evalue": "'B'",
     "output_type": "error",
     "traceback": [
      "\u001b[1;31m---------------------------------------------------------------------------\u001b[0m",
      "\u001b[1;31mKeyError\u001b[0m                                  Traceback (most recent call last)",
      "Cell \u001b[1;32mIn[172], line 12\u001b[0m\n\u001b[0;32m      9\u001b[0m     vs \u001b[38;5;241m=\u001b[39m [investAmount] \u001b[38;5;241m+\u001b[39m df\u001b[38;5;241m.\u001b[39mcash\u001b[38;5;241m.\u001b[39mto_list()\n\u001b[0;32m     10\u001b[0m     \u001b[38;5;28;01mreturn\u001b[39;00m xirr(ds, vs)\n\u001b[1;32m---> 12\u001b[0m calcIRR(\u001b[43mr\u001b[49m\u001b[43m[\u001b[49m\u001b[38;5;124;43m'\u001b[39;49m\u001b[38;5;124;43mbonds\u001b[39;49m\u001b[38;5;124;43m'\u001b[39;49m\u001b[43m]\u001b[49m\u001b[43m[\u001b[49m\u001b[38;5;124;43m'\u001b[39;49m\u001b[38;5;124;43mB\u001b[39;49m\u001b[38;5;124;43m'\u001b[39;49m\u001b[43m]\u001b[49m, (\u001b[38;5;124m\"\u001b[39m\u001b[38;5;124m2021-06-15\u001b[39m\u001b[38;5;124m\"\u001b[39m,\u001b[38;5;241m-\u001b[39m\u001b[38;5;241m200\u001b[39m))\n\u001b[0;32m     15\u001b[0m \u001b[38;5;28;01mfrom\u001b[39;00m \u001b[38;5;21;01mlenses\u001b[39;00m \u001b[38;5;28;01mimport\u001b[39;00m lens\n\u001b[0;32m     17\u001b[0m myAssumption \u001b[38;5;241m=\u001b[39m (\u001b[38;5;124m\"\u001b[39m\u001b[38;5;124mPool\u001b[39m\u001b[38;5;124m\"\u001b[39m,(\u001b[38;5;124m\"\u001b[39m\u001b[38;5;124mMortgage\u001b[39m\u001b[38;5;124m\"\u001b[39m,\u001b[38;5;28;01mNone\u001b[39;00m,\u001b[38;5;28;01mNone\u001b[39;00m,\u001b[38;5;28;01mNone\u001b[39;00m,\u001b[38;5;28;01mNone\u001b[39;00m)\n\u001b[0;32m     18\u001b[0m                                 ,\u001b[38;5;28;01mNone\u001b[39;00m\n\u001b[0;32m     19\u001b[0m                                 ,\u001b[38;5;28;01mNone\u001b[39;00m)\n",
      "\u001b[1;31mKeyError\u001b[0m: 'B'"
     ]
    }
   ],
   "source": [
    "# from pyxirr import xirr\n",
    "# r1['pool']['flow'].Loss.sum()\n",
    "# r1['accounts']['srtAcc'].loc[lambda df: df.memo == \"<Support:originator>\"].head()\n",
    "# r1['accounts']['srtAcc'].loc[lambda df: df.memo == \"<Support:originator>\"].change.sum()\n",
    "\n",
    "def calcIRR(df, init):\n",
    "    investDate,investAmount = init\n",
    "    ds = [investDate] + df.index.to_list()\n",
    "    vs = [investAmount] + df.cash.to_list()\n",
    "    return xirr(ds, vs)\n",
    "\n",
    "calcIRR(r['bonds']['B'], (\"2021-06-15\",-200))\n",
    "\n",
    "\n",
    "from lenses import lens\n",
    "\n",
    "myAssumption = (\"Pool\",(\"Mortgage\",None,None,None,None)\n",
    "                                ,None\n",
    "                                ,None)\n",
    "myAssumption2 = myAssumption & lens[1][2].set({\"CPR\":0.01})\n",
    "myAssumption3 = myAssumption & lens[1][2].set({\"CPR\":0.02})\n",
    "\n",
    "\n",
    "rs = localAPI.runByScenarios(srt01\n",
    "                            ,poolAssump={\"CPR-0\":myAssumption\n",
    "                                        ,\"CPR-1\":myAssumption2\n",
    "                                        ,\"CPR-2\":myAssumption3\n",
    "                                       }\n",
    "                            ,read=True)\n",
    "\n",
    "\n",
    "from absbox import readMultiFlowsByScenarios\n",
    "readMultiFlowsByScenarios(rs, (lens['pool']['flow'],[\"Balance\",'Prepayment'])).head()\n",
    "\n",
    "\n",
    "import toolz as tz\n",
    "\n",
    "tz.valmap(lambda x: calcIRR(x['bonds']['B'], (\"2021-06-15\",-200)), rs)\n",
    "\n",
    "\n",
    "myAssumption = (\"Pool\",(\"Mortgage\",None,None,None,None)\n",
    "                                ,None\n",
    "                                ,None)\n",
    "myAssumption2 = myAssumption & lens[1][1].set({\"CDR\":0.01})\n",
    "myAssumption3 = myAssumption & lens[1][1].set({\"CDR\":0.02})\n",
    "\n",
    "\n",
    "rs = localAPI.runByScenarios(srt01\n",
    "                            ,poolAssump={\"CDR-0\":myAssumption\n",
    "                                        ,\"CDR-1\":myAssumption2\n",
    "                                        ,\"CDR-2\":myAssumption3\n",
    "                                       }\n",
    "                            ,read=True)\n",
    "\n",
    "\n",
    "from absbox import readMultiFlowsByScenarios\n",
    "readMultiFlowsByScenarios(rs, (lens['pool']['flow'],[\"Balance\",'Default'])).head()\n",
    "\n",
    "\n",
    "\n",
    "def unHedgeAmount(x:dict):\n",
    "    \"x is the single run result\"\n",
    "    \n",
    "    poolLoss = x['pool']['flow'].Loss.sum()\n",
    "    hedgedAmount = x['accounts']['srtAcc'].loc[lambda df: df.memo == \"<Support:originator>\"].change.sum()\n",
    "    \n",
    "    return max(poolLoss - hedgedAmount,0)\n",
    "\n",
    "tz.valmap(unHedgeAmount, rs)\n",
    "\n",
    "\n",
    "firstLossTranche = 5\n",
    "\n",
    "formulaToCurLoss = (\"excess\", (\"cumPoolNetLoss\",)\n",
    "                            , (\"abs\",(\"accountTxnAmount\",\"<Support:originator>\",\"srtAcc\"))\n",
    "                            , (\"originalBondBalance\",\"C\"))"
   ]
  },
  {
   "cell_type": "code",
   "execution_count": 3,
   "id": "86417947",
   "metadata": {},
   "outputs": [],
   "source": [
    "# Pool assumptions \n",
    "original_pool_balance = 1_000_000\n",
    "original_pool_term = 72\n",
    "seasoning = 0\n",
    "base_rate = 0 # float(prcEnv.ratesCurves['EUR'].instFwd(valDate.addTenor('0D')))\n",
    "pool_rate = 0.03 + base_rate\n",
    "default_rate = 0.0013     #0.002  #[0.03]*36 + [0.01]*36    # [0.0062]*12 + [0.0052]*12 + [0.0072]*12 + [0.0022]*12 + [0.0012]*12 + [0.0092]*12       #this is annualized to month # sensitize this with the worst historical default rates upfront \n",
    "# defaultFactor = [[\"2020-10-01\",1.05],[\"2022-10-01\",1.15]]\n",
    "pool_cpr = 0.15  # amortization rate, 12 / original_pool_term \n",
    "recovery_rate = 0.00  # 1 - (0.3 * 0.7 + 0.15 * 0.3)  \n",
    "recovery_lag = 0   \n",
    "\n",
    "# Deal assumptions\n",
    "start_date = '2024-11-15'\n",
    "original_deal_term = 60\n",
    "repay_month = 3\n",
    "months_to_call = repay_month\n",
    "tranche_size_equity = 0.005\n",
    "tranche_size_mezz = 0.051\n",
    "tranche_size_senior = 1 - tranche_size_equity - tranche_size_mezz\n",
    "tranche_rate_equity = 0.00 + base_rate   \n",
    "tranche_rate_mezz = 0.07 + base_rate\n",
    "tranche_rate_senior = 0\n",
    "issue_price = 1\n",
    "reinvestment_rate = 0.00\n",
    "switch_trigger = \"cumPoolNetLossRate\"   # [(\"cumPoolDefaultedRate\",),\">\",0.05]] \n",
    "switch_level = 0.02 \n",
    "clean_up_call = 0.1\n",
    "\n",
    "# Remaining calcs\n",
    "first_pay_date = datetime.datetime.strptime(start_date, '%Y-%m-%d').date() + relativedelta(months=+3)  \n",
    "first_pay_date = first_pay_date.strftime('%Y-%m-%d')\n",
    "repay_date = datetime.datetime.strptime(start_date, '%Y-%m-%d').date() + relativedelta(months=+repay_month)  \n",
    "repay_date = repay_date.strftime('%Y-%m-%d')  \n",
    "deal_maturity_date = datetime.datetime.strptime(start_date, '%Y-%m-%d').date() + relativedelta(months=+original_deal_term)\n",
    "deal_maturity_date = deal_maturity_date.strftime('%Y-%m-%d')  \n",
    "deal_call_date = datetime.datetime.strptime(start_date, '%Y-%m-%d').date() + relativedelta(months=+months_to_call)\n",
    "deal_call_date = deal_call_date.strftime('%Y-%m-%d')  \n",
    "pool_maturity_date = datetime.datetime.strptime(start_date, '%Y-%m-%d').date() + relativedelta(months=+original_pool_term)\n",
    "pool_maturity_date = pool_maturity_date.strftime('%Y-%m-%d')  "
   ]
  },
  {
   "cell_type": "code",
   "execution_count": 31,
   "id": "5ae014f8",
   "metadata": {},
   "outputs": [],
   "source": [
    "seniorBalance = 9_440\n",
    "mezzBalance = 510\n",
    "firstLossTranche = 50\n",
    "opb = 10_000\n",
    "srtTrancheBal = mezzBalance\n",
    "mezzRate = 0.07\n",
    "clean_up_call = 0.1\n",
    "srtRate = 0.08\n",
    "closingDate = \"2024-11-15\"\n",
    "periodPrincipal = (\"curPoolCollection\", None, \"Principal\",\"Prepayment\",\"Recovery\")\n",
    "currentDefaults = (\"curPoolCollection\", None, \"Defaults\")\n",
    "reinvestRate = 0.00\n",
    "formulaToCurLoss = (\"excess\", (\"cumPoolNetLoss\",)\n",
    "                            , (\"abs\",(\"accountTxnAmount\",\"<Support:originator>\",\"srtAcc\"))\n",
    "                            , (\"originalBondBalance\",\"C\"))\n",
    "\n",
    "srt02 = Generic(\"SRT Example\"\n",
    "    ,{\"cutoff\":\"2024-11-15\",\"closing\":closingDate,\"firstPay\":\"2024-12-15\",\"payFreq\":\"QuarterEnd\",\"poolFreq\":\"QuarterEnd\",\"stated\":\"2032-11-15\"}\n",
    "    ,{'assets':[[\"Loan\",{\"originBalance\":opb,\"originRate\":[\"fix\",0.045],\"originTerm\":28,\"freq\":\"Quarterly\",\"type\":\"i_p\",\"originDate\":\"2024-12-15\"}\n",
    "          ,{\"currentBalance\":opb,\"currentRate\":0.08,\"remainTerm\":28,\"status\":\"current\"}]],}\n",
    "    ,((\"acc01\",{\"balance\":0})\n",
    "      ,(\"srtAcc\",{\"balance\":0.0,\"interest\":{\"period\":\"QuarterEnd\",\"rate\":reinvestRate,\"lastSettleDate\":closingDate}})\n",
    "      ,(\"dummy\",{\"balance\":100e20})\n",
    "      ,(\"acc02\",{\"balance\":0})\n",
    "     )\n",
    "    ,((\"A1\",{\"balance\":seniorBalance,\"rate\":0.00,\"originBalance\":seniorBalance,\"originRate\":0.00,\"startDate\":closingDate,\"rateType\":{\"Fixed\":0.00},\"bondType\":{\"Sequential\":None}})\n",
    "      ,(\"B\",{\"balance\":0,\"rate\":mezzRate,\"originBalance\":0,\"originRate\":mezzRate,\"startDate\":closingDate,\"rateType\":{\"Fixed\":mezzRate},\"bondType\":{\"Sequential\":None}})\n",
    "      ,(\"C\",{\"balance\":firstLossTranche,\"rate\":0.0,\"originBalance\":firstLossTranche,\"originRate\":0.0,\"startDate\":closingDate,\"rateType\":{\"Fixed\":0.0},\"bondType\":{\"Sequential\":None}}))\n",
    "    ,tuple()\n",
    "    ,{\"default\":[ # pay prorata t\"A1\",\"C\"o senior and SRT tranch\n",
    "         [\"calcInt\",\"B\",\"A1\",\"C\"]\n",
    "         ,[\"payInt\",\"dummy\",[\"B\",\"A1\",\"C\"]]\n",
    "         ,[\"If\",[\"<=\",\"2025-04-01\"]\n",
    "               ,[\"buyAsset\",[\"Current|Defaulted\", 1.0, 0],\"acc02\",None,]\n",
    "          ]\n",
    "         ,[\"IfElse\",[\"status\", \"Accelerated\"]\n",
    "                   ,[[\"payPrinBySeq\",\"acc02\",[\"A1\",\"B\",\"C\"]\n",
    "                     ,{\"limit\":{\"formula\":(\"bondBalance\",)}}]\n",
    "                    ]\n",
    "                   ,[[\"payPrin\",\"acc02\",[\"A1\",\"B\",\"C\"]]]\n",
    "                    ]\n",
    "         ,[\"writeOff\", \"C\", {\"formula\": (\"min\",(\"curPoolCollection\", None, \"Defaults\"),(\"bondBalance\",\"C\"))}]\n",
    "         ,[\"writeOff\", \"B\", {\"formula\": (\"min\",\n",
    "                                         (\"excess\",(\"cumPoolDefaultedBalance\",),(\"originalBondBalance\",\"C\")),\n",
    "                                         (\"curPoolCollection\", None, \"Defaults\"),\n",
    "                                         (\"bondBalance\",\"B\"),\n",
    "                                         )\n",
    "                                        }]\n",
    "      ],\n",
    "      \"closingDay\":[[\"fundWith\",\"srtAcc\",\"B\",{\"formula\":(\"const\",srtTrancheBal)}]],\n",
    "      \"endOfCollection\":[[\"liqRepayResidual\",\"srtAcc\", \"originator\", {\"formula\":formulaToCurLoss}]],\n",
    "      \"cleanUp\":[#[\"payIntResidual\",\"srtAcc\",\"B\"]\n",
    "                 ]}    # draw loss amount and pay to originator\n",
    "    ,[#[\"CollectedInterest\",\"acc01\"]\n",
    "      [\"CollectedPrincipal\",\"acc02\"]\n",
    "        ,[\"CollectedPrepayment\",\"acc02\"]\n",
    "        ,[\"CollectedRecoveries\",\"acc02\"]]\n",
    "    ,{\"originator\":{\"lineOfCredit\":20000,\"type\": {\"total\": 20000} , \"start\": closingDate}}\n",
    "    ,None\n",
    "    ,None\n",
    "    ,{\"AfterCollect\":{\n",
    "         \"DR_trigger\":{\n",
    "                    \"condition\": [(\"cumPoolDefaultedRate\",),\">\", 0.005],\n",
    "                    \"effects\": (\"newStatus\", \"Accelerated\"),\n",
    "                    \"status\": False,\n",
    "                    \"curable\": False,\n",
    "                }\n",
    "        }\n",
    "    }\n",
    "    ,(\"PreClosing\",\"Amortizing\"))\n",
    "\n",
    "# revolvingPool = ([\"constant\",mortgage1],(\"Pool\",(\"Mortgage\",{\"CDR\":default_rate},{\"CPR\":pool_cpr},{\"Rate\":recovery_rate,\"Lag\":recovery_lag},None),None,None))\n",
    "perf = (\"Pool\",(\"Loan\",None,None,None,None),None,None) \n",
    "\n",
    "runDealAssump = [(\"revolving\",[\"constant\",\n",
    "                                [\"Loan\"     \n",
    "                                ,{\"originBalance\":original_pool_balance,\"originRate\":[\"fix\",pool_rate],\"originTerm\":original_pool_term,\"freq\":\"Monthly\",\"type\":\"i_p\",\"originDate\":repay_date}\n",
    "                                ,{\"currentBalance\":original_pool_balance,\"currentRate\":pool_rate,\"remainTerm\":original_pool_term,\"status\":\"current\"}]\n",
    "                                ]\n",
    "                               ,perf)\n",
    "                ,(\"call\",{\"poolFactor\":clean_up_call})\n",
    "                ,(\"inspect\",(\"MonthEnd\",(\"excess\", (\"cumPoolNetLoss\",)\n",
    "                    , (\"abs\",(\"accountTxnAmount\",\"<Support:originator>\",\"srtAcc\"))\n",
    "                    , (\"constant\",firstLossTranche))))]\n"
   ]
  },
  {
   "cell_type": "code",
   "execution_count": 29,
   "id": "a6c6704d",
   "metadata": {},
   "outputs": [
    {
     "data": {
      "text/plain": [
       "['Loan',\n",
       " {'originBalance': 1000000,\n",
       "  'originRate': ['fix', 0.03],\n",
       "  'originTerm': 72,\n",
       "  'freq': 'Monthly',\n",
       "  'type': 'i_p',\n",
       "  'originDate': '2025-02-15'},\n",
       " {'currentBalance': 1000000,\n",
       "  'currentRate': 0.03,\n",
       "  'remainTerm': 72,\n",
       "  'status': 'current'}]"
      ]
     },
     "execution_count": 29,
     "metadata": {},
     "output_type": "execute_result"
    }
   ],
   "source": [
    "[\"Loan\"     \n",
    "    ,{\"originBalance\":original_pool_balance,\"originRate\":[\"fix\",pool_rate],\"originTerm\":original_pool_term,\"freq\":\"Monthly\",\"type\":\"i_p\",\"originDate\":repay_date}\n",
    "    ,{\"currentBalance\":original_pool_balance,\"currentRate\":pool_rate,\"remainTerm\":original_pool_term,\"status\":\"current\"}]"
   ]
  },
  {
   "cell_type": "code",
   "execution_count": 41,
   "id": "462fc0b0",
   "metadata": {},
   "outputs": [
    {
     "data": {
      "text/html": [
       "<pre style=\"white-space:pre;overflow-x:auto;line-height:normal;font-family:Menlo,'DejaVu Sans Mono',consolas,'Courier New',monospace\"><span style=\"color: #800080; text-decoration-color: #800080; font-weight: bold\">Connecting engine server -&gt; </span><span style=\"color: #800080; text-decoration-color: #800080; font-weight: bold; text-decoration: underline\">https://absbox.org/api/dev</span>\n",
       "</pre>\n"
      ],
      "text/plain": [
       "\u001b[1;35mConnecting engine server -> \u001b[0m\u001b[1;4;35mhttps://absbox.org/api/dev\u001b[0m\n"
      ]
     },
     "metadata": {},
     "output_type": "display_data"
    },
    {
     "data": {
      "text/html": [
       "<pre style=\"white-space:pre;overflow-x:auto;line-height:normal;font-family:Menlo,'DejaVu Sans Mono',consolas,'Courier New',monospace\">✅<span style=\"color: #008000; text-decoration-color: #008000; font-weight: bold\">Connected, local lib:0.</span><span style=\"color: #008000; text-decoration-color: #008000; font-weight: bold\">28.7</span><span style=\"color: #008000; text-decoration-color: #008000; font-weight: bold\">, server:</span><span style=\"color: #008000; text-decoration-color: #008000; font-weight: bold\">0.29</span><span style=\"color: #008000; text-decoration-color: #008000; font-weight: bold\">.</span><span style=\"color: #008000; text-decoration-color: #008000; font-weight: bold\">10</span>\n",
       "</pre>\n"
      ],
      "text/plain": [
       "✅\u001b[1;32mConnected, local li\u001b[0m\u001b[1;32mb:0\u001b[0m\u001b[1;32m.\u001b[0m\u001b[1;32m28.7\u001b[0m\u001b[1;32m, server:\u001b[0m\u001b[1;32m0.29\u001b[0m\u001b[1;32m.\u001b[0m\u001b[1;32m10\u001b[0m\n"
      ]
     },
     "metadata": {},
     "output_type": "display_data"
    }
   ],
   "source": [
    "from absbox import EnginePath\n",
    "\n",
    "localAPI = API(EnginePath.DEV,check=False)"
   ]
  },
  {
   "cell_type": "code",
   "execution_count": 42,
   "id": "d192d878-2d2c-41ce-b4a3-2bf076fcf267",
   "metadata": {
    "scrolled": true
   },
   "outputs": [
    {
     "data": {
      "text/html": [
       "<pre style=\"white-space:pre;overflow-x:auto;line-height:normal;font-family:Menlo,'DejaVu Sans Mono',consolas,'Courier New',monospace\">Warning Message from server:\n",
       "<span style=\"color: #808000; text-decoration-color: #808000; font-weight: bold\">Bond A1 is not paid off</span>\n",
       "<span style=\"color: #808000; text-decoration-color: #808000; font-weight: bold\">Bond B is not paid off</span>\n",
       "<span style=\"color: #808000; text-decoration-color: #808000; font-weight: bold\">Account acc02 has cash to be distributed</span>\n",
       "<span style=\"color: #808000; text-decoration-color: #808000; font-weight: bold\">Account dummy has cash to be distributed</span>\n",
       "<span style=\"color: #808000; text-decoration-color: #808000; font-weight: bold\">Account srtAcc has cash to be distributed</span>\n",
       "<span style=\"color: #808000; text-decoration-color: #808000; font-weight: bold\">LiquidityProvider originator is not paid off</span>\n",
       "</pre>\n"
      ],
      "text/plain": [
       "Warning Message from server:\n",
       "\u001b[1;33mBond A1 is not paid off\u001b[0m\n",
       "\u001b[1;33mBond B is not paid off\u001b[0m\n",
       "\u001b[1;33mAccount acc02 has cash to be distributed\u001b[0m\n",
       "\u001b[1;33mAccount dummy has cash to be distributed\u001b[0m\n",
       "\u001b[1;33mAccount srtAcc has cash to be distributed\u001b[0m\n",
       "\u001b[1;33mLiquidityProvider originator is not paid off\u001b[0m\n"
      ]
     },
     "metadata": {},
     "output_type": "display_data"
    }
   ],
   "source": [
    "r0 = localAPI.run(srt02,poolAssump=(\"Pool\",(\"Loan\", {\"CDR\":0.0055}, {\"CPR\":0.15}, None, None),None,None)\n",
    "                # ,runAssump=[(\"call\",(\"poolFactor\",0.10)),(\"inspect\",(\"MonthEnd\",(\"excess\", (\"cumPoolNetLoss\",)\n",
    "                #            , (\"abs\",(\"accountTxnAmount\",\"<Support:originator>\",\"srtAcc\")), (\"constant\",firstLossTranche))))]\n",
    "                ,runAssump=runDealAssump,read=True)"
   ]
  },
  {
   "cell_type": "code",
   "execution_count": 24,
   "id": "7e9fcb23-6a06-47f9-99bd-e46e78a1e2f4",
   "metadata": {},
   "outputs": [
    {
     "data": {
      "text/html": [
       "<div>\n",
       "<style scoped>\n",
       "    .dataframe tbody tr th:only-of-type {\n",
       "        vertical-align: middle;\n",
       "    }\n",
       "\n",
       "    .dataframe tbody tr th {\n",
       "        vertical-align: top;\n",
       "    }\n",
       "\n",
       "    .dataframe thead th {\n",
       "        text-align: right;\n",
       "    }\n",
       "</style>\n",
       "<table border=\"1\" class=\"dataframe\">\n",
       "  <thead>\n",
       "    <tr style=\"text-align: right;\">\n",
       "      <th></th>\n",
       "      <th>Date</th>\n",
       "      <th>From</th>\n",
       "      <th>To</th>\n",
       "    </tr>\n",
       "  </thead>\n",
       "  <tbody>\n",
       "    <tr>\n",
       "      <th>0</th>\n",
       "      <td>2024-11-15</td>\n",
       "      <td>PreClosing</td>\n",
       "      <td>Amortizing</td>\n",
       "    </tr>\n",
       "    <tr>\n",
       "      <th>1</th>\n",
       "      <td>2025-12-31</td>\n",
       "      <td>Amortizing</td>\n",
       "      <td>Accelerated</td>\n",
       "    </tr>\n",
       "    <tr>\n",
       "      <th>2</th>\n",
       "      <td>2031-12-31</td>\n",
       "      <td>Accelerated</td>\n",
       "      <td>Called</td>\n",
       "    </tr>\n",
       "    <tr>\n",
       "      <th>3</th>\n",
       "      <td>2031-12-31</td>\n",
       "      <td>DealEnd</td>\n",
       "      <td>Clean Up</td>\n",
       "    </tr>\n",
       "  </tbody>\n",
       "</table>\n",
       "</div>"
      ],
      "text/plain": [
       "         Date         From           To\n",
       "0  2024-11-15   PreClosing   Amortizing\n",
       "1  2025-12-31   Amortizing  Accelerated\n",
       "2  2031-12-31  Accelerated       Called\n",
       "3  2031-12-31      DealEnd     Clean Up"
      ]
     },
     "execution_count": 24,
     "metadata": {},
     "output_type": "execute_result"
    }
   ],
   "source": [
    "r0['result']['status']"
   ]
  },
  {
   "cell_type": "code",
   "execution_count": 34,
   "id": "38cfad02",
   "metadata": {},
   "outputs": [
    {
     "data": {
      "text/plain": [
       "6.0"
      ]
     },
     "execution_count": 34,
     "metadata": {},
     "output_type": "execute_result"
    }
   ],
   "source": [
    "72/12"
   ]
  },
  {
   "cell_type": "code",
   "execution_count": 38,
   "id": "8282bfa5",
   "metadata": {},
   "outputs": [
    {
     "data": {
      "text/html": [
       "<div>\n",
       "<style scoped>\n",
       "    .dataframe tbody tr th:only-of-type {\n",
       "        vertical-align: middle;\n",
       "    }\n",
       "\n",
       "    .dataframe tbody tr th {\n",
       "        vertical-align: top;\n",
       "    }\n",
       "\n",
       "    .dataframe thead th {\n",
       "        text-align: right;\n",
       "    }\n",
       "</style>\n",
       "<table border=\"1\" class=\"dataframe\">\n",
       "  <thead>\n",
       "    <tr style=\"text-align: right;\">\n",
       "      <th></th>\n",
       "      <th>balance</th>\n",
       "      <th>change</th>\n",
       "      <th>memo</th>\n",
       "    </tr>\n",
       "    <tr>\n",
       "      <th>date</th>\n",
       "      <th></th>\n",
       "      <th></th>\n",
       "      <th></th>\n",
       "    </tr>\n",
       "  </thead>\n",
       "  <tbody>\n",
       "    <tr>\n",
       "      <th>2024-11-15</th>\n",
       "      <td>0.000</td>\n",
       "      <td>0.000</td>\n",
       "      <td>&lt;Pool:CollectedRecoveries&gt;</td>\n",
       "    </tr>\n",
       "    <tr>\n",
       "      <th>2024-11-15</th>\n",
       "      <td>0.000</td>\n",
       "      <td>0.000</td>\n",
       "      <td>&lt;Pool:CollectedPrepayment&gt;</td>\n",
       "    </tr>\n",
       "    <tr>\n",
       "      <th>2024-11-15</th>\n",
       "      <td>0.000</td>\n",
       "      <td>0.000</td>\n",
       "      <td>&lt;Pool:CollectedPrincipal&gt;</td>\n",
       "    </tr>\n",
       "    <tr>\n",
       "      <th>2024-12-15</th>\n",
       "      <td>0.000</td>\n",
       "      <td>0.000</td>\n",
       "      <td>&lt;PurchaseAsset:Consol,0.00&gt;</td>\n",
       "    </tr>\n",
       "    <tr>\n",
       "      <th>2024-12-15</th>\n",
       "      <td>0.000</td>\n",
       "      <td>0.000</td>\n",
       "      <td>&lt;PayPrin:A1,B,C&gt;</td>\n",
       "    </tr>\n",
       "    <tr>\n",
       "      <th>2024-12-31</th>\n",
       "      <td>0.000</td>\n",
       "      <td>0.000</td>\n",
       "      <td>&lt;Pool:CollectedRecoveries&gt;</td>\n",
       "    </tr>\n",
       "    <tr>\n",
       "      <th>2024-12-31</th>\n",
       "      <td>0.000</td>\n",
       "      <td>0.000</td>\n",
       "      <td>&lt;Pool:CollectedPrepayment&gt;</td>\n",
       "    </tr>\n",
       "    <tr>\n",
       "      <th>2024-12-31</th>\n",
       "      <td>0.000</td>\n",
       "      <td>0.000</td>\n",
       "      <td>&lt;Pool:CollectedPrincipal&gt;</td>\n",
       "    </tr>\n",
       "    <tr>\n",
       "      <th>2024-12-31</th>\n",
       "      <td>0.000</td>\n",
       "      <td>0.000</td>\n",
       "      <td>&lt;PurchaseAsset:Consol,0.00&gt;</td>\n",
       "    </tr>\n",
       "    <tr>\n",
       "      <th>2024-12-31</th>\n",
       "      <td>0.000</td>\n",
       "      <td>0.000</td>\n",
       "      <td>&lt;PayPrin:A1,B,C&gt;</td>\n",
       "    </tr>\n",
       "    <tr>\n",
       "      <th>2025-03-31</th>\n",
       "      <td>0.000</td>\n",
       "      <td>0.000</td>\n",
       "      <td>&lt;Pool:CollectedRecoveries&gt;</td>\n",
       "    </tr>\n",
       "    <tr>\n",
       "      <th>2025-03-31</th>\n",
       "      <td>392.270</td>\n",
       "      <td>392.270</td>\n",
       "      <td>&lt;Pool:CollectedPrepayment&gt;</td>\n",
       "    </tr>\n",
       "    <tr>\n",
       "      <th>2025-03-31</th>\n",
       "      <td>392.270</td>\n",
       "      <td>0.000</td>\n",
       "      <td>&lt;Pool:CollectedPrincipal&gt;</td>\n",
       "    </tr>\n",
       "    <tr>\n",
       "      <th>2025-03-31</th>\n",
       "      <td>0.000</td>\n",
       "      <td>-392.270</td>\n",
       "      <td>&lt;PurchaseAsset:Consol,392.27&gt;</td>\n",
       "    </tr>\n",
       "    <tr>\n",
       "      <th>2025-03-31</th>\n",
       "      <td>0.000</td>\n",
       "      <td>0.000</td>\n",
       "      <td>&lt;PayPrin:A1,B,C&gt;</td>\n",
       "    </tr>\n",
       "    <tr>\n",
       "      <th>2025-06-30</th>\n",
       "      <td>0.000</td>\n",
       "      <td>0.000</td>\n",
       "      <td>&lt;Pool:CollectedRecoveries&gt;</td>\n",
       "    </tr>\n",
       "    <tr>\n",
       "      <th>2025-06-30</th>\n",
       "      <td>400.080</td>\n",
       "      <td>400.080</td>\n",
       "      <td>&lt;Pool:CollectedPrepayment&gt;</td>\n",
       "    </tr>\n",
       "    <tr>\n",
       "      <th>2025-06-30</th>\n",
       "      <td>400.080</td>\n",
       "      <td>0.000</td>\n",
       "      <td>&lt;Pool:CollectedPrincipal&gt;</td>\n",
       "    </tr>\n",
       "    <tr>\n",
       "      <th>2025-06-30</th>\n",
       "      <td>0.000</td>\n",
       "      <td>-400.080</td>\n",
       "      <td>&lt;PayPrin:A1,B,C&gt;</td>\n",
       "    </tr>\n",
       "    <tr>\n",
       "      <th>2025-09-30</th>\n",
       "      <td>0.000</td>\n",
       "      <td>0.000</td>\n",
       "      <td>&lt;Pool:CollectedRecoveries&gt;</td>\n",
       "    </tr>\n",
       "    <tr>\n",
       "      <th>2025-09-30</th>\n",
       "      <td>383.660</td>\n",
       "      <td>383.660</td>\n",
       "      <td>&lt;Pool:CollectedPrepayment&gt;</td>\n",
       "    </tr>\n",
       "    <tr>\n",
       "      <th>2025-09-30</th>\n",
       "      <td>383.660</td>\n",
       "      <td>0.000</td>\n",
       "      <td>&lt;Pool:CollectedPrincipal&gt;</td>\n",
       "    </tr>\n",
       "    <tr>\n",
       "      <th>2025-09-30</th>\n",
       "      <td>0.000</td>\n",
       "      <td>-383.660</td>\n",
       "      <td>&lt;PayPrin:A1,B,C&gt;</td>\n",
       "    </tr>\n",
       "    <tr>\n",
       "      <th>2025-12-31</th>\n",
       "      <td>0.000</td>\n",
       "      <td>0.000</td>\n",
       "      <td>&lt;Pool:CollectedRecoveries&gt;</td>\n",
       "    </tr>\n",
       "    <tr>\n",
       "      <th>2025-12-31</th>\n",
       "      <td>363.990</td>\n",
       "      <td>363.990</td>\n",
       "      <td>&lt;Pool:CollectedPrepayment&gt;</td>\n",
       "    </tr>\n",
       "    <tr>\n",
       "      <th>2025-12-31</th>\n",
       "      <td>363.990</td>\n",
       "      <td>0.000</td>\n",
       "      <td>&lt;Pool:CollectedPrincipal&gt;</td>\n",
       "    </tr>\n",
       "    <tr>\n",
       "      <th>2025-12-31</th>\n",
       "      <td>0.000</td>\n",
       "      <td>-363.990</td>\n",
       "      <td>&lt;PayPrin:A1,B,C&gt;</td>\n",
       "    </tr>\n",
       "    <tr>\n",
       "      <th>2026-03-31</th>\n",
       "      <td>0.000</td>\n",
       "      <td>0.000</td>\n",
       "      <td>&lt;Pool:CollectedRecoveries&gt;</td>\n",
       "    </tr>\n",
       "    <tr>\n",
       "      <th>2026-03-31</th>\n",
       "      <td>345.160</td>\n",
       "      <td>345.160</td>\n",
       "      <td>&lt;Pool:CollectedPrepayment&gt;</td>\n",
       "    </tr>\n",
       "    <tr>\n",
       "      <th>2026-03-31</th>\n",
       "      <td>345.160</td>\n",
       "      <td>0.000</td>\n",
       "      <td>&lt;Pool:CollectedPrincipal&gt;</td>\n",
       "    </tr>\n",
       "    <tr>\n",
       "      <th>2026-03-31</th>\n",
       "      <td>0.000</td>\n",
       "      <td>-345.160</td>\n",
       "      <td>&lt;PayPrin:A1,B,C&gt;</td>\n",
       "    </tr>\n",
       "    <tr>\n",
       "      <th>2026-06-30</th>\n",
       "      <td>0.000</td>\n",
       "      <td>0.000</td>\n",
       "      <td>&lt;Pool:CollectedRecoveries&gt;</td>\n",
       "    </tr>\n",
       "    <tr>\n",
       "      <th>2026-06-30</th>\n",
       "      <td>338.190</td>\n",
       "      <td>338.190</td>\n",
       "      <td>&lt;Pool:CollectedPrepayment&gt;</td>\n",
       "    </tr>\n",
       "    <tr>\n",
       "      <th>2026-06-30</th>\n",
       "      <td>338.190</td>\n",
       "      <td>0.000</td>\n",
       "      <td>&lt;Pool:CollectedPrincipal&gt;</td>\n",
       "    </tr>\n",
       "    <tr>\n",
       "      <th>2026-06-30</th>\n",
       "      <td>0.000</td>\n",
       "      <td>-338.190</td>\n",
       "      <td>&lt;PayPrin:A1,B,C&gt;</td>\n",
       "    </tr>\n",
       "    <tr>\n",
       "      <th>2026-09-30</th>\n",
       "      <td>0.000</td>\n",
       "      <td>0.000</td>\n",
       "      <td>&lt;Pool:CollectedRecoveries&gt;</td>\n",
       "    </tr>\n",
       "    <tr>\n",
       "      <th>2026-09-30</th>\n",
       "      <td>324.320</td>\n",
       "      <td>324.320</td>\n",
       "      <td>&lt;Pool:CollectedPrepayment&gt;</td>\n",
       "    </tr>\n",
       "    <tr>\n",
       "      <th>2026-09-30</th>\n",
       "      <td>324.320</td>\n",
       "      <td>0.000</td>\n",
       "      <td>&lt;Pool:CollectedPrincipal&gt;</td>\n",
       "    </tr>\n",
       "    <tr>\n",
       "      <th>2026-09-30</th>\n",
       "      <td>0.000</td>\n",
       "      <td>-324.320</td>\n",
       "      <td>&lt;PayPrin:A1,B,C&gt;</td>\n",
       "    </tr>\n",
       "    <tr>\n",
       "      <th>2026-12-31</th>\n",
       "      <td>0.000</td>\n",
       "      <td>0.000</td>\n",
       "      <td>&lt;Pool:CollectedRecoveries&gt;</td>\n",
       "    </tr>\n",
       "    <tr>\n",
       "      <th>2026-12-31</th>\n",
       "      <td>307.690</td>\n",
       "      <td>307.690</td>\n",
       "      <td>&lt;Pool:CollectedPrepayment&gt;</td>\n",
       "    </tr>\n",
       "    <tr>\n",
       "      <th>2026-12-31</th>\n",
       "      <td>307.690</td>\n",
       "      <td>0.000</td>\n",
       "      <td>&lt;Pool:CollectedPrincipal&gt;</td>\n",
       "    </tr>\n",
       "    <tr>\n",
       "      <th>2026-12-31</th>\n",
       "      <td>0.000</td>\n",
       "      <td>-307.690</td>\n",
       "      <td>&lt;PayPrin:A1,B,C&gt;</td>\n",
       "    </tr>\n",
       "    <tr>\n",
       "      <th>2027-03-31</th>\n",
       "      <td>0.000</td>\n",
       "      <td>0.000</td>\n",
       "      <td>&lt;Pool:CollectedRecoveries&gt;</td>\n",
       "    </tr>\n",
       "    <tr>\n",
       "      <th>2027-03-31</th>\n",
       "      <td>291.760</td>\n",
       "      <td>291.760</td>\n",
       "      <td>&lt;Pool:CollectedPrepayment&gt;</td>\n",
       "    </tr>\n",
       "    <tr>\n",
       "      <th>2027-03-31</th>\n",
       "      <td>291.760</td>\n",
       "      <td>0.000</td>\n",
       "      <td>&lt;Pool:CollectedPrincipal&gt;</td>\n",
       "    </tr>\n",
       "    <tr>\n",
       "      <th>2027-03-31</th>\n",
       "      <td>0.000</td>\n",
       "      <td>-291.760</td>\n",
       "      <td>&lt;PayPrin:A1,B,C&gt;</td>\n",
       "    </tr>\n",
       "    <tr>\n",
       "      <th>2027-06-30</th>\n",
       "      <td>0.000</td>\n",
       "      <td>0.000</td>\n",
       "      <td>&lt;Pool:CollectedRecoveries&gt;</td>\n",
       "    </tr>\n",
       "    <tr>\n",
       "      <th>2027-06-30</th>\n",
       "      <td>285.900</td>\n",
       "      <td>285.900</td>\n",
       "      <td>&lt;Pool:CollectedPrepayment&gt;</td>\n",
       "    </tr>\n",
       "    <tr>\n",
       "      <th>2027-06-30</th>\n",
       "      <td>285.900</td>\n",
       "      <td>0.000</td>\n",
       "      <td>&lt;Pool:CollectedPrincipal&gt;</td>\n",
       "    </tr>\n",
       "    <tr>\n",
       "      <th>2027-06-30</th>\n",
       "      <td>0.000</td>\n",
       "      <td>-285.900</td>\n",
       "      <td>&lt;PayPrin:A1,B,C&gt;</td>\n",
       "    </tr>\n",
       "    <tr>\n",
       "      <th>2027-09-30</th>\n",
       "      <td>0.000</td>\n",
       "      <td>0.000</td>\n",
       "      <td>&lt;Pool:CollectedRecoveries&gt;</td>\n",
       "    </tr>\n",
       "    <tr>\n",
       "      <th>2027-09-30</th>\n",
       "      <td>274.150</td>\n",
       "      <td>274.150</td>\n",
       "      <td>&lt;Pool:CollectedPrepayment&gt;</td>\n",
       "    </tr>\n",
       "    <tr>\n",
       "      <th>2027-09-30</th>\n",
       "      <td>274.150</td>\n",
       "      <td>0.000</td>\n",
       "      <td>&lt;Pool:CollectedPrincipal&gt;</td>\n",
       "    </tr>\n",
       "    <tr>\n",
       "      <th>2027-09-30</th>\n",
       "      <td>0.000</td>\n",
       "      <td>-274.150</td>\n",
       "      <td>&lt;PayPrin:A1,B,C&gt;</td>\n",
       "    </tr>\n",
       "    <tr>\n",
       "      <th>2027-12-31</th>\n",
       "      <td>0.000</td>\n",
       "      <td>0.000</td>\n",
       "      <td>&lt;Pool:CollectedRecoveries&gt;</td>\n",
       "    </tr>\n",
       "    <tr>\n",
       "      <th>2027-12-31</th>\n",
       "      <td>260.110</td>\n",
       "      <td>260.110</td>\n",
       "      <td>&lt;Pool:CollectedPrepayment&gt;</td>\n",
       "    </tr>\n",
       "    <tr>\n",
       "      <th>2027-12-31</th>\n",
       "      <td>260.110</td>\n",
       "      <td>0.000</td>\n",
       "      <td>&lt;Pool:CollectedPrincipal&gt;</td>\n",
       "    </tr>\n",
       "    <tr>\n",
       "      <th>2027-12-31</th>\n",
       "      <td>0.000</td>\n",
       "      <td>-260.110</td>\n",
       "      <td>&lt;PayPrin:A1,B,C&gt;</td>\n",
       "    </tr>\n",
       "    <tr>\n",
       "      <th>2028-03-31</th>\n",
       "      <td>0.000</td>\n",
       "      <td>0.000</td>\n",
       "      <td>&lt;Pool:CollectedRecoveries&gt;</td>\n",
       "    </tr>\n",
       "    <tr>\n",
       "      <th>2028-03-31</th>\n",
       "      <td>249.320</td>\n",
       "      <td>249.320</td>\n",
       "      <td>&lt;Pool:CollectedPrepayment&gt;</td>\n",
       "    </tr>\n",
       "    <tr>\n",
       "      <th>2028-03-31</th>\n",
       "      <td>249.320</td>\n",
       "      <td>0.000</td>\n",
       "      <td>&lt;Pool:CollectedPrincipal&gt;</td>\n",
       "    </tr>\n",
       "    <tr>\n",
       "      <th>2028-03-31</th>\n",
       "      <td>0.000</td>\n",
       "      <td>-249.320</td>\n",
       "      <td>&lt;PayPrin:A1,B,C&gt;</td>\n",
       "    </tr>\n",
       "    <tr>\n",
       "      <th>2028-06-30</th>\n",
       "      <td>0.000</td>\n",
       "      <td>0.000</td>\n",
       "      <td>&lt;Pool:CollectedRecoveries&gt;</td>\n",
       "    </tr>\n",
       "    <tr>\n",
       "      <th>2028-06-30</th>\n",
       "      <td>241.560</td>\n",
       "      <td>241.560</td>\n",
       "      <td>&lt;Pool:CollectedPrepayment&gt;</td>\n",
       "    </tr>\n",
       "    <tr>\n",
       "      <th>2028-06-30</th>\n",
       "      <td>241.560</td>\n",
       "      <td>0.000</td>\n",
       "      <td>&lt;Pool:CollectedPrincipal&gt;</td>\n",
       "    </tr>\n",
       "    <tr>\n",
       "      <th>2028-06-30</th>\n",
       "      <td>0.000</td>\n",
       "      <td>-241.560</td>\n",
       "      <td>&lt;PayPrin:A1,B,C&gt;</td>\n",
       "    </tr>\n",
       "    <tr>\n",
       "      <th>2028-09-30</th>\n",
       "      <td>0.000</td>\n",
       "      <td>0.000</td>\n",
       "      <td>&lt;Pool:CollectedRecoveries&gt;</td>\n",
       "    </tr>\n",
       "    <tr>\n",
       "      <th>2028-09-30</th>\n",
       "      <td>231.650</td>\n",
       "      <td>231.650</td>\n",
       "      <td>&lt;Pool:CollectedPrepayment&gt;</td>\n",
       "    </tr>\n",
       "    <tr>\n",
       "      <th>2028-09-30</th>\n",
       "      <td>231.650</td>\n",
       "      <td>0.000</td>\n",
       "      <td>&lt;Pool:CollectedPrincipal&gt;</td>\n",
       "    </tr>\n",
       "    <tr>\n",
       "      <th>2028-09-30</th>\n",
       "      <td>0.000</td>\n",
       "      <td>-231.650</td>\n",
       "      <td>&lt;PayPrin:A1,B,C&gt;</td>\n",
       "    </tr>\n",
       "    <tr>\n",
       "      <th>2028-12-31</th>\n",
       "      <td>0.000</td>\n",
       "      <td>0.000</td>\n",
       "      <td>&lt;Pool:CollectedRecoveries&gt;</td>\n",
       "    </tr>\n",
       "    <tr>\n",
       "      <th>2028-12-31</th>\n",
       "      <td>219.770</td>\n",
       "      <td>219.770</td>\n",
       "      <td>&lt;Pool:CollectedPrepayment&gt;</td>\n",
       "    </tr>\n",
       "    <tr>\n",
       "      <th>2028-12-31</th>\n",
       "      <td>219.770</td>\n",
       "      <td>0.000</td>\n",
       "      <td>&lt;Pool:CollectedPrincipal&gt;</td>\n",
       "    </tr>\n",
       "    <tr>\n",
       "      <th>2028-12-31</th>\n",
       "      <td>0.000</td>\n",
       "      <td>-219.770</td>\n",
       "      <td>&lt;PayPrin:A1,B,C&gt;</td>\n",
       "    </tr>\n",
       "    <tr>\n",
       "      <th>2029-03-31</th>\n",
       "      <td>0.000</td>\n",
       "      <td>0.000</td>\n",
       "      <td>&lt;Pool:CollectedRecoveries&gt;</td>\n",
       "    </tr>\n",
       "    <tr>\n",
       "      <th>2029-03-31</th>\n",
       "      <td>208.400</td>\n",
       "      <td>208.400</td>\n",
       "      <td>&lt;Pool:CollectedPrepayment&gt;</td>\n",
       "    </tr>\n",
       "    <tr>\n",
       "      <th>2029-03-31</th>\n",
       "      <td>208.400</td>\n",
       "      <td>0.000</td>\n",
       "      <td>&lt;Pool:CollectedPrincipal&gt;</td>\n",
       "    </tr>\n",
       "    <tr>\n",
       "      <th>2029-03-31</th>\n",
       "      <td>0.000</td>\n",
       "      <td>-208.400</td>\n",
       "      <td>&lt;PayPrin:A1,B,C&gt;</td>\n",
       "    </tr>\n",
       "    <tr>\n",
       "      <th>2029-06-30</th>\n",
       "      <td>0.000</td>\n",
       "      <td>0.000</td>\n",
       "      <td>&lt;Pool:CollectedRecoveries&gt;</td>\n",
       "    </tr>\n",
       "    <tr>\n",
       "      <th>2029-06-30</th>\n",
       "      <td>204.210</td>\n",
       "      <td>204.210</td>\n",
       "      <td>&lt;Pool:CollectedPrepayment&gt;</td>\n",
       "    </tr>\n",
       "    <tr>\n",
       "      <th>2029-06-30</th>\n",
       "      <td>204.210</td>\n",
       "      <td>0.000</td>\n",
       "      <td>&lt;Pool:CollectedPrincipal&gt;</td>\n",
       "    </tr>\n",
       "    <tr>\n",
       "      <th>2029-06-30</th>\n",
       "      <td>0.000</td>\n",
       "      <td>-204.210</td>\n",
       "      <td>&lt;PayPrin:A1,B,C&gt;</td>\n",
       "    </tr>\n",
       "    <tr>\n",
       "      <th>2029-09-30</th>\n",
       "      <td>0.000</td>\n",
       "      <td>0.000</td>\n",
       "      <td>&lt;Pool:CollectedRecoveries&gt;</td>\n",
       "    </tr>\n",
       "    <tr>\n",
       "      <th>2029-09-30</th>\n",
       "      <td>195.810</td>\n",
       "      <td>195.810</td>\n",
       "      <td>&lt;Pool:CollectedPrepayment&gt;</td>\n",
       "    </tr>\n",
       "    <tr>\n",
       "      <th>2029-09-30</th>\n",
       "      <td>195.810</td>\n",
       "      <td>0.000</td>\n",
       "      <td>&lt;Pool:CollectedPrincipal&gt;</td>\n",
       "    </tr>\n",
       "    <tr>\n",
       "      <th>2029-09-30</th>\n",
       "      <td>0.000</td>\n",
       "      <td>-195.810</td>\n",
       "      <td>&lt;PayPrin:A1,B,C&gt;</td>\n",
       "    </tr>\n",
       "    <tr>\n",
       "      <th>2029-12-31</th>\n",
       "      <td>0.000</td>\n",
       "      <td>0.000</td>\n",
       "      <td>&lt;Pool:CollectedRecoveries&gt;</td>\n",
       "    </tr>\n",
       "    <tr>\n",
       "      <th>2029-12-31</th>\n",
       "      <td>185.780</td>\n",
       "      <td>185.780</td>\n",
       "      <td>&lt;Pool:CollectedPrepayment&gt;</td>\n",
       "    </tr>\n",
       "    <tr>\n",
       "      <th>2029-12-31</th>\n",
       "      <td>185.780</td>\n",
       "      <td>0.000</td>\n",
       "      <td>&lt;Pool:CollectedPrincipal&gt;</td>\n",
       "    </tr>\n",
       "    <tr>\n",
       "      <th>2029-12-31</th>\n",
       "      <td>0.000</td>\n",
       "      <td>-185.780</td>\n",
       "      <td>&lt;PayPrin:A1,B,C&gt;</td>\n",
       "    </tr>\n",
       "    <tr>\n",
       "      <th>2030-03-31</th>\n",
       "      <td>0.000</td>\n",
       "      <td>0.000</td>\n",
       "      <td>&lt;Pool:CollectedRecoveries&gt;</td>\n",
       "    </tr>\n",
       "    <tr>\n",
       "      <th>2030-03-31</th>\n",
       "      <td>176.160</td>\n",
       "      <td>176.160</td>\n",
       "      <td>&lt;Pool:CollectedPrepayment&gt;</td>\n",
       "    </tr>\n",
       "    <tr>\n",
       "      <th>2030-03-31</th>\n",
       "      <td>176.160</td>\n",
       "      <td>0.000</td>\n",
       "      <td>&lt;Pool:CollectedPrincipal&gt;</td>\n",
       "    </tr>\n",
       "    <tr>\n",
       "      <th>2030-03-31</th>\n",
       "      <td>0.000</td>\n",
       "      <td>-176.160</td>\n",
       "      <td>&lt;PayPrin:A1,B,C&gt;</td>\n",
       "    </tr>\n",
       "    <tr>\n",
       "      <th>2030-06-30</th>\n",
       "      <td>0.000</td>\n",
       "      <td>0.000</td>\n",
       "      <td>&lt;Pool:CollectedRecoveries&gt;</td>\n",
       "    </tr>\n",
       "    <tr>\n",
       "      <th>2030-06-30</th>\n",
       "      <td>172.620</td>\n",
       "      <td>172.620</td>\n",
       "      <td>&lt;Pool:CollectedPrepayment&gt;</td>\n",
       "    </tr>\n",
       "    <tr>\n",
       "      <th>2030-06-30</th>\n",
       "      <td>172.620</td>\n",
       "      <td>0.000</td>\n",
       "      <td>&lt;Pool:CollectedPrincipal&gt;</td>\n",
       "    </tr>\n",
       "    <tr>\n",
       "      <th>2030-06-30</th>\n",
       "      <td>0.000</td>\n",
       "      <td>-172.620</td>\n",
       "      <td>&lt;PayPrin:A1,B,C&gt;</td>\n",
       "    </tr>\n",
       "    <tr>\n",
       "      <th>2030-09-30</th>\n",
       "      <td>0.000</td>\n",
       "      <td>0.000</td>\n",
       "      <td>&lt;Pool:CollectedRecoveries&gt;</td>\n",
       "    </tr>\n",
       "    <tr>\n",
       "      <th>2030-09-30</th>\n",
       "      <td>165.520</td>\n",
       "      <td>165.520</td>\n",
       "      <td>&lt;Pool:CollectedPrepayment&gt;</td>\n",
       "    </tr>\n",
       "    <tr>\n",
       "      <th>2030-09-30</th>\n",
       "      <td>165.520</td>\n",
       "      <td>0.000</td>\n",
       "      <td>&lt;Pool:CollectedPrincipal&gt;</td>\n",
       "    </tr>\n",
       "    <tr>\n",
       "      <th>2030-09-30</th>\n",
       "      <td>0.000</td>\n",
       "      <td>-165.520</td>\n",
       "      <td>&lt;PayPrin:A1,B,C&gt;</td>\n",
       "    </tr>\n",
       "    <tr>\n",
       "      <th>2030-12-31</th>\n",
       "      <td>0.000</td>\n",
       "      <td>0.000</td>\n",
       "      <td>&lt;Pool:CollectedRecoveries&gt;</td>\n",
       "    </tr>\n",
       "    <tr>\n",
       "      <th>2030-12-31</th>\n",
       "      <td>157.050</td>\n",
       "      <td>157.050</td>\n",
       "      <td>&lt;Pool:CollectedPrepayment&gt;</td>\n",
       "    </tr>\n",
       "    <tr>\n",
       "      <th>2030-12-31</th>\n",
       "      <td>157.050</td>\n",
       "      <td>0.000</td>\n",
       "      <td>&lt;Pool:CollectedPrincipal&gt;</td>\n",
       "    </tr>\n",
       "    <tr>\n",
       "      <th>2030-12-31</th>\n",
       "      <td>0.000</td>\n",
       "      <td>-157.050</td>\n",
       "      <td>&lt;PayPrin:A1,B,C&gt;</td>\n",
       "    </tr>\n",
       "    <tr>\n",
       "      <th>2031-03-31</th>\n",
       "      <td>0.000</td>\n",
       "      <td>0.000</td>\n",
       "      <td>&lt;Pool:CollectedRecoveries&gt;</td>\n",
       "    </tr>\n",
       "    <tr>\n",
       "      <th>2031-03-31</th>\n",
       "      <td>148.920</td>\n",
       "      <td>148.920</td>\n",
       "      <td>&lt;Pool:CollectedPrepayment&gt;</td>\n",
       "    </tr>\n",
       "    <tr>\n",
       "      <th>2031-03-31</th>\n",
       "      <td>292.450</td>\n",
       "      <td>143.530</td>\n",
       "      <td>&lt;Pool:CollectedPrincipal&gt;</td>\n",
       "    </tr>\n",
       "    <tr>\n",
       "      <th>2031-03-31</th>\n",
       "      <td>0.000</td>\n",
       "      <td>-292.450</td>\n",
       "      <td>&lt;PayPrin:A1,B,C&gt;</td>\n",
       "    </tr>\n",
       "    <tr>\n",
       "      <th>2031-06-30</th>\n",
       "      <td>0.000</td>\n",
       "      <td>0.000</td>\n",
       "      <td>&lt;Pool:CollectedRecoveries&gt;</td>\n",
       "    </tr>\n",
       "    <tr>\n",
       "      <th>2031-06-30</th>\n",
       "      <td>140.240</td>\n",
       "      <td>140.240</td>\n",
       "      <td>&lt;Pool:CollectedPrepayment&gt;</td>\n",
       "    </tr>\n",
       "    <tr>\n",
       "      <th>2031-06-30</th>\n",
       "      <td>140.240</td>\n",
       "      <td>0.000</td>\n",
       "      <td>&lt;Pool:CollectedPrincipal&gt;</td>\n",
       "    </tr>\n",
       "    <tr>\n",
       "      <th>2031-06-30</th>\n",
       "      <td>0.000</td>\n",
       "      <td>-140.240</td>\n",
       "      <td>&lt;PayPrin:A1,B,C&gt;</td>\n",
       "    </tr>\n",
       "    <tr>\n",
       "      <th>2031-09-30</th>\n",
       "      <td>0.000</td>\n",
       "      <td>0.000</td>\n",
       "      <td>&lt;Pool:CollectedRecoveries&gt;</td>\n",
       "    </tr>\n",
       "    <tr>\n",
       "      <th>2031-09-30</th>\n",
       "      <td>134.430</td>\n",
       "      <td>134.430</td>\n",
       "      <td>&lt;Pool:CollectedPrepayment&gt;</td>\n",
       "    </tr>\n",
       "    <tr>\n",
       "      <th>2031-09-30</th>\n",
       "      <td>134.430</td>\n",
       "      <td>0.000</td>\n",
       "      <td>&lt;Pool:CollectedPrincipal&gt;</td>\n",
       "    </tr>\n",
       "    <tr>\n",
       "      <th>2031-09-30</th>\n",
       "      <td>0.000</td>\n",
       "      <td>-134.430</td>\n",
       "      <td>&lt;PayPrin:A1,B,C&gt;</td>\n",
       "    </tr>\n",
       "    <tr>\n",
       "      <th>2031-12-31</th>\n",
       "      <td>0.000</td>\n",
       "      <td>0.000</td>\n",
       "      <td>&lt;Pool:CollectedRecoveries&gt;</td>\n",
       "    </tr>\n",
       "    <tr>\n",
       "      <th>2031-12-31</th>\n",
       "      <td>127.480</td>\n",
       "      <td>127.480</td>\n",
       "      <td>&lt;Pool:CollectedPrepayment&gt;</td>\n",
       "    </tr>\n",
       "    <tr>\n",
       "      <th>2031-12-31</th>\n",
       "      <td>3,210.590</td>\n",
       "      <td>3,083.110</td>\n",
       "      <td>&lt;Pool:CollectedPrincipal&gt;</td>\n",
       "    </tr>\n",
       "  </tbody>\n",
       "</table>\n",
       "</div>"
      ],
      "text/plain": [
       "             balance    change                           memo\n",
       "date                                                         \n",
       "2024-11-15     0.000     0.000     <Pool:CollectedRecoveries>\n",
       "2024-11-15     0.000     0.000     <Pool:CollectedPrepayment>\n",
       "2024-11-15     0.000     0.000      <Pool:CollectedPrincipal>\n",
       "2024-12-15     0.000     0.000    <PurchaseAsset:Consol,0.00>\n",
       "2024-12-15     0.000     0.000               <PayPrin:A1,B,C>\n",
       "2024-12-31     0.000     0.000     <Pool:CollectedRecoveries>\n",
       "2024-12-31     0.000     0.000     <Pool:CollectedPrepayment>\n",
       "2024-12-31     0.000     0.000      <Pool:CollectedPrincipal>\n",
       "2024-12-31     0.000     0.000    <PurchaseAsset:Consol,0.00>\n",
       "2024-12-31     0.000     0.000               <PayPrin:A1,B,C>\n",
       "2025-03-31     0.000     0.000     <Pool:CollectedRecoveries>\n",
       "2025-03-31   392.270   392.270     <Pool:CollectedPrepayment>\n",
       "2025-03-31   392.270     0.000      <Pool:CollectedPrincipal>\n",
       "2025-03-31     0.000  -392.270  <PurchaseAsset:Consol,392.27>\n",
       "2025-03-31     0.000     0.000               <PayPrin:A1,B,C>\n",
       "2025-06-30     0.000     0.000     <Pool:CollectedRecoveries>\n",
       "2025-06-30   400.080   400.080     <Pool:CollectedPrepayment>\n",
       "2025-06-30   400.080     0.000      <Pool:CollectedPrincipal>\n",
       "2025-06-30     0.000  -400.080               <PayPrin:A1,B,C>\n",
       "2025-09-30     0.000     0.000     <Pool:CollectedRecoveries>\n",
       "2025-09-30   383.660   383.660     <Pool:CollectedPrepayment>\n",
       "2025-09-30   383.660     0.000      <Pool:CollectedPrincipal>\n",
       "2025-09-30     0.000  -383.660               <PayPrin:A1,B,C>\n",
       "2025-12-31     0.000     0.000     <Pool:CollectedRecoveries>\n",
       "2025-12-31   363.990   363.990     <Pool:CollectedPrepayment>\n",
       "2025-12-31   363.990     0.000      <Pool:CollectedPrincipal>\n",
       "2025-12-31     0.000  -363.990               <PayPrin:A1,B,C>\n",
       "2026-03-31     0.000     0.000     <Pool:CollectedRecoveries>\n",
       "2026-03-31   345.160   345.160     <Pool:CollectedPrepayment>\n",
       "2026-03-31   345.160     0.000      <Pool:CollectedPrincipal>\n",
       "2026-03-31     0.000  -345.160               <PayPrin:A1,B,C>\n",
       "2026-06-30     0.000     0.000     <Pool:CollectedRecoveries>\n",
       "2026-06-30   338.190   338.190     <Pool:CollectedPrepayment>\n",
       "2026-06-30   338.190     0.000      <Pool:CollectedPrincipal>\n",
       "2026-06-30     0.000  -338.190               <PayPrin:A1,B,C>\n",
       "2026-09-30     0.000     0.000     <Pool:CollectedRecoveries>\n",
       "2026-09-30   324.320   324.320     <Pool:CollectedPrepayment>\n",
       "2026-09-30   324.320     0.000      <Pool:CollectedPrincipal>\n",
       "2026-09-30     0.000  -324.320               <PayPrin:A1,B,C>\n",
       "2026-12-31     0.000     0.000     <Pool:CollectedRecoveries>\n",
       "2026-12-31   307.690   307.690     <Pool:CollectedPrepayment>\n",
       "2026-12-31   307.690     0.000      <Pool:CollectedPrincipal>\n",
       "2026-12-31     0.000  -307.690               <PayPrin:A1,B,C>\n",
       "2027-03-31     0.000     0.000     <Pool:CollectedRecoveries>\n",
       "2027-03-31   291.760   291.760     <Pool:CollectedPrepayment>\n",
       "2027-03-31   291.760     0.000      <Pool:CollectedPrincipal>\n",
       "2027-03-31     0.000  -291.760               <PayPrin:A1,B,C>\n",
       "2027-06-30     0.000     0.000     <Pool:CollectedRecoveries>\n",
       "2027-06-30   285.900   285.900     <Pool:CollectedPrepayment>\n",
       "2027-06-30   285.900     0.000      <Pool:CollectedPrincipal>\n",
       "2027-06-30     0.000  -285.900               <PayPrin:A1,B,C>\n",
       "2027-09-30     0.000     0.000     <Pool:CollectedRecoveries>\n",
       "2027-09-30   274.150   274.150     <Pool:CollectedPrepayment>\n",
       "2027-09-30   274.150     0.000      <Pool:CollectedPrincipal>\n",
       "2027-09-30     0.000  -274.150               <PayPrin:A1,B,C>\n",
       "2027-12-31     0.000     0.000     <Pool:CollectedRecoveries>\n",
       "2027-12-31   260.110   260.110     <Pool:CollectedPrepayment>\n",
       "2027-12-31   260.110     0.000      <Pool:CollectedPrincipal>\n",
       "2027-12-31     0.000  -260.110               <PayPrin:A1,B,C>\n",
       "2028-03-31     0.000     0.000     <Pool:CollectedRecoveries>\n",
       "2028-03-31   249.320   249.320     <Pool:CollectedPrepayment>\n",
       "2028-03-31   249.320     0.000      <Pool:CollectedPrincipal>\n",
       "2028-03-31     0.000  -249.320               <PayPrin:A1,B,C>\n",
       "2028-06-30     0.000     0.000     <Pool:CollectedRecoveries>\n",
       "2028-06-30   241.560   241.560     <Pool:CollectedPrepayment>\n",
       "2028-06-30   241.560     0.000      <Pool:CollectedPrincipal>\n",
       "2028-06-30     0.000  -241.560               <PayPrin:A1,B,C>\n",
       "2028-09-30     0.000     0.000     <Pool:CollectedRecoveries>\n",
       "2028-09-30   231.650   231.650     <Pool:CollectedPrepayment>\n",
       "2028-09-30   231.650     0.000      <Pool:CollectedPrincipal>\n",
       "2028-09-30     0.000  -231.650               <PayPrin:A1,B,C>\n",
       "2028-12-31     0.000     0.000     <Pool:CollectedRecoveries>\n",
       "2028-12-31   219.770   219.770     <Pool:CollectedPrepayment>\n",
       "2028-12-31   219.770     0.000      <Pool:CollectedPrincipal>\n",
       "2028-12-31     0.000  -219.770               <PayPrin:A1,B,C>\n",
       "2029-03-31     0.000     0.000     <Pool:CollectedRecoveries>\n",
       "2029-03-31   208.400   208.400     <Pool:CollectedPrepayment>\n",
       "2029-03-31   208.400     0.000      <Pool:CollectedPrincipal>\n",
       "2029-03-31     0.000  -208.400               <PayPrin:A1,B,C>\n",
       "2029-06-30     0.000     0.000     <Pool:CollectedRecoveries>\n",
       "2029-06-30   204.210   204.210     <Pool:CollectedPrepayment>\n",
       "2029-06-30   204.210     0.000      <Pool:CollectedPrincipal>\n",
       "2029-06-30     0.000  -204.210               <PayPrin:A1,B,C>\n",
       "2029-09-30     0.000     0.000     <Pool:CollectedRecoveries>\n",
       "2029-09-30   195.810   195.810     <Pool:CollectedPrepayment>\n",
       "2029-09-30   195.810     0.000      <Pool:CollectedPrincipal>\n",
       "2029-09-30     0.000  -195.810               <PayPrin:A1,B,C>\n",
       "2029-12-31     0.000     0.000     <Pool:CollectedRecoveries>\n",
       "2029-12-31   185.780   185.780     <Pool:CollectedPrepayment>\n",
       "2029-12-31   185.780     0.000      <Pool:CollectedPrincipal>\n",
       "2029-12-31     0.000  -185.780               <PayPrin:A1,B,C>\n",
       "2030-03-31     0.000     0.000     <Pool:CollectedRecoveries>\n",
       "2030-03-31   176.160   176.160     <Pool:CollectedPrepayment>\n",
       "2030-03-31   176.160     0.000      <Pool:CollectedPrincipal>\n",
       "2030-03-31     0.000  -176.160               <PayPrin:A1,B,C>\n",
       "2030-06-30     0.000     0.000     <Pool:CollectedRecoveries>\n",
       "2030-06-30   172.620   172.620     <Pool:CollectedPrepayment>\n",
       "2030-06-30   172.620     0.000      <Pool:CollectedPrincipal>\n",
       "2030-06-30     0.000  -172.620               <PayPrin:A1,B,C>\n",
       "2030-09-30     0.000     0.000     <Pool:CollectedRecoveries>\n",
       "2030-09-30   165.520   165.520     <Pool:CollectedPrepayment>\n",
       "2030-09-30   165.520     0.000      <Pool:CollectedPrincipal>\n",
       "2030-09-30     0.000  -165.520               <PayPrin:A1,B,C>\n",
       "2030-12-31     0.000     0.000     <Pool:CollectedRecoveries>\n",
       "2030-12-31   157.050   157.050     <Pool:CollectedPrepayment>\n",
       "2030-12-31   157.050     0.000      <Pool:CollectedPrincipal>\n",
       "2030-12-31     0.000  -157.050               <PayPrin:A1,B,C>\n",
       "2031-03-31     0.000     0.000     <Pool:CollectedRecoveries>\n",
       "2031-03-31   148.920   148.920     <Pool:CollectedPrepayment>\n",
       "2031-03-31   292.450   143.530      <Pool:CollectedPrincipal>\n",
       "2031-03-31     0.000  -292.450               <PayPrin:A1,B,C>\n",
       "2031-06-30     0.000     0.000     <Pool:CollectedRecoveries>\n",
       "2031-06-30   140.240   140.240     <Pool:CollectedPrepayment>\n",
       "2031-06-30   140.240     0.000      <Pool:CollectedPrincipal>\n",
       "2031-06-30     0.000  -140.240               <PayPrin:A1,B,C>\n",
       "2031-09-30     0.000     0.000     <Pool:CollectedRecoveries>\n",
       "2031-09-30   134.430   134.430     <Pool:CollectedPrepayment>\n",
       "2031-09-30   134.430     0.000      <Pool:CollectedPrincipal>\n",
       "2031-09-30     0.000  -134.430               <PayPrin:A1,B,C>\n",
       "2031-12-31     0.000     0.000     <Pool:CollectedRecoveries>\n",
       "2031-12-31   127.480   127.480     <Pool:CollectedPrepayment>\n",
       "2031-12-31 3,210.590 3,083.110      <Pool:CollectedPrincipal>"
      ]
     },
     "execution_count": 38,
     "metadata": {},
     "output_type": "execute_result"
    }
   ],
   "source": [
    "r0['accounts']['acc02']"
   ]
  },
  {
   "cell_type": "code",
   "execution_count": 37,
   "id": "98ced894",
   "metadata": {},
   "outputs": [
    {
     "data": {
      "text/plain": [
       "2.7330174876332474"
      ]
     },
     "execution_count": 37,
     "metadata": {},
     "output_type": "execute_result"
    }
   ],
   "source": [
    "392.27 / 143.530"
   ]
  },
  {
   "cell_type": "code",
   "execution_count": 43,
   "id": "a1d9b3fa",
   "metadata": {},
   "outputs": [
    {
     "data": {
      "text/html": [
       "<div>\n",
       "<style scoped>\n",
       "    .dataframe tbody tr th:only-of-type {\n",
       "        vertical-align: middle;\n",
       "    }\n",
       "\n",
       "    .dataframe tbody tr th {\n",
       "        vertical-align: top;\n",
       "    }\n",
       "\n",
       "    .dataframe thead th {\n",
       "        text-align: right;\n",
       "    }\n",
       "</style>\n",
       "<table border=\"1\" class=\"dataframe\">\n",
       "  <thead>\n",
       "    <tr style=\"text-align: right;\">\n",
       "      <th></th>\n",
       "      <th>Balance</th>\n",
       "      <th>Principal</th>\n",
       "      <th>Interest</th>\n",
       "      <th>Prepayment</th>\n",
       "      <th>Default</th>\n",
       "      <th>Recovery</th>\n",
       "      <th>Loss</th>\n",
       "      <th>WAC</th>\n",
       "      <th>CumPrincipal</th>\n",
       "      <th>CumPrepay</th>\n",
       "      <th>CumDelinq</th>\n",
       "      <th>CumDefault</th>\n",
       "      <th>CumRecovery</th>\n",
       "      <th>CumLoss</th>\n",
       "    </tr>\n",
       "    <tr>\n",
       "      <th>Date</th>\n",
       "      <th></th>\n",
       "      <th></th>\n",
       "      <th></th>\n",
       "      <th></th>\n",
       "      <th></th>\n",
       "      <th></th>\n",
       "      <th></th>\n",
       "      <th></th>\n",
       "      <th></th>\n",
       "      <th></th>\n",
       "      <th></th>\n",
       "      <th></th>\n",
       "      <th></th>\n",
       "      <th></th>\n",
       "    </tr>\n",
       "  </thead>\n",
       "  <tbody>\n",
       "    <tr>\n",
       "      <th>2024-11-15</th>\n",
       "      <td>10,000.000</td>\n",
       "      <td>0.000</td>\n",
       "      <td>0.000</td>\n",
       "      <td>0.000</td>\n",
       "      <td>0.000</td>\n",
       "      <td>0</td>\n",
       "      <td>0.000</td>\n",
       "      <td>0.080</td>\n",
       "      <td>0.000</td>\n",
       "      <td>0.000</td>\n",
       "      <td>0</td>\n",
       "      <td>0.000</td>\n",
       "      <td>0</td>\n",
       "      <td>0.000</td>\n",
       "    </tr>\n",
       "    <tr>\n",
       "      <th>2024-12-31</th>\n",
       "      <td>10,000.000</td>\n",
       "      <td>0.000</td>\n",
       "      <td>0.000</td>\n",
       "      <td>0.000</td>\n",
       "      <td>0.000</td>\n",
       "      <td>0</td>\n",
       "      <td>0.000</td>\n",
       "      <td>0.080</td>\n",
       "      <td>0.000</td>\n",
       "      <td>0.000</td>\n",
       "      <td>0</td>\n",
       "      <td>0.000</td>\n",
       "      <td>0</td>\n",
       "      <td>0.000</td>\n",
       "    </tr>\n",
       "    <tr>\n",
       "      <th>2025-03-31</th>\n",
       "      <td>9,594.150</td>\n",
       "      <td>0.000</td>\n",
       "      <td>189.250</td>\n",
       "      <td>392.270</td>\n",
       "      <td>13.580</td>\n",
       "      <td>0</td>\n",
       "      <td>13.580</td>\n",
       "      <td>0.080</td>\n",
       "      <td>0.000</td>\n",
       "      <td>392.270</td>\n",
       "      <td>0</td>\n",
       "      <td>13.580</td>\n",
       "      <td>0</td>\n",
       "      <td>13.580</td>\n",
       "    </tr>\n",
       "    <tr>\n",
       "      <th>2025-06-30</th>\n",
       "      <td>9,588.570</td>\n",
       "      <td>0.000</td>\n",
       "      <td>188.340</td>\n",
       "      <td>384.530</td>\n",
       "      <td>13.320</td>\n",
       "      <td>0</td>\n",
       "      <td>13.320</td>\n",
       "      <td>0.053</td>\n",
       "      <td>0.000</td>\n",
       "      <td>776.800</td>\n",
       "      <td>0</td>\n",
       "      <td>26.900</td>\n",
       "      <td>0</td>\n",
       "      <td>26.900</td>\n",
       "    </tr>\n",
       "    <tr>\n",
       "      <th>2025-09-30</th>\n",
       "      <td>9,207.210</td>\n",
       "      <td>0.000</td>\n",
       "      <td>180.680</td>\n",
       "      <td>368.590</td>\n",
       "      <td>12.770</td>\n",
       "      <td>0</td>\n",
       "      <td>12.770</td>\n",
       "      <td>0.053</td>\n",
       "      <td>0.000</td>\n",
       "      <td>1,145.390</td>\n",
       "      <td>0</td>\n",
       "      <td>39.670</td>\n",
       "      <td>0</td>\n",
       "      <td>39.670</td>\n",
       "    </tr>\n",
       "    <tr>\n",
       "      <th>2025-12-31</th>\n",
       "      <td>8,845.560</td>\n",
       "      <td>0.000</td>\n",
       "      <td>171.540</td>\n",
       "      <td>349.540</td>\n",
       "      <td>12.110</td>\n",
       "      <td>0</td>\n",
       "      <td>12.110</td>\n",
       "      <td>0.053</td>\n",
       "      <td>0.000</td>\n",
       "      <td>1,494.930</td>\n",
       "      <td>0</td>\n",
       "      <td>51.780</td>\n",
       "      <td>0</td>\n",
       "      <td>51.780</td>\n",
       "    </tr>\n",
       "    <tr>\n",
       "      <th>2026-03-31</th>\n",
       "      <td>8,502.480</td>\n",
       "      <td>0.000</td>\n",
       "      <td>162.860</td>\n",
       "      <td>331.600</td>\n",
       "      <td>11.480</td>\n",
       "      <td>0</td>\n",
       "      <td>11.480</td>\n",
       "      <td>0.053</td>\n",
       "      <td>0.000</td>\n",
       "      <td>1,826.530</td>\n",
       "      <td>0</td>\n",
       "      <td>63.260</td>\n",
       "      <td>0</td>\n",
       "      <td>63.260</td>\n",
       "    </tr>\n",
       "    <tr>\n",
       "      <th>2026-06-30</th>\n",
       "      <td>8,166.170</td>\n",
       "      <td>0.000</td>\n",
       "      <td>159.660</td>\n",
       "      <td>325.050</td>\n",
       "      <td>11.260</td>\n",
       "      <td>0</td>\n",
       "      <td>11.260</td>\n",
       "      <td>0.053</td>\n",
       "      <td>0.000</td>\n",
       "      <td>2,151.580</td>\n",
       "      <td>0</td>\n",
       "      <td>74.520</td>\n",
       "      <td>0</td>\n",
       "      <td>74.520</td>\n",
       "    </tr>\n",
       "    <tr>\n",
       "      <th>2026-09-30</th>\n",
       "      <td>7,843.800</td>\n",
       "      <td>0.000</td>\n",
       "      <td>153.190</td>\n",
       "      <td>311.580</td>\n",
       "      <td>10.790</td>\n",
       "      <td>0</td>\n",
       "      <td>10.790</td>\n",
       "      <td>0.053</td>\n",
       "      <td>0.000</td>\n",
       "      <td>2,463.160</td>\n",
       "      <td>0</td>\n",
       "      <td>85.310</td>\n",
       "      <td>0</td>\n",
       "      <td>85.310</td>\n",
       "    </tr>\n",
       "    <tr>\n",
       "      <th>2026-12-31</th>\n",
       "      <td>7,538.090</td>\n",
       "      <td>0.000</td>\n",
       "      <td>145.460</td>\n",
       "      <td>295.480</td>\n",
       "      <td>10.230</td>\n",
       "      <td>0</td>\n",
       "      <td>10.230</td>\n",
       "      <td>0.053</td>\n",
       "      <td>0.000</td>\n",
       "      <td>2,758.640</td>\n",
       "      <td>0</td>\n",
       "      <td>95.540</td>\n",
       "      <td>0</td>\n",
       "      <td>95.540</td>\n",
       "    </tr>\n",
       "    <tr>\n",
       "      <th>2027-03-31</th>\n",
       "      <td>7,248.070</td>\n",
       "      <td>0.000</td>\n",
       "      <td>138.110</td>\n",
       "      <td>280.310</td>\n",
       "      <td>9.710</td>\n",
       "      <td>0</td>\n",
       "      <td>9.710</td>\n",
       "      <td>0.053</td>\n",
       "      <td>0.000</td>\n",
       "      <td>3,038.950</td>\n",
       "      <td>0</td>\n",
       "      <td>105.250</td>\n",
       "      <td>0</td>\n",
       "      <td>105.250</td>\n",
       "    </tr>\n",
       "    <tr>\n",
       "      <th>2027-06-30</th>\n",
       "      <td>6,963.770</td>\n",
       "      <td>0.000</td>\n",
       "      <td>135.420</td>\n",
       "      <td>274.780</td>\n",
       "      <td>9.520</td>\n",
       "      <td>0</td>\n",
       "      <td>9.520</td>\n",
       "      <td>0.053</td>\n",
       "      <td>0.000</td>\n",
       "      <td>3,313.730</td>\n",
       "      <td>0</td>\n",
       "      <td>114.770</td>\n",
       "      <td>0</td>\n",
       "      <td>114.770</td>\n",
       "    </tr>\n",
       "    <tr>\n",
       "      <th>2027-09-30</th>\n",
       "      <td>6,691.270</td>\n",
       "      <td>0.000</td>\n",
       "      <td>129.950</td>\n",
       "      <td>263.380</td>\n",
       "      <td>9.120</td>\n",
       "      <td>0</td>\n",
       "      <td>9.120</td>\n",
       "      <td>0.053</td>\n",
       "      <td>0.000</td>\n",
       "      <td>3,577.110</td>\n",
       "      <td>0</td>\n",
       "      <td>123.890</td>\n",
       "      <td>0</td>\n",
       "      <td>123.890</td>\n",
       "    </tr>\n",
       "    <tr>\n",
       "      <th>2027-12-31</th>\n",
       "      <td>6,432.840</td>\n",
       "      <td>0.000</td>\n",
       "      <td>123.420</td>\n",
       "      <td>249.780</td>\n",
       "      <td>8.650</td>\n",
       "      <td>0</td>\n",
       "      <td>8.650</td>\n",
       "      <td>0.053</td>\n",
       "      <td>0.000</td>\n",
       "      <td>3,826.890</td>\n",
       "      <td>0</td>\n",
       "      <td>132.540</td>\n",
       "      <td>0</td>\n",
       "      <td>132.540</td>\n",
       "    </tr>\n",
       "    <tr>\n",
       "      <th>2028-03-31</th>\n",
       "      <td>6,185.010</td>\n",
       "      <td>0.000</td>\n",
       "      <td>118.440</td>\n",
       "      <td>239.530</td>\n",
       "      <td>8.300</td>\n",
       "      <td>0</td>\n",
       "      <td>8.300</td>\n",
       "      <td>0.053</td>\n",
       "      <td>0.000</td>\n",
       "      <td>4,066.420</td>\n",
       "      <td>0</td>\n",
       "      <td>140.840</td>\n",
       "      <td>0</td>\n",
       "      <td>140.840</td>\n",
       "    </tr>\n",
       "    <tr>\n",
       "      <th>2028-06-30</th>\n",
       "      <td>5,944.800</td>\n",
       "      <td>0.000</td>\n",
       "      <td>114.870</td>\n",
       "      <td>232.170</td>\n",
       "      <td>8.040</td>\n",
       "      <td>0</td>\n",
       "      <td>8.040</td>\n",
       "      <td>0.053</td>\n",
       "      <td>0.000</td>\n",
       "      <td>4,298.590</td>\n",
       "      <td>0</td>\n",
       "      <td>148.880</td>\n",
       "      <td>0</td>\n",
       "      <td>148.880</td>\n",
       "    </tr>\n",
       "    <tr>\n",
       "      <th>2028-09-30</th>\n",
       "      <td>5,714.550</td>\n",
       "      <td>0.000</td>\n",
       "      <td>110.260</td>\n",
       "      <td>222.540</td>\n",
       "      <td>7.710</td>\n",
       "      <td>0</td>\n",
       "      <td>7.710</td>\n",
       "      <td>0.053</td>\n",
       "      <td>0.000</td>\n",
       "      <td>4,521.130</td>\n",
       "      <td>0</td>\n",
       "      <td>156.590</td>\n",
       "      <td>0</td>\n",
       "      <td>156.590</td>\n",
       "    </tr>\n",
       "    <tr>\n",
       "      <th>2028-12-31</th>\n",
       "      <td>5,496.200</td>\n",
       "      <td>0.000</td>\n",
       "      <td>104.730</td>\n",
       "      <td>211.040</td>\n",
       "      <td>7.310</td>\n",
       "      <td>0</td>\n",
       "      <td>7.310</td>\n",
       "      <td>0.053</td>\n",
       "      <td>0.000</td>\n",
       "      <td>4,732.170</td>\n",
       "      <td>0</td>\n",
       "      <td>163.900</td>\n",
       "      <td>0</td>\n",
       "      <td>163.900</td>\n",
       "    </tr>\n",
       "    <tr>\n",
       "      <th>2029-03-31</th>\n",
       "      <td>5,289.060</td>\n",
       "      <td>0.000</td>\n",
       "      <td>99.470</td>\n",
       "      <td>200.210</td>\n",
       "      <td>6.930</td>\n",
       "      <td>0</td>\n",
       "      <td>6.930</td>\n",
       "      <td>0.053</td>\n",
       "      <td>0.000</td>\n",
       "      <td>4,932.380</td>\n",
       "      <td>0</td>\n",
       "      <td>170.830</td>\n",
       "      <td>0</td>\n",
       "      <td>170.830</td>\n",
       "    </tr>\n",
       "    <tr>\n",
       "      <th>2029-06-30</th>\n",
       "      <td>5,086.000</td>\n",
       "      <td>0.000</td>\n",
       "      <td>97.550</td>\n",
       "      <td>196.260</td>\n",
       "      <td>6.800</td>\n",
       "      <td>0</td>\n",
       "      <td>6.800</td>\n",
       "      <td>0.053</td>\n",
       "      <td>0.000</td>\n",
       "      <td>5,128.640</td>\n",
       "      <td>0</td>\n",
       "      <td>177.630</td>\n",
       "      <td>0</td>\n",
       "      <td>177.630</td>\n",
       "    </tr>\n",
       "    <tr>\n",
       "      <th>2029-09-30</th>\n",
       "      <td>4,891.360</td>\n",
       "      <td>0.000</td>\n",
       "      <td>93.660</td>\n",
       "      <td>188.120</td>\n",
       "      <td>6.520</td>\n",
       "      <td>0</td>\n",
       "      <td>6.520</td>\n",
       "      <td>0.053</td>\n",
       "      <td>0.000</td>\n",
       "      <td>5,316.760</td>\n",
       "      <td>0</td>\n",
       "      <td>184.150</td>\n",
       "      <td>0</td>\n",
       "      <td>184.150</td>\n",
       "    </tr>\n",
       "    <tr>\n",
       "      <th>2029-12-31</th>\n",
       "      <td>4,706.780</td>\n",
       "      <td>0.000</td>\n",
       "      <td>88.990</td>\n",
       "      <td>178.400</td>\n",
       "      <td>6.180</td>\n",
       "      <td>0</td>\n",
       "      <td>6.180</td>\n",
       "      <td>0.052</td>\n",
       "      <td>0.000</td>\n",
       "      <td>5,495.160</td>\n",
       "      <td>0</td>\n",
       "      <td>190.330</td>\n",
       "      <td>0</td>\n",
       "      <td>190.330</td>\n",
       "    </tr>\n",
       "    <tr>\n",
       "      <th>2030-03-31</th>\n",
       "      <td>4,531.680</td>\n",
       "      <td>0.000</td>\n",
       "      <td>84.530</td>\n",
       "      <td>169.240</td>\n",
       "      <td>5.860</td>\n",
       "      <td>0</td>\n",
       "      <td>5.860</td>\n",
       "      <td>0.052</td>\n",
       "      <td>0.000</td>\n",
       "      <td>5,664.400</td>\n",
       "      <td>0</td>\n",
       "      <td>196.190</td>\n",
       "      <td>0</td>\n",
       "      <td>196.190</td>\n",
       "    </tr>\n",
       "    <tr>\n",
       "      <th>2030-06-30</th>\n",
       "      <td>4,360.030</td>\n",
       "      <td>0.000</td>\n",
       "      <td>82.910</td>\n",
       "      <td>165.900</td>\n",
       "      <td>5.750</td>\n",
       "      <td>0</td>\n",
       "      <td>5.750</td>\n",
       "      <td>0.052</td>\n",
       "      <td>0.000</td>\n",
       "      <td>5,830.300</td>\n",
       "      <td>0</td>\n",
       "      <td>201.940</td>\n",
       "      <td>0</td>\n",
       "      <td>201.940</td>\n",
       "    </tr>\n",
       "    <tr>\n",
       "      <th>2030-09-30</th>\n",
       "      <td>4,195.500</td>\n",
       "      <td>0.000</td>\n",
       "      <td>79.620</td>\n",
       "      <td>159.020</td>\n",
       "      <td>5.510</td>\n",
       "      <td>0</td>\n",
       "      <td>5.510</td>\n",
       "      <td>0.052</td>\n",
       "      <td>0.000</td>\n",
       "      <td>5,989.320</td>\n",
       "      <td>0</td>\n",
       "      <td>207.450</td>\n",
       "      <td>0</td>\n",
       "      <td>207.450</td>\n",
       "    </tr>\n",
       "    <tr>\n",
       "      <th>2030-12-31</th>\n",
       "      <td>4,039.470</td>\n",
       "      <td>0.000</td>\n",
       "      <td>75.680</td>\n",
       "      <td>150.810</td>\n",
       "      <td>5.220</td>\n",
       "      <td>0</td>\n",
       "      <td>5.220</td>\n",
       "      <td>0.052</td>\n",
       "      <td>0.000</td>\n",
       "      <td>6,140.130</td>\n",
       "      <td>0</td>\n",
       "      <td>212.670</td>\n",
       "      <td>0</td>\n",
       "      <td>212.670</td>\n",
       "    </tr>\n",
       "    <tr>\n",
       "      <th>2031-03-31</th>\n",
       "      <td>3,499.180</td>\n",
       "      <td>392.270</td>\n",
       "      <td>71.900</td>\n",
       "      <td>143.070</td>\n",
       "      <td>4.950</td>\n",
       "      <td>0</td>\n",
       "      <td>4.950</td>\n",
       "      <td>0.053</td>\n",
       "      <td>392.270</td>\n",
       "      <td>6,283.200</td>\n",
       "      <td>0</td>\n",
       "      <td>217.620</td>\n",
       "      <td>0</td>\n",
       "      <td>217.620</td>\n",
       "    </tr>\n",
       "    <tr>\n",
       "      <th>2031-06-30</th>\n",
       "      <td>3,354.080</td>\n",
       "      <td>0.000</td>\n",
       "      <td>67.630</td>\n",
       "      <td>140.240</td>\n",
       "      <td>4.860</td>\n",
       "      <td>0</td>\n",
       "      <td>4.860</td>\n",
       "      <td>0.080</td>\n",
       "      <td>392.270</td>\n",
       "      <td>6,423.440</td>\n",
       "      <td>0</td>\n",
       "      <td>222.480</td>\n",
       "      <td>0</td>\n",
       "      <td>222.480</td>\n",
       "    </tr>\n",
       "    <tr>\n",
       "      <th>2031-09-30</th>\n",
       "      <td>3,215.000</td>\n",
       "      <td>0.000</td>\n",
       "      <td>64.820</td>\n",
       "      <td>134.430</td>\n",
       "      <td>4.650</td>\n",
       "      <td>0</td>\n",
       "      <td>4.650</td>\n",
       "      <td>0.080</td>\n",
       "      <td>392.270</td>\n",
       "      <td>6,557.870</td>\n",
       "      <td>0</td>\n",
       "      <td>227.130</td>\n",
       "      <td>0</td>\n",
       "      <td>227.130</td>\n",
       "    </tr>\n",
       "    <tr>\n",
       "      <th>2031-12-31</th>\n",
       "      <td>0.000</td>\n",
       "      <td>3,083.110</td>\n",
       "      <td>61.490</td>\n",
       "      <td>127.480</td>\n",
       "      <td>4.410</td>\n",
       "      <td>0</td>\n",
       "      <td>4.410</td>\n",
       "      <td>0.080</td>\n",
       "      <td>3,475.380</td>\n",
       "      <td>6,685.350</td>\n",
       "      <td>0</td>\n",
       "      <td>231.540</td>\n",
       "      <td>0</td>\n",
       "      <td>231.540</td>\n",
       "    </tr>\n",
       "  </tbody>\n",
       "</table>\n",
       "</div>"
      ],
      "text/plain": [
       "              Balance  Principal  Interest  Prepayment  Default  Recovery  \\\n",
       "Date                                                                        \n",
       "2024-11-15 10,000.000      0.000     0.000       0.000    0.000         0   \n",
       "2024-12-31 10,000.000      0.000     0.000       0.000    0.000         0   \n",
       "2025-03-31  9,594.150      0.000   189.250     392.270   13.580         0   \n",
       "2025-06-30  9,588.570      0.000   188.340     384.530   13.320         0   \n",
       "2025-09-30  9,207.210      0.000   180.680     368.590   12.770         0   \n",
       "2025-12-31  8,845.560      0.000   171.540     349.540   12.110         0   \n",
       "2026-03-31  8,502.480      0.000   162.860     331.600   11.480         0   \n",
       "2026-06-30  8,166.170      0.000   159.660     325.050   11.260         0   \n",
       "2026-09-30  7,843.800      0.000   153.190     311.580   10.790         0   \n",
       "2026-12-31  7,538.090      0.000   145.460     295.480   10.230         0   \n",
       "2027-03-31  7,248.070      0.000   138.110     280.310    9.710         0   \n",
       "2027-06-30  6,963.770      0.000   135.420     274.780    9.520         0   \n",
       "2027-09-30  6,691.270      0.000   129.950     263.380    9.120         0   \n",
       "2027-12-31  6,432.840      0.000   123.420     249.780    8.650         0   \n",
       "2028-03-31  6,185.010      0.000   118.440     239.530    8.300         0   \n",
       "2028-06-30  5,944.800      0.000   114.870     232.170    8.040         0   \n",
       "2028-09-30  5,714.550      0.000   110.260     222.540    7.710         0   \n",
       "2028-12-31  5,496.200      0.000   104.730     211.040    7.310         0   \n",
       "2029-03-31  5,289.060      0.000    99.470     200.210    6.930         0   \n",
       "2029-06-30  5,086.000      0.000    97.550     196.260    6.800         0   \n",
       "2029-09-30  4,891.360      0.000    93.660     188.120    6.520         0   \n",
       "2029-12-31  4,706.780      0.000    88.990     178.400    6.180         0   \n",
       "2030-03-31  4,531.680      0.000    84.530     169.240    5.860         0   \n",
       "2030-06-30  4,360.030      0.000    82.910     165.900    5.750         0   \n",
       "2030-09-30  4,195.500      0.000    79.620     159.020    5.510         0   \n",
       "2030-12-31  4,039.470      0.000    75.680     150.810    5.220         0   \n",
       "2031-03-31  3,499.180    392.270    71.900     143.070    4.950         0   \n",
       "2031-06-30  3,354.080      0.000    67.630     140.240    4.860         0   \n",
       "2031-09-30  3,215.000      0.000    64.820     134.430    4.650         0   \n",
       "2031-12-31      0.000  3,083.110    61.490     127.480    4.410         0   \n",
       "\n",
       "             Loss   WAC  CumPrincipal  CumPrepay  CumDelinq  CumDefault  \\\n",
       "Date                                                                      \n",
       "2024-11-15  0.000 0.080         0.000      0.000          0       0.000   \n",
       "2024-12-31  0.000 0.080         0.000      0.000          0       0.000   \n",
       "2025-03-31 13.580 0.080         0.000    392.270          0      13.580   \n",
       "2025-06-30 13.320 0.053         0.000    776.800          0      26.900   \n",
       "2025-09-30 12.770 0.053         0.000  1,145.390          0      39.670   \n",
       "2025-12-31 12.110 0.053         0.000  1,494.930          0      51.780   \n",
       "2026-03-31 11.480 0.053         0.000  1,826.530          0      63.260   \n",
       "2026-06-30 11.260 0.053         0.000  2,151.580          0      74.520   \n",
       "2026-09-30 10.790 0.053         0.000  2,463.160          0      85.310   \n",
       "2026-12-31 10.230 0.053         0.000  2,758.640          0      95.540   \n",
       "2027-03-31  9.710 0.053         0.000  3,038.950          0     105.250   \n",
       "2027-06-30  9.520 0.053         0.000  3,313.730          0     114.770   \n",
       "2027-09-30  9.120 0.053         0.000  3,577.110          0     123.890   \n",
       "2027-12-31  8.650 0.053         0.000  3,826.890          0     132.540   \n",
       "2028-03-31  8.300 0.053         0.000  4,066.420          0     140.840   \n",
       "2028-06-30  8.040 0.053         0.000  4,298.590          0     148.880   \n",
       "2028-09-30  7.710 0.053         0.000  4,521.130          0     156.590   \n",
       "2028-12-31  7.310 0.053         0.000  4,732.170          0     163.900   \n",
       "2029-03-31  6.930 0.053         0.000  4,932.380          0     170.830   \n",
       "2029-06-30  6.800 0.053         0.000  5,128.640          0     177.630   \n",
       "2029-09-30  6.520 0.053         0.000  5,316.760          0     184.150   \n",
       "2029-12-31  6.180 0.052         0.000  5,495.160          0     190.330   \n",
       "2030-03-31  5.860 0.052         0.000  5,664.400          0     196.190   \n",
       "2030-06-30  5.750 0.052         0.000  5,830.300          0     201.940   \n",
       "2030-09-30  5.510 0.052         0.000  5,989.320          0     207.450   \n",
       "2030-12-31  5.220 0.052         0.000  6,140.130          0     212.670   \n",
       "2031-03-31  4.950 0.053       392.270  6,283.200          0     217.620   \n",
       "2031-06-30  4.860 0.080       392.270  6,423.440          0     222.480   \n",
       "2031-09-30  4.650 0.080       392.270  6,557.870          0     227.130   \n",
       "2031-12-31  4.410 0.080     3,475.380  6,685.350          0     231.540   \n",
       "\n",
       "            CumRecovery  CumLoss  \n",
       "Date                              \n",
       "2024-11-15            0    0.000  \n",
       "2024-12-31            0    0.000  \n",
       "2025-03-31            0   13.580  \n",
       "2025-06-30            0   26.900  \n",
       "2025-09-30            0   39.670  \n",
       "2025-12-31            0   51.780  \n",
       "2026-03-31            0   63.260  \n",
       "2026-06-30            0   74.520  \n",
       "2026-09-30            0   85.310  \n",
       "2026-12-31            0   95.540  \n",
       "2027-03-31            0  105.250  \n",
       "2027-06-30            0  114.770  \n",
       "2027-09-30            0  123.890  \n",
       "2027-12-31            0  132.540  \n",
       "2028-03-31            0  140.840  \n",
       "2028-06-30            0  148.880  \n",
       "2028-09-30            0  156.590  \n",
       "2028-12-31            0  163.900  \n",
       "2029-03-31            0  170.830  \n",
       "2029-06-30            0  177.630  \n",
       "2029-09-30            0  184.150  \n",
       "2029-12-31            0  190.330  \n",
       "2030-03-31            0  196.190  \n",
       "2030-06-30            0  201.940  \n",
       "2030-09-30            0  207.450  \n",
       "2030-12-31            0  212.670  \n",
       "2031-03-31            0  217.620  \n",
       "2031-06-30            0  222.480  \n",
       "2031-09-30            0  227.130  \n",
       "2031-12-31            0  231.540  "
      ]
     },
     "execution_count": 43,
     "metadata": {},
     "output_type": "execute_result"
    }
   ],
   "source": [
    "r0['pool']['flow']"
   ]
  },
  {
   "cell_type": "code",
   "execution_count": 223,
   "id": "153fbffc-f806-4a5b-a2fa-d59f91b01611",
   "metadata": {},
   "outputs": [],
   "source": [
    "from pyxirr import xirr"
   ]
  },
  {
   "cell_type": "code",
   "execution_count": 224,
   "id": "6bb60d48-e75c-43e6-a6ac-7e9cbc8b4f6c",
   "metadata": {},
   "outputs": [
    {
     "data": {
      "text/plain": [
       "-0.0002718316372274642"
      ]
     },
     "execution_count": 224,
     "metadata": {},
     "output_type": "execute_result"
    }
   ],
   "source": [
    "dates = [\"2024-11-15\"]+r0['bonds']['B'].index.to_list()\n",
    "cash = [-510]+r0['bonds']['B'].cash.to_list()\n",
    "xirr(np.array([dates, cash]))"
   ]
  },
  {
   "cell_type": "code",
   "execution_count": 187,
   "id": "453bc54f-13a0-4cc4-891f-f9eeae240a40",
   "metadata": {},
   "outputs": [
    {
     "data": {
      "text/html": [
       "<div>\n",
       "<style scoped>\n",
       "    .dataframe tbody tr th:only-of-type {\n",
       "        vertical-align: middle;\n",
       "    }\n",
       "\n",
       "    .dataframe tbody tr th {\n",
       "        vertical-align: top;\n",
       "    }\n",
       "\n",
       "    .dataframe thead th {\n",
       "        text-align: right;\n",
       "    }\n",
       "</style>\n",
       "<table border=\"1\" class=\"dataframe\">\n",
       "  <thead>\n",
       "    <tr style=\"text-align: right;\">\n",
       "      <th></th>\n",
       "      <th>balance</th>\n",
       "      <th>change</th>\n",
       "      <th>memo</th>\n",
       "    </tr>\n",
       "    <tr>\n",
       "      <th>date</th>\n",
       "      <th></th>\n",
       "      <th></th>\n",
       "      <th></th>\n",
       "    </tr>\n",
       "  </thead>\n",
       "  <tbody>\n",
       "    <tr>\n",
       "      <th>2031-12-31</th>\n",
       "      <td>0.000</td>\n",
       "      <td>0.000</td>\n",
       "      <td>&lt;Pool:CollectedRecoveries&gt;</td>\n",
       "    </tr>\n",
       "    <tr>\n",
       "      <th>2031-12-31</th>\n",
       "      <td>131.300</td>\n",
       "      <td>131.300</td>\n",
       "      <td>&lt;Pool:CollectedPrepayment&gt;</td>\n",
       "    </tr>\n",
       "    <tr>\n",
       "      <th>2031-12-31</th>\n",
       "      <td>3,306.760</td>\n",
       "      <td>3,175.460</td>\n",
       "      <td>&lt;Pool:CollectedPrincipal&gt;</td>\n",
       "    </tr>\n",
       "    <tr>\n",
       "      <th>2031-12-31</th>\n",
       "      <td>0.000</td>\n",
       "      <td>-3,306.760</td>\n",
       "      <td>&lt;PayPrin:A1,B,C&gt;</td>\n",
       "    </tr>\n",
       "  </tbody>\n",
       "</table>\n",
       "</div>"
      ],
      "text/plain": [
       "             balance     change                        memo\n",
       "date                                                       \n",
       "2031-12-31     0.000      0.000  <Pool:CollectedRecoveries>\n",
       "2031-12-31   131.300    131.300  <Pool:CollectedPrepayment>\n",
       "2031-12-31 3,306.760  3,175.460   <Pool:CollectedPrincipal>\n",
       "2031-12-31     0.000 -3,306.760            <PayPrin:A1,B,C>"
      ]
     },
     "execution_count": 187,
     "metadata": {},
     "output_type": "execute_result"
    }
   ],
   "source": [
    "r0['accounts']['acc02'].loc[\"2031-12-31\"]"
   ]
  },
  {
   "cell_type": "code",
   "execution_count": 206,
   "id": "8838bbd4-69e8-492b-b365-0b421eb189c2",
   "metadata": {
    "scrolled": true
   },
   "outputs": [
    {
     "data": {
      "text/html": [
       "<div>\n",
       "<style scoped>\n",
       "    .dataframe tbody tr th:only-of-type {\n",
       "        vertical-align: middle;\n",
       "    }\n",
       "\n",
       "    .dataframe tbody tr th {\n",
       "        vertical-align: top;\n",
       "    }\n",
       "\n",
       "    .dataframe thead th {\n",
       "        text-align: right;\n",
       "    }\n",
       "</style>\n",
       "<table border=\"1\" class=\"dataframe\">\n",
       "  <thead>\n",
       "    <tr style=\"text-align: right;\">\n",
       "      <th></th>\n",
       "      <th>balance</th>\n",
       "      <th>interest</th>\n",
       "      <th>principal</th>\n",
       "      <th>rate</th>\n",
       "      <th>cash</th>\n",
       "      <th>intDue</th>\n",
       "      <th>intOverInt</th>\n",
       "      <th>factor</th>\n",
       "      <th>memo</th>\n",
       "    </tr>\n",
       "    <tr>\n",
       "      <th>date</th>\n",
       "      <th></th>\n",
       "      <th></th>\n",
       "      <th></th>\n",
       "      <th></th>\n",
       "      <th></th>\n",
       "      <th></th>\n",
       "      <th></th>\n",
       "      <th></th>\n",
       "      <th></th>\n",
       "    </tr>\n",
       "  </thead>\n",
       "  <tbody>\n",
       "    <tr>\n",
       "      <th>2024-12-15</th>\n",
       "      <td>9,440.000</td>\n",
       "      <td>0</td>\n",
       "      <td>0.000</td>\n",
       "      <td>0</td>\n",
       "      <td>0.000</td>\n",
       "      <td>0</td>\n",
       "      <td>0</td>\n",
       "      <td>1.000</td>\n",
       "      <td>[&lt;PayInt:A1&gt;, &lt;PayPrin:A1&gt;]</td>\n",
       "    </tr>\n",
       "    <tr>\n",
       "      <th>2024-12-31</th>\n",
       "      <td>9,440.000</td>\n",
       "      <td>0</td>\n",
       "      <td>0.000</td>\n",
       "      <td>0</td>\n",
       "      <td>0.000</td>\n",
       "      <td>0</td>\n",
       "      <td>0</td>\n",
       "      <td>1.000</td>\n",
       "      <td>[&lt;PayInt:A1&gt;, &lt;PayPrin:A1&gt;]</td>\n",
       "    </tr>\n",
       "    <tr>\n",
       "      <th>2025-03-31</th>\n",
       "      <td>9,440.000</td>\n",
       "      <td>0</td>\n",
       "      <td>0.000</td>\n",
       "      <td>0</td>\n",
       "      <td>0.000</td>\n",
       "      <td>0</td>\n",
       "      <td>0</td>\n",
       "      <td>1.000</td>\n",
       "      <td>[&lt;PayInt:A1&gt;, &lt;PayPrin:A1&gt;]</td>\n",
       "    </tr>\n",
       "    <tr>\n",
       "      <th>2025-06-30</th>\n",
       "      <td>9,061.410</td>\n",
       "      <td>0</td>\n",
       "      <td>378.590</td>\n",
       "      <td>0</td>\n",
       "      <td>378.590</td>\n",
       "      <td>0</td>\n",
       "      <td>0</td>\n",
       "      <td>0.960</td>\n",
       "      <td>[&lt;PayInt:A1&gt;, &lt;PayPrin:A1&gt;]</td>\n",
       "    </tr>\n",
       "    <tr>\n",
       "      <th>2025-09-30</th>\n",
       "      <td>8,697.860</td>\n",
       "      <td>0</td>\n",
       "      <td>363.550</td>\n",
       "      <td>0</td>\n",
       "      <td>363.550</td>\n",
       "      <td>0</td>\n",
       "      <td>0</td>\n",
       "      <td>0.921</td>\n",
       "      <td>[&lt;PayInt:A1&gt;, &lt;PayPrin:A1&gt;]</td>\n",
       "    </tr>\n",
       "    <tr>\n",
       "      <th>2025-12-31</th>\n",
       "      <td>8,352.460</td>\n",
       "      <td>0</td>\n",
       "      <td>345.400</td>\n",
       "      <td>0</td>\n",
       "      <td>345.400</td>\n",
       "      <td>0</td>\n",
       "      <td>0</td>\n",
       "      <td>0.885</td>\n",
       "      <td>[&lt;PayInt:A1&gt;, &lt;PayPrin:A1&gt;]</td>\n",
       "    </tr>\n",
       "    <tr>\n",
       "      <th>2026-03-31</th>\n",
       "      <td>8,024.480</td>\n",
       "      <td>0</td>\n",
       "      <td>327.980</td>\n",
       "      <td>0</td>\n",
       "      <td>327.980</td>\n",
       "      <td>0</td>\n",
       "      <td>0</td>\n",
       "      <td>0.850</td>\n",
       "      <td>[&lt;PayInt:A1&gt;, &lt;PayPrin:A1&gt;]</td>\n",
       "    </tr>\n",
       "    <tr>\n",
       "      <th>2026-06-30</th>\n",
       "      <td>7,702.660</td>\n",
       "      <td>0</td>\n",
       "      <td>321.820</td>\n",
       "      <td>0</td>\n",
       "      <td>321.820</td>\n",
       "      <td>0</td>\n",
       "      <td>0</td>\n",
       "      <td>0.816</td>\n",
       "      <td>[&lt;PayInt:A1&gt;, &lt;PayPrin:A1&gt;]</td>\n",
       "    </tr>\n",
       "    <tr>\n",
       "      <th>2026-09-30</th>\n",
       "      <td>7,393.620</td>\n",
       "      <td>0</td>\n",
       "      <td>309.040</td>\n",
       "      <td>0</td>\n",
       "      <td>309.040</td>\n",
       "      <td>0</td>\n",
       "      <td>0</td>\n",
       "      <td>0.783</td>\n",
       "      <td>[&lt;PayInt:A1&gt;, &lt;PayPrin:A1&gt;]</td>\n",
       "    </tr>\n",
       "    <tr>\n",
       "      <th>2026-12-31</th>\n",
       "      <td>7,100.000</td>\n",
       "      <td>0</td>\n",
       "      <td>293.620</td>\n",
       "      <td>0</td>\n",
       "      <td>293.620</td>\n",
       "      <td>0</td>\n",
       "      <td>0</td>\n",
       "      <td>0.752</td>\n",
       "      <td>[&lt;PayInt:A1&gt;, &lt;PayPrin:A1&gt;]</td>\n",
       "    </tr>\n",
       "    <tr>\n",
       "      <th>2027-03-31</th>\n",
       "      <td>6,821.200</td>\n",
       "      <td>0</td>\n",
       "      <td>278.800</td>\n",
       "      <td>0</td>\n",
       "      <td>278.800</td>\n",
       "      <td>0</td>\n",
       "      <td>0</td>\n",
       "      <td>0.723</td>\n",
       "      <td>[&lt;PayInt:A1&gt;, &lt;PayPrin:A1&gt;]</td>\n",
       "    </tr>\n",
       "    <tr>\n",
       "      <th>2027-06-30</th>\n",
       "      <td>6,547.630</td>\n",
       "      <td>0</td>\n",
       "      <td>273.570</td>\n",
       "      <td>0</td>\n",
       "      <td>273.570</td>\n",
       "      <td>0</td>\n",
       "      <td>0</td>\n",
       "      <td>0.694</td>\n",
       "      <td>[&lt;PayInt:A1&gt;, &lt;PayPrin:A1&gt;]</td>\n",
       "    </tr>\n",
       "    <tr>\n",
       "      <th>2027-09-30</th>\n",
       "      <td>6,284.940</td>\n",
       "      <td>0</td>\n",
       "      <td>262.690</td>\n",
       "      <td>0</td>\n",
       "      <td>262.690</td>\n",
       "      <td>0</td>\n",
       "      <td>0</td>\n",
       "      <td>0.666</td>\n",
       "      <td>[&lt;PayInt:A1&gt;, &lt;PayPrin:A1&gt;]</td>\n",
       "    </tr>\n",
       "    <tr>\n",
       "      <th>2027-12-31</th>\n",
       "      <td>6,035.360</td>\n",
       "      <td>0</td>\n",
       "      <td>249.580</td>\n",
       "      <td>0</td>\n",
       "      <td>249.580</td>\n",
       "      <td>0</td>\n",
       "      <td>0</td>\n",
       "      <td>0.639</td>\n",
       "      <td>[&lt;PayInt:A1&gt;, &lt;PayPrin:A1&gt;]</td>\n",
       "    </tr>\n",
       "    <tr>\n",
       "      <th>2028-03-31</th>\n",
       "      <td>5,795.790</td>\n",
       "      <td>0</td>\n",
       "      <td>239.570</td>\n",
       "      <td>0</td>\n",
       "      <td>239.570</td>\n",
       "      <td>0</td>\n",
       "      <td>0</td>\n",
       "      <td>0.614</td>\n",
       "      <td>[&lt;PayInt:A1&gt;, &lt;PayPrin:A1&gt;]</td>\n",
       "    </tr>\n",
       "    <tr>\n",
       "      <th>2028-06-30</th>\n",
       "      <td>5,563.350</td>\n",
       "      <td>0</td>\n",
       "      <td>232.440</td>\n",
       "      <td>0</td>\n",
       "      <td>232.440</td>\n",
       "      <td>0</td>\n",
       "      <td>0</td>\n",
       "      <td>0.589</td>\n",
       "      <td>[&lt;PayInt:A1&gt;, &lt;PayPrin:A1&gt;]</td>\n",
       "    </tr>\n",
       "    <tr>\n",
       "      <th>2028-09-30</th>\n",
       "      <td>5,340.140</td>\n",
       "      <td>0</td>\n",
       "      <td>223.210</td>\n",
       "      <td>0</td>\n",
       "      <td>223.210</td>\n",
       "      <td>0</td>\n",
       "      <td>0</td>\n",
       "      <td>0.566</td>\n",
       "      <td>[&lt;PayInt:A1&gt;, &lt;PayPrin:A1&gt;]</td>\n",
       "    </tr>\n",
       "    <tr>\n",
       "      <th>2028-12-31</th>\n",
       "      <td>5,128.080</td>\n",
       "      <td>0</td>\n",
       "      <td>212.060</td>\n",
       "      <td>0</td>\n",
       "      <td>212.060</td>\n",
       "      <td>0</td>\n",
       "      <td>0</td>\n",
       "      <td>0.543</td>\n",
       "      <td>[&lt;PayInt:A1&gt;, &lt;PayPrin:A1&gt;]</td>\n",
       "    </tr>\n",
       "    <tr>\n",
       "      <th>2029-03-31</th>\n",
       "      <td>4,926.790</td>\n",
       "      <td>0</td>\n",
       "      <td>201.290</td>\n",
       "      <td>0</td>\n",
       "      <td>201.290</td>\n",
       "      <td>0</td>\n",
       "      <td>0</td>\n",
       "      <td>0.522</td>\n",
       "      <td>[&lt;PayInt:A1&gt;, &lt;PayPrin:A1&gt;]</td>\n",
       "    </tr>\n",
       "    <tr>\n",
       "      <th>2029-06-30</th>\n",
       "      <td>4,729.340</td>\n",
       "      <td>0</td>\n",
       "      <td>197.450</td>\n",
       "      <td>0</td>\n",
       "      <td>197.450</td>\n",
       "      <td>0</td>\n",
       "      <td>0</td>\n",
       "      <td>0.501</td>\n",
       "      <td>[&lt;PayInt:A1&gt;, &lt;PayPrin:A1&gt;]</td>\n",
       "    </tr>\n",
       "    <tr>\n",
       "      <th>2029-09-30</th>\n",
       "      <td>4,539.800</td>\n",
       "      <td>0</td>\n",
       "      <td>189.540</td>\n",
       "      <td>0</td>\n",
       "      <td>189.540</td>\n",
       "      <td>0</td>\n",
       "      <td>0</td>\n",
       "      <td>0.481</td>\n",
       "      <td>[&lt;PayInt:A1&gt;, &lt;PayPrin:A1&gt;]</td>\n",
       "    </tr>\n",
       "    <tr>\n",
       "      <th>2029-12-31</th>\n",
       "      <td>4,359.790</td>\n",
       "      <td>0</td>\n",
       "      <td>180.010</td>\n",
       "      <td>0</td>\n",
       "      <td>180.010</td>\n",
       "      <td>0</td>\n",
       "      <td>0</td>\n",
       "      <td>0.462</td>\n",
       "      <td>[&lt;PayInt:A1&gt;, &lt;PayPrin:A1&gt;]</td>\n",
       "    </tr>\n",
       "    <tr>\n",
       "      <th>2030-03-31</th>\n",
       "      <td>4,188.910</td>\n",
       "      <td>0</td>\n",
       "      <td>170.880</td>\n",
       "      <td>0</td>\n",
       "      <td>170.880</td>\n",
       "      <td>0</td>\n",
       "      <td>0</td>\n",
       "      <td>0.444</td>\n",
       "      <td>[&lt;PayInt:A1&gt;, &lt;PayPrin:A1&gt;]</td>\n",
       "    </tr>\n",
       "    <tr>\n",
       "      <th>2030-06-30</th>\n",
       "      <td>4,021.290</td>\n",
       "      <td>0</td>\n",
       "      <td>167.620</td>\n",
       "      <td>0</td>\n",
       "      <td>167.620</td>\n",
       "      <td>0</td>\n",
       "      <td>0</td>\n",
       "      <td>0.426</td>\n",
       "      <td>[&lt;PayInt:A1&gt;, &lt;PayPrin:A1&gt;]</td>\n",
       "    </tr>\n",
       "    <tr>\n",
       "      <th>2030-09-30</th>\n",
       "      <td>3,851.690</td>\n",
       "      <td>0</td>\n",
       "      <td>169.600</td>\n",
       "      <td>0</td>\n",
       "      <td>169.600</td>\n",
       "      <td>0</td>\n",
       "      <td>0</td>\n",
       "      <td>0.408</td>\n",
       "      <td>[&lt;PayInt:A1&gt;, &lt;PayPrin:A1&gt;]</td>\n",
       "    </tr>\n",
       "    <tr>\n",
       "      <th>2030-12-31</th>\n",
       "      <td>3,690.610</td>\n",
       "      <td>0</td>\n",
       "      <td>161.080</td>\n",
       "      <td>0</td>\n",
       "      <td>161.080</td>\n",
       "      <td>0</td>\n",
       "      <td>0</td>\n",
       "      <td>0.391</td>\n",
       "      <td>[&lt;PayInt:A1&gt;, &lt;PayPrin:A1&gt;]</td>\n",
       "    </tr>\n",
       "    <tr>\n",
       "      <th>2031-03-31</th>\n",
       "      <td>3,390.360</td>\n",
       "      <td>0</td>\n",
       "      <td>300.250</td>\n",
       "      <td>0</td>\n",
       "      <td>300.250</td>\n",
       "      <td>0</td>\n",
       "      <td>0</td>\n",
       "      <td>0.359</td>\n",
       "      <td>[&lt;PayInt:A1&gt;, &lt;PayPrin:A1&gt;]</td>\n",
       "    </tr>\n",
       "    <tr>\n",
       "      <th>2031-06-30</th>\n",
       "      <td>3,246.220</td>\n",
       "      <td>0</td>\n",
       "      <td>144.140</td>\n",
       "      <td>0</td>\n",
       "      <td>144.140</td>\n",
       "      <td>0</td>\n",
       "      <td>0</td>\n",
       "      <td>0.344</td>\n",
       "      <td>[&lt;PayInt:A1&gt;, &lt;PayPrin:A1&gt;]</td>\n",
       "    </tr>\n",
       "    <tr>\n",
       "      <th>2031-09-30</th>\n",
       "      <td>3,107.910</td>\n",
       "      <td>0</td>\n",
       "      <td>138.310</td>\n",
       "      <td>0</td>\n",
       "      <td>138.310</td>\n",
       "      <td>0</td>\n",
       "      <td>0</td>\n",
       "      <td>0.329</td>\n",
       "      <td>[&lt;PayInt:A1&gt;, &lt;PayPrin:A1&gt;]</td>\n",
       "    </tr>\n",
       "    <tr>\n",
       "      <th>2031-12-31</th>\n",
       "      <td>0.000</td>\n",
       "      <td>0</td>\n",
       "      <td>3,107.910</td>\n",
       "      <td>0</td>\n",
       "      <td>3,107.910</td>\n",
       "      <td>0</td>\n",
       "      <td>0</td>\n",
       "      <td>0.000</td>\n",
       "      <td>[&lt;PayInt:A1&gt;, &lt;PayPrin:A1&gt;]</td>\n",
       "    </tr>\n",
       "  </tbody>\n",
       "</table>\n",
       "</div>"
      ],
      "text/plain": [
       "             balance  interest  principal  rate      cash  intDue  intOverInt  \\\n",
       "date                                                                            \n",
       "2024-12-15 9,440.000         0      0.000     0     0.000       0           0   \n",
       "2024-12-31 9,440.000         0      0.000     0     0.000       0           0   \n",
       "2025-03-31 9,440.000         0      0.000     0     0.000       0           0   \n",
       "2025-06-30 9,061.410         0    378.590     0   378.590       0           0   \n",
       "2025-09-30 8,697.860         0    363.550     0   363.550       0           0   \n",
       "2025-12-31 8,352.460         0    345.400     0   345.400       0           0   \n",
       "2026-03-31 8,024.480         0    327.980     0   327.980       0           0   \n",
       "2026-06-30 7,702.660         0    321.820     0   321.820       0           0   \n",
       "2026-09-30 7,393.620         0    309.040     0   309.040       0           0   \n",
       "2026-12-31 7,100.000         0    293.620     0   293.620       0           0   \n",
       "2027-03-31 6,821.200         0    278.800     0   278.800       0           0   \n",
       "2027-06-30 6,547.630         0    273.570     0   273.570       0           0   \n",
       "2027-09-30 6,284.940         0    262.690     0   262.690       0           0   \n",
       "2027-12-31 6,035.360         0    249.580     0   249.580       0           0   \n",
       "2028-03-31 5,795.790         0    239.570     0   239.570       0           0   \n",
       "2028-06-30 5,563.350         0    232.440     0   232.440       0           0   \n",
       "2028-09-30 5,340.140         0    223.210     0   223.210       0           0   \n",
       "2028-12-31 5,128.080         0    212.060     0   212.060       0           0   \n",
       "2029-03-31 4,926.790         0    201.290     0   201.290       0           0   \n",
       "2029-06-30 4,729.340         0    197.450     0   197.450       0           0   \n",
       "2029-09-30 4,539.800         0    189.540     0   189.540       0           0   \n",
       "2029-12-31 4,359.790         0    180.010     0   180.010       0           0   \n",
       "2030-03-31 4,188.910         0    170.880     0   170.880       0           0   \n",
       "2030-06-30 4,021.290         0    167.620     0   167.620       0           0   \n",
       "2030-09-30 3,851.690         0    169.600     0   169.600       0           0   \n",
       "2030-12-31 3,690.610         0    161.080     0   161.080       0           0   \n",
       "2031-03-31 3,390.360         0    300.250     0   300.250       0           0   \n",
       "2031-06-30 3,246.220         0    144.140     0   144.140       0           0   \n",
       "2031-09-30 3,107.910         0    138.310     0   138.310       0           0   \n",
       "2031-12-31     0.000         0  3,107.910     0 3,107.910       0           0   \n",
       "\n",
       "            factor                         memo  \n",
       "date                                             \n",
       "2024-12-15   1.000  [<PayInt:A1>, <PayPrin:A1>]  \n",
       "2024-12-31   1.000  [<PayInt:A1>, <PayPrin:A1>]  \n",
       "2025-03-31   1.000  [<PayInt:A1>, <PayPrin:A1>]  \n",
       "2025-06-30   0.960  [<PayInt:A1>, <PayPrin:A1>]  \n",
       "2025-09-30   0.921  [<PayInt:A1>, <PayPrin:A1>]  \n",
       "2025-12-31   0.885  [<PayInt:A1>, <PayPrin:A1>]  \n",
       "2026-03-31   0.850  [<PayInt:A1>, <PayPrin:A1>]  \n",
       "2026-06-30   0.816  [<PayInt:A1>, <PayPrin:A1>]  \n",
       "2026-09-30   0.783  [<PayInt:A1>, <PayPrin:A1>]  \n",
       "2026-12-31   0.752  [<PayInt:A1>, <PayPrin:A1>]  \n",
       "2027-03-31   0.723  [<PayInt:A1>, <PayPrin:A1>]  \n",
       "2027-06-30   0.694  [<PayInt:A1>, <PayPrin:A1>]  \n",
       "2027-09-30   0.666  [<PayInt:A1>, <PayPrin:A1>]  \n",
       "2027-12-31   0.639  [<PayInt:A1>, <PayPrin:A1>]  \n",
       "2028-03-31   0.614  [<PayInt:A1>, <PayPrin:A1>]  \n",
       "2028-06-30   0.589  [<PayInt:A1>, <PayPrin:A1>]  \n",
       "2028-09-30   0.566  [<PayInt:A1>, <PayPrin:A1>]  \n",
       "2028-12-31   0.543  [<PayInt:A1>, <PayPrin:A1>]  \n",
       "2029-03-31   0.522  [<PayInt:A1>, <PayPrin:A1>]  \n",
       "2029-06-30   0.501  [<PayInt:A1>, <PayPrin:A1>]  \n",
       "2029-09-30   0.481  [<PayInt:A1>, <PayPrin:A1>]  \n",
       "2029-12-31   0.462  [<PayInt:A1>, <PayPrin:A1>]  \n",
       "2030-03-31   0.444  [<PayInt:A1>, <PayPrin:A1>]  \n",
       "2030-06-30   0.426  [<PayInt:A1>, <PayPrin:A1>]  \n",
       "2030-09-30   0.408  [<PayInt:A1>, <PayPrin:A1>]  \n",
       "2030-12-31   0.391  [<PayInt:A1>, <PayPrin:A1>]  \n",
       "2031-03-31   0.359  [<PayInt:A1>, <PayPrin:A1>]  \n",
       "2031-06-30   0.344  [<PayInt:A1>, <PayPrin:A1>]  \n",
       "2031-09-30   0.329  [<PayInt:A1>, <PayPrin:A1>]  \n",
       "2031-12-31   0.000  [<PayInt:A1>, <PayPrin:A1>]  "
      ]
     },
     "execution_count": 206,
     "metadata": {},
     "output_type": "execute_result"
    }
   ],
   "source": [
    "r0['bonds']['A1']"
   ]
  },
  {
   "cell_type": "code",
   "execution_count": 164,
   "id": "2b425e8c-f9c7-45e5-a62d-90f698dcc063",
   "metadata": {
    "scrolled": true
   },
   "outputs": [
    {
     "data": {
      "text/html": [
       "<div>\n",
       "<style scoped>\n",
       "    .dataframe tbody tr th:only-of-type {\n",
       "        vertical-align: middle;\n",
       "    }\n",
       "\n",
       "    .dataframe tbody tr th {\n",
       "        vertical-align: top;\n",
       "    }\n",
       "\n",
       "    .dataframe thead tr th {\n",
       "        text-align: left;\n",
       "    }\n",
       "\n",
       "    .dataframe thead tr:last-of-type th {\n",
       "        text-align: right;\n",
       "    }\n",
       "</style>\n",
       "<table border=\"1\" class=\"dataframe\">\n",
       "  <thead>\n",
       "    <tr>\n",
       "      <th>Bond</th>\n",
       "      <th colspan=\"5\" halign=\"left\">A1</th>\n",
       "      <th colspan=\"5\" halign=\"left\">B</th>\n",
       "      <th colspan=\"5\" halign=\"left\">C</th>\n",
       "    </tr>\n",
       "    <tr>\n",
       "      <th>Field</th>\n",
       "      <th>balance</th>\n",
       "      <th>interest</th>\n",
       "      <th>principal</th>\n",
       "      <th>rate</th>\n",
       "      <th>cash</th>\n",
       "      <th>balance</th>\n",
       "      <th>interest</th>\n",
       "      <th>principal</th>\n",
       "      <th>rate</th>\n",
       "      <th>cash</th>\n",
       "      <th>balance</th>\n",
       "      <th>interest</th>\n",
       "      <th>principal</th>\n",
       "      <th>rate</th>\n",
       "      <th>cash</th>\n",
       "    </tr>\n",
       "    <tr>\n",
       "      <th>date</th>\n",
       "      <th></th>\n",
       "      <th></th>\n",
       "      <th></th>\n",
       "      <th></th>\n",
       "      <th></th>\n",
       "      <th></th>\n",
       "      <th></th>\n",
       "      <th></th>\n",
       "      <th></th>\n",
       "      <th></th>\n",
       "      <th></th>\n",
       "      <th></th>\n",
       "      <th></th>\n",
       "      <th></th>\n",
       "      <th></th>\n",
       "    </tr>\n",
       "  </thead>\n",
       "  <tbody>\n",
       "    <tr>\n",
       "      <th>2024-11-15</th>\n",
       "      <td>NaN</td>\n",
       "      <td>NaN</td>\n",
       "      <td>NaN</td>\n",
       "      <td>NaN</td>\n",
       "      <td>NaN</td>\n",
       "      <td>5,100.000</td>\n",
       "      <td>0.000</td>\n",
       "      <td>-5,100.000</td>\n",
       "      <td>0.000</td>\n",
       "      <td>0.000</td>\n",
       "      <td>NaN</td>\n",
       "      <td>NaN</td>\n",
       "      <td>NaN</td>\n",
       "      <td>NaN</td>\n",
       "      <td>NaN</td>\n",
       "    </tr>\n",
       "    <tr>\n",
       "      <th>2024-12-15</th>\n",
       "      <td>9,440.000</td>\n",
       "      <td>0.000</td>\n",
       "      <td>0.000</td>\n",
       "      <td>0.000</td>\n",
       "      <td>0.000</td>\n",
       "      <td>5,100.000</td>\n",
       "      <td>0.000</td>\n",
       "      <td>0.000</td>\n",
       "      <td>0.000</td>\n",
       "      <td>0.000</td>\n",
       "      <td>950.000</td>\n",
       "      <td>0.000</td>\n",
       "      <td>0.000</td>\n",
       "      <td>0.000</td>\n",
       "      <td>0.000</td>\n",
       "    </tr>\n",
       "    <tr>\n",
       "      <th>2024-12-31</th>\n",
       "      <td>9,440.000</td>\n",
       "      <td>0.000</td>\n",
       "      <td>0.000</td>\n",
       "      <td>0.000</td>\n",
       "      <td>0.000</td>\n",
       "      <td>5,100.000</td>\n",
       "      <td>0.000</td>\n",
       "      <td>0.000</td>\n",
       "      <td>0.000</td>\n",
       "      <td>0.000</td>\n",
       "      <td>950.000</td>\n",
       "      <td>0.000</td>\n",
       "      <td>0.000</td>\n",
       "      <td>0.000</td>\n",
       "      <td>0.000</td>\n",
       "    </tr>\n",
       "    <tr>\n",
       "      <th>2025-03-31</th>\n",
       "      <td>9,440.000</td>\n",
       "      <td>0.000</td>\n",
       "      <td>0.000</td>\n",
       "      <td>0.000</td>\n",
       "      <td>0.000</td>\n",
       "      <td>5,100.000</td>\n",
       "      <td>0.000</td>\n",
       "      <td>0.000</td>\n",
       "      <td>0.000</td>\n",
       "      <td>0.000</td>\n",
       "      <td>824.320</td>\n",
       "      <td>0.000</td>\n",
       "      <td>0.000</td>\n",
       "      <td>0.000</td>\n",
       "      <td>0.000</td>\n",
       "    </tr>\n",
       "    <tr>\n",
       "      <th>2025-06-30</th>\n",
       "      <td>9,440.000</td>\n",
       "      <td>0.000</td>\n",
       "      <td>0.000</td>\n",
       "      <td>0.000</td>\n",
       "      <td>0.000</td>\n",
       "      <td>5,100.000</td>\n",
       "      <td>0.000</td>\n",
       "      <td>0.000</td>\n",
       "      <td>0.000</td>\n",
       "      <td>0.000</td>\n",
       "      <td>702.470</td>\n",
       "      <td>0.000</td>\n",
       "      <td>0.000</td>\n",
       "      <td>0.000</td>\n",
       "      <td>0.000</td>\n",
       "    </tr>\n",
       "    <tr>\n",
       "      <th>2025-09-30</th>\n",
       "      <td>9,219.430</td>\n",
       "      <td>0.000</td>\n",
       "      <td>220.570</td>\n",
       "      <td>0.000</td>\n",
       "      <td>220.570</td>\n",
       "      <td>4,980.850</td>\n",
       "      <td>0.000</td>\n",
       "      <td>119.150</td>\n",
       "      <td>0.000</td>\n",
       "      <td>119.150</td>\n",
       "      <td>570.600</td>\n",
       "      <td>0.000</td>\n",
       "      <td>16.410</td>\n",
       "      <td>0.000</td>\n",
       "      <td>16.410</td>\n",
       "    </tr>\n",
       "    <tr>\n",
       "      <th>2025-12-31</th>\n",
       "      <td>9,011.010</td>\n",
       "      <td>0.000</td>\n",
       "      <td>208.420</td>\n",
       "      <td>0.000</td>\n",
       "      <td>208.420</td>\n",
       "      <td>4,868.260</td>\n",
       "      <td>0.000</td>\n",
       "      <td>112.590</td>\n",
       "      <td>0.000</td>\n",
       "      <td>112.590</td>\n",
       "      <td>449.490</td>\n",
       "      <td>0.000</td>\n",
       "      <td>12.890</td>\n",
       "      <td>0.000</td>\n",
       "      <td>12.890</td>\n",
       "    </tr>\n",
       "    <tr>\n",
       "      <th>2026-03-31</th>\n",
       "      <td>9,011.010</td>\n",
       "      <td>0.000</td>\n",
       "      <td>0.000</td>\n",
       "      <td>0.000</td>\n",
       "      <td>0.000</td>\n",
       "      <td>4,868.260</td>\n",
       "      <td>0.000</td>\n",
       "      <td>0.000</td>\n",
       "      <td>0.000</td>\n",
       "      <td>0.000</td>\n",
       "      <td>34.810</td>\n",
       "      <td>0.000</td>\n",
       "      <td>313.200</td>\n",
       "      <td>0.000</td>\n",
       "      <td>313.200</td>\n",
       "    </tr>\n",
       "    <tr>\n",
       "      <th>2026-06-30</th>\n",
       "      <td>9,011.010</td>\n",
       "      <td>0.000</td>\n",
       "      <td>0.000</td>\n",
       "      <td>0.000</td>\n",
       "      <td>0.000</td>\n",
       "      <td>4,599.570</td>\n",
       "      <td>0.000</td>\n",
       "      <td>268.690</td>\n",
       "      <td>0.000</td>\n",
       "      <td>268.690</td>\n",
       "      <td>0.000</td>\n",
       "      <td>0.000</td>\n",
       "      <td>34.810</td>\n",
       "      <td>0.000</td>\n",
       "      <td>34.810</td>\n",
       "    </tr>\n",
       "    <tr>\n",
       "      <th>2026-09-30</th>\n",
       "      <td>9,011.010</td>\n",
       "      <td>0.000</td>\n",
       "      <td>0.000</td>\n",
       "      <td>0.000</td>\n",
       "      <td>0.000</td>\n",
       "      <td>4,311.990</td>\n",
       "      <td>0.000</td>\n",
       "      <td>287.580</td>\n",
       "      <td>0.000</td>\n",
       "      <td>287.580</td>\n",
       "      <td>NaN</td>\n",
       "      <td>NaN</td>\n",
       "      <td>NaN</td>\n",
       "      <td>NaN</td>\n",
       "      <td>NaN</td>\n",
       "    </tr>\n",
       "    <tr>\n",
       "      <th>2026-12-31</th>\n",
       "      <td>9,011.010</td>\n",
       "      <td>0.000</td>\n",
       "      <td>0.000</td>\n",
       "      <td>0.000</td>\n",
       "      <td>0.000</td>\n",
       "      <td>4,042.360</td>\n",
       "      <td>0.000</td>\n",
       "      <td>269.630</td>\n",
       "      <td>0.000</td>\n",
       "      <td>269.630</td>\n",
       "      <td>NaN</td>\n",
       "      <td>NaN</td>\n",
       "      <td>NaN</td>\n",
       "      <td>NaN</td>\n",
       "      <td>NaN</td>\n",
       "    </tr>\n",
       "    <tr>\n",
       "      <th>2027-03-31</th>\n",
       "      <td>9,011.010</td>\n",
       "      <td>0.000</td>\n",
       "      <td>0.000</td>\n",
       "      <td>0.000</td>\n",
       "      <td>0.000</td>\n",
       "      <td>3,789.450</td>\n",
       "      <td>0.000</td>\n",
       "      <td>252.910</td>\n",
       "      <td>0.000</td>\n",
       "      <td>252.910</td>\n",
       "      <td>NaN</td>\n",
       "      <td>NaN</td>\n",
       "      <td>NaN</td>\n",
       "      <td>NaN</td>\n",
       "      <td>NaN</td>\n",
       "    </tr>\n",
       "    <tr>\n",
       "      <th>2027-06-30</th>\n",
       "      <td>9,011.010</td>\n",
       "      <td>0.000</td>\n",
       "      <td>0.000</td>\n",
       "      <td>0.000</td>\n",
       "      <td>0.000</td>\n",
       "      <td>3,481.260</td>\n",
       "      <td>0.000</td>\n",
       "      <td>245.080</td>\n",
       "      <td>0.000</td>\n",
       "      <td>245.080</td>\n",
       "      <td>NaN</td>\n",
       "      <td>NaN</td>\n",
       "      <td>NaN</td>\n",
       "      <td>NaN</td>\n",
       "      <td>NaN</td>\n",
       "    </tr>\n",
       "    <tr>\n",
       "      <th>2027-09-30</th>\n",
       "      <td>9,011.010</td>\n",
       "      <td>0.000</td>\n",
       "      <td>0.000</td>\n",
       "      <td>0.000</td>\n",
       "      <td>0.000</td>\n",
       "      <td>3,173.750</td>\n",
       "      <td>0.000</td>\n",
       "      <td>232.220</td>\n",
       "      <td>0.000</td>\n",
       "      <td>232.220</td>\n",
       "      <td>NaN</td>\n",
       "      <td>NaN</td>\n",
       "      <td>NaN</td>\n",
       "      <td>NaN</td>\n",
       "      <td>NaN</td>\n",
       "    </tr>\n",
       "    <tr>\n",
       "      <th>2027-12-31</th>\n",
       "      <td>9,011.010</td>\n",
       "      <td>0.000</td>\n",
       "      <td>0.000</td>\n",
       "      <td>0.000</td>\n",
       "      <td>0.000</td>\n",
       "      <td>2,885.470</td>\n",
       "      <td>0.000</td>\n",
       "      <td>217.720</td>\n",
       "      <td>0.000</td>\n",
       "      <td>217.720</td>\n",
       "      <td>NaN</td>\n",
       "      <td>NaN</td>\n",
       "      <td>NaN</td>\n",
       "      <td>NaN</td>\n",
       "      <td>NaN</td>\n",
       "    </tr>\n",
       "    <tr>\n",
       "      <th>2028-03-31</th>\n",
       "      <td>9,011.010</td>\n",
       "      <td>0.000</td>\n",
       "      <td>0.000</td>\n",
       "      <td>0.000</td>\n",
       "      <td>0.000</td>\n",
       "      <td>2,612.150</td>\n",
       "      <td>0.000</td>\n",
       "      <td>206.420</td>\n",
       "      <td>0.000</td>\n",
       "      <td>206.420</td>\n",
       "      <td>NaN</td>\n",
       "      <td>NaN</td>\n",
       "      <td>NaN</td>\n",
       "      <td>NaN</td>\n",
       "      <td>NaN</td>\n",
       "    </tr>\n",
       "    <tr>\n",
       "      <th>2028-06-30</th>\n",
       "      <td>9,011.010</td>\n",
       "      <td>0.000</td>\n",
       "      <td>0.000</td>\n",
       "      <td>0.000</td>\n",
       "      <td>0.000</td>\n",
       "      <td>2,350.240</td>\n",
       "      <td>0.000</td>\n",
       "      <td>197.790</td>\n",
       "      <td>0.000</td>\n",
       "      <td>197.790</td>\n",
       "      <td>NaN</td>\n",
       "      <td>NaN</td>\n",
       "      <td>NaN</td>\n",
       "      <td>NaN</td>\n",
       "      <td>NaN</td>\n",
       "    </tr>\n",
       "    <tr>\n",
       "      <th>2028-09-30</th>\n",
       "      <td>9,011.010</td>\n",
       "      <td>0.000</td>\n",
       "      <td>0.000</td>\n",
       "      <td>0.000</td>\n",
       "      <td>0.000</td>\n",
       "      <td>2,102.070</td>\n",
       "      <td>0.000</td>\n",
       "      <td>187.410</td>\n",
       "      <td>0.000</td>\n",
       "      <td>187.410</td>\n",
       "      <td>NaN</td>\n",
       "      <td>NaN</td>\n",
       "      <td>NaN</td>\n",
       "      <td>NaN</td>\n",
       "      <td>NaN</td>\n",
       "    </tr>\n",
       "    <tr>\n",
       "      <th>2028-12-31</th>\n",
       "      <td>9,011.010</td>\n",
       "      <td>0.000</td>\n",
       "      <td>0.000</td>\n",
       "      <td>0.000</td>\n",
       "      <td>0.000</td>\n",
       "      <td>1,869.410</td>\n",
       "      <td>0.000</td>\n",
       "      <td>175.710</td>\n",
       "      <td>0.000</td>\n",
       "      <td>175.710</td>\n",
       "      <td>NaN</td>\n",
       "      <td>NaN</td>\n",
       "      <td>NaN</td>\n",
       "      <td>NaN</td>\n",
       "      <td>NaN</td>\n",
       "    </tr>\n",
       "    <tr>\n",
       "      <th>2029-03-31</th>\n",
       "      <td>9,011.010</td>\n",
       "      <td>0.000</td>\n",
       "      <td>0.000</td>\n",
       "      <td>0.000</td>\n",
       "      <td>0.000</td>\n",
       "      <td>1,651.190</td>\n",
       "      <td>0.000</td>\n",
       "      <td>164.820</td>\n",
       "      <td>0.000</td>\n",
       "      <td>164.820</td>\n",
       "      <td>NaN</td>\n",
       "      <td>NaN</td>\n",
       "      <td>NaN</td>\n",
       "      <td>NaN</td>\n",
       "      <td>NaN</td>\n",
       "    </tr>\n",
       "    <tr>\n",
       "      <th>2029-06-30</th>\n",
       "      <td>9,011.010</td>\n",
       "      <td>0.000</td>\n",
       "      <td>0.000</td>\n",
       "      <td>0.000</td>\n",
       "      <td>0.000</td>\n",
       "      <td>1,439.700</td>\n",
       "      <td>0.000</td>\n",
       "      <td>159.710</td>\n",
       "      <td>0.000</td>\n",
       "      <td>159.710</td>\n",
       "      <td>NaN</td>\n",
       "      <td>NaN</td>\n",
       "      <td>NaN</td>\n",
       "      <td>NaN</td>\n",
       "      <td>NaN</td>\n",
       "    </tr>\n",
       "    <tr>\n",
       "      <th>2029-09-30</th>\n",
       "      <td>9,011.010</td>\n",
       "      <td>0.000</td>\n",
       "      <td>0.000</td>\n",
       "      <td>0.000</td>\n",
       "      <td>0.000</td>\n",
       "      <td>1,239.310</td>\n",
       "      <td>0.000</td>\n",
       "      <td>151.330</td>\n",
       "      <td>0.000</td>\n",
       "      <td>151.330</td>\n",
       "      <td>NaN</td>\n",
       "      <td>NaN</td>\n",
       "      <td>NaN</td>\n",
       "      <td>NaN</td>\n",
       "      <td>NaN</td>\n",
       "    </tr>\n",
       "    <tr>\n",
       "      <th>2029-12-31</th>\n",
       "      <td>9,011.010</td>\n",
       "      <td>0.000</td>\n",
       "      <td>0.000</td>\n",
       "      <td>0.000</td>\n",
       "      <td>0.000</td>\n",
       "      <td>1,051.440</td>\n",
       "      <td>0.000</td>\n",
       "      <td>141.890</td>\n",
       "      <td>0.000</td>\n",
       "      <td>141.890</td>\n",
       "      <td>NaN</td>\n",
       "      <td>NaN</td>\n",
       "      <td>NaN</td>\n",
       "      <td>NaN</td>\n",
       "      <td>NaN</td>\n",
       "    </tr>\n",
       "    <tr>\n",
       "      <th>2030-03-31</th>\n",
       "      <td>9,011.010</td>\n",
       "      <td>0.000</td>\n",
       "      <td>0.000</td>\n",
       "      <td>0.000</td>\n",
       "      <td>0.000</td>\n",
       "      <td>875.230</td>\n",
       "      <td>0.000</td>\n",
       "      <td>133.090</td>\n",
       "      <td>0.000</td>\n",
       "      <td>133.090</td>\n",
       "      <td>NaN</td>\n",
       "      <td>NaN</td>\n",
       "      <td>NaN</td>\n",
       "      <td>NaN</td>\n",
       "      <td>NaN</td>\n",
       "    </tr>\n",
       "    <tr>\n",
       "      <th>2030-06-30</th>\n",
       "      <td>9,011.010</td>\n",
       "      <td>0.000</td>\n",
       "      <td>0.000</td>\n",
       "      <td>0.000</td>\n",
       "      <td>0.000</td>\n",
       "      <td>704.450</td>\n",
       "      <td>0.000</td>\n",
       "      <td>128.970</td>\n",
       "      <td>0.000</td>\n",
       "      <td>128.970</td>\n",
       "      <td>NaN</td>\n",
       "      <td>NaN</td>\n",
       "      <td>NaN</td>\n",
       "      <td>NaN</td>\n",
       "      <td>NaN</td>\n",
       "    </tr>\n",
       "    <tr>\n",
       "      <th>2030-09-30</th>\n",
       "      <td>9,011.010</td>\n",
       "      <td>0.000</td>\n",
       "      <td>0.000</td>\n",
       "      <td>0.000</td>\n",
       "      <td>0.000</td>\n",
       "      <td>542.630</td>\n",
       "      <td>0.000</td>\n",
       "      <td>122.200</td>\n",
       "      <td>0.000</td>\n",
       "      <td>122.200</td>\n",
       "      <td>NaN</td>\n",
       "      <td>NaN</td>\n",
       "      <td>NaN</td>\n",
       "      <td>NaN</td>\n",
       "      <td>NaN</td>\n",
       "    </tr>\n",
       "    <tr>\n",
       "      <th>2030-12-31</th>\n",
       "      <td>9,011.010</td>\n",
       "      <td>0.000</td>\n",
       "      <td>0.000</td>\n",
       "      <td>0.000</td>\n",
       "      <td>0.000</td>\n",
       "      <td>390.930</td>\n",
       "      <td>0.000</td>\n",
       "      <td>114.570</td>\n",
       "      <td>0.000</td>\n",
       "      <td>114.570</td>\n",
       "      <td>NaN</td>\n",
       "      <td>NaN</td>\n",
       "      <td>NaN</td>\n",
       "      <td>NaN</td>\n",
       "      <td>NaN</td>\n",
       "    </tr>\n",
       "    <tr>\n",
       "      <th>2031-03-31</th>\n",
       "      <td>8,906.600</td>\n",
       "      <td>0.000</td>\n",
       "      <td>104.410</td>\n",
       "      <td>0.000</td>\n",
       "      <td>104.410</td>\n",
       "      <td>0.000</td>\n",
       "      <td>0.000</td>\n",
       "      <td>390.930</td>\n",
       "      <td>0.000</td>\n",
       "      <td>390.930</td>\n",
       "      <td>NaN</td>\n",
       "      <td>NaN</td>\n",
       "      <td>NaN</td>\n",
       "      <td>NaN</td>\n",
       "      <td>NaN</td>\n",
       "    </tr>\n",
       "    <tr>\n",
       "      <th>2031-06-30</th>\n",
       "      <td>8,426.610</td>\n",
       "      <td>0.000</td>\n",
       "      <td>479.990</td>\n",
       "      <td>0.000</td>\n",
       "      <td>479.990</td>\n",
       "      <td>0.000</td>\n",
       "      <td>0.000</td>\n",
       "      <td>0.000</td>\n",
       "      <td>0.000</td>\n",
       "      <td>0.000</td>\n",
       "      <td>NaN</td>\n",
       "      <td>NaN</td>\n",
       "      <td>NaN</td>\n",
       "      <td>NaN</td>\n",
       "      <td>NaN</td>\n",
       "    </tr>\n",
       "    <tr>\n",
       "      <th>2031-09-30</th>\n",
       "      <td>8,327.930</td>\n",
       "      <td>0.000</td>\n",
       "      <td>98.680</td>\n",
       "      <td>0.000</td>\n",
       "      <td>98.680</td>\n",
       "      <td>0.000</td>\n",
       "      <td>0.000</td>\n",
       "      <td>0.000</td>\n",
       "      <td>0.000</td>\n",
       "      <td>0.000</td>\n",
       "      <td>NaN</td>\n",
       "      <td>NaN</td>\n",
       "      <td>NaN</td>\n",
       "      <td>NaN</td>\n",
       "      <td>NaN</td>\n",
       "    </tr>\n",
       "    <tr>\n",
       "      <th>2031-12-31</th>\n",
       "      <td>5,997.860</td>\n",
       "      <td>0.000</td>\n",
       "      <td>2,330.070</td>\n",
       "      <td>0.000</td>\n",
       "      <td>2,330.070</td>\n",
       "      <td>0.000</td>\n",
       "      <td>4,149.860</td>\n",
       "      <td>0.000</td>\n",
       "      <td>0.070</td>\n",
       "      <td>4,149.860</td>\n",
       "      <td>NaN</td>\n",
       "      <td>NaN</td>\n",
       "      <td>NaN</td>\n",
       "      <td>NaN</td>\n",
       "      <td>NaN</td>\n",
       "    </tr>\n",
       "  </tbody>\n",
       "</table>\n",
       "</div>"
      ],
      "text/plain": [
       "Bond              A1                                            B            \\\n",
       "Field        balance interest principal  rate      cash   balance  interest   \n",
       "date                                                                          \n",
       "2024-11-15       NaN      NaN       NaN   NaN       NaN 5,100.000     0.000   \n",
       "2024-12-15 9,440.000    0.000     0.000 0.000     0.000 5,100.000     0.000   \n",
       "2024-12-31 9,440.000    0.000     0.000 0.000     0.000 5,100.000     0.000   \n",
       "2025-03-31 9,440.000    0.000     0.000 0.000     0.000 5,100.000     0.000   \n",
       "2025-06-30 9,440.000    0.000     0.000 0.000     0.000 5,100.000     0.000   \n",
       "2025-09-30 9,219.430    0.000   220.570 0.000   220.570 4,980.850     0.000   \n",
       "2025-12-31 9,011.010    0.000   208.420 0.000   208.420 4,868.260     0.000   \n",
       "2026-03-31 9,011.010    0.000     0.000 0.000     0.000 4,868.260     0.000   \n",
       "2026-06-30 9,011.010    0.000     0.000 0.000     0.000 4,599.570     0.000   \n",
       "2026-09-30 9,011.010    0.000     0.000 0.000     0.000 4,311.990     0.000   \n",
       "2026-12-31 9,011.010    0.000     0.000 0.000     0.000 4,042.360     0.000   \n",
       "2027-03-31 9,011.010    0.000     0.000 0.000     0.000 3,789.450     0.000   \n",
       "2027-06-30 9,011.010    0.000     0.000 0.000     0.000 3,481.260     0.000   \n",
       "2027-09-30 9,011.010    0.000     0.000 0.000     0.000 3,173.750     0.000   \n",
       "2027-12-31 9,011.010    0.000     0.000 0.000     0.000 2,885.470     0.000   \n",
       "2028-03-31 9,011.010    0.000     0.000 0.000     0.000 2,612.150     0.000   \n",
       "2028-06-30 9,011.010    0.000     0.000 0.000     0.000 2,350.240     0.000   \n",
       "2028-09-30 9,011.010    0.000     0.000 0.000     0.000 2,102.070     0.000   \n",
       "2028-12-31 9,011.010    0.000     0.000 0.000     0.000 1,869.410     0.000   \n",
       "2029-03-31 9,011.010    0.000     0.000 0.000     0.000 1,651.190     0.000   \n",
       "2029-06-30 9,011.010    0.000     0.000 0.000     0.000 1,439.700     0.000   \n",
       "2029-09-30 9,011.010    0.000     0.000 0.000     0.000 1,239.310     0.000   \n",
       "2029-12-31 9,011.010    0.000     0.000 0.000     0.000 1,051.440     0.000   \n",
       "2030-03-31 9,011.010    0.000     0.000 0.000     0.000   875.230     0.000   \n",
       "2030-06-30 9,011.010    0.000     0.000 0.000     0.000   704.450     0.000   \n",
       "2030-09-30 9,011.010    0.000     0.000 0.000     0.000   542.630     0.000   \n",
       "2030-12-31 9,011.010    0.000     0.000 0.000     0.000   390.930     0.000   \n",
       "2031-03-31 8,906.600    0.000   104.410 0.000   104.410     0.000     0.000   \n",
       "2031-06-30 8,426.610    0.000   479.990 0.000   479.990     0.000     0.000   \n",
       "2031-09-30 8,327.930    0.000    98.680 0.000    98.680     0.000     0.000   \n",
       "2031-12-31 5,997.860    0.000 2,330.070 0.000 2,330.070     0.000 4,149.860   \n",
       "\n",
       "Bond                                        C                                   \n",
       "Field       principal  rate      cash balance interest principal  rate    cash  \n",
       "date                                                                            \n",
       "2024-11-15 -5,100.000 0.000     0.000     NaN      NaN       NaN   NaN     NaN  \n",
       "2024-12-15      0.000 0.000     0.000 950.000    0.000     0.000 0.000   0.000  \n",
       "2024-12-31      0.000 0.000     0.000 950.000    0.000     0.000 0.000   0.000  \n",
       "2025-03-31      0.000 0.000     0.000 824.320    0.000     0.000 0.000   0.000  \n",
       "2025-06-30      0.000 0.000     0.000 702.470    0.000     0.000 0.000   0.000  \n",
       "2025-09-30    119.150 0.000   119.150 570.600    0.000    16.410 0.000  16.410  \n",
       "2025-12-31    112.590 0.000   112.590 449.490    0.000    12.890 0.000  12.890  \n",
       "2026-03-31      0.000 0.000     0.000  34.810    0.000   313.200 0.000 313.200  \n",
       "2026-06-30    268.690 0.000   268.690   0.000    0.000    34.810 0.000  34.810  \n",
       "2026-09-30    287.580 0.000   287.580     NaN      NaN       NaN   NaN     NaN  \n",
       "2026-12-31    269.630 0.000   269.630     NaN      NaN       NaN   NaN     NaN  \n",
       "2027-03-31    252.910 0.000   252.910     NaN      NaN       NaN   NaN     NaN  \n",
       "2027-06-30    245.080 0.000   245.080     NaN      NaN       NaN   NaN     NaN  \n",
       "2027-09-30    232.220 0.000   232.220     NaN      NaN       NaN   NaN     NaN  \n",
       "2027-12-31    217.720 0.000   217.720     NaN      NaN       NaN   NaN     NaN  \n",
       "2028-03-31    206.420 0.000   206.420     NaN      NaN       NaN   NaN     NaN  \n",
       "2028-06-30    197.790 0.000   197.790     NaN      NaN       NaN   NaN     NaN  \n",
       "2028-09-30    187.410 0.000   187.410     NaN      NaN       NaN   NaN     NaN  \n",
       "2028-12-31    175.710 0.000   175.710     NaN      NaN       NaN   NaN     NaN  \n",
       "2029-03-31    164.820 0.000   164.820     NaN      NaN       NaN   NaN     NaN  \n",
       "2029-06-30    159.710 0.000   159.710     NaN      NaN       NaN   NaN     NaN  \n",
       "2029-09-30    151.330 0.000   151.330     NaN      NaN       NaN   NaN     NaN  \n",
       "2029-12-31    141.890 0.000   141.890     NaN      NaN       NaN   NaN     NaN  \n",
       "2030-03-31    133.090 0.000   133.090     NaN      NaN       NaN   NaN     NaN  \n",
       "2030-06-30    128.970 0.000   128.970     NaN      NaN       NaN   NaN     NaN  \n",
       "2030-09-30    122.200 0.000   122.200     NaN      NaN       NaN   NaN     NaN  \n",
       "2030-12-31    114.570 0.000   114.570     NaN      NaN       NaN   NaN     NaN  \n",
       "2031-03-31    390.930 0.000   390.930     NaN      NaN       NaN   NaN     NaN  \n",
       "2031-06-30      0.000 0.000     0.000     NaN      NaN       NaN   NaN     NaN  \n",
       "2031-09-30      0.000 0.000     0.000     NaN      NaN       NaN   NaN     NaN  \n",
       "2031-12-31      0.000 0.070 4,149.860     NaN      NaN       NaN   NaN     NaN  "
      ]
     },
     "execution_count": 164,
     "metadata": {},
     "output_type": "execute_result"
    }
   ],
   "source": [
    "from absbox import readBondsCf\n",
    "readBondsCf(r0['bonds'])"
   ]
  },
  {
   "cell_type": "code",
   "execution_count": 104,
   "id": "25116ca4-7afb-452c-aa83-030f2a61bc4d",
   "metadata": {},
   "outputs": [
    {
     "data": {
      "text/plain": [
       "398.1541059581217"
      ]
     },
     "execution_count": 104,
     "metadata": {},
     "output_type": "execute_result"
    }
   ],
   "source": [
    "(1-(1-0.15)**(1/4) )* 10_000.000"
   ]
  },
  {
   "cell_type": "code",
   "execution_count": 105,
   "id": "1809c72d-9d79-4c16-ac07-c90a8856efd3",
   "metadata": {},
   "outputs": [
    {
     "data": {
      "text/plain": [
       "382.51461267608676"
      ]
     },
     "execution_count": 105,
     "metadata": {},
     "output_type": "execute_result"
    }
   ],
   "source": [
    "(1-(1-0.15)**(1/4) )* 9_607.200"
   ]
  },
  {
   "cell_type": "code",
   "execution_count": 106,
   "id": "db9f79f2-c421-4233-b7e3-c5d1e9eb420d",
   "metadata": {},
   "outputs": [
    {
     "data": {
      "text/plain": [
       "367.1621885044475"
      ]
     },
     "execution_count": 106,
     "metadata": {},
     "output_type": "execute_result"
    }
   ],
   "source": [
    "(1-(1-0.15)**(1/4) )* 9_221.610"
   ]
  },
  {
   "cell_type": "code",
   "execution_count": 107,
   "id": "79b05bc8-2318-4a0a-b813-3e3c6fcb64fe",
   "metadata": {},
   "outputs": [
    {
     "data": {
      "text/plain": [
       "352.42610688883144"
      ]
     },
     "execution_count": 107,
     "metadata": {},
     "output_type": "execute_result"
    }
   ],
   "source": [
    "(1-(1-0.15)**(1/4) )* 8_851.500"
   ]
  },
  {
   "cell_type": "code",
   "execution_count": 108,
   "id": "04b2bd63-9905-4f69-bd65-bafc8510cf67",
   "metadata": {},
   "outputs": [
    {
     "data": {
      "text/plain": [
       "1500.2570140274875"
      ]
     },
     "execution_count": 108,
     "metadata": {},
     "output_type": "execute_result"
    }
   ],
   "source": [
    "352.42610688883144+367.1621885044475+382.51461267608676+398.1541059581217"
   ]
  },
  {
   "cell_type": "code",
   "execution_count": null,
   "id": "ba102d98-2b85-4fea-8ccb-3093499d58d1",
   "metadata": {},
   "outputs": [],
   "source": []
  },
  {
   "cell_type": "code",
   "execution_count": 193,
   "id": "d6347c14-63e6-4f36-a116-5445b88ae93a",
   "metadata": {},
   "outputs": [
    {
     "data": {
      "text/plain": [
       "Date\n",
       "2024-11-15   0.000\n",
       "2024-12-31   0.000\n",
       "2025-03-31   0.000\n",
       "2025-06-30   0.001\n",
       "2025-09-30   0.001\n",
       "2025-12-31   0.001\n",
       "2026-03-31   0.002\n",
       "2026-06-30   0.002\n",
       "2026-09-30   0.002\n",
       "2026-12-31   0.002\n",
       "2027-03-31   0.003\n",
       "2027-06-30   0.003\n",
       "2027-09-30   0.003\n",
       "2027-12-31   0.003\n",
       "2028-03-31   0.003\n",
       "2028-06-30   0.004\n",
       "2028-09-30   0.004\n",
       "2028-12-31   0.004\n",
       "2029-03-31   0.004\n",
       "2029-06-30   0.004\n",
       "2029-09-30   0.005\n",
       "2029-12-31   0.005\n",
       "2030-03-31   0.005\n",
       "2030-06-30   0.005\n",
       "2030-09-30   0.005\n",
       "2030-12-31   0.005\n",
       "2031-03-31   0.005\n",
       "2031-06-30   0.005\n",
       "2031-09-30   0.006\n",
       "2031-12-31   0.006\n",
       "Name: CumDefault, dtype: float64"
      ]
     },
     "execution_count": 193,
     "metadata": {},
     "output_type": "execute_result"
    }
   ],
   "source": [
    "r0['pool']['flow'].CumDefault / r0['pool']['flow'].Balance[0]"
   ]
  },
  {
   "cell_type": "code",
   "execution_count": null,
   "id": "5bd76bc4-cb29-4f36-9852-b1e7687b4d27",
   "metadata": {},
   "outputs": [],
   "source": []
  },
  {
   "cell_type": "code",
   "execution_count": null,
   "id": "c0e509d7-4d68-40a1-b475-99810e3c969a",
   "metadata": {},
   "outputs": [],
   "source": []
  },
  {
   "cell_type": "code",
   "execution_count": 93,
   "id": "f51d1058-6ac4-4cc3-b885-ad1d0aff88a6",
   "metadata": {},
   "outputs": [
    {
     "data": {
      "text/html": [
       "<div>\n",
       "<style scoped>\n",
       "    .dataframe tbody tr th:only-of-type {\n",
       "        vertical-align: middle;\n",
       "    }\n",
       "\n",
       "    .dataframe tbody tr th {\n",
       "        vertical-align: top;\n",
       "    }\n",
       "\n",
       "    .dataframe thead th {\n",
       "        text-align: right;\n",
       "    }\n",
       "</style>\n",
       "<table border=\"1\" class=\"dataframe\">\n",
       "  <thead>\n",
       "    <tr style=\"text-align: right;\">\n",
       "      <th></th>\n",
       "      <th>Date</th>\n",
       "      <th>From</th>\n",
       "      <th>To</th>\n",
       "    </tr>\n",
       "  </thead>\n",
       "  <tbody>\n",
       "    <tr>\n",
       "      <th>0</th>\n",
       "      <td>2024-11-15</td>\n",
       "      <td>PreClosing</td>\n",
       "      <td>Amortizing</td>\n",
       "    </tr>\n",
       "    <tr>\n",
       "      <th>1</th>\n",
       "      <td>2030-01-01</td>\n",
       "      <td>DealEnd</td>\n",
       "      <td>Stop: Stated Maturity</td>\n",
       "    </tr>\n",
       "  </tbody>\n",
       "</table>\n",
       "</div>"
      ],
      "text/plain": [
       "         Date        From                     To\n",
       "0  2024-11-15  PreClosing             Amortizing\n",
       "1  2030-01-01     DealEnd  Stop: Stated Maturity"
      ]
     },
     "execution_count": 93,
     "metadata": {},
     "output_type": "execute_result"
    }
   ],
   "source": [
    "r0['result']['status']"
   ]
  },
  {
   "cell_type": "code",
   "execution_count": null,
   "id": "4c13a359-8a36-4048-bce1-faffd9e7e476",
   "metadata": {},
   "outputs": [],
   "source": [
    "r02 = localAPI.run(srt02,poolAssump=(\"Pool\",(\"Mortgage\", None, None, None, None),None,None)\n",
    "                # ,runAssump=[(\"call\",(\"poolFactor\",0.10)),(\"inspect\",(\"MonthEnd\",(\"excess\", (\"cumPoolNetLoss\",)\n",
    "                #            , (\"abs\",(\"accountTxnAmount\",\"<Support:originator>\",\"srtAcc\")), (\"constant\",firstLossTranche))))]\n",
    "                ,runAssump=runDealAssump,read=True)"
   ]
  },
  {
   "cell_type": "code",
   "execution_count": 55,
   "id": "106d7a47-c428-4adf-81ad-6c676042a884",
   "metadata": {},
   "outputs": [
    {
     "data": {
      "text/plain": [
       "(-343.47, -394.52)"
      ]
     },
     "execution_count": 55,
     "metadata": {},
     "output_type": "execute_result"
    }
   ],
   "source": [
    "r02['bonds']['B'].principal.sum(),r03['bonds']['B'].principal.sum()"
   ]
  },
  {
   "cell_type": "code",
   "execution_count": 56,
   "id": "d3056713-996d-415a-966c-82ac4ccbb4db",
   "metadata": {},
   "outputs": [
    {
     "data": {
      "text/html": [
       "<div>\n",
       "<style scoped>\n",
       "    .dataframe tbody tr th:only-of-type {\n",
       "        vertical-align: middle;\n",
       "    }\n",
       "\n",
       "    .dataframe tbody tr th {\n",
       "        vertical-align: top;\n",
       "    }\n",
       "\n",
       "    .dataframe thead th {\n",
       "        text-align: right;\n",
       "    }\n",
       "</style>\n",
       "<table border=\"1\" class=\"dataframe\">\n",
       "  <thead>\n",
       "    <tr style=\"text-align: right;\">\n",
       "      <th></th>\n",
       "      <th>balance</th>\n",
       "      <th>interest</th>\n",
       "      <th>principal</th>\n",
       "      <th>rate</th>\n",
       "      <th>cash</th>\n",
       "      <th>intDue</th>\n",
       "      <th>intOverInt</th>\n",
       "      <th>factor</th>\n",
       "      <th>memo</th>\n",
       "    </tr>\n",
       "    <tr>\n",
       "      <th>date</th>\n",
       "      <th></th>\n",
       "      <th></th>\n",
       "      <th></th>\n",
       "      <th></th>\n",
       "      <th></th>\n",
       "      <th></th>\n",
       "      <th></th>\n",
       "      <th></th>\n",
       "      <th></th>\n",
       "    </tr>\n",
       "  </thead>\n",
       "  <tbody>\n",
       "    <tr>\n",
       "      <th>2024-11-15</th>\n",
       "      <td>510.000</td>\n",
       "      <td>0.000</td>\n",
       "      <td>-510.000</td>\n",
       "      <td>0.000</td>\n",
       "      <td>0.000</td>\n",
       "      <td>0</td>\n",
       "      <td>0</td>\n",
       "      <td>None</td>\n",
       "      <td>&lt;FundWith:B,510.00&gt;</td>\n",
       "    </tr>\n",
       "    <tr>\n",
       "      <th>2024-12-15</th>\n",
       "      <td>510.000</td>\n",
       "      <td>2.930</td>\n",
       "      <td>0.000</td>\n",
       "      <td>0.070</td>\n",
       "      <td>2.930</td>\n",
       "      <td>0</td>\n",
       "      <td>0</td>\n",
       "      <td>None</td>\n",
       "      <td>[&lt;PayInt:B&gt;, &lt;PayPrin:B&gt;]</td>\n",
       "    </tr>\n",
       "    <tr>\n",
       "      <th>2024-12-20</th>\n",
       "      <td>510.000</td>\n",
       "      <td>0.480</td>\n",
       "      <td>0.000</td>\n",
       "      <td>0.070</td>\n",
       "      <td>0.480</td>\n",
       "      <td>0</td>\n",
       "      <td>0</td>\n",
       "      <td>None</td>\n",
       "      <td>[&lt;PayInt:B&gt;, &lt;PayPrin:B&gt;]</td>\n",
       "    </tr>\n",
       "    <tr>\n",
       "      <th>2025-01-20</th>\n",
       "      <td>510.000</td>\n",
       "      <td>3.030</td>\n",
       "      <td>0.000</td>\n",
       "      <td>0.070</td>\n",
       "      <td>3.030</td>\n",
       "      <td>0</td>\n",
       "      <td>0</td>\n",
       "      <td>None</td>\n",
       "      <td>[&lt;PayInt:B&gt;, &lt;PayPrin:B&gt;]</td>\n",
       "    </tr>\n",
       "    <tr>\n",
       "      <th>2025-02-20</th>\n",
       "      <td>504.440</td>\n",
       "      <td>3.030</td>\n",
       "      <td>5.560</td>\n",
       "      <td>0.070</td>\n",
       "      <td>8.590</td>\n",
       "      <td>0</td>\n",
       "      <td>0</td>\n",
       "      <td>None</td>\n",
       "      <td>[&lt;PayInt:B&gt;, &lt;PayPrin:B&gt;]</td>\n",
       "    </tr>\n",
       "    <tr>\n",
       "      <th>2025-03-20</th>\n",
       "      <td>498.860</td>\n",
       "      <td>2.700</td>\n",
       "      <td>5.580</td>\n",
       "      <td>0.070</td>\n",
       "      <td>8.280</td>\n",
       "      <td>0</td>\n",
       "      <td>0</td>\n",
       "      <td>None</td>\n",
       "      <td>[&lt;PayInt:B&gt;, &lt;PayPrin:B&gt;]</td>\n",
       "    </tr>\n",
       "    <tr>\n",
       "      <th>2025-04-20</th>\n",
       "      <td>493.250</td>\n",
       "      <td>2.960</td>\n",
       "      <td>5.610</td>\n",
       "      <td>0.070</td>\n",
       "      <td>8.570</td>\n",
       "      <td>0</td>\n",
       "      <td>0</td>\n",
       "      <td>None</td>\n",
       "      <td>[&lt;PayInt:B&gt;, &lt;PayPrin:B&gt;]</td>\n",
       "    </tr>\n",
       "    <tr>\n",
       "      <th>2025-05-20</th>\n",
       "      <td>487.610</td>\n",
       "      <td>2.830</td>\n",
       "      <td>5.640</td>\n",
       "      <td>0.070</td>\n",
       "      <td>8.470</td>\n",
       "      <td>0</td>\n",
       "      <td>0</td>\n",
       "      <td>None</td>\n",
       "      <td>[&lt;PayInt:B&gt;, &lt;PayPrin:B&gt;]</td>\n",
       "    </tr>\n",
       "    <tr>\n",
       "      <th>2025-06-20</th>\n",
       "      <td>481.940</td>\n",
       "      <td>2.890</td>\n",
       "      <td>5.670</td>\n",
       "      <td>0.070</td>\n",
       "      <td>8.560</td>\n",
       "      <td>0</td>\n",
       "      <td>0</td>\n",
       "      <td>None</td>\n",
       "      <td>[&lt;PayInt:B&gt;, &lt;PayPrin:B&gt;]</td>\n",
       "    </tr>\n",
       "    <tr>\n",
       "      <th>2025-07-20</th>\n",
       "      <td>476.240</td>\n",
       "      <td>2.770</td>\n",
       "      <td>5.700</td>\n",
       "      <td>0.070</td>\n",
       "      <td>8.470</td>\n",
       "      <td>0</td>\n",
       "      <td>0</td>\n",
       "      <td>None</td>\n",
       "      <td>[&lt;PayInt:B&gt;, &lt;PayPrin:B&gt;]</td>\n",
       "    </tr>\n",
       "    <tr>\n",
       "      <th>2025-08-20</th>\n",
       "      <td>470.520</td>\n",
       "      <td>2.830</td>\n",
       "      <td>5.720</td>\n",
       "      <td>0.070</td>\n",
       "      <td>8.550</td>\n",
       "      <td>0</td>\n",
       "      <td>0</td>\n",
       "      <td>None</td>\n",
       "      <td>[&lt;PayInt:B&gt;, &lt;PayPrin:B&gt;]</td>\n",
       "    </tr>\n",
       "    <tr>\n",
       "      <th>2025-09-20</th>\n",
       "      <td>464.770</td>\n",
       "      <td>2.790</td>\n",
       "      <td>5.750</td>\n",
       "      <td>0.070</td>\n",
       "      <td>8.540</td>\n",
       "      <td>0</td>\n",
       "      <td>0</td>\n",
       "      <td>None</td>\n",
       "      <td>[&lt;PayInt:B&gt;, &lt;PayPrin:B&gt;]</td>\n",
       "    </tr>\n",
       "    <tr>\n",
       "      <th>2025-10-20</th>\n",
       "      <td>458.990</td>\n",
       "      <td>2.670</td>\n",
       "      <td>5.780</td>\n",
       "      <td>0.070</td>\n",
       "      <td>8.450</td>\n",
       "      <td>0</td>\n",
       "      <td>0</td>\n",
       "      <td>None</td>\n",
       "      <td>[&lt;PayInt:B&gt;, &lt;PayPrin:B&gt;]</td>\n",
       "    </tr>\n",
       "    <tr>\n",
       "      <th>2025-11-20</th>\n",
       "      <td>453.180</td>\n",
       "      <td>2.720</td>\n",
       "      <td>5.810</td>\n",
       "      <td>0.070</td>\n",
       "      <td>8.530</td>\n",
       "      <td>0</td>\n",
       "      <td>0</td>\n",
       "      <td>None</td>\n",
       "      <td>[&lt;PayInt:B&gt;, &lt;PayPrin:B&gt;]</td>\n",
       "    </tr>\n",
       "    <tr>\n",
       "      <th>2025-12-20</th>\n",
       "      <td>447.340</td>\n",
       "      <td>2.600</td>\n",
       "      <td>5.840</td>\n",
       "      <td>0.070</td>\n",
       "      <td>8.440</td>\n",
       "      <td>0</td>\n",
       "      <td>0</td>\n",
       "      <td>None</td>\n",
       "      <td>[&lt;PayInt:B&gt;, &lt;PayPrin:B&gt;]</td>\n",
       "    </tr>\n",
       "    <tr>\n",
       "      <th>2026-01-20</th>\n",
       "      <td>441.470</td>\n",
       "      <td>2.650</td>\n",
       "      <td>5.870</td>\n",
       "      <td>0.070</td>\n",
       "      <td>8.520</td>\n",
       "      <td>0</td>\n",
       "      <td>0</td>\n",
       "      <td>None</td>\n",
       "      <td>[&lt;PayInt:B&gt;, &lt;PayPrin:B&gt;]</td>\n",
       "    </tr>\n",
       "    <tr>\n",
       "      <th>2026-02-20</th>\n",
       "      <td>435.570</td>\n",
       "      <td>2.620</td>\n",
       "      <td>5.900</td>\n",
       "      <td>0.070</td>\n",
       "      <td>8.520</td>\n",
       "      <td>0</td>\n",
       "      <td>0</td>\n",
       "      <td>None</td>\n",
       "      <td>[&lt;PayInt:B&gt;, &lt;PayPrin:B&gt;]</td>\n",
       "    </tr>\n",
       "    <tr>\n",
       "      <th>2026-03-20</th>\n",
       "      <td>429.640</td>\n",
       "      <td>2.330</td>\n",
       "      <td>5.930</td>\n",
       "      <td>0.070</td>\n",
       "      <td>8.260</td>\n",
       "      <td>0</td>\n",
       "      <td>0</td>\n",
       "      <td>None</td>\n",
       "      <td>[&lt;PayInt:B&gt;, &lt;PayPrin:B&gt;]</td>\n",
       "    </tr>\n",
       "    <tr>\n",
       "      <th>2026-04-20</th>\n",
       "      <td>423.680</td>\n",
       "      <td>2.550</td>\n",
       "      <td>5.960</td>\n",
       "      <td>0.070</td>\n",
       "      <td>8.510</td>\n",
       "      <td>0</td>\n",
       "      <td>0</td>\n",
       "      <td>None</td>\n",
       "      <td>[&lt;PayInt:B&gt;, &lt;PayPrin:B&gt;]</td>\n",
       "    </tr>\n",
       "    <tr>\n",
       "      <th>2026-05-20</th>\n",
       "      <td>417.690</td>\n",
       "      <td>2.430</td>\n",
       "      <td>5.990</td>\n",
       "      <td>0.070</td>\n",
       "      <td>8.420</td>\n",
       "      <td>0</td>\n",
       "      <td>0</td>\n",
       "      <td>None</td>\n",
       "      <td>[&lt;PayInt:B&gt;, &lt;PayPrin:B&gt;]</td>\n",
       "    </tr>\n",
       "    <tr>\n",
       "      <th>2026-06-20</th>\n",
       "      <td>411.670</td>\n",
       "      <td>2.480</td>\n",
       "      <td>6.020</td>\n",
       "      <td>0.070</td>\n",
       "      <td>8.500</td>\n",
       "      <td>0</td>\n",
       "      <td>0</td>\n",
       "      <td>None</td>\n",
       "      <td>[&lt;PayInt:B&gt;, &lt;PayPrin:B&gt;]</td>\n",
       "    </tr>\n",
       "    <tr>\n",
       "      <th>2026-07-20</th>\n",
       "      <td>405.620</td>\n",
       "      <td>2.360</td>\n",
       "      <td>6.050</td>\n",
       "      <td>0.070</td>\n",
       "      <td>8.410</td>\n",
       "      <td>0</td>\n",
       "      <td>0</td>\n",
       "      <td>None</td>\n",
       "      <td>[&lt;PayInt:B&gt;, &lt;PayPrin:B&gt;]</td>\n",
       "    </tr>\n",
       "    <tr>\n",
       "      <th>2026-08-20</th>\n",
       "      <td>399.540</td>\n",
       "      <td>2.410</td>\n",
       "      <td>6.080</td>\n",
       "      <td>0.070</td>\n",
       "      <td>8.490</td>\n",
       "      <td>0</td>\n",
       "      <td>0</td>\n",
       "      <td>None</td>\n",
       "      <td>[&lt;PayInt:B&gt;, &lt;PayPrin:B&gt;]</td>\n",
       "    </tr>\n",
       "    <tr>\n",
       "      <th>2026-09-20</th>\n",
       "      <td>393.430</td>\n",
       "      <td>2.370</td>\n",
       "      <td>6.110</td>\n",
       "      <td>0.070</td>\n",
       "      <td>8.480</td>\n",
       "      <td>0</td>\n",
       "      <td>0</td>\n",
       "      <td>None</td>\n",
       "      <td>[&lt;PayInt:B&gt;, &lt;PayPrin:B&gt;]</td>\n",
       "    </tr>\n",
       "    <tr>\n",
       "      <th>2026-10-20</th>\n",
       "      <td>387.290</td>\n",
       "      <td>2.260</td>\n",
       "      <td>6.140</td>\n",
       "      <td>0.070</td>\n",
       "      <td>8.400</td>\n",
       "      <td>0</td>\n",
       "      <td>0</td>\n",
       "      <td>None</td>\n",
       "      <td>[&lt;PayInt:B&gt;, &lt;PayPrin:B&gt;]</td>\n",
       "    </tr>\n",
       "    <tr>\n",
       "      <th>2026-11-20</th>\n",
       "      <td>381.120</td>\n",
       "      <td>2.300</td>\n",
       "      <td>6.170</td>\n",
       "      <td>0.070</td>\n",
       "      <td>8.470</td>\n",
       "      <td>0</td>\n",
       "      <td>0</td>\n",
       "      <td>None</td>\n",
       "      <td>[&lt;PayInt:B&gt;, &lt;PayPrin:B&gt;]</td>\n",
       "    </tr>\n",
       "    <tr>\n",
       "      <th>2026-12-20</th>\n",
       "      <td>374.920</td>\n",
       "      <td>2.190</td>\n",
       "      <td>6.200</td>\n",
       "      <td>0.070</td>\n",
       "      <td>8.390</td>\n",
       "      <td>0</td>\n",
       "      <td>0</td>\n",
       "      <td>None</td>\n",
       "      <td>[&lt;PayInt:B&gt;, &lt;PayPrin:B&gt;]</td>\n",
       "    </tr>\n",
       "    <tr>\n",
       "      <th>2027-01-20</th>\n",
       "      <td>368.690</td>\n",
       "      <td>2.220</td>\n",
       "      <td>6.230</td>\n",
       "      <td>0.070</td>\n",
       "      <td>8.450</td>\n",
       "      <td>0</td>\n",
       "      <td>0</td>\n",
       "      <td>None</td>\n",
       "      <td>[&lt;PayInt:B&gt;, &lt;PayPrin:B&gt;]</td>\n",
       "    </tr>\n",
       "    <tr>\n",
       "      <th>2027-02-20</th>\n",
       "      <td>362.430</td>\n",
       "      <td>2.190</td>\n",
       "      <td>6.260</td>\n",
       "      <td>0.070</td>\n",
       "      <td>8.450</td>\n",
       "      <td>0</td>\n",
       "      <td>0</td>\n",
       "      <td>None</td>\n",
       "      <td>[&lt;PayInt:B&gt;, &lt;PayPrin:B&gt;]</td>\n",
       "    </tr>\n",
       "    <tr>\n",
       "      <th>2027-03-20</th>\n",
       "      <td>356.140</td>\n",
       "      <td>1.940</td>\n",
       "      <td>6.290</td>\n",
       "      <td>0.070</td>\n",
       "      <td>8.230</td>\n",
       "      <td>0</td>\n",
       "      <td>0</td>\n",
       "      <td>None</td>\n",
       "      <td>[&lt;PayInt:B&gt;, &lt;PayPrin:B&gt;]</td>\n",
       "    </tr>\n",
       "    <tr>\n",
       "      <th>2027-04-20</th>\n",
       "      <td>349.820</td>\n",
       "      <td>2.110</td>\n",
       "      <td>6.320</td>\n",
       "      <td>0.070</td>\n",
       "      <td>8.430</td>\n",
       "      <td>0</td>\n",
       "      <td>0</td>\n",
       "      <td>None</td>\n",
       "      <td>[&lt;PayInt:B&gt;, &lt;PayPrin:B&gt;]</td>\n",
       "    </tr>\n",
       "    <tr>\n",
       "      <th>2027-05-20</th>\n",
       "      <td>343.470</td>\n",
       "      <td>2.010</td>\n",
       "      <td>6.350</td>\n",
       "      <td>0.070</td>\n",
       "      <td>8.360</td>\n",
       "      <td>0</td>\n",
       "      <td>0</td>\n",
       "      <td>None</td>\n",
       "      <td>[&lt;PayInt:B&gt;, &lt;PayPrin:B&gt;]</td>\n",
       "    </tr>\n",
       "    <tr>\n",
       "      <th>2027-06-20</th>\n",
       "      <td>343.470</td>\n",
       "      <td>2.040</td>\n",
       "      <td>0.000</td>\n",
       "      <td>0.070</td>\n",
       "      <td>2.040</td>\n",
       "      <td>0</td>\n",
       "      <td>0</td>\n",
       "      <td>None</td>\n",
       "      <td>[&lt;PayInt:B&gt;, &lt;PayPrin:B&gt;]</td>\n",
       "    </tr>\n",
       "    <tr>\n",
       "      <th>2027-07-20</th>\n",
       "      <td>343.470</td>\n",
       "      <td>1.970</td>\n",
       "      <td>0.000</td>\n",
       "      <td>0.070</td>\n",
       "      <td>1.970</td>\n",
       "      <td>0</td>\n",
       "      <td>0</td>\n",
       "      <td>None</td>\n",
       "      <td>[&lt;PayInt:B&gt;, &lt;PayPrin:B&gt;]</td>\n",
       "    </tr>\n",
       "    <tr>\n",
       "      <th>2027-08-20</th>\n",
       "      <td>343.470</td>\n",
       "      <td>2.040</td>\n",
       "      <td>0.000</td>\n",
       "      <td>0.070</td>\n",
       "      <td>2.040</td>\n",
       "      <td>0</td>\n",
       "      <td>0</td>\n",
       "      <td>None</td>\n",
       "      <td>[&lt;PayInt:B&gt;, &lt;PayPrin:B&gt;]</td>\n",
       "    </tr>\n",
       "    <tr>\n",
       "      <th>2027-09-20</th>\n",
       "      <td>343.470</td>\n",
       "      <td>2.040</td>\n",
       "      <td>0.000</td>\n",
       "      <td>0.070</td>\n",
       "      <td>2.040</td>\n",
       "      <td>0</td>\n",
       "      <td>0</td>\n",
       "      <td>None</td>\n",
       "      <td>[&lt;PayInt:B&gt;, &lt;PayPrin:B&gt;]</td>\n",
       "    </tr>\n",
       "    <tr>\n",
       "      <th>2027-10-20</th>\n",
       "      <td>343.470</td>\n",
       "      <td>1.970</td>\n",
       "      <td>0.000</td>\n",
       "      <td>0.070</td>\n",
       "      <td>1.970</td>\n",
       "      <td>0</td>\n",
       "      <td>0</td>\n",
       "      <td>None</td>\n",
       "      <td>[&lt;PayInt:B&gt;, &lt;PayPrin:B&gt;]</td>\n",
       "    </tr>\n",
       "    <tr>\n",
       "      <th>2027-11-20</th>\n",
       "      <td>343.470</td>\n",
       "      <td>2.040</td>\n",
       "      <td>0.000</td>\n",
       "      <td>0.070</td>\n",
       "      <td>2.040</td>\n",
       "      <td>0</td>\n",
       "      <td>0</td>\n",
       "      <td>None</td>\n",
       "      <td>[&lt;PayInt:B&gt;, &lt;PayPrin:B&gt;]</td>\n",
       "    </tr>\n",
       "    <tr>\n",
       "      <th>2027-12-20</th>\n",
       "      <td>343.470</td>\n",
       "      <td>1.970</td>\n",
       "      <td>0.000</td>\n",
       "      <td>0.070</td>\n",
       "      <td>1.970</td>\n",
       "      <td>0</td>\n",
       "      <td>0</td>\n",
       "      <td>None</td>\n",
       "      <td>[&lt;PayInt:B&gt;, &lt;PayPrin:B&gt;]</td>\n",
       "    </tr>\n",
       "    <tr>\n",
       "      <th>2028-01-20</th>\n",
       "      <td>343.470</td>\n",
       "      <td>2.040</td>\n",
       "      <td>0.000</td>\n",
       "      <td>0.070</td>\n",
       "      <td>2.040</td>\n",
       "      <td>0</td>\n",
       "      <td>0</td>\n",
       "      <td>None</td>\n",
       "      <td>[&lt;PayInt:B&gt;, &lt;PayPrin:B&gt;]</td>\n",
       "    </tr>\n",
       "    <tr>\n",
       "      <th>2028-02-20</th>\n",
       "      <td>343.470</td>\n",
       "      <td>2.040</td>\n",
       "      <td>0.000</td>\n",
       "      <td>0.070</td>\n",
       "      <td>2.040</td>\n",
       "      <td>0</td>\n",
       "      <td>0</td>\n",
       "      <td>None</td>\n",
       "      <td>[&lt;PayInt:B&gt;, &lt;PayPrin:B&gt;]</td>\n",
       "    </tr>\n",
       "    <tr>\n",
       "      <th>2028-03-20</th>\n",
       "      <td>343.470</td>\n",
       "      <td>1.910</td>\n",
       "      <td>0.000</td>\n",
       "      <td>0.070</td>\n",
       "      <td>1.910</td>\n",
       "      <td>0</td>\n",
       "      <td>0</td>\n",
       "      <td>None</td>\n",
       "      <td>[&lt;PayInt:B&gt;, &lt;PayPrin:B&gt;]</td>\n",
       "    </tr>\n",
       "    <tr>\n",
       "      <th>2028-04-20</th>\n",
       "      <td>343.470</td>\n",
       "      <td>2.040</td>\n",
       "      <td>0.000</td>\n",
       "      <td>0.070</td>\n",
       "      <td>2.040</td>\n",
       "      <td>0</td>\n",
       "      <td>0</td>\n",
       "      <td>None</td>\n",
       "      <td>[&lt;PayInt:B&gt;, &lt;PayPrin:B&gt;]</td>\n",
       "    </tr>\n",
       "    <tr>\n",
       "      <th>2028-05-20</th>\n",
       "      <td>343.470</td>\n",
       "      <td>1.970</td>\n",
       "      <td>0.000</td>\n",
       "      <td>0.070</td>\n",
       "      <td>1.970</td>\n",
       "      <td>0</td>\n",
       "      <td>0</td>\n",
       "      <td>None</td>\n",
       "      <td>[&lt;PayInt:B&gt;, &lt;PayPrin:B&gt;]</td>\n",
       "    </tr>\n",
       "    <tr>\n",
       "      <th>2028-06-20</th>\n",
       "      <td>343.470</td>\n",
       "      <td>2.040</td>\n",
       "      <td>0.000</td>\n",
       "      <td>0.070</td>\n",
       "      <td>2.040</td>\n",
       "      <td>0</td>\n",
       "      <td>0</td>\n",
       "      <td>None</td>\n",
       "      <td>[&lt;PayInt:B&gt;, &lt;PayPrin:B&gt;]</td>\n",
       "    </tr>\n",
       "    <tr>\n",
       "      <th>2028-07-20</th>\n",
       "      <td>343.470</td>\n",
       "      <td>1.970</td>\n",
       "      <td>0.000</td>\n",
       "      <td>0.070</td>\n",
       "      <td>1.970</td>\n",
       "      <td>0</td>\n",
       "      <td>0</td>\n",
       "      <td>None</td>\n",
       "      <td>[&lt;PayInt:B&gt;, &lt;PayPrin:B&gt;]</td>\n",
       "    </tr>\n",
       "    <tr>\n",
       "      <th>2028-08-20</th>\n",
       "      <td>343.470</td>\n",
       "      <td>2.040</td>\n",
       "      <td>0.000</td>\n",
       "      <td>0.070</td>\n",
       "      <td>2.040</td>\n",
       "      <td>0</td>\n",
       "      <td>0</td>\n",
       "      <td>None</td>\n",
       "      <td>[&lt;PayInt:B&gt;, &lt;PayPrin:B&gt;]</td>\n",
       "    </tr>\n",
       "    <tr>\n",
       "      <th>2028-09-20</th>\n",
       "      <td>343.470</td>\n",
       "      <td>2.040</td>\n",
       "      <td>0.000</td>\n",
       "      <td>0.070</td>\n",
       "      <td>2.040</td>\n",
       "      <td>0</td>\n",
       "      <td>0</td>\n",
       "      <td>None</td>\n",
       "      <td>[&lt;PayInt:B&gt;, &lt;PayPrin:B&gt;]</td>\n",
       "    </tr>\n",
       "    <tr>\n",
       "      <th>2028-10-20</th>\n",
       "      <td>343.470</td>\n",
       "      <td>1.970</td>\n",
       "      <td>0.000</td>\n",
       "      <td>0.070</td>\n",
       "      <td>1.970</td>\n",
       "      <td>0</td>\n",
       "      <td>0</td>\n",
       "      <td>None</td>\n",
       "      <td>[&lt;PayInt:B&gt;, &lt;PayPrin:B&gt;]</td>\n",
       "    </tr>\n",
       "    <tr>\n",
       "      <th>2028-11-20</th>\n",
       "      <td>343.470</td>\n",
       "      <td>2.040</td>\n",
       "      <td>0.000</td>\n",
       "      <td>0.070</td>\n",
       "      <td>2.040</td>\n",
       "      <td>0</td>\n",
       "      <td>0</td>\n",
       "      <td>None</td>\n",
       "      <td>[&lt;PayInt:B&gt;, &lt;PayPrin:B&gt;]</td>\n",
       "    </tr>\n",
       "    <tr>\n",
       "      <th>2028-12-20</th>\n",
       "      <td>343.470</td>\n",
       "      <td>1.970</td>\n",
       "      <td>0.000</td>\n",
       "      <td>0.070</td>\n",
       "      <td>1.970</td>\n",
       "      <td>0</td>\n",
       "      <td>0</td>\n",
       "      <td>None</td>\n",
       "      <td>[&lt;PayInt:B&gt;, &lt;PayPrin:B&gt;]</td>\n",
       "    </tr>\n",
       "    <tr>\n",
       "      <th>2029-01-20</th>\n",
       "      <td>343.470</td>\n",
       "      <td>2.040</td>\n",
       "      <td>0.000</td>\n",
       "      <td>0.070</td>\n",
       "      <td>2.040</td>\n",
       "      <td>0</td>\n",
       "      <td>0</td>\n",
       "      <td>None</td>\n",
       "      <td>[&lt;PayInt:B&gt;, &lt;PayPrin:B&gt;]</td>\n",
       "    </tr>\n",
       "    <tr>\n",
       "      <th>2029-02-20</th>\n",
       "      <td>343.470</td>\n",
       "      <td>2.040</td>\n",
       "      <td>0.000</td>\n",
       "      <td>0.070</td>\n",
       "      <td>2.040</td>\n",
       "      <td>0</td>\n",
       "      <td>0</td>\n",
       "      <td>None</td>\n",
       "      <td>[&lt;PayInt:B&gt;, &lt;PayPrin:B&gt;]</td>\n",
       "    </tr>\n",
       "    <tr>\n",
       "      <th>2029-03-20</th>\n",
       "      <td>343.470</td>\n",
       "      <td>1.840</td>\n",
       "      <td>0.000</td>\n",
       "      <td>0.070</td>\n",
       "      <td>1.840</td>\n",
       "      <td>0</td>\n",
       "      <td>0</td>\n",
       "      <td>None</td>\n",
       "      <td>[&lt;PayInt:B&gt;, &lt;PayPrin:B&gt;]</td>\n",
       "    </tr>\n",
       "    <tr>\n",
       "      <th>2029-04-20</th>\n",
       "      <td>343.470</td>\n",
       "      <td>2.040</td>\n",
       "      <td>0.000</td>\n",
       "      <td>0.070</td>\n",
       "      <td>2.040</td>\n",
       "      <td>0</td>\n",
       "      <td>0</td>\n",
       "      <td>None</td>\n",
       "      <td>[&lt;PayInt:B&gt;, &lt;PayPrin:B&gt;]</td>\n",
       "    </tr>\n",
       "    <tr>\n",
       "      <th>2029-05-20</th>\n",
       "      <td>343.470</td>\n",
       "      <td>1.970</td>\n",
       "      <td>0.000</td>\n",
       "      <td>0.070</td>\n",
       "      <td>1.970</td>\n",
       "      <td>0</td>\n",
       "      <td>0</td>\n",
       "      <td>None</td>\n",
       "      <td>[&lt;PayInt:B&gt;, &lt;PayPrin:B&gt;]</td>\n",
       "    </tr>\n",
       "    <tr>\n",
       "      <th>2029-06-20</th>\n",
       "      <td>343.470</td>\n",
       "      <td>2.040</td>\n",
       "      <td>0.000</td>\n",
       "      <td>0.070</td>\n",
       "      <td>2.040</td>\n",
       "      <td>0</td>\n",
       "      <td>0</td>\n",
       "      <td>None</td>\n",
       "      <td>[&lt;PayInt:B&gt;, &lt;PayPrin:B&gt;]</td>\n",
       "    </tr>\n",
       "    <tr>\n",
       "      <th>2029-07-20</th>\n",
       "      <td>343.470</td>\n",
       "      <td>1.970</td>\n",
       "      <td>0.000</td>\n",
       "      <td>0.070</td>\n",
       "      <td>1.970</td>\n",
       "      <td>0</td>\n",
       "      <td>0</td>\n",
       "      <td>None</td>\n",
       "      <td>[&lt;PayInt:B&gt;, &lt;PayPrin:B&gt;]</td>\n",
       "    </tr>\n",
       "    <tr>\n",
       "      <th>2029-08-20</th>\n",
       "      <td>343.470</td>\n",
       "      <td>2.040</td>\n",
       "      <td>0.000</td>\n",
       "      <td>0.070</td>\n",
       "      <td>2.040</td>\n",
       "      <td>0</td>\n",
       "      <td>0</td>\n",
       "      <td>None</td>\n",
       "      <td>[&lt;PayInt:B&gt;, &lt;PayPrin:B&gt;]</td>\n",
       "    </tr>\n",
       "    <tr>\n",
       "      <th>2029-09-20</th>\n",
       "      <td>343.470</td>\n",
       "      <td>2.040</td>\n",
       "      <td>0.000</td>\n",
       "      <td>0.070</td>\n",
       "      <td>2.040</td>\n",
       "      <td>0</td>\n",
       "      <td>0</td>\n",
       "      <td>None</td>\n",
       "      <td>[&lt;PayInt:B&gt;, &lt;PayPrin:B&gt;]</td>\n",
       "    </tr>\n",
       "    <tr>\n",
       "      <th>2029-10-20</th>\n",
       "      <td>343.470</td>\n",
       "      <td>1.970</td>\n",
       "      <td>0.000</td>\n",
       "      <td>0.070</td>\n",
       "      <td>1.970</td>\n",
       "      <td>0</td>\n",
       "      <td>0</td>\n",
       "      <td>None</td>\n",
       "      <td>[&lt;PayInt:B&gt;, &lt;PayPrin:B&gt;]</td>\n",
       "    </tr>\n",
       "    <tr>\n",
       "      <th>2029-11-20</th>\n",
       "      <td>343.470</td>\n",
       "      <td>2.040</td>\n",
       "      <td>0.000</td>\n",
       "      <td>0.070</td>\n",
       "      <td>2.040</td>\n",
       "      <td>0</td>\n",
       "      <td>0</td>\n",
       "      <td>None</td>\n",
       "      <td>[&lt;PayInt:B&gt;, &lt;PayPrin:B&gt;]</td>\n",
       "    </tr>\n",
       "    <tr>\n",
       "      <th>2029-12-20</th>\n",
       "      <td>343.470</td>\n",
       "      <td>1.970</td>\n",
       "      <td>0.000</td>\n",
       "      <td>0.070</td>\n",
       "      <td>1.970</td>\n",
       "      <td>0</td>\n",
       "      <td>0</td>\n",
       "      <td>None</td>\n",
       "      <td>[&lt;PayInt:B&gt;, &lt;PayPrin:B&gt;]</td>\n",
       "    </tr>\n",
       "  </tbody>\n",
       "</table>\n",
       "</div>"
      ],
      "text/plain": [
       "            balance  interest  principal  rate  cash  intDue  intOverInt  \\\n",
       "date                                                                       \n",
       "2024-11-15  510.000     0.000   -510.000 0.000 0.000       0           0   \n",
       "2024-12-15  510.000     2.930      0.000 0.070 2.930       0           0   \n",
       "2024-12-20  510.000     0.480      0.000 0.070 0.480       0           0   \n",
       "2025-01-20  510.000     3.030      0.000 0.070 3.030       0           0   \n",
       "2025-02-20  504.440     3.030      5.560 0.070 8.590       0           0   \n",
       "2025-03-20  498.860     2.700      5.580 0.070 8.280       0           0   \n",
       "2025-04-20  493.250     2.960      5.610 0.070 8.570       0           0   \n",
       "2025-05-20  487.610     2.830      5.640 0.070 8.470       0           0   \n",
       "2025-06-20  481.940     2.890      5.670 0.070 8.560       0           0   \n",
       "2025-07-20  476.240     2.770      5.700 0.070 8.470       0           0   \n",
       "2025-08-20  470.520     2.830      5.720 0.070 8.550       0           0   \n",
       "2025-09-20  464.770     2.790      5.750 0.070 8.540       0           0   \n",
       "2025-10-20  458.990     2.670      5.780 0.070 8.450       0           0   \n",
       "2025-11-20  453.180     2.720      5.810 0.070 8.530       0           0   \n",
       "2025-12-20  447.340     2.600      5.840 0.070 8.440       0           0   \n",
       "2026-01-20  441.470     2.650      5.870 0.070 8.520       0           0   \n",
       "2026-02-20  435.570     2.620      5.900 0.070 8.520       0           0   \n",
       "2026-03-20  429.640     2.330      5.930 0.070 8.260       0           0   \n",
       "2026-04-20  423.680     2.550      5.960 0.070 8.510       0           0   \n",
       "2026-05-20  417.690     2.430      5.990 0.070 8.420       0           0   \n",
       "2026-06-20  411.670     2.480      6.020 0.070 8.500       0           0   \n",
       "2026-07-20  405.620     2.360      6.050 0.070 8.410       0           0   \n",
       "2026-08-20  399.540     2.410      6.080 0.070 8.490       0           0   \n",
       "2026-09-20  393.430     2.370      6.110 0.070 8.480       0           0   \n",
       "2026-10-20  387.290     2.260      6.140 0.070 8.400       0           0   \n",
       "2026-11-20  381.120     2.300      6.170 0.070 8.470       0           0   \n",
       "2026-12-20  374.920     2.190      6.200 0.070 8.390       0           0   \n",
       "2027-01-20  368.690     2.220      6.230 0.070 8.450       0           0   \n",
       "2027-02-20  362.430     2.190      6.260 0.070 8.450       0           0   \n",
       "2027-03-20  356.140     1.940      6.290 0.070 8.230       0           0   \n",
       "2027-04-20  349.820     2.110      6.320 0.070 8.430       0           0   \n",
       "2027-05-20  343.470     2.010      6.350 0.070 8.360       0           0   \n",
       "2027-06-20  343.470     2.040      0.000 0.070 2.040       0           0   \n",
       "2027-07-20  343.470     1.970      0.000 0.070 1.970       0           0   \n",
       "2027-08-20  343.470     2.040      0.000 0.070 2.040       0           0   \n",
       "2027-09-20  343.470     2.040      0.000 0.070 2.040       0           0   \n",
       "2027-10-20  343.470     1.970      0.000 0.070 1.970       0           0   \n",
       "2027-11-20  343.470     2.040      0.000 0.070 2.040       0           0   \n",
       "2027-12-20  343.470     1.970      0.000 0.070 1.970       0           0   \n",
       "2028-01-20  343.470     2.040      0.000 0.070 2.040       0           0   \n",
       "2028-02-20  343.470     2.040      0.000 0.070 2.040       0           0   \n",
       "2028-03-20  343.470     1.910      0.000 0.070 1.910       0           0   \n",
       "2028-04-20  343.470     2.040      0.000 0.070 2.040       0           0   \n",
       "2028-05-20  343.470     1.970      0.000 0.070 1.970       0           0   \n",
       "2028-06-20  343.470     2.040      0.000 0.070 2.040       0           0   \n",
       "2028-07-20  343.470     1.970      0.000 0.070 1.970       0           0   \n",
       "2028-08-20  343.470     2.040      0.000 0.070 2.040       0           0   \n",
       "2028-09-20  343.470     2.040      0.000 0.070 2.040       0           0   \n",
       "2028-10-20  343.470     1.970      0.000 0.070 1.970       0           0   \n",
       "2028-11-20  343.470     2.040      0.000 0.070 2.040       0           0   \n",
       "2028-12-20  343.470     1.970      0.000 0.070 1.970       0           0   \n",
       "2029-01-20  343.470     2.040      0.000 0.070 2.040       0           0   \n",
       "2029-02-20  343.470     2.040      0.000 0.070 2.040       0           0   \n",
       "2029-03-20  343.470     1.840      0.000 0.070 1.840       0           0   \n",
       "2029-04-20  343.470     2.040      0.000 0.070 2.040       0           0   \n",
       "2029-05-20  343.470     1.970      0.000 0.070 1.970       0           0   \n",
       "2029-06-20  343.470     2.040      0.000 0.070 2.040       0           0   \n",
       "2029-07-20  343.470     1.970      0.000 0.070 1.970       0           0   \n",
       "2029-08-20  343.470     2.040      0.000 0.070 2.040       0           0   \n",
       "2029-09-20  343.470     2.040      0.000 0.070 2.040       0           0   \n",
       "2029-10-20  343.470     1.970      0.000 0.070 1.970       0           0   \n",
       "2029-11-20  343.470     2.040      0.000 0.070 2.040       0           0   \n",
       "2029-12-20  343.470     1.970      0.000 0.070 1.970       0           0   \n",
       "\n",
       "           factor                       memo  \n",
       "date                                          \n",
       "2024-11-15   None        <FundWith:B,510.00>  \n",
       "2024-12-15   None  [<PayInt:B>, <PayPrin:B>]  \n",
       "2024-12-20   None  [<PayInt:B>, <PayPrin:B>]  \n",
       "2025-01-20   None  [<PayInt:B>, <PayPrin:B>]  \n",
       "2025-02-20   None  [<PayInt:B>, <PayPrin:B>]  \n",
       "2025-03-20   None  [<PayInt:B>, <PayPrin:B>]  \n",
       "2025-04-20   None  [<PayInt:B>, <PayPrin:B>]  \n",
       "2025-05-20   None  [<PayInt:B>, <PayPrin:B>]  \n",
       "2025-06-20   None  [<PayInt:B>, <PayPrin:B>]  \n",
       "2025-07-20   None  [<PayInt:B>, <PayPrin:B>]  \n",
       "2025-08-20   None  [<PayInt:B>, <PayPrin:B>]  \n",
       "2025-09-20   None  [<PayInt:B>, <PayPrin:B>]  \n",
       "2025-10-20   None  [<PayInt:B>, <PayPrin:B>]  \n",
       "2025-11-20   None  [<PayInt:B>, <PayPrin:B>]  \n",
       "2025-12-20   None  [<PayInt:B>, <PayPrin:B>]  \n",
       "2026-01-20   None  [<PayInt:B>, <PayPrin:B>]  \n",
       "2026-02-20   None  [<PayInt:B>, <PayPrin:B>]  \n",
       "2026-03-20   None  [<PayInt:B>, <PayPrin:B>]  \n",
       "2026-04-20   None  [<PayInt:B>, <PayPrin:B>]  \n",
       "2026-05-20   None  [<PayInt:B>, <PayPrin:B>]  \n",
       "2026-06-20   None  [<PayInt:B>, <PayPrin:B>]  \n",
       "2026-07-20   None  [<PayInt:B>, <PayPrin:B>]  \n",
       "2026-08-20   None  [<PayInt:B>, <PayPrin:B>]  \n",
       "2026-09-20   None  [<PayInt:B>, <PayPrin:B>]  \n",
       "2026-10-20   None  [<PayInt:B>, <PayPrin:B>]  \n",
       "2026-11-20   None  [<PayInt:B>, <PayPrin:B>]  \n",
       "2026-12-20   None  [<PayInt:B>, <PayPrin:B>]  \n",
       "2027-01-20   None  [<PayInt:B>, <PayPrin:B>]  \n",
       "2027-02-20   None  [<PayInt:B>, <PayPrin:B>]  \n",
       "2027-03-20   None  [<PayInt:B>, <PayPrin:B>]  \n",
       "2027-04-20   None  [<PayInt:B>, <PayPrin:B>]  \n",
       "2027-05-20   None  [<PayInt:B>, <PayPrin:B>]  \n",
       "2027-06-20   None  [<PayInt:B>, <PayPrin:B>]  \n",
       "2027-07-20   None  [<PayInt:B>, <PayPrin:B>]  \n",
       "2027-08-20   None  [<PayInt:B>, <PayPrin:B>]  \n",
       "2027-09-20   None  [<PayInt:B>, <PayPrin:B>]  \n",
       "2027-10-20   None  [<PayInt:B>, <PayPrin:B>]  \n",
       "2027-11-20   None  [<PayInt:B>, <PayPrin:B>]  \n",
       "2027-12-20   None  [<PayInt:B>, <PayPrin:B>]  \n",
       "2028-01-20   None  [<PayInt:B>, <PayPrin:B>]  \n",
       "2028-02-20   None  [<PayInt:B>, <PayPrin:B>]  \n",
       "2028-03-20   None  [<PayInt:B>, <PayPrin:B>]  \n",
       "2028-04-20   None  [<PayInt:B>, <PayPrin:B>]  \n",
       "2028-05-20   None  [<PayInt:B>, <PayPrin:B>]  \n",
       "2028-06-20   None  [<PayInt:B>, <PayPrin:B>]  \n",
       "2028-07-20   None  [<PayInt:B>, <PayPrin:B>]  \n",
       "2028-08-20   None  [<PayInt:B>, <PayPrin:B>]  \n",
       "2028-09-20   None  [<PayInt:B>, <PayPrin:B>]  \n",
       "2028-10-20   None  [<PayInt:B>, <PayPrin:B>]  \n",
       "2028-11-20   None  [<PayInt:B>, <PayPrin:B>]  \n",
       "2028-12-20   None  [<PayInt:B>, <PayPrin:B>]  \n",
       "2029-01-20   None  [<PayInt:B>, <PayPrin:B>]  \n",
       "2029-02-20   None  [<PayInt:B>, <PayPrin:B>]  \n",
       "2029-03-20   None  [<PayInt:B>, <PayPrin:B>]  \n",
       "2029-04-20   None  [<PayInt:B>, <PayPrin:B>]  \n",
       "2029-05-20   None  [<PayInt:B>, <PayPrin:B>]  \n",
       "2029-06-20   None  [<PayInt:B>, <PayPrin:B>]  \n",
       "2029-07-20   None  [<PayInt:B>, <PayPrin:B>]  \n",
       "2029-08-20   None  [<PayInt:B>, <PayPrin:B>]  \n",
       "2029-09-20   None  [<PayInt:B>, <PayPrin:B>]  \n",
       "2029-10-20   None  [<PayInt:B>, <PayPrin:B>]  \n",
       "2029-11-20   None  [<PayInt:B>, <PayPrin:B>]  \n",
       "2029-12-20   None  [<PayInt:B>, <PayPrin:B>]  "
      ]
     },
     "execution_count": 56,
     "metadata": {},
     "output_type": "execute_result"
    }
   ],
   "source": [
    "r02['bonds']['B']"
   ]
  },
  {
   "cell_type": "code",
   "execution_count": 12,
   "id": "25481564",
   "metadata": {},
   "outputs": [
    {
     "ename": "AbsboxError",
     "evalue": "❌ Failed to talk to server http://localhost:8081/runDeal",
     "output_type": "error",
     "traceback": [
      "\u001b[0;31m---------------------------------------------------------------------------\u001b[0m",
      "\u001b[0;31mRemoteDisconnected\u001b[0m                        Traceback (most recent call last)",
      "File \u001b[0;32m~/repo/AbsBox/lib/python3.11/site-packages/urllib3/connectionpool.py:793\u001b[0m, in \u001b[0;36mHTTPConnectionPool.urlopen\u001b[0;34m(self, method, url, body, headers, retries, redirect, assert_same_host, timeout, pool_timeout, release_conn, chunked, body_pos, preload_content, decode_content, **response_kw)\u001b[0m\n\u001b[1;32m    792\u001b[0m \u001b[38;5;66;03m# Make the request on the HTTPConnection object\u001b[39;00m\n\u001b[0;32m--> 793\u001b[0m response \u001b[38;5;241m=\u001b[39m \u001b[38;5;28;43mself\u001b[39;49m\u001b[38;5;241;43m.\u001b[39;49m\u001b[43m_make_request\u001b[49m\u001b[43m(\u001b[49m\n\u001b[1;32m    794\u001b[0m \u001b[43m    \u001b[49m\u001b[43mconn\u001b[49m\u001b[43m,\u001b[49m\n\u001b[1;32m    795\u001b[0m \u001b[43m    \u001b[49m\u001b[43mmethod\u001b[49m\u001b[43m,\u001b[49m\n\u001b[1;32m    796\u001b[0m \u001b[43m    \u001b[49m\u001b[43murl\u001b[49m\u001b[43m,\u001b[49m\n\u001b[1;32m    797\u001b[0m \u001b[43m    \u001b[49m\u001b[43mtimeout\u001b[49m\u001b[38;5;241;43m=\u001b[39;49m\u001b[43mtimeout_obj\u001b[49m\u001b[43m,\u001b[49m\n\u001b[1;32m    798\u001b[0m \u001b[43m    \u001b[49m\u001b[43mbody\u001b[49m\u001b[38;5;241;43m=\u001b[39;49m\u001b[43mbody\u001b[49m\u001b[43m,\u001b[49m\n\u001b[1;32m    799\u001b[0m \u001b[43m    \u001b[49m\u001b[43mheaders\u001b[49m\u001b[38;5;241;43m=\u001b[39;49m\u001b[43mheaders\u001b[49m\u001b[43m,\u001b[49m\n\u001b[1;32m    800\u001b[0m \u001b[43m    \u001b[49m\u001b[43mchunked\u001b[49m\u001b[38;5;241;43m=\u001b[39;49m\u001b[43mchunked\u001b[49m\u001b[43m,\u001b[49m\n\u001b[1;32m    801\u001b[0m \u001b[43m    \u001b[49m\u001b[43mretries\u001b[49m\u001b[38;5;241;43m=\u001b[39;49m\u001b[43mretries\u001b[49m\u001b[43m,\u001b[49m\n\u001b[1;32m    802\u001b[0m \u001b[43m    \u001b[49m\u001b[43mresponse_conn\u001b[49m\u001b[38;5;241;43m=\u001b[39;49m\u001b[43mresponse_conn\u001b[49m\u001b[43m,\u001b[49m\n\u001b[1;32m    803\u001b[0m \u001b[43m    \u001b[49m\u001b[43mpreload_content\u001b[49m\u001b[38;5;241;43m=\u001b[39;49m\u001b[43mpreload_content\u001b[49m\u001b[43m,\u001b[49m\n\u001b[1;32m    804\u001b[0m \u001b[43m    \u001b[49m\u001b[43mdecode_content\u001b[49m\u001b[38;5;241;43m=\u001b[39;49m\u001b[43mdecode_content\u001b[49m\u001b[43m,\u001b[49m\n\u001b[1;32m    805\u001b[0m \u001b[43m    \u001b[49m\u001b[38;5;241;43m*\u001b[39;49m\u001b[38;5;241;43m*\u001b[39;49m\u001b[43mresponse_kw\u001b[49m\u001b[43m,\u001b[49m\n\u001b[1;32m    806\u001b[0m \u001b[43m\u001b[49m\u001b[43m)\u001b[49m\n\u001b[1;32m    808\u001b[0m \u001b[38;5;66;03m# Everything went great!\u001b[39;00m\n",
      "File \u001b[0;32m~/repo/AbsBox/lib/python3.11/site-packages/urllib3/connectionpool.py:537\u001b[0m, in \u001b[0;36mHTTPConnectionPool._make_request\u001b[0;34m(self, conn, method, url, body, headers, retries, timeout, chunked, response_conn, preload_content, decode_content, enforce_content_length)\u001b[0m\n\u001b[1;32m    536\u001b[0m \u001b[38;5;28;01mtry\u001b[39;00m:\n\u001b[0;32m--> 537\u001b[0m     response \u001b[38;5;241m=\u001b[39m \u001b[43mconn\u001b[49m\u001b[38;5;241;43m.\u001b[39;49m\u001b[43mgetresponse\u001b[49m\u001b[43m(\u001b[49m\u001b[43m)\u001b[49m\n\u001b[1;32m    538\u001b[0m \u001b[38;5;28;01mexcept\u001b[39;00m (BaseSSLError, \u001b[38;5;167;01mOSError\u001b[39;00m) \u001b[38;5;28;01mas\u001b[39;00m e:\n",
      "File \u001b[0;32m~/repo/AbsBox/lib/python3.11/site-packages/urllib3/connection.py:466\u001b[0m, in \u001b[0;36mHTTPConnection.getresponse\u001b[0;34m(self)\u001b[0m\n\u001b[1;32m    465\u001b[0m \u001b[38;5;66;03m# Get the response from http.client.HTTPConnection\u001b[39;00m\n\u001b[0;32m--> 466\u001b[0m httplib_response \u001b[38;5;241m=\u001b[39m \u001b[38;5;28;43msuper\u001b[39;49m\u001b[43m(\u001b[49m\u001b[43m)\u001b[49m\u001b[38;5;241;43m.\u001b[39;49m\u001b[43mgetresponse\u001b[49m\u001b[43m(\u001b[49m\u001b[43m)\u001b[49m\n\u001b[1;32m    468\u001b[0m \u001b[38;5;28;01mtry\u001b[39;00m:\n",
      "File \u001b[0;32m/usr/lib/python3.11/http/client.py:1374\u001b[0m, in \u001b[0;36mHTTPConnection.getresponse\u001b[0;34m(self)\u001b[0m\n\u001b[1;32m   1373\u001b[0m \u001b[38;5;28;01mtry\u001b[39;00m:\n\u001b[0;32m-> 1374\u001b[0m     \u001b[43mresponse\u001b[49m\u001b[38;5;241;43m.\u001b[39;49m\u001b[43mbegin\u001b[49m\u001b[43m(\u001b[49m\u001b[43m)\u001b[49m\n\u001b[1;32m   1375\u001b[0m \u001b[38;5;28;01mexcept\u001b[39;00m \u001b[38;5;167;01mConnectionError\u001b[39;00m:\n",
      "File \u001b[0;32m/usr/lib/python3.11/http/client.py:318\u001b[0m, in \u001b[0;36mHTTPResponse.begin\u001b[0;34m(self)\u001b[0m\n\u001b[1;32m    317\u001b[0m \u001b[38;5;28;01mwhile\u001b[39;00m \u001b[38;5;28;01mTrue\u001b[39;00m:\n\u001b[0;32m--> 318\u001b[0m     version, status, reason \u001b[38;5;241m=\u001b[39m \u001b[38;5;28;43mself\u001b[39;49m\u001b[38;5;241;43m.\u001b[39;49m\u001b[43m_read_status\u001b[49m\u001b[43m(\u001b[49m\u001b[43m)\u001b[49m\n\u001b[1;32m    319\u001b[0m     \u001b[38;5;28;01mif\u001b[39;00m status \u001b[38;5;241m!=\u001b[39m CONTINUE:\n",
      "File \u001b[0;32m/usr/lib/python3.11/http/client.py:287\u001b[0m, in \u001b[0;36mHTTPResponse._read_status\u001b[0;34m(self)\u001b[0m\n\u001b[1;32m    284\u001b[0m \u001b[38;5;28;01mif\u001b[39;00m \u001b[38;5;129;01mnot\u001b[39;00m line:\n\u001b[1;32m    285\u001b[0m     \u001b[38;5;66;03m# Presumably, the server closed the connection before\u001b[39;00m\n\u001b[1;32m    286\u001b[0m     \u001b[38;5;66;03m# sending a valid response.\u001b[39;00m\n\u001b[0;32m--> 287\u001b[0m     \u001b[38;5;28;01mraise\u001b[39;00m RemoteDisconnected(\u001b[38;5;124m\"\u001b[39m\u001b[38;5;124mRemote end closed connection without\u001b[39m\u001b[38;5;124m\"\u001b[39m\n\u001b[1;32m    288\u001b[0m                              \u001b[38;5;124m\"\u001b[39m\u001b[38;5;124m response\u001b[39m\u001b[38;5;124m\"\u001b[39m)\n\u001b[1;32m    289\u001b[0m \u001b[38;5;28;01mtry\u001b[39;00m:\n",
      "\u001b[0;31mRemoteDisconnected\u001b[0m: Remote end closed connection without response",
      "\nDuring handling of the above exception, another exception occurred:\n",
      "\u001b[0;31mProtocolError\u001b[0m                             Traceback (most recent call last)",
      "File \u001b[0;32m~/repo/AbsBox/lib/python3.11/site-packages/requests/adapters.py:667\u001b[0m, in \u001b[0;36mHTTPAdapter.send\u001b[0;34m(self, request, stream, timeout, verify, cert, proxies)\u001b[0m\n\u001b[1;32m    666\u001b[0m \u001b[38;5;28;01mtry\u001b[39;00m:\n\u001b[0;32m--> 667\u001b[0m     resp \u001b[38;5;241m=\u001b[39m \u001b[43mconn\u001b[49m\u001b[38;5;241;43m.\u001b[39;49m\u001b[43murlopen\u001b[49m\u001b[43m(\u001b[49m\n\u001b[1;32m    668\u001b[0m \u001b[43m        \u001b[49m\u001b[43mmethod\u001b[49m\u001b[38;5;241;43m=\u001b[39;49m\u001b[43mrequest\u001b[49m\u001b[38;5;241;43m.\u001b[39;49m\u001b[43mmethod\u001b[49m\u001b[43m,\u001b[49m\n\u001b[1;32m    669\u001b[0m \u001b[43m        \u001b[49m\u001b[43murl\u001b[49m\u001b[38;5;241;43m=\u001b[39;49m\u001b[43murl\u001b[49m\u001b[43m,\u001b[49m\n\u001b[1;32m    670\u001b[0m \u001b[43m        \u001b[49m\u001b[43mbody\u001b[49m\u001b[38;5;241;43m=\u001b[39;49m\u001b[43mrequest\u001b[49m\u001b[38;5;241;43m.\u001b[39;49m\u001b[43mbody\u001b[49m\u001b[43m,\u001b[49m\n\u001b[1;32m    671\u001b[0m \u001b[43m        \u001b[49m\u001b[43mheaders\u001b[49m\u001b[38;5;241;43m=\u001b[39;49m\u001b[43mrequest\u001b[49m\u001b[38;5;241;43m.\u001b[39;49m\u001b[43mheaders\u001b[49m\u001b[43m,\u001b[49m\n\u001b[1;32m    672\u001b[0m \u001b[43m        \u001b[49m\u001b[43mredirect\u001b[49m\u001b[38;5;241;43m=\u001b[39;49m\u001b[38;5;28;43;01mFalse\u001b[39;49;00m\u001b[43m,\u001b[49m\n\u001b[1;32m    673\u001b[0m \u001b[43m        \u001b[49m\u001b[43massert_same_host\u001b[49m\u001b[38;5;241;43m=\u001b[39;49m\u001b[38;5;28;43;01mFalse\u001b[39;49;00m\u001b[43m,\u001b[49m\n\u001b[1;32m    674\u001b[0m \u001b[43m        \u001b[49m\u001b[43mpreload_content\u001b[49m\u001b[38;5;241;43m=\u001b[39;49m\u001b[38;5;28;43;01mFalse\u001b[39;49;00m\u001b[43m,\u001b[49m\n\u001b[1;32m    675\u001b[0m \u001b[43m        \u001b[49m\u001b[43mdecode_content\u001b[49m\u001b[38;5;241;43m=\u001b[39;49m\u001b[38;5;28;43;01mFalse\u001b[39;49;00m\u001b[43m,\u001b[49m\n\u001b[1;32m    676\u001b[0m \u001b[43m        \u001b[49m\u001b[43mretries\u001b[49m\u001b[38;5;241;43m=\u001b[39;49m\u001b[38;5;28;43mself\u001b[39;49m\u001b[38;5;241;43m.\u001b[39;49m\u001b[43mmax_retries\u001b[49m\u001b[43m,\u001b[49m\n\u001b[1;32m    677\u001b[0m \u001b[43m        \u001b[49m\u001b[43mtimeout\u001b[49m\u001b[38;5;241;43m=\u001b[39;49m\u001b[43mtimeout\u001b[49m\u001b[43m,\u001b[49m\n\u001b[1;32m    678\u001b[0m \u001b[43m        \u001b[49m\u001b[43mchunked\u001b[49m\u001b[38;5;241;43m=\u001b[39;49m\u001b[43mchunked\u001b[49m\u001b[43m,\u001b[49m\n\u001b[1;32m    679\u001b[0m \u001b[43m    \u001b[49m\u001b[43m)\u001b[49m\n\u001b[1;32m    681\u001b[0m \u001b[38;5;28;01mexcept\u001b[39;00m (ProtocolError, \u001b[38;5;167;01mOSError\u001b[39;00m) \u001b[38;5;28;01mas\u001b[39;00m err:\n",
      "File \u001b[0;32m~/repo/AbsBox/lib/python3.11/site-packages/urllib3/connectionpool.py:847\u001b[0m, in \u001b[0;36mHTTPConnectionPool.urlopen\u001b[0;34m(self, method, url, body, headers, retries, redirect, assert_same_host, timeout, pool_timeout, release_conn, chunked, body_pos, preload_content, decode_content, **response_kw)\u001b[0m\n\u001b[1;32m    845\u001b[0m     new_e \u001b[38;5;241m=\u001b[39m ProtocolError(\u001b[38;5;124m\"\u001b[39m\u001b[38;5;124mConnection aborted.\u001b[39m\u001b[38;5;124m\"\u001b[39m, new_e)\n\u001b[0;32m--> 847\u001b[0m retries \u001b[38;5;241m=\u001b[39m \u001b[43mretries\u001b[49m\u001b[38;5;241;43m.\u001b[39;49m\u001b[43mincrement\u001b[49m\u001b[43m(\u001b[49m\n\u001b[1;32m    848\u001b[0m \u001b[43m    \u001b[49m\u001b[43mmethod\u001b[49m\u001b[43m,\u001b[49m\u001b[43m \u001b[49m\u001b[43murl\u001b[49m\u001b[43m,\u001b[49m\u001b[43m \u001b[49m\u001b[43merror\u001b[49m\u001b[38;5;241;43m=\u001b[39;49m\u001b[43mnew_e\u001b[49m\u001b[43m,\u001b[49m\u001b[43m \u001b[49m\u001b[43m_pool\u001b[49m\u001b[38;5;241;43m=\u001b[39;49m\u001b[38;5;28;43mself\u001b[39;49m\u001b[43m,\u001b[49m\u001b[43m \u001b[49m\u001b[43m_stacktrace\u001b[49m\u001b[38;5;241;43m=\u001b[39;49m\u001b[43msys\u001b[49m\u001b[38;5;241;43m.\u001b[39;49m\u001b[43mexc_info\u001b[49m\u001b[43m(\u001b[49m\u001b[43m)\u001b[49m\u001b[43m[\u001b[49m\u001b[38;5;241;43m2\u001b[39;49m\u001b[43m]\u001b[49m\n\u001b[1;32m    849\u001b[0m \u001b[43m\u001b[49m\u001b[43m)\u001b[49m\n\u001b[1;32m    850\u001b[0m retries\u001b[38;5;241m.\u001b[39msleep()\n",
      "File \u001b[0;32m~/repo/AbsBox/lib/python3.11/site-packages/urllib3/util/retry.py:470\u001b[0m, in \u001b[0;36mRetry.increment\u001b[0;34m(self, method, url, response, error, _pool, _stacktrace)\u001b[0m\n\u001b[1;32m    469\u001b[0m \u001b[38;5;28;01mif\u001b[39;00m read \u001b[38;5;129;01mis\u001b[39;00m \u001b[38;5;28;01mFalse\u001b[39;00m \u001b[38;5;129;01mor\u001b[39;00m method \u001b[38;5;129;01mis\u001b[39;00m \u001b[38;5;28;01mNone\u001b[39;00m \u001b[38;5;129;01mor\u001b[39;00m \u001b[38;5;129;01mnot\u001b[39;00m \u001b[38;5;28mself\u001b[39m\u001b[38;5;241m.\u001b[39m_is_method_retryable(method):\n\u001b[0;32m--> 470\u001b[0m     \u001b[38;5;28;01mraise\u001b[39;00m \u001b[43mreraise\u001b[49m\u001b[43m(\u001b[49m\u001b[38;5;28;43mtype\u001b[39;49m\u001b[43m(\u001b[49m\u001b[43merror\u001b[49m\u001b[43m)\u001b[49m\u001b[43m,\u001b[49m\u001b[43m \u001b[49m\u001b[43merror\u001b[49m\u001b[43m,\u001b[49m\u001b[43m \u001b[49m\u001b[43m_stacktrace\u001b[49m\u001b[43m)\u001b[49m\n\u001b[1;32m    471\u001b[0m \u001b[38;5;28;01melif\u001b[39;00m read \u001b[38;5;129;01mis\u001b[39;00m \u001b[38;5;129;01mnot\u001b[39;00m \u001b[38;5;28;01mNone\u001b[39;00m:\n",
      "File \u001b[0;32m~/repo/AbsBox/lib/python3.11/site-packages/urllib3/util/util.py:38\u001b[0m, in \u001b[0;36mreraise\u001b[0;34m(tp, value, tb)\u001b[0m\n\u001b[1;32m     37\u001b[0m \u001b[38;5;28;01mif\u001b[39;00m value\u001b[38;5;241m.\u001b[39m__traceback__ \u001b[38;5;129;01mis\u001b[39;00m \u001b[38;5;129;01mnot\u001b[39;00m tb:\n\u001b[0;32m---> 38\u001b[0m     \u001b[38;5;28;01mraise\u001b[39;00m value\u001b[38;5;241m.\u001b[39mwith_traceback(tb)\n\u001b[1;32m     39\u001b[0m \u001b[38;5;28;01mraise\u001b[39;00m value\n",
      "File \u001b[0;32m~/repo/AbsBox/lib/python3.11/site-packages/urllib3/connectionpool.py:793\u001b[0m, in \u001b[0;36mHTTPConnectionPool.urlopen\u001b[0;34m(self, method, url, body, headers, retries, redirect, assert_same_host, timeout, pool_timeout, release_conn, chunked, body_pos, preload_content, decode_content, **response_kw)\u001b[0m\n\u001b[1;32m    792\u001b[0m \u001b[38;5;66;03m# Make the request on the HTTPConnection object\u001b[39;00m\n\u001b[0;32m--> 793\u001b[0m response \u001b[38;5;241m=\u001b[39m \u001b[38;5;28;43mself\u001b[39;49m\u001b[38;5;241;43m.\u001b[39;49m\u001b[43m_make_request\u001b[49m\u001b[43m(\u001b[49m\n\u001b[1;32m    794\u001b[0m \u001b[43m    \u001b[49m\u001b[43mconn\u001b[49m\u001b[43m,\u001b[49m\n\u001b[1;32m    795\u001b[0m \u001b[43m    \u001b[49m\u001b[43mmethod\u001b[49m\u001b[43m,\u001b[49m\n\u001b[1;32m    796\u001b[0m \u001b[43m    \u001b[49m\u001b[43murl\u001b[49m\u001b[43m,\u001b[49m\n\u001b[1;32m    797\u001b[0m \u001b[43m    \u001b[49m\u001b[43mtimeout\u001b[49m\u001b[38;5;241;43m=\u001b[39;49m\u001b[43mtimeout_obj\u001b[49m\u001b[43m,\u001b[49m\n\u001b[1;32m    798\u001b[0m \u001b[43m    \u001b[49m\u001b[43mbody\u001b[49m\u001b[38;5;241;43m=\u001b[39;49m\u001b[43mbody\u001b[49m\u001b[43m,\u001b[49m\n\u001b[1;32m    799\u001b[0m \u001b[43m    \u001b[49m\u001b[43mheaders\u001b[49m\u001b[38;5;241;43m=\u001b[39;49m\u001b[43mheaders\u001b[49m\u001b[43m,\u001b[49m\n\u001b[1;32m    800\u001b[0m \u001b[43m    \u001b[49m\u001b[43mchunked\u001b[49m\u001b[38;5;241;43m=\u001b[39;49m\u001b[43mchunked\u001b[49m\u001b[43m,\u001b[49m\n\u001b[1;32m    801\u001b[0m \u001b[43m    \u001b[49m\u001b[43mretries\u001b[49m\u001b[38;5;241;43m=\u001b[39;49m\u001b[43mretries\u001b[49m\u001b[43m,\u001b[49m\n\u001b[1;32m    802\u001b[0m \u001b[43m    \u001b[49m\u001b[43mresponse_conn\u001b[49m\u001b[38;5;241;43m=\u001b[39;49m\u001b[43mresponse_conn\u001b[49m\u001b[43m,\u001b[49m\n\u001b[1;32m    803\u001b[0m \u001b[43m    \u001b[49m\u001b[43mpreload_content\u001b[49m\u001b[38;5;241;43m=\u001b[39;49m\u001b[43mpreload_content\u001b[49m\u001b[43m,\u001b[49m\n\u001b[1;32m    804\u001b[0m \u001b[43m    \u001b[49m\u001b[43mdecode_content\u001b[49m\u001b[38;5;241;43m=\u001b[39;49m\u001b[43mdecode_content\u001b[49m\u001b[43m,\u001b[49m\n\u001b[1;32m    805\u001b[0m \u001b[43m    \u001b[49m\u001b[38;5;241;43m*\u001b[39;49m\u001b[38;5;241;43m*\u001b[39;49m\u001b[43mresponse_kw\u001b[49m\u001b[43m,\u001b[49m\n\u001b[1;32m    806\u001b[0m \u001b[43m\u001b[49m\u001b[43m)\u001b[49m\n\u001b[1;32m    808\u001b[0m \u001b[38;5;66;03m# Everything went great!\u001b[39;00m\n",
      "File \u001b[0;32m~/repo/AbsBox/lib/python3.11/site-packages/urllib3/connectionpool.py:537\u001b[0m, in \u001b[0;36mHTTPConnectionPool._make_request\u001b[0;34m(self, conn, method, url, body, headers, retries, timeout, chunked, response_conn, preload_content, decode_content, enforce_content_length)\u001b[0m\n\u001b[1;32m    536\u001b[0m \u001b[38;5;28;01mtry\u001b[39;00m:\n\u001b[0;32m--> 537\u001b[0m     response \u001b[38;5;241m=\u001b[39m \u001b[43mconn\u001b[49m\u001b[38;5;241;43m.\u001b[39;49m\u001b[43mgetresponse\u001b[49m\u001b[43m(\u001b[49m\u001b[43m)\u001b[49m\n\u001b[1;32m    538\u001b[0m \u001b[38;5;28;01mexcept\u001b[39;00m (BaseSSLError, \u001b[38;5;167;01mOSError\u001b[39;00m) \u001b[38;5;28;01mas\u001b[39;00m e:\n",
      "File \u001b[0;32m~/repo/AbsBox/lib/python3.11/site-packages/urllib3/connection.py:466\u001b[0m, in \u001b[0;36mHTTPConnection.getresponse\u001b[0;34m(self)\u001b[0m\n\u001b[1;32m    465\u001b[0m \u001b[38;5;66;03m# Get the response from http.client.HTTPConnection\u001b[39;00m\n\u001b[0;32m--> 466\u001b[0m httplib_response \u001b[38;5;241m=\u001b[39m \u001b[38;5;28;43msuper\u001b[39;49m\u001b[43m(\u001b[49m\u001b[43m)\u001b[49m\u001b[38;5;241;43m.\u001b[39;49m\u001b[43mgetresponse\u001b[49m\u001b[43m(\u001b[49m\u001b[43m)\u001b[49m\n\u001b[1;32m    468\u001b[0m \u001b[38;5;28;01mtry\u001b[39;00m:\n",
      "File \u001b[0;32m/usr/lib/python3.11/http/client.py:1374\u001b[0m, in \u001b[0;36mHTTPConnection.getresponse\u001b[0;34m(self)\u001b[0m\n\u001b[1;32m   1373\u001b[0m \u001b[38;5;28;01mtry\u001b[39;00m:\n\u001b[0;32m-> 1374\u001b[0m     \u001b[43mresponse\u001b[49m\u001b[38;5;241;43m.\u001b[39;49m\u001b[43mbegin\u001b[49m\u001b[43m(\u001b[49m\u001b[43m)\u001b[49m\n\u001b[1;32m   1375\u001b[0m \u001b[38;5;28;01mexcept\u001b[39;00m \u001b[38;5;167;01mConnectionError\u001b[39;00m:\n",
      "File \u001b[0;32m/usr/lib/python3.11/http/client.py:318\u001b[0m, in \u001b[0;36mHTTPResponse.begin\u001b[0;34m(self)\u001b[0m\n\u001b[1;32m    317\u001b[0m \u001b[38;5;28;01mwhile\u001b[39;00m \u001b[38;5;28;01mTrue\u001b[39;00m:\n\u001b[0;32m--> 318\u001b[0m     version, status, reason \u001b[38;5;241m=\u001b[39m \u001b[38;5;28;43mself\u001b[39;49m\u001b[38;5;241;43m.\u001b[39;49m\u001b[43m_read_status\u001b[49m\u001b[43m(\u001b[49m\u001b[43m)\u001b[49m\n\u001b[1;32m    319\u001b[0m     \u001b[38;5;28;01mif\u001b[39;00m status \u001b[38;5;241m!=\u001b[39m CONTINUE:\n",
      "File \u001b[0;32m/usr/lib/python3.11/http/client.py:287\u001b[0m, in \u001b[0;36mHTTPResponse._read_status\u001b[0;34m(self)\u001b[0m\n\u001b[1;32m    284\u001b[0m \u001b[38;5;28;01mif\u001b[39;00m \u001b[38;5;129;01mnot\u001b[39;00m line:\n\u001b[1;32m    285\u001b[0m     \u001b[38;5;66;03m# Presumably, the server closed the connection before\u001b[39;00m\n\u001b[1;32m    286\u001b[0m     \u001b[38;5;66;03m# sending a valid response.\u001b[39;00m\n\u001b[0;32m--> 287\u001b[0m     \u001b[38;5;28;01mraise\u001b[39;00m RemoteDisconnected(\u001b[38;5;124m\"\u001b[39m\u001b[38;5;124mRemote end closed connection without\u001b[39m\u001b[38;5;124m\"\u001b[39m\n\u001b[1;32m    288\u001b[0m                              \u001b[38;5;124m\"\u001b[39m\u001b[38;5;124m response\u001b[39m\u001b[38;5;124m\"\u001b[39m)\n\u001b[1;32m    289\u001b[0m \u001b[38;5;28;01mtry\u001b[39;00m:\n",
      "\u001b[0;31mProtocolError\u001b[0m: ('Connection aborted.', RemoteDisconnected('Remote end closed connection without response'))",
      "\nDuring handling of the above exception, another exception occurred:\n",
      "\u001b[0;31mConnectionError\u001b[0m                           Traceback (most recent call last)",
      "File \u001b[0;32m~/repo/AbsBox/absbox/client.py:844\u001b[0m, in \u001b[0;36mAPI._send_req\u001b[0;34m(self, _req, _url, timeout, headers)\u001b[0m\n\u001b[1;32m    843\u001b[0m \u001b[38;5;28;01mif\u001b[39;00m \u001b[38;5;28mself\u001b[39m\u001b[38;5;241m.\u001b[39msession:\n\u001b[0;32m--> 844\u001b[0m     r \u001b[38;5;241m=\u001b[39m \u001b[38;5;28;43mself\u001b[39;49m\u001b[38;5;241;43m.\u001b[39;49m\u001b[43msession\u001b[49m\u001b[38;5;241;43m.\u001b[39;49m\u001b[43mpost\u001b[49m\u001b[43m(\u001b[49m\u001b[43m_url\u001b[49m\u001b[43m,\u001b[49m\u001b[43m \u001b[49m\u001b[43mdata\u001b[49m\u001b[38;5;241;43m=\u001b[39;49m\u001b[43m_req\u001b[49m\u001b[38;5;241;43m.\u001b[39;49m\u001b[43mencode\u001b[49m\u001b[43m(\u001b[49m\u001b[38;5;124;43m'\u001b[39;49m\u001b[38;5;124;43mutf-8\u001b[39;49m\u001b[38;5;124;43m'\u001b[39;49m\u001b[43m)\u001b[49m\u001b[43m,\u001b[49m\u001b[43m \u001b[49m\u001b[43mheaders\u001b[49m\u001b[38;5;241;43m=\u001b[39;49m\u001b[43mhdrs\u001b[49m\u001b[43m,\u001b[49m\u001b[43m \u001b[49m\u001b[43mverify\u001b[49m\u001b[38;5;241;43m=\u001b[39;49m\u001b[38;5;28;43;01mFalse\u001b[39;49;00m\u001b[43m,\u001b[49m\u001b[43m \u001b[49m\u001b[43mtimeout\u001b[49m\u001b[38;5;241;43m=\u001b[39;49m\u001b[43mtimeout\u001b[49m\u001b[43m)\u001b[49m\n\u001b[1;32m    845\u001b[0m \u001b[38;5;28;01melse\u001b[39;00m:\n",
      "File \u001b[0;32m~/repo/AbsBox/lib/python3.11/site-packages/requests/sessions.py:637\u001b[0m, in \u001b[0;36mSession.post\u001b[0;34m(self, url, data, json, **kwargs)\u001b[0m\n\u001b[1;32m    627\u001b[0m \u001b[38;5;250m\u001b[39m\u001b[38;5;124mr\u001b[39m\u001b[38;5;124;03m\"\"\"Sends a POST request. Returns :class:`Response` object.\u001b[39;00m\n\u001b[1;32m    628\u001b[0m \n\u001b[1;32m    629\u001b[0m \u001b[38;5;124;03m:param url: URL for the new :class:`Request` object.\u001b[39;00m\n\u001b[0;32m   (...)\u001b[0m\n\u001b[1;32m    634\u001b[0m \u001b[38;5;124;03m:rtype: requests.Response\u001b[39;00m\n\u001b[1;32m    635\u001b[0m \u001b[38;5;124;03m\"\"\"\u001b[39;00m\n\u001b[0;32m--> 637\u001b[0m \u001b[38;5;28;01mreturn\u001b[39;00m \u001b[38;5;28;43mself\u001b[39;49m\u001b[38;5;241;43m.\u001b[39;49m\u001b[43mrequest\u001b[49m\u001b[43m(\u001b[49m\u001b[38;5;124;43m\"\u001b[39;49m\u001b[38;5;124;43mPOST\u001b[39;49m\u001b[38;5;124;43m\"\u001b[39;49m\u001b[43m,\u001b[49m\u001b[43m \u001b[49m\u001b[43murl\u001b[49m\u001b[43m,\u001b[49m\u001b[43m \u001b[49m\u001b[43mdata\u001b[49m\u001b[38;5;241;43m=\u001b[39;49m\u001b[43mdata\u001b[49m\u001b[43m,\u001b[49m\u001b[43m \u001b[49m\u001b[43mjson\u001b[49m\u001b[38;5;241;43m=\u001b[39;49m\u001b[43mjson\u001b[49m\u001b[43m,\u001b[49m\u001b[43m \u001b[49m\u001b[38;5;241;43m*\u001b[39;49m\u001b[38;5;241;43m*\u001b[39;49m\u001b[43mkwargs\u001b[49m\u001b[43m)\u001b[49m\n",
      "File \u001b[0;32m~/repo/AbsBox/lib/python3.11/site-packages/requests/sessions.py:589\u001b[0m, in \u001b[0;36mSession.request\u001b[0;34m(self, method, url, params, data, headers, cookies, files, auth, timeout, allow_redirects, proxies, hooks, stream, verify, cert, json)\u001b[0m\n\u001b[1;32m    588\u001b[0m send_kwargs\u001b[38;5;241m.\u001b[39mupdate(settings)\n\u001b[0;32m--> 589\u001b[0m resp \u001b[38;5;241m=\u001b[39m \u001b[38;5;28;43mself\u001b[39;49m\u001b[38;5;241;43m.\u001b[39;49m\u001b[43msend\u001b[49m\u001b[43m(\u001b[49m\u001b[43mprep\u001b[49m\u001b[43m,\u001b[49m\u001b[43m \u001b[49m\u001b[38;5;241;43m*\u001b[39;49m\u001b[38;5;241;43m*\u001b[39;49m\u001b[43msend_kwargs\u001b[49m\u001b[43m)\u001b[49m\n\u001b[1;32m    591\u001b[0m \u001b[38;5;28;01mreturn\u001b[39;00m resp\n",
      "File \u001b[0;32m~/repo/AbsBox/lib/python3.11/site-packages/requests/sessions.py:703\u001b[0m, in \u001b[0;36mSession.send\u001b[0;34m(self, request, **kwargs)\u001b[0m\n\u001b[1;32m    702\u001b[0m \u001b[38;5;66;03m# Send the request\u001b[39;00m\n\u001b[0;32m--> 703\u001b[0m r \u001b[38;5;241m=\u001b[39m \u001b[43madapter\u001b[49m\u001b[38;5;241;43m.\u001b[39;49m\u001b[43msend\u001b[49m\u001b[43m(\u001b[49m\u001b[43mrequest\u001b[49m\u001b[43m,\u001b[49m\u001b[43m \u001b[49m\u001b[38;5;241;43m*\u001b[39;49m\u001b[38;5;241;43m*\u001b[39;49m\u001b[43mkwargs\u001b[49m\u001b[43m)\u001b[49m\n\u001b[1;32m    705\u001b[0m \u001b[38;5;66;03m# Total elapsed time of the request (approximately)\u001b[39;00m\n",
      "File \u001b[0;32m~/repo/AbsBox/lib/python3.11/site-packages/requests/adapters.py:682\u001b[0m, in \u001b[0;36mHTTPAdapter.send\u001b[0;34m(self, request, stream, timeout, verify, cert, proxies)\u001b[0m\n\u001b[1;32m    681\u001b[0m \u001b[38;5;28;01mexcept\u001b[39;00m (ProtocolError, \u001b[38;5;167;01mOSError\u001b[39;00m) \u001b[38;5;28;01mas\u001b[39;00m err:\n\u001b[0;32m--> 682\u001b[0m     \u001b[38;5;28;01mraise\u001b[39;00m \u001b[38;5;167;01mConnectionError\u001b[39;00m(err, request\u001b[38;5;241m=\u001b[39mrequest)\n\u001b[1;32m    684\u001b[0m \u001b[38;5;28;01mexcept\u001b[39;00m MaxRetryError \u001b[38;5;28;01mas\u001b[39;00m e:\n",
      "\u001b[0;31mConnectionError\u001b[0m: ('Connection aborted.', RemoteDisconnected('Remote end closed connection without response'))",
      "\nDuring handling of the above exception, another exception occurred:\n",
      "\u001b[0;31mAbsboxError\u001b[0m                               Traceback (most recent call last)",
      "Cell \u001b[0;32mIn[12], line 1\u001b[0m\n\u001b[0;32m----> 1\u001b[0m r02 \u001b[38;5;241m=\u001b[39m \u001b[43mlocalAPI\u001b[49m\u001b[38;5;241;43m.\u001b[39;49m\u001b[43mrun\u001b[49m\u001b[43m(\u001b[49m\u001b[43msrt02\u001b[49m\u001b[43m,\u001b[49m\u001b[43mpoolAssump\u001b[49m\u001b[38;5;241;43m=\u001b[39;49m\u001b[43m(\u001b[49m\u001b[38;5;124;43m\"\u001b[39;49m\u001b[38;5;124;43mPool\u001b[39;49m\u001b[38;5;124;43m\"\u001b[39;49m\u001b[43m,\u001b[49m\u001b[43m(\u001b[49m\u001b[38;5;124;43m\"\u001b[39;49m\u001b[38;5;124;43mMortgage\u001b[39;49m\u001b[38;5;124;43m\"\u001b[39;49m\u001b[43m,\u001b[49m\u001b[43m \u001b[49m\u001b[38;5;28;43;01mNone\u001b[39;49;00m\u001b[43m,\u001b[49m\u001b[43m \u001b[49m\u001b[38;5;28;43;01mNone\u001b[39;49;00m\u001b[43m,\u001b[49m\u001b[43m \u001b[49m\u001b[38;5;28;43;01mNone\u001b[39;49;00m\u001b[43m,\u001b[49m\u001b[43m \u001b[49m\u001b[38;5;28;43;01mNone\u001b[39;49;00m\u001b[43m)\u001b[49m\u001b[43m,\u001b[49m\u001b[38;5;28;43;01mNone\u001b[39;49;00m\u001b[43m,\u001b[49m\u001b[38;5;28;43;01mNone\u001b[39;49;00m\u001b[43m)\u001b[49m\n\u001b[1;32m      2\u001b[0m \u001b[43m                \u001b[49m\u001b[38;5;66;43;03m# ,runAssump=[(\"call\",(\"poolFactor\",0.10)),(\"inspect\",(\"MonthEnd\",(\"excess\", (\"cumPoolNetLoss\",)\u001b[39;49;00m\n\u001b[1;32m      3\u001b[0m \u001b[43m                \u001b[49m\u001b[38;5;66;43;03m#            , (\"abs\",(\"accountTxnAmount\",\"<Support:originator>\",\"srtAcc\")), (\"constant\",firstLossTranche))))]\u001b[39;49;00m\n\u001b[1;32m      4\u001b[0m \u001b[43m                \u001b[49m\u001b[43m,\u001b[49m\u001b[43mrunAssump\u001b[49m\u001b[38;5;241;43m=\u001b[39;49m\u001b[43mrunDealAssump\u001b[49m\u001b[43m,\u001b[49m\u001b[43mread\u001b[49m\u001b[38;5;241;43m=\u001b[39;49m\u001b[38;5;28;43;01mTrue\u001b[39;49;00m\u001b[43m)\u001b[49m\n\u001b[1;32m      6\u001b[0m bond_cf \u001b[38;5;241m=\u001b[39m readBondsCf(r02[\u001b[38;5;124m'\u001b[39m\u001b[38;5;124mbonds\u001b[39m\u001b[38;5;124m'\u001b[39m])\n\u001b[1;32m      7\u001b[0m bond_cf\u001b[38;5;241m.\u001b[39miloc[\u001b[38;5;241m0\u001b[39m, bond_cf\u001b[38;5;241m.\u001b[39mcolumns\u001b[38;5;241m.\u001b[39mget_loc((\u001b[38;5;124m'\u001b[39m\u001b[38;5;124mB\u001b[39m\u001b[38;5;124m'\u001b[39m, \u001b[38;5;124m'\u001b[39m\u001b[38;5;124mcash\u001b[39m\u001b[38;5;124m'\u001b[39m))] \u001b[38;5;241m=\u001b[39m default_ratedefault_ratedefault_rate\u001b[38;5;241m-\u001b[39mbond_cf\u001b[38;5;241m.\u001b[39miloc[\u001b[38;5;241m0\u001b[39m, bond_cf\u001b[38;5;241m.\u001b[39mcolumns\u001b[38;5;241m.\u001b[39mget_loc((\u001b[38;5;124m'\u001b[39m\u001b[38;5;124mB\u001b[39m\u001b[38;5;124m'\u001b[39m, \u001b[38;5;124m'\u001b[39m\u001b[38;5;124mbalance\u001b[39m\u001b[38;5;124m'\u001b[39m))]\n",
      "File \u001b[0;32m~/repo/AbsBox/absbox/client.py:359\u001b[0m, in \u001b[0;36mAPI.run\u001b[0;34m(self, deal, poolAssump, runAssump, read, showWarning, debug)\u001b[0m\n\u001b[1;32m    357\u001b[0m \u001b[38;5;66;03m# branching with pricing\u001b[39;00m\n\u001b[1;32m    358\u001b[0m \u001b[38;5;28;01mif\u001b[39;00m runAssump \u001b[38;5;129;01mis\u001b[39;00m \u001b[38;5;28;01mNone\u001b[39;00m \u001b[38;5;129;01mor\u001b[39;00m searchByFst(runAssump, \u001b[38;5;124m\"\u001b[39m\u001b[38;5;124mpricing\u001b[39m\u001b[38;5;124m\"\u001b[39m) \u001b[38;5;129;01mis\u001b[39;00m \u001b[38;5;28;01mNone\u001b[39;00m:\n\u001b[0;32m--> 359\u001b[0m     result \u001b[38;5;241m=\u001b[39m \u001b[38;5;28;43mself\u001b[39;49m\u001b[38;5;241;43m.\u001b[39;49m\u001b[43m_send_req\u001b[49m\u001b[43m(\u001b[49m\u001b[43mreq\u001b[49m\u001b[43m,\u001b[49m\u001b[43m \u001b[49m\u001b[43murl\u001b[49m\u001b[43m)\u001b[49m\n\u001b[1;32m    360\u001b[0m \u001b[38;5;28;01melse\u001b[39;00m:\n\u001b[1;32m    361\u001b[0m     result \u001b[38;5;241m=\u001b[39m \u001b[38;5;28mself\u001b[39m\u001b[38;5;241m.\u001b[39m_send_req(req, url, timeout\u001b[38;5;241m=\u001b[39m\u001b[38;5;241m30\u001b[39m)\n",
      "File \u001b[0;32m~/repo/AbsBox/absbox/client.py:848\u001b[0m, in \u001b[0;36mAPI._send_req\u001b[0;34m(self, _req, _url, timeout, headers)\u001b[0m\n\u001b[1;32m    846\u001b[0m         \u001b[38;5;28;01mraise\u001b[39;00m AbsboxError(\u001b[38;5;124mf\u001b[39m\u001b[38;5;124m\"\u001b[39m\u001b[38;5;124m❌: None type for session\u001b[39m\u001b[38;5;124m\"\u001b[39m)\n\u001b[1;32m    847\u001b[0m \u001b[38;5;28;01mexcept\u001b[39;00m (\u001b[38;5;167;01mConnectionRefusedError\u001b[39;00m, \u001b[38;5;167;01mConnectionError\u001b[39;00m):\n\u001b[0;32m--> 848\u001b[0m     \u001b[38;5;28;01mraise\u001b[39;00m AbsboxError(\u001b[38;5;124mf\u001b[39m\u001b[38;5;124m\"\u001b[39m\u001b[38;5;124m❌ Failed to talk to server \u001b[39m\u001b[38;5;132;01m{\u001b[39;00m_url\u001b[38;5;132;01m}\u001b[39;00m\u001b[38;5;124m\"\u001b[39m)\n\u001b[1;32m    849\u001b[0m \u001b[38;5;28;01mexcept\u001b[39;00m ReadTimeout:\n\u001b[1;32m    850\u001b[0m     \u001b[38;5;28;01mraise\u001b[39;00m AbsboxError(\u001b[38;5;124mf\u001b[39m\u001b[38;5;124m\"\u001b[39m\u001b[38;5;124m❌ Failed to get response from server\u001b[39m\u001b[38;5;124m\"\u001b[39m)\n",
      "\u001b[0;31mAbsboxError\u001b[0m: ❌ Failed to talk to server http://localhost:8081/runDeal"
     ]
    }
   ],
   "source": [
    "r02 = localAPI.run(srt02,poolAssump=(\"Pool\",(\"Mortgage\", None, None, None, None),None,None)\n",
    "                # ,runAssump=[(\"call\",(\"poolFactor\",0.10)),(\"inspect\",(\"MonthEnd\",(\"excess\", (\"cumPoolNetLoss\",)\n",
    "                #            , (\"abs\",(\"accountTxnAmount\",\"<Support:originator>\",\"srtAcc\")), (\"constant\",firstLossTranche))))]\n",
    "                ,runAssump=runDealAssump,read=True)\n",
    "\n",
    "bond_cf = readBondsCf(r02['bonds'])\n",
    "bond_cf.iloc[0, bond_cf.columns.get_loc(('B', 'cash'))] = default_ratedefault_ratedefault_rate-bond_cf.iloc[0, bond_cf.columns.get_loc(('B', 'balance'))]\n",
    "bond_cf.iloc[-1, bond_cf.columns.get_loc(('B', 'cash'))] = bond_cf.iloc[-1, bond_cf.columns.get_loc(('B', 'balance'))] + bond_cf.iloc[-1, bond_cf.columns.get_loc(('B', 'interest'))] + bond_cf.iloc[-1, bond_cf.columns.get_loc(('B', 'principal'))]\n",
    "bond_cf.tail()\n",
    "result = xirr(bond_cf.index.to_list(), bond_cf['B', 'cash'].to_list())\n",
    "result\n",
    "# results.append({'pool_cpr': pool_cpr*100, 'tranche_rate_mezz': tranche_rate_mezz*100, 'IRR': result*100})\n",
    "# print(f\"Pool CPR: {pool_cpr*100}, Tranche Rate: {tranche_rate_mezz*100}, IRR: {result*100}\")"
   ]
  },
  {
   "cell_type": "code",
   "execution_count": 175,
   "id": "403622b3",
   "metadata": {},
   "outputs": [
    {
     "data": {
      "text/html": [
       "<pre style=\"white-space:pre;overflow-x:auto;line-height:normal;font-family:Menlo,'DejaVu Sans Mono',consolas,'Courier New',monospace\">Warning Message from server:\n",
       "<span style=\"color: #808000; text-decoration-color: #808000; font-weight: bold\">Bond A1 is not paid off</span>\n",
       "<span style=\"color: #808000; text-decoration-color: #808000; font-weight: bold\">Bond B is not paid off</span>\n",
       "<span style=\"color: #808000; text-decoration-color: #808000; font-weight: bold\">Bond C is not paid off</span>\n",
       "<span style=\"color: #808000; text-decoration-color: #808000; font-weight: bold\">Account acc01 has cash to be distributed</span>\n",
       "<span style=\"color: #808000; text-decoration-color: #808000; font-weight: bold\">LiquidityProvider originator is not paid off</span>\n",
       "</pre>\n"
      ],
      "text/plain": [
       "Warning Message from server:\n",
       "\u001b[1;33mBond A1 is not paid off\u001b[0m\n",
       "\u001b[1;33mBond B is not paid off\u001b[0m\n",
       "\u001b[1;33mBond C is not paid off\u001b[0m\n",
       "\u001b[1;33mAccount acc01 has cash to be distributed\u001b[0m\n",
       "\u001b[1;33mLiquidityProvider originator is not paid off\u001b[0m\n"
      ]
     },
     "metadata": {},
     "output_type": "display_data"
    },
    {
     "name": "stdout",
     "output_type": "stream",
     "text": [
      "Pool CPR: 0.0, Tranche Rate: 4.0, IRR: 7.208550302008485\n"
     ]
    },
    {
     "data": {
      "text/html": [
       "<pre style=\"white-space:pre;overflow-x:auto;line-height:normal;font-family:Menlo,'DejaVu Sans Mono',consolas,'Courier New',monospace\">Warning Message from server:\n",
       "<span style=\"color: #808000; text-decoration-color: #808000; font-weight: bold\">Bond A1 is not paid off</span>\n",
       "<span style=\"color: #808000; text-decoration-color: #808000; font-weight: bold\">Bond B is not paid off</span>\n",
       "<span style=\"color: #808000; text-decoration-color: #808000; font-weight: bold\">Bond C is not paid off</span>\n",
       "<span style=\"color: #808000; text-decoration-color: #808000; font-weight: bold\">Account acc01 has cash to be distributed</span>\n",
       "<span style=\"color: #808000; text-decoration-color: #808000; font-weight: bold\">LiquidityProvider originator is not paid off</span>\n",
       "</pre>\n"
      ],
      "text/plain": [
       "Warning Message from server:\n",
       "\u001b[1;33mBond A1 is not paid off\u001b[0m\n",
       "\u001b[1;33mBond B is not paid off\u001b[0m\n",
       "\u001b[1;33mBond C is not paid off\u001b[0m\n",
       "\u001b[1;33mAccount acc01 has cash to be distributed\u001b[0m\n",
       "\u001b[1;33mLiquidityProvider originator is not paid off\u001b[0m\n"
      ]
     },
     "metadata": {},
     "output_type": "display_data"
    },
    {
     "name": "stdout",
     "output_type": "stream",
     "text": [
      "Pool CPR: 0.0, Tranche Rate: 4.5, IRR: 7.208550302008485\n"
     ]
    },
    {
     "data": {
      "text/html": [
       "<pre style=\"white-space:pre;overflow-x:auto;line-height:normal;font-family:Menlo,'DejaVu Sans Mono',consolas,'Courier New',monospace\">Warning Message from server:\n",
       "<span style=\"color: #808000; text-decoration-color: #808000; font-weight: bold\">Bond A1 is not paid off</span>\n",
       "<span style=\"color: #808000; text-decoration-color: #808000; font-weight: bold\">Bond B is not paid off</span>\n",
       "<span style=\"color: #808000; text-decoration-color: #808000; font-weight: bold\">Bond C is not paid off</span>\n",
       "<span style=\"color: #808000; text-decoration-color: #808000; font-weight: bold\">Account acc01 has cash to be distributed</span>\n",
       "<span style=\"color: #808000; text-decoration-color: #808000; font-weight: bold\">LiquidityProvider originator is not paid off</span>\n",
       "</pre>\n"
      ],
      "text/plain": [
       "Warning Message from server:\n",
       "\u001b[1;33mBond A1 is not paid off\u001b[0m\n",
       "\u001b[1;33mBond B is not paid off\u001b[0m\n",
       "\u001b[1;33mBond C is not paid off\u001b[0m\n",
       "\u001b[1;33mAccount acc01 has cash to be distributed\u001b[0m\n",
       "\u001b[1;33mLiquidityProvider originator is not paid off\u001b[0m\n"
      ]
     },
     "metadata": {},
     "output_type": "display_data"
    },
    {
     "name": "stdout",
     "output_type": "stream",
     "text": [
      "Pool CPR: 0.0, Tranche Rate: 5.0, IRR: 7.208550302008485\n"
     ]
    },
    {
     "data": {
      "text/html": [
       "<pre style=\"white-space:pre;overflow-x:auto;line-height:normal;font-family:Menlo,'DejaVu Sans Mono',consolas,'Courier New',monospace\">Warning Message from server:\n",
       "<span style=\"color: #808000; text-decoration-color: #808000; font-weight: bold\">Bond A1 is not paid off</span>\n",
       "<span style=\"color: #808000; text-decoration-color: #808000; font-weight: bold\">Bond B is not paid off</span>\n",
       "<span style=\"color: #808000; text-decoration-color: #808000; font-weight: bold\">Bond C is not paid off</span>\n",
       "<span style=\"color: #808000; text-decoration-color: #808000; font-weight: bold\">Account acc01 has cash to be distributed</span>\n",
       "<span style=\"color: #808000; text-decoration-color: #808000; font-weight: bold\">LiquidityProvider originator is not paid off</span>\n",
       "</pre>\n"
      ],
      "text/plain": [
       "Warning Message from server:\n",
       "\u001b[1;33mBond A1 is not paid off\u001b[0m\n",
       "\u001b[1;33mBond B is not paid off\u001b[0m\n",
       "\u001b[1;33mBond C is not paid off\u001b[0m\n",
       "\u001b[1;33mAccount acc01 has cash to be distributed\u001b[0m\n",
       "\u001b[1;33mLiquidityProvider originator is not paid off\u001b[0m\n"
      ]
     },
     "metadata": {},
     "output_type": "display_data"
    },
    {
     "name": "stdout",
     "output_type": "stream",
     "text": [
      "Pool CPR: 0.0, Tranche Rate: 5.499999999999999, IRR: 7.208550302008485\n"
     ]
    },
    {
     "data": {
      "text/html": [
       "<pre style=\"white-space:pre;overflow-x:auto;line-height:normal;font-family:Menlo,'DejaVu Sans Mono',consolas,'Courier New',monospace\">Warning Message from server:\n",
       "<span style=\"color: #808000; text-decoration-color: #808000; font-weight: bold\">Bond A1 is not paid off</span>\n",
       "<span style=\"color: #808000; text-decoration-color: #808000; font-weight: bold\">Bond B is not paid off</span>\n",
       "<span style=\"color: #808000; text-decoration-color: #808000; font-weight: bold\">Bond C is not paid off</span>\n",
       "<span style=\"color: #808000; text-decoration-color: #808000; font-weight: bold\">Account acc01 has cash to be distributed</span>\n",
       "<span style=\"color: #808000; text-decoration-color: #808000; font-weight: bold\">LiquidityProvider originator is not paid off</span>\n",
       "</pre>\n"
      ],
      "text/plain": [
       "Warning Message from server:\n",
       "\u001b[1;33mBond A1 is not paid off\u001b[0m\n",
       "\u001b[1;33mBond B is not paid off\u001b[0m\n",
       "\u001b[1;33mBond C is not paid off\u001b[0m\n",
       "\u001b[1;33mAccount acc01 has cash to be distributed\u001b[0m\n",
       "\u001b[1;33mLiquidityProvider originator is not paid off\u001b[0m\n"
      ]
     },
     "metadata": {},
     "output_type": "display_data"
    },
    {
     "name": "stdout",
     "output_type": "stream",
     "text": [
      "Pool CPR: 0.0, Tranche Rate: 5.999999999999999, IRR: 7.208550302008485\n"
     ]
    },
    {
     "data": {
      "text/html": [
       "<pre style=\"white-space:pre;overflow-x:auto;line-height:normal;font-family:Menlo,'DejaVu Sans Mono',consolas,'Courier New',monospace\">Warning Message from server:\n",
       "<span style=\"color: #808000; text-decoration-color: #808000; font-weight: bold\">Bond A1 is not paid off</span>\n",
       "<span style=\"color: #808000; text-decoration-color: #808000; font-weight: bold\">Bond B is not paid off</span>\n",
       "<span style=\"color: #808000; text-decoration-color: #808000; font-weight: bold\">Bond C is not paid off</span>\n",
       "<span style=\"color: #808000; text-decoration-color: #808000; font-weight: bold\">Account acc01 has cash to be distributed</span>\n",
       "<span style=\"color: #808000; text-decoration-color: #808000; font-weight: bold\">LiquidityProvider originator is not paid off</span>\n",
       "</pre>\n"
      ],
      "text/plain": [
       "Warning Message from server:\n",
       "\u001b[1;33mBond A1 is not paid off\u001b[0m\n",
       "\u001b[1;33mBond B is not paid off\u001b[0m\n",
       "\u001b[1;33mBond C is not paid off\u001b[0m\n",
       "\u001b[1;33mAccount acc01 has cash to be distributed\u001b[0m\n",
       "\u001b[1;33mLiquidityProvider originator is not paid off\u001b[0m\n"
      ]
     },
     "metadata": {},
     "output_type": "display_data"
    },
    {
     "name": "stdout",
     "output_type": "stream",
     "text": [
      "Pool CPR: 0.0, Tranche Rate: 6.499999999999999, IRR: 7.208550302008485\n"
     ]
    },
    {
     "data": {
      "text/html": [
       "<pre style=\"white-space:pre;overflow-x:auto;line-height:normal;font-family:Menlo,'DejaVu Sans Mono',consolas,'Courier New',monospace\">Warning Message from server:\n",
       "<span style=\"color: #808000; text-decoration-color: #808000; font-weight: bold\">Bond A1 is not paid off</span>\n",
       "<span style=\"color: #808000; text-decoration-color: #808000; font-weight: bold\">Bond B is not paid off</span>\n",
       "<span style=\"color: #808000; text-decoration-color: #808000; font-weight: bold\">Bond C is not paid off</span>\n",
       "<span style=\"color: #808000; text-decoration-color: #808000; font-weight: bold\">Account acc01 has cash to be distributed</span>\n",
       "<span style=\"color: #808000; text-decoration-color: #808000; font-weight: bold\">LiquidityProvider originator is not paid off</span>\n",
       "</pre>\n"
      ],
      "text/plain": [
       "Warning Message from server:\n",
       "\u001b[1;33mBond A1 is not paid off\u001b[0m\n",
       "\u001b[1;33mBond B is not paid off\u001b[0m\n",
       "\u001b[1;33mBond C is not paid off\u001b[0m\n",
       "\u001b[1;33mAccount acc01 has cash to be distributed\u001b[0m\n",
       "\u001b[1;33mLiquidityProvider originator is not paid off\u001b[0m\n"
      ]
     },
     "metadata": {},
     "output_type": "display_data"
    },
    {
     "name": "stdout",
     "output_type": "stream",
     "text": [
      "Pool CPR: 0.0, Tranche Rate: 6.999999999999998, IRR: 7.208550302008485\n"
     ]
    },
    {
     "data": {
      "text/html": [
       "<pre style=\"white-space:pre;overflow-x:auto;line-height:normal;font-family:Menlo,'DejaVu Sans Mono',consolas,'Courier New',monospace\">Warning Message from server:\n",
       "<span style=\"color: #808000; text-decoration-color: #808000; font-weight: bold\">Bond A1 is not paid off</span>\n",
       "<span style=\"color: #808000; text-decoration-color: #808000; font-weight: bold\">Bond B is not paid off</span>\n",
       "<span style=\"color: #808000; text-decoration-color: #808000; font-weight: bold\">Bond C is not paid off</span>\n",
       "<span style=\"color: #808000; text-decoration-color: #808000; font-weight: bold\">Account acc01 has cash to be distributed</span>\n",
       "<span style=\"color: #808000; text-decoration-color: #808000; font-weight: bold\">LiquidityProvider originator is not paid off</span>\n",
       "</pre>\n"
      ],
      "text/plain": [
       "Warning Message from server:\n",
       "\u001b[1;33mBond A1 is not paid off\u001b[0m\n",
       "\u001b[1;33mBond B is not paid off\u001b[0m\n",
       "\u001b[1;33mBond C is not paid off\u001b[0m\n",
       "\u001b[1;33mAccount acc01 has cash to be distributed\u001b[0m\n",
       "\u001b[1;33mLiquidityProvider originator is not paid off\u001b[0m\n"
      ]
     },
     "metadata": {},
     "output_type": "display_data"
    },
    {
     "name": "stdout",
     "output_type": "stream",
     "text": [
      "Pool CPR: 0.0, Tranche Rate: 7.499999999999998, IRR: 7.208550302008485\n"
     ]
    },
    {
     "data": {
      "text/html": [
       "<pre style=\"white-space:pre;overflow-x:auto;line-height:normal;font-family:Menlo,'DejaVu Sans Mono',consolas,'Courier New',monospace\">Warning Message from server:\n",
       "<span style=\"color: #808000; text-decoration-color: #808000; font-weight: bold\">Bond A1 is not paid off</span>\n",
       "<span style=\"color: #808000; text-decoration-color: #808000; font-weight: bold\">Bond B is not paid off</span>\n",
       "<span style=\"color: #808000; text-decoration-color: #808000; font-weight: bold\">Bond C is not paid off</span>\n",
       "<span style=\"color: #808000; text-decoration-color: #808000; font-weight: bold\">Account acc01 has cash to be distributed</span>\n",
       "<span style=\"color: #808000; text-decoration-color: #808000; font-weight: bold\">LiquidityProvider originator is not paid off</span>\n",
       "</pre>\n"
      ],
      "text/plain": [
       "Warning Message from server:\n",
       "\u001b[1;33mBond A1 is not paid off\u001b[0m\n",
       "\u001b[1;33mBond B is not paid off\u001b[0m\n",
       "\u001b[1;33mBond C is not paid off\u001b[0m\n",
       "\u001b[1;33mAccount acc01 has cash to be distributed\u001b[0m\n",
       "\u001b[1;33mLiquidityProvider originator is not paid off\u001b[0m\n"
      ]
     },
     "metadata": {},
     "output_type": "display_data"
    },
    {
     "name": "stdout",
     "output_type": "stream",
     "text": [
      "Pool CPR: 5.0, Tranche Rate: 4.0, IRR: 7.208550302008485\n"
     ]
    },
    {
     "data": {
      "text/html": [
       "<pre style=\"white-space:pre;overflow-x:auto;line-height:normal;font-family:Menlo,'DejaVu Sans Mono',consolas,'Courier New',monospace\">Warning Message from server:\n",
       "<span style=\"color: #808000; text-decoration-color: #808000; font-weight: bold\">Bond A1 is not paid off</span>\n",
       "<span style=\"color: #808000; text-decoration-color: #808000; font-weight: bold\">Bond B is not paid off</span>\n",
       "<span style=\"color: #808000; text-decoration-color: #808000; font-weight: bold\">Bond C is not paid off</span>\n",
       "<span style=\"color: #808000; text-decoration-color: #808000; font-weight: bold\">Account acc01 has cash to be distributed</span>\n",
       "<span style=\"color: #808000; text-decoration-color: #808000; font-weight: bold\">LiquidityProvider originator is not paid off</span>\n",
       "</pre>\n"
      ],
      "text/plain": [
       "Warning Message from server:\n",
       "\u001b[1;33mBond A1 is not paid off\u001b[0m\n",
       "\u001b[1;33mBond B is not paid off\u001b[0m\n",
       "\u001b[1;33mBond C is not paid off\u001b[0m\n",
       "\u001b[1;33mAccount acc01 has cash to be distributed\u001b[0m\n",
       "\u001b[1;33mLiquidityProvider originator is not paid off\u001b[0m\n"
      ]
     },
     "metadata": {},
     "output_type": "display_data"
    },
    {
     "name": "stdout",
     "output_type": "stream",
     "text": [
      "Pool CPR: 5.0, Tranche Rate: 4.5, IRR: 7.208550302008485\n"
     ]
    },
    {
     "data": {
      "text/html": [
       "<pre style=\"white-space:pre;overflow-x:auto;line-height:normal;font-family:Menlo,'DejaVu Sans Mono',consolas,'Courier New',monospace\">Warning Message from server:\n",
       "<span style=\"color: #808000; text-decoration-color: #808000; font-weight: bold\">Bond A1 is not paid off</span>\n",
       "<span style=\"color: #808000; text-decoration-color: #808000; font-weight: bold\">Bond B is not paid off</span>\n",
       "<span style=\"color: #808000; text-decoration-color: #808000; font-weight: bold\">Bond C is not paid off</span>\n",
       "<span style=\"color: #808000; text-decoration-color: #808000; font-weight: bold\">Account acc01 has cash to be distributed</span>\n",
       "<span style=\"color: #808000; text-decoration-color: #808000; font-weight: bold\">LiquidityProvider originator is not paid off</span>\n",
       "</pre>\n"
      ],
      "text/plain": [
       "Warning Message from server:\n",
       "\u001b[1;33mBond A1 is not paid off\u001b[0m\n",
       "\u001b[1;33mBond B is not paid off\u001b[0m\n",
       "\u001b[1;33mBond C is not paid off\u001b[0m\n",
       "\u001b[1;33mAccount acc01 has cash to be distributed\u001b[0m\n",
       "\u001b[1;33mLiquidityProvider originator is not paid off\u001b[0m\n"
      ]
     },
     "metadata": {},
     "output_type": "display_data"
    },
    {
     "name": "stdout",
     "output_type": "stream",
     "text": [
      "Pool CPR: 5.0, Tranche Rate: 5.0, IRR: 7.208550302008485\n"
     ]
    },
    {
     "data": {
      "text/html": [
       "<pre style=\"white-space:pre;overflow-x:auto;line-height:normal;font-family:Menlo,'DejaVu Sans Mono',consolas,'Courier New',monospace\">Warning Message from server:\n",
       "<span style=\"color: #808000; text-decoration-color: #808000; font-weight: bold\">Bond A1 is not paid off</span>\n",
       "<span style=\"color: #808000; text-decoration-color: #808000; font-weight: bold\">Bond B is not paid off</span>\n",
       "<span style=\"color: #808000; text-decoration-color: #808000; font-weight: bold\">Bond C is not paid off</span>\n",
       "<span style=\"color: #808000; text-decoration-color: #808000; font-weight: bold\">Account acc01 has cash to be distributed</span>\n",
       "<span style=\"color: #808000; text-decoration-color: #808000; font-weight: bold\">LiquidityProvider originator is not paid off</span>\n",
       "</pre>\n"
      ],
      "text/plain": [
       "Warning Message from server:\n",
       "\u001b[1;33mBond A1 is not paid off\u001b[0m\n",
       "\u001b[1;33mBond B is not paid off\u001b[0m\n",
       "\u001b[1;33mBond C is not paid off\u001b[0m\n",
       "\u001b[1;33mAccount acc01 has cash to be distributed\u001b[0m\n",
       "\u001b[1;33mLiquidityProvider originator is not paid off\u001b[0m\n"
      ]
     },
     "metadata": {},
     "output_type": "display_data"
    },
    {
     "name": "stdout",
     "output_type": "stream",
     "text": [
      "Pool CPR: 5.0, Tranche Rate: 5.499999999999999, IRR: 7.208550302008485\n"
     ]
    },
    {
     "data": {
      "text/html": [
       "<pre style=\"white-space:pre;overflow-x:auto;line-height:normal;font-family:Menlo,'DejaVu Sans Mono',consolas,'Courier New',monospace\">Warning Message from server:\n",
       "<span style=\"color: #808000; text-decoration-color: #808000; font-weight: bold\">Bond A1 is not paid off</span>\n",
       "<span style=\"color: #808000; text-decoration-color: #808000; font-weight: bold\">Bond B is not paid off</span>\n",
       "<span style=\"color: #808000; text-decoration-color: #808000; font-weight: bold\">Bond C is not paid off</span>\n",
       "<span style=\"color: #808000; text-decoration-color: #808000; font-weight: bold\">Account acc01 has cash to be distributed</span>\n",
       "<span style=\"color: #808000; text-decoration-color: #808000; font-weight: bold\">LiquidityProvider originator is not paid off</span>\n",
       "</pre>\n"
      ],
      "text/plain": [
       "Warning Message from server:\n",
       "\u001b[1;33mBond A1 is not paid off\u001b[0m\n",
       "\u001b[1;33mBond B is not paid off\u001b[0m\n",
       "\u001b[1;33mBond C is not paid off\u001b[0m\n",
       "\u001b[1;33mAccount acc01 has cash to be distributed\u001b[0m\n",
       "\u001b[1;33mLiquidityProvider originator is not paid off\u001b[0m\n"
      ]
     },
     "metadata": {},
     "output_type": "display_data"
    },
    {
     "name": "stdout",
     "output_type": "stream",
     "text": [
      "Pool CPR: 5.0, Tranche Rate: 5.999999999999999, IRR: 7.208550302008485\n"
     ]
    },
    {
     "data": {
      "text/html": [
       "<pre style=\"white-space:pre;overflow-x:auto;line-height:normal;font-family:Menlo,'DejaVu Sans Mono',consolas,'Courier New',monospace\">Warning Message from server:\n",
       "<span style=\"color: #808000; text-decoration-color: #808000; font-weight: bold\">Bond A1 is not paid off</span>\n",
       "<span style=\"color: #808000; text-decoration-color: #808000; font-weight: bold\">Bond B is not paid off</span>\n",
       "<span style=\"color: #808000; text-decoration-color: #808000; font-weight: bold\">Bond C is not paid off</span>\n",
       "<span style=\"color: #808000; text-decoration-color: #808000; font-weight: bold\">Account acc01 has cash to be distributed</span>\n",
       "<span style=\"color: #808000; text-decoration-color: #808000; font-weight: bold\">LiquidityProvider originator is not paid off</span>\n",
       "</pre>\n"
      ],
      "text/plain": [
       "Warning Message from server:\n",
       "\u001b[1;33mBond A1 is not paid off\u001b[0m\n",
       "\u001b[1;33mBond B is not paid off\u001b[0m\n",
       "\u001b[1;33mBond C is not paid off\u001b[0m\n",
       "\u001b[1;33mAccount acc01 has cash to be distributed\u001b[0m\n",
       "\u001b[1;33mLiquidityProvider originator is not paid off\u001b[0m\n"
      ]
     },
     "metadata": {},
     "output_type": "display_data"
    },
    {
     "name": "stdout",
     "output_type": "stream",
     "text": [
      "Pool CPR: 5.0, Tranche Rate: 6.499999999999999, IRR: 7.208550302008485\n"
     ]
    },
    {
     "data": {
      "text/html": [
       "<pre style=\"white-space:pre;overflow-x:auto;line-height:normal;font-family:Menlo,'DejaVu Sans Mono',consolas,'Courier New',monospace\">Warning Message from server:\n",
       "<span style=\"color: #808000; text-decoration-color: #808000; font-weight: bold\">Bond A1 is not paid off</span>\n",
       "<span style=\"color: #808000; text-decoration-color: #808000; font-weight: bold\">Bond B is not paid off</span>\n",
       "<span style=\"color: #808000; text-decoration-color: #808000; font-weight: bold\">Bond C is not paid off</span>\n",
       "<span style=\"color: #808000; text-decoration-color: #808000; font-weight: bold\">Account acc01 has cash to be distributed</span>\n",
       "<span style=\"color: #808000; text-decoration-color: #808000; font-weight: bold\">LiquidityProvider originator is not paid off</span>\n",
       "</pre>\n"
      ],
      "text/plain": [
       "Warning Message from server:\n",
       "\u001b[1;33mBond A1 is not paid off\u001b[0m\n",
       "\u001b[1;33mBond B is not paid off\u001b[0m\n",
       "\u001b[1;33mBond C is not paid off\u001b[0m\n",
       "\u001b[1;33mAccount acc01 has cash to be distributed\u001b[0m\n",
       "\u001b[1;33mLiquidityProvider originator is not paid off\u001b[0m\n"
      ]
     },
     "metadata": {},
     "output_type": "display_data"
    },
    {
     "name": "stdout",
     "output_type": "stream",
     "text": [
      "Pool CPR: 5.0, Tranche Rate: 6.999999999999998, IRR: 7.208550302008485\n"
     ]
    },
    {
     "data": {
      "text/html": [
       "<pre style=\"white-space:pre;overflow-x:auto;line-height:normal;font-family:Menlo,'DejaVu Sans Mono',consolas,'Courier New',monospace\">Warning Message from server:\n",
       "<span style=\"color: #808000; text-decoration-color: #808000; font-weight: bold\">Bond A1 is not paid off</span>\n",
       "<span style=\"color: #808000; text-decoration-color: #808000; font-weight: bold\">Bond B is not paid off</span>\n",
       "<span style=\"color: #808000; text-decoration-color: #808000; font-weight: bold\">Bond C is not paid off</span>\n",
       "<span style=\"color: #808000; text-decoration-color: #808000; font-weight: bold\">Account acc01 has cash to be distributed</span>\n",
       "<span style=\"color: #808000; text-decoration-color: #808000; font-weight: bold\">LiquidityProvider originator is not paid off</span>\n",
       "</pre>\n"
      ],
      "text/plain": [
       "Warning Message from server:\n",
       "\u001b[1;33mBond A1 is not paid off\u001b[0m\n",
       "\u001b[1;33mBond B is not paid off\u001b[0m\n",
       "\u001b[1;33mBond C is not paid off\u001b[0m\n",
       "\u001b[1;33mAccount acc01 has cash to be distributed\u001b[0m\n",
       "\u001b[1;33mLiquidityProvider originator is not paid off\u001b[0m\n"
      ]
     },
     "metadata": {},
     "output_type": "display_data"
    },
    {
     "name": "stdout",
     "output_type": "stream",
     "text": [
      "Pool CPR: 5.0, Tranche Rate: 7.499999999999998, IRR: 7.208550302008485\n"
     ]
    },
    {
     "data": {
      "text/html": [
       "<pre style=\"white-space:pre;overflow-x:auto;line-height:normal;font-family:Menlo,'DejaVu Sans Mono',consolas,'Courier New',monospace\">Warning Message from server:\n",
       "<span style=\"color: #808000; text-decoration-color: #808000; font-weight: bold\">Bond A1 is not paid off</span>\n",
       "<span style=\"color: #808000; text-decoration-color: #808000; font-weight: bold\">Bond B is not paid off</span>\n",
       "<span style=\"color: #808000; text-decoration-color: #808000; font-weight: bold\">Bond C is not paid off</span>\n",
       "<span style=\"color: #808000; text-decoration-color: #808000; font-weight: bold\">Account acc01 has cash to be distributed</span>\n",
       "<span style=\"color: #808000; text-decoration-color: #808000; font-weight: bold\">LiquidityProvider originator is not paid off</span>\n",
       "</pre>\n"
      ],
      "text/plain": [
       "Warning Message from server:\n",
       "\u001b[1;33mBond A1 is not paid off\u001b[0m\n",
       "\u001b[1;33mBond B is not paid off\u001b[0m\n",
       "\u001b[1;33mBond C is not paid off\u001b[0m\n",
       "\u001b[1;33mAccount acc01 has cash to be distributed\u001b[0m\n",
       "\u001b[1;33mLiquidityProvider originator is not paid off\u001b[0m\n"
      ]
     },
     "metadata": {},
     "output_type": "display_data"
    },
    {
     "name": "stdout",
     "output_type": "stream",
     "text": [
      "Pool CPR: 10.0, Tranche Rate: 4.0, IRR: 7.208550302008485\n"
     ]
    },
    {
     "data": {
      "text/html": [
       "<pre style=\"white-space:pre;overflow-x:auto;line-height:normal;font-family:Menlo,'DejaVu Sans Mono',consolas,'Courier New',monospace\">Warning Message from server:\n",
       "<span style=\"color: #808000; text-decoration-color: #808000; font-weight: bold\">Bond A1 is not paid off</span>\n",
       "<span style=\"color: #808000; text-decoration-color: #808000; font-weight: bold\">Bond B is not paid off</span>\n",
       "<span style=\"color: #808000; text-decoration-color: #808000; font-weight: bold\">Bond C is not paid off</span>\n",
       "<span style=\"color: #808000; text-decoration-color: #808000; font-weight: bold\">Account acc01 has cash to be distributed</span>\n",
       "<span style=\"color: #808000; text-decoration-color: #808000; font-weight: bold\">LiquidityProvider originator is not paid off</span>\n",
       "</pre>\n"
      ],
      "text/plain": [
       "Warning Message from server:\n",
       "\u001b[1;33mBond A1 is not paid off\u001b[0m\n",
       "\u001b[1;33mBond B is not paid off\u001b[0m\n",
       "\u001b[1;33mBond C is not paid off\u001b[0m\n",
       "\u001b[1;33mAccount acc01 has cash to be distributed\u001b[0m\n",
       "\u001b[1;33mLiquidityProvider originator is not paid off\u001b[0m\n"
      ]
     },
     "metadata": {},
     "output_type": "display_data"
    },
    {
     "name": "stdout",
     "output_type": "stream",
     "text": [
      "Pool CPR: 10.0, Tranche Rate: 4.5, IRR: 7.208550302008485\n"
     ]
    },
    {
     "data": {
      "text/html": [
       "<pre style=\"white-space:pre;overflow-x:auto;line-height:normal;font-family:Menlo,'DejaVu Sans Mono',consolas,'Courier New',monospace\">Warning Message from server:\n",
       "<span style=\"color: #808000; text-decoration-color: #808000; font-weight: bold\">Bond A1 is not paid off</span>\n",
       "<span style=\"color: #808000; text-decoration-color: #808000; font-weight: bold\">Bond B is not paid off</span>\n",
       "<span style=\"color: #808000; text-decoration-color: #808000; font-weight: bold\">Bond C is not paid off</span>\n",
       "<span style=\"color: #808000; text-decoration-color: #808000; font-weight: bold\">Account acc01 has cash to be distributed</span>\n",
       "<span style=\"color: #808000; text-decoration-color: #808000; font-weight: bold\">LiquidityProvider originator is not paid off</span>\n",
       "</pre>\n"
      ],
      "text/plain": [
       "Warning Message from server:\n",
       "\u001b[1;33mBond A1 is not paid off\u001b[0m\n",
       "\u001b[1;33mBond B is not paid off\u001b[0m\n",
       "\u001b[1;33mBond C is not paid off\u001b[0m\n",
       "\u001b[1;33mAccount acc01 has cash to be distributed\u001b[0m\n",
       "\u001b[1;33mLiquidityProvider originator is not paid off\u001b[0m\n"
      ]
     },
     "metadata": {},
     "output_type": "display_data"
    },
    {
     "name": "stdout",
     "output_type": "stream",
     "text": [
      "Pool CPR: 10.0, Tranche Rate: 5.0, IRR: 7.208550302008485\n"
     ]
    },
    {
     "data": {
      "text/html": [
       "<pre style=\"white-space:pre;overflow-x:auto;line-height:normal;font-family:Menlo,'DejaVu Sans Mono',consolas,'Courier New',monospace\">Warning Message from server:\n",
       "<span style=\"color: #808000; text-decoration-color: #808000; font-weight: bold\">Bond A1 is not paid off</span>\n",
       "<span style=\"color: #808000; text-decoration-color: #808000; font-weight: bold\">Bond B is not paid off</span>\n",
       "<span style=\"color: #808000; text-decoration-color: #808000; font-weight: bold\">Bond C is not paid off</span>\n",
       "<span style=\"color: #808000; text-decoration-color: #808000; font-weight: bold\">Account acc01 has cash to be distributed</span>\n",
       "<span style=\"color: #808000; text-decoration-color: #808000; font-weight: bold\">LiquidityProvider originator is not paid off</span>\n",
       "</pre>\n"
      ],
      "text/plain": [
       "Warning Message from server:\n",
       "\u001b[1;33mBond A1 is not paid off\u001b[0m\n",
       "\u001b[1;33mBond B is not paid off\u001b[0m\n",
       "\u001b[1;33mBond C is not paid off\u001b[0m\n",
       "\u001b[1;33mAccount acc01 has cash to be distributed\u001b[0m\n",
       "\u001b[1;33mLiquidityProvider originator is not paid off\u001b[0m\n"
      ]
     },
     "metadata": {},
     "output_type": "display_data"
    },
    {
     "name": "stdout",
     "output_type": "stream",
     "text": [
      "Pool CPR: 10.0, Tranche Rate: 5.499999999999999, IRR: 7.208550302008485\n"
     ]
    },
    {
     "data": {
      "text/html": [
       "<pre style=\"white-space:pre;overflow-x:auto;line-height:normal;font-family:Menlo,'DejaVu Sans Mono',consolas,'Courier New',monospace\">Warning Message from server:\n",
       "<span style=\"color: #808000; text-decoration-color: #808000; font-weight: bold\">Bond A1 is not paid off</span>\n",
       "<span style=\"color: #808000; text-decoration-color: #808000; font-weight: bold\">Bond B is not paid off</span>\n",
       "<span style=\"color: #808000; text-decoration-color: #808000; font-weight: bold\">Bond C is not paid off</span>\n",
       "<span style=\"color: #808000; text-decoration-color: #808000; font-weight: bold\">Account acc01 has cash to be distributed</span>\n",
       "<span style=\"color: #808000; text-decoration-color: #808000; font-weight: bold\">LiquidityProvider originator is not paid off</span>\n",
       "</pre>\n"
      ],
      "text/plain": [
       "Warning Message from server:\n",
       "\u001b[1;33mBond A1 is not paid off\u001b[0m\n",
       "\u001b[1;33mBond B is not paid off\u001b[0m\n",
       "\u001b[1;33mBond C is not paid off\u001b[0m\n",
       "\u001b[1;33mAccount acc01 has cash to be distributed\u001b[0m\n",
       "\u001b[1;33mLiquidityProvider originator is not paid off\u001b[0m\n"
      ]
     },
     "metadata": {},
     "output_type": "display_data"
    },
    {
     "name": "stdout",
     "output_type": "stream",
     "text": [
      "Pool CPR: 10.0, Tranche Rate: 5.999999999999999, IRR: 7.208550302008485\n"
     ]
    },
    {
     "data": {
      "text/html": [
       "<pre style=\"white-space:pre;overflow-x:auto;line-height:normal;font-family:Menlo,'DejaVu Sans Mono',consolas,'Courier New',monospace\">Warning Message from server:\n",
       "<span style=\"color: #808000; text-decoration-color: #808000; font-weight: bold\">Bond A1 is not paid off</span>\n",
       "<span style=\"color: #808000; text-decoration-color: #808000; font-weight: bold\">Bond B is not paid off</span>\n",
       "<span style=\"color: #808000; text-decoration-color: #808000; font-weight: bold\">Bond C is not paid off</span>\n",
       "<span style=\"color: #808000; text-decoration-color: #808000; font-weight: bold\">Account acc01 has cash to be distributed</span>\n",
       "<span style=\"color: #808000; text-decoration-color: #808000; font-weight: bold\">LiquidityProvider originator is not paid off</span>\n",
       "</pre>\n"
      ],
      "text/plain": [
       "Warning Message from server:\n",
       "\u001b[1;33mBond A1 is not paid off\u001b[0m\n",
       "\u001b[1;33mBond B is not paid off\u001b[0m\n",
       "\u001b[1;33mBond C is not paid off\u001b[0m\n",
       "\u001b[1;33mAccount acc01 has cash to be distributed\u001b[0m\n",
       "\u001b[1;33mLiquidityProvider originator is not paid off\u001b[0m\n"
      ]
     },
     "metadata": {},
     "output_type": "display_data"
    },
    {
     "name": "stdout",
     "output_type": "stream",
     "text": [
      "Pool CPR: 10.0, Tranche Rate: 6.499999999999999, IRR: 7.208550302008485\n"
     ]
    },
    {
     "data": {
      "text/html": [
       "<pre style=\"white-space:pre;overflow-x:auto;line-height:normal;font-family:Menlo,'DejaVu Sans Mono',consolas,'Courier New',monospace\">Warning Message from server:\n",
       "<span style=\"color: #808000; text-decoration-color: #808000; font-weight: bold\">Bond A1 is not paid off</span>\n",
       "<span style=\"color: #808000; text-decoration-color: #808000; font-weight: bold\">Bond B is not paid off</span>\n",
       "<span style=\"color: #808000; text-decoration-color: #808000; font-weight: bold\">Bond C is not paid off</span>\n",
       "<span style=\"color: #808000; text-decoration-color: #808000; font-weight: bold\">Account acc01 has cash to be distributed</span>\n",
       "<span style=\"color: #808000; text-decoration-color: #808000; font-weight: bold\">LiquidityProvider originator is not paid off</span>\n",
       "</pre>\n"
      ],
      "text/plain": [
       "Warning Message from server:\n",
       "\u001b[1;33mBond A1 is not paid off\u001b[0m\n",
       "\u001b[1;33mBond B is not paid off\u001b[0m\n",
       "\u001b[1;33mBond C is not paid off\u001b[0m\n",
       "\u001b[1;33mAccount acc01 has cash to be distributed\u001b[0m\n",
       "\u001b[1;33mLiquidityProvider originator is not paid off\u001b[0m\n"
      ]
     },
     "metadata": {},
     "output_type": "display_data"
    },
    {
     "name": "stdout",
     "output_type": "stream",
     "text": [
      "Pool CPR: 10.0, Tranche Rate: 6.999999999999998, IRR: 7.208550302008485\n"
     ]
    },
    {
     "data": {
      "text/html": [
       "<pre style=\"white-space:pre;overflow-x:auto;line-height:normal;font-family:Menlo,'DejaVu Sans Mono',consolas,'Courier New',monospace\">Warning Message from server:\n",
       "<span style=\"color: #808000; text-decoration-color: #808000; font-weight: bold\">Bond A1 is not paid off</span>\n",
       "<span style=\"color: #808000; text-decoration-color: #808000; font-weight: bold\">Bond B is not paid off</span>\n",
       "<span style=\"color: #808000; text-decoration-color: #808000; font-weight: bold\">Bond C is not paid off</span>\n",
       "<span style=\"color: #808000; text-decoration-color: #808000; font-weight: bold\">Account acc01 has cash to be distributed</span>\n",
       "<span style=\"color: #808000; text-decoration-color: #808000; font-weight: bold\">LiquidityProvider originator is not paid off</span>\n",
       "</pre>\n"
      ],
      "text/plain": [
       "Warning Message from server:\n",
       "\u001b[1;33mBond A1 is not paid off\u001b[0m\n",
       "\u001b[1;33mBond B is not paid off\u001b[0m\n",
       "\u001b[1;33mBond C is not paid off\u001b[0m\n",
       "\u001b[1;33mAccount acc01 has cash to be distributed\u001b[0m\n",
       "\u001b[1;33mLiquidityProvider originator is not paid off\u001b[0m\n"
      ]
     },
     "metadata": {},
     "output_type": "display_data"
    },
    {
     "name": "stdout",
     "output_type": "stream",
     "text": [
      "Pool CPR: 10.0, Tranche Rate: 7.499999999999998, IRR: 7.208550302008485\n"
     ]
    },
    {
     "data": {
      "text/html": [
       "<pre style=\"white-space:pre;overflow-x:auto;line-height:normal;font-family:Menlo,'DejaVu Sans Mono',consolas,'Courier New',monospace\">Warning Message from server:\n",
       "<span style=\"color: #808000; text-decoration-color: #808000; font-weight: bold\">Bond A1 is not paid off</span>\n",
       "<span style=\"color: #808000; text-decoration-color: #808000; font-weight: bold\">Bond B is not paid off</span>\n",
       "<span style=\"color: #808000; text-decoration-color: #808000; font-weight: bold\">Bond C is not paid off</span>\n",
       "<span style=\"color: #808000; text-decoration-color: #808000; font-weight: bold\">Account acc01 has cash to be distributed</span>\n",
       "<span style=\"color: #808000; text-decoration-color: #808000; font-weight: bold\">LiquidityProvider originator is not paid off</span>\n",
       "</pre>\n"
      ],
      "text/plain": [
       "Warning Message from server:\n",
       "\u001b[1;33mBond A1 is not paid off\u001b[0m\n",
       "\u001b[1;33mBond B is not paid off\u001b[0m\n",
       "\u001b[1;33mBond C is not paid off\u001b[0m\n",
       "\u001b[1;33mAccount acc01 has cash to be distributed\u001b[0m\n",
       "\u001b[1;33mLiquidityProvider originator is not paid off\u001b[0m\n"
      ]
     },
     "metadata": {},
     "output_type": "display_data"
    },
    {
     "name": "stdout",
     "output_type": "stream",
     "text": [
      "Pool CPR: 15.000000000000002, Tranche Rate: 4.0, IRR: 7.208550302008485\n"
     ]
    },
    {
     "data": {
      "text/html": [
       "<pre style=\"white-space:pre;overflow-x:auto;line-height:normal;font-family:Menlo,'DejaVu Sans Mono',consolas,'Courier New',monospace\">Warning Message from server:\n",
       "<span style=\"color: #808000; text-decoration-color: #808000; font-weight: bold\">Bond A1 is not paid off</span>\n",
       "<span style=\"color: #808000; text-decoration-color: #808000; font-weight: bold\">Bond B is not paid off</span>\n",
       "<span style=\"color: #808000; text-decoration-color: #808000; font-weight: bold\">Bond C is not paid off</span>\n",
       "<span style=\"color: #808000; text-decoration-color: #808000; font-weight: bold\">Account acc01 has cash to be distributed</span>\n",
       "<span style=\"color: #808000; text-decoration-color: #808000; font-weight: bold\">LiquidityProvider originator is not paid off</span>\n",
       "</pre>\n"
      ],
      "text/plain": [
       "Warning Message from server:\n",
       "\u001b[1;33mBond A1 is not paid off\u001b[0m\n",
       "\u001b[1;33mBond B is not paid off\u001b[0m\n",
       "\u001b[1;33mBond C is not paid off\u001b[0m\n",
       "\u001b[1;33mAccount acc01 has cash to be distributed\u001b[0m\n",
       "\u001b[1;33mLiquidityProvider originator is not paid off\u001b[0m\n"
      ]
     },
     "metadata": {},
     "output_type": "display_data"
    },
    {
     "name": "stdout",
     "output_type": "stream",
     "text": [
      "Pool CPR: 15.000000000000002, Tranche Rate: 4.5, IRR: 7.208550302008485\n"
     ]
    },
    {
     "data": {
      "text/html": [
       "<pre style=\"white-space:pre;overflow-x:auto;line-height:normal;font-family:Menlo,'DejaVu Sans Mono',consolas,'Courier New',monospace\">Warning Message from server:\n",
       "<span style=\"color: #808000; text-decoration-color: #808000; font-weight: bold\">Bond A1 is not paid off</span>\n",
       "<span style=\"color: #808000; text-decoration-color: #808000; font-weight: bold\">Bond B is not paid off</span>\n",
       "<span style=\"color: #808000; text-decoration-color: #808000; font-weight: bold\">Bond C is not paid off</span>\n",
       "<span style=\"color: #808000; text-decoration-color: #808000; font-weight: bold\">Account acc01 has cash to be distributed</span>\n",
       "<span style=\"color: #808000; text-decoration-color: #808000; font-weight: bold\">LiquidityProvider originator is not paid off</span>\n",
       "</pre>\n"
      ],
      "text/plain": [
       "Warning Message from server:\n",
       "\u001b[1;33mBond A1 is not paid off\u001b[0m\n",
       "\u001b[1;33mBond B is not paid off\u001b[0m\n",
       "\u001b[1;33mBond C is not paid off\u001b[0m\n",
       "\u001b[1;33mAccount acc01 has cash to be distributed\u001b[0m\n",
       "\u001b[1;33mLiquidityProvider originator is not paid off\u001b[0m\n"
      ]
     },
     "metadata": {},
     "output_type": "display_data"
    },
    {
     "name": "stdout",
     "output_type": "stream",
     "text": [
      "Pool CPR: 15.000000000000002, Tranche Rate: 5.0, IRR: 7.208550302008485\n"
     ]
    },
    {
     "data": {
      "text/html": [
       "<pre style=\"white-space:pre;overflow-x:auto;line-height:normal;font-family:Menlo,'DejaVu Sans Mono',consolas,'Courier New',monospace\">Warning Message from server:\n",
       "<span style=\"color: #808000; text-decoration-color: #808000; font-weight: bold\">Bond A1 is not paid off</span>\n",
       "<span style=\"color: #808000; text-decoration-color: #808000; font-weight: bold\">Bond B is not paid off</span>\n",
       "<span style=\"color: #808000; text-decoration-color: #808000; font-weight: bold\">Bond C is not paid off</span>\n",
       "<span style=\"color: #808000; text-decoration-color: #808000; font-weight: bold\">Account acc01 has cash to be distributed</span>\n",
       "<span style=\"color: #808000; text-decoration-color: #808000; font-weight: bold\">LiquidityProvider originator is not paid off</span>\n",
       "</pre>\n"
      ],
      "text/plain": [
       "Warning Message from server:\n",
       "\u001b[1;33mBond A1 is not paid off\u001b[0m\n",
       "\u001b[1;33mBond B is not paid off\u001b[0m\n",
       "\u001b[1;33mBond C is not paid off\u001b[0m\n",
       "\u001b[1;33mAccount acc01 has cash to be distributed\u001b[0m\n",
       "\u001b[1;33mLiquidityProvider originator is not paid off\u001b[0m\n"
      ]
     },
     "metadata": {},
     "output_type": "display_data"
    },
    {
     "name": "stdout",
     "output_type": "stream",
     "text": [
      "Pool CPR: 15.000000000000002, Tranche Rate: 5.499999999999999, IRR: 7.208550302008485\n"
     ]
    },
    {
     "data": {
      "text/html": [
       "<pre style=\"white-space:pre;overflow-x:auto;line-height:normal;font-family:Menlo,'DejaVu Sans Mono',consolas,'Courier New',monospace\">Warning Message from server:\n",
       "<span style=\"color: #808000; text-decoration-color: #808000; font-weight: bold\">Bond A1 is not paid off</span>\n",
       "<span style=\"color: #808000; text-decoration-color: #808000; font-weight: bold\">Bond B is not paid off</span>\n",
       "<span style=\"color: #808000; text-decoration-color: #808000; font-weight: bold\">Bond C is not paid off</span>\n",
       "<span style=\"color: #808000; text-decoration-color: #808000; font-weight: bold\">Account acc01 has cash to be distributed</span>\n",
       "<span style=\"color: #808000; text-decoration-color: #808000; font-weight: bold\">LiquidityProvider originator is not paid off</span>\n",
       "</pre>\n"
      ],
      "text/plain": [
       "Warning Message from server:\n",
       "\u001b[1;33mBond A1 is not paid off\u001b[0m\n",
       "\u001b[1;33mBond B is not paid off\u001b[0m\n",
       "\u001b[1;33mBond C is not paid off\u001b[0m\n",
       "\u001b[1;33mAccount acc01 has cash to be distributed\u001b[0m\n",
       "\u001b[1;33mLiquidityProvider originator is not paid off\u001b[0m\n"
      ]
     },
     "metadata": {},
     "output_type": "display_data"
    },
    {
     "name": "stdout",
     "output_type": "stream",
     "text": [
      "Pool CPR: 15.000000000000002, Tranche Rate: 5.999999999999999, IRR: 7.208550302008485\n"
     ]
    },
    {
     "data": {
      "text/html": [
       "<pre style=\"white-space:pre;overflow-x:auto;line-height:normal;font-family:Menlo,'DejaVu Sans Mono',consolas,'Courier New',monospace\">Warning Message from server:\n",
       "<span style=\"color: #808000; text-decoration-color: #808000; font-weight: bold\">Bond A1 is not paid off</span>\n",
       "<span style=\"color: #808000; text-decoration-color: #808000; font-weight: bold\">Bond B is not paid off</span>\n",
       "<span style=\"color: #808000; text-decoration-color: #808000; font-weight: bold\">Bond C is not paid off</span>\n",
       "<span style=\"color: #808000; text-decoration-color: #808000; font-weight: bold\">Account acc01 has cash to be distributed</span>\n",
       "<span style=\"color: #808000; text-decoration-color: #808000; font-weight: bold\">LiquidityProvider originator is not paid off</span>\n",
       "</pre>\n"
      ],
      "text/plain": [
       "Warning Message from server:\n",
       "\u001b[1;33mBond A1 is not paid off\u001b[0m\n",
       "\u001b[1;33mBond B is not paid off\u001b[0m\n",
       "\u001b[1;33mBond C is not paid off\u001b[0m\n",
       "\u001b[1;33mAccount acc01 has cash to be distributed\u001b[0m\n",
       "\u001b[1;33mLiquidityProvider originator is not paid off\u001b[0m\n"
      ]
     },
     "metadata": {},
     "output_type": "display_data"
    },
    {
     "name": "stdout",
     "output_type": "stream",
     "text": [
      "Pool CPR: 15.000000000000002, Tranche Rate: 6.499999999999999, IRR: 7.208550302008485\n"
     ]
    },
    {
     "data": {
      "text/html": [
       "<pre style=\"white-space:pre;overflow-x:auto;line-height:normal;font-family:Menlo,'DejaVu Sans Mono',consolas,'Courier New',monospace\">Warning Message from server:\n",
       "<span style=\"color: #808000; text-decoration-color: #808000; font-weight: bold\">Bond A1 is not paid off</span>\n",
       "<span style=\"color: #808000; text-decoration-color: #808000; font-weight: bold\">Bond B is not paid off</span>\n",
       "<span style=\"color: #808000; text-decoration-color: #808000; font-weight: bold\">Bond C is not paid off</span>\n",
       "<span style=\"color: #808000; text-decoration-color: #808000; font-weight: bold\">Account acc01 has cash to be distributed</span>\n",
       "<span style=\"color: #808000; text-decoration-color: #808000; font-weight: bold\">LiquidityProvider originator is not paid off</span>\n",
       "</pre>\n"
      ],
      "text/plain": [
       "Warning Message from server:\n",
       "\u001b[1;33mBond A1 is not paid off\u001b[0m\n",
       "\u001b[1;33mBond B is not paid off\u001b[0m\n",
       "\u001b[1;33mBond C is not paid off\u001b[0m\n",
       "\u001b[1;33mAccount acc01 has cash to be distributed\u001b[0m\n",
       "\u001b[1;33mLiquidityProvider originator is not paid off\u001b[0m\n"
      ]
     },
     "metadata": {},
     "output_type": "display_data"
    },
    {
     "name": "stdout",
     "output_type": "stream",
     "text": [
      "Pool CPR: 15.000000000000002, Tranche Rate: 6.999999999999998, IRR: 7.208550302008485\n"
     ]
    },
    {
     "data": {
      "text/html": [
       "<pre style=\"white-space:pre;overflow-x:auto;line-height:normal;font-family:Menlo,'DejaVu Sans Mono',consolas,'Courier New',monospace\">Warning Message from server:\n",
       "<span style=\"color: #808000; text-decoration-color: #808000; font-weight: bold\">Bond A1 is not paid off</span>\n",
       "<span style=\"color: #808000; text-decoration-color: #808000; font-weight: bold\">Bond B is not paid off</span>\n",
       "<span style=\"color: #808000; text-decoration-color: #808000; font-weight: bold\">Bond C is not paid off</span>\n",
       "<span style=\"color: #808000; text-decoration-color: #808000; font-weight: bold\">Account acc01 has cash to be distributed</span>\n",
       "<span style=\"color: #808000; text-decoration-color: #808000; font-weight: bold\">LiquidityProvider originator is not paid off</span>\n",
       "</pre>\n"
      ],
      "text/plain": [
       "Warning Message from server:\n",
       "\u001b[1;33mBond A1 is not paid off\u001b[0m\n",
       "\u001b[1;33mBond B is not paid off\u001b[0m\n",
       "\u001b[1;33mBond C is not paid off\u001b[0m\n",
       "\u001b[1;33mAccount acc01 has cash to be distributed\u001b[0m\n",
       "\u001b[1;33mLiquidityProvider originator is not paid off\u001b[0m\n"
      ]
     },
     "metadata": {},
     "output_type": "display_data"
    },
    {
     "name": "stdout",
     "output_type": "stream",
     "text": [
      "Pool CPR: 15.000000000000002, Tranche Rate: 7.499999999999998, IRR: 7.208550302008485\n"
     ]
    },
    {
     "data": {
      "text/html": [
       "<pre style=\"white-space:pre;overflow-x:auto;line-height:normal;font-family:Menlo,'DejaVu Sans Mono',consolas,'Courier New',monospace\">Warning Message from server:\n",
       "<span style=\"color: #808000; text-decoration-color: #808000; font-weight: bold\">Bond A1 is not paid off</span>\n",
       "<span style=\"color: #808000; text-decoration-color: #808000; font-weight: bold\">Bond B is not paid off</span>\n",
       "<span style=\"color: #808000; text-decoration-color: #808000; font-weight: bold\">Bond C is not paid off</span>\n",
       "<span style=\"color: #808000; text-decoration-color: #808000; font-weight: bold\">Account acc01 has cash to be distributed</span>\n",
       "<span style=\"color: #808000; text-decoration-color: #808000; font-weight: bold\">LiquidityProvider originator is not paid off</span>\n",
       "</pre>\n"
      ],
      "text/plain": [
       "Warning Message from server:\n",
       "\u001b[1;33mBond A1 is not paid off\u001b[0m\n",
       "\u001b[1;33mBond B is not paid off\u001b[0m\n",
       "\u001b[1;33mBond C is not paid off\u001b[0m\n",
       "\u001b[1;33mAccount acc01 has cash to be distributed\u001b[0m\n",
       "\u001b[1;33mLiquidityProvider originator is not paid off\u001b[0m\n"
      ]
     },
     "metadata": {},
     "output_type": "display_data"
    },
    {
     "name": "stdout",
     "output_type": "stream",
     "text": [
      "Pool CPR: 20.0, Tranche Rate: 4.0, IRR: 7.208550302008485\n"
     ]
    },
    {
     "data": {
      "text/html": [
       "<pre style=\"white-space:pre;overflow-x:auto;line-height:normal;font-family:Menlo,'DejaVu Sans Mono',consolas,'Courier New',monospace\">Warning Message from server:\n",
       "<span style=\"color: #808000; text-decoration-color: #808000; font-weight: bold\">Bond A1 is not paid off</span>\n",
       "<span style=\"color: #808000; text-decoration-color: #808000; font-weight: bold\">Bond B is not paid off</span>\n",
       "<span style=\"color: #808000; text-decoration-color: #808000; font-weight: bold\">Bond C is not paid off</span>\n",
       "<span style=\"color: #808000; text-decoration-color: #808000; font-weight: bold\">Account acc01 has cash to be distributed</span>\n",
       "<span style=\"color: #808000; text-decoration-color: #808000; font-weight: bold\">LiquidityProvider originator is not paid off</span>\n",
       "</pre>\n"
      ],
      "text/plain": [
       "Warning Message from server:\n",
       "\u001b[1;33mBond A1 is not paid off\u001b[0m\n",
       "\u001b[1;33mBond B is not paid off\u001b[0m\n",
       "\u001b[1;33mBond C is not paid off\u001b[0m\n",
       "\u001b[1;33mAccount acc01 has cash to be distributed\u001b[0m\n",
       "\u001b[1;33mLiquidityProvider originator is not paid off\u001b[0m\n"
      ]
     },
     "metadata": {},
     "output_type": "display_data"
    },
    {
     "name": "stdout",
     "output_type": "stream",
     "text": [
      "Pool CPR: 20.0, Tranche Rate: 4.5, IRR: 7.208550302008485\n"
     ]
    },
    {
     "data": {
      "text/html": [
       "<pre style=\"white-space:pre;overflow-x:auto;line-height:normal;font-family:Menlo,'DejaVu Sans Mono',consolas,'Courier New',monospace\">Warning Message from server:\n",
       "<span style=\"color: #808000; text-decoration-color: #808000; font-weight: bold\">Bond A1 is not paid off</span>\n",
       "<span style=\"color: #808000; text-decoration-color: #808000; font-weight: bold\">Bond B is not paid off</span>\n",
       "<span style=\"color: #808000; text-decoration-color: #808000; font-weight: bold\">Bond C is not paid off</span>\n",
       "<span style=\"color: #808000; text-decoration-color: #808000; font-weight: bold\">Account acc01 has cash to be distributed</span>\n",
       "<span style=\"color: #808000; text-decoration-color: #808000; font-weight: bold\">LiquidityProvider originator is not paid off</span>\n",
       "</pre>\n"
      ],
      "text/plain": [
       "Warning Message from server:\n",
       "\u001b[1;33mBond A1 is not paid off\u001b[0m\n",
       "\u001b[1;33mBond B is not paid off\u001b[0m\n",
       "\u001b[1;33mBond C is not paid off\u001b[0m\n",
       "\u001b[1;33mAccount acc01 has cash to be distributed\u001b[0m\n",
       "\u001b[1;33mLiquidityProvider originator is not paid off\u001b[0m\n"
      ]
     },
     "metadata": {},
     "output_type": "display_data"
    },
    {
     "name": "stdout",
     "output_type": "stream",
     "text": [
      "Pool CPR: 20.0, Tranche Rate: 5.0, IRR: 7.208550302008485\n"
     ]
    },
    {
     "data": {
      "text/html": [
       "<pre style=\"white-space:pre;overflow-x:auto;line-height:normal;font-family:Menlo,'DejaVu Sans Mono',consolas,'Courier New',monospace\">Warning Message from server:\n",
       "<span style=\"color: #808000; text-decoration-color: #808000; font-weight: bold\">Bond A1 is not paid off</span>\n",
       "<span style=\"color: #808000; text-decoration-color: #808000; font-weight: bold\">Bond B is not paid off</span>\n",
       "<span style=\"color: #808000; text-decoration-color: #808000; font-weight: bold\">Bond C is not paid off</span>\n",
       "<span style=\"color: #808000; text-decoration-color: #808000; font-weight: bold\">Account acc01 has cash to be distributed</span>\n",
       "<span style=\"color: #808000; text-decoration-color: #808000; font-weight: bold\">LiquidityProvider originator is not paid off</span>\n",
       "</pre>\n"
      ],
      "text/plain": [
       "Warning Message from server:\n",
       "\u001b[1;33mBond A1 is not paid off\u001b[0m\n",
       "\u001b[1;33mBond B is not paid off\u001b[0m\n",
       "\u001b[1;33mBond C is not paid off\u001b[0m\n",
       "\u001b[1;33mAccount acc01 has cash to be distributed\u001b[0m\n",
       "\u001b[1;33mLiquidityProvider originator is not paid off\u001b[0m\n"
      ]
     },
     "metadata": {},
     "output_type": "display_data"
    },
    {
     "name": "stdout",
     "output_type": "stream",
     "text": [
      "Pool CPR: 20.0, Tranche Rate: 5.499999999999999, IRR: 7.208550302008485\n"
     ]
    },
    {
     "data": {
      "text/html": [
       "<pre style=\"white-space:pre;overflow-x:auto;line-height:normal;font-family:Menlo,'DejaVu Sans Mono',consolas,'Courier New',monospace\">Warning Message from server:\n",
       "<span style=\"color: #808000; text-decoration-color: #808000; font-weight: bold\">Bond A1 is not paid off</span>\n",
       "<span style=\"color: #808000; text-decoration-color: #808000; font-weight: bold\">Bond B is not paid off</span>\n",
       "<span style=\"color: #808000; text-decoration-color: #808000; font-weight: bold\">Bond C is not paid off</span>\n",
       "<span style=\"color: #808000; text-decoration-color: #808000; font-weight: bold\">Account acc01 has cash to be distributed</span>\n",
       "<span style=\"color: #808000; text-decoration-color: #808000; font-weight: bold\">LiquidityProvider originator is not paid off</span>\n",
       "</pre>\n"
      ],
      "text/plain": [
       "Warning Message from server:\n",
       "\u001b[1;33mBond A1 is not paid off\u001b[0m\n",
       "\u001b[1;33mBond B is not paid off\u001b[0m\n",
       "\u001b[1;33mBond C is not paid off\u001b[0m\n",
       "\u001b[1;33mAccount acc01 has cash to be distributed\u001b[0m\n",
       "\u001b[1;33mLiquidityProvider originator is not paid off\u001b[0m\n"
      ]
     },
     "metadata": {},
     "output_type": "display_data"
    },
    {
     "name": "stdout",
     "output_type": "stream",
     "text": [
      "Pool CPR: 20.0, Tranche Rate: 5.999999999999999, IRR: 7.208550302008485\n"
     ]
    },
    {
     "data": {
      "text/html": [
       "<pre style=\"white-space:pre;overflow-x:auto;line-height:normal;font-family:Menlo,'DejaVu Sans Mono',consolas,'Courier New',monospace\">Warning Message from server:\n",
       "<span style=\"color: #808000; text-decoration-color: #808000; font-weight: bold\">Bond A1 is not paid off</span>\n",
       "<span style=\"color: #808000; text-decoration-color: #808000; font-weight: bold\">Bond B is not paid off</span>\n",
       "<span style=\"color: #808000; text-decoration-color: #808000; font-weight: bold\">Bond C is not paid off</span>\n",
       "<span style=\"color: #808000; text-decoration-color: #808000; font-weight: bold\">Account acc01 has cash to be distributed</span>\n",
       "<span style=\"color: #808000; text-decoration-color: #808000; font-weight: bold\">LiquidityProvider originator is not paid off</span>\n",
       "</pre>\n"
      ],
      "text/plain": [
       "Warning Message from server:\n",
       "\u001b[1;33mBond A1 is not paid off\u001b[0m\n",
       "\u001b[1;33mBond B is not paid off\u001b[0m\n",
       "\u001b[1;33mBond C is not paid off\u001b[0m\n",
       "\u001b[1;33mAccount acc01 has cash to be distributed\u001b[0m\n",
       "\u001b[1;33mLiquidityProvider originator is not paid off\u001b[0m\n"
      ]
     },
     "metadata": {},
     "output_type": "display_data"
    },
    {
     "name": "stdout",
     "output_type": "stream",
     "text": [
      "Pool CPR: 20.0, Tranche Rate: 6.499999999999999, IRR: 7.208550302008485\n"
     ]
    },
    {
     "data": {
      "text/html": [
       "<pre style=\"white-space:pre;overflow-x:auto;line-height:normal;font-family:Menlo,'DejaVu Sans Mono',consolas,'Courier New',monospace\">Warning Message from server:\n",
       "<span style=\"color: #808000; text-decoration-color: #808000; font-weight: bold\">Bond A1 is not paid off</span>\n",
       "<span style=\"color: #808000; text-decoration-color: #808000; font-weight: bold\">Bond B is not paid off</span>\n",
       "<span style=\"color: #808000; text-decoration-color: #808000; font-weight: bold\">Bond C is not paid off</span>\n",
       "<span style=\"color: #808000; text-decoration-color: #808000; font-weight: bold\">Account acc01 has cash to be distributed</span>\n",
       "<span style=\"color: #808000; text-decoration-color: #808000; font-weight: bold\">LiquidityProvider originator is not paid off</span>\n",
       "</pre>\n"
      ],
      "text/plain": [
       "Warning Message from server:\n",
       "\u001b[1;33mBond A1 is not paid off\u001b[0m\n",
       "\u001b[1;33mBond B is not paid off\u001b[0m\n",
       "\u001b[1;33mBond C is not paid off\u001b[0m\n",
       "\u001b[1;33mAccount acc01 has cash to be distributed\u001b[0m\n",
       "\u001b[1;33mLiquidityProvider originator is not paid off\u001b[0m\n"
      ]
     },
     "metadata": {},
     "output_type": "display_data"
    },
    {
     "name": "stdout",
     "output_type": "stream",
     "text": [
      "Pool CPR: 20.0, Tranche Rate: 6.999999999999998, IRR: 7.208550302008485\n"
     ]
    },
    {
     "data": {
      "text/html": [
       "<pre style=\"white-space:pre;overflow-x:auto;line-height:normal;font-family:Menlo,'DejaVu Sans Mono',consolas,'Courier New',monospace\">Warning Message from server:\n",
       "<span style=\"color: #808000; text-decoration-color: #808000; font-weight: bold\">Bond A1 is not paid off</span>\n",
       "<span style=\"color: #808000; text-decoration-color: #808000; font-weight: bold\">Bond B is not paid off</span>\n",
       "<span style=\"color: #808000; text-decoration-color: #808000; font-weight: bold\">Bond C is not paid off</span>\n",
       "<span style=\"color: #808000; text-decoration-color: #808000; font-weight: bold\">Account acc01 has cash to be distributed</span>\n",
       "<span style=\"color: #808000; text-decoration-color: #808000; font-weight: bold\">LiquidityProvider originator is not paid off</span>\n",
       "</pre>\n"
      ],
      "text/plain": [
       "Warning Message from server:\n",
       "\u001b[1;33mBond A1 is not paid off\u001b[0m\n",
       "\u001b[1;33mBond B is not paid off\u001b[0m\n",
       "\u001b[1;33mBond C is not paid off\u001b[0m\n",
       "\u001b[1;33mAccount acc01 has cash to be distributed\u001b[0m\n",
       "\u001b[1;33mLiquidityProvider originator is not paid off\u001b[0m\n"
      ]
     },
     "metadata": {},
     "output_type": "display_data"
    },
    {
     "name": "stdout",
     "output_type": "stream",
     "text": [
      "Pool CPR: 20.0, Tranche Rate: 7.499999999999998, IRR: 7.208550302008485\n"
     ]
    },
    {
     "data": {
      "text/html": [
       "<pre style=\"white-space:pre;overflow-x:auto;line-height:normal;font-family:Menlo,'DejaVu Sans Mono',consolas,'Courier New',monospace\">Warning Message from server:\n",
       "<span style=\"color: #808000; text-decoration-color: #808000; font-weight: bold\">Bond A1 is not paid off</span>\n",
       "<span style=\"color: #808000; text-decoration-color: #808000; font-weight: bold\">Bond B is not paid off</span>\n",
       "<span style=\"color: #808000; text-decoration-color: #808000; font-weight: bold\">Bond C is not paid off</span>\n",
       "<span style=\"color: #808000; text-decoration-color: #808000; font-weight: bold\">Account acc01 has cash to be distributed</span>\n",
       "<span style=\"color: #808000; text-decoration-color: #808000; font-weight: bold\">LiquidityProvider originator is not paid off</span>\n",
       "</pre>\n"
      ],
      "text/plain": [
       "Warning Message from server:\n",
       "\u001b[1;33mBond A1 is not paid off\u001b[0m\n",
       "\u001b[1;33mBond B is not paid off\u001b[0m\n",
       "\u001b[1;33mBond C is not paid off\u001b[0m\n",
       "\u001b[1;33mAccount acc01 has cash to be distributed\u001b[0m\n",
       "\u001b[1;33mLiquidityProvider originator is not paid off\u001b[0m\n"
      ]
     },
     "metadata": {},
     "output_type": "display_data"
    },
    {
     "name": "stdout",
     "output_type": "stream",
     "text": [
      "Pool CPR: 25.0, Tranche Rate: 4.0, IRR: 7.208550302008485\n"
     ]
    },
    {
     "data": {
      "text/html": [
       "<pre style=\"white-space:pre;overflow-x:auto;line-height:normal;font-family:Menlo,'DejaVu Sans Mono',consolas,'Courier New',monospace\">Warning Message from server:\n",
       "<span style=\"color: #808000; text-decoration-color: #808000; font-weight: bold\">Bond A1 is not paid off</span>\n",
       "<span style=\"color: #808000; text-decoration-color: #808000; font-weight: bold\">Bond B is not paid off</span>\n",
       "<span style=\"color: #808000; text-decoration-color: #808000; font-weight: bold\">Bond C is not paid off</span>\n",
       "<span style=\"color: #808000; text-decoration-color: #808000; font-weight: bold\">Account acc01 has cash to be distributed</span>\n",
       "<span style=\"color: #808000; text-decoration-color: #808000; font-weight: bold\">LiquidityProvider originator is not paid off</span>\n",
       "</pre>\n"
      ],
      "text/plain": [
       "Warning Message from server:\n",
       "\u001b[1;33mBond A1 is not paid off\u001b[0m\n",
       "\u001b[1;33mBond B is not paid off\u001b[0m\n",
       "\u001b[1;33mBond C is not paid off\u001b[0m\n",
       "\u001b[1;33mAccount acc01 has cash to be distributed\u001b[0m\n",
       "\u001b[1;33mLiquidityProvider originator is not paid off\u001b[0m\n"
      ]
     },
     "metadata": {},
     "output_type": "display_data"
    },
    {
     "name": "stdout",
     "output_type": "stream",
     "text": [
      "Pool CPR: 25.0, Tranche Rate: 4.5, IRR: 7.208550302008485\n"
     ]
    },
    {
     "data": {
      "text/html": [
       "<pre style=\"white-space:pre;overflow-x:auto;line-height:normal;font-family:Menlo,'DejaVu Sans Mono',consolas,'Courier New',monospace\">Warning Message from server:\n",
       "<span style=\"color: #808000; text-decoration-color: #808000; font-weight: bold\">Bond A1 is not paid off</span>\n",
       "<span style=\"color: #808000; text-decoration-color: #808000; font-weight: bold\">Bond B is not paid off</span>\n",
       "<span style=\"color: #808000; text-decoration-color: #808000; font-weight: bold\">Bond C is not paid off</span>\n",
       "<span style=\"color: #808000; text-decoration-color: #808000; font-weight: bold\">Account acc01 has cash to be distributed</span>\n",
       "<span style=\"color: #808000; text-decoration-color: #808000; font-weight: bold\">LiquidityProvider originator is not paid off</span>\n",
       "</pre>\n"
      ],
      "text/plain": [
       "Warning Message from server:\n",
       "\u001b[1;33mBond A1 is not paid off\u001b[0m\n",
       "\u001b[1;33mBond B is not paid off\u001b[0m\n",
       "\u001b[1;33mBond C is not paid off\u001b[0m\n",
       "\u001b[1;33mAccount acc01 has cash to be distributed\u001b[0m\n",
       "\u001b[1;33mLiquidityProvider originator is not paid off\u001b[0m\n"
      ]
     },
     "metadata": {},
     "output_type": "display_data"
    },
    {
     "name": "stdout",
     "output_type": "stream",
     "text": [
      "Pool CPR: 25.0, Tranche Rate: 5.0, IRR: 7.208550302008485\n"
     ]
    },
    {
     "data": {
      "text/html": [
       "<pre style=\"white-space:pre;overflow-x:auto;line-height:normal;font-family:Menlo,'DejaVu Sans Mono',consolas,'Courier New',monospace\">Warning Message from server:\n",
       "<span style=\"color: #808000; text-decoration-color: #808000; font-weight: bold\">Bond A1 is not paid off</span>\n",
       "<span style=\"color: #808000; text-decoration-color: #808000; font-weight: bold\">Bond B is not paid off</span>\n",
       "<span style=\"color: #808000; text-decoration-color: #808000; font-weight: bold\">Bond C is not paid off</span>\n",
       "<span style=\"color: #808000; text-decoration-color: #808000; font-weight: bold\">Account acc01 has cash to be distributed</span>\n",
       "<span style=\"color: #808000; text-decoration-color: #808000; font-weight: bold\">LiquidityProvider originator is not paid off</span>\n",
       "</pre>\n"
      ],
      "text/plain": [
       "Warning Message from server:\n",
       "\u001b[1;33mBond A1 is not paid off\u001b[0m\n",
       "\u001b[1;33mBond B is not paid off\u001b[0m\n",
       "\u001b[1;33mBond C is not paid off\u001b[0m\n",
       "\u001b[1;33mAccount acc01 has cash to be distributed\u001b[0m\n",
       "\u001b[1;33mLiquidityProvider originator is not paid off\u001b[0m\n"
      ]
     },
     "metadata": {},
     "output_type": "display_data"
    },
    {
     "name": "stdout",
     "output_type": "stream",
     "text": [
      "Pool CPR: 25.0, Tranche Rate: 5.499999999999999, IRR: 7.208550302008485\n"
     ]
    },
    {
     "data": {
      "text/html": [
       "<pre style=\"white-space:pre;overflow-x:auto;line-height:normal;font-family:Menlo,'DejaVu Sans Mono',consolas,'Courier New',monospace\">Warning Message from server:\n",
       "<span style=\"color: #808000; text-decoration-color: #808000; font-weight: bold\">Bond A1 is not paid off</span>\n",
       "<span style=\"color: #808000; text-decoration-color: #808000; font-weight: bold\">Bond B is not paid off</span>\n",
       "<span style=\"color: #808000; text-decoration-color: #808000; font-weight: bold\">Bond C is not paid off</span>\n",
       "<span style=\"color: #808000; text-decoration-color: #808000; font-weight: bold\">Account acc01 has cash to be distributed</span>\n",
       "<span style=\"color: #808000; text-decoration-color: #808000; font-weight: bold\">LiquidityProvider originator is not paid off</span>\n",
       "</pre>\n"
      ],
      "text/plain": [
       "Warning Message from server:\n",
       "\u001b[1;33mBond A1 is not paid off\u001b[0m\n",
       "\u001b[1;33mBond B is not paid off\u001b[0m\n",
       "\u001b[1;33mBond C is not paid off\u001b[0m\n",
       "\u001b[1;33mAccount acc01 has cash to be distributed\u001b[0m\n",
       "\u001b[1;33mLiquidityProvider originator is not paid off\u001b[0m\n"
      ]
     },
     "metadata": {},
     "output_type": "display_data"
    },
    {
     "name": "stdout",
     "output_type": "stream",
     "text": [
      "Pool CPR: 25.0, Tranche Rate: 5.999999999999999, IRR: 7.208550302008485\n"
     ]
    },
    {
     "data": {
      "text/html": [
       "<pre style=\"white-space:pre;overflow-x:auto;line-height:normal;font-family:Menlo,'DejaVu Sans Mono',consolas,'Courier New',monospace\">Warning Message from server:\n",
       "<span style=\"color: #808000; text-decoration-color: #808000; font-weight: bold\">Bond A1 is not paid off</span>\n",
       "<span style=\"color: #808000; text-decoration-color: #808000; font-weight: bold\">Bond B is not paid off</span>\n",
       "<span style=\"color: #808000; text-decoration-color: #808000; font-weight: bold\">Bond C is not paid off</span>\n",
       "<span style=\"color: #808000; text-decoration-color: #808000; font-weight: bold\">Account acc01 has cash to be distributed</span>\n",
       "<span style=\"color: #808000; text-decoration-color: #808000; font-weight: bold\">LiquidityProvider originator is not paid off</span>\n",
       "</pre>\n"
      ],
      "text/plain": [
       "Warning Message from server:\n",
       "\u001b[1;33mBond A1 is not paid off\u001b[0m\n",
       "\u001b[1;33mBond B is not paid off\u001b[0m\n",
       "\u001b[1;33mBond C is not paid off\u001b[0m\n",
       "\u001b[1;33mAccount acc01 has cash to be distributed\u001b[0m\n",
       "\u001b[1;33mLiquidityProvider originator is not paid off\u001b[0m\n"
      ]
     },
     "metadata": {},
     "output_type": "display_data"
    },
    {
     "name": "stdout",
     "output_type": "stream",
     "text": [
      "Pool CPR: 25.0, Tranche Rate: 6.499999999999999, IRR: 7.208550302008485\n"
     ]
    },
    {
     "data": {
      "text/html": [
       "<pre style=\"white-space:pre;overflow-x:auto;line-height:normal;font-family:Menlo,'DejaVu Sans Mono',consolas,'Courier New',monospace\">Warning Message from server:\n",
       "<span style=\"color: #808000; text-decoration-color: #808000; font-weight: bold\">Bond A1 is not paid off</span>\n",
       "<span style=\"color: #808000; text-decoration-color: #808000; font-weight: bold\">Bond B is not paid off</span>\n",
       "<span style=\"color: #808000; text-decoration-color: #808000; font-weight: bold\">Bond C is not paid off</span>\n",
       "<span style=\"color: #808000; text-decoration-color: #808000; font-weight: bold\">Account acc01 has cash to be distributed</span>\n",
       "<span style=\"color: #808000; text-decoration-color: #808000; font-weight: bold\">LiquidityProvider originator is not paid off</span>\n",
       "</pre>\n"
      ],
      "text/plain": [
       "Warning Message from server:\n",
       "\u001b[1;33mBond A1 is not paid off\u001b[0m\n",
       "\u001b[1;33mBond B is not paid off\u001b[0m\n",
       "\u001b[1;33mBond C is not paid off\u001b[0m\n",
       "\u001b[1;33mAccount acc01 has cash to be distributed\u001b[0m\n",
       "\u001b[1;33mLiquidityProvider originator is not paid off\u001b[0m\n"
      ]
     },
     "metadata": {},
     "output_type": "display_data"
    },
    {
     "name": "stdout",
     "output_type": "stream",
     "text": [
      "Pool CPR: 25.0, Tranche Rate: 6.999999999999998, IRR: 7.208550302008485\n"
     ]
    },
    {
     "data": {
      "text/html": [
       "<pre style=\"white-space:pre;overflow-x:auto;line-height:normal;font-family:Menlo,'DejaVu Sans Mono',consolas,'Courier New',monospace\">Warning Message from server:\n",
       "<span style=\"color: #808000; text-decoration-color: #808000; font-weight: bold\">Bond A1 is not paid off</span>\n",
       "<span style=\"color: #808000; text-decoration-color: #808000; font-weight: bold\">Bond B is not paid off</span>\n",
       "<span style=\"color: #808000; text-decoration-color: #808000; font-weight: bold\">Bond C is not paid off</span>\n",
       "<span style=\"color: #808000; text-decoration-color: #808000; font-weight: bold\">Account acc01 has cash to be distributed</span>\n",
       "<span style=\"color: #808000; text-decoration-color: #808000; font-weight: bold\">LiquidityProvider originator is not paid off</span>\n",
       "</pre>\n"
      ],
      "text/plain": [
       "Warning Message from server:\n",
       "\u001b[1;33mBond A1 is not paid off\u001b[0m\n",
       "\u001b[1;33mBond B is not paid off\u001b[0m\n",
       "\u001b[1;33mBond C is not paid off\u001b[0m\n",
       "\u001b[1;33mAccount acc01 has cash to be distributed\u001b[0m\n",
       "\u001b[1;33mLiquidityProvider originator is not paid off\u001b[0m\n"
      ]
     },
     "metadata": {},
     "output_type": "display_data"
    },
    {
     "name": "stdout",
     "output_type": "stream",
     "text": [
      "Pool CPR: 25.0, Tranche Rate: 7.499999999999998, IRR: 7.208550302008485\n"
     ]
    },
    {
     "data": {
      "text/html": [
       "<pre style=\"white-space:pre;overflow-x:auto;line-height:normal;font-family:Menlo,'DejaVu Sans Mono',consolas,'Courier New',monospace\">Warning Message from server:\n",
       "<span style=\"color: #808000; text-decoration-color: #808000; font-weight: bold\">Bond A1 is not paid off</span>\n",
       "<span style=\"color: #808000; text-decoration-color: #808000; font-weight: bold\">Bond B is not paid off</span>\n",
       "<span style=\"color: #808000; text-decoration-color: #808000; font-weight: bold\">Bond C is not paid off</span>\n",
       "<span style=\"color: #808000; text-decoration-color: #808000; font-weight: bold\">Account acc01 has cash to be distributed</span>\n",
       "<span style=\"color: #808000; text-decoration-color: #808000; font-weight: bold\">LiquidityProvider originator is not paid off</span>\n",
       "</pre>\n"
      ],
      "text/plain": [
       "Warning Message from server:\n",
       "\u001b[1;33mBond A1 is not paid off\u001b[0m\n",
       "\u001b[1;33mBond B is not paid off\u001b[0m\n",
       "\u001b[1;33mBond C is not paid off\u001b[0m\n",
       "\u001b[1;33mAccount acc01 has cash to be distributed\u001b[0m\n",
       "\u001b[1;33mLiquidityProvider originator is not paid off\u001b[0m\n"
      ]
     },
     "metadata": {},
     "output_type": "display_data"
    },
    {
     "name": "stdout",
     "output_type": "stream",
     "text": [
      "Pool CPR: 30.000000000000004, Tranche Rate: 4.0, IRR: 7.208550302008485\n"
     ]
    },
    {
     "data": {
      "text/html": [
       "<pre style=\"white-space:pre;overflow-x:auto;line-height:normal;font-family:Menlo,'DejaVu Sans Mono',consolas,'Courier New',monospace\">Warning Message from server:\n",
       "<span style=\"color: #808000; text-decoration-color: #808000; font-weight: bold\">Bond A1 is not paid off</span>\n",
       "<span style=\"color: #808000; text-decoration-color: #808000; font-weight: bold\">Bond B is not paid off</span>\n",
       "<span style=\"color: #808000; text-decoration-color: #808000; font-weight: bold\">Bond C is not paid off</span>\n",
       "<span style=\"color: #808000; text-decoration-color: #808000; font-weight: bold\">Account acc01 has cash to be distributed</span>\n",
       "<span style=\"color: #808000; text-decoration-color: #808000; font-weight: bold\">LiquidityProvider originator is not paid off</span>\n",
       "</pre>\n"
      ],
      "text/plain": [
       "Warning Message from server:\n",
       "\u001b[1;33mBond A1 is not paid off\u001b[0m\n",
       "\u001b[1;33mBond B is not paid off\u001b[0m\n",
       "\u001b[1;33mBond C is not paid off\u001b[0m\n",
       "\u001b[1;33mAccount acc01 has cash to be distributed\u001b[0m\n",
       "\u001b[1;33mLiquidityProvider originator is not paid off\u001b[0m\n"
      ]
     },
     "metadata": {},
     "output_type": "display_data"
    },
    {
     "name": "stdout",
     "output_type": "stream",
     "text": [
      "Pool CPR: 30.000000000000004, Tranche Rate: 4.5, IRR: 7.208550302008485\n"
     ]
    },
    {
     "data": {
      "text/html": [
       "<pre style=\"white-space:pre;overflow-x:auto;line-height:normal;font-family:Menlo,'DejaVu Sans Mono',consolas,'Courier New',monospace\">Warning Message from server:\n",
       "<span style=\"color: #808000; text-decoration-color: #808000; font-weight: bold\">Bond A1 is not paid off</span>\n",
       "<span style=\"color: #808000; text-decoration-color: #808000; font-weight: bold\">Bond B is not paid off</span>\n",
       "<span style=\"color: #808000; text-decoration-color: #808000; font-weight: bold\">Bond C is not paid off</span>\n",
       "<span style=\"color: #808000; text-decoration-color: #808000; font-weight: bold\">Account acc01 has cash to be distributed</span>\n",
       "<span style=\"color: #808000; text-decoration-color: #808000; font-weight: bold\">LiquidityProvider originator is not paid off</span>\n",
       "</pre>\n"
      ],
      "text/plain": [
       "Warning Message from server:\n",
       "\u001b[1;33mBond A1 is not paid off\u001b[0m\n",
       "\u001b[1;33mBond B is not paid off\u001b[0m\n",
       "\u001b[1;33mBond C is not paid off\u001b[0m\n",
       "\u001b[1;33mAccount acc01 has cash to be distributed\u001b[0m\n",
       "\u001b[1;33mLiquidityProvider originator is not paid off\u001b[0m\n"
      ]
     },
     "metadata": {},
     "output_type": "display_data"
    },
    {
     "name": "stdout",
     "output_type": "stream",
     "text": [
      "Pool CPR: 30.000000000000004, Tranche Rate: 5.0, IRR: 7.208550302008485\n"
     ]
    },
    {
     "data": {
      "text/html": [
       "<pre style=\"white-space:pre;overflow-x:auto;line-height:normal;font-family:Menlo,'DejaVu Sans Mono',consolas,'Courier New',monospace\">Warning Message from server:\n",
       "<span style=\"color: #808000; text-decoration-color: #808000; font-weight: bold\">Bond A1 is not paid off</span>\n",
       "<span style=\"color: #808000; text-decoration-color: #808000; font-weight: bold\">Bond B is not paid off</span>\n",
       "<span style=\"color: #808000; text-decoration-color: #808000; font-weight: bold\">Bond C is not paid off</span>\n",
       "<span style=\"color: #808000; text-decoration-color: #808000; font-weight: bold\">Account acc01 has cash to be distributed</span>\n",
       "<span style=\"color: #808000; text-decoration-color: #808000; font-weight: bold\">LiquidityProvider originator is not paid off</span>\n",
       "</pre>\n"
      ],
      "text/plain": [
       "Warning Message from server:\n",
       "\u001b[1;33mBond A1 is not paid off\u001b[0m\n",
       "\u001b[1;33mBond B is not paid off\u001b[0m\n",
       "\u001b[1;33mBond C is not paid off\u001b[0m\n",
       "\u001b[1;33mAccount acc01 has cash to be distributed\u001b[0m\n",
       "\u001b[1;33mLiquidityProvider originator is not paid off\u001b[0m\n"
      ]
     },
     "metadata": {},
     "output_type": "display_data"
    },
    {
     "name": "stdout",
     "output_type": "stream",
     "text": [
      "Pool CPR: 30.000000000000004, Tranche Rate: 5.499999999999999, IRR: 7.208550302008485\n"
     ]
    },
    {
     "data": {
      "text/html": [
       "<pre style=\"white-space:pre;overflow-x:auto;line-height:normal;font-family:Menlo,'DejaVu Sans Mono',consolas,'Courier New',monospace\">Warning Message from server:\n",
       "<span style=\"color: #808000; text-decoration-color: #808000; font-weight: bold\">Bond A1 is not paid off</span>\n",
       "<span style=\"color: #808000; text-decoration-color: #808000; font-weight: bold\">Bond B is not paid off</span>\n",
       "<span style=\"color: #808000; text-decoration-color: #808000; font-weight: bold\">Bond C is not paid off</span>\n",
       "<span style=\"color: #808000; text-decoration-color: #808000; font-weight: bold\">Account acc01 has cash to be distributed</span>\n",
       "<span style=\"color: #808000; text-decoration-color: #808000; font-weight: bold\">LiquidityProvider originator is not paid off</span>\n",
       "</pre>\n"
      ],
      "text/plain": [
       "Warning Message from server:\n",
       "\u001b[1;33mBond A1 is not paid off\u001b[0m\n",
       "\u001b[1;33mBond B is not paid off\u001b[0m\n",
       "\u001b[1;33mBond C is not paid off\u001b[0m\n",
       "\u001b[1;33mAccount acc01 has cash to be distributed\u001b[0m\n",
       "\u001b[1;33mLiquidityProvider originator is not paid off\u001b[0m\n"
      ]
     },
     "metadata": {},
     "output_type": "display_data"
    },
    {
     "name": "stdout",
     "output_type": "stream",
     "text": [
      "Pool CPR: 30.000000000000004, Tranche Rate: 5.999999999999999, IRR: 7.208550302008485\n"
     ]
    },
    {
     "data": {
      "text/html": [
       "<pre style=\"white-space:pre;overflow-x:auto;line-height:normal;font-family:Menlo,'DejaVu Sans Mono',consolas,'Courier New',monospace\">Warning Message from server:\n",
       "<span style=\"color: #808000; text-decoration-color: #808000; font-weight: bold\">Bond A1 is not paid off</span>\n",
       "<span style=\"color: #808000; text-decoration-color: #808000; font-weight: bold\">Bond B is not paid off</span>\n",
       "<span style=\"color: #808000; text-decoration-color: #808000; font-weight: bold\">Bond C is not paid off</span>\n",
       "<span style=\"color: #808000; text-decoration-color: #808000; font-weight: bold\">Account acc01 has cash to be distributed</span>\n",
       "<span style=\"color: #808000; text-decoration-color: #808000; font-weight: bold\">LiquidityProvider originator is not paid off</span>\n",
       "</pre>\n"
      ],
      "text/plain": [
       "Warning Message from server:\n",
       "\u001b[1;33mBond A1 is not paid off\u001b[0m\n",
       "\u001b[1;33mBond B is not paid off\u001b[0m\n",
       "\u001b[1;33mBond C is not paid off\u001b[0m\n",
       "\u001b[1;33mAccount acc01 has cash to be distributed\u001b[0m\n",
       "\u001b[1;33mLiquidityProvider originator is not paid off\u001b[0m\n"
      ]
     },
     "metadata": {},
     "output_type": "display_data"
    },
    {
     "name": "stdout",
     "output_type": "stream",
     "text": [
      "Pool CPR: 30.000000000000004, Tranche Rate: 6.499999999999999, IRR: 7.208550302008485\n"
     ]
    },
    {
     "data": {
      "text/html": [
       "<pre style=\"white-space:pre;overflow-x:auto;line-height:normal;font-family:Menlo,'DejaVu Sans Mono',consolas,'Courier New',monospace\">Warning Message from server:\n",
       "<span style=\"color: #808000; text-decoration-color: #808000; font-weight: bold\">Bond A1 is not paid off</span>\n",
       "<span style=\"color: #808000; text-decoration-color: #808000; font-weight: bold\">Bond B is not paid off</span>\n",
       "<span style=\"color: #808000; text-decoration-color: #808000; font-weight: bold\">Bond C is not paid off</span>\n",
       "<span style=\"color: #808000; text-decoration-color: #808000; font-weight: bold\">Account acc01 has cash to be distributed</span>\n",
       "<span style=\"color: #808000; text-decoration-color: #808000; font-weight: bold\">LiquidityProvider originator is not paid off</span>\n",
       "</pre>\n"
      ],
      "text/plain": [
       "Warning Message from server:\n",
       "\u001b[1;33mBond A1 is not paid off\u001b[0m\n",
       "\u001b[1;33mBond B is not paid off\u001b[0m\n",
       "\u001b[1;33mBond C is not paid off\u001b[0m\n",
       "\u001b[1;33mAccount acc01 has cash to be distributed\u001b[0m\n",
       "\u001b[1;33mLiquidityProvider originator is not paid off\u001b[0m\n"
      ]
     },
     "metadata": {},
     "output_type": "display_data"
    },
    {
     "name": "stdout",
     "output_type": "stream",
     "text": [
      "Pool CPR: 30.000000000000004, Tranche Rate: 6.999999999999998, IRR: 7.208550302008485\n"
     ]
    },
    {
     "data": {
      "text/html": [
       "<pre style=\"white-space:pre;overflow-x:auto;line-height:normal;font-family:Menlo,'DejaVu Sans Mono',consolas,'Courier New',monospace\">Warning Message from server:\n",
       "<span style=\"color: #808000; text-decoration-color: #808000; font-weight: bold\">Bond A1 is not paid off</span>\n",
       "<span style=\"color: #808000; text-decoration-color: #808000; font-weight: bold\">Bond B is not paid off</span>\n",
       "<span style=\"color: #808000; text-decoration-color: #808000; font-weight: bold\">Bond C is not paid off</span>\n",
       "<span style=\"color: #808000; text-decoration-color: #808000; font-weight: bold\">Account acc01 has cash to be distributed</span>\n",
       "<span style=\"color: #808000; text-decoration-color: #808000; font-weight: bold\">LiquidityProvider originator is not paid off</span>\n",
       "</pre>\n"
      ],
      "text/plain": [
       "Warning Message from server:\n",
       "\u001b[1;33mBond A1 is not paid off\u001b[0m\n",
       "\u001b[1;33mBond B is not paid off\u001b[0m\n",
       "\u001b[1;33mBond C is not paid off\u001b[0m\n",
       "\u001b[1;33mAccount acc01 has cash to be distributed\u001b[0m\n",
       "\u001b[1;33mLiquidityProvider originator is not paid off\u001b[0m\n"
      ]
     },
     "metadata": {},
     "output_type": "display_data"
    },
    {
     "name": "stdout",
     "output_type": "stream",
     "text": [
      "Pool CPR: 30.000000000000004, Tranche Rate: 7.499999999999998, IRR: 7.208550302008485\n"
     ]
    }
   ],
   "source": [
    "# Sensitivity Test v2 Using readBondsCf(r['bonds'])\n",
    "cprs = np.arange(0.00, 0.35, 0.05).tolist()\n",
    "spreads = np.arange(0.04, 0.08, 0.005).tolist()\n",
    "results = []\n",
    "\n",
    "for pool_cpr in cprs:\n",
    "   for tranche_rate_mezz in spreads:\n",
    "        perf = (\"Pool\",(\"Mortgage\",{\"CDR\":default_rate},{\"CPR\":pool_cpr},{\"Rate\":recovery_rate,\"Lag\":recovery_lag},None),None,None) \n",
    "        runDealAssump = [(\"revolving\",[\"constant\",[\"Mortgage\"     \n",
    "                        ,{\"originBalance\":original_pool_balance,\"originRate\":[\"fix\",pool_rate],\"originTerm\":original_pool_term,\"freq\":\"Monthly\",\"type\":\"Level\",\"originDate\":repay_date}\n",
    "                        ,{\"currentBalance\":original_pool_balance,\"currentRate\":pool_rate,\"remainTerm\":original_pool_term,\"status\":\"current\"}]],perf)\n",
    "                        ,(\"call\",{\"poolFactor\":clean_up_call})\n",
    "                        ,(\"inspect\",(\"MonthEnd\",(\"excess\", (\"cumPoolNetLoss\",)\n",
    "                            , (\"abs\",(\"accountTxnAmount\",\"<Support:originator>\",\"srtAcc\"))\n",
    "                            , (\"constant\",firstLossTranche))))]\n",
    "\n",
    "        r02 = localAPI.run(srt02,poolAssump=(\"Pool\",(\"Mortgage\", {\"CDR\":default_rate}, None, None, None),None,None)\n",
    "                        # ,runAssump=[(\"call\",(\"poolFactor\",0.10)),(\"inspect\",(\"MonthEnd\",(\"excess\", (\"cumPoolNetLoss\",)\n",
    "                        #            , (\"abs\",(\"accountTxnAmount\",\"<Support:originator>\",\"srtAcc\")), (\"constant\",firstLossTranche))))]\n",
    "                        ,runAssump=runDealAssump,read=True)\n",
    "\n",
    "        bond_cf = readBondsCf(r02['bonds'])\n",
    "        bond_cf.iloc[0, bond_cf.columns.get_loc(('B', 'cash'))] = -bond_cf.iloc[0, bond_cf.columns.get_loc(('B', 'balance'))]\n",
    "        bond_cf.iloc[-1, bond_cf.columns.get_loc(('B', 'cash'))] = bond_cf.iloc[-1, bond_cf.columns.get_loc(('B', 'balance'))] + bond_cf.iloc[-1, bond_cf.columns.get_loc(('B', 'interest'))] + bond_cf.iloc[-1, bond_cf.columns.get_loc(('B', 'principal'))]\n",
    "        bond_cf.tail()\n",
    "        result = xirr(bond_cf.index.to_list(), bond_cf['B', 'cash'].to_list())\n",
    "        results.append({'pool_cpr': pool_cpr*100, 'tranche_rate_mezz': tranche_rate_mezz*100, 'IRR': result*100})\n",
    "        print(f\"Pool CPR: {pool_cpr*100}, Tranche Rate: {tranche_rate_mezz*100}, IRR: {result*100}\")\n"
   ]
  },
  {
   "cell_type": "code",
   "execution_count": 176,
   "id": "e58a7c2c",
   "metadata": {},
   "outputs": [
    {
     "data": {
      "text/html": [
       "<div>\n",
       "<style scoped>\n",
       "    .dataframe tbody tr th:only-of-type {\n",
       "        vertical-align: middle;\n",
       "    }\n",
       "\n",
       "    .dataframe tbody tr th {\n",
       "        vertical-align: top;\n",
       "    }\n",
       "\n",
       "    .dataframe thead th {\n",
       "        text-align: right;\n",
       "    }\n",
       "</style>\n",
       "<table border=\"1\" class=\"dataframe\">\n",
       "  <thead>\n",
       "    <tr style=\"text-align: right;\">\n",
       "      <th></th>\n",
       "      <th>pool_cpr</th>\n",
       "      <th>tranche_rate_mezz</th>\n",
       "      <th>IRR</th>\n",
       "    </tr>\n",
       "  </thead>\n",
       "  <tbody>\n",
       "    <tr>\n",
       "      <th>0</th>\n",
       "      <td>0.000</td>\n",
       "      <td>4.000</td>\n",
       "      <td>7.209</td>\n",
       "    </tr>\n",
       "    <tr>\n",
       "      <th>1</th>\n",
       "      <td>0.000</td>\n",
       "      <td>4.500</td>\n",
       "      <td>7.209</td>\n",
       "    </tr>\n",
       "    <tr>\n",
       "      <th>2</th>\n",
       "      <td>0.000</td>\n",
       "      <td>5.000</td>\n",
       "      <td>7.209</td>\n",
       "    </tr>\n",
       "    <tr>\n",
       "      <th>3</th>\n",
       "      <td>0.000</td>\n",
       "      <td>5.500</td>\n",
       "      <td>7.209</td>\n",
       "    </tr>\n",
       "    <tr>\n",
       "      <th>4</th>\n",
       "      <td>0.000</td>\n",
       "      <td>6.000</td>\n",
       "      <td>7.209</td>\n",
       "    </tr>\n",
       "    <tr>\n",
       "      <th>5</th>\n",
       "      <td>0.000</td>\n",
       "      <td>6.500</td>\n",
       "      <td>7.209</td>\n",
       "    </tr>\n",
       "    <tr>\n",
       "      <th>6</th>\n",
       "      <td>0.000</td>\n",
       "      <td>7.000</td>\n",
       "      <td>7.209</td>\n",
       "    </tr>\n",
       "    <tr>\n",
       "      <th>7</th>\n",
       "      <td>0.000</td>\n",
       "      <td>7.500</td>\n",
       "      <td>7.209</td>\n",
       "    </tr>\n",
       "    <tr>\n",
       "      <th>8</th>\n",
       "      <td>5.000</td>\n",
       "      <td>4.000</td>\n",
       "      <td>7.209</td>\n",
       "    </tr>\n",
       "    <tr>\n",
       "      <th>9</th>\n",
       "      <td>5.000</td>\n",
       "      <td>4.500</td>\n",
       "      <td>7.209</td>\n",
       "    </tr>\n",
       "    <tr>\n",
       "      <th>10</th>\n",
       "      <td>5.000</td>\n",
       "      <td>5.000</td>\n",
       "      <td>7.209</td>\n",
       "    </tr>\n",
       "    <tr>\n",
       "      <th>11</th>\n",
       "      <td>5.000</td>\n",
       "      <td>5.500</td>\n",
       "      <td>7.209</td>\n",
       "    </tr>\n",
       "    <tr>\n",
       "      <th>12</th>\n",
       "      <td>5.000</td>\n",
       "      <td>6.000</td>\n",
       "      <td>7.209</td>\n",
       "    </tr>\n",
       "    <tr>\n",
       "      <th>13</th>\n",
       "      <td>5.000</td>\n",
       "      <td>6.500</td>\n",
       "      <td>7.209</td>\n",
       "    </tr>\n",
       "    <tr>\n",
       "      <th>14</th>\n",
       "      <td>5.000</td>\n",
       "      <td>7.000</td>\n",
       "      <td>7.209</td>\n",
       "    </tr>\n",
       "    <tr>\n",
       "      <th>15</th>\n",
       "      <td>5.000</td>\n",
       "      <td>7.500</td>\n",
       "      <td>7.209</td>\n",
       "    </tr>\n",
       "    <tr>\n",
       "      <th>16</th>\n",
       "      <td>10.000</td>\n",
       "      <td>4.000</td>\n",
       "      <td>7.209</td>\n",
       "    </tr>\n",
       "    <tr>\n",
       "      <th>17</th>\n",
       "      <td>10.000</td>\n",
       "      <td>4.500</td>\n",
       "      <td>7.209</td>\n",
       "    </tr>\n",
       "    <tr>\n",
       "      <th>18</th>\n",
       "      <td>10.000</td>\n",
       "      <td>5.000</td>\n",
       "      <td>7.209</td>\n",
       "    </tr>\n",
       "    <tr>\n",
       "      <th>19</th>\n",
       "      <td>10.000</td>\n",
       "      <td>5.500</td>\n",
       "      <td>7.209</td>\n",
       "    </tr>\n",
       "    <tr>\n",
       "      <th>20</th>\n",
       "      <td>10.000</td>\n",
       "      <td>6.000</td>\n",
       "      <td>7.209</td>\n",
       "    </tr>\n",
       "    <tr>\n",
       "      <th>21</th>\n",
       "      <td>10.000</td>\n",
       "      <td>6.500</td>\n",
       "      <td>7.209</td>\n",
       "    </tr>\n",
       "    <tr>\n",
       "      <th>22</th>\n",
       "      <td>10.000</td>\n",
       "      <td>7.000</td>\n",
       "      <td>7.209</td>\n",
       "    </tr>\n",
       "    <tr>\n",
       "      <th>23</th>\n",
       "      <td>10.000</td>\n",
       "      <td>7.500</td>\n",
       "      <td>7.209</td>\n",
       "    </tr>\n",
       "    <tr>\n",
       "      <th>24</th>\n",
       "      <td>15.000</td>\n",
       "      <td>4.000</td>\n",
       "      <td>7.209</td>\n",
       "    </tr>\n",
       "    <tr>\n",
       "      <th>25</th>\n",
       "      <td>15.000</td>\n",
       "      <td>4.500</td>\n",
       "      <td>7.209</td>\n",
       "    </tr>\n",
       "    <tr>\n",
       "      <th>26</th>\n",
       "      <td>15.000</td>\n",
       "      <td>5.000</td>\n",
       "      <td>7.209</td>\n",
       "    </tr>\n",
       "    <tr>\n",
       "      <th>27</th>\n",
       "      <td>15.000</td>\n",
       "      <td>5.500</td>\n",
       "      <td>7.209</td>\n",
       "    </tr>\n",
       "    <tr>\n",
       "      <th>28</th>\n",
       "      <td>15.000</td>\n",
       "      <td>6.000</td>\n",
       "      <td>7.209</td>\n",
       "    </tr>\n",
       "    <tr>\n",
       "      <th>29</th>\n",
       "      <td>15.000</td>\n",
       "      <td>6.500</td>\n",
       "      <td>7.209</td>\n",
       "    </tr>\n",
       "    <tr>\n",
       "      <th>30</th>\n",
       "      <td>15.000</td>\n",
       "      <td>7.000</td>\n",
       "      <td>7.209</td>\n",
       "    </tr>\n",
       "    <tr>\n",
       "      <th>31</th>\n",
       "      <td>15.000</td>\n",
       "      <td>7.500</td>\n",
       "      <td>7.209</td>\n",
       "    </tr>\n",
       "    <tr>\n",
       "      <th>32</th>\n",
       "      <td>20.000</td>\n",
       "      <td>4.000</td>\n",
       "      <td>7.209</td>\n",
       "    </tr>\n",
       "    <tr>\n",
       "      <th>33</th>\n",
       "      <td>20.000</td>\n",
       "      <td>4.500</td>\n",
       "      <td>7.209</td>\n",
       "    </tr>\n",
       "    <tr>\n",
       "      <th>34</th>\n",
       "      <td>20.000</td>\n",
       "      <td>5.000</td>\n",
       "      <td>7.209</td>\n",
       "    </tr>\n",
       "    <tr>\n",
       "      <th>35</th>\n",
       "      <td>20.000</td>\n",
       "      <td>5.500</td>\n",
       "      <td>7.209</td>\n",
       "    </tr>\n",
       "    <tr>\n",
       "      <th>36</th>\n",
       "      <td>20.000</td>\n",
       "      <td>6.000</td>\n",
       "      <td>7.209</td>\n",
       "    </tr>\n",
       "    <tr>\n",
       "      <th>37</th>\n",
       "      <td>20.000</td>\n",
       "      <td>6.500</td>\n",
       "      <td>7.209</td>\n",
       "    </tr>\n",
       "    <tr>\n",
       "      <th>38</th>\n",
       "      <td>20.000</td>\n",
       "      <td>7.000</td>\n",
       "      <td>7.209</td>\n",
       "    </tr>\n",
       "    <tr>\n",
       "      <th>39</th>\n",
       "      <td>20.000</td>\n",
       "      <td>7.500</td>\n",
       "      <td>7.209</td>\n",
       "    </tr>\n",
       "    <tr>\n",
       "      <th>40</th>\n",
       "      <td>25.000</td>\n",
       "      <td>4.000</td>\n",
       "      <td>7.209</td>\n",
       "    </tr>\n",
       "    <tr>\n",
       "      <th>41</th>\n",
       "      <td>25.000</td>\n",
       "      <td>4.500</td>\n",
       "      <td>7.209</td>\n",
       "    </tr>\n",
       "    <tr>\n",
       "      <th>42</th>\n",
       "      <td>25.000</td>\n",
       "      <td>5.000</td>\n",
       "      <td>7.209</td>\n",
       "    </tr>\n",
       "    <tr>\n",
       "      <th>43</th>\n",
       "      <td>25.000</td>\n",
       "      <td>5.500</td>\n",
       "      <td>7.209</td>\n",
       "    </tr>\n",
       "    <tr>\n",
       "      <th>44</th>\n",
       "      <td>25.000</td>\n",
       "      <td>6.000</td>\n",
       "      <td>7.209</td>\n",
       "    </tr>\n",
       "    <tr>\n",
       "      <th>45</th>\n",
       "      <td>25.000</td>\n",
       "      <td>6.500</td>\n",
       "      <td>7.209</td>\n",
       "    </tr>\n",
       "    <tr>\n",
       "      <th>46</th>\n",
       "      <td>25.000</td>\n",
       "      <td>7.000</td>\n",
       "      <td>7.209</td>\n",
       "    </tr>\n",
       "    <tr>\n",
       "      <th>47</th>\n",
       "      <td>25.000</td>\n",
       "      <td>7.500</td>\n",
       "      <td>7.209</td>\n",
       "    </tr>\n",
       "    <tr>\n",
       "      <th>48</th>\n",
       "      <td>30.000</td>\n",
       "      <td>4.000</td>\n",
       "      <td>7.209</td>\n",
       "    </tr>\n",
       "    <tr>\n",
       "      <th>49</th>\n",
       "      <td>30.000</td>\n",
       "      <td>4.500</td>\n",
       "      <td>7.209</td>\n",
       "    </tr>\n",
       "    <tr>\n",
       "      <th>50</th>\n",
       "      <td>30.000</td>\n",
       "      <td>5.000</td>\n",
       "      <td>7.209</td>\n",
       "    </tr>\n",
       "    <tr>\n",
       "      <th>51</th>\n",
       "      <td>30.000</td>\n",
       "      <td>5.500</td>\n",
       "      <td>7.209</td>\n",
       "    </tr>\n",
       "    <tr>\n",
       "      <th>52</th>\n",
       "      <td>30.000</td>\n",
       "      <td>6.000</td>\n",
       "      <td>7.209</td>\n",
       "    </tr>\n",
       "    <tr>\n",
       "      <th>53</th>\n",
       "      <td>30.000</td>\n",
       "      <td>6.500</td>\n",
       "      <td>7.209</td>\n",
       "    </tr>\n",
       "    <tr>\n",
       "      <th>54</th>\n",
       "      <td>30.000</td>\n",
       "      <td>7.000</td>\n",
       "      <td>7.209</td>\n",
       "    </tr>\n",
       "    <tr>\n",
       "      <th>55</th>\n",
       "      <td>30.000</td>\n",
       "      <td>7.500</td>\n",
       "      <td>7.209</td>\n",
       "    </tr>\n",
       "  </tbody>\n",
       "</table>\n",
       "</div>"
      ],
      "text/plain": [
       "    pool_cpr  tranche_rate_mezz   IRR\n",
       "0      0.000              4.000 7.209\n",
       "1      0.000              4.500 7.209\n",
       "2      0.000              5.000 7.209\n",
       "3      0.000              5.500 7.209\n",
       "4      0.000              6.000 7.209\n",
       "5      0.000              6.500 7.209\n",
       "6      0.000              7.000 7.209\n",
       "7      0.000              7.500 7.209\n",
       "8      5.000              4.000 7.209\n",
       "9      5.000              4.500 7.209\n",
       "10     5.000              5.000 7.209\n",
       "11     5.000              5.500 7.209\n",
       "12     5.000              6.000 7.209\n",
       "13     5.000              6.500 7.209\n",
       "14     5.000              7.000 7.209\n",
       "15     5.000              7.500 7.209\n",
       "16    10.000              4.000 7.209\n",
       "17    10.000              4.500 7.209\n",
       "18    10.000              5.000 7.209\n",
       "19    10.000              5.500 7.209\n",
       "20    10.000              6.000 7.209\n",
       "21    10.000              6.500 7.209\n",
       "22    10.000              7.000 7.209\n",
       "23    10.000              7.500 7.209\n",
       "24    15.000              4.000 7.209\n",
       "25    15.000              4.500 7.209\n",
       "26    15.000              5.000 7.209\n",
       "27    15.000              5.500 7.209\n",
       "28    15.000              6.000 7.209\n",
       "29    15.000              6.500 7.209\n",
       "30    15.000              7.000 7.209\n",
       "31    15.000              7.500 7.209\n",
       "32    20.000              4.000 7.209\n",
       "33    20.000              4.500 7.209\n",
       "34    20.000              5.000 7.209\n",
       "35    20.000              5.500 7.209\n",
       "36    20.000              6.000 7.209\n",
       "37    20.000              6.500 7.209\n",
       "38    20.000              7.000 7.209\n",
       "39    20.000              7.500 7.209\n",
       "40    25.000              4.000 7.209\n",
       "41    25.000              4.500 7.209\n",
       "42    25.000              5.000 7.209\n",
       "43    25.000              5.500 7.209\n",
       "44    25.000              6.000 7.209\n",
       "45    25.000              6.500 7.209\n",
       "46    25.000              7.000 7.209\n",
       "47    25.000              7.500 7.209\n",
       "48    30.000              4.000 7.209\n",
       "49    30.000              4.500 7.209\n",
       "50    30.000              5.000 7.209\n",
       "51    30.000              5.500 7.209\n",
       "52    30.000              6.000 7.209\n",
       "53    30.000              6.500 7.209\n",
       "54    30.000              7.000 7.209\n",
       "55    30.000              7.500 7.209"
      ]
     },
     "execution_count": 176,
     "metadata": {},
     "output_type": "execute_result"
    }
   ],
   "source": [
    "results_df = pd.DataFrame(results)\n",
    "results_df.to_clipboard()\n",
    "results_df"
   ]
  },
  {
   "cell_type": "code",
   "execution_count": null,
   "id": "038bc7ae",
   "metadata": {},
   "outputs": [],
   "source": []
  },
  {
   "cell_type": "code",
   "execution_count": null,
   "id": "c50be8bf",
   "metadata": {},
   "outputs": [],
   "source": []
  },
  {
   "cell_type": "code",
   "execution_count": null,
   "id": "bc40778e",
   "metadata": {},
   "outputs": [],
   "source": [
    "pd.concat([r02['accounts']['srtAcc'],r02['pool']['flow'].CumLoss.to_frame()]).sort_index().loc[\"2021-09-30\"]"
   ]
  },
  {
   "cell_type": "code",
   "execution_count": null,
   "id": "5b2704fe",
   "metadata": {},
   "outputs": [],
   "source": [
    "firstLossTrancheDraft = {\"FirstLoss-1\": 5,\"FirstLoss-2\":10,\"FirstLoss-3\":20}"
   ]
  },
  {
   "cell_type": "code",
   "execution_count": null,
   "id": "c1b890aa",
   "metadata": {},
   "outputs": [],
   "source": [
    "import toolz as tz\n",
    "dealDrafts = tz.valmap(lambda x: srt02 & lens.bonds[2][1].Fork(lens['balance'],lens['originBalance']).set(x) \n",
    "                     ,firstLossTrancheDraft)"
   ]
  },
  {
   "cell_type": "code",
   "execution_count": null,
   "id": "74bd997e",
   "metadata": {},
   "outputs": [],
   "source": [
    "rm02 = localAPI.runStructs(dealDrafts\n",
    "                        ,poolAssump=(\"Pool\",(\"Mortgage\", {\"CDR\":0.01}, None, None, None)\n",
    "                                           ,None\n",
    "                                           ,None)\n",
    "                        ,nonPoolAssump=[(\"call\",(\"poolFactor\",0.10))\n",
    "                                   ,(\"inspect\"\n",
    "                                     ,(\"MonthEnd\",(\"excess\", (\"cumPoolNetLoss\",)\n",
    "                                                         , (\"abs\",(\"accountTxnAmount\",\"<Support:originator>\",\"srtAcc\"))\n",
    "                                                         , (\"constant\",firstLossTranche))\n",
    "                                                  ))\n",
    "                                    ]\n",
    "                        ,read=True)"
   ]
  },
  {
   "cell_type": "code",
   "execution_count": null,
   "id": "019b6e64",
   "metadata": {},
   "outputs": [],
   "source": [
    "def calcIRR(df, init):\n",
    "    investDate,investAmount = init\n",
    "    ds = [investDate] + df.index.to_list()\n",
    "    vs = [investAmount] + df.cash.to_list()\n",
    "    return xirr(ds, vs)\n",
    "\n",
    "tz.valmap(lambda x: calcIRR(x['bonds']['B'], (\"2021-06-15\",-200)), rm02)"
   ]
  },
  {
   "cell_type": "markdown",
   "id": "fc10bd87",
   "metadata": {},
   "source": [
    "EXPERIMENTAL CASE: PROCEED WITH CAUTION!!! DEFAULT RATES & TRANCHE THICKNESS"
   ]
  },
  {
   "cell_type": "code",
   "execution_count": null,
   "id": "52da06be",
   "metadata": {},
   "outputs": [],
   "source": [
    "pauyse here\n",
    "\n",
    "print('\\nModel Test Results: DEFAULT RATES AND TRANCHE THICKNESS')\n",
    "\n",
    "# LOOP THROUGH THE DEFAULT RATES AND TRANCHE THICKNESS TO CALCULATE THE IRR\n",
    "# original_balance = 1000000000\n",
    "default_rates = np.arange(0.005, 0.05, 0.001).tolist()  \n",
    "tranche_size_equitys = np.arange(0.08, 0.12, 0.0025).tolist()  \n",
    "df = pd.DataFrame(columns=['Constant Default Rate', 'Tranche Size', 'IRR'])  \n",
    "\n",
    "for default_rate in default_rates:\n",
    "    for tranche_size_equity in tranche_size_equitys:\n",
    "        perf = (\"Pool\",(\"Mortgage\",{\"CDR\":default_rate},{\"CPR\":pool_cpr},{\"Rate\":recovery_rate,\"Lag\":recovery_lag},None),None,None)\n",
    "\n",
    "        r = localAPI.run(test01,runAssump = runDealAssump\n",
    "                        ,poolAssump = (\"Pool\",(\"Mortgage\",{\"CDR\":default_rate},None,{\"Rate\":recovery_rate,\"Lag\":recovery_lag},None),None,None)\n",
    "                        ,read=True)\n",
    "\n",
    "        projectCf = srt(original_pool_balance * tranche_size_equity, r, original_pool_balance * tranche_size_equity * issue_price, tranche_rate_equity,reinvestRate=reinvestment_rate)\n",
    "        a = xirr(projectCf.index.to_list(),projectCf['netCashflow'].to_list())\n",
    "        df = df.append({'Constant Default Rate': default_rate, 'Tranche Size': tranche_size_equity, 'IRR': a}, ignore_index=True)\n",
    "        print('Default Rate: ', default_rate, ' & Tranche Size: ', tranche_size_equity, ' & IRR: ', a)"
   ]
  },
  {
   "cell_type": "markdown",
   "id": "bc24d8b2",
   "metadata": {},
   "source": [
    "Sanity Check\n",
    "\n",
    "1. put in a super simple portfolio, set default rate to 0, then make sure it gives the right IRR \n",
    "2. do not tranche it yet, but put in default rate, make sure IRR is close to original IRR - defaults \n",
    "3. then play with recovery, then tranche it \n",
    "4. set it up to have both attach and detach \n",
    "5. test to make sure cashflow logic is really tight\n",
    "6. projectCf['netCashflow'].sum() - projectCf['cashAccountBal'].iloc[0] + projectCf['cashAccountBal'].iloc[-1]\n",
    "7. make sure simple changes that should change the cashflow schedule, make sure model is working as expected"
   ]
  },
  {
   "cell_type": "markdown",
   "id": "9751d4dc",
   "metadata": {},
   "source": []
  }
 ],
 "metadata": {
  "kernelspec": {
   "display_name": "Python 3 (ipykernel)",
   "language": "python",
   "name": "python3"
  },
  "language_info": {
   "codemirror_mode": {
    "name": "ipython",
    "version": 3
   },
   "file_extension": ".py",
   "mimetype": "text/x-python",
   "name": "python",
   "nbconvert_exporter": "python",
   "pygments_lexer": "ipython3",
   "version": "3.11.9"
  }
 },
 "nbformat": 4,
 "nbformat_minor": 5
}
