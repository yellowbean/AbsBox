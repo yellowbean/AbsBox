{
 "cells": [
  {
   "cell_type": "markdown",
   "id": "896e51d0",
   "metadata": {},
   "source": [
    "### Import"
   ]
  },
  {
   "cell_type": "code",
   "execution_count": 21,
   "id": "5f44a2af",
   "metadata": {},
   "outputs": [],
   "source": [
    "from absbox import examples,API,EnginePath"
   ]
  },
  {
   "cell_type": "markdown",
   "id": "6a5c410a",
   "metadata": {},
   "source": [
    "### Connect to server"
   ]
  },
  {
   "cell_type": "code",
   "execution_count": 26,
   "id": "a791a17b",
   "metadata": {},
   "outputs": [
    {
     "data": {
      "text/html": [
       "<pre style=\"white-space:pre;overflow-x:auto;line-height:normal;font-family:Menlo,'DejaVu Sans Mono',consolas,'Courier New',monospace\"><span style=\"color: #800080; text-decoration-color: #800080; font-weight: bold\">Connecting engine server -&gt; </span><span style=\"color: #800080; text-decoration-color: #800080; font-weight: bold; text-decoration: underline\">https://absbox.org/api/dev</span>\n",
       "</pre>\n"
      ],
      "text/plain": [
       "\u001b[1;35mConnecting engine server -> \u001b[0m\u001b[1;4;35mhttps://absbox.org/api/dev\u001b[0m\n"
      ]
     },
     "metadata": {},
     "output_type": "display_data"
    },
    {
     "data": {
      "text/html": [
       "<pre style=\"white-space:pre;overflow-x:auto;line-height:normal;font-family:Menlo,'DejaVu Sans Mono',consolas,'Courier New',monospace\">✅<span style=\"color: #008000; text-decoration-color: #008000; font-weight: bold\">Connected, local lib:0.</span><span style=\"color: #008000; text-decoration-color: #008000; font-weight: bold\">26.4</span><span style=\"color: #008000; text-decoration-color: #008000; font-weight: bold\">, server:</span><span style=\"color: #008000; text-decoration-color: #008000; font-weight: bold\">0.28</span><span style=\"color: #008000; text-decoration-color: #008000; font-weight: bold\">.</span><span style=\"color: #008000; text-decoration-color: #008000; font-weight: bold\">1</span>\n",
       "</pre>\n"
      ],
      "text/plain": [
       "✅\u001b[1;32mConnected, local li\u001b[0m\u001b[1;32mb:0\u001b[0m\u001b[1;32m.\u001b[0m\u001b[1;32m26.4\u001b[0m\u001b[1;32m, server:\u001b[0m\u001b[1;32m0.28\u001b[0m\u001b[1;32m.\u001b[0m\u001b[1;32m1\u001b[0m\n"
      ]
     },
     "metadata": {},
     "output_type": "display_data"
    }
   ],
   "source": [
    "localAPI = API(EnginePath.DEV, lang='english', check=False)"
   ]
  },
  {
   "cell_type": "code",
   "execution_count": 27,
   "id": "95f3ebd8",
   "metadata": {},
   "outputs": [
    {
     "data": {
      "text/plain": [
       "API(url='https://absbox.org/api/dev', lang='english', check=False)"
      ]
     },
     "execution_count": 27,
     "metadata": {},
     "output_type": "execute_result"
    }
   ],
   "source": [
    "localAPI"
   ]
  },
  {
   "cell_type": "markdown",
   "id": "f0d3a2fd",
   "metadata": {},
   "source": [
    "### Sample Deal"
   ]
  },
  {
   "cell_type": "code",
   "execution_count": 14,
   "id": "e55c4354",
   "metadata": {},
   "outputs": [
    {
     "data": {
      "text/plain": [
       "{'assets': [['Mortgage',\n",
       "   {'originBalance': 2200,\n",
       "    'originRate': ['fix', 0.045],\n",
       "    'originTerm': 20,\n",
       "    'freq': 'Monthly',\n",
       "    'type': 'Level',\n",
       "    'originDate': '2021-02-01'},\n",
       "   {'currentBalance': 2200,\n",
       "    'currentRate': 0.08,\n",
       "    'remainTerm': 20,\n",
       "    'status': 'current'}]]}"
      ]
     },
     "execution_count": 14,
     "metadata": {},
     "output_type": "execute_result"
    }
   ],
   "source": [
    "examples.test01.pool"
   ]
  },
  {
   "cell_type": "markdown",
   "id": "bd8c161a",
   "metadata": {},
   "source": [
    "### Build Pool Assumption"
   ]
  },
  {
   "cell_type": "code",
   "execution_count": 31,
   "id": "d8e405f0",
   "metadata": {},
   "outputs": [],
   "source": [
    "myAssumption = (\"Pool\",(\"Mortgage\",{\"CDR\":[0.01,0.02]},{\"CPR\":0.02},{\"Rate\":0.7,\"Lag\":5},None)\n",
    "                                ,None\n",
    "                                ,None)"
   ]
  },
  {
   "cell_type": "markdown",
   "id": "af9dedfe",
   "metadata": {},
   "source": [
    "### Run"
   ]
  },
  {
   "cell_type": "code",
   "execution_count": 32,
   "id": "e03297f6",
   "metadata": {},
   "outputs": [],
   "source": [
    "r = localAPI.run(examples.test01\n",
    "                ,poolAssump=myAssumption\n",
    "                ,read=True)"
   ]
  },
  {
   "cell_type": "markdown",
   "id": "e29523b2",
   "metadata": {},
   "source": [
    "### Get Result"
   ]
  },
  {
   "cell_type": "code",
   "execution_count": 37,
   "id": "f1613ae6",
   "metadata": {},
   "outputs": [
    {
     "data": {
      "text/html": [
       "<div>\n",
       "<style scoped>\n",
       "    .dataframe tbody tr th:only-of-type {\n",
       "        vertical-align: middle;\n",
       "    }\n",
       "\n",
       "    .dataframe tbody tr th {\n",
       "        vertical-align: top;\n",
       "    }\n",
       "\n",
       "    .dataframe thead th {\n",
       "        text-align: right;\n",
       "    }\n",
       "</style>\n",
       "<table border=\"1\" class=\"dataframe\">\n",
       "  <thead>\n",
       "    <tr style=\"text-align: right;\">\n",
       "      <th></th>\n",
       "      <th>balance</th>\n",
       "      <th>change</th>\n",
       "      <th>memo</th>\n",
       "    </tr>\n",
       "    <tr>\n",
       "      <th>date</th>\n",
       "      <th></th>\n",
       "      <th></th>\n",
       "      <th></th>\n",
       "    </tr>\n",
       "  </thead>\n",
       "  <tbody>\n",
       "    <tr>\n",
       "      <th>2021-07-20</th>\n",
       "      <td>116.46</td>\n",
       "      <td>-3.06</td>\n",
       "      <td>&lt;PayInt:A1&gt;</td>\n",
       "    </tr>\n",
       "    <tr>\n",
       "      <th>2021-07-20</th>\n",
       "      <td>0.00</td>\n",
       "      <td>-116.46</td>\n",
       "      <td>&lt;PayPrin:A1&gt;</td>\n",
       "    </tr>\n",
       "    <tr>\n",
       "      <th>2021-07-20</th>\n",
       "      <td>0.00</td>\n",
       "      <td>0.00</td>\n",
       "      <td>&lt;PayPrin:B&gt;</td>\n",
       "    </tr>\n",
       "    <tr>\n",
       "      <th>2021-07-20</th>\n",
       "      <td>0.00</td>\n",
       "      <td>0.00</td>\n",
       "      <td>&lt;PayYield:B&gt;</td>\n",
       "    </tr>\n",
       "  </tbody>\n",
       "</table>\n",
       "</div>"
      ],
      "text/plain": [
       "            balance  change          memo\n",
       "date                                     \n",
       "2021-07-20   116.46   -3.06   <PayInt:A1>\n",
       "2021-07-20     0.00 -116.46  <PayPrin:A1>\n",
       "2021-07-20     0.00    0.00   <PayPrin:B>\n",
       "2021-07-20     0.00    0.00  <PayYield:B>"
      ]
     },
     "execution_count": 37,
     "metadata": {},
     "output_type": "execute_result"
    }
   ],
   "source": [
    "r['accounts'][\"acc01\"].loc['2021-07-20']"
   ]
  },
  {
   "cell_type": "code",
   "execution_count": null,
   "id": "3163b313",
   "metadata": {},
   "outputs": [],
   "source": []
  }
 ],
 "metadata": {
  "kernelspec": {
   "display_name": "Python 3 (ipykernel)",
   "language": "python",
   "name": "python3"
  },
  "language_info": {
   "codemirror_mode": {
    "name": "ipython",
    "version": 3
   },
   "file_extension": ".py",
   "mimetype": "text/x-python",
   "name": "python",
   "nbconvert_exporter": "python",
   "pygments_lexer": "ipython3",
   "version": "3.12.3"
  }
 },
 "nbformat": 4,
 "nbformat_minor": 5
}
