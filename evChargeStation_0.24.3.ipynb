{
 "cells": [
  {
   "cell_type": "code",
   "execution_count": 1,
   "id": "15d45a20",
   "metadata": {},
   "outputs": [
    {
     "data": {
      "text/html": [
       "<pre style=\"white-space:pre;overflow-x:auto;line-height:normal;font-family:Menlo,'DejaVu Sans Mono',consolas,'Courier New',monospace\"><span style=\"color: #800080; text-decoration-color: #800080; font-weight: bold\">Connecting engine server -&gt; </span><span style=\"color: #800080; text-decoration-color: #800080; font-weight: bold; text-decoration: underline\">http://localhost:8081</span>\n",
       "</pre>\n"
      ],
      "text/plain": [
       "\u001b[1;35mConnecting engine server -> \u001b[0m\u001b[1;4;35mhttp://localhost:8081\u001b[0m\n"
      ]
     },
     "metadata": {},
     "output_type": "display_data"
    },
    {
     "data": {
      "text/html": [
       "<pre style=\"white-space:pre;overflow-x:auto;line-height:normal;font-family:Menlo,'DejaVu Sans Mono',consolas,'Courier New',monospace\">✅<span style=\"color: #008000; text-decoration-color: #008000; font-weight: bold\">Connected, local lib:0.</span><span style=\"color: #008000; text-decoration-color: #008000; font-weight: bold\">28.7</span><span style=\"color: #008000; text-decoration-color: #008000; font-weight: bold\">, server:</span><span style=\"color: #008000; text-decoration-color: #008000; font-weight: bold\">0.29</span><span style=\"color: #008000; text-decoration-color: #008000; font-weight: bold\">.</span><span style=\"color: #008000; text-decoration-color: #008000; font-weight: bold\">2</span>\n",
       "</pre>\n"
      ],
      "text/plain": [
       "✅\u001b[1;32mConnected, local li\u001b[0m\u001b[1;32mb:0\u001b[0m\u001b[1;32m.\u001b[0m\u001b[1;32m28.7\u001b[0m\u001b[1;32m, server:\u001b[0m\u001b[1;32m0.29\u001b[0m\u001b[1;32m.\u001b[0m\u001b[1;32m2\u001b[0m\n"
      ]
     },
     "metadata": {},
     "output_type": "display_data"
    },
    {
     "data": {
      "text/html": [
       "<pre style=\"white-space:pre;overflow-x:auto;line-height:normal;font-family:Menlo,'DejaVu Sans Mono',consolas,'Courier New',monospace\">Warning Message from server:\n",
       "\n",
       "</pre>\n"
      ],
      "text/plain": [
       "Warning Message from server:\n",
       "\n"
      ]
     },
     "metadata": {},
     "output_type": "display_data"
    },
    {
     "data": {
      "text/plain": [
       "0.05342631295261812"
      ]
     },
     "execution_count": 1,
     "metadata": {},
     "output_type": "execute_result"
    }
   ],
   "source": [
    "from absbox import API,EnginePath\n",
    "localAPI = API(EnginePath.LOCAL,lang='english',check=False)\n",
    "\n",
    "from absbox import Generic\n",
    "\n",
    "\n",
    "assets = [[\"FixedAsset\"\n",
    "            ,{\"start\":\"2023-11-01\",\"originBalance\":100_0000,\"originTerm\":120\n",
    "            ,\"residual\":10_0000,\"period\":\"Monthly\",\"amortize\":\"Straight\"\n",
    "            ,\"capacity\":(\"Fixed\",24*25*120*30)}\n",
    "            ,{\"remainTerm\":120}]]\n",
    "\n",
    "exps = ((\"租金\",{\"type\":{\"recurFee\":[\"MonthFirst\",18000]}})\n",
    "        ,(\"人员工资\",{\"type\":{\"recurFee\":[\"MonthFirst\",25000]}})\n",
    "        ,(\"保险\",{\"type\":{\"recurFee\":[\"MonthFirst\",4500]}}))\n",
    "\n",
    "waterfall_1 = {\"amortizing\":[\n",
    "                [\"payFee\",\"acc01\",['租金','人员工资','保险']]\n",
    "            ]\n",
    "            ,\"cleanUp\":[\n",
    "                [\"sellAsset\",[\"Current|Defaulted\",1.0,0],\"acc01\"]\n",
    "                ,[\"payPrin\",\"acc01\",[\"EQ\"]]\n",
    "                ,[\"payIntResidual\",\"acc01\",\"EQ\"]\n",
    "            ]}\n",
    "\n",
    "waterfall_2 = {\"amortizing\":[\n",
    "                [\"payFee\",\"acc01\",['租金','人员工资','保险']]\n",
    "                ,[\"accrueAndPayInt\",\"acc01\",[\"A\"]]\n",
    "                ,[\"payPrin\",\"acc01\",[\"A\"]]\n",
    "            ]\n",
    "            ,\"cleanUp\":[\n",
    "                [\"sellAsset\",[\"Current|Defaulted\",1.0,0],\"acc01\"]\n",
    "                ,[\"payPrin\",\"acc01\",[\"EQ\"]]\n",
    "                ,[\"payIntResidual\",\"acc01\",\"EQ\"]\n",
    "            ]}\n",
    "\n",
    "waterfall_3 = {\"amortizing\":[\n",
    "                [\"payFee\",\"acc01\",['租金','人员工资','保险']]\n",
    "                ,[\"accrueAndPayInt\",\"acc01\",[\"A\"]]\n",
    "                ,[\"payPrin\",\"acc01\",[\"A\"]]\n",
    "                ,[\"payPrin\",\"acc01\",[\"EQ\"]\n",
    "                ,{\"limit\":{\"formula\":(\"floorWithZero\"\n",
    "                            ,(\"substract\"\n",
    "                                ,(\"accountBalance\",\"acc01\"),(\"constant\",10000)))\n",
    "                            }}]\n",
    "            ]\n",
    "            ,\"cleanUp\":[\n",
    "                [\"sellAsset\",[\"Current|Defaulted\",1.0,0],\"acc01\"]\n",
    "                ,[\"payPrin\",\"acc01\",[\"EQ\"]]\n",
    "                ,[\"payIntResidual\",\"acc01\",\"EQ\"]\n",
    "            ]}\n",
    "\n",
    "capStructure1 = ((\"EQ\",{\"balance\":200_0000\n",
    "                    ,\"rate\":0.0\n",
    "                    ,\"originBalance\":200_0000\n",
    "                    ,\"originRate\":0.00\n",
    "                    ,\"startDate\":\"2024-01-01\"\n",
    "                    ,\"rateType\":{\"Fixed\":0.00}\n",
    "                    ,\"bondType\":{\"Equity\":None}}),\n",
    "                )\n",
    "\n",
    "\n",
    "capStructure2 = ((\"A\",{\"balance\":100_0000\n",
    "                    ,\"rate\":0.06\n",
    "                    ,\"originBalance\":100_0000\n",
    "                    ,\"originRate\":0.00\n",
    "                    ,\"startDate\":\"2024-01-01\"\n",
    "                    ,\"rateType\":{\"Fixed\":0.06}\n",
    "                    ,\"bondType\":{\"Sequential\":None}})\n",
    "                ,(\"EQ\",{\"balance\":100_0000\n",
    "                    ,\"rate\":0.0\n",
    "                    ,\"originBalance\":100_0000\n",
    "                    ,\"originRate\":0.00\n",
    "                    ,\"startDate\":\"2024-01-01\"\n",
    "                    ,\"rateType\":{\"Fixed\":0.00}\n",
    "                    ,\"bondType\":{\"Equity\":None}}),\n",
    "                )\n",
    "\n",
    "\n",
    "evStation = Generic(\n",
    "    \"TEST01\"\n",
    "    ,{\"cutoff\":\"2024-01-01\",\"closing\":\"2024-01-01\",\"firstPay\":\"2024-02-01\"\n",
    "    ,\"payFreq\":\"MonthEnd\",\"poolFreq\":\"MonthEnd\",\"stated\":\"2050-01-01\"}\n",
    "    ,{'assets':assets}\n",
    "    ,((\"acc01\",{\"balance\":0}),)\n",
    "    ,capStructure1\n",
    "    ,exps\n",
    "    ,waterfall_1\n",
    "    ,[[\"CollectedCash\",\"acc01\"]]\n",
    "    ,None\n",
    "    ,None\n",
    "    ,None\n",
    "    ,None\n",
    "    ,(\"PreClosing\",\"Amortizing\")\n",
    "    )\n",
    "\n",
    "myAssump = (\"Pool\"\n",
    "            ,(\"Fixed\",[[\"2024-01-01\",0.05]\n",
    "                    ,[\"2025-01-01\",0.08]\n",
    "                    ,[\"2026-01-01\",0.1]]\n",
    "                    ,[[\"2024-01-01\",0.3]\n",
    "                    ,[\"2025-01-01\",0.35]\n",
    "                    ,[\"2026-01-01\",0.4]])\n",
    "            ,None\n",
    "            ,None)\n",
    "\n",
    "p = localAPI.run(evStation,poolAssump=myAssump\n",
    "                    ,runAssump=[(\"call\",{\"afterDate\":\"2034-07-01\"})]\n",
    "                    ,read=True)\n",
    "\n",
    "from absbox.local.analytics import irr\n",
    "irr(p['bonds']['EQ'],init=('2024-01-01',-200_0000))"
   ]
  },
  {
   "cell_type": "code",
   "execution_count": 15,
   "id": "c6d306f5",
   "metadata": {},
   "outputs": [
    {
     "data": {
      "text/html": [
       "<pre style=\"white-space:pre;overflow-x:auto;line-height:normal;font-family:Menlo,'DejaVu Sans Mono',consolas,'Courier New',monospace\"><span style=\"color: #008000; text-decoration-color: #008000\">⠴</span>\n",
       "</pre>\n"
      ],
      "text/plain": [
       "\u001b[32m⠴\u001b[0m\n"
      ]
     },
     "metadata": {},
     "output_type": "display_data"
    },
    {
     "data": {
      "text/html": [
       "<pre style=\"white-space:pre;overflow-x:auto;line-height:normal;font-family:Menlo,'DejaVu Sans Mono',consolas,'Courier New',monospace\"></pre>\n"
      ],
      "text/plain": []
     },
     "metadata": {},
     "output_type": "display_data"
    },
    {
     "data": {
      "text/plain": [
       "0.08041166179306848"
      ]
     },
     "execution_count": 15,
     "metadata": {},
     "output_type": "execute_result"
    }
   ],
   "source": [
    "evStation = Generic(\n",
    "    \"TEST01\"\n",
    "    ,{\"cutoff\":\"2024-01-01\",\"closing\":\"2024-01-01\",\"firstPay\":\"2024-02-01\"\n",
    "    ,\"payFreq\":\"MonthEnd\",\"poolFreq\":\"MonthEnd\",\"stated\":\"2050-01-01\"}\n",
    "    ,{'assets':assets}\n",
    "    ,((\"acc01\",{\"balance\":0}),)\n",
    "    ,capStructure2\n",
    "    ,exps\n",
    "    ,waterfall_2\n",
    "    ,[[\"CollectedCash\",\"acc01\"]]\n",
    "    ,None\n",
    "    ,None\n",
    "    ,None\n",
    "    ,None\n",
    "    ,(\"PreClosing\",\"Amortizing\")\n",
    "    )\n",
    "\n",
    "myAssump = (\"Pool\"\n",
    "            ,(\"Fixed\",[[\"2024-01-01\",0.05]\n",
    "                    ,[\"2025-01-01\",0.08]\n",
    "                    ,[\"2026-01-01\",0.1]]\n",
    "                    ,[[\"2024-01-01\",0.3]\n",
    "                    ,[\"2025-01-01\",0.35]\n",
    "                    ,[\"2026-01-01\",0.4]])\n",
    "            ,None\n",
    "            ,None)\n",
    "\n",
    "p = localAPI.run(evStation,poolAssump=myAssump\n",
    "                    ,runAssump=[(\"call\",{\"afterDate\":\"2034-07-01\"})]\n",
    "                    ,read=True)\n",
    "\n",
    "irr(p['bonds']['EQ'],init=('2024-01-01',-100_0000))"
   ]
  },
  {
   "cell_type": "code",
   "execution_count": 16,
   "id": "79397ef5",
   "metadata": {},
   "outputs": [
    {
     "data": {
      "text/html": [
       "<pre style=\"white-space:pre;overflow-x:auto;line-height:normal;font-family:Menlo,'DejaVu Sans Mono',consolas,'Courier New',monospace\"><span style=\"color: #008000; text-decoration-color: #008000\">⠴</span>\n",
       "</pre>\n"
      ],
      "text/plain": [
       "\u001b[32m⠴\u001b[0m\n"
      ]
     },
     "metadata": {},
     "output_type": "display_data"
    },
    {
     "data": {
      "text/html": [
       "<pre style=\"white-space:pre;overflow-x:auto;line-height:normal;font-family:Menlo,'DejaVu Sans Mono',consolas,'Courier New',monospace\"></pre>\n"
      ],
      "text/plain": []
     },
     "metadata": {},
     "output_type": "display_data"
    },
    {
     "data": {
      "text/plain": [
       "0.10694232110272782"
      ]
     },
     "execution_count": 16,
     "metadata": {},
     "output_type": "execute_result"
    }
   ],
   "source": [
    "evStation = Generic(\n",
    "    \"TEST01\"\n",
    "    ,{\"cutoff\":\"2024-01-01\",\"closing\":\"2024-01-01\",\"firstPay\":\"2024-02-01\"\n",
    "    ,\"payFreq\":\"MonthEnd\",\"poolFreq\":\"MonthEnd\",\"stated\":\"2050-01-01\"}\n",
    "    ,{'assets':assets}\n",
    "    ,((\"acc01\",{\"balance\":0}),)\n",
    "    ,capStructure2\n",
    "    ,exps\n",
    "    ,waterfall_3\n",
    "    ,[[\"CollectedCash\",\"acc01\"]]\n",
    "    ,None\n",
    "    ,None\n",
    "    ,None\n",
    "    ,None\n",
    "    ,(\"PreClosing\",\"Amortizing\")\n",
    "    )\n",
    "\n",
    "myAssump = (\"Pool\"\n",
    "            ,(\"Fixed\",[[\"2024-01-01\",0.05]\n",
    "                    ,[\"2025-01-01\",0.08]\n",
    "                    ,[\"2026-01-01\",0.1]]\n",
    "                    ,[[\"2024-01-01\",0.3]\n",
    "                    ,[\"2025-01-01\",0.35]\n",
    "                    ,[\"2026-01-01\",0.4]])\n",
    "            ,None\n",
    "            ,None)\n",
    "\n",
    "p = localAPI.run(evStation,poolAssump=myAssump\n",
    "                    ,runAssump=[(\"call\",{\"afterDate\":\"2034-07-01\"})]\n",
    "                    ,read=True)\n",
    "\n",
    "irr(p['bonds']['EQ'],init=('2024-01-01',-100_0000))"
   ]
  },
  {
   "cell_type": "code",
   "execution_count": 17,
   "id": "d3c1ea60",
   "metadata": {},
   "outputs": [
    {
     "data": {
      "text/html": [
       "<pre style=\"white-space:pre;overflow-x:auto;line-height:normal;font-family:Menlo,'DejaVu Sans Mono',consolas,'Courier New',monospace\"><span style=\"color: #008000; text-decoration-color: #008000\">⠏</span>\n",
       "</pre>\n"
      ],
      "text/plain": [
       "\u001b[32m⠏\u001b[0m\n"
      ]
     },
     "metadata": {},
     "output_type": "display_data"
    },
    {
     "data": {
      "text/html": [
       "<pre style=\"white-space:pre;overflow-x:auto;line-height:normal;font-family:Menlo,'DejaVu Sans Mono',consolas,'Courier New',monospace\"></pre>\n"
      ],
      "text/plain": []
     },
     "metadata": {},
     "output_type": "display_data"
    },
    {
     "data": {
      "text/plain": [
       "{'base': 0.10694232110272782,\n",
       " 'lowPrice': 0.5142620322498668,\n",
       " 'lowUtil': 0.5356286859292939}"
      ]
     },
     "execution_count": 17,
     "metadata": {},
     "output_type": "execute_result"
    }
   ],
   "source": [
    "scenarioMap = {\n",
    "    \"base\":(\"Pool\"\n",
    "            ,(\"Fixed\",[[\"2024-01-01\",0.05]\n",
    "                    ,[\"2025-01-01\",0.08]\n",
    "                    ,[\"2026-01-01\",0.1]]\n",
    "                    ,[[\"2024-01-01\",0.3]\n",
    "                    ,[\"2025-01-01\",0.35]\n",
    "                    ,[\"2026-01-01\",0.4]])\n",
    "            ,None, None)\n",
    "    ,\"lowUtil\" : (\"Pool\"\n",
    "            ,(\"Fixed\",[[\"2024-01-01\",0.05]\n",
    "                    ,[\"2025-01-01\",0.05]\n",
    "                    ,[\"2026-01-01\",0.8]]\n",
    "                    ,[[\"2024-01-01\",0.3]\n",
    "                    ,[\"2025-01-01\",0.35]\n",
    "                    ,[\"2026-01-01\",0.4]])\n",
    "            ,None, None)\n",
    "    ,\"lowPrice\" : (\"Pool\"\n",
    "            ,(\"Fixed\",[[\"2024-01-01\",0.05]\n",
    "                    ,[\"2025-01-01\",0.05]\n",
    "                    ,[\"2026-01-01\",0.8]]\n",
    "                    ,[[\"2024-01-01\",0.25]\n",
    "                    ,[\"2025-01-01\",0.30]\n",
    "                    ,[\"2026-01-01\",0.35]])\n",
    "            ,None, None)\n",
    "}\n",
    "p = localAPI.run(evStation,poolAssump=scenarioMap\n",
    "                    ,runAssump=[(\"call\",{\"afterDate\":\"2034-07-01\"})]\n",
    "                    ,read=True)\n",
    "\n",
    "from absbox.local.analytics import irr\n",
    "{k:irr(v['bonds']['EQ'],init=('2024-01-01',-100_0000))\n",
    "for k,v in p.items()}"
   ]
  },
  {
   "cell_type": "code",
   "execution_count": null,
   "id": "63d611ed",
   "metadata": {},
   "outputs": [],
   "source": []
  }
 ],
 "metadata": {
  "kernelspec": {
   "display_name": "Python 3 (ipykernel)",
   "language": "python",
   "name": "python3"
  },
  "language_info": {
   "codemirror_mode": {
    "name": "ipython",
    "version": 3
   },
   "file_extension": ".py",
   "mimetype": "text/x-python",
   "name": "python",
   "nbconvert_exporter": "python",
   "pygments_lexer": "ipython3",
   "version": "3.11.9"
  }
 },
 "nbformat": 4,
 "nbformat_minor": 5
}
