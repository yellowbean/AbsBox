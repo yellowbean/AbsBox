{
 "cells": [
  {
   "cell_type": "code",
   "execution_count": 1,
   "id": "de1b49df",
   "metadata": {},
   "outputs": [],
   "source": [
    "%load_ext autoreload\n",
    "%autoreload 2"
   ]
  },
  {
   "cell_type": "code",
   "execution_count": 2,
   "id": "44dae0be",
   "metadata": {},
   "outputs": [],
   "source": [
    "from absbox import PickApiFrom,EnginePath"
   ]
  },
  {
   "cell_type": "code",
   "execution_count": 3,
   "id": "a753f8fe",
   "metadata": {},
   "outputs": [
    {
     "name": "stdout",
     "output_type": "stream",
     "text": [
      "current lib 26 <class 'str'>\n"
     ]
    },
    {
     "ename": "AbsboxError",
     "evalue": "❌[bold red]No valid API found in list match current lib version 26, from list:[{'url': <EnginePath.DEV: 'https://absbox.org/api/dev'>, 'resp': {'_version': '0.28.1'}}, {'url': <EnginePath.LOCAL: 'http://localhost:8081'>, 'resp': {'_version': '0.28.1'}}, {'url': <EnginePath.PROD: 'https://absbox.org/api/latest'>, 'resp': {'_version': '0.27.21'}}, {'url': <EnginePath.NY_DEV: 'https://spv.run/api/dev'>, 'resp': {'_version': '0.28.1'}}]",
     "output_type": "error",
     "traceback": [
      "\u001b[0;31m---------------------------------------------------------------------------\u001b[0m",
      "\u001b[0;31mAbsboxError\u001b[0m                               Traceback (most recent call last)",
      "Cell \u001b[0;32mIn[3], line 3\u001b[0m\n\u001b[1;32m      1\u001b[0m pickingList \u001b[38;5;241m=\u001b[39m [EnginePath\u001b[38;5;241m.\u001b[39mDEV,EnginePath\u001b[38;5;241m.\u001b[39mLOCAL,EnginePath\u001b[38;5;241m.\u001b[39mPROD,EnginePath\u001b[38;5;241m.\u001b[39mNY_DEV]\n\u001b[0;32m----> 3\u001b[0m picked \u001b[38;5;241m=\u001b[39m \u001b[43mPickApiFrom\u001b[49m\u001b[43m(\u001b[49m\u001b[43mpickingList\u001b[49m\u001b[43m)\u001b[49m\n",
      "File \u001b[0;32m~/Projects/PyABS/absbox/client.py:161\u001b[0m, in \u001b[0;36mPickApiFrom\u001b[0;34m(Apilist, **kwargs)\u001b[0m\n\u001b[1;32m    159\u001b[0m     \u001b[38;5;28;01mreturn\u001b[39;00m API(r[\u001b[38;5;241m0\u001b[39m],\u001b[38;5;241m*\u001b[39m\u001b[38;5;241m*\u001b[39mkwargs)\n\u001b[1;32m    160\u001b[0m \u001b[38;5;28;01melse\u001b[39;00m:\n\u001b[0;32m--> 161\u001b[0m     \u001b[38;5;28;01mraise\u001b[39;00m AbsboxError(\u001b[38;5;124mf\u001b[39m\u001b[38;5;124m\"\u001b[39m\u001b[38;5;124m❌\u001b[39m\u001b[38;5;132;01m{\u001b[39;00mMsgColor\u001b[38;5;241m.\u001b[39mError\u001b[38;5;241m.\u001b[39mvalue\u001b[38;5;132;01m}\u001b[39;00m\u001b[38;5;124mNo valid API found in list match current lib version \u001b[39m\u001b[38;5;132;01m{\u001b[39;00mlibVersion\u001b[38;5;132;01m}\u001b[39;00m\u001b[38;5;124m, from list:\u001b[39m\u001b[38;5;132;01m{\u001b[39;00mapiResps\u001b[38;5;132;01m}\u001b[39;00m\u001b[38;5;124m\"\u001b[39m)\n",
      "\u001b[0;31mAbsboxError\u001b[0m: ❌[bold red]No valid API found in list match current lib version 26, from list:[{'url': <EnginePath.DEV: 'https://absbox.org/api/dev'>, 'resp': {'_version': '0.28.1'}}, {'url': <EnginePath.LOCAL: 'http://localhost:8081'>, 'resp': {'_version': '0.28.1'}}, {'url': <EnginePath.PROD: 'https://absbox.org/api/latest'>, 'resp': {'_version': '0.27.21'}}, {'url': <EnginePath.NY_DEV: 'https://spv.run/api/dev'>, 'resp': {'_version': '0.28.1'}}]"
     ]
    }
   ],
   "source": [
    "pickingList = [EnginePath.DEV,EnginePath.LOCAL,EnginePath.PROD,EnginePath.NY_DEV]\n",
    "\n",
    "picked = PickApiFrom(pickingList)"
   ]
  },
  {
   "cell_type": "code",
   "execution_count": 7,
   "id": "db9c826c",
   "metadata": {},
   "outputs": [],
   "source": [
    "picked"
   ]
  },
  {
   "cell_type": "code",
   "execution_count": null,
   "id": "4f9f2612",
   "metadata": {},
   "outputs": [],
   "source": []
  }
 ],
 "metadata": {
  "kernelspec": {
   "display_name": "Python 3 (ipykernel)",
   "language": "python",
   "name": "python3"
  },
  "language_info": {
   "codemirror_mode": {
    "name": "ipython",
    "version": 3
   },
   "file_extension": ".py",
   "mimetype": "text/x-python",
   "name": "python",
   "nbconvert_exporter": "python",
   "pygments_lexer": "ipython3",
   "version": "3.11.9"
  }
 },
 "nbformat": 4,
 "nbformat_minor": 5
}
