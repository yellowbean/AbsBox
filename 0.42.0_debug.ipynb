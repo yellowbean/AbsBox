{
 "cells": [
  {
   "cell_type": "code",
   "execution_count": 10,
   "id": "3ce85dc4-6e50-400f-9a0f-9a52fcfdde86",
   "metadata": {},
   "outputs": [],
   "source": [
    "test01 = SPV(\n",
    "    \"自定义费用\"\n",
    "    ,{\"封包日\":\"2021-03-31\",\"起息日\":\"2021-06-15\",\"首次兑付日\":\"2021-07-26\"\n",
    "      ,\"法定到期日\":\"2060-12-01\",\"收款频率\":\"月末\",\"付款频率\":[\"每月\",26]}\n",
    "    ,{'清单':[[\"按揭贷款\"\n",
    "        ,{\"放款金额\":120,\"放款利率\":[\"固定\",0.045],\"初始期限\":30\n",
    "          ,\"频率\":\"每月\",\"类型\":\"等额本金\",\"放款日\":\"2021-02-01\"}\n",
    "          ,{\"当前余额\":120\n",
    "          ,\"当前利率\":0.08\n",
    "          ,\"剩余期限\":20\n",
    "          ,\"状态\":\"正常\"}]]}\n",
    "    ,((\"账户01\",{\"余额\":0}),)\n",
    "    ,((\"A1\",{\"当前余额\":100\n",
    "             ,\"当前利率\":0.07\n",
    "             ,\"初始余额\":100\n",
    "             ,\"初始利率\":0.07\n",
    "             ,\"起息日\":\"2020-01-03\"\n",
    "             ,\"利率\":{\"固定\":0.08}\n",
    "             ,\"债券类型\":{\"过手摊还\":None}})\n",
    "      ,(\"B\",{\"当前余额\":20\n",
    "             ,\"当前利率\":0.0\n",
    "             ,\"初始余额\":100\n",
    "             ,\"初始利率\":0.07\n",
    "             ,\"起息日\":\"2020-01-03\"\n",
    "             ,\"利率\":{\"固定\":0.00}\n",
    "             ,\"债券类型\":{\"权益\":None}\n",
    "             }))\n",
    "    ,((\"信托费用\",{\"类型\":{\"自定义\":[[\"2021-09-26\",5],[\"2021-11-26\",4]]}}),)\n",
    "    ,{\"未违约\":[\n",
    "         [\"支付费用\",\"账户01\",['信托费用']]\n",
    "         ,[\"计提支付利息\",\"账户01\",[\"A1\"]]\n",
    "         ,[\"支付本金\",\"账户01\",[\"A1\"]]\n",
    "         ,[\"支付本金\",\"账户01\",[\"B\"]]\n",
    "         ,[\"支付收益\",\"账户01\",\"B\"]\n",
    "     ]}\n",
    "    ,([\"利息回款\",\"账户01\"]\n",
    "      ,[\"本金回款\",\"账户01\"]\n",
    "      ,[\"早偿回款\",\"账户01\"]\n",
    "      ,[\"回收回款\",\"账户01\"])\n",
    "    ,None\n",
    "    ,None\n",
    "    ,None\n",
    "    ,None\n",
    "    ,(\"设计\",\"摊销\")\n",
    ")"
   ]
  },
  {
   "cell_type": "code",
   "execution_count": 2,
   "id": "d8f5ed3f-d8ff-47f4-84e1-a2f88372c05f",
   "metadata": {},
   "outputs": [
    {
     "data": {
      "text/html": [
       "<pre style=\"white-space:pre;overflow-x:auto;line-height:normal;font-family:Menlo,'DejaVu Sans Mono',consolas,'Courier New',monospace\"><span style=\"color: #800080; text-decoration-color: #800080; font-weight: bold\">Connecting engine server -&gt; </span><span style=\"color: #800080; text-decoration-color: #800080; font-weight: bold; text-decoration: underline\">http://localhost:8081</span>\n",
       "</pre>\n"
      ],
      "text/plain": [
       "\u001b[1;35mConnecting engine server -> \u001b[0m\u001b[1;4;35mhttp://localhost:8081\u001b[0m\n"
      ]
     },
     "metadata": {},
     "output_type": "display_data"
    },
    {
     "data": {
      "text/html": [
       "<pre style=\"white-space:pre;overflow-x:auto;line-height:normal;font-family:Menlo,'DejaVu Sans Mono',consolas,'Courier New',monospace\">✅<span style=\"color: #008000; text-decoration-color: #008000; font-weight: bold\">Connected, local lib:0.</span><span style=\"color: #008000; text-decoration-color: #008000; font-weight: bold\">28.7</span><span style=\"color: #008000; text-decoration-color: #008000; font-weight: bold\">, server:</span><span style=\"color: #008000; text-decoration-color: #008000; font-weight: bold\">0.42</span><span style=\"color: #008000; text-decoration-color: #008000; font-weight: bold\">.</span><span style=\"color: #008000; text-decoration-color: #008000; font-weight: bold\">0</span>\n",
       "</pre>\n"
      ],
      "text/plain": [
       "✅\u001b[1;32mConnected, local li\u001b[0m\u001b[1;32mb:0\u001b[0m\u001b[1;32m.\u001b[0m\u001b[1;32m28.7\u001b[0m\u001b[1;32m, server:\u001b[0m\u001b[1;32m0.42\u001b[0m\u001b[1;32m.\u001b[0m\u001b[1;32m0\u001b[0m\n"
      ]
     },
     "metadata": {},
     "output_type": "display_data"
    }
   ],
   "source": [
    "from absbox import API,EnginePath,readInspect\n",
    "# https://absbox.org/api/dev\n",
    "localAPI = API(EnginePath.LOCAL,check=False)"
   ]
  },
  {
   "cell_type": "code",
   "execution_count": 6,
   "id": "0c2db0d2-4878-4c77-bf46-9f52c0b2b9d1",
   "metadata": {},
   "outputs": [
    {
     "data": {
      "text/html": [
       "<pre style=\"white-space:pre;overflow-x:auto;line-height:normal;font-family:Menlo,'DejaVu Sans Mono',consolas,'Courier New',monospace\">Warning Message from server:\n",
       "\n",
       "</pre>\n"
      ],
      "text/plain": [
       "Warning Message from server:\n",
       "\n"
      ]
     },
     "metadata": {},
     "output_type": "display_data"
    }
   ],
   "source": [
    "r = localAPI.run(test01,\n",
    "             poolAssump= None,\n",
    "             runAssump =[(\"pricing\"\n",
    "                          ,{\"PVDate\":\"2021-08-22\"\n",
    "                          ,\"PVCurve\":[[\"2021-01-01\",0.025]\n",
    "                                     ,[\"2024-08-01\",0.025]]}),\n",
    "                         (\"interest\",(\"LPR5Y\",0.02))\n",
    "                        ]\n",
    "                        ,\n",
    "             read=True)"
   ]
  },
  {
   "cell_type": "code",
   "execution_count": 11,
   "id": "78fc5bfc-518d-4487-9dc0-45b9db46ed27",
   "metadata": {},
   "outputs": [
    {
     "data": {
      "text/plain": [
       "[{}, {}, {}, {}]"
      ]
     },
     "execution_count": 11,
     "metadata": {},
     "output_type": "execute_result"
    }
   ],
   "source": [
    "test01.json['contents']['stats']"
   ]
  },
  {
   "cell_type": "code",
   "execution_count": null,
   "id": "0f39f152-d38c-4d07-b6de-59a62c558bf7",
   "metadata": {},
   "outputs": [],
   "source": []
  }
 ],
 "metadata": {
  "kernelspec": {
   "display_name": "Python 3 (ipykernel)",
   "language": "python",
   "name": "python3"
  },
  "language_info": {
   "codemirror_mode": {
    "name": "ipython",
    "version": 3
   },
   "file_extension": ".py",
   "mimetype": "text/x-python",
   "name": "python",
   "nbconvert_exporter": "python",
   "pygments_lexer": "ipython3",
   "version": "3.12.3"
  }
 },
 "nbformat": 4,
 "nbformat_minor": 5
}
