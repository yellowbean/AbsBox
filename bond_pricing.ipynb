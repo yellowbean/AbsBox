{
 "cells": [
  {
   "cell_type": "markdown",
   "id": "9eb2e120",
   "metadata": {},
   "source": [
    "### Bond Pricing"
   ]
  },
  {
   "cell_type": "code",
   "execution_count": 64,
   "id": "98488b88",
   "metadata": {},
   "outputs": [
    {
     "data": {
      "text/html": [
       "<pre style=\"white-space:pre;overflow-x:auto;line-height:normal;font-family:Menlo,'DejaVu Sans Mono',consolas,'Courier New',monospace\"><span style=\"color: #800080; text-decoration-color: #800080; font-weight: bold\">Connecting engine server -&gt; </span><span style=\"color: #800080; text-decoration-color: #800080; font-weight: bold; text-decoration: underline\">http://localhost:8081</span>\n",
       "</pre>\n"
      ],
      "text/plain": [
       "\u001b[1;35mConnecting engine server -> \u001b[0m\u001b[1;4;35mhttp://localhost:8081\u001b[0m\n"
      ]
     },
     "metadata": {},
     "output_type": "display_data"
    },
    {
     "data": {
      "text/html": [
       "<pre style=\"white-space:pre;overflow-x:auto;line-height:normal;font-family:Menlo,'DejaVu Sans Mono',consolas,'Courier New',monospace\">✅<span style=\"color: #008000; text-decoration-color: #008000; font-weight: bold\">Connected, local lib:0.</span><span style=\"color: #008000; text-decoration-color: #008000; font-weight: bold\">26.4</span><span style=\"color: #008000; text-decoration-color: #008000; font-weight: bold\">, server:</span><span style=\"color: #008000; text-decoration-color: #008000; font-weight: bold\">0.27</span><span style=\"color: #008000; text-decoration-color: #008000; font-weight: bold\">.</span><span style=\"color: #008000; text-decoration-color: #008000; font-weight: bold\">17</span>\n",
       "</pre>\n"
      ],
      "text/plain": [
       "✅\u001b[1;32mConnected, local li\u001b[0m\u001b[1;32mb:0\u001b[0m\u001b[1;32m.\u001b[0m\u001b[1;32m26.4\u001b[0m\u001b[1;32m, server:\u001b[0m\u001b[1;32m0.27\u001b[0m\u001b[1;32m.\u001b[0m\u001b[1;32m17\u001b[0m\n"
      ]
     },
     "metadata": {},
     "output_type": "display_data"
    }
   ],
   "source": [
    "from absbox import API,EnginePath\n",
    "localAPI = API(EnginePath.LOCAL,lang='english',check=False)"
   ]
  },
  {
   "cell_type": "markdown",
   "id": "f6b1e22e",
   "metadata": {},
   "source": [
    "#### Setup Pricing Assumtpion\n",
    "\n",
    "`syntax`\n",
    "\n",
    "\n",
    "    {\n",
    "     \"date\":<Pricing Date>\n",
    "     ,\"curve\":<Pricing Curve>\n",
    "    }\n",
    "    \n",
    " \n",
    " * `<pricing date>` : the day all bond cashflow will discount back to \n",
    " * `<pricing curve>` : the rate to be used to PV calculation. if cashflow falls in the middle , it will use the rates proprotionally"
   ]
  },
  {
   "cell_type": "code",
   "execution_count": 69,
   "id": "8e4760cc",
   "metadata": {},
   "outputs": [],
   "source": [
    "from absbox.examples import test01\n",
    "\n",
    "r = localAPI.run(test01\n",
    "               ,poolAssump = (\"Pool\",(\"Mortgage\",{\"CDR\":0.01},None,None,None)\n",
    "                                       ,None\n",
    "                                       ,None)\n",
    "               ,runAssump = [(\"pricing\"\n",
    "                              ,{\"date\":\"2023-11-21\"\n",
    "                                ,\"curve\":[[\"2021-01-01\",0.025]\n",
    "                                         ,[\"2024-08-01\",0.025]]})]\n",
    "               ,read=True\n",
    "               ,showWarning=False)"
   ]
  },
  {
   "cell_type": "code",
   "execution_count": 70,
   "id": "7f2e4218",
   "metadata": {},
   "outputs": [
    {
     "data": {
      "text/html": [
       "<div>\n",
       "<style scoped>\n",
       "    .dataframe tbody tr th:only-of-type {\n",
       "        vertical-align: middle;\n",
       "    }\n",
       "\n",
       "    .dataframe tbody tr th {\n",
       "        vertical-align: top;\n",
       "    }\n",
       "\n",
       "    .dataframe thead th {\n",
       "        text-align: right;\n",
       "    }\n",
       "</style>\n",
       "<table border=\"1\" class=\"dataframe\">\n",
       "  <thead>\n",
       "    <tr style=\"text-align: right;\">\n",
       "      <th></th>\n",
       "      <th>balance</th>\n",
       "      <th>interest</th>\n",
       "      <th>principal</th>\n",
       "      <th>rate</th>\n",
       "      <th>cash</th>\n",
       "      <th>factor</th>\n",
       "      <th>memo</th>\n",
       "    </tr>\n",
       "    <tr>\n",
       "      <th>date</th>\n",
       "      <th></th>\n",
       "      <th></th>\n",
       "      <th></th>\n",
       "      <th></th>\n",
       "      <th></th>\n",
       "      <th></th>\n",
       "      <th></th>\n",
       "    </tr>\n",
       "  </thead>\n",
       "  <tbody>\n",
       "    <tr>\n",
       "      <th>2021-06-20</th>\n",
       "      <td>1000.00</td>\n",
       "      <td>15.34</td>\n",
       "      <td>0.00</td>\n",
       "      <td>0.07</td>\n",
       "      <td>15.34</td>\n",
       "      <td>1.00000</td>\n",
       "      <td>&lt;PayInt:A1&gt;</td>\n",
       "    </tr>\n",
       "    <tr>\n",
       "      <th>2021-06-20</th>\n",
       "      <td>544.86</td>\n",
       "      <td>0.00</td>\n",
       "      <td>455.14</td>\n",
       "      <td>0.00</td>\n",
       "      <td>455.14</td>\n",
       "      <td>0.54486</td>\n",
       "      <td>&lt;PayPrin:A1&gt;</td>\n",
       "    </tr>\n",
       "    <tr>\n",
       "      <th>2021-07-20</th>\n",
       "      <td>544.86</td>\n",
       "      <td>3.13</td>\n",
       "      <td>0.00</td>\n",
       "      <td>0.07</td>\n",
       "      <td>3.13</td>\n",
       "      <td>0.54486</td>\n",
       "      <td>&lt;PayInt:A1&gt;</td>\n",
       "    </tr>\n",
       "    <tr>\n",
       "      <th>2021-07-20</th>\n",
       "      <td>430.62</td>\n",
       "      <td>0.00</td>\n",
       "      <td>114.24</td>\n",
       "      <td>0.00</td>\n",
       "      <td>114.24</td>\n",
       "      <td>0.43062</td>\n",
       "      <td>&lt;PayPrin:A1&gt;</td>\n",
       "    </tr>\n",
       "    <tr>\n",
       "      <th>2021-08-20</th>\n",
       "      <td>430.62</td>\n",
       "      <td>2.56</td>\n",
       "      <td>0.00</td>\n",
       "      <td>0.07</td>\n",
       "      <td>2.56</td>\n",
       "      <td>0.43062</td>\n",
       "      <td>&lt;PayInt:A1&gt;</td>\n",
       "    </tr>\n",
       "    <tr>\n",
       "      <th>2021-08-20</th>\n",
       "      <td>315.91</td>\n",
       "      <td>0.00</td>\n",
       "      <td>114.71</td>\n",
       "      <td>0.00</td>\n",
       "      <td>114.71</td>\n",
       "      <td>0.31591</td>\n",
       "      <td>&lt;PayPrin:A1&gt;</td>\n",
       "    </tr>\n",
       "    <tr>\n",
       "      <th>2021-09-20</th>\n",
       "      <td>315.91</td>\n",
       "      <td>1.87</td>\n",
       "      <td>0.00</td>\n",
       "      <td>0.07</td>\n",
       "      <td>1.87</td>\n",
       "      <td>0.31591</td>\n",
       "      <td>&lt;PayInt:A1&gt;</td>\n",
       "    </tr>\n",
       "    <tr>\n",
       "      <th>2021-09-20</th>\n",
       "      <td>200.61</td>\n",
       "      <td>0.00</td>\n",
       "      <td>115.30</td>\n",
       "      <td>0.00</td>\n",
       "      <td>115.30</td>\n",
       "      <td>0.20061</td>\n",
       "      <td>&lt;PayPrin:A1&gt;</td>\n",
       "    </tr>\n",
       "    <tr>\n",
       "      <th>2021-10-20</th>\n",
       "      <td>200.61</td>\n",
       "      <td>1.15</td>\n",
       "      <td>0.00</td>\n",
       "      <td>0.07</td>\n",
       "      <td>1.15</td>\n",
       "      <td>0.20061</td>\n",
       "      <td>&lt;PayInt:A1&gt;</td>\n",
       "    </tr>\n",
       "    <tr>\n",
       "      <th>2021-10-20</th>\n",
       "      <td>84.68</td>\n",
       "      <td>0.00</td>\n",
       "      <td>115.93</td>\n",
       "      <td>0.00</td>\n",
       "      <td>115.93</td>\n",
       "      <td>0.08468</td>\n",
       "      <td>&lt;PayPrin:A1&gt;</td>\n",
       "    </tr>\n",
       "    <tr>\n",
       "      <th>2021-11-20</th>\n",
       "      <td>84.68</td>\n",
       "      <td>0.50</td>\n",
       "      <td>0.00</td>\n",
       "      <td>0.07</td>\n",
       "      <td>0.50</td>\n",
       "      <td>0.08468</td>\n",
       "      <td>&lt;PayInt:A1&gt;</td>\n",
       "    </tr>\n",
       "    <tr>\n",
       "      <th>2021-11-20</th>\n",
       "      <td>0.00</td>\n",
       "      <td>0.00</td>\n",
       "      <td>84.68</td>\n",
       "      <td>0.00</td>\n",
       "      <td>84.68</td>\n",
       "      <td>0.00000</td>\n",
       "      <td>&lt;PayPrin:A1&gt;</td>\n",
       "    </tr>\n",
       "  </tbody>\n",
       "</table>\n",
       "</div>"
      ],
      "text/plain": [
       "            balance  interest  principal  rate    cash   factor          memo\n",
       "date                                                                         \n",
       "2021-06-20  1000.00     15.34       0.00  0.07   15.34  1.00000   <PayInt:A1>\n",
       "2021-06-20   544.86      0.00     455.14  0.00  455.14  0.54486  <PayPrin:A1>\n",
       "2021-07-20   544.86      3.13       0.00  0.07    3.13  0.54486   <PayInt:A1>\n",
       "2021-07-20   430.62      0.00     114.24  0.00  114.24  0.43062  <PayPrin:A1>\n",
       "2021-08-20   430.62      2.56       0.00  0.07    2.56  0.43062   <PayInt:A1>\n",
       "2021-08-20   315.91      0.00     114.71  0.00  114.71  0.31591  <PayPrin:A1>\n",
       "2021-09-20   315.91      1.87       0.00  0.07    1.87  0.31591   <PayInt:A1>\n",
       "2021-09-20   200.61      0.00     115.30  0.00  115.30  0.20061  <PayPrin:A1>\n",
       "2021-10-20   200.61      1.15       0.00  0.07    1.15  0.20061   <PayInt:A1>\n",
       "2021-10-20    84.68      0.00     115.93  0.00  115.93  0.08468  <PayPrin:A1>\n",
       "2021-11-20    84.68      0.50       0.00  0.07    0.50  0.08468   <PayInt:A1>\n",
       "2021-11-20     0.00      0.00      84.68  0.00   84.68  0.00000  <PayPrin:A1>"
      ]
     },
     "execution_count": 70,
     "metadata": {},
     "output_type": "execute_result"
    }
   ],
   "source": [
    "r['bonds']['A1']"
   ]
  },
  {
   "cell_type": "markdown",
   "id": "8520a8f6",
   "metadata": {},
   "source": [
    "#### Access bond pricing"
   ]
  },
  {
   "cell_type": "code",
   "execution_count": 58,
   "id": "76cbb746",
   "metadata": {},
   "outputs": [],
   "source": [
    "if localAPI.server_info['_version']>'0.27.17':\n",
    "    print(r['pricing']['summary'])"
   ]
  },
  {
   "cell_type": "code",
   "execution_count": 59,
   "id": "31d5bb66",
   "metadata": {},
   "outputs": [],
   "source": [
    "if localAPI.server_info['_version']>'0.27.17':\n",
    "    print(r['pricing']['breakdown']['A1'])"
   ]
  },
  {
   "cell_type": "code",
   "execution_count": 71,
   "id": "1ef0ee62",
   "metadata": {},
   "outputs": [
    {
     "name": "stdout",
     "output_type": "stream",
     "text": [
      "{'summary':     pricing  face  WAL  duration  convexity  accure interest\n",
      "A1        0     0    0         0          0                0\n",
      "B         0     0    0         0          0                0, 'breakdown': {'A1': Empty DataFrame\n",
      "Columns: [balance, interest, principal, rate, cash, factor, memo]\n",
      "Index: [], 'B': Empty DataFrame\n",
      "Columns: [balance, interest, principal, rate, cash, factor, memo]\n",
      "Index: []}}\n"
     ]
    }
   ],
   "source": [
    "if localAPI.server_info['_version']<='0.27.17':\n",
    "    print(r['pricing'])"
   ]
  },
  {
   "cell_type": "code",
   "execution_count": null,
   "id": "3d6e9d83",
   "metadata": {},
   "outputs": [],
   "source": []
  }
 ],
 "metadata": {
  "kernelspec": {
   "display_name": "Python 3 (ipykernel)",
   "language": "python",
   "name": "python3"
  },
  "language_info": {
   "codemirror_mode": {
    "name": "ipython",
    "version": 3
   },
   "file_extension": ".py",
   "mimetype": "text/x-python",
   "name": "python",
   "nbconvert_exporter": "python",
   "pygments_lexer": "ipython3",
   "version": "3.11.9"
  }
 },
 "nbformat": 4,
 "nbformat_minor": 5
}
