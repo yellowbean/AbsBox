{
 "cells": [
  {
   "cell_type": "code",
   "execution_count": 3,
   "id": "9953cbe1",
   "metadata": {},
   "outputs": [],
   "source": [
    "def m(x):\n",
    "    match x:\n",
    "        case {\"a\":a,\"b\":b}:\n",
    "            return (a,b)"
   ]
  },
  {
   "cell_type": "code",
   "execution_count": 5,
   "id": "4d72614e",
   "metadata": {},
   "outputs": [],
   "source": [
    "m({\"a\":1})"
   ]
  },
  {
   "cell_type": "code",
   "execution_count": 9,
   "id": "d8912f27",
   "metadata": {},
   "outputs": [
    {
     "data": {
      "text/plain": [
       "dict_items([('a', 1)])"
      ]
     },
     "execution_count": 9,
     "metadata": {},
     "output_type": "execute_result"
    }
   ],
   "source": [
    "{\"a\":1}.items()"
   ]
  },
  {
   "cell_type": "code",
   "execution_count": 4,
   "id": "1c2d561d",
   "metadata": {},
   "outputs": [],
   "source": [
    "v = [[1,2,3],[\"A\",\"B\"]]"
   ]
  },
  {
   "cell_type": "code",
   "execution_count": 5,
   "id": "ae16de0b",
   "metadata": {},
   "outputs": [
    {
     "data": {
      "text/plain": [
       "[1, 2, 3, 'A', 'B']"
      ]
     },
     "execution_count": 5,
     "metadata": {},
     "output_type": "execute_result"
    }
   ],
   "source": [
    "[ b for a in v for b in a]"
   ]
  },
  {
   "cell_type": "code",
   "execution_count": 6,
   "id": "66b53666",
   "metadata": {},
   "outputs": [],
   "source": [
    "import toolz as tz"
   ]
  },
  {
   "cell_type": "code",
   "execution_count": 8,
   "id": "d04e75ee",
   "metadata": {},
   "outputs": [
    {
     "data": {
      "text/plain": [
       "[1, 2, 3, 'A', 'B']"
      ]
     },
     "execution_count": 8,
     "metadata": {},
     "output_type": "execute_result"
    }
   ],
   "source": [
    "\n",
    "list(tz.concat(v))"
   ]
  },
  {
   "cell_type": "code",
   "execution_count": null,
   "id": "fa988687",
   "metadata": {},
   "outputs": [],
   "source": []
  }
 ],
 "metadata": {
  "kernelspec": {
   "display_name": "Python 3 (ipykernel)",
   "language": "python",
   "name": "python3"
  },
  "language_info": {
   "codemirror_mode": {
    "name": "ipython",
    "version": 3
   },
   "file_extension": ".py",
   "mimetype": "text/x-python",
   "name": "python",
   "nbconvert_exporter": "python",
   "pygments_lexer": "ipython3",
   "version": "3.11.6"
  }
 },
 "nbformat": 4,
 "nbformat_minor": 5
}
