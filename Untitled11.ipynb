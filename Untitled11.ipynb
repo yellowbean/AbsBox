{
 "cells": [
  {
   "cell_type": "code",
   "execution_count": 2,
   "id": "d3f93c24",
   "metadata": {},
   "outputs": [],
   "source": [
    "from absbox import API,mkDeal,setDealsBy,prodDealsBy,Generic,SPV\n",
    "from lenses import lens\n",
    "\n",
    "name = \"TEST01\"\n",
    "dates = {\"cutoff\":\"2021-03-01\",\"closing\":\"2021-06-15\",\"firstPay\":\"2021-07-26\"\n",
    "    ,\"payFreq\":[\"DayOfMonth\",20],\"poolFreq\":\"MonthEnd\",\"stated\":\"2030-01-01\"}\n",
    "pool = {'assets':[[\"Mortgage\"\n",
    "        ,{\"originBalance\":2200,\"originRate\":[\"fix\",0.045],\"originTerm\":30\n",
    "          ,\"freq\":\"Monthly\",\"type\":\"Level\",\"originDate\":\"2021-02-01\"}\n",
    "          ,{\"currentBalance\":2200\n",
    "          ,\"currentRate\":0.08\n",
    "          ,\"remainTerm\":20\n",
    "          ,\"status\":\"current\"}]]}\n",
    "accounts = {\"acc01\":{\"balance\":0}}\n",
    "bonds = {\"A1\":{\"balance\":1000\n",
    "            ,\"rate\":0.07\n",
    "            ,\"originBalance\":1000\n",
    "            ,\"originRate\":0.07\n",
    "            ,\"startDate\":\"2020-01-03\"\n",
    "            ,\"rateType\":{\"Fixed\":0.08}\n",
    "            ,\"bondType\":{\"Sequential\":None}}\n",
    "        ,\"B\":{\"balance\":1000\n",
    "            ,\"rate\":0.0\n",
    "            ,\"originBalance\":1000\n",
    "            ,\"originRate\":0.07\n",
    "            ,\"startDate\":\"2020-01-03\"\n",
    "            ,\"rateType\":{\"Fixed\":0.00}\n",
    "            ,\"bondType\":{\"Equity\":None}\n",
    "            }}\n",
    "\n",
    "waterfall = {\"amortizing\":[\n",
    "                [\"accrueAndPayInt\",\"acc01\",[\"A1\"]]\n",
    "                ,[\"payPrin\",\"acc01\",[\"A1\"]]\n",
    "                ,[\"payPrin\",\"acc01\",[\"B\"]]\n",
    "                ,[\"payPrinResidual\",\"acc01\",[\"B\"]]\n",
    "            ]}\n",
    "collects = [[\"CollectedInterest\",\"acc01\"]\n",
    "            ,[\"CollectedPrincipal\",\"acc01\"]\n",
    "            ,[\"CollectedPrepayment\",\"acc01\"]\n",
    "            ,[\"CollectedRecoveries\",\"acc01\"]]\n",
    "\n",
    "deal_data = {\n",
    "    \"name\":name\n",
    "    ,\"dates\":dates\n",
    "    ,\"pool\":pool\n",
    "    ,\"accounts\":accounts\n",
    "    ,\"bonds\":bonds\n",
    "    ,\"waterfall\":waterfall\n",
    "    ,\"collect\":collects\n",
    "    ,\"status\":\"Revolving\"\n",
    "}\n",
    "\n",
    "d = mkDeal(deal_data)"
   ]
  },
  {
   "cell_type": "code",
   "execution_count": 3,
   "id": "bb258758",
   "metadata": {},
   "outputs": [
    {
     "data": {
      "text/plain": [
       "Generic(name='TEST01', dates={'cutoff': '2021-03-01', 'closing': '2021-06-15', 'firstPay': '2021-07-26', 'payFreq': ['DayOfMonth', 20], 'poolFreq': 'MonthEnd', 'stated': '2030-01-01'}, pool={'assets': [['Mortgage', {'originBalance': 2200, 'originRate': ['fix', 0.045], 'originTerm': 30, 'freq': 'Monthly', 'type': 'Level', 'originDate': '2021-02-01'}, {'currentBalance': 2200, 'currentRate': 0.08, 'remainTerm': 20, 'status': 'current'}]]}, accounts=[('acc01', {'balance': 0})], bonds=[('A1', {'balance': 1000, 'rate': 0.07, 'originBalance': 1000, 'originRate': 0.07, 'startDate': '2020-01-03', 'rateType': {'Fixed': 0.08}, 'bondType': {'Sequential': None}}), ('B', {'balance': 1000, 'rate': 0.0, 'originBalance': 1000, 'originRate': 0.07, 'startDate': '2020-01-03', 'rateType': {'Fixed': 0.0}, 'bondType': {'Equity': None}})], fees=[], waterfall={'amortizing': [['accrueAndPayInt', 'acc01', ['A1']], ['payPrin', 'acc01', ['A1']], ['payPrin', 'acc01', ['B']], ['payPrinResidual', 'acc01', ['B']]]}, collection=[['CollectedInterest', 'acc01'], ['CollectedPrincipal', 'acc01'], ['CollectedPrepayment', 'acc01'], ['CollectedRecoveries', 'acc01']], liqFacility=None, rateSwap=None, currencySwap=None, trigger=None, status='Revolving', custom=None, ledgers=None, rateCap=None)"
      ]
     },
     "execution_count": 3,
     "metadata": {},
     "output_type": "execute_result"
    }
   ],
   "source": [
    "d"
   ]
  },
  {
   "cell_type": "code",
   "execution_count": 9,
   "id": "3376a09b",
   "metadata": {},
   "outputs": [
    {
     "data": {
      "text/plain": [
       "('A1',\n",
       " {'balance': 1000,\n",
       "  'rate': 0.07,\n",
       "  'originBalance': 1000,\n",
       "  'originRate': 0.07,\n",
       "  'startDate': '2020-01-03',\n",
       "  'rateType': {'Fixed': 0.08},\n",
       "  'bondType': {'Sequential': None}})"
      ]
     },
     "execution_count": 9,
     "metadata": {},
     "output_type": "execute_result"
    }
   ],
   "source": [
    "lens.bonds[0][1]['rate'].get()(d)"
   ]
  },
  {
   "cell_type": "code",
   "execution_count": 10,
   "id": "fdd5c0e9",
   "metadata": {
    "scrolled": true
   },
   "outputs": [
    {
     "data": {
      "text/plain": [
       "{\"((UnboundLens(GetZoomAttrTraversal('dates') & GetitemLens('closing')), '2021-06-15'), (UnboundLens(GetZoomAttrTraversal('bonds') & GetitemLens(0) & GetitemLens(1) & GetitemLens('rate')), 0.06))\": Generic(name='TEST01', dates={'cutoff': '2021-03-01', 'closing': '2021-06-15', 'firstPay': '2021-07-26', 'payFreq': ['DayOfMonth', 20], 'poolFreq': 'MonthEnd', 'stated': '2030-01-01'}, pool={'assets': [['Mortgage', {'originBalance': 2200, 'originRate': ['fix', 0.045], 'originTerm': 30, 'freq': 'Monthly', 'type': 'Level', 'originDate': '2021-02-01'}, {'currentBalance': 2200, 'currentRate': 0.08, 'remainTerm': 20, 'status': 'current'}]]}, accounts=[('acc01', {'balance': 0})], bonds=[('A1', {'balance': 1000, 'rate': 0.06, 'originBalance': 1000, 'originRate': 0.07, 'startDate': '2020-01-03', 'rateType': {'Fixed': 0.08}, 'bondType': {'Sequential': None}}), ('B', {'balance': 1000, 'rate': 0.0, 'originBalance': 1000, 'originRate': 0.07, 'startDate': '2020-01-03', 'rateType': {'Fixed': 0.0}, 'bondType': {'Equity': None}})], fees=[], waterfall={'amortizing': [['accrueAndPayInt', 'acc01', ['A1']], ['payPrin', 'acc01', ['A1']], ['payPrin', 'acc01', ['B']], ['payPrinResidual', 'acc01', ['B']]]}, collection=[['CollectedInterest', 'acc01'], ['CollectedPrincipal', 'acc01'], ['CollectedPrepayment', 'acc01'], ['CollectedRecoveries', 'acc01']], liqFacility=None, rateSwap=None, currencySwap=None, trigger=None, status='Revolving', custom=None, ledgers=None, rateCap=None),\n",
       " \"((UnboundLens(GetZoomAttrTraversal('dates') & GetitemLens('closing')), '2021-06-15'), (UnboundLens(GetZoomAttrTraversal('bonds') & GetitemLens(0) & GetitemLens(1) & GetitemLens('rate')), 0.075))\": Generic(name='TEST01', dates={'cutoff': '2021-03-01', 'closing': '2021-06-15', 'firstPay': '2021-07-26', 'payFreq': ['DayOfMonth', 20], 'poolFreq': 'MonthEnd', 'stated': '2030-01-01'}, pool={'assets': [['Mortgage', {'originBalance': 2200, 'originRate': ['fix', 0.045], 'originTerm': 30, 'freq': 'Monthly', 'type': 'Level', 'originDate': '2021-02-01'}, {'currentBalance': 2200, 'currentRate': 0.08, 'remainTerm': 20, 'status': 'current'}]]}, accounts=[('acc01', {'balance': 0})], bonds=[('A1', {'balance': 1000, 'rate': 0.075, 'originBalance': 1000, 'originRate': 0.07, 'startDate': '2020-01-03', 'rateType': {'Fixed': 0.08}, 'bondType': {'Sequential': None}}), ('B', {'balance': 1000, 'rate': 0.0, 'originBalance': 1000, 'originRate': 0.07, 'startDate': '2020-01-03', 'rateType': {'Fixed': 0.0}, 'bondType': {'Equity': None}})], fees=[], waterfall={'amortizing': [['accrueAndPayInt', 'acc01', ['A1']], ['payPrin', 'acc01', ['A1']], ['payPrin', 'acc01', ['B']], ['payPrinResidual', 'acc01', ['B']]]}, collection=[['CollectedInterest', 'acc01'], ['CollectedPrincipal', 'acc01'], ['CollectedPrepayment', 'acc01'], ['CollectedRecoveries', 'acc01']], liqFacility=None, rateSwap=None, currencySwap=None, trigger=None, status='Revolving', custom=None, ledgers=None, rateCap=None),\n",
       " \"((UnboundLens(GetZoomAttrTraversal('dates') & GetitemLens('closing')), '2021-08-15'), (UnboundLens(GetZoomAttrTraversal('bonds') & GetitemLens(0) & GetitemLens(1) & GetitemLens('rate')), 0.06))\": Generic(name='TEST01', dates={'cutoff': '2021-03-01', 'closing': '2021-08-15', 'firstPay': '2021-07-26', 'payFreq': ['DayOfMonth', 20], 'poolFreq': 'MonthEnd', 'stated': '2030-01-01'}, pool={'assets': [['Mortgage', {'originBalance': 2200, 'originRate': ['fix', 0.045], 'originTerm': 30, 'freq': 'Monthly', 'type': 'Level', 'originDate': '2021-02-01'}, {'currentBalance': 2200, 'currentRate': 0.08, 'remainTerm': 20, 'status': 'current'}]]}, accounts=[('acc01', {'balance': 0})], bonds=[('A1', {'balance': 1000, 'rate': 0.06, 'originBalance': 1000, 'originRate': 0.07, 'startDate': '2020-01-03', 'rateType': {'Fixed': 0.08}, 'bondType': {'Sequential': None}}), ('B', {'balance': 1000, 'rate': 0.0, 'originBalance': 1000, 'originRate': 0.07, 'startDate': '2020-01-03', 'rateType': {'Fixed': 0.0}, 'bondType': {'Equity': None}})], fees=[], waterfall={'amortizing': [['accrueAndPayInt', 'acc01', ['A1']], ['payPrin', 'acc01', ['A1']], ['payPrin', 'acc01', ['B']], ['payPrinResidual', 'acc01', ['B']]]}, collection=[['CollectedInterest', 'acc01'], ['CollectedPrincipal', 'acc01'], ['CollectedPrepayment', 'acc01'], ['CollectedRecoveries', 'acc01']], liqFacility=None, rateSwap=None, currencySwap=None, trigger=None, status='Revolving', custom=None, ledgers=None, rateCap=None),\n",
       " \"((UnboundLens(GetZoomAttrTraversal('dates') & GetitemLens('closing')), '2021-08-15'), (UnboundLens(GetZoomAttrTraversal('bonds') & GetitemLens(0) & GetitemLens(1) & GetitemLens('rate')), 0.075))\": Generic(name='TEST01', dates={'cutoff': '2021-03-01', 'closing': '2021-08-15', 'firstPay': '2021-07-26', 'payFreq': ['DayOfMonth', 20], 'poolFreq': 'MonthEnd', 'stated': '2030-01-01'}, pool={'assets': [['Mortgage', {'originBalance': 2200, 'originRate': ['fix', 0.045], 'originTerm': 30, 'freq': 'Monthly', 'type': 'Level', 'originDate': '2021-02-01'}, {'currentBalance': 2200, 'currentRate': 0.08, 'remainTerm': 20, 'status': 'current'}]]}, accounts=[('acc01', {'balance': 0})], bonds=[('A1', {'balance': 1000, 'rate': 0.075, 'originBalance': 1000, 'originRate': 0.07, 'startDate': '2020-01-03', 'rateType': {'Fixed': 0.08}, 'bondType': {'Sequential': None}}), ('B', {'balance': 1000, 'rate': 0.0, 'originBalance': 1000, 'originRate': 0.07, 'startDate': '2020-01-03', 'rateType': {'Fixed': 0.0}, 'bondType': {'Equity': None}})], fees=[], waterfall={'amortizing': [['accrueAndPayInt', 'acc01', ['A1']], ['payPrin', 'acc01', ['A1']], ['payPrin', 'acc01', ['B']], ['payPrinResidual', 'acc01', ['B']]]}, collection=[['CollectedInterest', 'acc01'], ['CollectedPrincipal', 'acc01'], ['CollectedPrepayment', 'acc01'], ['CollectedRecoveries', 'acc01']], liqFacility=None, rateSwap=None, currencySwap=None, trigger=None, status='Revolving', custom=None, ledgers=None, rateCap=None)}"
      ]
     },
     "execution_count": 10,
     "metadata": {},
     "output_type": "execute_result"
    }
   ],
   "source": [
    "prodDealsBy(d\n",
    "            ,(lens.dates['closing'],[\"2021-06-15\",\"2021-08-15\"])\n",
    "            ,(lens.bonds[0][1][\"rate\"],[0.06,0.075])\n",
    "           )"
   ]
  },
  {
   "cell_type": "code",
   "execution_count": 11,
   "id": "ee78b497",
   "metadata": {},
   "outputs": [
    {
     "data": {
      "text/plain": [
       "{\"((UnboundLens(GetitemLens('closing')), '2021-06-15'), (UnboundLens(GetitemLens('firstPay')), '2021-07-15'))\": Generic(name='TEST01', dates={'cutoff': '2021-03-01', 'closing': '2021-06-15', 'firstPay': '2021-07-15', 'payFreq': ['DayOfMonth', 20], 'poolFreq': 'MonthEnd', 'stated': '2030-01-01'}, pool={'assets': [['Mortgage', {'originBalance': 2200, 'originRate': ['fix', 0.045], 'originTerm': 30, 'freq': 'Monthly', 'type': 'Level', 'originDate': '2021-02-01'}, {'currentBalance': 2200, 'currentRate': 0.08, 'remainTerm': 20, 'status': 'current'}]]}, accounts=[('acc01', {'balance': 0})], bonds=[('A1', {'balance': 1000, 'rate': 0.07, 'originBalance': 1000, 'originRate': 0.07, 'startDate': '2020-01-03', 'rateType': {'Fixed': 0.08}, 'bondType': {'Sequential': None}}), ('B', {'balance': 1000, 'rate': 0.0, 'originBalance': 1000, 'originRate': 0.07, 'startDate': '2020-01-03', 'rateType': {'Fixed': 0.0}, 'bondType': {'Equity': None}})], fees=[], waterfall={'amortizing': [['accrueAndPayInt', 'acc01', ['A1']], ['payPrin', 'acc01', ['A1']], ['payPrin', 'acc01', ['B']], ['payPrinResidual', 'acc01', ['B']]]}, collection=[['CollectedInterest', 'acc01'], ['CollectedPrincipal', 'acc01'], ['CollectedPrepayment', 'acc01'], ['CollectedRecoveries', 'acc01']], liqFacility=None, rateSwap=None, currencySwap=None, trigger=None, status='Revolving', custom=None, ledgers=None, rateCap=None),\n",
       " \"((UnboundLens(GetitemLens('closing')), '2021-06-15'), (UnboundLens(GetitemLens('firstPay')), '2021-09-15'))\": Generic(name='TEST01', dates={'cutoff': '2021-03-01', 'closing': '2021-06-15', 'firstPay': '2021-09-15', 'payFreq': ['DayOfMonth', 20], 'poolFreq': 'MonthEnd', 'stated': '2030-01-01'}, pool={'assets': [['Mortgage', {'originBalance': 2200, 'originRate': ['fix', 0.045], 'originTerm': 30, 'freq': 'Monthly', 'type': 'Level', 'originDate': '2021-02-01'}, {'currentBalance': 2200, 'currentRate': 0.08, 'remainTerm': 20, 'status': 'current'}]]}, accounts=[('acc01', {'balance': 0})], bonds=[('A1', {'balance': 1000, 'rate': 0.07, 'originBalance': 1000, 'originRate': 0.07, 'startDate': '2020-01-03', 'rateType': {'Fixed': 0.08}, 'bondType': {'Sequential': None}}), ('B', {'balance': 1000, 'rate': 0.0, 'originBalance': 1000, 'originRate': 0.07, 'startDate': '2020-01-03', 'rateType': {'Fixed': 0.0}, 'bondType': {'Equity': None}})], fees=[], waterfall={'amortizing': [['accrueAndPayInt', 'acc01', ['A1']], ['payPrin', 'acc01', ['A1']], ['payPrin', 'acc01', ['B']], ['payPrinResidual', 'acc01', ['B']]]}, collection=[['CollectedInterest', 'acc01'], ['CollectedPrincipal', 'acc01'], ['CollectedPrepayment', 'acc01'], ['CollectedRecoveries', 'acc01']], liqFacility=None, rateSwap=None, currencySwap=None, trigger=None, status='Revolving', custom=None, ledgers=None, rateCap=None),\n",
       " \"((UnboundLens(GetitemLens('closing')), '2021-08-15'), (UnboundLens(GetitemLens('firstPay')), '2021-07-15'))\": Generic(name='TEST01', dates={'cutoff': '2021-03-01', 'closing': '2021-08-15', 'firstPay': '2021-07-15', 'payFreq': ['DayOfMonth', 20], 'poolFreq': 'MonthEnd', 'stated': '2030-01-01'}, pool={'assets': [['Mortgage', {'originBalance': 2200, 'originRate': ['fix', 0.045], 'originTerm': 30, 'freq': 'Monthly', 'type': 'Level', 'originDate': '2021-02-01'}, {'currentBalance': 2200, 'currentRate': 0.08, 'remainTerm': 20, 'status': 'current'}]]}, accounts=[('acc01', {'balance': 0})], bonds=[('A1', {'balance': 1000, 'rate': 0.07, 'originBalance': 1000, 'originRate': 0.07, 'startDate': '2020-01-03', 'rateType': {'Fixed': 0.08}, 'bondType': {'Sequential': None}}), ('B', {'balance': 1000, 'rate': 0.0, 'originBalance': 1000, 'originRate': 0.07, 'startDate': '2020-01-03', 'rateType': {'Fixed': 0.0}, 'bondType': {'Equity': None}})], fees=[], waterfall={'amortizing': [['accrueAndPayInt', 'acc01', ['A1']], ['payPrin', 'acc01', ['A1']], ['payPrin', 'acc01', ['B']], ['payPrinResidual', 'acc01', ['B']]]}, collection=[['CollectedInterest', 'acc01'], ['CollectedPrincipal', 'acc01'], ['CollectedPrepayment', 'acc01'], ['CollectedRecoveries', 'acc01']], liqFacility=None, rateSwap=None, currencySwap=None, trigger=None, status='Revolving', custom=None, ledgers=None, rateCap=None),\n",
       " \"((UnboundLens(GetitemLens('closing')), '2021-08-15'), (UnboundLens(GetitemLens('firstPay')), '2021-09-15'))\": Generic(name='TEST01', dates={'cutoff': '2021-03-01', 'closing': '2021-08-15', 'firstPay': '2021-09-15', 'payFreq': ['DayOfMonth', 20], 'poolFreq': 'MonthEnd', 'stated': '2030-01-01'}, pool={'assets': [['Mortgage', {'originBalance': 2200, 'originRate': ['fix', 0.045], 'originTerm': 30, 'freq': 'Monthly', 'type': 'Level', 'originDate': '2021-02-01'}, {'currentBalance': 2200, 'currentRate': 0.08, 'remainTerm': 20, 'status': 'current'}]]}, accounts=[('acc01', {'balance': 0})], bonds=[('A1', {'balance': 1000, 'rate': 0.07, 'originBalance': 1000, 'originRate': 0.07, 'startDate': '2020-01-03', 'rateType': {'Fixed': 0.08}, 'bondType': {'Sequential': None}}), ('B', {'balance': 1000, 'rate': 0.0, 'originBalance': 1000, 'originRate': 0.07, 'startDate': '2020-01-03', 'rateType': {'Fixed': 0.0}, 'bondType': {'Equity': None}})], fees=[], waterfall={'amortizing': [['accrueAndPayInt', 'acc01', ['A1']], ['payPrin', 'acc01', ['A1']], ['payPrin', 'acc01', ['B']], ['payPrinResidual', 'acc01', ['B']]]}, collection=[['CollectedInterest', 'acc01'], ['CollectedPrincipal', 'acc01'], ['CollectedPrepayment', 'acc01'], ['CollectedRecoveries', 'acc01']], liqFacility=None, rateSwap=None, currencySwap=None, trigger=None, status='Revolving', custom=None, ledgers=None, rateCap=None)}"
      ]
     },
     "execution_count": 11,
     "metadata": {},
     "output_type": "execute_result"
    }
   ],
   "source": [
    "prodDealsBy(d\n",
    "            ,(lens['closing'],[\"2021-06-15\",\"2021-08-15\"])\n",
    "            ,(lens['firstPay'],[\"2021-07-15\",\"2021-09-15\"])\n",
    "            ,init=lens.dates\n",
    "           )"
   ]
  },
  {
   "cell_type": "code",
   "execution_count": 1,
   "id": "aba7f433",
   "metadata": {},
   "outputs": [],
   "source": [
    "a = ['a','b']"
   ]
  },
  {
   "cell_type": "code",
   "execution_count": 2,
   "id": "84452c0b",
   "metadata": {},
   "outputs": [],
   "source": [
    "a.remove('a')"
   ]
  },
  {
   "cell_type": "code",
   "execution_count": 3,
   "id": "c9d4c048",
   "metadata": {},
   "outputs": [
    {
     "data": {
      "text/plain": [
       "['b']"
      ]
     },
     "execution_count": 3,
     "metadata": {},
     "output_type": "execute_result"
    }
   ],
   "source": [
    "a"
   ]
  },
  {
   "cell_type": "code",
   "execution_count": null,
   "id": "599f8b18",
   "metadata": {},
   "outputs": [],
   "source": []
  }
 ],
 "metadata": {
  "kernelspec": {
   "display_name": "Python 3 (ipykernel)",
   "language": "python",
   "name": "python3"
  },
  "language_info": {
   "codemirror_mode": {
    "name": "ipython",
    "version": 3
   },
   "file_extension": ".py",
   "mimetype": "text/x-python",
   "name": "python",
   "nbconvert_exporter": "python",
   "pygments_lexer": "ipython3",
   "version": "3.11.6"
  }
 },
 "nbformat": 4,
 "nbformat_minor": 5
}
