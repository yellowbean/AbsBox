{
 "cells": [
  {
   "cell_type": "markdown",
   "id": "d92411d3",
   "metadata": {},
   "source": [
    "### Trigger by a period-based rate curve"
   ]
  },
  {
   "cell_type": "code",
   "execution_count": 1,
   "id": "426fe99a",
   "metadata": {},
   "outputs": [],
   "source": [
    "from absbox import API,Generic,EnginePath"
   ]
  },
  {
   "cell_type": "code",
   "execution_count": 2,
   "id": "bccf1e85",
   "metadata": {},
   "outputs": [],
   "source": [
    "test01 = Generic(\n",
    "    \"TriggerByPeriod\"\n",
    "    ,{\"cutoff\":\"2021-03-01\",\"closing\":\"2021-06-15\",\"firstPay\":\"2021-07-26\"\n",
    "     ,\"payFreq\":[\"DayOfMonth\",20],\"poolFreq\":\"MonthEnd\",\"stated\":\"2030-01-01\"}\n",
    "    ,{'assets':[[\"Mortgage\"\n",
    "        ,{\"originBalance\":1800,\"originRate\":[\"fix\",0.045],\"originTerm\":30\n",
    "          ,\"freq\":\"Monthly\",\"type\":\"Level\",\"originDate\":\"2021-02-01\"}\n",
    "          ,{\"currentBalance\":1100\n",
    "          ,\"currentRate\":0.08\n",
    "          ,\"remainTerm\":30\n",
    "          ,\"status\":\"current\"}]]}\n",
    "    ,((\"acc01\",{\"balance\":0}),)\n",
    "    ,((\"A1\",{\"balance\":1000\n",
    "             ,\"rate\":0.07\n",
    "             ,\"originBalance\":1000\n",
    "             ,\"originRate\":0.07\n",
    "             ,\"startDate\":\"2020-01-03\"\n",
    "             ,\"rateType\":{\"Fixed\":0.08}\n",
    "             ,\"bondType\":{\"Sequential\":None}})\n",
    "      ,(\"B\",{\"balance\":1000\n",
    "             ,\"rate\":0.0\n",
    "             ,\"originBalance\":1000\n",
    "             ,\"originRate\":0.07\n",
    "             ,\"startDate\":\"2020-01-03\"\n",
    "             ,\"rateType\":{\"Fixed\":0.00}\n",
    "             ,\"bondType\":{\"Equity\":None}\n",
    "             }))\n",
    "    ,((\"trusteeFee\",{\"type\":{\"fixFee\":30},\"feeStart\":\"2021-06-15\"}),)\n",
    "    ,{\"amortizing\":[\n",
    "         [\"payFee\",\"acc01\",['trusteeFee']]\n",
    "         ,[\"payInt\",\"acc01\",[\"A1\"]]\n",
    "         ,[\"payPrin\",\"acc01\",[\"A1\"]]\n",
    "         ,[\"payPrin\",\"acc01\",[\"B\"]]\n",
    "         ,[\"payIntResidual\",\"acc01\",\"B\"]\n",
    "     ]}\n",
    "    ,[[\"CollectedInterest\",\"acc01\"]\n",
    "      ,[\"CollectedPrincipal\",\"acc01\"]\n",
    "      ,[\"CollectedPrepayment\",\"acc01\"]\n",
    "      ,[\"CollectedRecoveries\",\"acc01\"]]\n",
    "    ,None\n",
    "    ,None\n",
    "    ,None\n",
    "    ,{\n",
    "        \"BeforeDistribution\":{\"periodTest\":{\n",
    "            \"condition\": [\"periodRateCurve\", (\"cumPoolDefaultedRate\",)\n",
    "                                       , \">=\", (\"dealStat\",\"int\",\"BondPaidPeriod\")\n",
    "                                       ,[[0,0.014]\n",
    "                                        ,[12,0.035]\n",
    "                                        ,[24,0.06]]\n",
    "                         ]\n",
    "            ,\"effects\":(\"newStatus\",\"Ended\")\n",
    "            ,\"status\":False\n",
    "            ,\"curable\":False}\n",
    "        }\n",
    "    }\n",
    "    ,(\"PreClosing\",\"Amortizing\")\n",
    "    ,None\n",
    "    ,None\n",
    "    ,None\n",
    "    ,{\"BondPaidPeriod\":0}\n",
    ")"
   ]
  },
  {
   "cell_type": "code",
   "execution_count": 3,
   "id": "33ca4042",
   "metadata": {},
   "outputs": [
    {
     "data": {
      "text/html": [
       "<pre style=\"white-space:pre;overflow-x:auto;line-height:normal;font-family:Menlo,'DejaVu Sans Mono',consolas,'Courier New',monospace\">Connecting engine server -&gt; <span style=\"color: #0000ff; text-decoration-color: #0000ff; text-decoration: underline\">https://absbox.org/api/dev</span>\n",
       "</pre>\n"
      ],
      "text/plain": [
       "Connecting engine server -> \u001b[4;94mhttps://absbox.org/api/dev\u001b[0m\n"
      ]
     },
     "metadata": {},
     "output_type": "display_data"
    },
    {
     "name": "stderr",
     "output_type": "stream",
     "text": [
      "/home/xiaoyu/repo/AbsBox/lib/python3.13/site-packages/urllib3/connectionpool.py:1097: InsecureRequestWarning: Unverified HTTPS request is being made to host 'absbox.org'. Adding certificate verification is strongly advised. See: https://urllib3.readthedocs.io/en/latest/advanced-usage.html#tls-warnings\n",
      "  warnings.warn(\n"
     ]
    },
    {
     "data": {
      "text/html": [
       "<pre style=\"white-space:pre;overflow-x:auto;line-height:normal;font-family:Menlo,'DejaVu Sans Mono',consolas,'Courier New',monospace\">✅Connected, local li<span style=\"color: #00ff00; text-decoration-color: #00ff00; font-weight: bold\">b:0</span>.<span style=\"color: #008080; text-decoration-color: #008080; font-weight: bold\">46.5</span>, server:<span style=\"color: #008080; text-decoration-color: #008080; font-weight: bold\">0.50</span>.<span style=\"color: #008080; text-decoration-color: #008080; font-weight: bold\">1</span>\n",
       "</pre>\n"
      ],
      "text/plain": [
       "✅Connected, local li\u001b[1;92mb:0\u001b[0m.\u001b[1;36m46.5\u001b[0m, server:\u001b[1;36m0.50\u001b[0m.\u001b[1;36m1\u001b[0m\n"
      ]
     },
     "metadata": {},
     "output_type": "display_data"
    }
   ],
   "source": [
    "localAPI = API(EnginePath.DEV,check=False)"
   ]
  },
  {
   "cell_type": "code",
   "execution_count": 4,
   "id": "83f7a2f5",
   "metadata": {},
   "outputs": [
    {
     "name": "stderr",
     "output_type": "stream",
     "text": [
      "/home/xiaoyu/repo/AbsBox/lib/python3.13/site-packages/urllib3/connectionpool.py:1097: InsecureRequestWarning: Unverified HTTPS request is being made to host 'absbox.org'. Adding certificate verification is strongly advised. See: https://urllib3.readthedocs.io/en/latest/advanced-usage.html#tls-warnings\n",
      "  warnings.warn(\n"
     ]
    },
    {
     "ename": "EngineError",
     "evalue": "Error in $.triggers.BeginDistributionWF.periodTest.trgEffects: key \"contents\" not found",
     "output_type": "error",
     "traceback": [
      "\u001b[31m---------------------------------------------------------------------------\u001b[39m",
      "\u001b[31mEngineError\u001b[39m                               Traceback (most recent call last)",
      "\u001b[36mCell\u001b[39m\u001b[36m \u001b[39m\u001b[32mIn[4]\u001b[39m\u001b[32m, line 1\u001b[39m\n\u001b[32m----> \u001b[39m\u001b[32m1\u001b[39m r = \u001b[43mlocalAPI\u001b[49m\u001b[43m.\u001b[49m\u001b[43mrun\u001b[49m\u001b[43m(\u001b[49m\u001b[43mtest01\u001b[49m\n\u001b[32m      2\u001b[39m \u001b[43m                 \u001b[49m\u001b[43m,\u001b[49m\u001b[43mpoolAssump\u001b[49m\u001b[43m \u001b[49m\u001b[43m=\u001b[49m\u001b[43m \u001b[49m\u001b[43m(\u001b[49m\u001b[33;43m\"\u001b[39;49m\u001b[33;43mPool\u001b[39;49m\u001b[33;43m\"\u001b[39;49m\u001b[43m,\u001b[49m\u001b[43m(\u001b[49m\u001b[33;43m\"\u001b[39;49m\u001b[33;43mMortgage\u001b[39;49m\u001b[33;43m\"\u001b[39;49m\u001b[43m,\u001b[49m\u001b[43m{\u001b[49m\u001b[33;43m\"\u001b[39;49m\u001b[33;43mCDR\u001b[39;49m\u001b[33;43m\"\u001b[39;49m\u001b[43m:\u001b[49m\u001b[32;43m0.02\u001b[39;49m\u001b[43m}\u001b[49m\u001b[43m,\u001b[49m\u001b[38;5;28;43;01mNone\u001b[39;49;00m\u001b[43m,\u001b[49m\u001b[38;5;28;43;01mNone\u001b[39;49;00m\u001b[43m,\u001b[49m\u001b[38;5;28;43;01mNone\u001b[39;49;00m\u001b[43m)\u001b[49m\n\u001b[32m      3\u001b[39m \u001b[43m                                       \u001b[49m\u001b[43m,\u001b[49m\u001b[38;5;28;43;01mNone\u001b[39;49;00m\n\u001b[32m      4\u001b[39m \u001b[43m                                       \u001b[49m\u001b[43m,\u001b[49m\u001b[38;5;28;43;01mNone\u001b[39;49;00m\u001b[43m)\u001b[49m\n\u001b[32m      5\u001b[39m \u001b[43m                 \u001b[49m\u001b[43m,\u001b[49m\u001b[43mread\u001b[49m\u001b[43m=\u001b[49m\u001b[38;5;28;43;01mTrue\u001b[39;49;00m\u001b[43m)\u001b[49m\n",
      "\u001b[36mFile \u001b[39m\u001b[32m~/repo/AbsBox/absbox/client.py:357\u001b[39m, in \u001b[36mAPI.run\u001b[39m\u001b[34m(self, deal, poolAssump, runAssump, read, showWarning, rtn, debug)\u001b[39m\n\u001b[32m    354\u001b[39m \u001b[38;5;28;01mif\u001b[39;00m debug:\n\u001b[32m    355\u001b[39m     \u001b[38;5;28;01mreturn\u001b[39;00m req\n\u001b[32m--> \u001b[39m\u001b[32m357\u001b[39m result = \u001b[38;5;28;43mself\u001b[39;49m\u001b[43m.\u001b[49m\u001b[43m_send_req\u001b[49m\u001b[43m(\u001b[49m\u001b[43mreq\u001b[49m\u001b[43m,\u001b[49m\u001b[43m \u001b[49m\u001b[43murl\u001b[49m\u001b[43m)\u001b[49m\n\u001b[32m    359\u001b[39m \u001b[38;5;28;01mif\u001b[39;00m result \u001b[38;5;129;01mis\u001b[39;00m \u001b[38;5;28;01mNone\u001b[39;00m \u001b[38;5;129;01mor\u001b[39;00m \u001b[33m'\u001b[39m\u001b[33merror\u001b[39m\u001b[33m'\u001b[39m \u001b[38;5;129;01min\u001b[39;00m result \u001b[38;5;129;01mor\u001b[39;00m \u001b[33m'\u001b[39m\u001b[33mLeft\u001b[39m\u001b[33m'\u001b[39m \u001b[38;5;129;01min\u001b[39;00m result:\n\u001b[32m    360\u001b[39m     leftVal = result.get(\u001b[33m\"\u001b[39m\u001b[33mLeft\u001b[39m\u001b[33m\"\u001b[39m,\u001b[33m\"\u001b[39m\u001b[33m\"\u001b[39m)\n",
      "\u001b[36mFile \u001b[39m\u001b[32m~/repo/AbsBox/absbox/client.py:825\u001b[39m, in \u001b[36mAPI._send_req\u001b[39m\u001b[34m(self, _req, _url, timeout, headers)\u001b[39m\n\u001b[32m    823\u001b[39m     \u001b[38;5;28;01mraise\u001b[39;00m AbsboxError(\u001b[33m\"\u001b[39m\u001b[33m❌ Failed to get response from server\u001b[39m\u001b[33m\"\u001b[39m)\n\u001b[32m    824\u001b[39m \u001b[38;5;28;01mif\u001b[39;00m r.status_code != \u001b[32m200\u001b[39m:\n\u001b[32m--> \u001b[39m\u001b[32m825\u001b[39m     \u001b[38;5;28;01mraise\u001b[39;00m EngineError(r)\n\u001b[32m    826\u001b[39m \u001b[38;5;28;01mtry\u001b[39;00m:\n\u001b[32m    827\u001b[39m     \u001b[38;5;28;01mreturn\u001b[39;00m json.loads(r.text)\n",
      "\u001b[31mEngineError\u001b[39m: Error in $.triggers.BeginDistributionWF.periodTest.trgEffects: key \"contents\" not found"
     ]
    }
   ],
   "source": [
    "r = localAPI.run(test01\n",
    "                 ,poolAssump = (\"Pool\",(\"Mortgage\",{\"CDR\":0.02},None,None,None)\n",
    "                                       ,None\n",
    "                                       ,None)\n",
    "                 ,read=True)"
   ]
  },
  {
   "cell_type": "code",
   "execution_count": 22,
   "id": "315c009c",
   "metadata": {},
   "outputs": [
    {
     "data": {
      "text/html": [
       "<div>\n",
       "<style scoped>\n",
       "    .dataframe tbody tr th:only-of-type {\n",
       "        vertical-align: middle;\n",
       "    }\n",
       "\n",
       "    .dataframe tbody tr th {\n",
       "        vertical-align: top;\n",
       "    }\n",
       "\n",
       "    .dataframe thead th {\n",
       "        text-align: right;\n",
       "    }\n",
       "</style>\n",
       "<table border=\"1\" class=\"dataframe\">\n",
       "  <thead>\n",
       "    <tr style=\"text-align: right;\">\n",
       "      <th></th>\n",
       "      <th>status</th>\n",
       "      <th>memo</th>\n",
       "    </tr>\n",
       "    <tr>\n",
       "      <th>date</th>\n",
       "      <th></th>\n",
       "      <th></th>\n",
       "    </tr>\n",
       "  </thead>\n",
       "  <tbody>\n",
       "    <tr>\n",
       "      <th>2021-07-26</th>\n",
       "      <td>False</td>\n",
       "      <td>&lt;Tag:Right 6.290909090909091e-3 GE Just 1.4e-2&gt;</td>\n",
       "    </tr>\n",
       "    <tr>\n",
       "      <th>2021-08-20</th>\n",
       "      <td>False</td>\n",
       "      <td>&lt;Tag:Right 7.736363636363637e-3 GE Just 1.4e-2&gt;</td>\n",
       "    </tr>\n",
       "    <tr>\n",
       "      <th>2021-09-20</th>\n",
       "      <td>False</td>\n",
       "      <td>&lt;Tag:Right 9.172727272727273e-3 GE Just 1.4e-2&gt;</td>\n",
       "    </tr>\n",
       "    <tr>\n",
       "      <th>2021-10-20</th>\n",
       "      <td>False</td>\n",
       "      <td>&lt;Tag:Right 1.0554545454545455e-2 GE Just 1.4e-2&gt;</td>\n",
       "    </tr>\n",
       "    <tr>\n",
       "      <th>2021-11-20</th>\n",
       "      <td>False</td>\n",
       "      <td>&lt;Tag:Right 1.1836363636363636e-2 GE Just 1.4e-2&gt;</td>\n",
       "    </tr>\n",
       "    <tr>\n",
       "      <th>2021-12-20</th>\n",
       "      <td>False</td>\n",
       "      <td>&lt;Tag:Right 1.3109090909090909e-2 GE Just 1.4e-2&gt;</td>\n",
       "    </tr>\n",
       "    <tr>\n",
       "      <th>2022-01-20</th>\n",
       "      <td>True</td>\n",
       "      <td>&lt;Tag:Right 1.4281818181818182e-2 GE Just 1.4e-2&gt;</td>\n",
       "    </tr>\n",
       "  </tbody>\n",
       "</table>\n",
       "</div>"
      ],
      "text/plain": [
       "            status                                              memo\n",
       "date                                                                \n",
       "2021-07-26   False   <Tag:Right 6.290909090909091e-3 GE Just 1.4e-2>\n",
       "2021-08-20   False   <Tag:Right 7.736363636363637e-3 GE Just 1.4e-2>\n",
       "2021-09-20   False   <Tag:Right 9.172727272727273e-3 GE Just 1.4e-2>\n",
       "2021-10-20   False  <Tag:Right 1.0554545454545455e-2 GE Just 1.4e-2>\n",
       "2021-11-20   False  <Tag:Right 1.1836363636363636e-2 GE Just 1.4e-2>\n",
       "2021-12-20   False  <Tag:Right 1.3109090909090909e-2 GE Just 1.4e-2>\n",
       "2022-01-20    True  <Tag:Right 1.4281818181818182e-2 GE Just 1.4e-2>"
      ]
     },
     "execution_count": 22,
     "metadata": {},
     "output_type": "execute_result"
    }
   ],
   "source": [
    "r['triggers']['BeginDistributionWF']['periodTest']"
   ]
  }
 ],
 "metadata": {
  "kernelspec": {
   "display_name": "Python 3 (ipykernel)",
   "language": "python",
   "name": "python3"
  },
  "language_info": {
   "codemirror_mode": {
    "name": "ipython",
    "version": 3
   },
   "file_extension": ".py",
   "mimetype": "text/x-python",
   "name": "python",
   "nbconvert_exporter": "python",
   "pygments_lexer": "ipython3",
   "version": "3.13.3"
  }
 },
 "nbformat": 4,
 "nbformat_minor": 5
}
