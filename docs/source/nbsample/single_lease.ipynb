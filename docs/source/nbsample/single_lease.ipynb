{
 "cells": [
  {
   "cell_type": "markdown",
   "metadata": {},
   "source": [
    "### Lease"
   ]
  },
  {
   "cell_type": "code",
   "execution_count": 1,
   "metadata": {},
   "outputs": [],
   "source": [
    "%load_ext autoreload\n",
    "%autoreload 2"
   ]
  },
  {
   "cell_type": "code",
   "execution_count": 2,
   "metadata": {},
   "outputs": [
    {
     "data": {
      "text/html": [
       "<pre style=\"white-space:pre;overflow-x:auto;line-height:normal;font-family:Menlo,'DejaVu Sans Mono',consolas,'Courier New',monospace\"><span style=\"color: #800080; text-decoration-color: #800080; font-weight: bold\">Connecting engine server -&gt; </span><span style=\"color: #800080; text-decoration-color: #800080; font-weight: bold; text-decoration: underline\">http://localhost:8081</span>\n",
       "</pre>\n"
      ],
      "text/plain": [
       "\u001b[1;35mConnecting engine server -> \u001b[0m\u001b[1;4;35mhttp://localhost:8081\u001b[0m\n"
      ]
     },
     "metadata": {},
     "output_type": "display_data"
    },
    {
     "data": {
      "text/html": [
       "<pre style=\"white-space:pre;overflow-x:auto;line-height:normal;font-family:Menlo,'DejaVu Sans Mono',consolas,'Courier New',monospace\">✅<span style=\"color: #008000; text-decoration-color: #008000; font-weight: bold\">Connected, local lib:0.</span><span style=\"color: #008000; text-decoration-color: #008000; font-weight: bold\">28.7</span><span style=\"color: #008000; text-decoration-color: #008000; font-weight: bold\">, server:</span><span style=\"color: #008000; text-decoration-color: #008000; font-weight: bold\">0.42</span><span style=\"color: #008000; text-decoration-color: #008000; font-weight: bold\">.</span><span style=\"color: #008000; text-decoration-color: #008000; font-weight: bold\">12</span>\n",
       "</pre>\n"
      ],
      "text/plain": [
       "✅\u001b[1;32mConnected, local li\u001b[0m\u001b[1;32mb:0\u001b[0m\u001b[1;32m.\u001b[0m\u001b[1;32m28.7\u001b[0m\u001b[1;32m, server:\u001b[0m\u001b[1;32m0.42\u001b[0m\u001b[1;32m.\u001b[0m\u001b[1;32m12\u001b[0m\n"
      ]
     },
     "metadata": {},
     "output_type": "display_data"
    }
   ],
   "source": [
    "from absbox import API,EnginePath\n",
    "\n",
    "localAPI = API(EnginePath.LOCAL ,lang='english',check=False)"
   ]
  },
  {
   "cell_type": "markdown",
   "metadata": {},
   "source": [
    "#### Simple Lease\n",
    "\n",
    "Each rental on all periods are same during life time of lease"
   ]
  },
  {
   "cell_type": "code",
   "execution_count": 37,
   "metadata": {},
   "outputs": [
    {
     "data": {
      "text/html": [
       "<div>\n",
       "<style scoped>\n",
       "    .dataframe tbody tr th:only-of-type {\n",
       "        vertical-align: middle;\n",
       "    }\n",
       "\n",
       "    .dataframe tbody tr th {\n",
       "        vertical-align: top;\n",
       "    }\n",
       "\n",
       "    .dataframe thead th {\n",
       "        text-align: right;\n",
       "    }\n",
       "</style>\n",
       "<table border=\"1\" class=\"dataframe\">\n",
       "  <thead>\n",
       "    <tr style=\"text-align: right;\">\n",
       "      <th></th>\n",
       "      <th>Balance</th>\n",
       "      <th>Rental</th>\n",
       "    </tr>\n",
       "    <tr>\n",
       "      <th>Date</th>\n",
       "      <th></th>\n",
       "      <th></th>\n",
       "    </tr>\n",
       "  </thead>\n",
       "  <tbody>\n",
       "    <tr>\n",
       "      <th>2022-01-15</th>\n",
       "      <td>1812</td>\n",
       "      <td>120</td>\n",
       "    </tr>\n",
       "    <tr>\n",
       "      <th>2022-02-15</th>\n",
       "      <td>1440</td>\n",
       "      <td>372</td>\n",
       "    </tr>\n",
       "    <tr>\n",
       "      <th>2022-03-15</th>\n",
       "      <td>1104</td>\n",
       "      <td>336</td>\n",
       "    </tr>\n",
       "    <tr>\n",
       "      <th>2022-04-15</th>\n",
       "      <td>732</td>\n",
       "      <td>372</td>\n",
       "    </tr>\n",
       "    <tr>\n",
       "      <th>2022-05-15</th>\n",
       "      <td>372</td>\n",
       "      <td>360</td>\n",
       "    </tr>\n",
       "    <tr>\n",
       "      <th>2022-06-15</th>\n",
       "      <td>0</td>\n",
       "      <td>372</td>\n",
       "    </tr>\n",
       "  </tbody>\n",
       "</table>\n",
       "</div>"
      ],
      "text/plain": [
       "            Balance  Rental\n",
       "Date                       \n",
       "2022-01-15     1812     120\n",
       "2022-02-15     1440     372\n",
       "2022-03-15     1104     336\n",
       "2022-04-15      732     372\n",
       "2022-05-15      372     360\n",
       "2022-06-15        0     372"
      ]
     },
     "execution_count": 37,
     "metadata": {},
     "output_type": "execute_result"
    }
   ],
   "source": [
    "lease = [\"Lease\"\n",
    "            ,{\"fixRental\": 12.0\n",
    "            ,\"originTerm\": 6\n",
    "            ,\"freq\": [\"DayOfMonth\",15]\n",
    "            ,\"originDate\": \"2022-01-05\"\n",
    "            ,\"status\":\"Current\"\n",
    "            ,\"remainTerm\": 6}]\n",
    "\n",
    "r = localAPI.runAsset(\"2022-01-02\"\n",
    "                     ,[lease]\n",
    "                     ,poolAssump=(\"Pool\"\n",
    "                                    ,(\"Lease\",None, {\"Days\":60}, (\"byAnnualRate\",0.00), (\"byExtTimes\",0))\n",
    "                                    ,None\n",
    "                                    ,None)\n",
    "                     ,read=True)\n",
    "r[0]"
   ]
  },
  {
   "cell_type": "markdown",
   "metadata": {},
   "source": [
    "With aging lease ( remain term = 3 )"
   ]
  },
  {
   "cell_type": "code",
   "execution_count": 39,
   "metadata": {},
   "outputs": [
    {
     "data": {
      "text/html": [
       "<div>\n",
       "<style scoped>\n",
       "    .dataframe tbody tr th:only-of-type {\n",
       "        vertical-align: middle;\n",
       "    }\n",
       "\n",
       "    .dataframe tbody tr th {\n",
       "        vertical-align: top;\n",
       "    }\n",
       "\n",
       "    .dataframe thead th {\n",
       "        text-align: right;\n",
       "    }\n",
       "</style>\n",
       "<table border=\"1\" class=\"dataframe\">\n",
       "  <thead>\n",
       "    <tr style=\"text-align: right;\">\n",
       "      <th></th>\n",
       "      <th>Balance</th>\n",
       "      <th>Rental</th>\n",
       "    </tr>\n",
       "    <tr>\n",
       "      <th>Date</th>\n",
       "      <th></th>\n",
       "      <th></th>\n",
       "    </tr>\n",
       "  </thead>\n",
       "  <tbody>\n",
       "    <tr>\n",
       "      <th>2022-04-15</th>\n",
       "      <td>732</td>\n",
       "      <td>372</td>\n",
       "    </tr>\n",
       "    <tr>\n",
       "      <th>2022-05-15</th>\n",
       "      <td>372</td>\n",
       "      <td>360</td>\n",
       "    </tr>\n",
       "    <tr>\n",
       "      <th>2022-06-15</th>\n",
       "      <td>0</td>\n",
       "      <td>372</td>\n",
       "    </tr>\n",
       "  </tbody>\n",
       "</table>\n",
       "</div>"
      ],
      "text/plain": [
       "            Balance  Rental\n",
       "Date                       \n",
       "2022-04-15      732     372\n",
       "2022-05-15      372     360\n",
       "2022-06-15        0     372"
      ]
     },
     "execution_count": 39,
     "metadata": {},
     "output_type": "execute_result"
    }
   ],
   "source": [
    "lease = [\"Lease\"\n",
    "            ,{\"fixRental\": 12.0\n",
    "            ,\"originTerm\": 6\n",
    "            ,\"freq\": [\"DayOfMonth\",15]\n",
    "            ,\"originDate\": \"2022-01-05\"\n",
    "            ,\"status\":\"Current\"\n",
    "            ,\"remainTerm\": 3}]\n",
    "\n",
    "r = localAPI.runAsset(\"2022-01-02\"\n",
    "                     ,[lease]\n",
    "                     ,poolAssump=(\"Pool\"\n",
    "                                    ,(\"Lease\",None, {\"Days\":60}, (\"byAnnualRate\",0.00), (\"byExtTimes\",0))\n",
    "                                    ,None\n",
    "                                    ,None)\n",
    "                     ,read=True)\n",
    "r[0]"
   ]
  },
  {
   "cell_type": "markdown",
   "metadata": {},
   "source": [
    "#### Step Up Lease\n",
    "\n",
    "The payment amount changes during the lease term. It can be :\n",
    "* increase/decrease by a constant rate by each period\n",
    "* increase/decrease by a constant amount by each period\n",
    "* increase/decrease by an amount vector in all periods\n",
    "* increase/decrease by an rate vector in all periods\n",
    "\n",
    "##### Increase/decrease by constant rate\n",
    "\n",
    "On each payment period, rental increase by 10%"
   ]
  },
  {
   "cell_type": "code",
   "execution_count": 18,
   "metadata": {},
   "outputs": [
    {
     "data": {
      "text/html": [
       "<div>\n",
       "<style scoped>\n",
       "    .dataframe tbody tr th:only-of-type {\n",
       "        vertical-align: middle;\n",
       "    }\n",
       "\n",
       "    .dataframe tbody tr th {\n",
       "        vertical-align: top;\n",
       "    }\n",
       "\n",
       "    .dataframe thead th {\n",
       "        text-align: right;\n",
       "    }\n",
       "</style>\n",
       "<table border=\"1\" class=\"dataframe\">\n",
       "  <thead>\n",
       "    <tr style=\"text-align: right;\">\n",
       "      <th></th>\n",
       "      <th>Balance</th>\n",
       "      <th>Rental</th>\n",
       "    </tr>\n",
       "    <tr>\n",
       "      <th>Date</th>\n",
       "      <th></th>\n",
       "      <th></th>\n",
       "    </tr>\n",
       "  </thead>\n",
       "  <tbody>\n",
       "    <tr>\n",
       "      <th>2022-01-15</th>\n",
       "      <td>1310.83</td>\n",
       "      <td>120.00</td>\n",
       "    </tr>\n",
       "    <tr>\n",
       "      <th>2022-02-15</th>\n",
       "      <td>901.63</td>\n",
       "      <td>409.20</td>\n",
       "    </tr>\n",
       "    <tr>\n",
       "      <th>2022-03-15</th>\n",
       "      <td>495.07</td>\n",
       "      <td>406.56</td>\n",
       "    </tr>\n",
       "    <tr>\n",
       "      <th>2022-04-15</th>\n",
       "      <td>0.00</td>\n",
       "      <td>495.07</td>\n",
       "    </tr>\n",
       "  </tbody>\n",
       "</table>\n",
       "</div>"
      ],
      "text/plain": [
       "            Balance  Rental\n",
       "Date                       \n",
       "2022-01-15  1310.83  120.00\n",
       "2022-02-15   901.63  409.20\n",
       "2022-03-15   495.07  406.56\n",
       "2022-04-15     0.00  495.07"
      ]
     },
     "execution_count": 18,
     "metadata": {},
     "output_type": "execute_result"
    }
   ],
   "source": [
    "leaseStepUp = [\"Lease\"\n",
    "                ,{\"initRental\": 12.0\n",
    "                ,\"stepUp\":(\"flatRate\",1.1)\n",
    "                ,\"originTerm\": 4\n",
    "                ,\"freq\": [\"DayOfMonth\",15]\n",
    "                ,\"originDate\": \"2022-01-05\"\n",
    "                ,\"status\":\"Current\"\n",
    "                ,\"remainTerm\": 4}\n",
    "              ]\n",
    "r = localAPI.runAsset(\"2022-01-02\"\n",
    "                     ,[leaseStepUp]\n",
    "                     ,poolAssump=(\"Pool\"\n",
    "                                    ,(\"Lease\",None, {\"Days\":60}, (\"byAnnualRate\",0.00), (\"byExtTimes\",0))\n",
    "                                    ,None\n",
    "                                    ,None)\n",
    "                     ,read=True)\n",
    "\n",
    "r[0]"
   ]
  },
  {
   "cell_type": "markdown",
   "metadata": {},
   "source": [
    "On each payment period, rental increase by 1$"
   ]
  },
  {
   "cell_type": "code",
   "execution_count": 19,
   "metadata": {},
   "outputs": [
    {
     "data": {
      "text/html": [
       "<div>\n",
       "<style scoped>\n",
       "    .dataframe tbody tr th:only-of-type {\n",
       "        vertical-align: middle;\n",
       "    }\n",
       "\n",
       "    .dataframe tbody tr th {\n",
       "        vertical-align: top;\n",
       "    }\n",
       "\n",
       "    .dataframe thead th {\n",
       "        text-align: right;\n",
       "    }\n",
       "</style>\n",
       "<table border=\"1\" class=\"dataframe\">\n",
       "  <thead>\n",
       "    <tr style=\"text-align: right;\">\n",
       "      <th></th>\n",
       "      <th>Balance</th>\n",
       "      <th>Rental</th>\n",
       "    </tr>\n",
       "    <tr>\n",
       "      <th>Date</th>\n",
       "      <th></th>\n",
       "      <th></th>\n",
       "    </tr>\n",
       "  </thead>\n",
       "  <tbody>\n",
       "    <tr>\n",
       "      <th>2022-01-15</th>\n",
       "      <td>2267</td>\n",
       "      <td>120</td>\n",
       "    </tr>\n",
       "    <tr>\n",
       "      <th>2022-02-15</th>\n",
       "      <td>1864</td>\n",
       "      <td>403</td>\n",
       "    </tr>\n",
       "    <tr>\n",
       "      <th>2022-03-15</th>\n",
       "      <td>1472</td>\n",
       "      <td>392</td>\n",
       "    </tr>\n",
       "    <tr>\n",
       "      <th>2022-04-15</th>\n",
       "      <td>1007</td>\n",
       "      <td>465</td>\n",
       "    </tr>\n",
       "    <tr>\n",
       "      <th>2022-05-15</th>\n",
       "      <td>527</td>\n",
       "      <td>480</td>\n",
       "    </tr>\n",
       "    <tr>\n",
       "      <th>2022-06-15</th>\n",
       "      <td>0</td>\n",
       "      <td>527</td>\n",
       "    </tr>\n",
       "  </tbody>\n",
       "</table>\n",
       "</div>"
      ],
      "text/plain": [
       "            Balance  Rental\n",
       "Date                       \n",
       "2022-01-15     2267     120\n",
       "2022-02-15     1864     403\n",
       "2022-03-15     1472     392\n",
       "2022-04-15     1007     465\n",
       "2022-05-15      527     480\n",
       "2022-06-15        0     527"
      ]
     },
     "execution_count": 19,
     "metadata": {},
     "output_type": "execute_result"
    }
   ],
   "source": [
    "leaseStepUp = [\"Lease\"\n",
    "                ,{\"initRental\": 12.0\n",
    "                ,\"stepUp\":(\"flatAmount\",1.0)\n",
    "                ,\"originTerm\": 6\n",
    "                ,\"freq\": [\"DayOfMonth\",15]\n",
    "                ,\"originDate\": \"2022-01-05\"\n",
    "                ,\"status\":\"Current\"\n",
    "                ,\"remainTerm\": 6}\n",
    "              ]\n",
    "r = localAPI.runAsset(\"2022-01-02\"\n",
    "                     ,[leaseStepUp]\n",
    "                     ,poolAssump=(\"Pool\"\n",
    "                                    ,(\"Lease\",None, {\"Days\":60}, (\"byAnnualRate\",0.00), (\"byExtTimes\",0))\n",
    "                                    ,None\n",
    "                                    ,None)\n",
    "                     ,read=True)\n",
    "\n",
    "r[0]"
   ]
  },
  {
   "cell_type": "markdown",
   "metadata": {},
   "source": [
    "User can set rental change by rate on each payment period"
   ]
  },
  {
   "cell_type": "code",
   "execution_count": 26,
   "metadata": {},
   "outputs": [
    {
     "data": {
      "text/html": [
       "<div>\n",
       "<style scoped>\n",
       "    .dataframe tbody tr th:only-of-type {\n",
       "        vertical-align: middle;\n",
       "    }\n",
       "\n",
       "    .dataframe tbody tr th {\n",
       "        vertical-align: top;\n",
       "    }\n",
       "\n",
       "    .dataframe thead th {\n",
       "        text-align: right;\n",
       "    }\n",
       "</style>\n",
       "<table border=\"1\" class=\"dataframe\">\n",
       "  <thead>\n",
       "    <tr style=\"text-align: right;\">\n",
       "      <th></th>\n",
       "      <th>Balance</th>\n",
       "      <th>Rental</th>\n",
       "    </tr>\n",
       "    <tr>\n",
       "      <th>Date</th>\n",
       "      <th></th>\n",
       "      <th></th>\n",
       "    </tr>\n",
       "  </thead>\n",
       "  <tbody>\n",
       "    <tr>\n",
       "      <th>2022-01-15</th>\n",
       "      <td>2075.04</td>\n",
       "      <td>120.00</td>\n",
       "    </tr>\n",
       "    <tr>\n",
       "      <th>2022-02-15</th>\n",
       "      <td>1665.84</td>\n",
       "      <td>409.20</td>\n",
       "    </tr>\n",
       "    <tr>\n",
       "      <th>2022-03-15</th>\n",
       "      <td>1296.24</td>\n",
       "      <td>369.60</td>\n",
       "    </tr>\n",
       "    <tr>\n",
       "      <th>2022-04-15</th>\n",
       "      <td>887.04</td>\n",
       "      <td>409.20</td>\n",
       "    </tr>\n",
       "    <tr>\n",
       "      <th>2022-05-15</th>\n",
       "      <td>491.04</td>\n",
       "      <td>396.00</td>\n",
       "    </tr>\n",
       "    <tr>\n",
       "      <th>2022-06-15</th>\n",
       "      <td>0.00</td>\n",
       "      <td>491.04</td>\n",
       "    </tr>\n",
       "  </tbody>\n",
       "</table>\n",
       "</div>"
      ],
      "text/plain": [
       "            Balance  Rental\n",
       "Date                       \n",
       "2022-01-15  2075.04  120.00\n",
       "2022-02-15  1665.84  409.20\n",
       "2022-03-15  1296.24  369.60\n",
       "2022-04-15   887.04  409.20\n",
       "2022-05-15   491.04  396.00\n",
       "2022-06-15     0.00  491.04"
      ]
     },
     "execution_count": 26,
     "metadata": {},
     "output_type": "execute_result"
    }
   ],
   "source": [
    "leaseStepUp = [\"Lease\"\n",
    "                ,{\"initRental\": 12.0\n",
    "                ,\"stepUp\":(\"byRates\",1.1,1.0,1.0,1.0,1.2)\n",
    "                ,\"originTerm\": 6\n",
    "                ,\"freq\": [\"DayOfMonth\",15]\n",
    "                ,\"originDate\": \"2022-01-05\"\n",
    "                ,\"status\":\"Current\"\n",
    "                ,\"remainTerm\": 6}\n",
    "              ]\n",
    "r = localAPI.runAsset(\"2022-01-02\"\n",
    "                     ,[leaseStepUp]\n",
    "                     ,poolAssump=(\"Pool\"\n",
    "                                    ,(\"Lease\",None, {\"Days\":60}, (\"byAnnualRate\",0.00), (\"byExtTimes\",0))\n",
    "                                    ,None\n",
    "                                    ,None)\n",
    "                     ,read=True)\n",
    "\n",
    "r[0]"
   ]
  },
  {
   "cell_type": "code",
   "execution_count": 24,
   "metadata": {},
   "outputs": [
    {
     "data": {
      "text/plain": [
       "(13.2, 13.200000000000001, 13.2, 13.2, 13.200000000000001)"
      ]
     },
     "execution_count": 24,
     "metadata": {},
     "output_type": "execute_result"
    }
   ],
   "source": [
    "409.2 / 31, 369.6/ 28, 409.2/31, 396.00/30,491.04/31/1.2  # let's verify the rentals "
   ]
  },
  {
   "cell_type": "markdown",
   "metadata": {},
   "source": [
    "User can set a vector of rental changes of life time"
   ]
  },
  {
   "cell_type": "code",
   "execution_count": 27,
   "metadata": {},
   "outputs": [
    {
     "data": {
      "text/html": [
       "<div>\n",
       "<style scoped>\n",
       "    .dataframe tbody tr th:only-of-type {\n",
       "        vertical-align: middle;\n",
       "    }\n",
       "\n",
       "    .dataframe tbody tr th {\n",
       "        vertical-align: top;\n",
       "    }\n",
       "\n",
       "    .dataframe thead th {\n",
       "        text-align: right;\n",
       "    }\n",
       "</style>\n",
       "<table border=\"1\" class=\"dataframe\">\n",
       "  <thead>\n",
       "    <tr style=\"text-align: right;\">\n",
       "      <th></th>\n",
       "      <th>Balance</th>\n",
       "      <th>Rental</th>\n",
       "    </tr>\n",
       "    <tr>\n",
       "      <th>Date</th>\n",
       "      <th></th>\n",
       "      <th></th>\n",
       "    </tr>\n",
       "  </thead>\n",
       "  <tbody>\n",
       "    <tr>\n",
       "      <th>2022-01-15</th>\n",
       "      <td>1498</td>\n",
       "      <td>120</td>\n",
       "    </tr>\n",
       "    <tr>\n",
       "      <th>2022-02-15</th>\n",
       "      <td>1095</td>\n",
       "      <td>403</td>\n",
       "    </tr>\n",
       "    <tr>\n",
       "      <th>2022-03-15</th>\n",
       "      <td>703</td>\n",
       "      <td>392</td>\n",
       "    </tr>\n",
       "    <tr>\n",
       "      <th>2022-04-15</th>\n",
       "      <td>300</td>\n",
       "      <td>403</td>\n",
       "    </tr>\n",
       "    <tr>\n",
       "      <th>2022-05-15</th>\n",
       "      <td>0</td>\n",
       "      <td>300</td>\n",
       "    </tr>\n",
       "  </tbody>\n",
       "</table>\n",
       "</div>"
      ],
      "text/plain": [
       "            Balance  Rental\n",
       "Date                       \n",
       "2022-01-15     1498     120\n",
       "2022-02-15     1095     403\n",
       "2022-03-15      703     392\n",
       "2022-04-15      300     403\n",
       "2022-05-15        0     300"
      ]
     },
     "execution_count": 27,
     "metadata": {},
     "output_type": "execute_result"
    }
   ],
   "source": [
    "leaseStepUp = [\"Lease\"\n",
    "                ,{\"initRental\": 12.0\n",
    "                ,\"stepUp\":(\"byAmounts\", 1, 1, -1, -3)\n",
    "                ,\"originTerm\": 5\n",
    "                ,\"freq\": [\"DayOfMonth\",15]\n",
    "                ,\"originDate\": \"2022-01-05\"\n",
    "                ,\"status\":\"Current\"\n",
    "                ,\"remainTerm\": 5}\n",
    "              ]\n",
    "r = localAPI.runAsset(\"2022-01-02\"\n",
    "                     ,[leaseStepUp]\n",
    "                     ,poolAssump=(\"Pool\"\n",
    "                                    ,(\"Lease\",None, {\"Days\":60}, (\"byAnnualRate\",0.00), (\"byExtTimes\",0))\n",
    "                                    ,None\n",
    "                                    ,None)\n",
    "                     ,read=True)\n",
    "\n",
    "r[0]"
   ]
  },
  {
   "cell_type": "code",
   "execution_count": 41,
   "metadata": {},
   "outputs": [
    {
     "data": {
      "text/plain": [
       "(13.0, 14.0, 13.0, 10.0)"
      ]
     },
     "execution_count": 41,
     "metadata": {},
     "output_type": "execute_result"
    }
   ],
   "source": [
    "403 / 31, 392 / 28, 403/31, 300/30 # let's verify the rentals "
   ]
  },
  {
   "cell_type": "code",
   "execution_count": 45,
   "metadata": {},
   "outputs": [
    {
     "data": {
      "text/html": [
       "<div>\n",
       "<style scoped>\n",
       "    .dataframe tbody tr th:only-of-type {\n",
       "        vertical-align: middle;\n",
       "    }\n",
       "\n",
       "    .dataframe tbody tr th {\n",
       "        vertical-align: top;\n",
       "    }\n",
       "\n",
       "    .dataframe thead th {\n",
       "        text-align: right;\n",
       "    }\n",
       "</style>\n",
       "<table border=\"1\" class=\"dataframe\">\n",
       "  <thead>\n",
       "    <tr style=\"text-align: right;\">\n",
       "      <th></th>\n",
       "      <th>Balance</th>\n",
       "      <th>Rental</th>\n",
       "    </tr>\n",
       "    <tr>\n",
       "      <th>Date</th>\n",
       "      <th></th>\n",
       "      <th></th>\n",
       "    </tr>\n",
       "  </thead>\n",
       "  <tbody>\n",
       "    <tr>\n",
       "      <th>2022-03-15</th>\n",
       "      <td>703</td>\n",
       "      <td>392</td>\n",
       "    </tr>\n",
       "    <tr>\n",
       "      <th>2022-04-15</th>\n",
       "      <td>300</td>\n",
       "      <td>403</td>\n",
       "    </tr>\n",
       "    <tr>\n",
       "      <th>2022-05-15</th>\n",
       "      <td>0</td>\n",
       "      <td>300</td>\n",
       "    </tr>\n",
       "  </tbody>\n",
       "</table>\n",
       "</div>"
      ],
      "text/plain": [
       "            Balance  Rental\n",
       "Date                       \n",
       "2022-03-15      703     392\n",
       "2022-04-15      300     403\n",
       "2022-05-15        0     300"
      ]
     },
     "execution_count": 45,
     "metadata": {},
     "output_type": "execute_result"
    }
   ],
   "source": [
    "leaseStepUp = [\"Lease\"\n",
    "                ,{\"initRental\": 12.0\n",
    "                ,\"stepUp\":(\"byAmounts\", 1, 1, -1, -3)\n",
    "                ,\"originTerm\": 5\n",
    "                ,\"freq\": [\"DayOfMonth\",15]\n",
    "                ,\"originDate\": \"2022-01-05\"\n",
    "                ,\"status\":\"Current\"\n",
    "                ,\"remainTerm\": 3}\n",
    "              ]\n",
    "r = localAPI.runAsset(\"2021-01-02\"\n",
    "                     ,[leaseStepUp]\n",
    "                     ,poolAssump=(\"Pool\"\n",
    "                                    ,(\"Lease\",None, {\"Days\":60}, (\"byAnnualRate\",0.00), (\"byExtTimes\",0))\n",
    "                                    ,None\n",
    "                                    ,None)\n",
    "                     ,read=True)\n",
    "\n",
    "r[0]"
   ]
  },
  {
   "cell_type": "code",
   "execution_count": null,
   "metadata": {},
   "outputs": [],
   "source": []
  }
 ],
 "metadata": {
  "kernelspec": {
   "display_name": "Python 3 (ipykernel)",
   "language": "python",
   "name": "python3"
  },
  "language_info": {
   "codemirror_mode": {
    "name": "ipython",
    "version": 3
   },
   "file_extension": ".py",
   "mimetype": "text/x-python",
   "name": "python",
   "nbconvert_exporter": "python",
   "pygments_lexer": "ipython3",
   "version": "3.12.3"
  }
 },
 "nbformat": 4,
 "nbformat_minor": 4
}
