{
 "cells": [
  {
   "cell_type": "markdown",
   "id": "e1719fec",
   "metadata": {},
   "source": [
    "### Interest Over Interest on Bond"
   ]
  },
  {
   "cell_type": "code",
   "execution_count": 3,
   "id": "555963fd",
   "metadata": {},
   "outputs": [],
   "source": [
    "import pandas as pd\n",
    "from absbox.local.generic import Generic\n",
    "pd.set_option(\"display.max_rows\",None)"
   ]
  },
  {
   "cell_type": "markdown",
   "id": "358ca6bd",
   "metadata": {},
   "source": [
    "#### Interest Due"
   ]
  },
  {
   "cell_type": "code",
   "execution_count": 130,
   "id": "f8319644",
   "metadata": {},
   "outputs": [],
   "source": [
    "interestDueExample = Generic(\n",
    "    \"TEST01\"\n",
    "    ,{\"cutoff\":\"2021-03-01\",\"closing\":\"2021-04-01\",\"firstPay\":\"2021-06-20\"\n",
    "     ,\"payFreq\":[\"DayOfMonth\",20],\"poolFreq\":\"MonthFirst\",\"stated\":\"2030-01-01\"}\n",
    "    ,{'assets':[[\"Mortgage\"\n",
    "        ,{\"originBalance\":2200,\"originRate\":[\"fix\",0.045],\"originTerm\":20\n",
    "          ,\"freq\":\"Monthly\",\"type\":\"Level\",\"originDate\":\"2021-02-01\"}\n",
    "          ,{\"currentBalance\":2200\n",
    "          ,\"currentRate\":0.08\n",
    "          ,\"remainTerm\":20\n",
    "          ,\"status\":\"current\"}]]}\n",
    "    ,((\"acc01\",{\"balance\":0}),(\"acc02\",{\"balance\":0}),)\n",
    "    ,((\"A1\",{\"balance\":1000\n",
    "             ,\"rate\":0.30\n",
    "             ,\"originBalance\":1000\n",
    "             ,\"originRate\":0.07\n",
    "             ,\"startDate\":\"2020-01-03\"\n",
    "             ,\"rateType\":{\"Fixed\":0.08}\n",
    "             ,\"bondType\":{\"Sequential\":None}})\n",
    "      ,(\"B\",{\"balance\":1000\n",
    "             ,\"rate\":0.0\n",
    "             ,\"originBalance\":1000\n",
    "             ,\"originRate\":0.07\n",
    "             ,\"startDate\":\"2020-01-03\"\n",
    "             ,\"rateType\":{\"Fixed\":0.00}\n",
    "             ,\"bondType\":{\"Equity\":None}\n",
    "             }))\n",
    "    ,tuple()\n",
    "    ,{\"amortizing\":[\n",
    "         [\"accrueAndPayInt\",\"acc02\",[\"A1\"]]\n",
    "         ,[\"payPrin\",\"acc01\",[\"A1\"]]\n",
    "         ,[\"payPrin\",\"acc01\",[\"B\"]]\n",
    "         ,[\"payIntResidual\",\"acc01\",\"B\"]\n",
    "     ]}\n",
    "    ,[[\"CollectedInterest\",\"acc02\"]\n",
    "      ,[\"CollectedPrincipal\",\"acc01\"]\n",
    "      ,[\"CollectedPrepayment\",\"acc01\"]\n",
    "      ,[\"CollectedRecoveries\",\"acc01\"]]\n",
    "    ,None\n",
    "    ,None\n",
    "    ,None\n",
    "    ,None\n",
    "    ,(\"PreClosing\",\"Amortizing\")\n",
    "    )"
   ]
  },
  {
   "cell_type": "code",
   "execution_count": 133,
   "id": "702f8975",
   "metadata": {},
   "outputs": [
    {
     "data": {
      "text/html": [
       "<pre style=\"white-space:pre;overflow-x:auto;line-height:normal;font-family:Menlo,'DejaVu Sans Mono',consolas,'Courier New',monospace\"><span style=\"color: #800080; text-decoration-color: #800080; font-weight: bold\">Connecting engine server -&gt; </span><span style=\"color: #800080; text-decoration-color: #800080; font-weight: bold; text-decoration: underline\">http://localhost:8081</span>\n",
       "</pre>\n"
      ],
      "text/plain": [
       "\u001b[1;35mConnecting engine server -> \u001b[0m\u001b[1;4;35mhttp://localhost:8081\u001b[0m\n"
      ]
     },
     "metadata": {},
     "output_type": "display_data"
    },
    {
     "data": {
      "text/html": [
       "<pre style=\"white-space:pre;overflow-x:auto;line-height:normal;font-family:Menlo,'DejaVu Sans Mono',consolas,'Courier New',monospace\">✅<span style=\"color: #008000; text-decoration-color: #008000; font-weight: bold\">Connected, local lib:0.</span><span style=\"color: #008000; text-decoration-color: #008000; font-weight: bold\">26.4</span><span style=\"color: #008000; text-decoration-color: #008000; font-weight: bold\">, server:</span><span style=\"color: #008000; text-decoration-color: #008000; font-weight: bold\">0.27</span><span style=\"color: #008000; text-decoration-color: #008000; font-weight: bold\">.</span><span style=\"color: #008000; text-decoration-color: #008000; font-weight: bold\">21</span>\n",
       "</pre>\n"
      ],
      "text/plain": [
       "✅\u001b[1;32mConnected, local li\u001b[0m\u001b[1;32mb:0\u001b[0m\u001b[1;32m.\u001b[0m\u001b[1;32m26.4\u001b[0m\u001b[1;32m, server:\u001b[0m\u001b[1;32m0.27\u001b[0m\u001b[1;32m.\u001b[0m\u001b[1;32m21\u001b[0m\n"
      ]
     },
     "metadata": {},
     "output_type": "display_data"
    }
   ],
   "source": [
    "from absbox import API,EnginePath\n",
    "localAPI = API(EnginePath.DEV,lang='english',check=False)\n",
    "#localAPI = API(\"https://absbox.org/api/dev\",lang='english',check=False)"
   ]
  },
  {
   "cell_type": "code",
   "execution_count": 134,
   "id": "2b8b4cbf",
   "metadata": {},
   "outputs": [
    {
     "data": {
      "text/html": [
       "<pre style=\"white-space:pre;overflow-x:auto;line-height:normal;font-family:Menlo,'DejaVu Sans Mono',consolas,'Courier New',monospace\">Warning Message from server:\n",
       "<span style=\"color: #808000; text-decoration-color: #808000; font-weight: bold\">Account acc02 has cash to be distributed</span>\n",
       "</pre>\n"
      ],
      "text/plain": [
       "Warning Message from server:\n",
       "\u001b[1;33mAccount acc02 has cash to be distributed\u001b[0m\n"
      ]
     },
     "metadata": {},
     "output_type": "display_data"
    }
   ],
   "source": [
    "r = localAPI.run(interestDueExample\n",
    "               ,poolAssump = None\n",
    "               ,runAssump = None\n",
    "               ,read=True)"
   ]
  },
  {
   "cell_type": "code",
   "execution_count": 136,
   "id": "95408266",
   "metadata": {},
   "outputs": [
    {
     "data": {
      "text/html": [
       "<div>\n",
       "<style scoped>\n",
       "    .dataframe tbody tr th:only-of-type {\n",
       "        vertical-align: middle;\n",
       "    }\n",
       "\n",
       "    .dataframe tbody tr th {\n",
       "        vertical-align: top;\n",
       "    }\n",
       "\n",
       "    .dataframe thead th {\n",
       "        text-align: right;\n",
       "    }\n",
       "</style>\n",
       "<table border=\"1\" class=\"dataframe\">\n",
       "  <thead>\n",
       "    <tr style=\"text-align: right;\">\n",
       "      <th></th>\n",
       "      <th>balance</th>\n",
       "      <th>interest</th>\n",
       "      <th>principal</th>\n",
       "      <th>rate</th>\n",
       "      <th>cash</th>\n",
       "      <th>intDue</th>\n",
       "      <th>intOverInt</th>\n",
       "      <th>factor</th>\n",
       "      <th>memo</th>\n",
       "    </tr>\n",
       "    <tr>\n",
       "      <th>date</th>\n",
       "      <th></th>\n",
       "      <th></th>\n",
       "      <th></th>\n",
       "      <th></th>\n",
       "      <th></th>\n",
       "      <th></th>\n",
       "      <th></th>\n",
       "      <th></th>\n",
       "      <th></th>\n",
       "    </tr>\n",
       "  </thead>\n",
       "  <tbody>\n",
       "    <tr>\n",
       "      <th>2021-06-20</th>\n",
       "      <td>583.05</td>\n",
       "      <td>54.49</td>\n",
       "      <td>416.95</td>\n",
       "      <td>0.3</td>\n",
       "      <td>471.44</td>\n",
       "      <td>11.26</td>\n",
       "      <td>0</td>\n",
       "      <td>0.58305</td>\n",
       "      <td>[&lt;PayInt:A1&gt;, &lt;PayPrin:A1&gt;]</td>\n",
       "    </tr>\n",
       "    <tr>\n",
       "      <th>2021-07-20</th>\n",
       "      <td>477.08</td>\n",
       "      <td>11.88</td>\n",
       "      <td>105.97</td>\n",
       "      <td>0.3</td>\n",
       "      <td>117.85</td>\n",
       "      <td>13.75</td>\n",
       "      <td>0</td>\n",
       "      <td>0.47708</td>\n",
       "      <td>[&lt;PayInt:A1&gt;, &lt;PayPrin:A1&gt;]</td>\n",
       "    </tr>\n",
       "    <tr>\n",
       "      <th>2021-08-20</th>\n",
       "      <td>370.39</td>\n",
       "      <td>11.17</td>\n",
       "      <td>106.69</td>\n",
       "      <td>0.3</td>\n",
       "      <td>117.86</td>\n",
       "      <td>14.73</td>\n",
       "      <td>0</td>\n",
       "      <td>0.37039</td>\n",
       "      <td>[&lt;PayInt:A1&gt;, &lt;PayPrin:A1&gt;]</td>\n",
       "    </tr>\n",
       "    <tr>\n",
       "      <th>2021-09-20</th>\n",
       "      <td>263.00</td>\n",
       "      <td>10.46</td>\n",
       "      <td>107.39</td>\n",
       "      <td>0.3</td>\n",
       "      <td>117.85</td>\n",
       "      <td>13.70</td>\n",
       "      <td>0</td>\n",
       "      <td>0.26300</td>\n",
       "      <td>[&lt;PayInt:A1&gt;, &lt;PayPrin:A1&gt;]</td>\n",
       "    </tr>\n",
       "    <tr>\n",
       "      <th>2021-10-20</th>\n",
       "      <td>154.90</td>\n",
       "      <td>9.75</td>\n",
       "      <td>108.10</td>\n",
       "      <td>0.3</td>\n",
       "      <td>117.85</td>\n",
       "      <td>10.43</td>\n",
       "      <td>0</td>\n",
       "      <td>0.15490</td>\n",
       "      <td>[&lt;PayInt:A1&gt;, &lt;PayPrin:A1&gt;]</td>\n",
       "    </tr>\n",
       "    <tr>\n",
       "      <th>2021-11-20</th>\n",
       "      <td>46.07</td>\n",
       "      <td>9.03</td>\n",
       "      <td>108.83</td>\n",
       "      <td>0.3</td>\n",
       "      <td>117.86</td>\n",
       "      <td>5.34</td>\n",
       "      <td>0</td>\n",
       "      <td>0.04607</td>\n",
       "      <td>[&lt;PayInt:A1&gt;, &lt;PayPrin:A1&gt;]</td>\n",
       "    </tr>\n",
       "    <tr>\n",
       "      <th>2021-12-20</th>\n",
       "      <td>0.00</td>\n",
       "      <td>6.47</td>\n",
       "      <td>46.07</td>\n",
       "      <td>0.3</td>\n",
       "      <td>52.54</td>\n",
       "      <td>0.00</td>\n",
       "      <td>0</td>\n",
       "      <td>0.00000</td>\n",
       "      <td>[&lt;PayInt:A1&gt;, &lt;PayPrin:A1&gt;]</td>\n",
       "    </tr>\n",
       "  </tbody>\n",
       "</table>\n",
       "</div>"
      ],
      "text/plain": [
       "            balance  interest  principal  rate    cash  intDue  intOverInt  \\\n",
       "date                                                                         \n",
       "2021-06-20   583.05     54.49     416.95   0.3  471.44   11.26           0   \n",
       "2021-07-20   477.08     11.88     105.97   0.3  117.85   13.75           0   \n",
       "2021-08-20   370.39     11.17     106.69   0.3  117.86   14.73           0   \n",
       "2021-09-20   263.00     10.46     107.39   0.3  117.85   13.70           0   \n",
       "2021-10-20   154.90      9.75     108.10   0.3  117.85   10.43           0   \n",
       "2021-11-20    46.07      9.03     108.83   0.3  117.86    5.34           0   \n",
       "2021-12-20     0.00      6.47      46.07   0.3   52.54    0.00           0   \n",
       "\n",
       "             factor                         memo  \n",
       "date                                              \n",
       "2021-06-20  0.58305  [<PayInt:A1>, <PayPrin:A1>]  \n",
       "2021-07-20  0.47708  [<PayInt:A1>, <PayPrin:A1>]  \n",
       "2021-08-20  0.37039  [<PayInt:A1>, <PayPrin:A1>]  \n",
       "2021-09-20  0.26300  [<PayInt:A1>, <PayPrin:A1>]  \n",
       "2021-10-20  0.15490  [<PayInt:A1>, <PayPrin:A1>]  \n",
       "2021-11-20  0.04607  [<PayInt:A1>, <PayPrin:A1>]  \n",
       "2021-12-20  0.00000  [<PayInt:A1>, <PayPrin:A1>]  "
      ]
     },
     "execution_count": 136,
     "metadata": {},
     "output_type": "execute_result"
    }
   ],
   "source": [
    "r['bonds']['A1']"
   ]
  },
  {
   "cell_type": "markdown",
   "id": "cee24637",
   "metadata": {},
   "source": [
    "##### Backout Date: 2021-07-20"
   ]
  },
  {
   "cell_type": "code",
   "execution_count": 137,
   "id": "a24dd59f",
   "metadata": {},
   "outputs": [
    {
     "data": {
      "text/plain": [
       "14.376575342465753"
      ]
     },
     "execution_count": 137,
     "metadata": {},
     "output_type": "execute_result"
    }
   ],
   "source": [
    "583.05 * 0.3 * 30/365 # new interest accrued"
   ]
  },
  {
   "cell_type": "code",
   "execution_count": 138,
   "id": "431b3e5f",
   "metadata": {},
   "outputs": [
    {
     "data": {
      "text/plain": [
       "25.636575342465754"
      ]
     },
     "execution_count": 138,
     "metadata": {},
     "output_type": "execute_result"
    }
   ],
   "source": [
    "14.376575342465753 + 11.26 # remain interest due"
   ]
  },
  {
   "cell_type": "code",
   "execution_count": 139,
   "id": "980c540d",
   "metadata": {},
   "outputs": [
    {
     "data": {
      "text/plain": [
       "13.756575342465753"
      ]
     },
     "execution_count": 139,
     "metadata": {},
     "output_type": "execute_result"
    }
   ],
   "source": [
    "25.636575342465754 - 11.88 ## remaining interest due at end of 2021-07-20"
   ]
  },
  {
   "cell_type": "markdown",
   "id": "5e6aaf57",
   "metadata": {},
   "source": [
    "##### Backout Date: 2021-12-20"
   ]
  },
  {
   "cell_type": "code",
   "execution_count": 140,
   "id": "e195eece",
   "metadata": {},
   "outputs": [
    {
     "data": {
      "text/plain": [
       "6.475972602739726"
      ]
     },
     "execution_count": 140,
     "metadata": {},
     "output_type": "execute_result"
    }
   ],
   "source": [
    "# total due int at begin of 2021-12-20\n",
    "\n",
    "46.07 * 0.3 * 30/365 + 5.34"
   ]
  },
  {
   "cell_type": "code",
   "execution_count": 141,
   "id": "b170a07d",
   "metadata": {},
   "outputs": [
    {
     "data": {
      "text/plain": [
       "0.00597260273972644"
      ]
     },
     "execution_count": 141,
     "metadata": {},
     "output_type": "execute_result"
    }
   ],
   "source": [
    "# remain interest due at end of 2021-12-20\n",
    "6.475972602739726 - 6.47"
   ]
  },
  {
   "cell_type": "markdown",
   "id": "d2eb307c",
   "metadata": {},
   "source": [
    "#### Interest Over Interest"
   ]
  },
  {
   "cell_type": "code",
   "execution_count": 142,
   "id": "548191d7",
   "metadata": {},
   "outputs": [
    {
     "data": {
      "text/plain": [
       "(('A1',\n",
       "  {'balance': 1000,\n",
       "   'rate': 0.3,\n",
       "   'originBalance': 1000,\n",
       "   'originRate': 0.07,\n",
       "   'startDate': '2020-01-03',\n",
       "   'rateType': {'Fixed': 0.08},\n",
       "   'bondType': {'Sequential': None}}),\n",
       " ('B',\n",
       "  {'balance': 1000,\n",
       "   'rate': 0.0,\n",
       "   'originBalance': 1000,\n",
       "   'originRate': 0.07,\n",
       "   'startDate': '2020-01-03',\n",
       "   'rateType': {'Fixed': 0.0},\n",
       "   'bondType': {'Equity': None}}))"
      ]
     },
     "execution_count": 142,
     "metadata": {},
     "output_type": "execute_result"
    }
   ],
   "source": [
    "from lenses import lens\n",
    "\n",
    "interestDueExample.bonds"
   ]
  },
  {
   "cell_type": "code",
   "execution_count": 143,
   "id": "60b964c9",
   "metadata": {},
   "outputs": [],
   "source": [
    "interestOverInterestType = (\"withIntOverInt\", (\"inflate\", 0.2), {\"fix\":0.001} )\n",
    "\n",
    "interestOverInterestExample = lens.bonds[0][1]['rateType'].set(interestOverInterestType)(interestDueExample)"
   ]
  },
  {
   "cell_type": "code",
   "execution_count": 144,
   "id": "dea5cb18",
   "metadata": {},
   "outputs": [
    {
     "data": {
      "text/plain": [
       "('A1',\n",
       " {'balance': 1000,\n",
       "  'rate': 0.3,\n",
       "  'originBalance': 1000,\n",
       "  'originRate': 0.07,\n",
       "  'startDate': '2020-01-03',\n",
       "  'rateType': ('withIntOverInt', ('inflate', 0.2), {'fix': 0.001}),\n",
       "  'bondType': {'Sequential': None}})"
      ]
     },
     "execution_count": 144,
     "metadata": {},
     "output_type": "execute_result"
    }
   ],
   "source": [
    "interestOverInterestExample.bonds[0]"
   ]
  },
  {
   "cell_type": "code",
   "execution_count": 145,
   "id": "b2470e2a",
   "metadata": {},
   "outputs": [
    {
     "data": {
      "text/html": [
       "<pre style=\"white-space:pre;overflow-x:auto;line-height:normal;font-family:Menlo,'DejaVu Sans Mono',consolas,'Courier New',monospace\">Warning Message from server:\n",
       "<span style=\"color: #808000; text-decoration-color: #808000; font-weight: bold\">Account acc02 has cash to be distributed</span>\n",
       "</pre>\n"
      ],
      "text/plain": [
       "Warning Message from server:\n",
       "\u001b[1;33mAccount acc02 has cash to be distributed\u001b[0m\n"
      ]
     },
     "metadata": {},
     "output_type": "display_data"
    }
   ],
   "source": [
    "r = localAPI.run(interestOverInterestExample\n",
    "               ,poolAssump = None\n",
    "               ,runAssump = None\n",
    "               ,read=True)"
   ]
  },
  {
   "cell_type": "code",
   "execution_count": 146,
   "id": "99d96413",
   "metadata": {},
   "outputs": [
    {
     "data": {
      "text/html": [
       "<div>\n",
       "<style scoped>\n",
       "    .dataframe tbody tr th:only-of-type {\n",
       "        vertical-align: middle;\n",
       "    }\n",
       "\n",
       "    .dataframe tbody tr th {\n",
       "        vertical-align: top;\n",
       "    }\n",
       "\n",
       "    .dataframe thead th {\n",
       "        text-align: right;\n",
       "    }\n",
       "</style>\n",
       "<table border=\"1\" class=\"dataframe\">\n",
       "  <thead>\n",
       "    <tr style=\"text-align: right;\">\n",
       "      <th></th>\n",
       "      <th>balance</th>\n",
       "      <th>interest</th>\n",
       "      <th>principal</th>\n",
       "      <th>rate</th>\n",
       "      <th>cash</th>\n",
       "      <th>intDue</th>\n",
       "      <th>intOverInt</th>\n",
       "      <th>factor</th>\n",
       "      <th>memo</th>\n",
       "    </tr>\n",
       "    <tr>\n",
       "      <th>date</th>\n",
       "      <th></th>\n",
       "      <th></th>\n",
       "      <th></th>\n",
       "      <th></th>\n",
       "      <th></th>\n",
       "      <th></th>\n",
       "      <th></th>\n",
       "      <th></th>\n",
       "      <th></th>\n",
       "    </tr>\n",
       "  </thead>\n",
       "  <tbody>\n",
       "    <tr>\n",
       "      <th>2021-07-20</th>\n",
       "      <td>477.08</td>\n",
       "      <td>11.88</td>\n",
       "      <td>105.97</td>\n",
       "      <td>0.3</td>\n",
       "      <td>117.85</td>\n",
       "      <td>14.08</td>\n",
       "      <td>0</td>\n",
       "      <td>0.47708</td>\n",
       "      <td>[&lt;PayInt:A1&gt;, &lt;PayPrin:A1&gt;]</td>\n",
       "    </tr>\n",
       "    <tr>\n",
       "      <th>2021-08-20</th>\n",
       "      <td>370.39</td>\n",
       "      <td>11.17</td>\n",
       "      <td>106.69</td>\n",
       "      <td>0.3</td>\n",
       "      <td>117.86</td>\n",
       "      <td>15.49</td>\n",
       "      <td>0</td>\n",
       "      <td>0.37039</td>\n",
       "      <td>[&lt;PayInt:A1&gt;, &lt;PayPrin:A1&gt;]</td>\n",
       "    </tr>\n",
       "  </tbody>\n",
       "</table>\n",
       "</div>"
      ],
      "text/plain": [
       "            balance  interest  principal  rate    cash  intDue  intOverInt  \\\n",
       "date                                                                         \n",
       "2021-07-20   477.08     11.88     105.97   0.3  117.85   14.08           0   \n",
       "2021-08-20   370.39     11.17     106.69   0.3  117.86   15.49           0   \n",
       "\n",
       "             factor                         memo  \n",
       "date                                              \n",
       "2021-07-20  0.47708  [<PayInt:A1>, <PayPrin:A1>]  \n",
       "2021-08-20  0.37039  [<PayInt:A1>, <PayPrin:A1>]  "
      ]
     },
     "execution_count": 146,
     "metadata": {},
     "output_type": "execute_result"
    }
   ],
   "source": [
    "r['bonds']['A1'].loc[\"2021-07-20\":\"2021-08-20\"]"
   ]
  },
  {
   "cell_type": "markdown",
   "id": "c9cfb466",
   "metadata": {},
   "source": [
    "##### Backout 2021-08-20"
   ]
  },
  {
   "cell_type": "code",
   "execution_count": 147,
   "id": "616ef2f6",
   "metadata": {},
   "outputs": [
    {
     "data": {
      "text/plain": [
       "12.15573698630137"
      ]
     },
     "execution_count": 147,
     "metadata": {},
     "output_type": "execute_result"
    }
   ],
   "source": [
    "# new due int amount\n",
    "477.08 * 0.3 * 31/365"
   ]
  },
  {
   "cell_type": "code",
   "execution_count": 148,
   "id": "0e5a19cc",
   "metadata": {},
   "outputs": [
    {
     "data": {
      "text/plain": [
       "26.23573698630137"
      ]
     },
     "execution_count": 148,
     "metadata": {},
     "output_type": "execute_result"
    }
   ],
   "source": [
    "# total due int at begin of 2021-08-20\n",
    "12.15573698630137 + 14.08"
   ]
  },
  {
   "cell_type": "code",
   "execution_count": 149,
   "id": "b40a3bed",
   "metadata": {},
   "outputs": [
    {
     "data": {
      "text/plain": [
       "0.43050082191780814"
      ]
     },
     "execution_count": 149,
     "metadata": {},
     "output_type": "execute_result"
    }
   ],
   "source": [
    "# int over int\n",
    "14.08 * (0.3*1.2) * 31/365"
   ]
  },
  {
   "cell_type": "code",
   "execution_count": 150,
   "id": "c6a2e0c0",
   "metadata": {},
   "outputs": [
    {
     "data": {
      "text/plain": [
       "10.739499178082191"
      ]
     },
     "execution_count": 150,
     "metadata": {},
     "output_type": "execute_result"
    }
   ],
   "source": [
    "# amount to paid of interest due\n",
    "(11.17 - 0.43050082191780814)"
   ]
  },
  {
   "cell_type": "code",
   "execution_count": 151,
   "id": "fff4ede7",
   "metadata": {},
   "outputs": [
    {
     "data": {
      "text/plain": [
       "15.496237808219178"
      ]
     },
     "execution_count": 151,
     "metadata": {},
     "output_type": "execute_result"
    }
   ],
   "source": [
    "## due int after interest payment\n",
    "26.23573698630137 - 10.739499178082191"
   ]
  }
 ],
 "metadata": {
  "kernelspec": {
   "display_name": "Python 3 (ipykernel)",
   "language": "python",
   "name": "python3"
  },
  "language_info": {
   "codemirror_mode": {
    "name": "ipython",
    "version": 3
   },
   "file_extension": ".py",
   "mimetype": "text/x-python",
   "name": "python",
   "nbconvert_exporter": "python",
   "pygments_lexer": "ipython3",
   "version": "3.11.9"
  }
 },
 "nbformat": 4,
 "nbformat_minor": 5
}
