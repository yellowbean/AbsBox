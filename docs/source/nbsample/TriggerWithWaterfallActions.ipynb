{
 "cells": [
  {
   "cell_type": "code",
   "execution_count": 2,
   "id": "455f0976",
   "metadata": {},
   "outputs": [
    {
     "data": {
      "text/html": [
       "<pre style=\"white-space:pre;overflow-x:auto;line-height:normal;font-family:Menlo,'DejaVu Sans Mono',consolas,'Courier New',monospace\">Connecting engine server -&gt; <span style=\"color: #0000ff; text-decoration-color: #0000ff; text-decoration: underline\">https://absbox.org/api/dev</span>\n",
       "</pre>\n"
      ],
      "text/plain": [
       "Connecting engine server -> \u001b[4;94mhttps://absbox.org/api/dev\u001b[0m\n"
      ]
     },
     "metadata": {},
     "output_type": "display_data"
    },
    {
     "name": "stderr",
     "output_type": "stream",
     "text": [
      "/home/xiaoyu/repo/AbsBox/lib/python3.13/site-packages/urllib3/connectionpool.py:1097: InsecureRequestWarning: Unverified HTTPS request is being made to host 'absbox.org'. Adding certificate verification is strongly advised. See: https://urllib3.readthedocs.io/en/latest/advanced-usage.html#tls-warnings\n",
      "  warnings.warn(\n"
     ]
    },
    {
     "data": {
      "text/html": [
       "<pre style=\"white-space:pre;overflow-x:auto;line-height:normal;font-family:Menlo,'DejaVu Sans Mono',consolas,'Courier New',monospace\">✅Connected, local li<span style=\"color: #00ff00; text-decoration-color: #00ff00; font-weight: bold\">b:0</span>.<span style=\"color: #008080; text-decoration-color: #008080; font-weight: bold\">46.5</span>, server:<span style=\"color: #008080; text-decoration-color: #008080; font-weight: bold\">0.50</span>.<span style=\"color: #008080; text-decoration-color: #008080; font-weight: bold\">1</span>\n",
       "</pre>\n"
      ],
      "text/plain": [
       "✅Connected, local li\u001b[1;92mb:0\u001b[0m.\u001b[1;36m46.5\u001b[0m, server:\u001b[1;36m0.50\u001b[0m.\u001b[1;36m1\u001b[0m\n"
      ]
     },
     "metadata": {},
     "output_type": "display_data"
    }
   ],
   "source": [
    "from absbox import API,EnginePath\n",
    "\n",
    "localAPI = API(EnginePath.DEV,check=False)"
   ]
  },
  {
   "cell_type": "markdown",
   "id": "a9b4874b",
   "metadata": {},
   "source": [
    "### Triggers with waterfall actions"
   ]
  },
  {
   "cell_type": "markdown",
   "id": "1dc06740",
   "metadata": {},
   "source": [
    "There is example `trigger04` which shipped with trigger with waterfall actions"
   ]
  },
  {
   "cell_type": "code",
   "execution_count": 3,
   "id": "b0d94a5a",
   "metadata": {},
   "outputs": [],
   "source": [
    "from absbox.examples import trigger04"
   ]
  },
  {
   "cell_type": "code",
   "execution_count": 4,
   "id": "fb01b996",
   "metadata": {},
   "outputs": [
    {
     "data": {
      "text/plain": [
       "{'AfterCollect': {'poolDef': {'condition': [('cumPoolDefaultedBalance',),\n",
       "    '>',\n",
       "    20],\n",
       "   'effects': ('actions', ['calcInt', 'A1'], ['payInt', 'acc01', ['A1']]),\n",
       "   'status': False,\n",
       "   'curable': False}}}"
      ]
     },
     "execution_count": 4,
     "metadata": {},
     "output_type": "execute_result"
    }
   ],
   "source": [
    "trigger04.trigger"
   ]
  },
  {
   "cell_type": "markdown",
   "id": "36f13b74",
   "metadata": {},
   "source": [
    "#### Mannual fire trigger in assumption"
   ]
  },
  {
   "cell_type": "markdown",
   "id": "2c163acd",
   "metadata": {},
   "source": [
    "User can mannually trigger via `fireTrigger` assumption , with\n",
    "\n",
    "* `Date`\n",
    "* `trigger location`\n",
    "* `trigger name`"
   ]
  },
  {
   "cell_type": "code",
   "execution_count": 5,
   "id": "9e4ab866",
   "metadata": {},
   "outputs": [
    {
     "name": "stderr",
     "output_type": "stream",
     "text": [
      "/home/xiaoyu/repo/AbsBox/lib/python3.13/site-packages/urllib3/connectionpool.py:1097: InsecureRequestWarning: Unverified HTTPS request is being made to host 'absbox.org'. Adding certificate verification is strongly advised. See: https://urllib3.readthedocs.io/en/latest/advanced-usage.html#tls-warnings\n",
      "  warnings.warn(\n"
     ]
    }
   ],
   "source": [
    "r = localAPI.run(trigger04\n",
    "                 ,poolAssump = (\"Pool\"\n",
    "                                ,(\"Mortgage\"\n",
    "                                 ,{\"CDR\":0.02} ,None, None, None)\n",
    "                                 ,None\n",
    "                                 ,None)\n",
    "                 ,runAssump = [(\"fireTrigger\",[(\"2021-10-01\",\"AfterCollect\",\"poolDef\")])]\n",
    "                 ,read=True)"
   ]
  },
  {
   "cell_type": "markdown",
   "id": "3139f066",
   "metadata": {},
   "source": [
    "Now , at 2021-10-01, at end of pool collection, the waterfall actions were executed"
   ]
  },
  {
   "cell_type": "code",
   "execution_count": 6,
   "id": "c3e631a7",
   "metadata": {},
   "outputs": [
    {
     "data": {
      "text/html": [
       "<div>\n",
       "<style scoped>\n",
       "    .dataframe tbody tr th:only-of-type {\n",
       "        vertical-align: middle;\n",
       "    }\n",
       "\n",
       "    .dataframe tbody tr th {\n",
       "        vertical-align: top;\n",
       "    }\n",
       "\n",
       "    .dataframe thead th {\n",
       "        text-align: right;\n",
       "    }\n",
       "</style>\n",
       "<table border=\"1\" class=\"dataframe\">\n",
       "  <thead>\n",
       "    <tr style=\"text-align: right;\">\n",
       "      <th></th>\n",
       "      <th>balance</th>\n",
       "      <th>change</th>\n",
       "      <th>memo</th>\n",
       "    </tr>\n",
       "    <tr>\n",
       "      <th>date</th>\n",
       "      <th></th>\n",
       "      <th></th>\n",
       "      <th></th>\n",
       "    </tr>\n",
       "  </thead>\n",
       "  <tbody>\n",
       "    <tr>\n",
       "      <th>2021-10-01</th>\n",
       "      <td>9.62</td>\n",
       "      <td>9.62</td>\n",
       "      <td>&lt;Pool:CollectedInterest&gt;</td>\n",
       "    </tr>\n",
       "    <tr>\n",
       "      <th>2021-10-01</th>\n",
       "      <td>116.29</td>\n",
       "      <td>106.67</td>\n",
       "      <td>&lt;Pool:CollectedPrincipal&gt;</td>\n",
       "    </tr>\n",
       "    <tr>\n",
       "      <th>2021-10-01</th>\n",
       "      <td>116.29</td>\n",
       "      <td>0.00</td>\n",
       "      <td>&lt;Pool:CollectedPrepayment&gt;</td>\n",
       "    </tr>\n",
       "    <tr>\n",
       "      <th>2021-10-01</th>\n",
       "      <td>116.29</td>\n",
       "      <td>0.00</td>\n",
       "      <td>&lt;Pool:CollectedRecoveries&gt;</td>\n",
       "    </tr>\n",
       "    <tr>\n",
       "      <th>2021-10-01</th>\n",
       "      <td>115.87</td>\n",
       "      <td>-0.42</td>\n",
       "      <td>&lt;PayInt:A1&gt;</td>\n",
       "    </tr>\n",
       "  </tbody>\n",
       "</table>\n",
       "</div>"
      ],
      "text/plain": [
       "            balance  change                        memo\n",
       "date                                                   \n",
       "2021-10-01     9.62    9.62    <Pool:CollectedInterest>\n",
       "2021-10-01   116.29  106.67   <Pool:CollectedPrincipal>\n",
       "2021-10-01   116.29    0.00  <Pool:CollectedPrepayment>\n",
       "2021-10-01   116.29    0.00  <Pool:CollectedRecoveries>\n",
       "2021-10-01   115.87   -0.42                 <PayInt:A1>"
      ]
     },
     "execution_count": 6,
     "metadata": {},
     "output_type": "execute_result"
    }
   ],
   "source": [
    "r['accounts']['acc01'].loc[\"2021-10-01\"]"
   ]
  }
 ],
 "metadata": {
  "kernelspec": {
   "display_name": "Python 3 (ipykernel)",
   "language": "python",
   "name": "python3"
  },
  "language_info": {
   "codemirror_mode": {
    "name": "ipython",
    "version": 3
   },
   "file_extension": ".py",
   "mimetype": "text/x-python",
   "name": "python",
   "nbconvert_exporter": "python",
   "pygments_lexer": "ipython3",
   "version": "3.13.3"
  }
 },
 "nbformat": 4,
 "nbformat_minor": 5
}
