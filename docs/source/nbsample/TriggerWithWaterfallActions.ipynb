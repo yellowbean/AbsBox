{
 "cells": [
  {
   "cell_type": "code",
   "execution_count": 6,
   "id": "455f0976",
   "metadata": {},
   "outputs": [
    {
     "data": {
      "text/html": [
       "<pre style=\"white-space:pre;overflow-x:auto;line-height:normal;font-family:Menlo,'DejaVu Sans Mono',consolas,'Courier New',monospace\"><span style=\"color: #800080; text-decoration-color: #800080; font-weight: bold\">Connecting engine server -&gt; </span><span style=\"color: #800080; text-decoration-color: #800080; font-weight: bold; text-decoration: underline\">http://localhost:8081</span>\n",
       "</pre>\n"
      ],
      "text/plain": [
       "\u001b[1;35mConnecting engine server -> \u001b[0m\u001b[1;4;35mhttp://localhost:8081\u001b[0m\n"
      ]
     },
     "metadata": {},
     "output_type": "display_data"
    },
    {
     "data": {
      "text/html": [
       "<pre style=\"white-space:pre;overflow-x:auto;line-height:normal;font-family:Menlo,'DejaVu Sans Mono',consolas,'Courier New',monospace\">✅<span style=\"color: #008000; text-decoration-color: #008000; font-weight: bold\">Connected, local lib:0.</span><span style=\"color: #008000; text-decoration-color: #008000; font-weight: bold\">26.4</span><span style=\"color: #008000; text-decoration-color: #008000; font-weight: bold\">, server:</span><span style=\"color: #008000; text-decoration-color: #008000; font-weight: bold\">0.28</span><span style=\"color: #008000; text-decoration-color: #008000; font-weight: bold\">.</span><span style=\"color: #008000; text-decoration-color: #008000; font-weight: bold\">1</span>\n",
       "</pre>\n"
      ],
      "text/plain": [
       "✅\u001b[1;32mConnected, local li\u001b[0m\u001b[1;32mb:0\u001b[0m\u001b[1;32m.\u001b[0m\u001b[1;32m26.4\u001b[0m\u001b[1;32m, server:\u001b[0m\u001b[1;32m0.28\u001b[0m\u001b[1;32m.\u001b[0m\u001b[1;32m1\u001b[0m\n"
      ]
     },
     "metadata": {},
     "output_type": "display_data"
    }
   ],
   "source": [
    "from absbox import API,EnginePath\n",
    "\n",
    "localAPI = API(EnginePath.DEV)"
   ]
  },
  {
   "cell_type": "markdown",
   "id": "a9b4874b",
   "metadata": {},
   "source": [
    "### Triggers with waterfall actions"
   ]
  },
  {
   "cell_type": "markdown",
   "id": "1dc06740",
   "metadata": {},
   "source": [
    "There is example `trigger04` which shipped with trigger with waterfall actions"
   ]
  },
  {
   "cell_type": "code",
   "execution_count": 27,
   "id": "b0d94a5a",
   "metadata": {},
   "outputs": [],
   "source": [
    "from absbox.examples import trigger04"
   ]
  },
  {
   "cell_type": "code",
   "execution_count": 28,
   "id": "fb01b996",
   "metadata": {},
   "outputs": [
    {
     "data": {
      "text/plain": [
       "{'AfterCollect': {'poolDef': {'condition': [('cumPoolDefaultedBalance',),\n",
       "    '>',\n",
       "    20],\n",
       "   'effects': ('actions', ['calcInt', 'A1'], ['payInt', 'acc01', ['A1']]),\n",
       "   'status': False,\n",
       "   'curable': False}}}"
      ]
     },
     "execution_count": 28,
     "metadata": {},
     "output_type": "execute_result"
    }
   ],
   "source": [
    "trigger04.trigger"
   ]
  },
  {
   "cell_type": "markdown",
   "id": "36f13b74",
   "metadata": {},
   "source": [
    "#### Mannual fire trigger in assumption"
   ]
  },
  {
   "cell_type": "markdown",
   "id": "2c163acd",
   "metadata": {},
   "source": [
    "User can mannually trigger via `fireTrigger` assumption , with\n",
    "\n",
    "* `Date`\n",
    "* `trigger location`\n",
    "* `trigger name`"
   ]
  },
  {
   "cell_type": "code",
   "execution_count": 22,
   "id": "9e4ab866",
   "metadata": {},
   "outputs": [
    {
     "data": {
      "text/html": [
       "<pre style=\"white-space:pre;overflow-x:auto;line-height:normal;font-family:Menlo,'DejaVu Sans Mono',consolas,'Courier New',monospace\">Warning Message from server:\n",
       "<span style=\"color: #808000; text-decoration-color: #808000; font-weight: bold\">Trigger Overrided to </span><span style=\"color: #808000; text-decoration-color: #808000; font-weight: bold; font-style: italic\">True</span><span style=\"color: #808000; text-decoration-color: #808000; font-weight: bold\"> (</span><span style=\"color: #808000; text-decoration-color: #808000; font-weight: bold\">2021</span><span style=\"color: #808000; text-decoration-color: #808000; font-weight: bold\">-</span><span style=\"color: #808000; text-decoration-color: #808000; font-weight: bold\">10</span><span style=\"color: #808000; text-decoration-color: #808000; font-weight: bold\">-</span><span style=\"color: #808000; text-decoration-color: #808000; font-weight: bold\">01</span><span style=\"color: #808000; text-decoration-color: #808000; font-weight: bold\">,EndCollectionWF,</span><span style=\"color: #808000; text-decoration-color: #808000; font-weight: bold\">\"poolDef\"</span><span style=\"color: #808000; text-decoration-color: #808000; font-weight: bold\">)</span>\n",
       "</pre>\n"
      ],
      "text/plain": [
       "Warning Message from server:\n",
       "\u001b[1;33mTrigger Overrided to \u001b[0m\u001b[1;3;33mTrue\u001b[0m\u001b[1;33m \u001b[0m\u001b[1;33m(\u001b[0m\u001b[1;33m2021\u001b[0m\u001b[1;33m-\u001b[0m\u001b[1;33m10\u001b[0m\u001b[1;33m-\u001b[0m\u001b[1;33m01\u001b[0m\u001b[1;33m,EndCollectionWF,\u001b[0m\u001b[1;33m\"poolDef\"\u001b[0m\u001b[1;33m)\u001b[0m\n"
      ]
     },
     "metadata": {},
     "output_type": "display_data"
    }
   ],
   "source": [
    "r = localAPI.run(trigger04\n",
    "                 ,poolAssump = (\"Pool\"\n",
    "                                ,(\"Mortgage\"\n",
    "                                 ,{\"CDR\":0.02} ,None, None, None)\n",
    "                                 ,None\n",
    "                                 ,None)\n",
    "                 ,runAssump = [(\"fireTrigger\",[(\"2021-10-01\",\"AfterCollect\",\"poolDef\")])]\n",
    "                 ,read=True)"
   ]
  },
  {
   "cell_type": "markdown",
   "id": "3139f066",
   "metadata": {},
   "source": [
    "Now , at 2021-10-01, at end of pool collection, the waterfall actions were executed"
   ]
  },
  {
   "cell_type": "code",
   "execution_count": 21,
   "id": "c3e631a7",
   "metadata": {},
   "outputs": [
    {
     "data": {
      "text/html": [
       "<div>\n",
       "<style scoped>\n",
       "    .dataframe tbody tr th:only-of-type {\n",
       "        vertical-align: middle;\n",
       "    }\n",
       "\n",
       "    .dataframe tbody tr th {\n",
       "        vertical-align: top;\n",
       "    }\n",
       "\n",
       "    .dataframe thead th {\n",
       "        text-align: right;\n",
       "    }\n",
       "</style>\n",
       "<table border=\"1\" class=\"dataframe\">\n",
       "  <thead>\n",
       "    <tr style=\"text-align: right;\">\n",
       "      <th></th>\n",
       "      <th>balance</th>\n",
       "      <th>change</th>\n",
       "      <th>memo</th>\n",
       "    </tr>\n",
       "    <tr>\n",
       "      <th>date</th>\n",
       "      <th></th>\n",
       "      <th></th>\n",
       "      <th></th>\n",
       "    </tr>\n",
       "  </thead>\n",
       "  <tbody>\n",
       "    <tr>\n",
       "      <th>2021-10-01</th>\n",
       "      <td>0.00</td>\n",
       "      <td>0.00</td>\n",
       "      <td>&lt;Pool:CollectedRecoveries&gt;</td>\n",
       "    </tr>\n",
       "    <tr>\n",
       "      <th>2021-10-01</th>\n",
       "      <td>0.00</td>\n",
       "      <td>0.00</td>\n",
       "      <td>&lt;Pool:CollectedPrepayment&gt;</td>\n",
       "    </tr>\n",
       "    <tr>\n",
       "      <th>2021-10-01</th>\n",
       "      <td>106.67</td>\n",
       "      <td>106.67</td>\n",
       "      <td>&lt;Pool:CollectedPrincipal&gt;</td>\n",
       "    </tr>\n",
       "    <tr>\n",
       "      <th>2021-10-01</th>\n",
       "      <td>116.29</td>\n",
       "      <td>9.62</td>\n",
       "      <td>&lt;Pool:CollectedInterest&gt;</td>\n",
       "    </tr>\n",
       "    <tr>\n",
       "      <th>2021-10-01</th>\n",
       "      <td>115.87</td>\n",
       "      <td>-0.42</td>\n",
       "      <td>&lt;PayInt:A1&gt;</td>\n",
       "    </tr>\n",
       "  </tbody>\n",
       "</table>\n",
       "</div>"
      ],
      "text/plain": [
       "            balance  change                        memo\n",
       "date                                                   \n",
       "2021-10-01     0.00    0.00  <Pool:CollectedRecoveries>\n",
       "2021-10-01     0.00    0.00  <Pool:CollectedPrepayment>\n",
       "2021-10-01   106.67  106.67   <Pool:CollectedPrincipal>\n",
       "2021-10-01   116.29    9.62    <Pool:CollectedInterest>\n",
       "2021-10-01   115.87   -0.42                 <PayInt:A1>"
      ]
     },
     "execution_count": 21,
     "metadata": {},
     "output_type": "execute_result"
    }
   ],
   "source": [
    "r['accounts']['acc01'].loc[\"2021-10-01\"]"
   ]
  }
 ],
 "metadata": {
  "kernelspec": {
   "display_name": "Python 3 (ipykernel)",
   "language": "python",
   "name": "python3"
  },
  "language_info": {
   "codemirror_mode": {
    "name": "ipython",
    "version": 3
   },
   "file_extension": ".py",
   "mimetype": "text/x-python",
   "name": "python",
   "nbconvert_exporter": "python",
   "pygments_lexer": "ipython3",
   "version": "3.11.9"
  }
 },
 "nbformat": 4,
 "nbformat_minor": 5
}
