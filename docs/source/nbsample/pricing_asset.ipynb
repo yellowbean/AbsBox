{
 "cells": [
  {
   "cell_type": "markdown",
   "metadata": {},
   "source": [
    "#### Pricing a single asset"
   ]
  },
  {
   "cell_type": "code",
   "execution_count": null,
   "metadata": {},
   "outputs": [],
   "source": [
    "m = [\"Mortgage\"\n",
    "        ,{\"originBalance\": 12000.0\n",
    "            ,\"originRate\": [\"fix\",0.045]\n",
    "            ,\"originTerm\": 30\n",
    "            ,\"freq\": \"Monthly\"\n",
    "            ,\"type\": \"Level\"\n",
    "            ,\"originDate\": \"2021-02-01\"}\n",
    "        ,{\"currentBalance\": 10000.0\n",
    "            ,\"currentRate\": 0.075\n",
    "            ,\"remainTerm\": 20\n",
    "            ,\"status\": \"Current\"}]"
   ]
  },
  {
   "cell_type": "code",
   "execution_count": null,
   "metadata": {},
   "outputs": [],
   "source": [
    "from absbox import API,EnginePath\n",
    "\n",
    "localAPI = API(EnginePath.DEV,lang='english',check=False)"
   ]
  },
  {
   "cell_type": "markdown",
   "metadata": {},
   "source": [
    "##### Pricing by balance"
   ]
  },
  {
   "cell_type": "code",
   "execution_count": null,
   "metadata": {},
   "outputs": [],
   "source": [
    "### Pricing a single Mortgage\n",
    "\n",
    "r = localAPI.runAsset(\"2020-01-02\"\n",
    "                     ,[m]\n",
    "                     ,poolAssump=(\"Pool\"\n",
    "                                    ,(\"Mortgage\", {\"CDR\":0.01}\n",
    "                                                , None\n",
    "                                                , {\"Rate\":0.3,\"Timing\":[0.5,0.25,0.25]}\n",
    "                                                , None)\n",
    "                                    ,None\n",
    "                                    ,None)\n",
    "                     ,pricing=[\"Current|Defaulted\",0.95,0]\n",
    "                     ,read=True)\n",
    "r[2]"
   ]
  },
  {
   "cell_type": "markdown",
   "metadata": {},
   "source": [
    "##### Pricing by rate"
   ]
  },
  {
   "cell_type": "code",
   "execution_count": null,
   "metadata": {},
   "outputs": [],
   "source": [
    "\n",
    "r = localAPI.runAsset(\"2021-12-01\"\n",
    "                     ,[m]\n",
    "                     ,poolAssump=(\"Pool\"\n",
    "                                    ,(\"Mortgage\", {\"CDR\":0.01}\n",
    "                                                , None\n",
    "                                                , {\"Rate\":0.3,\"Timing\":[0.5,0.25,0.25]}\n",
    "                                                , None)\n",
    "                                    ,None\n",
    "                                    ,None)\n",
    "                     ,pricing=[\"PvRate\",0.0525]\n",
    "                     ,read=True)\n",
    "r[2]"
   ]
  },
  {
   "cell_type": "markdown",
   "metadata": {},
   "source": [
    "##### Pricing by curve"
   ]
  },
  {
   "cell_type": "code",
   "execution_count": null,
   "metadata": {},
   "outputs": [],
   "source": [
    "\n",
    "\n",
    "\n",
    "r = localAPI.runAsset(\"2021-12-01\"\n",
    "                     ,[m]\n",
    "                     ,poolAssump=(\"Pool\"\n",
    "                                    ,(\"Mortgage\", {\"CDR\":0.01}\n",
    "                                                , None\n",
    "                                                , {\"Rate\":0.3,\"Timing\":[0.5,0.25,0.25]}\n",
    "                                                , None)\n",
    "                                    ,None\n",
    "                                    ,None)\n",
    "                     ,pricing=[\"PVCurve\",[[\"2021-12-01\",0.0525]\n",
    "                                          ,[\"2022-12-01\",0.0825]]]\n",
    "                     ,read=True)\n",
    "r[2]\n",
    "\n"
   ]
  }
 ],
 "metadata": {
  "language_info": {
   "name": "python"
  }
 },
 "nbformat": 4,
 "nbformat_minor": 2
}
