{
 "cells": [
  {
   "cell_type": "markdown",
   "metadata": {},
   "source": [
    "### Fixed Asset"
   ]
  },
  {
   "cell_type": "code",
   "execution_count": 3,
   "metadata": {},
   "outputs": [
    {
     "data": {
      "text/html": [
       "<pre style=\"white-space:pre;overflow-x:auto;line-height:normal;font-family:Menlo,'DejaVu Sans Mono',consolas,'Courier New',monospace\">Connecting engine server -&gt; <span style=\"color: #0000ff; text-decoration-color: #0000ff; text-decoration: underline\">https://absbox.org/api/dev</span>\n",
       "</pre>\n"
      ],
      "text/plain": [
       "Connecting engine server -> \u001b[4;94mhttps://absbox.org/api/dev\u001b[0m\n"
      ]
     },
     "metadata": {},
     "output_type": "display_data"
    },
    {
     "name": "stderr",
     "output_type": "stream",
     "text": [
      "/home/xiaoyu/repo/AbsBox/lib/python3.13/site-packages/urllib3/connectionpool.py:1097: InsecureRequestWarning: Unverified HTTPS request is being made to host 'absbox.org'. Adding certificate verification is strongly advised. See: https://urllib3.readthedocs.io/en/latest/advanced-usage.html#tls-warnings\n",
      "  warnings.warn(\n"
     ]
    },
    {
     "data": {
      "text/html": [
       "<pre style=\"white-space:pre;overflow-x:auto;line-height:normal;font-family:Menlo,'DejaVu Sans Mono',consolas,'Courier New',monospace\">✅Connected, local li<span style=\"color: #00ff00; text-decoration-color: #00ff00; font-weight: bold\">b:0</span>.<span style=\"color: #008080; text-decoration-color: #008080; font-weight: bold\">46.5</span>, server:<span style=\"color: #008080; text-decoration-color: #008080; font-weight: bold\">0.50</span>.<span style=\"color: #008080; text-decoration-color: #008080; font-weight: bold\">1</span>\n",
       "</pre>\n"
      ],
      "text/plain": [
       "✅Connected, local li\u001b[1;92mb:0\u001b[0m.\u001b[1;36m46.5\u001b[0m, server:\u001b[1;36m0.50\u001b[0m.\u001b[1;36m1\u001b[0m\n"
      ]
     },
     "metadata": {},
     "output_type": "display_data"
    }
   ],
   "source": [
    "from absbox import API,EnginePath\n",
    "\n",
    "localAPI = API(EnginePath.DEV, lang='english',check=False)"
   ]
  },
  {
   "cell_type": "code",
   "execution_count": 4,
   "metadata": {},
   "outputs": [],
   "source": [
    "fixedAsset = [\"FixedAsset\" ,{\"start\":\"2023-11-01\",\"originBalance\":100_0000,\"originTerm\":20\n",
    "                             ,\"residual\":10_0000,\"period\":\"Monthly\",\"amortize\":\"Straight\"\n",
    "                             ,\"capacity\":(\"Fixed\",24*25*120*30)}\n",
    "                            ,{\"remainTerm\":10,\"currentBalance\":50_0000}]"
   ]
  },
  {
   "cell_type": "code",
   "execution_count": 6,
   "metadata": {},
   "outputs": [
    {
     "name": "stderr",
     "output_type": "stream",
     "text": [
      "/home/xiaoyu/repo/AbsBox/lib/python3.13/site-packages/urllib3/connectionpool.py:1097: InsecureRequestWarning: Unverified HTTPS request is being made to host 'absbox.org'. Adding certificate verification is strongly advised. See: https://urllib3.readthedocs.io/en/latest/advanced-usage.html#tls-warnings\n",
      "  warnings.warn(\n"
     ]
    },
    {
     "data": {
      "text/html": [
       "<div>\n",
       "<style scoped>\n",
       "    .dataframe tbody tr th:only-of-type {\n",
       "        vertical-align: middle;\n",
       "    }\n",
       "\n",
       "    .dataframe tbody tr th {\n",
       "        vertical-align: top;\n",
       "    }\n",
       "\n",
       "    .dataframe thead th {\n",
       "        text-align: right;\n",
       "    }\n",
       "</style>\n",
       "<table border=\"1\" class=\"dataframe\">\n",
       "  <thead>\n",
       "    <tr style=\"text-align: right;\">\n",
       "      <th></th>\n",
       "      <th>Balance</th>\n",
       "      <th>Depreciation</th>\n",
       "      <th>CumuDepreciation</th>\n",
       "      <th>Unit</th>\n",
       "      <th>Cash</th>\n",
       "    </tr>\n",
       "    <tr>\n",
       "      <th>Date</th>\n",
       "      <th></th>\n",
       "      <th></th>\n",
       "      <th></th>\n",
       "      <th></th>\n",
       "      <th></th>\n",
       "    </tr>\n",
       "  </thead>\n",
       "  <tbody>\n",
       "    <tr>\n",
       "      <th>2024-10-01</th>\n",
       "      <td>460000</td>\n",
       "      <td>40000</td>\n",
       "      <td>540000</td>\n",
       "      <td>1728000</td>\n",
       "      <td>691200000</td>\n",
       "    </tr>\n",
       "    <tr>\n",
       "      <th>2024-11-01</th>\n",
       "      <td>420000</td>\n",
       "      <td>40000</td>\n",
       "      <td>580000</td>\n",
       "      <td>1728000</td>\n",
       "      <td>691200000</td>\n",
       "    </tr>\n",
       "    <tr>\n",
       "      <th>2024-12-01</th>\n",
       "      <td>380000</td>\n",
       "      <td>40000</td>\n",
       "      <td>620000</td>\n",
       "      <td>1728000</td>\n",
       "      <td>691200000</td>\n",
       "    </tr>\n",
       "    <tr>\n",
       "      <th>2025-01-01</th>\n",
       "      <td>340000</td>\n",
       "      <td>40000</td>\n",
       "      <td>660000</td>\n",
       "      <td>1728000</td>\n",
       "      <td>691200000</td>\n",
       "    </tr>\n",
       "    <tr>\n",
       "      <th>2025-02-01</th>\n",
       "      <td>300000</td>\n",
       "      <td>40000</td>\n",
       "      <td>700000</td>\n",
       "      <td>1728000</td>\n",
       "      <td>691200000</td>\n",
       "    </tr>\n",
       "    <tr>\n",
       "      <th>2025-03-01</th>\n",
       "      <td>260000</td>\n",
       "      <td>40000</td>\n",
       "      <td>740000</td>\n",
       "      <td>1728000</td>\n",
       "      <td>691200000</td>\n",
       "    </tr>\n",
       "    <tr>\n",
       "      <th>2025-04-01</th>\n",
       "      <td>220000</td>\n",
       "      <td>40000</td>\n",
       "      <td>780000</td>\n",
       "      <td>1728000</td>\n",
       "      <td>691200000</td>\n",
       "    </tr>\n",
       "    <tr>\n",
       "      <th>2025-05-01</th>\n",
       "      <td>180000</td>\n",
       "      <td>40000</td>\n",
       "      <td>820000</td>\n",
       "      <td>1728000</td>\n",
       "      <td>691200000</td>\n",
       "    </tr>\n",
       "    <tr>\n",
       "      <th>2025-06-01</th>\n",
       "      <td>140000</td>\n",
       "      <td>40000</td>\n",
       "      <td>860000</td>\n",
       "      <td>1728000</td>\n",
       "      <td>691200000</td>\n",
       "    </tr>\n",
       "    <tr>\n",
       "      <th>2025-07-01</th>\n",
       "      <td>100000</td>\n",
       "      <td>40000</td>\n",
       "      <td>900000</td>\n",
       "      <td>1728000</td>\n",
       "      <td>691200000</td>\n",
       "    </tr>\n",
       "  </tbody>\n",
       "</table>\n",
       "</div>"
      ],
      "text/plain": [
       "            Balance  Depreciation  CumuDepreciation     Unit       Cash\n",
       "Date                                                                   \n",
       "2024-10-01   460000         40000            540000  1728000  691200000\n",
       "2024-11-01   420000         40000            580000  1728000  691200000\n",
       "2024-12-01   380000         40000            620000  1728000  691200000\n",
       "2025-01-01   340000         40000            660000  1728000  691200000\n",
       "2025-02-01   300000         40000            700000  1728000  691200000\n",
       "2025-03-01   260000         40000            740000  1728000  691200000\n",
       "2025-04-01   220000         40000            780000  1728000  691200000\n",
       "2025-05-01   180000         40000            820000  1728000  691200000\n",
       "2025-06-01   140000         40000            860000  1728000  691200000\n",
       "2025-07-01   100000         40000            900000  1728000  691200000"
      ]
     },
     "execution_count": 6,
     "metadata": {},
     "output_type": "execute_result"
    }
   ],
   "source": [
    "r = localAPI.runAsset(\"2022-01-02\"\n",
    "                     ,[fixedAsset]\n",
    "                     ,poolAssump=(\"Pool\"\n",
    "                                    ,(\"Fixed\", [[\"2022-01-01\",0.8]]\n",
    "                                             , [[\"2022-01-01\",400]])\n",
    "                                    ,None\n",
    "                                    ,None)\n",
    "                     ,read=True)\n",
    "\n",
    "r[0]"
   ]
  },
  {
   "cell_type": "code",
   "execution_count": null,
   "metadata": {},
   "outputs": [],
   "source": []
  }
 ],
 "metadata": {
  "kernelspec": {
   "display_name": "Python 3 (ipykernel)",
   "language": "python",
   "name": "python3"
  },
  "language_info": {
   "codemirror_mode": {
    "name": "ipython",
    "version": 3
   },
   "file_extension": ".py",
   "mimetype": "text/x-python",
   "name": "python",
   "nbconvert_exporter": "python",
   "pygments_lexer": "ipython3",
   "version": "3.13.3"
  }
 },
 "nbformat": 4,
 "nbformat_minor": 4
}
