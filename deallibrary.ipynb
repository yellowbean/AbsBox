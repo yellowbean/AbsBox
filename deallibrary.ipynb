{
 "cells": [
  {
   "cell_type": "code",
   "execution_count": 1,
   "id": "1d142b81-4374-4f75-ab36-35335f1346c5",
   "metadata": {},
   "outputs": [
    {
     "name": "stderr",
     "output_type": "stream",
     "text": [
      "ERROR:root:中文字体载入失败\n",
      "/tmp/ipykernel_1376271/307329233.py:8: FutureWarning: Passing a negative integer is deprecated in version 1.0 and will not be supported in future version. Instead, use None to not limit the column width.\n",
      "  pd.set_option('display.max_colwidth', -1)\n"
     ]
    }
   ],
   "source": [
    "import pandas as pd \n",
    "from absbox import API,save\n",
    "from absbox.local.china import 信贷ABS,show,plot_bond,plot_bonds\n",
    "import numpy as np\n",
    "pd.set_option('display.max_rows', None)\n",
    "pd.set_option('display.max_columns', None)\n",
    "pd.set_option('display.width', None)\n",
    "pd.set_option('display.max_colwidth', -1)\n",
    "pd.options.display.float_format = '{:,}'.format\n",
    "#localAPI = API(\"https://deal-bench.xyz/api\")\n",
    "localAPI = API(\"http://localhost:8081\")"
   ]
  },
  {
   "cell_type": "code",
   "execution_count": null,
   "id": "816b92c6-e065-4199-a231-8fc206e8f971",
   "metadata": {},
   "outputs": [],
   "source": [
    "from absbox.local.china import 信贷ABS\n",
    "信贷ABS.pull(\"21信融宜居1A1\",\"/home/xiaoyu/Downloads\",url=\"https://asset-backed.org/library\")"
   ]
  },
  {
   "cell_type": "code",
   "execution_count": 8,
   "id": "1ab8c72e-3c0e-4845-b73e-f480f20d5eb4",
   "metadata": {},
   "outputs": [
    {
     "name": "stderr",
     "output_type": "stream",
     "text": [
      "ERROR:root:Can't not find the Deal\n"
     ]
    }
   ],
   "source": [
    "from absbox.local.china import 信贷ABS\n",
    "信贷ABS.pull(\"TEST\",\"/home/xiaoyu/Downloads\",url=\"https://asset-backed.org/library\")"
   ]
  },
  {
   "cell_type": "code",
   "execution_count": 1,
   "id": "7be87684-e8a9-4903-a0e5-4a11f74319c7",
   "metadata": {},
   "outputs": [
    {
     "name": "stderr",
     "output_type": "stream",
     "text": [
      "ERROR:root:中文字体载入失败\n"
     ]
    },
    {
     "name": "stdout",
     "output_type": "stream",
     "text": [
      "DEBUG header attachment; filename=\"test01.obj\"\n",
      "DEBUG filanem ('', '', '\"test01.obj\"')\n"
     ]
    },
    {
     "ename": "TypeError",
     "evalue": "join() argument must be str, bytes, or os.PathLike object, not 'tuple'",
     "output_type": "error",
     "traceback": [
      "\u001b[0;31m---------------------------------------------------------------------------\u001b[0m",
      "\u001b[0;31mTypeError\u001b[0m                                 Traceback (most recent call last)",
      "Input \u001b[0;32mIn [1]\u001b[0m, in \u001b[0;36m<cell line: 2>\u001b[0;34m()\u001b[0m\n\u001b[1;32m      1\u001b[0m \u001b[38;5;28;01mfrom\u001b[39;00m \u001b[38;5;21;01mabsbox\u001b[39;00m\u001b[38;5;21;01m.\u001b[39;00m\u001b[38;5;21;01mlocal\u001b[39;00m\u001b[38;5;21;01m.\u001b[39;00m\u001b[38;5;21;01mchina\u001b[39;00m \u001b[38;5;28;01mimport\u001b[39;00m 信贷ABS\n\u001b[0;32m----> 2\u001b[0m \u001b[43m信贷ABS\u001b[49m\u001b[38;5;241;43m.\u001b[39;49m\u001b[43mpull\u001b[49m\u001b[43m(\u001b[49m\u001b[38;5;124;43m\"\u001b[39;49m\u001b[38;5;124;43mTEST\u001b[39;49m\u001b[38;5;124;43m\"\u001b[39;49m\u001b[43m,\u001b[49m\u001b[38;5;124;43m\"\u001b[39;49m\u001b[38;5;124;43m/home/xiaoyu/Downloads\u001b[39;49m\u001b[38;5;124;43m\"\u001b[39;49m\u001b[43m,\u001b[49m\u001b[43murl\u001b[49m\u001b[38;5;241;43m=\u001b[39;49m\u001b[38;5;124;43m\"\u001b[39;49m\u001b[38;5;124;43mhttps://asset-backed.org/library\u001b[39;49m\u001b[38;5;124;43m\"\u001b[39;49m\u001b[43m)\u001b[49m\n",
      "File \u001b[0;32m~/IdeaProjects/PyABS/absbox/local/china.py:377\u001b[0m, in \u001b[0;36m信贷ABS.pull\u001b[0;34m(cls, _id, p, url, pw)\u001b[0m\n\u001b[1;32m    375\u001b[0m     logging\u001b[38;5;241m.\u001b[39merror(\u001b[38;5;124m\"\u001b[39m\u001b[38;5;124mCan\u001b[39m\u001b[38;5;124m'\u001b[39m\u001b[38;5;124mt not find the Deal Name\u001b[39m\u001b[38;5;124m\"\u001b[39m)\n\u001b[1;32m    376\u001b[0m     \u001b[38;5;28;01mreturn\u001b[39;00m \u001b[38;5;28;01mNone\u001b[39;00m\n\u001b[0;32m--> 377\u001b[0m \u001b[38;5;28;01mwith\u001b[39;00m \u001b[38;5;28mopen\u001b[39m(\u001b[43mos\u001b[49m\u001b[38;5;241;43m.\u001b[39;49m\u001b[43mpath\u001b[49m\u001b[38;5;241;43m.\u001b[39;49m\u001b[43mjoin\u001b[49m\u001b[43m(\u001b[49m\u001b[43mp\u001b[49m\u001b[43m,\u001b[49m\u001b[43mfilename\u001b[49m\u001b[43m)\u001b[49m,\u001b[38;5;124m'\u001b[39m\u001b[38;5;124mwb\u001b[39m\u001b[38;5;124m'\u001b[39m) \u001b[38;5;28;01mas\u001b[39;00m f:\n\u001b[1;32m    378\u001b[0m     shutil\u001b[38;5;241m.\u001b[39mcopyfileobj(r\u001b[38;5;241m.\u001b[39mraw, f)\n\u001b[1;32m    379\u001b[0m logging\u001b[38;5;241m.\u001b[39minfo(\u001b[38;5;124mf\u001b[39m\u001b[38;5;124m\"\u001b[39m\u001b[38;5;124mDownload \u001b[39m\u001b[38;5;132;01m{\u001b[39;00mp\u001b[38;5;132;01m}\u001b[39;00m\u001b[38;5;124m \u001b[39m\u001b[38;5;132;01m{\u001b[39;00mfilename\u001b[38;5;132;01m}\u001b[39;00m\u001b[38;5;124m done \u001b[39m\u001b[38;5;124m\"\u001b[39m)\n",
      "File \u001b[0;32m/usr/lib/python3.10/posixpath.py:90\u001b[0m, in \u001b[0;36mjoin\u001b[0;34m(a, *p)\u001b[0m\n\u001b[1;32m     88\u001b[0m             path \u001b[38;5;241m+\u001b[39m\u001b[38;5;241m=\u001b[39m sep \u001b[38;5;241m+\u001b[39m b\n\u001b[1;32m     89\u001b[0m \u001b[38;5;28;01mexcept\u001b[39;00m (\u001b[38;5;167;01mTypeError\u001b[39;00m, \u001b[38;5;167;01mAttributeError\u001b[39;00m, \u001b[38;5;167;01mBytesWarning\u001b[39;00m):\n\u001b[0;32m---> 90\u001b[0m     \u001b[43mgenericpath\u001b[49m\u001b[38;5;241;43m.\u001b[39;49m\u001b[43m_check_arg_types\u001b[49m\u001b[43m(\u001b[49m\u001b[38;5;124;43m'\u001b[39;49m\u001b[38;5;124;43mjoin\u001b[39;49m\u001b[38;5;124;43m'\u001b[39;49m\u001b[43m,\u001b[49m\u001b[43m \u001b[49m\u001b[43ma\u001b[49m\u001b[43m,\u001b[49m\u001b[43m \u001b[49m\u001b[38;5;241;43m*\u001b[39;49m\u001b[43mp\u001b[49m\u001b[43m)\u001b[49m\n\u001b[1;32m     91\u001b[0m     \u001b[38;5;28;01mraise\u001b[39;00m\n\u001b[1;32m     92\u001b[0m \u001b[38;5;28;01mreturn\u001b[39;00m path\n",
      "File \u001b[0;32m/usr/lib/python3.10/genericpath.py:152\u001b[0m, in \u001b[0;36m_check_arg_types\u001b[0;34m(funcname, *args)\u001b[0m\n\u001b[1;32m    150\u001b[0m         hasbytes \u001b[38;5;241m=\u001b[39m \u001b[38;5;28;01mTrue\u001b[39;00m\n\u001b[1;32m    151\u001b[0m     \u001b[38;5;28;01melse\u001b[39;00m:\n\u001b[0;32m--> 152\u001b[0m         \u001b[38;5;28;01mraise\u001b[39;00m \u001b[38;5;167;01mTypeError\u001b[39;00m(\u001b[38;5;124mf\u001b[39m\u001b[38;5;124m'\u001b[39m\u001b[38;5;132;01m{\u001b[39;00mfuncname\u001b[38;5;132;01m}\u001b[39;00m\u001b[38;5;124m() argument must be str, bytes, or \u001b[39m\u001b[38;5;124m'\u001b[39m\n\u001b[1;32m    153\u001b[0m                         \u001b[38;5;124mf\u001b[39m\u001b[38;5;124m'\u001b[39m\u001b[38;5;124mos.PathLike object, not \u001b[39m\u001b[38;5;132;01m{\u001b[39;00ms\u001b[38;5;241m.\u001b[39m\u001b[38;5;18m__class__\u001b[39m\u001b[38;5;241m.\u001b[39m\u001b[38;5;18m__name__\u001b[39m\u001b[38;5;132;01m!r}\u001b[39;00m\u001b[38;5;124m'\u001b[39m) \u001b[38;5;28;01mfrom\u001b[39;00m \u001b[38;5;28mNone\u001b[39m\n\u001b[1;32m    154\u001b[0m \u001b[38;5;28;01mif\u001b[39;00m hasstr \u001b[38;5;129;01mand\u001b[39;00m hasbytes:\n\u001b[1;32m    155\u001b[0m     \u001b[38;5;28;01mraise\u001b[39;00m \u001b[38;5;167;01mTypeError\u001b[39;00m(\u001b[38;5;124m\"\u001b[39m\u001b[38;5;124mCan\u001b[39m\u001b[38;5;124m'\u001b[39m\u001b[38;5;124mt mix strings and bytes in path components\u001b[39m\u001b[38;5;124m\"\u001b[39m) \u001b[38;5;28;01mfrom\u001b[39;00m \u001b[38;5;28mNone\u001b[39m\n",
      "\u001b[0;31mTypeError\u001b[0m: join() argument must be str, bytes, or os.PathLike object, not 'tuple'"
     ]
    }
   ],
   "source": [
    "from absbox.local.china import 信贷ABS\n",
    "信贷ABS.pull(\"TEST\",\"/home/xiaoyu/Downloads\",url=\"https://asset-backed.org/library\")"
   ]
  },
  {
   "cell_type": "code",
   "execution_count": 3,
   "id": "80f747ed-acad-4faf-ba85-73d2256ba2de",
   "metadata": {},
   "outputs": [
    {
     "name": "stdout",
     "output_type": "stream",
     "text": [
      "DEBUG header attachment; filename=\"test01.obj\"\n",
      "DEBUG filanem test01.obj\n"
     ]
    }
   ],
   "source": [
    "from absbox.local.china import 信贷ABS\n",
    "信贷ABS.pull(\"TEST\",\"/home/xiaoyu/Downloads\",url=\"https://asset-backed.org/library\")"
   ]
  },
  {
   "cell_type": "code",
   "execution_count": 5,
   "id": "4160d182-d433-4361-9156-5d2a448d57d2",
   "metadata": {},
   "outputs": [
    {
     "name": "stdout",
     "output_type": "stream",
     "text": [
      "DEBUG header attachment; filename*=utf-8''21%E4%BF%A1%E8%9E%8D%E5%AE%9C%E5%B1%851_202208.obj\n",
      "DEBUG filanem 21信融宜居1_202208.obj\n"
     ]
    }
   ],
   "source": [
    "信贷ABS.pull(\"21信融宜居1A1\",\"/home/xiaoyu/Downloads\",url=\"https://asset-backed.org/library\")"
   ]
  },
  {
   "cell_type": "code",
   "execution_count": 4,
   "id": "4e531f38-ccbd-44de-9ac5-6d6c4b2335f3",
   "metadata": {},
   "outputs": [
    {
     "name": "stdout",
     "output_type": "stream",
     "text": [
      "DEBUG header attachment; filename=\"test01.obj\"\n",
      "DEBUG filanem test01.obj\n"
     ]
    }
   ],
   "source": [
    "信贷ABS.pull(\"TEST\",\"/home/xiaoyu/Downloads\",url=\"https://asset-backed.org/library\")"
   ]
  },
  {
   "cell_type": "code",
   "execution_count": 6,
   "id": "ca694196-3b02-4850-b743-f159fc3f9b40",
   "metadata": {},
   "outputs": [
    {
     "data": {
      "text/plain": [
       "信贷ABS(名称='TEST01', 日期=('2021-03-01', '2021-06-15', '2021-07-26'), 兑付频率='每月', 资产池={'清单': [['按揭贷款', {'放款金额': 120, '放款利率': ['固定', 0.045], '初始期限': 30, '频率': '每月', '类型': '等额本金', '放款日': '2021-02-01'}, {'当前余额': 120, '当前利率': 0.08, '剩余期限': 20, '状态': '正常'}]]}, 账户=(('账户01', {'余额': 0}),), 债券=(('A1', {'当前余额': 100, '当前利率': 0.07, '初始余额': 100, '初始利率': 0.07, '起息日': '2020-01-03', '利率': {'固定': 0.08}, '债券类型': {'过手摊还': None}}), ('B', {'当前余额': 20, '当前利率': 0.0, '初始余额': 100, '初始利率': 0.07, '起息日': '2020-01-03', '利率': {'固定': 0.0}, '债券类型': {'权益': None}})), 费用=(), 分配规则={'未违约': [['支付利息', '账户01', ['A1']], ['支付本金', '账户01', ['A1']], ['支付本金', '账户01', ['B']], ['支付收益', '账户01', 'B']]}, 归集规则=(['利息回款', '账户01'], ['本金回款', '账户01'], ['早偿回款', '账户01'], ['回收回款', '账户01']), 清仓回购=None)"
      ]
     },
     "execution_count": 6,
     "metadata": {},
     "output_type": "execute_result"
    }
   ],
   "source": [
    "信贷ABS.load(\"/home/xiaoyu/Downloads/test01.obj\")"
   ]
  },
  {
   "cell_type": "code",
   "execution_count": null,
   "id": "f6b0079c-81d5-4ff3-a655-bb9876a9a1c8",
   "metadata": {},
   "outputs": [],
   "source": []
  }
 ],
 "metadata": {
  "kernelspec": {
   "display_name": "Python 3 (ipykernel)",
   "language": "python",
   "name": "python3"
  },
  "language_info": {
   "codemirror_mode": {
    "name": "ipython",
    "version": 3
   },
   "file_extension": ".py",
   "mimetype": "text/x-python",
   "name": "python",
   "nbconvert_exporter": "python",
   "pygments_lexer": "ipython3",
   "version": "3.10.7"
  }
 },
 "nbformat": 4,
 "nbformat_minor": 5
}
