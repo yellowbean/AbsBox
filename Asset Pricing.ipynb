{
 "cells": [
  {
   "cell_type": "markdown",
   "id": "445d1a38",
   "metadata": {},
   "source": [
    "### Pricing On Asset"
   ]
  },
  {
   "cell_type": "markdown",
   "id": "bdbb76b2",
   "metadata": {},
   "source": [
    "#### Pricing a single asset"
   ]
  },
  {
   "cell_type": "code",
   "execution_count": 15,
   "id": "04550800",
   "metadata": {},
   "outputs": [],
   "source": [
    "%load_ext autoreload\n",
    "%autoreload 2"
   ]
  },
  {
   "cell_type": "code",
   "execution_count": 18,
   "id": "8f6c2f00",
   "metadata": {},
   "outputs": [
    {
     "data": {
      "text/html": [
       "<pre style=\"white-space:pre;overflow-x:auto;line-height:normal;font-family:Menlo,'DejaVu Sans Mono',consolas,'Courier New',monospace\"><span style=\"color: #800080; text-decoration-color: #800080; font-weight: bold\">Connecting engine server -&gt; </span><span style=\"color: #800080; text-decoration-color: #800080; font-weight: bold; text-decoration: underline\">https://absbox.org/api/dev</span>\n",
       "</pre>\n"
      ],
      "text/plain": [
       "\u001b[1;35mConnecting engine server -> \u001b[0m\u001b[1;4;35mhttps://absbox.org/api/dev\u001b[0m\n"
      ]
     },
     "metadata": {},
     "output_type": "display_data"
    },
    {
     "data": {
      "text/html": [
       "<pre style=\"white-space:pre;overflow-x:auto;line-height:normal;font-family:Menlo,'DejaVu Sans Mono',consolas,'Courier New',monospace\">✅<span style=\"color: #008000; text-decoration-color: #008000; font-weight: bold\">Connected, local lib:0.</span><span style=\"color: #008000; text-decoration-color: #008000; font-weight: bold\">28.7</span><span style=\"color: #008000; text-decoration-color: #008000; font-weight: bold\">, server:</span><span style=\"color: #008000; text-decoration-color: #008000; font-weight: bold\">0.28</span><span style=\"color: #008000; text-decoration-color: #008000; font-weight: bold\">.</span><span style=\"color: #008000; text-decoration-color: #008000; font-weight: bold\">19</span>\n",
       "</pre>\n"
      ],
      "text/plain": [
       "✅\u001b[1;32mConnected, local li\u001b[0m\u001b[1;32mb:0\u001b[0m\u001b[1;32m.\u001b[0m\u001b[1;32m28.7\u001b[0m\u001b[1;32m, server:\u001b[0m\u001b[1;32m0.28\u001b[0m\u001b[1;32m.\u001b[0m\u001b[1;32m19\u001b[0m\n"
      ]
     },
     "metadata": {},
     "output_type": "display_data"
    }
   ],
   "source": [
    "from absbox import API,EnginePath\n",
    "\n",
    "localAPI = API(\"https://absbox.org/api/dev\",lang='english')"
   ]
  },
  {
   "cell_type": "code",
   "execution_count": 19,
   "id": "7ad20c4f",
   "metadata": {},
   "outputs": [
    {
     "data": {
      "text/plain": [
       "{'HistoryDefaults': 16.69, 'HistoryDelinquency': 0, 'HistoryLoss': 16.69}"
      ]
     },
     "execution_count": 19,
     "metadata": {},
     "output_type": "execute_result"
    }
   ],
   "source": [
    "myAsset = [\"Mortgage\"\n",
    "          ,{\"originBalance\": 12000.0\n",
    "           ,\"originRate\": [\"fix\",0.045]\n",
    "           ,\"originTerm\": 120\n",
    "           ,\"freq\": \"monthly\"\n",
    "           ,\"type\": \"level\"\n",
    "           ,\"originDate\": \"2021-02-01\"}\n",
    "          ,{\"currentBalance\": 10000.0\n",
    "           ,\"currentRate\": 0.075\n",
    "           ,\"remainTerm\": 80\n",
    "           ,\"status\": \"current\"}]\n",
    "\n",
    "r = localAPI.runAsset(\"2024-08-02\"\n",
    "                     ,[myAsset]\n",
    "                     ,poolAssump=(\"Pool\",(\"Mortgage\",{'CDR':0.01},None,None,None)\n",
    "                                        ,None\n",
    "                                        ,None)\n",
    "                     ,pricing = [\"贴现曲线\", [[\"2021-01-01\",0.025]\n",
    "                                            ,[\"2024-08-01\",0.025]]] \n",
    "                     \n",
    "                     ,read=True)\n",
    "\n",
    "(cf,stat,pricing) = r\n",
    "\n",
    "# asset cashflow\n",
    "r[0]\n",
    "# cumulative defaults/loss/delinq before cutoff date\n",
    "r[1]\n",
    "\n",
    "# or just pattern match on the result\n"
   ]
  },
  {
   "cell_type": "code",
   "execution_count": 20,
   "id": "3a22ca25",
   "metadata": {},
   "outputs": [
    {
     "data": {
      "text/html": [
       "<div>\n",
       "<style scoped>\n",
       "    .dataframe tbody tr th:only-of-type {\n",
       "        vertical-align: middle;\n",
       "    }\n",
       "\n",
       "    .dataframe tbody tr th {\n",
       "        vertical-align: top;\n",
       "    }\n",
       "\n",
       "    .dataframe thead th {\n",
       "        text-align: right;\n",
       "    }\n",
       "</style>\n",
       "<table border=\"1\" class=\"dataframe\">\n",
       "  <thead>\n",
       "    <tr style=\"text-align: right;\">\n",
       "      <th></th>\n",
       "      <th>Pricing</th>\n",
       "      <th>WAL</th>\n",
       "      <th>Duration</th>\n",
       "      <th>Convexity</th>\n",
       "      <th>AccruedInterest</th>\n",
       "    </tr>\n",
       "  </thead>\n",
       "  <tbody>\n",
       "    <tr>\n",
       "      <th>0</th>\n",
       "      <td>11082.16</td>\n",
       "      <td>3.9</td>\n",
       "      <td>2.19</td>\n",
       "      <td>-1</td>\n",
       "      <td>2.05</td>\n",
       "    </tr>\n",
       "  </tbody>\n",
       "</table>\n",
       "</div>"
      ],
      "text/plain": [
       "    Pricing  WAL  Duration  Convexity  AccruedInterest\n",
       "0  11082.16  3.9      2.19         -1             2.05"
      ]
     },
     "execution_count": 20,
     "metadata": {},
     "output_type": "execute_result"
    }
   ],
   "source": [
    "pricing"
   ]
  },
  {
   "cell_type": "code",
   "execution_count": null,
   "id": "bc913d2d",
   "metadata": {},
   "outputs": [],
   "source": []
  }
 ],
 "metadata": {
  "kernelspec": {
   "display_name": "Python 3 (ipykernel)",
   "language": "python",
   "name": "python3"
  },
  "language_info": {
   "codemirror_mode": {
    "name": "ipython",
    "version": 3
   },
   "file_extension": ".py",
   "mimetype": "text/x-python",
   "name": "python",
   "nbconvert_exporter": "python",
   "pygments_lexer": "ipython3",
   "version": "3.11.9"
  }
 },
 "nbformat": 4,
 "nbformat_minor": 5
}
