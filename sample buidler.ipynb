{
 "cells": [
  {
   "cell_type": "code",
   "execution_count": 1,
   "id": "83b3b2b0",
   "metadata": {},
   "outputs": [],
   "source": [
    "%load_ext autoreload\n",
    "%autoreload 2"
   ]
  },
  {
   "cell_type": "code",
   "execution_count": 2,
   "id": "5a4c36ee",
   "metadata": {},
   "outputs": [
    {
     "data": {
      "text/html": [
       "<pre style=\"white-space:pre;overflow-x:auto;line-height:normal;font-family:Menlo,'DejaVu Sans Mono',consolas,'Courier New',monospace\"><span style=\"color: #800080; text-decoration-color: #800080; font-weight: bold\">Connecting engine server -&gt; </span><span style=\"color: #800080; text-decoration-color: #800080; font-weight: bold; text-decoration: underline\">https://absbox.org/api/dev</span>\n",
       "</pre>\n"
      ],
      "text/plain": [
       "\u001b[1;35mConnecting engine server -> \u001b[0m\u001b[1;4;35mhttps://absbox.org/api/dev\u001b[0m\n"
      ]
     },
     "metadata": {},
     "output_type": "display_data"
    },
    {
     "data": {
      "text/html": [
       "<pre style=\"white-space:pre;overflow-x:auto;line-height:normal;font-family:Menlo,'DejaVu Sans Mono',consolas,'Courier New',monospace\">✅<span style=\"color: #008000; text-decoration-color: #008000; font-weight: bold\">Connected, local lib:0.</span><span style=\"color: #008000; text-decoration-color: #008000; font-weight: bold\">26.4</span><span style=\"color: #008000; text-decoration-color: #008000; font-weight: bold\">, server:</span><span style=\"color: #008000; text-decoration-color: #008000; font-weight: bold\">0.26</span><span style=\"color: #008000; text-decoration-color: #008000; font-weight: bold\">.</span><span style=\"color: #008000; text-decoration-color: #008000; font-weight: bold\">5</span>\n",
       "</pre>\n"
      ],
      "text/plain": [
       "✅\u001b[1;32mConnected, local li\u001b[0m\u001b[1;32mb:0\u001b[0m\u001b[1;32m.\u001b[0m\u001b[1;32m26.4\u001b[0m\u001b[1;32m, server:\u001b[0m\u001b[1;32m0.26\u001b[0m\u001b[1;32m.\u001b[0m\u001b[1;32m5\u001b[0m\n"
      ]
     },
     "metadata": {},
     "output_type": "display_data"
    }
   ],
   "source": [
    "from absbox import API,EnginePath\n",
    "\n",
    "localAPI = API(EnginePath.DEV, lang='english',check=False)"
   ]
  },
  {
   "cell_type": "code",
   "execution_count": 3,
   "id": "233a2905",
   "metadata": {},
   "outputs": [],
   "source": [
    "from absbox import examples"
   ]
  },
  {
   "cell_type": "code",
   "execution_count": 4,
   "id": "626697d7",
   "metadata": {},
   "outputs": [
    {
     "data": {
      "text/plain": [
       "[['Mortgage',\n",
       "  {'originBalance': 2200,\n",
       "   'originRate': ['fix', 0.045],\n",
       "   'originTerm': 20,\n",
       "   'freq': 'Monthly',\n",
       "   'type': 'Level',\n",
       "   'originDate': '2021-02-01'},\n",
       "  {'currentBalance': 2200,\n",
       "   'currentRate': 0.08,\n",
       "   'remainTerm': 20,\n",
       "   'status': 'current'}]]"
      ]
     },
     "execution_count": 4,
     "metadata": {},
     "output_type": "execute_result"
    }
   ],
   "source": [
    "examples.test01.pool['assets']"
   ]
  },
  {
   "cell_type": "code",
   "execution_count": 5,
   "id": "4638d852",
   "metadata": {},
   "outputs": [],
   "source": [
    "r = localAPI.run(examples.test01\n",
    "               ,poolAssump = (\"Pool\",(\"Mortgage\",None,None,None,None)\n",
    "                                       ,None\n",
    "                                       ,None)\n",
    "               ,runAssump = None\n",
    "               ,read=True)"
   ]
  },
  {
   "cell_type": "code",
   "execution_count": 10,
   "id": "61b0ea0d",
   "metadata": {},
   "outputs": [
    {
     "data": {
      "text/plain": [
       "[('2021-04-01', 1992.91, 207.09, 28.63, 0, 0, 0, 0, 0.08, None, None, 207.09, 0, 0, 0, 0, 0),\n",
       " ('2021-05-01', 1888.33, 104.58, 13.28, 0, 0, 0, 0, 0.08, None, None, 311.67, 0, 0, 0, 0, 0),\n",
       " ('2021-06-01', 1783.05, 105.28, 12.58, 0, 0, 0, 0, 0.08, None, None, 416.95, 0, 0, 0, 0, 0),\n",
       " ('2021-07-01', 1677.08, 105.97, 11.88, 0, 0, 0, 0, 0.08, None, None, 522.92, 0, 0, 0, 0, 0),\n",
       " ('2021-08-01', 1570.39, 106.69, 11.17, 0, 0, 0, 0, 0.08, None, None, 629.61, 0, 0, 0, 0, 0),\n",
       " ('2021-09-01', 1463., 107.39, 10.46, 0, 0, 0, 0, 0.08, None, None, 737., 0, 0, 0, 0, 0),\n",
       " ('2021-10-01', 1354.9, 108.1, 9.75, 0, 0, 0, 0, 0.08, None, None, 845.1, 0, 0, 0, 0, 0),\n",
       " ('2021-11-01', 1246.07, 108.83, 9.03, 0, 0, 0, 0, 0.08, None, None, 953.93, 0, 0, 0, 0, 0),\n",
       " ('2021-12-01', 1136.52, 109.55, 8.3, 0, 0, 0, 0, 0.08, None, None, 1063.48, 0, 0, 0, 0, 0),\n",
       " ('2022-01-01', 1026.23, 110.29, 7.57, 0, 0, 0, 0, 0.08, None, None, 1173.77, 0, 0, 0, 0, 0)]"
      ]
     },
     "execution_count": 10,
     "metadata": {},
     "output_type": "execute_result"
    }
   ],
   "source": [
    "list(r['pool']['flow'].to_records())[:10]"
   ]
  },
  {
   "cell_type": "code",
   "execution_count": 14,
   "id": "cc41f333",
   "metadata": {},
   "outputs": [
    {
     "data": {
      "text/plain": [
       "[('2021-06-20', 543.9, 15.34, 456.1, 0.07, 471.44, 0.5439, list(['<PayInt:A1>', '<PayPrin:A1>'])),\n",
       " ('2021-07-20', 429.17, 3.12, 114.73, 0.07, 117.85, 0.42917, list(['<PayInt:A1>', '<PayPrin:A1>'])),\n",
       " ('2021-08-20', 313.86, 2.55, 115.31, 0.07, 117.86, 0.31386, list(['<PayInt:A1>', '<PayPrin:A1>'])),\n",
       " ('2021-09-20', 197.87, 1.86, 115.99, 0.07, 117.85, 0.19787, list(['<PayInt:A1>', '<PayPrin:A1>'])),\n",
       " ('2021-10-20', 81.15, 1.13, 116.72, 0.07, 117.85, 0.08115, list(['<PayInt:A1>', '<PayPrin:A1>'])),\n",
       " ('2021-11-20', 0., 0.48, 81.15, 0.07, 81.63, 0., list(['<PayInt:A1>', '<PayPrin:A1>']))]"
      ]
     },
     "execution_count": 14,
     "metadata": {},
     "output_type": "execute_result"
    }
   ],
   "source": [
    "list(r['bonds']['A1'].to_records())"
   ]
  },
  {
   "cell_type": "code",
   "execution_count": null,
   "id": "2b41e195",
   "metadata": {},
   "outputs": [],
   "source": []
  }
 ],
 "metadata": {
  "kernelspec": {
   "display_name": "Python 3 (ipykernel)",
   "language": "python",
   "name": "python3"
  },
  "language_info": {
   "codemirror_mode": {
    "name": "ipython",
    "version": 3
   },
   "file_extension": ".py",
   "mimetype": "text/x-python",
   "name": "python",
   "nbconvert_exporter": "python",
   "pygments_lexer": "ipython3",
   "version": "3.11.9"
  }
 },
 "nbformat": 4,
 "nbformat_minor": 5
}
