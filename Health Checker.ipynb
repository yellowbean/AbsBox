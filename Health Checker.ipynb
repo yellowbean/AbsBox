{
 "cells": [
  {
   "cell_type": "code",
   "execution_count": 6,
   "id": "bb066c1d",
   "metadata": {},
   "outputs": [],
   "source": [
    "import requests,json"
   ]
  },
  {
   "cell_type": "code",
   "execution_count": 5,
   "id": "52bf65cd",
   "metadata": {},
   "outputs": [
    {
     "data": {
      "text/plain": [
       "'{\"version\":\"0.0.2\"}'"
      ]
     },
     "execution_count": 5,
     "metadata": {},
     "output_type": "execute_result"
    }
   ],
   "source": []
  },
  {
   "cell_type": "code",
   "execution_count": 31,
   "id": "c4578c03",
   "metadata": {},
   "outputs": [],
   "source": [
    "def ping(x):\n",
    "    return json.loads(requests.get(x).text)\n",
    "\n",
    "def show_icon(x,s,f):\n",
    "    try:\n",
    "        r = ping(x)\n",
    "        if 'version' in r:\n",
    "            return r\n",
    "        else:\n",
    "            return {\"error\":\"service is off\"}\n",
    "    except Exception as e:\n",
    "        return {\"error\":\"server is off\"}\n",
    "    except gaierror as e:\n",
    "        return f\n",
    "    except NewConnectionError as e:\n",
    "        return f\n",
    "    except MaxRetryError as e:\n",
    "        return f\n",
    "    except ConnectionError as e:\n",
    "        return f"
   ]
  },
  {
   "cell_type": "code",
   "execution_count": 32,
   "id": "c9d44037",
   "metadata": {},
   "outputs": [
    {
     "data": {
      "text/plain": [
       "{'version': '0.0.2'}"
      ]
     },
     "execution_count": 32,
     "metadata": {},
     "output_type": "execute_result"
    }
   ],
   "source": [
    "u = \"http://localhost:8081/version\"\n",
    "#ping(u)\n",
    "show_icon(u,\"S\",\"F\")"
   ]
  },
  {
   "cell_type": "code",
   "execution_count": null,
   "id": "091e2617",
   "metadata": {},
   "outputs": [],
   "source": []
  },
  {
   "cell_type": "code",
   "execution_count": null,
   "id": "491b2292",
   "metadata": {},
   "outputs": [],
   "source": []
  }
 ],
 "metadata": {
  "kernelspec": {
   "display_name": "Python 3 (ipykernel)",
   "language": "python",
   "name": "python3"
  },
  "language_info": {
   "codemirror_mode": {
    "name": "ipython",
    "version": 3
   },
   "file_extension": ".py",
   "mimetype": "text/x-python",
   "name": "python",
   "nbconvert_exporter": "python",
   "pygments_lexer": "ipython3",
   "version": "3.10.7"
  }
 },
 "nbformat": 4,
 "nbformat_minor": 5
}
