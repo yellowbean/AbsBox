{
 "cells": [
  {
   "cell_type": "code",
   "execution_count": 29,
   "id": "4b26f147",
   "metadata": {},
   "outputs": [
    {
     "name": "stdout",
     "output_type": "stream",
     "text": [
      "The autoreload extension is already loaded. To reload it, use:\n",
      "  %reload_ext autoreload\n"
     ]
    }
   ],
   "source": [
    "%load_ext autoreload\n",
    "%autoreload 2"
   ]
  },
  {
   "cell_type": "code",
   "execution_count": 30,
   "id": "dad5ef65-f106-4a78-a9b6-c729f49ff422",
   "metadata": {},
   "outputs": [],
   "source": [
    "import toolz as tz"
   ]
  },
  {
   "cell_type": "code",
   "execution_count": 31,
   "id": "2ad3baf8",
   "metadata": {},
   "outputs": [],
   "source": [
    "import pandas\n",
    "pandas.set_option('display.max_rows', None)"
   ]
  },
  {
   "cell_type": "code",
   "execution_count": 331,
   "id": "55d565de",
   "metadata": {},
   "outputs": [],
   "source": [
    "from absbox import Generic\n",
    "\n",
    "test01 = Generic(\n",
    "    \"TEST01\"\n",
    "    ,{\"cutoff\":\"2021-03-01\",\"closing\":\"2021-06-15\",\"firstPay\":\"2021-07-26\"\n",
    "     ,\"payFreq\":[\"DayOfMonth\",20],\"poolFreq\":\"MonthEnd\",\"stated\":\"2025-01-01\"}\n",
    "    ,{'assets':[[\"Mortgage\" ,{\"originBalance\":0,\"originRate\":[\"fix\",0.045],\"originTerm\":30\n",
    "                            ,\"freq\":\"Monthly\",\"type\":\"Level\",\"originDate\":\"2021-02-01\"}\n",
    "                    ,{\"currentBalance\":0 ,\"currentRate\":0.08 ,\"remainTerm\":24 ,\"status\":\"current\"}]]}\n",
    "    ,((\"acc01\",{\"balance\":0}),(\"buyAcc\",None))\n",
    "    ,tuple()\n",
    "    ,((\"trusteeFee\",{\"type\":{\"fixFee\":30}}),)\n",
    "    ,{(\"DistributionDay\",\"Warehousing\"):[\n",
    "         [\"payFee\",\"acc01\",['trusteeFee']]\n",
    "         ,[\"liqAccrue\",\"warehouse\"]\n",
    "         ,[\"liqSupport\", \"warehouse\", \"account\", \"buyAcc\", {\"formula\":(\"custom\",\"buyCurve\")}]\n",
    "         ,[\"IfElse\",[\"<\",\"2022-08-20\"]\n",
    "            ,[[\"buyAsset\",[\"Current|Defaulted\",0.3,0],\"buyAcc\",None]]\n",
    "            ,[\n",
    "                #[\"liqRepay\",\"fee\",\"acc01\",\"warehouse\"],\n",
    "                #[\"liqRepay\",\"fee\",\"acc01\",\"warehouse\"],\n",
    "                [\"liqRepay\",[\"int\",\"fee\",\"bal\"],\"acc01\",\"warehouse\"],\n",
    "            ]\n",
    "            ]\n",
    "        \n",
    "     ]\n",
    "    ,\"cleanUp\":[\n",
    "        [\"sellAsset\", [\"PvRate\", 0.08], \"acc01\"] \n",
    "        #[\"sellAsset\", [\"Current|Defaulted\", 0.9, 0.2], \"acc01\"] \n",
    "    ]}\n",
    "    ,[[\"CollectedCash\",\"acc01\"]]\n",
    "    ,{\"warehouse\":{\n",
    "        \"credit\" : 2000\n",
    "        ,\"balance\":300\n",
    "        ,\"type\": {\"total\": 4000}\n",
    "        ,\"creditCalc\":\"IncludeDueInt\"\n",
    "        ,\"start\": \"2021-06-15\"\n",
    "        ,\"rateType\": (\"fix\", 0.05)\n",
    "        ,\"feeType\": (\"fix\", 0.03)\n",
    "        ,\"rate\":0.03\n",
    "        ,\"fee\":0.01\n",
    "        }\n",
    "     }\n",
    "    ,None\n",
    "    ,None\n",
    "    ,None\n",
    "    ,\"Warehousing\"\n",
    "    ,{\"buyCurve\": {\"BalanceCurve\": [\n",
    "        [\"2022-01-01\",500]\n",
    "        ,[\"2022-06-01\",1000]\n",
    "    ] \n",
    "    }})"
   ]
  },
  {
   "cell_type": "code",
   "execution_count": 332,
   "id": "238b41af",
   "metadata": {},
   "outputs": [
    {
     "data": {
      "text/html": [
       "<pre style=\"white-space:pre;overflow-x:auto;line-height:normal;font-family:Menlo,'DejaVu Sans Mono',consolas,'Courier New',monospace\"><span style=\"color: #800080; text-decoration-color: #800080; font-weight: bold\">Connecting engine server -&gt; </span><span style=\"color: #800080; text-decoration-color: #800080; font-weight: bold; text-decoration: underline\">http://localhost:8081</span>\n",
       "</pre>\n"
      ],
      "text/plain": [
       "\u001b[1;35mConnecting engine server -> \u001b[0m\u001b[1;4;35mhttp://localhost:8081\u001b[0m\n"
      ]
     },
     "metadata": {},
     "output_type": "display_data"
    },
    {
     "data": {
      "text/html": [
       "<pre style=\"white-space:pre;overflow-x:auto;line-height:normal;font-family:Menlo,'DejaVu Sans Mono',consolas,'Courier New',monospace\">✅<span style=\"color: #008000; text-decoration-color: #008000; font-weight: bold\">Connected, local lib:0.</span><span style=\"color: #008000; text-decoration-color: #008000; font-weight: bold\">28.7</span><span style=\"color: #008000; text-decoration-color: #008000; font-weight: bold\">, server:</span><span style=\"color: #008000; text-decoration-color: #008000; font-weight: bold\">0.29</span><span style=\"color: #008000; text-decoration-color: #008000; font-weight: bold\">.</span><span style=\"color: #008000; text-decoration-color: #008000; font-weight: bold\">20</span>\n",
       "</pre>\n"
      ],
      "text/plain": [
       "✅\u001b[1;32mConnected, local li\u001b[0m\u001b[1;32mb:0\u001b[0m\u001b[1;32m.\u001b[0m\u001b[1;32m28.7\u001b[0m\u001b[1;32m, server:\u001b[0m\u001b[1;32m0.29\u001b[0m\u001b[1;32m.\u001b[0m\u001b[1;32m20\u001b[0m\n"
      ]
     },
     "metadata": {},
     "output_type": "display_data"
    }
   ],
   "source": [
    "from absbox import API,EnginePath\n",
    "localAPI = API(EnginePath.LOCAL,check=False)"
   ]
  },
  {
   "cell_type": "code",
   "execution_count": 333,
   "id": "c0642279",
   "metadata": {},
   "outputs": [
    {
     "data": {
      "text/html": [
       "<pre style=\"white-space:pre;overflow-x:auto;line-height:normal;font-family:Menlo,'DejaVu Sans Mono',consolas,'Courier New',monospace\">Warning Message from server:\n",
       "<span style=\"color: #808000; text-decoration-color: #808000; font-weight: bold\">Account acc01 has cash to be distributed</span>\n",
       "<span style=\"color: #808000; text-decoration-color: #808000; font-weight: bold\">Account buyAcc has cash to be distributed</span>\n",
       "</pre>\n"
      ],
      "text/plain": [
       "Warning Message from server:\n",
       "\u001b[1;33mAccount acc01 has cash to be distributed\u001b[0m\n",
       "\u001b[1;33mAccount buyAcc has cash to be distributed\u001b[0m\n"
      ]
     },
     "metadata": {},
     "output_type": "display_data"
    }
   ],
   "source": [
    "revol_asset = [\"Mortgage\"\n",
    "                ,{\"originBalance\":10,\"originRate\":[\"fix\",0.045],\"originTerm\":30\n",
    "                  ,\"freq\":\"Monthly\",\"type\":\"Level\",\"originDate\":\"2021-07-01\"}\n",
    "                  ,{\"currentBalance\":10\n",
    "                  ,\"currentRate\":0.08\n",
    "                  ,\"remainTerm\":12\n",
    "                  ,\"status\":\"current\"}]\n",
    "\n",
    "\n",
    "r = localAPI.run(test01,\n",
    "           runAssump=[(\"revolving\"\n",
    "                         ,[\"constant\",revol_asset]\n",
    "                         ,(\"Pool\",(\"Mortgage\",None,None,None,None)\n",
    "                                   ,None\n",
    "                                   ,None))\n",
    "                      ,(\"inspect\",(\"MonthEnd\",[(\"poolBalance\",),(\"bondBalance\",)]))\n",
    "                      ,(\"call\",(\"afterDate\",\"2022-09-20\"))\n",
    "                      #,(\"stop\",\"2022-06-20\")\n",
    "                       ],\n",
    "           read=True)"
   ]
  },
  {
   "cell_type": "code",
   "execution_count": 334,
   "id": "ead7d49f-f7c9-425e-a691-116362f32461",
   "metadata": {},
   "outputs": [
    {
     "data": {
      "text/html": [
       "<div>\n",
       "<style scoped>\n",
       "    .dataframe tbody tr th:only-of-type {\n",
       "        vertical-align: middle;\n",
       "    }\n",
       "\n",
       "    .dataframe tbody tr th {\n",
       "        vertical-align: top;\n",
       "    }\n",
       "\n",
       "    .dataframe thead th {\n",
       "        text-align: right;\n",
       "    }\n",
       "</style>\n",
       "<table border=\"1\" class=\"dataframe\">\n",
       "  <thead>\n",
       "    <tr style=\"text-align: right;\">\n",
       "      <th></th>\n",
       "      <th>balance</th>\n",
       "      <th>change</th>\n",
       "      <th>memo</th>\n",
       "    </tr>\n",
       "    <tr>\n",
       "      <th>date</th>\n",
       "      <th></th>\n",
       "      <th></th>\n",
       "      <th></th>\n",
       "    </tr>\n",
       "  </thead>\n",
       "  <tbody>\n",
       "    <tr>\n",
       "      <th>2022-08-31</th>\n",
       "      <td>564.28</td>\n",
       "      <td>564.28</td>\n",
       "      <td>&lt;Pool:CollectedCash&gt;</td>\n",
       "    </tr>\n",
       "    <tr>\n",
       "      <th>2022-09-20</th>\n",
       "      <td>564.28</td>\n",
       "      <td>0.00</td>\n",
       "      <td>&lt;SeqPayFee:trusteeFee&gt;</td>\n",
       "    </tr>\n",
       "    <tr>\n",
       "      <th>2022-09-20</th>\n",
       "      <td>467.01</td>\n",
       "      <td>-97.27</td>\n",
       "      <td>&lt;Support:warehouse&gt;</td>\n",
       "    </tr>\n",
       "    <tr>\n",
       "      <th>2022-09-30</th>\n",
       "      <td>1031.29</td>\n",
       "      <td>564.28</td>\n",
       "      <td>&lt;Pool:CollectedCash&gt;</td>\n",
       "    </tr>\n",
       "    <tr>\n",
       "      <th>2022-10-20</th>\n",
       "      <td>4065.71</td>\n",
       "      <td>3034.42</td>\n",
       "      <td>&lt;Liquidation:&gt;</td>\n",
       "    </tr>\n",
       "  </tbody>\n",
       "</table>\n",
       "</div>"
      ],
      "text/plain": [
       "            balance   change                    memo\n",
       "date                                                \n",
       "2022-08-31   564.28   564.28    <Pool:CollectedCash>\n",
       "2022-09-20   564.28     0.00  <SeqPayFee:trusteeFee>\n",
       "2022-09-20   467.01   -97.27     <Support:warehouse>\n",
       "2022-09-30  1031.29   564.28    <Pool:CollectedCash>\n",
       "2022-10-20  4065.71  3034.42          <Liquidation:>"
      ]
     },
     "execution_count": 334,
     "metadata": {},
     "output_type": "execute_result"
    }
   ],
   "source": [
    "r['accounts']['acc01'].tail()"
   ]
  },
  {
   "cell_type": "code",
   "execution_count": 335,
   "id": "8ca94e05-3f24-446e-8193-2712de455335",
   "metadata": {},
   "outputs": [
    {
     "data": {
      "text/html": [
       "<div>\n",
       "<style scoped>\n",
       "    .dataframe tbody tr th:only-of-type {\n",
       "        vertical-align: middle;\n",
       "    }\n",
       "\n",
       "    .dataframe tbody tr th {\n",
       "        vertical-align: top;\n",
       "    }\n",
       "\n",
       "    .dataframe thead th {\n",
       "        text-align: right;\n",
       "    }\n",
       "</style>\n",
       "<table border=\"1\" class=\"dataframe\">\n",
       "  <thead>\n",
       "    <tr style=\"text-align: right;\">\n",
       "      <th></th>\n",
       "      <th>Date</th>\n",
       "      <th>From</th>\n",
       "      <th>To</th>\n",
       "    </tr>\n",
       "  </thead>\n",
       "  <tbody>\n",
       "    <tr>\n",
       "      <th>0</th>\n",
       "      <td>2022-10-20</td>\n",
       "      <td>Warehousing</td>\n",
       "      <td>Called</td>\n",
       "    </tr>\n",
       "    <tr>\n",
       "      <th>1</th>\n",
       "      <td>2022-10-20</td>\n",
       "      <td>DealEnd</td>\n",
       "      <td>Clean Up</td>\n",
       "    </tr>\n",
       "  </tbody>\n",
       "</table>\n",
       "</div>"
      ],
      "text/plain": [
       "         Date         From        To\n",
       "0  2022-10-20  Warehousing    Called\n",
       "1  2022-10-20      DealEnd  Clean Up"
      ]
     },
     "execution_count": 335,
     "metadata": {},
     "output_type": "execute_result"
    }
   ],
   "source": [
    "r['result']['status']"
   ]
  }
 ],
 "metadata": {
  "kernelspec": {
   "display_name": "Python 3 (ipykernel)",
   "language": "python",
   "name": "python3"
  },
  "language_info": {
   "codemirror_mode": {
    "name": "ipython",
    "version": 3
   },
   "file_extension": ".py",
   "mimetype": "text/x-python",
   "name": "python",
   "nbconvert_exporter": "python",
   "pygments_lexer": "ipython3",
   "version": "3.12.3"
  }
 },
 "nbformat": 4,
 "nbformat_minor": 5
}
