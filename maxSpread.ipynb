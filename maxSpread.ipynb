{
 "cells": [
  {
   "cell_type": "code",
   "execution_count": 1,
   "id": "9500e35c-f178-4bd9-8279-7f5aa014183d",
   "metadata": {},
   "outputs": [],
   "source": [
    "%load_ext autoreload\n",
    "%autoreload 2"
   ]
  },
  {
   "cell_type": "code",
   "execution_count": 2,
   "id": "426fe99a",
   "metadata": {},
   "outputs": [],
   "source": [
    "from absbox import API,Generic"
   ]
  },
  {
   "cell_type": "code",
   "execution_count": 3,
   "id": "bccf1e85",
   "metadata": {},
   "outputs": [],
   "source": [
    "test01 = Generic(\n",
    "    \"TEST01\"\n",
    "    ,{\"cutoff\":\"2021-03-01\",\"closing\":\"2021-06-15\",\"firstPay\":\"2021-07-26\"\n",
    "     ,\"payFreq\":[\"DayOfMonth\",20],\"poolFreq\":\"MonthEnd\",\"stated\":\"2030-01-01\"}\n",
    "    ,{'assets':[[\"Mortgage\"\n",
    "        ,{\"originBalance\":2200,\"originRate\":[\"fix\",0.045],\"originTerm\":30\n",
    "          ,\"freq\":\"Monthly\",\"type\":\"Level\",\"originDate\":\"2021-02-01\"}\n",
    "          ,{\"currentBalance\":2200\n",
    "          ,\"currentRate\":0.08\n",
    "          ,\"remainTerm\":20\n",
    "          ,\"status\":\"current\"}]]}\n",
    "    ,((\"acc01\",{\"balance\":0}),)\n",
    "    ,((\"A1\",{\"balance\":1000\n",
    "             ,\"rate\":0.01\n",
    "             ,\"originBalance\":1000\n",
    "             ,\"originRate\":0.01\n",
    "             ,\"startDate\":\"2021-06-15\"\n",
    "             ,\"rateType\":{\"Fixed\":0.01}\n",
    "             ,\"bondType\":{\"Sequential\":None}})\n",
    "      ,(\"B\",{\"balance\":1000\n",
    "             ,\"rate\":0.0\n",
    "             ,\"originBalance\":1000\n",
    "             ,\"originRate\":0.07\n",
    "             ,\"startDate\":\"2021-06-15\"\n",
    "             ,\"rateType\":{\"Fixed\":0.00}\n",
    "             ,\"bondType\":{\"Equity\":None}\n",
    "             }))\n",
    "    ,((\"trusteeFee\",{\"type\":{\"fixFee\":30}}),)\n",
    "    ,{\"amortizing\":[\n",
    "         [\"payFee\",\"acc01\",['trusteeFee']]\n",
    "         ,[\"accrueAndPayInt\",\"acc01\",[\"A1\"]]\n",
    "         ,[\"payPrin\",\"acc01\",[\"A1\"]]\n",
    "         ,[\"payPrin\",\"acc01\",[\"B\"]]\n",
    "         ,[\"payIntResidual\",\"acc01\",\"B\"]\n",
    "     ]}\n",
    "    ,[[\"CollectedInterest\",\"acc01\"]\n",
    "      ,[\"CollectedPrincipal\",\"acc01\"]\n",
    "      ,[\"CollectedPrepayment\",\"acc01\"]\n",
    "      ,[\"CollectedRecoveries\",\"acc01\"]]\n",
    "    ,None\n",
    "    ,None)"
   ]
  },
  {
   "cell_type": "code",
   "execution_count": 4,
   "id": "33ca4042",
   "metadata": {},
   "outputs": [
    {
     "data": {
      "text/html": [
       "<pre style=\"white-space:pre;overflow-x:auto;line-height:normal;font-family:Menlo,'DejaVu Sans Mono',consolas,'Courier New',monospace\"><span style=\"color: #800080; text-decoration-color: #800080; font-weight: bold\">Connecting engine server -&gt; </span><span style=\"color: #800080; text-decoration-color: #800080; font-weight: bold; text-decoration: underline\">http://localhost:8081</span>\n",
       "</pre>\n"
      ],
      "text/plain": [
       "\u001b[1;35mConnecting engine server -> \u001b[0m\u001b[1;4;35mhttp://localhost:8081\u001b[0m\n"
      ]
     },
     "metadata": {},
     "output_type": "display_data"
    },
    {
     "data": {
      "text/html": [
       "<pre style=\"white-space:pre;overflow-x:auto;line-height:normal;font-family:Menlo,'DejaVu Sans Mono',consolas,'Courier New',monospace\">✅<span style=\"color: #008000; text-decoration-color: #008000; font-weight: bold\">Connected, local lib:0.</span><span style=\"color: #008000; text-decoration-color: #008000; font-weight: bold\">28.7</span><span style=\"color: #008000; text-decoration-color: #008000; font-weight: bold\">, server:</span><span style=\"color: #008000; text-decoration-color: #008000; font-weight: bold\">0.42</span><span style=\"color: #008000; text-decoration-color: #008000; font-weight: bold\">.</span><span style=\"color: #008000; text-decoration-color: #008000; font-weight: bold\">12</span>\n",
       "</pre>\n"
      ],
      "text/plain": [
       "✅\u001b[1;32mConnected, local li\u001b[0m\u001b[1;32mb:0\u001b[0m\u001b[1;32m.\u001b[0m\u001b[1;32m28.7\u001b[0m\u001b[1;32m, server:\u001b[0m\u001b[1;32m0.42\u001b[0m\u001b[1;32m.\u001b[0m\u001b[1;32m12\u001b[0m\n"
      ]
     },
     "metadata": {},
     "output_type": "display_data"
    }
   ],
   "source": [
    "localAPI = API(\"http://localhost:8081/\",check=False)"
   ]
  },
  {
   "cell_type": "code",
   "execution_count": 41,
   "id": "83f7a2f5",
   "metadata": {},
   "outputs": [],
   "source": [
    "r = localAPI.runRootFinder(\n",
    "                 (\"maxSpreadToFace\"\n",
    "                  ,test01\n",
    "                  ,None\n",
    "                  ,[(\"pricing\"\n",
    "                      ,{\"date\":\"2021-06-15\"\n",
    "                        ,\"curve\":[[\"2021-01-01\",0.025]\n",
    "                                 ,[\"2025-08-01\",0.025]]})]\n",
    "                  ,(\"A1\",[\"A1\"])\n",
    "                  ,\"ScaleBySpread\")\n",
    "                ,read=True\n",
    ")"
   ]
  },
  {
   "cell_type": "code",
   "execution_count": 42,
   "id": "77335f7e-2aa6-4fab-9774-f27857a18f45",
   "metadata": {},
   "outputs": [
    {
     "data": {
      "text/plain": [
       "0.014902579429142521"
      ]
     },
     "execution_count": 42,
     "metadata": {},
     "output_type": "execute_result"
    }
   ],
   "source": [
    "r['BestSpreadResult'][0]"
   ]
  },
  {
   "cell_type": "code",
   "execution_count": 43,
   "id": "12e41604",
   "metadata": {},
   "outputs": [],
   "source": [
    "test02 = Generic(\n",
    "    \"TEST01\"\n",
    "    ,{\"cutoff\":\"2021-03-01\",\"closing\":\"2021-06-15\",\"firstPay\":\"2021-07-26\"\n",
    "     ,\"payFreq\":[\"DayOfMonth\",20],\"poolFreq\":\"MonthEnd\",\"stated\":\"2030-01-01\"}\n",
    "    ,{'assets':[[\"Mortgage\"\n",
    "        ,{\"originBalance\":2200,\"originRate\":[\"fix\",0.045],\"originTerm\":30\n",
    "          ,\"freq\":\"Monthly\",\"type\":\"Level\",\"originDate\":\"2021-02-01\"}\n",
    "          ,{\"currentBalance\":2200\n",
    "          ,\"currentRate\":0.08\n",
    "          ,\"remainTerm\":20\n",
    "          ,\"status\":\"current\"}]]}\n",
    "    ,((\"acc01\",{\"balance\":0}),)\n",
    "    ,((\"A1\",{\"balance\":1000\n",
    "             ,\"rate\":0.024897\n",
    "             ,\"originBalance\":1000\n",
    "             ,\"originRate\":0.01\n",
    "             ,\"startDate\":\"2021-06-15\"\n",
    "             ,\"rateType\":{\"Fixed\":0.01}\n",
    "             ,\"bondType\":{\"Sequential\":None}})\n",
    "      ,(\"B\",{\"balance\":1000\n",
    "             ,\"rate\":0.0\n",
    "             ,\"originBalance\":1000\n",
    "             ,\"originRate\":0.07\n",
    "             ,\"startDate\":\"2021-06-15\"\n",
    "             ,\"rateType\":{\"Fixed\":0.00}\n",
    "             ,\"bondType\":{\"Equity\":None}\n",
    "             }))\n",
    "    ,((\"trusteeFee\",{\"type\":{\"fixFee\":30}}),)\n",
    "    ,{\"amortizing\":[\n",
    "         [\"payFee\",\"acc01\",['trusteeFee']]\n",
    "         ,[\"accrueAndPayInt\",\"acc01\",[\"A1\"]]\n",
    "         ,[\"payPrin\",\"acc01\",[\"A1\"]]\n",
    "         ,[\"payPrin\",\"acc01\",[\"B\"]]\n",
    "         ,[\"payIntResidual\",\"acc01\",\"B\"]\n",
    "     ]}\n",
    "    ,[[\"CollectedInterest\",\"acc01\"]\n",
    "      ,[\"CollectedPrincipal\",\"acc01\"]\n",
    "      ,[\"CollectedPrepayment\",\"acc01\"]\n",
    "      ,[\"CollectedRecoveries\",\"acc01\"]]\n",
    "    ,None\n",
    "    ,None)"
   ]
  },
  {
   "cell_type": "code",
   "execution_count": 44,
   "id": "a6779913",
   "metadata": {},
   "outputs": [
    {
     "name": "stdout",
     "output_type": "stream",
     "text": [
      "Warning Message from server:\n",
      "\n"
     ]
    }
   ],
   "source": [
    "r = localAPI.run(test02\n",
    "                 ,runAssump = [(\"pricing\"\n",
    "                          ,{\"date\":\"2021-06-15\"\n",
    "                            ,\"curve\":[[\"2021-01-01\",0.025]\n",
    "                                     ,[\"2025-08-01\",0.025]]})]\n",
    "                 ,read=True)"
   ]
  },
  {
   "cell_type": "code",
   "execution_count": 45,
   "id": "a3da08bb-164f-4a43-9885-612c4995dbea",
   "metadata": {},
   "outputs": [
    {
     "data": {
      "text/html": [
       "<div>\n",
       "<style scoped>\n",
       "    .dataframe tbody tr th:only-of-type {\n",
       "        vertical-align: middle;\n",
       "    }\n",
       "\n",
       "    .dataframe tbody tr th {\n",
       "        vertical-align: top;\n",
       "    }\n",
       "\n",
       "    .dataframe thead th {\n",
       "        text-align: right;\n",
       "    }\n",
       "</style>\n",
       "<table border=\"1\" class=\"dataframe\">\n",
       "  <thead>\n",
       "    <tr style=\"text-align: right;\">\n",
       "      <th></th>\n",
       "      <th>balance</th>\n",
       "      <th>interest</th>\n",
       "      <th>principal</th>\n",
       "      <th>rate</th>\n",
       "      <th>cash</th>\n",
       "      <th>intDue</th>\n",
       "      <th>intOverInt</th>\n",
       "      <th>factor</th>\n",
       "      <th>memo</th>\n",
       "    </tr>\n",
       "    <tr>\n",
       "      <th>date</th>\n",
       "      <th></th>\n",
       "      <th></th>\n",
       "      <th></th>\n",
       "      <th></th>\n",
       "      <th></th>\n",
       "      <th></th>\n",
       "      <th></th>\n",
       "      <th></th>\n",
       "      <th></th>\n",
       "    </tr>\n",
       "  </thead>\n",
       "  <tbody>\n",
       "    <tr>\n",
       "      <th>2022-02-20</th>\n",
       "      <td>929.24</td>\n",
       "      <td>17.10</td>\n",
       "      <td>70.76</td>\n",
       "      <td>0.024897</td>\n",
       "      <td>87.86</td>\n",
       "      <td>0</td>\n",
       "      <td>0</td>\n",
       "      <td>0.92924</td>\n",
       "      <td>[&lt;PayInt:A1&gt;, &lt;PayPrin:A1&gt;]</td>\n",
       "    </tr>\n",
       "    <tr>\n",
       "      <th>2022-03-20</th>\n",
       "      <td>813.15</td>\n",
       "      <td>1.77</td>\n",
       "      <td>116.09</td>\n",
       "      <td>0.024897</td>\n",
       "      <td>117.86</td>\n",
       "      <td>0</td>\n",
       "      <td>0</td>\n",
       "      <td>0.81315</td>\n",
       "      <td>[&lt;PayInt:A1&gt;, &lt;PayPrin:A1&gt;]</td>\n",
       "    </tr>\n",
       "    <tr>\n",
       "      <th>2022-04-20</th>\n",
       "      <td>697.00</td>\n",
       "      <td>1.71</td>\n",
       "      <td>116.15</td>\n",
       "      <td>0.024897</td>\n",
       "      <td>117.86</td>\n",
       "      <td>0</td>\n",
       "      <td>0</td>\n",
       "      <td>0.69700</td>\n",
       "      <td>[&lt;PayInt:A1&gt;, &lt;PayPrin:A1&gt;]</td>\n",
       "    </tr>\n",
       "    <tr>\n",
       "      <th>2022-05-20</th>\n",
       "      <td>580.56</td>\n",
       "      <td>1.42</td>\n",
       "      <td>116.44</td>\n",
       "      <td>0.024897</td>\n",
       "      <td>117.86</td>\n",
       "      <td>0</td>\n",
       "      <td>0</td>\n",
       "      <td>0.58056</td>\n",
       "      <td>[&lt;PayInt:A1&gt;, &lt;PayPrin:A1&gt;]</td>\n",
       "    </tr>\n",
       "    <tr>\n",
       "      <th>2022-06-20</th>\n",
       "      <td>463.93</td>\n",
       "      <td>1.22</td>\n",
       "      <td>116.63</td>\n",
       "      <td>0.024897</td>\n",
       "      <td>117.85</td>\n",
       "      <td>0</td>\n",
       "      <td>0</td>\n",
       "      <td>0.46393</td>\n",
       "      <td>[&lt;PayInt:A1&gt;, &lt;PayPrin:A1&gt;]</td>\n",
       "    </tr>\n",
       "    <tr>\n",
       "      <th>2022-07-20</th>\n",
       "      <td>347.01</td>\n",
       "      <td>0.94</td>\n",
       "      <td>116.92</td>\n",
       "      <td>0.024897</td>\n",
       "      <td>117.86</td>\n",
       "      <td>0</td>\n",
       "      <td>0</td>\n",
       "      <td>0.34701</td>\n",
       "      <td>[&lt;PayInt:A1&gt;, &lt;PayPrin:A1&gt;]</td>\n",
       "    </tr>\n",
       "    <tr>\n",
       "      <th>2022-08-20</th>\n",
       "      <td>229.89</td>\n",
       "      <td>0.73</td>\n",
       "      <td>117.12</td>\n",
       "      <td>0.024897</td>\n",
       "      <td>117.85</td>\n",
       "      <td>0</td>\n",
       "      <td>0</td>\n",
       "      <td>0.22989</td>\n",
       "      <td>[&lt;PayInt:A1&gt;, &lt;PayPrin:A1&gt;]</td>\n",
       "    </tr>\n",
       "    <tr>\n",
       "      <th>2022-09-20</th>\n",
       "      <td>112.52</td>\n",
       "      <td>0.48</td>\n",
       "      <td>117.37</td>\n",
       "      <td>0.024897</td>\n",
       "      <td>117.85</td>\n",
       "      <td>0</td>\n",
       "      <td>0</td>\n",
       "      <td>0.11252</td>\n",
       "      <td>[&lt;PayInt:A1&gt;, &lt;PayPrin:A1&gt;]</td>\n",
       "    </tr>\n",
       "    <tr>\n",
       "      <th>2022-10-20</th>\n",
       "      <td>0.00</td>\n",
       "      <td>0.23</td>\n",
       "      <td>112.52</td>\n",
       "      <td>0.024897</td>\n",
       "      <td>112.75</td>\n",
       "      <td>0</td>\n",
       "      <td>0</td>\n",
       "      <td>0.00000</td>\n",
       "      <td>[&lt;PayInt:A1&gt;, &lt;PayPrin:A1&gt;]</td>\n",
       "    </tr>\n",
       "  </tbody>\n",
       "</table>\n",
       "</div>"
      ],
      "text/plain": [
       "            balance  interest  principal      rate    cash  intDue  \\\n",
       "date                                                                 \n",
       "2022-02-20   929.24     17.10      70.76  0.024897   87.86       0   \n",
       "2022-03-20   813.15      1.77     116.09  0.024897  117.86       0   \n",
       "2022-04-20   697.00      1.71     116.15  0.024897  117.86       0   \n",
       "2022-05-20   580.56      1.42     116.44  0.024897  117.86       0   \n",
       "2022-06-20   463.93      1.22     116.63  0.024897  117.85       0   \n",
       "2022-07-20   347.01      0.94     116.92  0.024897  117.86       0   \n",
       "2022-08-20   229.89      0.73     117.12  0.024897  117.85       0   \n",
       "2022-09-20   112.52      0.48     117.37  0.024897  117.85       0   \n",
       "2022-10-20     0.00      0.23     112.52  0.024897  112.75       0   \n",
       "\n",
       "            intOverInt   factor                         memo  \n",
       "date                                                          \n",
       "2022-02-20           0  0.92924  [<PayInt:A1>, <PayPrin:A1>]  \n",
       "2022-03-20           0  0.81315  [<PayInt:A1>, <PayPrin:A1>]  \n",
       "2022-04-20           0  0.69700  [<PayInt:A1>, <PayPrin:A1>]  \n",
       "2022-05-20           0  0.58056  [<PayInt:A1>, <PayPrin:A1>]  \n",
       "2022-06-20           0  0.46393  [<PayInt:A1>, <PayPrin:A1>]  \n",
       "2022-07-20           0  0.34701  [<PayInt:A1>, <PayPrin:A1>]  \n",
       "2022-08-20           0  0.22989  [<PayInt:A1>, <PayPrin:A1>]  \n",
       "2022-09-20           0  0.11252  [<PayInt:A1>, <PayPrin:A1>]  \n",
       "2022-10-20           0  0.00000  [<PayInt:A1>, <PayPrin:A1>]  "
      ]
     },
     "execution_count": 45,
     "metadata": {},
     "output_type": "execute_result"
    }
   ],
   "source": [
    "r['bonds']['A1']"
   ]
  },
  {
   "cell_type": "code",
   "execution_count": 46,
   "id": "69edb2ee-e726-464e-816c-2b6301886660",
   "metadata": {},
   "outputs": [
    {
     "data": {
      "text/html": [
       "<div>\n",
       "<style scoped>\n",
       "    .dataframe tbody tr th:only-of-type {\n",
       "        vertical-align: middle;\n",
       "    }\n",
       "\n",
       "    .dataframe tbody tr th {\n",
       "        vertical-align: top;\n",
       "    }\n",
       "\n",
       "    .dataframe thead th {\n",
       "        text-align: right;\n",
       "    }\n",
       "</style>\n",
       "<table border=\"1\" class=\"dataframe\">\n",
       "  <thead>\n",
       "    <tr style=\"text-align: right;\">\n",
       "      <th></th>\n",
       "      <th>pricing</th>\n",
       "      <th>face</th>\n",
       "      <th>WAL</th>\n",
       "      <th>duration</th>\n",
       "      <th>convexity</th>\n",
       "      <th>accure interest</th>\n",
       "    </tr>\n",
       "  </thead>\n",
       "  <tbody>\n",
       "    <tr>\n",
       "      <th>A1</th>\n",
       "      <td>1000.01</td>\n",
       "      <td>100.001</td>\n",
       "      <td>1.02</td>\n",
       "      <td>1.020871</td>\n",
       "      <td>0.09489</td>\n",
       "      <td>0</td>\n",
       "    </tr>\n",
       "    <tr>\n",
       "      <th>B</th>\n",
       "      <td>1243.51</td>\n",
       "      <td>124.351</td>\n",
       "      <td>1.74</td>\n",
       "      <td>1.844138</td>\n",
       "      <td>0.00000</td>\n",
       "      <td>0</td>\n",
       "    </tr>\n",
       "  </tbody>\n",
       "</table>\n",
       "</div>"
      ],
      "text/plain": [
       "    pricing     face   WAL  duration  convexity  accure interest\n",
       "A1  1000.01  100.001  1.02  1.020871    0.09489                0\n",
       "B   1243.51  124.351  1.74  1.844138    0.00000                0"
      ]
     },
     "execution_count": 46,
     "metadata": {},
     "output_type": "execute_result"
    }
   ],
   "source": [
    "r['pricing']['summary']"
   ]
  },
  {
   "cell_type": "code",
   "execution_count": null,
   "id": "b72b91f9-10b5-4c1f-8066-82b36fade4b4",
   "metadata": {},
   "outputs": [],
   "source": []
  }
 ],
 "metadata": {
  "kernelspec": {
   "display_name": "Python 3 (ipykernel)",
   "language": "python",
   "name": "python3"
  },
  "language_info": {
   "codemirror_mode": {
    "name": "ipython",
    "version": 3
   },
   "file_extension": ".py",
   "mimetype": "text/x-python",
   "name": "python",
   "nbconvert_exporter": "python",
   "pygments_lexer": "ipython3",
   "version": "3.12.3"
  }
 },
 "nbformat": 4,
 "nbformat_minor": 5
}
