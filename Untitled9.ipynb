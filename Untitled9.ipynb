{
 "cells": [
  {
   "cell_type": "code",
   "execution_count": null,
   "id": "c0478a43",
   "metadata": {},
   "outputs": [],
   "source": []
  },
  {
   "cell_type": "code",
   "execution_count": null,
   "id": "9ec34ccf",
   "metadata": {},
   "outputs": [],
   "source": []
  },
  {
   "cell_type": "markdown",
   "id": "c95116e3",
   "metadata": {},
   "source": [
    "# ptt test"
   ]
  },
  {
   "cell_type": "code",
   "execution_count": 9,
   "id": "3c8eb8af",
   "metadata": {},
   "outputs": [
    {
     "ename": "SyntaxError",
     "evalue": "invalid syntax (1515302854.py, line 3)",
     "output_type": "error",
     "traceback": [
      "\u001b[0;36m  Cell \u001b[0;32mIn[9], line 3\u001b[0;36m\u001b[0m\n\u001b[0;31m    case [a,b,**c]:\u001b[0m\n\u001b[0m              ^\u001b[0m\n\u001b[0;31mSyntaxError\u001b[0m\u001b[0;31m:\u001b[0m invalid syntax\n"
     ]
    }
   ],
   "source": [
    "def f(x):\n",
    "    match x:\n",
    "        case [a,b,**c]:\n",
    "            return c\n",
    "        case _:\n",
    "            return \"None\""
   ]
  },
  {
   "cell_type": "code",
   "execution_count": 8,
   "id": "b4290088",
   "metadata": {},
   "outputs": [
    {
     "data": {
      "text/plain": [
       "(4, 5)"
      ]
     },
     "execution_count": 8,
     "metadata": {},
     "output_type": "execute_result"
    }
   ],
   "source": [
    "f([3,{\"A\":4,\"B\":5}])"
   ]
  },
  {
   "cell_type": "code",
   "execution_count": 15,
   "id": "d461afdd",
   "metadata": {},
   "outputs": [],
   "source": [
    "def f2(x):\n",
    "    match x:\n",
    "        case [a,b,*c]:\n",
    "            print(\"Match\")\n",
    "            return c\n",
    "        case _:\n",
    "            return \"None\""
   ]
  },
  {
   "cell_type": "code",
   "execution_count": 16,
   "id": "f6130f49",
   "metadata": {},
   "outputs": [
    {
     "name": "stdout",
     "output_type": "stream",
     "text": [
      "Match\n"
     ]
    },
    {
     "data": {
      "text/plain": [
       "[None]"
      ]
     },
     "execution_count": 16,
     "metadata": {},
     "output_type": "execute_result"
    }
   ],
   "source": [
    "f2([1,2,None])"
   ]
  },
  {
   "cell_type": "code",
   "execution_count": null,
   "id": "a2f07299",
   "metadata": {},
   "outputs": [],
   "source": []
  }
 ],
 "metadata": {
  "kernelspec": {
   "display_name": "Python 3 (ipykernel)",
   "language": "python",
   "name": "python3"
  },
  "language_info": {
   "codemirror_mode": {
    "name": "ipython",
    "version": 3
   },
   "file_extension": ".py",
   "mimetype": "text/x-python",
   "name": "python",
   "nbconvert_exporter": "python",
   "pygments_lexer": "ipython3",
   "version": "3.11.3"
  }
 },
 "nbformat": 4,
 "nbformat_minor": 5
}
