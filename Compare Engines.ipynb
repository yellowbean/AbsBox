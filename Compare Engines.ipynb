{
 "cells": [
  {
   "cell_type": "code",
   "execution_count": 1,
   "id": "dae83222",
   "metadata": {},
   "outputs": [
    {
     "data": {
      "text/html": [
       "<pre style=\"white-space:pre;overflow-x:auto;line-height:normal;font-family:Menlo,'DejaVu Sans Mono',consolas,'Courier New',monospace\"><span style=\"color: #008000; text-decoration-color: #008000\">⠸</span>\n",
       "</pre>\n"
      ],
      "text/plain": [
       "\u001b[32m⠸\u001b[0m\n"
      ]
     },
     "metadata": {},
     "output_type": "display_data"
    },
    {
     "data": {
      "text/html": [
       "<pre style=\"white-space:pre;overflow-x:auto;line-height:normal;font-family:Menlo,'DejaVu Sans Mono',consolas,'Courier New',monospace\"></pre>\n"
      ],
      "text/plain": []
     },
     "metadata": {},
     "output_type": "display_data"
    },
    {
     "data": {
      "text/html": [
       "<pre style=\"white-space:pre;overflow-x:auto;line-height:normal;font-family:Menlo,'DejaVu Sans Mono',consolas,'Courier New',monospace\">Warning Message from server:\n",
       "<span style=\"color: #808000; text-decoration-color: #808000; font-weight: bold\">Bond B is not paid off</span>\n",
       "</pre>\n"
      ],
      "text/plain": [
       "Warning Message from server:\n",
       "\u001b[1;33mBond B is not paid off\u001b[0m\n"
      ]
     },
     "metadata": {},
     "output_type": "display_data"
    },
    {
     "data": {
      "text/plain": [
       "{'pool': True,\n",
       " 'fee': {'信托费用': True},\n",
       " 'bond': {'A1': True, 'B': True},\n",
       " 'account': {'账户01': True}}"
      ]
     },
     "execution_count": 1,
     "metadata": {},
     "output_type": "execute_result"
    }
   ],
   "source": [
    "from absbox import API,comp_engines,SPV\n",
    "from absbox.local.util import *\n",
    "import pickle,os\n",
    "import numpy as np\n",
    "import pandas as pd \n",
    "\n",
    "localAPI = API(\"http://localhost:8081\")\n",
    "remoteAPI = API(\"https://absbox.org/api/dev\")\n",
    "\n",
    "\n",
    "test01 = SPV(\n",
    "    \"Senior/Junior\"\n",
    "    ,{\"封包日\":\"2021-03-31\",\"起息日\":\"2021-06-15\",\"首次兑付日\":\"2021-07-26\"\n",
    "      ,\"法定到期日\":\"2060-12-01\",\"收款频率\":\"月末\",\"付款频率\":[\"每月\",26]}\n",
    "    ,{'清单':[[\"按揭贷款\"\n",
    "        ,{\"放款金额\":120,\"放款利率\":[\"固定\",0.045],\"初始期限\":30\n",
    "          ,\"频率\":\"每月\",\"类型\":\"等额本金\",\"放款日\":\"2021-02-01\"}\n",
    "          ,{\"当前余额\":120\n",
    "          ,\"当前利率\":0.08\n",
    "          ,\"剩余期限\":20\n",
    "          ,\"状态\":\"正常\"}]]}\n",
    "    ,((\"账户01\",{\"余额\":0}),)\n",
    "    ,((\"A1\",{\"当前余额\":100\n",
    "             ,\"当前利率\":0.07\n",
    "             ,\"初始余额\":100\n",
    "             ,\"初始利率\":0.07\n",
    "             ,\"起息日\":\"2020-01-03\"\n",
    "             ,\"利率\":{\"固定\":0.08}\n",
    "             ,\"债券类型\":{\"过手摊还\":None}})\n",
    "      ,(\"B\",{\"当前余额\":20\n",
    "             ,\"当前利率\":0.0\n",
    "             ,\"初始余额\":100\n",
    "             ,\"初始利率\":0.07\n",
    "             ,\"起息日\":\"2020-01-03\"\n",
    "             ,\"利率\":{\"固定\":0.00}\n",
    "             ,\"债券类型\":{\"权益\":None}\n",
    "             }))\n",
    "    ,((\"信托费用\",{\"类型\":{\"固定费用\":10}}),)\n",
    "    ,{\"未违约\":[\n",
    "         [\"支付费用\",\"账户01\",['信托费用']]\n",
    "         ,[\"计提支付利息\",\"账户01\",[\"A1\"]]\n",
    "         ,[\"支付本金\",\"账户01\",[\"A1\"]]\n",
    "         ,[\"支付本金\",\"账户01\",[\"B\"]]\n",
    "         ,[\"支付收益\",\"账户01\",\"B\"]\n",
    "     ]}\n",
    "    ,([\"利息回款\",\"账户01\"]\n",
    "      ,[\"本金回款\",\"账户01\"]\n",
    "      ,[\"早偿回款\",\"账户01\"]\n",
    "      ,[\"回收回款\",\"账户01\"])\n",
    "    ,None\n",
    "    ,None\n",
    "    ,None\n",
    "    ,None\n",
    "    ,(\"设计\",\"摊销\")\n",
    ")\n",
    "\n",
    "myAssump = [\n",
    "    {\"利率\":[\"LPR5Y\",[[\"2020-01-01\",0.05]]]}\n",
    "    ,{\"利率\":[\"LPR1Y\",[[\"2020-01-01\",0.04]]]}\n",
    "]\n",
    "\n",
    "rx = comp_engines(localAPI,remoteAPI,test01)\n",
    "rx"
   ]
  },
  {
   "cell_type": "code",
   "execution_count": 2,
   "id": "ccdb89c7",
   "metadata": {},
   "outputs": [
    {
     "ename": "NameError",
     "evalue": "name 'rx' is not defined",
     "output_type": "error",
     "traceback": [
      "\u001b[0;31m---------------------------------------------------------------------------\u001b[0m",
      "\u001b[0;31mNameError\u001b[0m                                 Traceback (most recent call last)",
      "Cell \u001b[0;32mIn[2], line 1\u001b[0m\n\u001b[0;32m----> 1\u001b[0m \u001b[43mrx\u001b[49m[\u001b[38;5;124m'\u001b[39m\u001b[38;5;124maccount\u001b[39m\u001b[38;5;124m'\u001b[39m]\n",
      "\u001b[0;31mNameError\u001b[0m: name 'rx' is not defined"
     ]
    }
   ],
   "source": [
    "rx['account']"
   ]
  },
  {
   "cell_type": "code",
   "execution_count": null,
   "id": "76cac23a",
   "metadata": {},
   "outputs": [],
   "source": []
  },
  {
   "cell_type": "code",
   "execution_count": null,
   "id": "e1e1f78b",
   "metadata": {},
   "outputs": [],
   "source": []
  }
 ],
 "metadata": {
  "kernelspec": {
   "display_name": "Python 3 (ipykernel)",
   "language": "python",
   "name": "python3"
  },
  "language_info": {
   "codemirror_mode": {
    "name": "ipython",
    "version": 3
   },
   "file_extension": ".py",
   "mimetype": "text/x-python",
   "name": "python",
   "nbconvert_exporter": "python",
   "pygments_lexer": "ipython3",
   "version": "3.11.6"
  }
 },
 "nbformat": 4,
 "nbformat_minor": 5
}
